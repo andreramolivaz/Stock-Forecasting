{
 "cells": [
  {
   "cell_type": "markdown",
   "source": [
    "# Reinforcement Learning"
   ],
   "metadata": {
    "collapsed": false
   },
   "id": "ba14fa86b7707f83"
  },
  {
   "cell_type": "markdown",
   "source": [
    "# Introduction\n",
    "\n",
    "Reinforcement Learning is a branch of machine learning that focuses on how agents should act in an environment to maximize a notion of cumulative reward. Unlike supervised learning, where algorithms are trained on labeled examples, RL learns from a trial-and-error process based on the environment's responses to its actions.\n",
    "\n",
    "Differences between RL and other learning methods:\n",
    "\n",
    "- **Supervised learning**: Algorithms learn from labeled examples, trying to predict label based on the training set;\n",
    "- **Unsupervised learning**: Algorithms try to find patterns in the data, without any labels;\n",
    "- **Reinforcement learning**: Agent learns to make decision through rewards (or punishments) received from its actions.\n",
    "\n",
    "**Key elements:**\n",
    "\n",
    "- Agent:\n",
    "\n",
    "    - **Definition**: The agent is the entity that makes decisions and learns through interaction with the environment. In RL, the agent chooses actions to take based on its current policy.\n",
    "    - **Role in RL**: The agent is at the center of learning in RL. Its goal is to learn the best possible policy, that is, a map from states to actions, to maximize the total reward collected over time. \n",
    "\n",
    "- Enviroment:\n",
    "\n",
    "    - **Definition**: Environment represents the context or world in which the agent operates. It includes anything that the agent can interact with but does not have direct control over;\n",
    "    - **Interaction with the agent**: The environment responds to the agent's actions and presents new states and rewards to the agent. The nature of the environment can vary from simple and static to complex and dynamic.\n",
    "\n",
    "- State:\n",
    "\n",
    "    - **Definition**: A state is a configuration or representation of the environment at a given time. States provide the information the agent needs to make decisions.\n",
    "    - **Importance**: The quality and quantity of information available in states can significantly influence the effectiveness of agent learning.\n",
    "\n",
    "- Action:\n",
    "\n",
    "    - **Definition**: Actions are the various behaviors or moves that the agent can perform. The set of all available actions is known as the action space.\n",
    "    - **Action-Stata dynamics**: Every action taken by the agent affects the state of the environment. The relationship between actions and their consequence on states is fundamental to the agent's decision making. \n",
    "\n",
    "- Reward:\n",
    "\n",
    "    - **Definnition**: A reward is immediate feedback provided to the agent by the environment as a consequence of his or her actions. Rewards can be positive (to encourage certain actions) or negative (to discourage certain actions).\n",
    "    - **Role in learning**: Rewards are the main guide for the agent in the learning process. The agent's goal is to maximize the sum of rewards over time, often referred to as return.\n",
    "\n",
    "- Policy:\n",
    "\n",
    "    - **Definition**: A policy is a strategy adopted by the agent, a kind of rule or algorithm that decides what action to take based on the current state.\n",
    "    - **Types**: Policies can be deterministic or stochastic. A deterministic policy always provides the same action for a given state, while a stochastic policy selects actions according to a probability distribution.\n",
    "\n",
    "- Evaluation functions:\n",
    "\n",
    "    - **Goal**: These functions help the agent evaluate the effectiveness of his or her actions and policies.\n",
    "    - **Types**:\n",
    "        - **Value function**: Estimates the expected return from a state following a given policy.\n",
    "        - **Q-Value function**: also known as **Action-Value function**. Estimates the expected return for a state-action pair.\n",
    "\n",
    "- Model:\n",
    "\n",
    "    - **Description**: A model is an internal representation of the environment that the agent uses to predict how the environment will respond to its actions.\n",
    "    - **Model-based vs model-free RL**: In model-based RL, the agent uses an explicit model of the environment to plan its actions. In model-free RL, the agent learns directly from interactions with the environment without an explicit model."
   ],
   "metadata": {
    "collapsed": false
   },
   "id": "311b6c11919b8eb2"
  },
  {
   "cell_type": "markdown",
   "source": [
    "# Theoretical concepts\n",
    "\n",
    "#### 1. Markov Decision Process\n",
    "\n",
    "The Markov Decision Process (MDP) is a fundamental mathematical framework in the field of Reinforcement Learning. It provides a formalization for decision-making in uncertain and dynamic situations. An MDP is characterized by a set of states, a set of actions, transition probabilities and reward functions.\n",
    "\n",
    "Key MDP elements:\n",
    "\n",
    "- **States**: A set of states $S$ represents all the possible configurations the environment can be in.\n",
    "- **Actions**: A set of actions $A$ that the agent can take. The set of available actions may depend on the current state.\n",
    "- **Transition probability**: A transaction function $P(s_{t+1} | s_t, a_t)$ which defines the probability of transition to the state $s_{t+1}$ given the current state $s_t$ and action $a_t$.\n",
    "- **Reward**: A reward function $R(s_t, a_t, s_{t+1})$ which assigns a reward (or a punishment) to the agent for the transition from state $s_t$ to state $s_{t+1}$ after taking action $a_t$.\n",
    "\n",
    "The fundamental property of an MDP is the \"Markov property,\" which states that the future is independent of the past given the present. This means that the transition probability and reward depend only on the current state and the action taken, not on the history of previous actions or states.\n",
    "\n",
    "#### 2. Reward and evaluation function\n",
    " \n",
    "In the context of Reinforcement Learning, the reward and evaluation function are central concepts that guide agent learning and decision-making. This chapter explores the nature of these components and their role in RL.\n",
    "\n",
    "Reward:\n",
    "\n",
    "- **Definition**: A reward is a scalar value that represents the immediate feedback provided to the agent by the environment as a consequence of his or her actions. Rewards can be positive (to encourage certain actions) or negative (to discourage certain actions).\n",
    "- **Role in learning**: Rewards are the main guide for the agent in the learning process. The agent's goal is to maximize the sum of rewards over time, often referred to as return.\n",
    "\n",
    "Evaluation function:\n",
    " \n",
    "- **Value function**: The value function, denoted as $V(s)$, estimates the expected total return from a states following a given policy. It provides a measure of the goodness-of-fit of a state.\n",
    "- **Q-value function**: The Q-value function, or action-value function, denoted as $Q(s, a)$, evaluates the action $a$ in the state $s$. It estimates the expected return following the action $a$ in the state $s$ and then adhering to a specific policy. \n",
    "\n",
    "#### 3. Common RL algorithms\n",
    "\n",
    "- Q-learning is a model-free learning method that seeks to learn an optimal policy independently of the agent's current action.\n",
    "The algorithm iteratively updates the Q-value estimates for each state-action pair using the Q-learning update formula, based on the reward received and the maximum Q-value of the next state. Q-learning is widely used for problems with discrete state and action spaces and is well suited to situations with uncertain environmental dynamics.\n",
    "\n",
    "\n",
    "- SARSA is a model-based differential time learning (TD) algorithm.\n",
    "Unlike Q-learning, SARSA updates its Q-values based on the agent's current policy (on-policy). The update considers the current transition and the next action the agent intends to perform. SARSA is useful in environments where risk assessment and safety considerations are important because it takes into account the actual path the agent plans to follow.\n",
    "\n",
    "Some remarks:\n",
    "- **Exploration vs. exploitation**: A key aspect in RL is the balance between exploration (trying new actions) and exploitation (using acquired knowledge). RL algorithms must effectively manage this balance;\n",
    "- **Scalability and complexity**: the scalability of algorithms in environments with large state and action spaces is a significant challenge. Methods such as deep learning have been integrated into RL to address this challenge."
   ],
   "metadata": {
    "collapsed": false
   },
   "id": "55430e14daeb171f"
  },
  {
   "cell_type": "markdown",
   "source": [
    "# Use of RL in finance\n",
    "\n",
    "In trading, RL can be used to develop automated strategies that decide when to buy, sell, or hold a stock or cryptocurrency.\n",
    "Financial markets are complex, noisy, and nonstationary, making trading an ideal challenge for RL, which can adapt to such dynamic conditions.\n",
    "\n",
    "Challenges:\n",
    "\n",
    "- Financial data are often noisy and exhibit nonstationarity, which can lead to overfitting and inconsistent model performance.\n",
    "- Markets change rapidly, and what has worked in the past may no longer be valid, requiring the model to continually adapt.\n",
    "\n",
    "Pros of using RL:\n",
    "\n",
    "- **Automation and Scalability**: The RL can automate trading decisions and operate on a large scale, analyzing huge amounts of data more efficiently than human analysis.\n",
    "- **Adaptability**: RL models can dynamically adapt to changes in the market, continuously learning from new data.\n",
    "- **High Performance Potential**: When configured well, RL models can potentially outperform traditional strategies and human traders, especially in highly volatile markets.\n",
    "\n",
    "Common approaches:\n",
    "\n",
    "- **Deep reinforcement learning**: The use of deep neural networks to handle the complexity of market data and capture nonlinear relationships.\n",
    "- **Optimized exploration strategies**: Development of exploration methods that balance between learning from historical market situations and exploring new trading strategies.\n"
   ],
   "metadata": {
    "collapsed": false
   },
   "id": "a10463acab5730d4"
  },
  {
   "cell_type": "markdown",
   "source": [
    "### Practical implementation\n",
    "\n",
    "#### Introduction to Financial Market Simulation with Gym-MTSim\n",
    "\n",
    "In this section of our Jupyter Notebook, we explore the world of financial market simulation using the `gym_mtsim` library, an extension of OpenAI's Gym. The Gym library provides a standardized interface for reinforcement learning (RL) tasks, and `gym_mtsim` specifically caters to financial market simulations, offering a unique and practical approach for testing and developing financial strategies in a controlled, simulated environment.\n",
    "\n",
    "The code snippet provided initializes various environments that simulate different financial markets and trading scenarios. Each environment corresponds to a unique market type or strategy:\n",
    "\n",
    "1. **Forex Markets (Hedged and Unhedged):** \n",
    "   - `forex-hedge-v0` simulates a foreign exchange (Forex) market with a hedging strategy.\n",
    "   - `forex-unhedge-v0` represents the Forex market without a hedging strategy.\n",
    "\n",
    "2. **Stock Markets (Hedged and Unhedged):**\n",
    "   - `stocks-hedge-v0` sets up a simulated environment for stock market trading with a hedging strategy.\n",
    "   - `stocks-unhedge-v0` offers a simulation of stock market trading without the use of hedging.\n",
    "\n",
    "3. **Cryptocurrency Markets (Hedged and Unhedged):**\n",
    "   - `crypto-hedge-v0` is tailored for cryptocurrency market simulations implementing hedging strategies.\n",
    "   - `crypto-unhedge-v0` provides a crypto market environment without hedging.\n",
    "\n",
    "4. **Mixed Asset Markets (Hedged and Unhedged):**\n",
    "   - `mixed-hedge-v0` creates a diverse market environment with multiple asset types, using hedging strategies.\n",
    "   - `mixed-unhedge-v0` simulates a mixed asset market without the use of hedging strategies.\n",
    "\n",
    "Each of these environments can be used to train and evaluate RL models, providing insights into different trading strategies and market behaviors. This approach is invaluable for researchers and practitioners in the field of quantitative finance, offering a risk-free platform to experiment and refine trading algorithms.\n"
   ],
   "metadata": {
    "collapsed": false
   },
   "id": "7b4194683da6b689"
  },
  {
   "cell_type": "code",
   "outputs": [
    {
     "name": "stderr",
     "output_type": "stream",
     "text": [
      "/opt/homebrew/Caskroom/miniconda/base/envs/dwm/lib/python3.11/site-packages/gym/utils/passive_env_checker.py:31: UserWarning:\n",
      "\n",
      "\u001B[33mWARN: A Box observation space has an unconventional shape (neither an image, nor a 1D vector). We recommend flattening the observation to have only a 1D vector or use a custom policy to properly process the data. Actual observation shape: (10, 6)\u001B[0m\n",
      "\n",
      "/opt/homebrew/Caskroom/miniconda/base/envs/dwm/lib/python3.11/site-packages/gym/utils/passive_env_checker.py:20: UserWarning:\n",
      "\n",
      "\u001B[33mWARN: It seems a Box observation space is an image but the `dtype` is not `np.uint8`, actual type: float64. If the Box observation space is not an image, we recommend flattening the observation to have only a 1D vector.\u001B[0m\n",
      "\n",
      "/opt/homebrew/Caskroom/miniconda/base/envs/dwm/lib/python3.11/site-packages/gym/utils/passive_env_checker.py:25: UserWarning:\n",
      "\n",
      "\u001B[33mWARN: It seems a Box observation space is an image but the upper and lower bounds are not in [0, 255]. Generally, CNN policies assume observations are within that range, so you may encounter an issue if the observation values are not.\u001B[0m\n",
      "\n"
     ]
    }
   ],
   "source": [
    "import gym\n",
    "import gym_mtsim\n",
    "\n",
    "env = gym.make('forex-hedge-v0')\n",
    "# env = gym.make('stocks-hedge-v0')\n",
    "# env = gym.make('crypto-hedge-v0')\n",
    "# env = gym.make('mixed-hedge-v0')\n",
    "\n",
    "# env = gym.make('forex-unhedge-v0')\n",
    "# env = gym.make('stocks-unhedge-v0')\n",
    "# env = gym.make('crypto-unhedge-v0')\n",
    "# env = gym.make('mixed-unhedge-v0')"
   ],
   "metadata": {
    "collapsed": false,
    "ExecuteTime": {
     "end_time": "2024-01-15T14:35:13.187577Z",
     "start_time": "2024-01-15T14:35:13.077162Z"
    }
   },
   "id": "7c299f4c0e8b29a8",
   "execution_count": 68
  },
  {
   "cell_type": "markdown",
   "source": [
    "### Setting Up a Reinforcement Learning Environment for Forex Trading with Gym-MTSim\n",
    "\n",
    "In this section of our Jupyter Notebook, we delve into setting up a more advanced financial market simulation environment using `gym_mtsim`. This setup is specifically tailored for reinforcement learning (RL) applications in Forex trading. Our focus is to demonstrate how RL can be applied in the complex and dynamic world of foreign exchange markets.\n",
    "\n",
    "The provided code snippet establishes a simulated trading environment, which is a critical step for training RL agents. Here's a detailed breakdown of the components and their roles:\n",
    "\n",
    "1. **Importing Necessary Libraries and Modules:**\n",
    "   - `pytz`: For timezone operations, crucial in time-sensitive financial markets.\n",
    "   - `datetime`, `timedelta`: For handling date and time, essential for simulating real-time market scenarios.\n",
    "   - `numpy`: A fundamental package for scientific computing, used here for statistical operations.\n",
    "   - `gym_mtsim`: The core library for creating the Forex market simulation environment.\n",
    "   - `MtEnv`, `MtSimulator`, `FOREX_DATA_PATH`: Specific classes and constants from `gym_mtsim` used for setting up the environment.\n",
    "\n",
    "2. **Initializing the Market Simulator (`MtSimulator`):**\n",
    "   - **Currency and Balance:** The simulation uses USD as the base unit with an initial balance of $10,000.\n",
    "   - **Leverage and Risk Management:** A leverage of 100x is set, along with a stop-out level at 20% to manage risk.\n",
    "   - **Hedging:** The simulator is configured to allow hedging strategies.\n",
    "   - **Market Data:** The `symbols_filename` parameter points to the Forex market data source.\n",
    "\n",
    "3. **Creating the Trading Environment (`MtEnv`):**\n",
    "   - **Trading Symbols:** We focus on three currency pairs: GBPCAD, EURUSD, and USDJPY.\n",
    "   - **Window Size:** A window size of 10 is set, determining how much past data is visible to the agent at any point.\n",
    "   - **Thresholds for Holding and Closing Positions:** Both set to 0.5, dictating the agent's decision-making criteria.\n",
    "   - **Trading Fees:** Dynamically calculated based on the currency pair, introducing a realistic aspect of cost in trading.\n",
    "   - **Order Limits and Parallel Processing:** Each symbol can have up to 2 orders, and the environment supports multiprocessing with 2 processes.\n",
    "\n",
    "This setup provides a rich and realistic environment for training RL agents. The agents can learn and adapt their trading strategies based on historical data, market conditions, and transaction costs. The complexity of this environment, with its multiple currency pairs and dynamic fee structure, offers a challenging yet rewarding platform for exploring the capabilities of RL in Forex trading.\n",
    "\n",
    "In the following parts of the notebook, we will introduce the RL concepts and algorithms, and demonstrate how they can be trained within this environment to make informed trading decisions. This practical application not only showcases the power of RL in financial decision-making but also provides a hands-on experience in applying advanced AI techniques in the domain of quantitative finance."
   ],
   "metadata": {
    "collapsed": false
   },
   "id": "4a4fe89cc06c6830"
  },
  {
   "cell_type": "code",
   "outputs": [],
   "source": [
    "import pytz\n",
    "from datetime import datetime, timedelta\n",
    "import numpy as np\n",
    "from gym_mtsim import MtEnv, MtSimulator, FOREX_DATA_PATH\n",
    "\n",
    "\n",
    "sim = MtSimulator(\n",
    "    unit='USD',\n",
    "    balance=10000.,\n",
    "    leverage=100.,\n",
    "    stop_out_level=0.2,\n",
    "    hedge=True,\n",
    "    symbols_filename=FOREX_DATA_PATH\n",
    ")\n",
    "\n",
    "env = MtEnv(\n",
    "    original_simulator=sim,\n",
    "    trading_symbols=['GBPCAD', 'EURUSD', 'USDJPY'],\n",
    "    window_size=10,\n",
    "    # time_points=[desired time points ...],\n",
    "    hold_threshold=0.5,\n",
    "    close_threshold=0.5,\n",
    "    fee=lambda symbol: {\n",
    "        'GBPCAD': max(0., np.random.normal(0.0007, 0.00005)),\n",
    "        'EURUSD': max(0., np.random.normal(0.0002, 0.00003)),\n",
    "        'USDJPY': max(0., np.random.normal(0.02, 0.003)),\n",
    "    }[symbol],\n",
    "    symbol_max_orders=2,\n",
    "    multiprocessing_processes=2\n",
    ")"
   ],
   "metadata": {
    "collapsed": false,
    "ExecuteTime": {
     "end_time": "2024-01-15T14:35:13.364570Z",
     "start_time": "2024-01-15T14:35:13.151561Z"
    }
   },
   "id": "726db832e6d2161",
   "execution_count": 69
  },
  {
   "cell_type": "code",
   "outputs": [
    {
     "name": "stdout",
     "output_type": "stream",
     "text": [
      "prices[GBPCAD].shape: (88, 2)\n",
      "prices[EURUSD].shape: (88, 2)\n",
      "prices[USDJPY].shape: (88, 2)\n",
      "signal_features.shape: (88, 6)\n",
      "features_shape: (10, 6)\n"
     ]
    }
   ],
   "source": [
    "for symbol in env.prices:\n",
    "    print(f\"prices[{symbol}].shape:\", env.prices[symbol].shape)\n",
    "\n",
    "print(\"signal_features.shape:\", env.signal_features.shape)\n",
    "print(\"features_shape:\", env.features_shape)"
   ],
   "metadata": {
    "collapsed": false,
    "ExecuteTime": {
     "end_time": "2024-01-15T14:35:13.368794Z",
     "start_time": "2024-01-15T14:35:13.365462Z"
    }
   },
   "id": "7ea3daacf7b468f6",
   "execution_count": 70
  },
  {
   "cell_type": "markdown",
   "source": [
    "In this section of our Jupyter Notebook, we demonstrate a basic loop for simulating a trading environment using the setup we previously created with `gym_mtsim`. This loop is fundamental for training reinforcement learning (RL) agents, where they interact with the environment, receive feedback (rewards), and adjust their actions accordingly.\n",
    "\n",
    "Here's a detailed explanation of the code snippet and its role in the RL context:\n",
    "\n",
    "1. **Environment Reset (`env.reset()`):**\n",
    "   - This initializes or resets the environment to a starting state. It's akin to starting a new trading day or session, where the RL agent begins with a clean slate.\n",
    "   - The `reset` method returns an initial observation, providing the agent with the current state of the market.\n",
    "\n",
    "2. **Trading Loop:**\n",
    "   - The `while True:` loop represents the continuous process of trading in a market. Each iteration of the loop is analogous to a single step or action taken by the RL agent in the environment.\n",
    "\n",
    "3. **Sampling an Action (`env.action_space.sample()`):**\n",
    "   - At each step, an action is selected randomly from the action space. In a more sophisticated RL setup, this is where the agent's policy or decision-making logic would determine the action based on the current state (observation).\n",
    "   - The action could involve buying, selling, holding, or other trading actions specific to the environment's design.\n",
    "\n",
    "4. **Taking a Step (`env.step(action)`):**\n",
    "   - The `step` method advances the environment by one time step using the chosen action. It returns several important pieces of information:\n",
    "     - `observation`: The new state of the market after the action is taken.\n",
    "     - `reward`: The immediate reward received after taking the action, which is crucial for RL as it guides the agent's learning process.\n",
    "     - `done`: A boolean indicating whether the episode (trading session) has ended (e.g., due to bankruptcy, reaching a time limit, etc.).\n",
    "     - `info`: A dictionary containing supplementary information such as balance, equity, margin levels, etc.\n",
    "\n",
    "5. **Handling the End of an Episode (`if done:`):**\n",
    "   - If `done` is True, it signals the end of the trading episode. This can trigger the agent to evaluate its performance and learn from the episode.\n",
    "   - The code then prints out important financial metrics from the `info` dictionary:\n",
    "     - `balance`, `equity`, `margin`, `free_margin`, and `margin_level` provide insights into the financial status at the end of the episode.\n",
    "     - `step_reward` gives the reward obtained in the final step, which could be used for further analysis or learning.\n",
    "\n",
    "This loop forms the core of an RL training process in financial market simulation. In a complete RL application, the agent would not randomly select actions but instead follow a strategy based on its learning and the observed states. The\n",
    "\n",
    "feedback from the environment in terms of rewards and state transitions guides the agent to refine its strategy over time, aiming to maximize cumulative rewards, which in the context of trading, could align with maximizing profit or minimizing risk.\n",
    "\n",
    "In subsequent sections of our notebook, we will explore how to replace the random action selection with a decision-making policy driven by RL algorithms. We will also look into how the agent learns from the environment's feedback, adjusts its trading strategy, and improves its performance over successive trading episodes. This iterative learning process is at the heart of applying RL in financial trading simulations, providing valuable insights and practical skills in leveraging AI for quantitative finance."
   ],
   "metadata": {
    "collapsed": false
   },
   "id": "38fc05aa2c97d8f1"
  },
  {
   "cell_type": "code",
   "outputs": [
    {
     "name": "stdout",
     "output_type": "stream",
     "text": [
      "balance: 5352.078139709921, equity: 5352.078139709921, margin: 0.0\n",
      "free_margin: 5352.078139709921, margin_level: inf\n",
      "step_reward: 0.0\n"
     ]
    }
   ],
   "source": [
    "observation = env.reset()\n",
    "\n",
    "while True:\n",
    "    action = env.action_space.sample()\n",
    "    observation, reward, done, info = env.step(action)\n",
    "\n",
    "    if done:\n",
    "        # print(info)\n",
    "        print(\n",
    "            f\"balance: {info['balance']}, equity: {info['equity']}, margin: {info['margin']}\\n\"\n",
    "            f\"free_margin: {info['free_margin']}, margin_level: {info['margin_level']}\\n\"\n",
    "            f\"step_reward: {info['step_reward']}\"\n",
    "        )\n",
    "        break"
   ],
   "metadata": {
    "collapsed": false,
    "ExecuteTime": {
     "end_time": "2024-01-15T14:35:13.404404Z",
     "start_time": "2024-01-15T14:35:13.369709Z"
    }
   },
   "id": "f7a0bea4352efc51",
   "execution_count": 71
  },
  {
   "cell_type": "markdown",
   "source": [
    "Printing the results"
   ],
   "metadata": {
    "collapsed": false
   },
   "id": "6b3cb003a7150c21"
  },
  {
   "cell_type": "code",
   "outputs": [
    {
     "name": "stdout",
     "output_type": "stream",
     "text": [
      "balance: 5352.078139709921, equity: 5352.078139709921, margin: 0.0\n",
      "free_margin: 5352.078139709921, margin_level: inf\n"
     ]
    },
    {
     "data": {
      "text/plain": "   Id  Symbol  Type  Volume                Entry Time  Entry Price  \\\n0   5  USDJPY   Buy    2.22 2021-08-06 00:00:00+00:00    110.21700   \n1   4  USDJPY   Buy    3.72 2021-07-28 00:00:00+00:00    109.90900   \n2   3  GBPCAD   Buy    1.91 2021-07-16 00:00:00+00:00      1.73684   \n3   2  EURUSD  Sell    5.64 2021-06-23 00:00:00+00:00      1.19258   \n4   1  GBPCAD  Sell    0.12 2021-06-14 00:00:00+00:00      1.71341   \n\n                  Exit Time  Exit Price       Profit       Margin       Fee  \\\n0 2021-08-09 00:00:00+00:00   110.26700    56.472819  2220.000000  0.021950   \n1 2021-07-29 00:00:00+00:00   109.47000 -1569.555993  3720.000000  0.022880   \n2 2021-07-21 00:00:00+00:00     1.72183 -2391.374337  2629.177254  0.000715   \n3 2021-06-25 00:00:00+00:00     1.19370  -722.437232  6726.151200  0.000161   \n4 2021-06-15 00:00:00+00:00     1.71492   -21.027117   169.313471  0.000625   \n\n   Closed  \n0    True  \n1    True  \n2    True  \n3    True  \n4    True  ",
      "text/html": "<div>\n<style scoped>\n    .dataframe tbody tr th:only-of-type {\n        vertical-align: middle;\n    }\n\n    .dataframe tbody tr th {\n        vertical-align: top;\n    }\n\n    .dataframe thead th {\n        text-align: right;\n    }\n</style>\n<table border=\"1\" class=\"dataframe\">\n  <thead>\n    <tr style=\"text-align: right;\">\n      <th></th>\n      <th>Id</th>\n      <th>Symbol</th>\n      <th>Type</th>\n      <th>Volume</th>\n      <th>Entry Time</th>\n      <th>Entry Price</th>\n      <th>Exit Time</th>\n      <th>Exit Price</th>\n      <th>Profit</th>\n      <th>Margin</th>\n      <th>Fee</th>\n      <th>Closed</th>\n    </tr>\n  </thead>\n  <tbody>\n    <tr>\n      <th>0</th>\n      <td>5</td>\n      <td>USDJPY</td>\n      <td>Buy</td>\n      <td>2.22</td>\n      <td>2021-08-06 00:00:00+00:00</td>\n      <td>110.21700</td>\n      <td>2021-08-09 00:00:00+00:00</td>\n      <td>110.26700</td>\n      <td>56.472819</td>\n      <td>2220.000000</td>\n      <td>0.021950</td>\n      <td>True</td>\n    </tr>\n    <tr>\n      <th>1</th>\n      <td>4</td>\n      <td>USDJPY</td>\n      <td>Buy</td>\n      <td>3.72</td>\n      <td>2021-07-28 00:00:00+00:00</td>\n      <td>109.90900</td>\n      <td>2021-07-29 00:00:00+00:00</td>\n      <td>109.47000</td>\n      <td>-1569.555993</td>\n      <td>3720.000000</td>\n      <td>0.022880</td>\n      <td>True</td>\n    </tr>\n    <tr>\n      <th>2</th>\n      <td>3</td>\n      <td>GBPCAD</td>\n      <td>Buy</td>\n      <td>1.91</td>\n      <td>2021-07-16 00:00:00+00:00</td>\n      <td>1.73684</td>\n      <td>2021-07-21 00:00:00+00:00</td>\n      <td>1.72183</td>\n      <td>-2391.374337</td>\n      <td>2629.177254</td>\n      <td>0.000715</td>\n      <td>True</td>\n    </tr>\n    <tr>\n      <th>3</th>\n      <td>2</td>\n      <td>EURUSD</td>\n      <td>Sell</td>\n      <td>5.64</td>\n      <td>2021-06-23 00:00:00+00:00</td>\n      <td>1.19258</td>\n      <td>2021-06-25 00:00:00+00:00</td>\n      <td>1.19370</td>\n      <td>-722.437232</td>\n      <td>6726.151200</td>\n      <td>0.000161</td>\n      <td>True</td>\n    </tr>\n    <tr>\n      <th>4</th>\n      <td>1</td>\n      <td>GBPCAD</td>\n      <td>Sell</td>\n      <td>0.12</td>\n      <td>2021-06-14 00:00:00+00:00</td>\n      <td>1.71341</td>\n      <td>2021-06-15 00:00:00+00:00</td>\n      <td>1.71492</td>\n      <td>-21.027117</td>\n      <td>169.313471</td>\n      <td>0.000625</td>\n      <td>True</td>\n    </tr>\n  </tbody>\n</table>\n</div>"
     },
     "execution_count": 72,
     "metadata": {},
     "output_type": "execute_result"
    }
   ],
   "source": [
    "state = env.render()\n",
    "\n",
    "print(\n",
    "    f\"balance: {state['balance']}, equity: {state['equity']}, margin: {state['margin']}\\n\"\n",
    "    f\"free_margin: {state['free_margin']}, margin_level: {state['margin_level']}\\n\"\n",
    ")\n",
    "state['orders']"
   ],
   "metadata": {
    "collapsed": false,
    "ExecuteTime": {
     "end_time": "2024-01-15T14:35:13.405480Z",
     "start_time": "2024-01-15T14:35:13.392994Z"
    }
   },
   "id": "128f9d5d8daa80cd",
   "execution_count": 72
  },
  {
   "cell_type": "markdown",
   "source": [
    "Render in **simple_figure** mode\n",
    "- Each *symbol* is illustrated in a different color\n",
    "- The **green/red** triangle show successful **buy/sell** actions\n",
    "- The **grey** triangles indicate that the **buy/sell** actions encountered and **error**\n",
    "- The **black** vertical bars specify **close** actions"
   ],
   "metadata": {
    "collapsed": false
   },
   "id": "b04b6422437fe9eb"
  },
  {
   "cell_type": "code",
   "outputs": [
    {
     "data": {
      "text/plain": "<Figure size 1400x600 with 3 Axes>",
      "image/png": "[encoded data removed]"
     },
     "metadata": {},
     "output_type": "display_data"
    }
   ],
   "source": [
    "env.render('simple_figure')"
   ],
   "metadata": {
    "collapsed": false,
    "ExecuteTime": {
     "end_time": "2024-01-15T14:35:13.872559Z",
     "start_time": "2024-01-15T14:35:13.400568Z"
    }
   },
   "id": "d1691af035b30f17",
   "execution_count": 73
  },
  {
   "cell_type": "markdown",
   "source": [
    "Render in **advanced_mode** figure\n",
    "- Clicking on a symbol name will hide/show its plot\n",
    "- Hovering over points and markers will display their details\n",
    "- The size of the triangles indicates their relative volume"
   ],
   "metadata": {
    "collapsed": false
   },
   "id": "22d1a56cd8ab73d1"
  },
  {
   "cell_type": "code",
   "outputs": [
    {
     "data": {
      "application/vnd.plotly.v1+json": {
       "data": [
        {
         "hovertext": [
          "balance: 10000.000000 USD<br>equity: 10000.000000<br>margin: 0.000000<br>free margin: 10000.000000<br>margin level: inf",
          "balance: 10000.000000 USD<br>equity: 10000.000000<br>margin: 0.000000<br>free margin: 10000.000000<br>margin level: inf",
          "balance: 10000.000000 USD<br>equity: 10000.000000<br>margin: 0.000000<br>free margin: 10000.000000<br>margin level: inf",
          "balance: 10000.000000 USD<br>equity: 10000.000000<br>margin: 0.000000<br>free margin: 10000.000000<br>margin level: inf",
          "balance: 10000.000000 USD<br>equity: 10000.000000<br>margin: 0.000000<br>free margin: 10000.000000<br>margin level: inf",
          "balance: 10000.000000 USD<br>equity: 10000.000000<br>margin: 0.000000<br>free margin: 10000.000000<br>margin level: inf",
          "balance: 10000.000000 USD<br>equity: 10000.000000<br>margin: 0.000000<br>free margin: 10000.000000<br>margin level: inf",
          "balance: 10000.000000 USD<br>equity: 10000.000000<br>margin: 0.000000<br>free margin: 10000.000000<br>margin level: inf",
          "balance: 10000.000000 USD<br>equity: 10000.000000<br>margin: 0.000000<br>free margin: 10000.000000<br>margin level: inf",
          "balance: 10000.000000 USD<br>equity: 10000.000000<br>margin: 0.000000<br>free margin: 10000.000000<br>margin level: inf",
          "balance: 10000.000000 USD<br>equity: 10000.000000<br>margin: 0.000000<br>free margin: 10000.000000<br>margin level: inf",
          "balance: 10000.000000 USD<br>equity: 10000.000000<br>margin: 0.000000<br>free margin: 10000.000000<br>margin level: inf",
          "balance: 10000.000000 USD<br>equity: 10000.000000<br>margin: 0.000000<br>free margin: 10000.000000<br>margin level: inf",
          "balance: 10000.000000 USD<br>equity: 10000.000000<br>margin: 0.000000<br>free margin: 10000.000000<br>margin level: inf",
          "balance: 10000.000000 USD<br>equity: 10000.000000<br>margin: 0.000000<br>free margin: 10000.000000<br>margin level: inf",
          "balance: 10000.000000 USD<br>equity: 10000.000000<br>margin: 0.000000<br>free margin: 10000.000000<br>margin level: inf",
          "balance: 10000.000000 USD<br>equity: 10000.000000<br>margin: 0.000000<br>free margin: 10000.000000<br>margin level: inf",
          "balance: 10000.000000 USD<br>equity: 10000.000000<br>margin: 0.000000<br>free margin: 10000.000000<br>margin level: inf",
          "balance: 10000.000000 USD<br>equity: 10000.000000<br>margin: 0.000000<br>free margin: 10000.000000<br>margin level: inf",
          "balance: 10000.000000 USD<br>equity: 10000.000000<br>margin: 0.000000<br>free margin: 10000.000000<br>margin level: inf",
          "balance: 10000.000000 USD<br>equity: 10000.000000<br>margin: 0.000000<br>free margin: 10000.000000<br>margin level: inf",
          "balance: 10000.000000 USD<br>equity: 10000.000000<br>margin: 0.000000<br>free margin: 10000.000000<br>margin level: inf",
          "balance: 10000.000000 USD<br>equity: 10000.000000<br>margin: 0.000000<br>free margin: 10000.000000<br>margin level: inf",
          "balance: 10000.000000 USD<br>equity: 10000.000000<br>margin: 0.000000<br>free margin: 10000.000000<br>margin level: inf",
          "balance: 10000.000000 USD<br>equity: 10000.000000<br>margin: 0.000000<br>free margin: 10000.000000<br>margin level: inf",
          "balance: 10000.000000 USD<br>equity: 10000.000000<br>margin: 0.000000<br>free margin: 10000.000000<br>margin level: inf",
          "balance: 10000.000000 USD<br>equity: 10000.000000<br>margin: 0.000000<br>free margin: 10000.000000<br>margin level: inf",
          "balance: 10000.000000 USD<br>equity: 10000.000000<br>margin: 0.000000<br>free margin: 10000.000000<br>margin level: inf",
          "balance: 10000.000000 USD<br>equity: 10000.000000<br>margin: 0.000000<br>free margin: 10000.000000<br>margin level: inf",
          "balance: 10000.000000 USD<br>equity: 9978.972883<br>margin: 169.313471<br>free margin: 9809.659412<br>margin level: 58.937855",
          "balance: 9978.972883 USD<br>equity: 9978.972883<br>margin: 0.000000<br>free margin: 9978.972883<br>margin level: inf",
          "balance: 9978.972883 USD<br>equity: 9978.972883<br>margin: 0.000000<br>free margin: 9978.972883<br>margin level: inf",
          "balance: 9978.972883 USD<br>equity: 9978.972883<br>margin: 0.000000<br>free margin: 9978.972883<br>margin level: inf",
          "balance: 9978.972883 USD<br>equity: 9978.972883<br>margin: 0.000000<br>free margin: 9978.972883<br>margin level: inf",
          "balance: 9978.972883 USD<br>equity: 9978.972883<br>margin: 0.000000<br>free margin: 9978.972883<br>margin level: inf",
          "balance: 9978.972883 USD<br>equity: 9978.972883<br>margin: 0.000000<br>free margin: 9978.972883<br>margin level: inf",
          "balance: 9978.972883 USD<br>equity: 9566.735650<br>margin: 6726.151200<br>free margin: 2840.584450<br>margin level: 1.422319",
          "balance: 9978.972883 USD<br>equity: 9256.535650<br>margin: 6726.151200<br>free margin: 2530.384450<br>margin level: 1.376201",
          "balance: 9256.535650 USD<br>equity: 9256.535650<br>margin: 0.000000<br>free margin: 9256.535650<br>margin level: inf",
          "balance: 9256.535650 USD<br>equity: 9256.535650<br>margin: 0.000000<br>free margin: 9256.535650<br>margin level: inf",
          "balance: 9256.535650 USD<br>equity: 9256.535650<br>margin: 0.000000<br>free margin: 9256.535650<br>margin level: inf",
          "balance: 9256.535650 USD<br>equity: 9256.535650<br>margin: 0.000000<br>free margin: 9256.535650<br>margin level: inf",
          "balance: 9256.535650 USD<br>equity: 9256.535650<br>margin: 0.000000<br>free margin: 9256.535650<br>margin level: inf",
          "balance: 9256.535650 USD<br>equity: 9256.535650<br>margin: 0.000000<br>free margin: 9256.535650<br>margin level: inf",
          "balance: 9256.535650 USD<br>equity: 9256.535650<br>margin: 0.000000<br>free margin: 9256.535650<br>margin level: inf",
          "balance: 9256.535650 USD<br>equity: 9256.535650<br>margin: 0.000000<br>free margin: 9256.535650<br>margin level: inf",
          "balance: 9256.535650 USD<br>equity: 9256.535650<br>margin: 0.000000<br>free margin: 9256.535650<br>margin level: inf",
          "balance: 9256.535650 USD<br>equity: 9256.535650<br>margin: 0.000000<br>free margin: 9256.535650<br>margin level: inf",
          "balance: 9256.535650 USD<br>equity: 9256.535650<br>margin: 0.000000<br>free margin: 9256.535650<br>margin level: inf",
          "balance: 9256.535650 USD<br>equity: 9256.535650<br>margin: 0.000000<br>free margin: 9256.535650<br>margin level: inf",
          "balance: 9256.535650 USD<br>equity: 9256.535650<br>margin: 0.000000<br>free margin: 9256.535650<br>margin level: inf",
          "balance: 9256.535650 USD<br>equity: 9256.535650<br>margin: 0.000000<br>free margin: 9256.535650<br>margin level: inf",
          "balance: 9256.535650 USD<br>equity: 9256.535650<br>margin: 0.000000<br>free margin: 9256.535650<br>margin level: inf",
          "balance: 9256.535650 USD<br>equity: 9988.520392<br>margin: 2629.177254<br>free margin: 7359.343138<br>margin level: 3.799105",
          "balance: 9256.535650 USD<br>equity: 7723.733752<br>margin: 2629.177254<br>free margin: 5094.556498<br>margin level: 2.937700",
          "balance: 9256.535650 USD<br>equity: 6865.161313<br>margin: 2629.177254<br>free margin: 4235.984059<br>margin level: 2.611144",
          "balance: 6865.161313 USD<br>equity: 6865.161313<br>margin: 0.000000<br>free margin: 6865.161313<br>margin level: inf",
          "balance: 6865.161313 USD<br>equity: 6865.161313<br>margin: 0.000000<br>free margin: 6865.161313<br>margin level: inf",
          "balance: 6865.161313 USD<br>equity: 6865.161313<br>margin: 0.000000<br>free margin: 6865.161313<br>margin level: inf",
          "balance: 6865.161313 USD<br>equity: 6865.161313<br>margin: 0.000000<br>free margin: 6865.161313<br>margin level: inf",
          "balance: 6865.161313 USD<br>equity: 6865.161313<br>margin: 0.000000<br>free margin: 6865.161313<br>margin level: inf",
          "balance: 6865.161313 USD<br>equity: 5295.605321<br>margin: 3720.000000<br>free margin: 1575.605321<br>margin level: 1.423550",
          "balance: 5295.605321 USD<br>equity: 5295.605321<br>margin: 0.000000<br>free margin: 5295.605321<br>margin level: inf",
          "balance: 5295.605321 USD<br>equity: 5295.605321<br>margin: 0.000000<br>free margin: 5295.605321<br>margin level: inf",
          "balance: 5295.605321 USD<br>equity: 5295.605321<br>margin: 0.000000<br>free margin: 5295.605321<br>margin level: inf",
          "balance: 5295.605321 USD<br>equity: 5295.605321<br>margin: 0.000000<br>free margin: 5295.605321<br>margin level: inf",
          "balance: 5295.605321 USD<br>equity: 5295.605321<br>margin: 0.000000<br>free margin: 5295.605321<br>margin level: inf",
          "balance: 5295.605321 USD<br>equity: 5295.605321<br>margin: 0.000000<br>free margin: 5295.605321<br>margin level: inf",
          "balance: 5295.605321 USD<br>equity: 5352.078140<br>margin: 2220.000000<br>free margin: 3132.078140<br>margin level: 2.410846",
          "balance: 5352.078140 USD<br>equity: 5352.078140<br>margin: 0.000000<br>free margin: 5352.078140<br>margin level: inf",
          "balance: 5352.078140 USD<br>equity: 5352.078140<br>margin: 0.000000<br>free margin: 5352.078140<br>margin level: inf",
          "balance: 5352.078140 USD<br>equity: 5352.078140<br>margin: 0.000000<br>free margin: 5352.078140<br>margin level: inf",
          "balance: 5352.078140 USD<br>equity: 5352.078140<br>margin: 0.000000<br>free margin: 5352.078140<br>margin level: inf",
          "balance: 5352.078140 USD<br>equity: 5352.078140<br>margin: 0.000000<br>free margin: 5352.078140<br>margin level: inf",
          "balance: 5352.078140 USD<br>equity: 5352.078140<br>margin: 0.000000<br>free margin: 5352.078140<br>margin level: inf",
          "balance: 5352.078140 USD<br>equity: 5352.078140<br>margin: 0.000000<br>free margin: 5352.078140<br>margin level: inf",
          "balance: 5352.078140 USD<br>equity: 5352.078140<br>margin: 0.000000<br>free margin: 5352.078140<br>margin level: inf",
          "balance: 5352.078140 USD<br>equity: 5352.078140<br>margin: 0.000000<br>free margin: 5352.078140<br>margin level: inf",
          "balance: 5352.078140 USD<br>equity: 5352.078140<br>margin: 0.000000<br>free margin: 5352.078140<br>margin level: inf",
          "balance: 5352.078140 USD<br>equity: 5352.078140<br>margin: 0.000000<br>free margin: 5352.078140<br>margin level: inf",
          "balance: 5352.078140 USD<br>equity: 5352.078140<br>margin: 0.000000<br>free margin: 5352.078140<br>margin level: inf",
          "balance: 5352.078140 USD<br>equity: 5352.078140<br>margin: 0.000000<br>free margin: 5352.078140<br>margin level: inf",
          "balance: 5352.078140 USD<br>equity: 5352.078140<br>margin: 0.000000<br>free margin: 5352.078140<br>margin level: inf",
          "balance: 5352.078140 USD<br>equity: 5352.078140<br>margin: 0.000000<br>free margin: 5352.078140<br>margin level: inf",
          "balance: 5352.078140 USD<br>equity: 5352.078140<br>margin: 0.000000<br>free margin: 5352.078140<br>margin level: inf",
          "balance: 5352.078140 USD<br>equity: 5352.078140<br>margin: 0.000000<br>free margin: 5352.078140<br>margin level: inf",
          "balance: 5352.078140 USD<br>equity: 5352.078140<br>margin: 0.000000<br>free margin: 5352.078140<br>margin level: inf",
          "balance: 5352.078140 USD<br>equity: 5352.078140<br>margin: 0.000000<br>free margin: 5352.078140<br>margin level: inf"
         ],
         "legendgroup": "g1",
         "line": {
          "color": "rgba(0.12156862745098039, 0.4666666666666667, 0.7058823529411765, 1.0)"
         },
         "mode": "lines+markers",
         "name": "GBPCAD",
         "opacity": 1.0,
         "x": [
          "2021-05-05T00:00:00+00:00",
          "2021-05-06T00:00:00+00:00",
          "2021-05-07T00:00:00+00:00",
          "2021-05-10T00:00:00+00:00",
          "2021-05-11T00:00:00+00:00",
          "2021-05-12T00:00:00+00:00",
          "2021-05-13T00:00:00+00:00",
          "2021-05-14T00:00:00+00:00",
          "2021-05-17T00:00:00+00:00",
          "2021-05-18T00:00:00+00:00",
          "2021-05-19T00:00:00+00:00",
          "2021-05-20T00:00:00+00:00",
          "2021-05-21T00:00:00+00:00",
          "2021-05-24T00:00:00+00:00",
          "2021-05-25T00:00:00+00:00",
          "2021-05-26T00:00:00+00:00",
          "2021-05-27T00:00:00+00:00",
          "2021-05-28T00:00:00+00:00",
          "2021-05-31T00:00:00+00:00",
          "2021-06-01T00:00:00+00:00",
          "2021-06-02T00:00:00+00:00",
          "2021-06-03T00:00:00+00:00",
          "2021-06-04T00:00:00+00:00",
          "2021-06-07T00:00:00+00:00",
          "2021-06-08T00:00:00+00:00",
          "2021-06-09T00:00:00+00:00",
          "2021-06-10T00:00:00+00:00",
          "2021-06-11T00:00:00+00:00",
          "2021-06-14T00:00:00+00:00",
          "2021-06-15T00:00:00+00:00",
          "2021-06-16T00:00:00+00:00",
          "2021-06-17T00:00:00+00:00",
          "2021-06-18T00:00:00+00:00",
          "2021-06-21T00:00:00+00:00",
          "2021-06-22T00:00:00+00:00",
          "2021-06-23T00:00:00+00:00",
          "2021-06-24T00:00:00+00:00",
          "2021-06-25T00:00:00+00:00",
          "2021-06-28T00:00:00+00:00",
          "2021-06-29T00:00:00+00:00",
          "2021-06-30T00:00:00+00:00",
          "2021-07-01T00:00:00+00:00",
          "2021-07-02T00:00:00+00:00",
          "2021-07-05T00:00:00+00:00",
          "2021-07-06T00:00:00+00:00",
          "2021-07-07T00:00:00+00:00",
          "2021-07-08T00:00:00+00:00",
          "2021-07-09T00:00:00+00:00",
          "2021-07-12T00:00:00+00:00",
          "2021-07-13T00:00:00+00:00",
          "2021-07-14T00:00:00+00:00",
          "2021-07-15T00:00:00+00:00",
          "2021-07-16T00:00:00+00:00",
          "2021-07-19T00:00:00+00:00",
          "2021-07-20T00:00:00+00:00",
          "2021-07-21T00:00:00+00:00",
          "2021-07-22T00:00:00+00:00",
          "2021-07-23T00:00:00+00:00",
          "2021-07-26T00:00:00+00:00",
          "2021-07-27T00:00:00+00:00",
          "2021-07-28T00:00:00+00:00",
          "2021-07-29T00:00:00+00:00",
          "2021-07-30T00:00:00+00:00",
          "2021-08-02T00:00:00+00:00",
          "2021-08-03T00:00:00+00:00",
          "2021-08-04T00:00:00+00:00",
          "2021-08-05T00:00:00+00:00",
          "2021-08-06T00:00:00+00:00",
          "2021-08-09T00:00:00+00:00",
          "2021-08-10T00:00:00+00:00",
          "2021-08-11T00:00:00+00:00",
          "2021-08-12T00:00:00+00:00",
          "2021-08-13T00:00:00+00:00",
          "2021-08-16T00:00:00+00:00",
          "2021-08-17T00:00:00+00:00",
          "2021-08-18T00:00:00+00:00",
          "2021-08-19T00:00:00+00:00",
          "2021-08-20T00:00:00+00:00",
          "2021-08-23T00:00:00+00:00",
          "2021-08-24T00:00:00+00:00",
          "2021-08-25T00:00:00+00:00",
          "2021-08-26T00:00:00+00:00",
          "2021-08-27T00:00:00+00:00",
          "2021-08-30T00:00:00+00:00",
          "2021-08-31T00:00:00+00:00",
          "2021-09-01T00:00:00+00:00",
          "2021-09-02T00:00:00+00:00",
          "2021-09-03T00:00:00+00:00"
         ],
         "y": [
          1.70525,
          1.68648,
          1.69619,
          1.7070699999999999,
          1.71108,
          1.70468,
          1.7082899999999999,
          1.70635,
          1.7059199999999999,
          1.71128,
          1.71211,
          1.7107,
          1.70726,
          1.7044000000000001,
          1.7066,
          1.71089,
          1.71345,
          1.71356,
          1.7132399999999999,
          1.70755,
          1.70462,
          1.7068400000000001,
          1.70999,
          1.71255,
          1.7139199999999999,
          1.70927,
          1.71433,
          1.71691,
          1.71341,
          1.71492,
          1.71638,
          1.71949,
          1.72017,
          1.72173,
          1.7158099999999998,
          1.7177,
          1.7149299999999998,
          1.70721,
          1.71244,
          1.71535,
          1.71437,
          1.71059,
          1.70511,
          1.70716,
          1.71879,
          1.72167,
          1.72692,
          1.7307000000000001,
          1.72832,
          1.72767,
          1.73236,
          1.7407,
          1.73684,
          1.74244,
          1.7273800000000001,
          1.72183,
          1.72851,
          1.72728,
          1.73336,
          1.7481900000000001,
          1.7405300000000001,
          1.73688,
          1.73335,
          1.73577,
          1.7441499999999999,
          1.7412999999999998,
          1.7408299999999999,
          1.7419799999999999,
          1.7408000000000001,
          1.7316500000000001,
          1.73282,
          1.72889,
          1.7357200000000002,
          1.7402199999999999,
          1.7349700000000001,
          1.74061,
          1.74874,
          1.7468,
          1.73506,
          1.72784,
          1.73259,
          1.7377,
          1.7353399999999999,
          1.7338900000000002,
          1.73501,
          1.7372800000000002,
          1.73603,
          1.7362600000000001
         ],
         "yaxis": "y",
         "type": "scatter"
        },
        {
         "hovertext": [
          "order id: <br>hold probability: 0.0000<br>hold: False<br>volume: 27.413198<br>modified volume: 27.4100<br>fee: nan<br>margin: nan<br>error: low free margin (order margin=38685.45210990116, order profit=-1638.7124378454569, free margin=10000.0)",
          "order id: <br>hold probability: 0.0000<br>hold: False<br>volume: -47.912203<br>modified volume: 35.0000<br>fee: nan<br>margin: nan<br>error: low free margin (order margin=49517.57765570497, order profit=-2115.2754982036513, free margin=10000.0)",
          "order id: <br>hold probability: 0.0000<br>hold: False<br>volume: 26.616036<br>modified volume: 26.6200<br>fee: nan<br>margin: nan<br>error: low free margin (order margin=37742.85182057523, order profit=-1698.7909059789656, free margin=10000.0)",
          "order id: <br>hold probability: 0.0000<br>hold: False<br>volume: -58.565354<br>modified volume: 35.0000<br>fee: nan<br>margin: nan<br>error: low free margin (order margin=49543.851534948255, order profit=-2040.7407131308437, free margin=10000.0)",
          "order id: <br>hold probability: 0.0000<br>hold: False<br>volume: -66.785419<br>modified volume: 35.0000<br>fee: nan<br>margin: nan<br>error: low free margin (order margin=49408.21096447036, order profit=-1957.8514907972594, free margin=10000.0)",
          "order id: 1<br>hold probability: 0.0000<br>hold: False<br>volume: -0.119347<br>modified volume: 0.1200<br>fee: 0.000625<br>margin: 169.313471<br>error: ",
          "order id: <br>hold probability: 0.0000<br>hold: False<br>volume: -36.473519<br>modified volume: 35.0000<br>fee: nan<br>margin: nan<br>error: low free margin (order margin=49268.79319685453, order profit=-1913.917899451685, free margin=9978.97288278756)",
          "order id: <br>hold probability: 0.0000<br>hold: False<br>volume: 29.654530<br>modified volume: 29.6500<br>fee: nan<br>margin: nan<br>error: low free margin (order margin=41269.98704820496, order profit=-1625.354106528036, free margin=9978.97288278756)",
          "order id: <br>hold probability: 0.0000<br>hold: False<br>volume: -85.154339<br>modified volume: 35.0000<br>fee: nan<br>margin: nan<br>error: low free margin (order margin=48751.33486505728, order profit=-2061.8012980395597, free margin=9978.97288278756)",
          "order id: <br>hold probability: 0.0000<br>hold: False<br>volume: 60.613227<br>modified volume: 35.0000<br>fee: nan<br>margin: nan<br>error: low free margin (order margin=48805.60928433269, order profit=-2052.1069553122206, free margin=9978.97288278756)",
          "order id: <br>hold probability: 0.0000<br>hold: False<br>volume: 86.005889<br>modified volume: 35.0000<br>fee: nan<br>margin: nan<br>error: low free margin (order margin=48862.149399783804, order profit=-1819.4756688593422, free margin=9978.97288278756)",
          "order id: <br>hold probability: 0.0000<br>hold: False<br>volume: 26.933531<br>modified volume: 26.9300<br>fee: nan<br>margin: nan<br>error: low free margin (order margin=37252.326941066414, order profit=-1485.9967796479514, free margin=9256.535650360194)",
          "order id: <br>hold probability: 0.0000<br>hold: False<br>volume: -81.641308<br>modified volume: 35.0000<br>fee: nan<br>margin: nan<br>error: low free margin (order margin=48401.185770750984, order profit=-2035.2801893562757, free margin=9256.535650360194)",
          "order id: <br>hold probability: 0.0000<br>hold: False<br>volume: -30.124029<br>modified volume: 30.1200<br>fee: nan<br>margin: nan<br>error: low free margin (order margin=41661.59384785113, order profit=-1574.5736437349744, free margin=9256.535650360194)",
          "order id: <br>hold probability: 0.0000<br>hold: False<br>volume: -99.839227<br>modified volume: 35.0000<br>fee: nan<br>margin: nan<br>error: low free margin (order margin=48415.15885684652, order profit=-2120.7091901976914, free margin=9256.535650360194)",
          "order id: <br>hold probability: 0.0000<br>hold: False<br>volume: -48.968540<br>modified volume: 35.0000<br>fee: nan<br>margin: nan<br>error: low free margin (order margin=48279.37217575232, order profit=-1612.1048933092015, free margin=9256.535650360194)",
          "order id: <br>hold probability: 0.0000<br>hold: False<br>volume: 87.405323<br>modified volume: 35.0000<br>fee: nan<br>margin: nan<br>error: low free margin (order margin=48649.13703789965, order profit=-2121.8271347756754, free margin=9256.535650360194)",
          "order id: 3<br>hold probability: 0.0000<br>hold: False<br>volume: 1.908486<br>modified volume: 1.9100<br>fee: 0.000715<br>margin: 2629.177254<br>error: ",
          "order id: <br>hold probability: 0.0000<br>hold: False<br>volume: -82.078204<br>modified volume: 35.0000<br>fee: nan<br>margin: nan<br>error: low free margin (order margin=47848.94942489055, order profit=-1965.7308734911699, free margin=7359.343138208731)",
          "order id: <br>hold probability: 0.0000<br>hold: False<br>volume: 28.816314<br>modified volume: 28.8200<br>fee: nan<br>margin: nan<br>error: low free margin (order margin=39508.8699044586, order profit=-1734.562278077558, free margin=6865.161313289139)",
          "order id: <br>hold probability: 0.0000<br>hold: False<br>volume: 69.065729<br>modified volume: 35.0000<br>fee: nan<br>margin: nan<br>error: low free margin (order margin=48165.9275654244, order profit=-1823.235356039829, free margin=6865.161313289139)",
          "order id: <br>hold probability: 0.3359<br>hold: False<br>volume: -4.174515<br>modified volume: 4.1700<br>fee: nan<br>margin: nan<br>error: low free margin (order margin=5819.605158491021, order profit=-240.54281390532572, free margin=1575.60532077697)",
          "order id: <br>hold probability: 0.0000<br>hold: False<br>volume: 96.412667<br>modified volume: 35.0000<br>fee: nan<br>margin: nan<br>error: low free margin (order margin=48700.617480933084, order profit=-2232.5513996200457, free margin=5295.60532077697)",
          "order id: <br>hold probability: 0.0000<br>hold: False<br>volume: 34.934451<br>modified volume: 34.9300<br>fee: nan<br>margin: nan<br>error: low free margin (order margin=48651.20245467492, order profit=-2178.3100628043244, free margin=5295.60532077697)",
          "order id: <br>hold probability: 0.0000<br>hold: False<br>volume: -84.745615<br>modified volume: 35.0000<br>fee: nan<br>margin: nan<br>error: low free margin (order margin=48562.92862433988, order profit=-1861.6330879594827, free margin=5295.60532077697)",
          "order id: <br>hold probability: 0.2707<br>hold: False<br>volume: -67.806281<br>modified volume: 35.0000<br>fee: nan<br>margin: nan<br>error: low free margin (order margin=48411.839414659094, order profit=-2173.9843932005774, free margin=5352.078139709921)",
          "order id: <br>hold probability: 0.0000<br>hold: False<br>volume: 46.422180<br>modified volume: 35.0000<br>fee: nan<br>margin: nan<br>error: low free margin (order margin=48512.7503679529, order profit=-1859.9624869189443, free margin=5352.078139709921)",
          "order id: <br>hold probability: 0.0000<br>hold: False<br>volume: -60.425326<br>modified volume: 35.0000<br>fee: nan<br>margin: nan<br>error: low free margin (order margin=48327.34344426608, order profit=-2049.4081655643004, free margin=5352.078139709921)",
          "order id: <br>hold probability: 0.0000<br>hold: False<br>volume: -67.162472<br>modified volume: 35.0000<br>fee: nan<br>margin: nan<br>error: low free margin (order margin=48450.18773068601, order profit=-2099.533388207237, free margin=5352.078139709921)",
          "order id: <br>hold probability: 0.0000<br>hold: False<br>volume: 87.605985<br>modified volume: 35.0000<br>fee: nan<br>margin: nan<br>error: low free margin (order margin=47675.78779915313, order profit=-1992.6421616256039, free margin=5352.078139709921)",
          "order id: <br>hold probability: 0.0010<br>hold: False<br>volume: 16.731628<br>modified volume: 16.7300<br>fee: nan<br>margin: nan<br>error: low free margin (order margin=22948.859812788563, order profit=-988.1832629298098, free margin=5352.078139709921)",
          "order id: <br>hold probability: 0.0000<br>hold: False<br>volume: -46.742929<br>modified volume: 35.0000<br>fee: nan<br>margin: nan<br>error: low free margin (order margin=48046.271063900786, order profit=-1978.191802960282, free margin=5352.078139709921)",
          "order id: <br>hold probability: 0.0000<br>hold: False<br>volume: -46.121279<br>modified volume: 35.0000<br>fee: nan<br>margin: nan<br>error: low free margin (order margin=48167.25710109932, order profit=-1902.332846658628, free margin=5352.078139709921)",
          "order id: <br>hold probability: 0.0000<br>hold: False<br>volume: -20.165148<br>modified volume: 20.1700<br>fee: nan<br>margin: nan<br>error: low free margin (order margin=27748.161026153277, order profit=-1139.928171066066, free margin=5352.078139709921)",
          "order id: <br>hold probability: 0.0000<br>hold: False<br>volume: -78.279366<br>modified volume: 35.0000<br>fee: nan<br>margin: nan<br>error: low free margin (order margin=48141.83266300167, order profit=-1946.5661471036103, free margin=5352.078139709921)",
          "order id: <br>hold probability: 0.0131<br>hold: False<br>volume: -66.016182<br>modified volume: 35.0000<br>fee: nan<br>margin: nan<br>error: low free margin (order margin=48187.02698418989, order profit=-1921.134705322868, free margin=5352.078139709921)",
          "order id: <br>hold probability: 0.0000<br>hold: False<br>volume: -82.483259<br>modified volume: 35.0000<br>fee: nan<br>margin: nan<br>error: low free margin (order margin=48409.00761655885, order profit=-2229.2365999834965, free margin=5352.078139709921)"
         ],
         "legendgroup": "g1",
         "marker": {
          "color": [
           "gray",
           "gray",
           "gray",
           "gray",
           "gray",
           "red",
           "gray",
           "gray",
           "gray",
           "gray",
           "gray",
           "gray",
           "gray",
           "gray",
           "gray",
           "gray",
           "gray",
           "green",
           "gray",
           "gray",
           "gray",
           "gray",
           "gray",
           "gray",
           "gray",
           "gray",
           "gray",
           "gray",
           "gray",
           "gray",
           "gray",
           "gray",
           "gray",
           "gray",
           "gray",
           "gray",
           "gray"
          ],
          "size": [
           25.229142857142858,
           30.0,
           24.73257142857143,
           30.0,
           30.0,
           8.07542857142857,
           30.0,
           26.63714285714286,
           30.0,
           30.0,
           30.0,
           24.92742857142857,
           30.0,
           26.932571428571432,
           30.0,
           30.0,
           30.0,
           9.200571428571429,
           30.0,
           26.11542857142857,
           30.0,
           10.621142857142857,
           30.0,
           29.956,
           30.0,
           30.0,
           30.0,
           30.0,
           30.0,
           30.0,
           18.516,
           30.0,
           30.0,
           20.678285714285714,
           30.0,
           30.0,
           30.0
          ],
          "symbol": [
           "triangle-down",
           "triangle-down",
           "triangle-down",
           "triangle-down",
           "triangle-down",
           "triangle-down",
           "triangle-down",
           "triangle-down",
           "triangle-down",
           "triangle-down",
           "triangle-down",
           "triangle-down",
           "triangle-down",
           "triangle-down",
           "triangle-down",
           "triangle-down",
           "triangle-down",
           "triangle-up",
           "triangle-down",
           "triangle-down",
           "triangle-down",
           "triangle-down",
           "triangle-down",
           "triangle-down",
           "triangle-down",
           "triangle-down",
           "triangle-down",
           "triangle-down",
           "triangle-down",
           "triangle-down",
           "triangle-down",
           "triangle-down",
           "triangle-down",
           "triangle-down",
           "triangle-down",
           "triangle-down",
           "triangle-down"
          ]
         },
         "mode": "markers",
         "name": "GBPCAD",
         "showlegend": false,
         "x": [
          "2021-05-19T00:00:00+00:00",
          "2021-06-01T00:00:00+00:00",
          "2021-06-07T00:00:00+00:00",
          "2021-06-08T00:00:00+00:00",
          "2021-06-09T00:00:00+00:00",
          "2021-06-14T00:00:00+00:00",
          "2021-06-15T00:00:00+00:00",
          "2021-06-17T00:00:00+00:00",
          "2021-06-21T00:00:00+00:00",
          "2021-06-22T00:00:00+00:00",
          "2021-06-23T00:00:00+00:00",
          "2021-06-29T00:00:00+00:00",
          "2021-06-30T00:00:00+00:00",
          "2021-07-02T00:00:00+00:00",
          "2021-07-05T00:00:00+00:00",
          "2021-07-07T00:00:00+00:00",
          "2021-07-09T00:00:00+00:00",
          "2021-07-16T00:00:00+00:00",
          "2021-07-19T00:00:00+00:00",
          "2021-07-21T00:00:00+00:00",
          "2021-07-22T00:00:00+00:00",
          "2021-07-29T00:00:00+00:00",
          "2021-08-03T00:00:00+00:00",
          "2021-08-05T00:00:00+00:00",
          "2021-08-06T00:00:00+00:00",
          "2021-08-10T00:00:00+00:00",
          "2021-08-11T00:00:00+00:00",
          "2021-08-12T00:00:00+00:00",
          "2021-08-16T00:00:00+00:00",
          "2021-08-20T00:00:00+00:00",
          "2021-08-23T00:00:00+00:00",
          "2021-08-24T00:00:00+00:00",
          "2021-08-25T00:00:00+00:00",
          "2021-08-27T00:00:00+00:00",
          "2021-08-30T00:00:00+00:00",
          "2021-09-01T00:00:00+00:00",
          "2021-09-02T00:00:00+00:00"
         ],
         "y": [
          1.71211,
          1.70755,
          1.71255,
          1.7139199999999999,
          1.70927,
          1.71341,
          1.71492,
          1.71949,
          1.72173,
          1.7158099999999998,
          1.7177,
          1.71535,
          1.71437,
          1.70511,
          1.70716,
          1.72167,
          1.7307000000000001,
          1.73684,
          1.74244,
          1.72183,
          1.72851,
          1.73688,
          1.7441499999999999,
          1.7408299999999999,
          1.7419799999999999,
          1.7316500000000001,
          1.73282,
          1.72889,
          1.7402199999999999,
          1.7468,
          1.73506,
          1.72784,
          1.73259,
          1.7353399999999999,
          1.7338900000000002,
          1.7372800000000002,
          1.73603
         ],
         "yaxis": "y",
         "type": "scatter"
        },
        {
         "hovertext": [
          "order id: 1<br>order type: Sell<br>close probability: 1.0000<br>margin: 169.313471<br>profit: -21.027117",
          "order id: 3<br>order type: Buy<br>close probability: 1.0000<br>margin: 2629.177254<br>profit: -2391.374337"
         ],
         "legendgroup": "g1",
         "marker": {
          "color": "black",
          "line": {
           "width": 1.5
          },
          "size": 7,
          "symbol": "line-ns"
         },
         "mode": "markers",
         "name": "GBPCAD",
         "showlegend": false,
         "x": [
          "2021-06-15T00:00:00+00:00",
          "2021-07-21T00:00:00+00:00"
         ],
         "y": [
          1.71492,
          1.72183
         ],
         "yaxis": "y",
         "type": "scatter"
        },
        {
         "hovertext": [
          "balance: 10000.000000 USD<br>equity: 10000.000000<br>margin: 0.000000<br>free margin: 10000.000000<br>margin level: inf",
          "balance: 10000.000000 USD<br>equity: 10000.000000<br>margin: 0.000000<br>free margin: 10000.000000<br>margin level: inf",
          "balance: 10000.000000 USD<br>equity: 10000.000000<br>margin: 0.000000<br>free margin: 10000.000000<br>margin level: inf",
          "balance: 10000.000000 USD<br>equity: 10000.000000<br>margin: 0.000000<br>free margin: 10000.000000<br>margin level: inf",
          "balance: 10000.000000 USD<br>equity: 10000.000000<br>margin: 0.000000<br>free margin: 10000.000000<br>margin level: inf",
          "balance: 10000.000000 USD<br>equity: 10000.000000<br>margin: 0.000000<br>free margin: 10000.000000<br>margin level: inf",
          "balance: 10000.000000 USD<br>equity: 10000.000000<br>margin: 0.000000<br>free margin: 10000.000000<br>margin level: inf",
          "balance: 10000.000000 USD<br>equity: 10000.000000<br>margin: 0.000000<br>free margin: 10000.000000<br>margin level: inf",
          "balance: 10000.000000 USD<br>equity: 10000.000000<br>margin: 0.000000<br>free margin: 10000.000000<br>margin level: inf",
          "balance: 10000.000000 USD<br>equity: 10000.000000<br>margin: 0.000000<br>free margin: 10000.000000<br>margin level: inf",
          "balance: 10000.000000 USD<br>equity: 10000.000000<br>margin: 0.000000<br>free margin: 10000.000000<br>margin level: inf",
          "balance: 10000.000000 USD<br>equity: 10000.000000<br>margin: 0.000000<br>free margin: 10000.000000<br>margin level: inf",
          "balance: 10000.000000 USD<br>equity: 10000.000000<br>margin: 0.000000<br>free margin: 10000.000000<br>margin level: inf",
          "balance: 10000.000000 USD<br>equity: 10000.000000<br>margin: 0.000000<br>free margin: 10000.000000<br>margin level: inf",
          "balance: 10000.000000 USD<br>equity: 10000.000000<br>margin: 0.000000<br>free margin: 10000.000000<br>margin level: inf",
          "balance: 10000.000000 USD<br>equity: 10000.000000<br>margin: 0.000000<br>free margin: 10000.000000<br>margin level: inf",
          "balance: 10000.000000 USD<br>equity: 10000.000000<br>margin: 0.000000<br>free margin: 10000.000000<br>margin level: inf",
          "balance: 10000.000000 USD<br>equity: 10000.000000<br>margin: 0.000000<br>free margin: 10000.000000<br>margin level: inf",
          "balance: 10000.000000 USD<br>equity: 10000.000000<br>margin: 0.000000<br>free margin: 10000.000000<br>margin level: inf",
          "balance: 10000.000000 USD<br>equity: 10000.000000<br>margin: 0.000000<br>free margin: 10000.000000<br>margin level: inf",
          "balance: 10000.000000 USD<br>equity: 10000.000000<br>margin: 0.000000<br>free margin: 10000.000000<br>margin level: inf",
          "balance: 10000.000000 USD<br>equity: 10000.000000<br>margin: 0.000000<br>free margin: 10000.000000<br>margin level: inf",
          "balance: 10000.000000 USD<br>equity: 10000.000000<br>margin: 0.000000<br>free margin: 10000.000000<br>margin level: inf",
          "balance: 10000.000000 USD<br>equity: 10000.000000<br>margin: 0.000000<br>free margin: 10000.000000<br>margin level: inf",
          "balance: 10000.000000 USD<br>equity: 10000.000000<br>margin: 0.000000<br>free margin: 10000.000000<br>margin level: inf",
          "balance: 10000.000000 USD<br>equity: 10000.000000<br>margin: 0.000000<br>free margin: 10000.000000<br>margin level: inf",
          "balance: 10000.000000 USD<br>equity: 10000.000000<br>margin: 0.000000<br>free margin: 10000.000000<br>margin level: inf",
          "balance: 10000.000000 USD<br>equity: 10000.000000<br>margin: 0.000000<br>free margin: 10000.000000<br>margin level: inf",
          "balance: 10000.000000 USD<br>equity: 10000.000000<br>margin: 0.000000<br>free margin: 10000.000000<br>margin level: inf",
          "balance: 10000.000000 USD<br>equity: 9978.972883<br>margin: 169.313471<br>free margin: 9809.659412<br>margin level: 58.937855",
          "balance: 9978.972883 USD<br>equity: 9978.972883<br>margin: 0.000000<br>free margin: 9978.972883<br>margin level: inf",
          "balance: 9978.972883 USD<br>equity: 9978.972883<br>margin: 0.000000<br>free margin: 9978.972883<br>margin level: inf",
          "balance: 9978.972883 USD<br>equity: 9978.972883<br>margin: 0.000000<br>free margin: 9978.972883<br>margin level: inf",
          "balance: 9978.972883 USD<br>equity: 9978.972883<br>margin: 0.000000<br>free margin: 9978.972883<br>margin level: inf",
          "balance: 9978.972883 USD<br>equity: 9978.972883<br>margin: 0.000000<br>free margin: 9978.972883<br>margin level: inf",
          "balance: 9978.972883 USD<br>equity: 9978.972883<br>margin: 0.000000<br>free margin: 9978.972883<br>margin level: inf",
          "balance: 9978.972883 USD<br>equity: 9566.735650<br>margin: 6726.151200<br>free margin: 2840.584450<br>margin level: 1.422319",
          "balance: 9978.972883 USD<br>equity: 9256.535650<br>margin: 6726.151200<br>free margin: 2530.384450<br>margin level: 1.376201",
          "balance: 9256.535650 USD<br>equity: 9256.535650<br>margin: 0.000000<br>free margin: 9256.535650<br>margin level: inf",
          "balance: 9256.535650 USD<br>equity: 9256.535650<br>margin: 0.000000<br>free margin: 9256.535650<br>margin level: inf",
          "balance: 9256.535650 USD<br>equity: 9256.535650<br>margin: 0.000000<br>free margin: 9256.535650<br>margin level: inf",
          "balance: 9256.535650 USD<br>equity: 9256.535650<br>margin: 0.000000<br>free margin: 9256.535650<br>margin level: inf",
          "balance: 9256.535650 USD<br>equity: 9256.535650<br>margin: 0.000000<br>free margin: 9256.535650<br>margin level: inf",
          "balance: 9256.535650 USD<br>equity: 9256.535650<br>margin: 0.000000<br>free margin: 9256.535650<br>margin level: inf",
          "balance: 9256.535650 USD<br>equity: 9256.535650<br>margin: 0.000000<br>free margin: 9256.535650<br>margin level: inf",
          "balance: 9256.535650 USD<br>equity: 9256.535650<br>margin: 0.000000<br>free margin: 9256.535650<br>margin level: inf",
          "balance: 9256.535650 USD<br>equity: 9256.535650<br>margin: 0.000000<br>free margin: 9256.535650<br>margin level: inf",
          "balance: 9256.535650 USD<br>equity: 9256.535650<br>margin: 0.000000<br>free margin: 9256.535650<br>margin level: inf",
          "balance: 9256.535650 USD<br>equity: 9256.535650<br>margin: 0.000000<br>free margin: 9256.535650<br>margin level: inf",
          "balance: 9256.535650 USD<br>equity: 9256.535650<br>margin: 0.000000<br>free margin: 9256.535650<br>margin level: inf",
          "balance: 9256.535650 USD<br>equity: 9256.535650<br>margin: 0.000000<br>free margin: 9256.535650<br>margin level: inf",
          "balance: 9256.535650 USD<br>equity: 9256.535650<br>margin: 0.000000<br>free margin: 9256.535650<br>margin level: inf",
          "balance: 9256.535650 USD<br>equity: 9256.535650<br>margin: 0.000000<br>free margin: 9256.535650<br>margin level: inf",
          "balance: 9256.535650 USD<br>equity: 9988.520392<br>margin: 2629.177254<br>free margin: 7359.343138<br>margin level: 3.799105",
          "balance: 9256.535650 USD<br>equity: 7723.733752<br>margin: 2629.177254<br>free margin: 5094.556498<br>margin level: 2.937700",
          "balance: 9256.535650 USD<br>equity: 6865.161313<br>margin: 2629.177254<br>free margin: 4235.984059<br>margin level: 2.611144",
          "balance: 6865.161313 USD<br>equity: 6865.161313<br>margin: 0.000000<br>free margin: 6865.161313<br>margin level: inf",
          "balance: 6865.161313 USD<br>equity: 6865.161313<br>margin: 0.000000<br>free margin: 6865.161313<br>margin level: inf",
          "balance: 6865.161313 USD<br>equity: 6865.161313<br>margin: 0.000000<br>free margin: 6865.161313<br>margin level: inf",
          "balance: 6865.161313 USD<br>equity: 6865.161313<br>margin: 0.000000<br>free margin: 6865.161313<br>margin level: inf",
          "balance: 6865.161313 USD<br>equity: 6865.161313<br>margin: 0.000000<br>free margin: 6865.161313<br>margin level: inf",
          "balance: 6865.161313 USD<br>equity: 5295.605321<br>margin: 3720.000000<br>free margin: 1575.605321<br>margin level: 1.423550",
          "balance: 5295.605321 USD<br>equity: 5295.605321<br>margin: 0.000000<br>free margin: 5295.605321<br>margin level: inf",
          "balance: 5295.605321 USD<br>equity: 5295.605321<br>margin: 0.000000<br>free margin: 5295.605321<br>margin level: inf",
          "balance: 5295.605321 USD<br>equity: 5295.605321<br>margin: 0.000000<br>free margin: 5295.605321<br>margin level: inf",
          "balance: 5295.605321 USD<br>equity: 5295.605321<br>margin: 0.000000<br>free margin: 5295.605321<br>margin level: inf",
          "balance: 5295.605321 USD<br>equity: 5295.605321<br>margin: 0.000000<br>free margin: 5295.605321<br>margin level: inf",
          "balance: 5295.605321 USD<br>equity: 5295.605321<br>margin: 0.000000<br>free margin: 5295.605321<br>margin level: inf",
          "balance: 5295.605321 USD<br>equity: 5352.078140<br>margin: 2220.000000<br>free margin: 3132.078140<br>margin level: 2.410846",
          "balance: 5352.078140 USD<br>equity: 5352.078140<br>margin: 0.000000<br>free margin: 5352.078140<br>margin level: inf",
          "balance: 5352.078140 USD<br>equity: 5352.078140<br>margin: 0.000000<br>free margin: 5352.078140<br>margin level: inf",
          "balance: 5352.078140 USD<br>equity: 5352.078140<br>margin: 0.000000<br>free margin: 5352.078140<br>margin level: inf",
          "balance: 5352.078140 USD<br>equity: 5352.078140<br>margin: 0.000000<br>free margin: 5352.078140<br>margin level: inf",
          "balance: 5352.078140 USD<br>equity: 5352.078140<br>margin: 0.000000<br>free margin: 5352.078140<br>margin level: inf",
          "balance: 5352.078140 USD<br>equity: 5352.078140<br>margin: 0.000000<br>free margin: 5352.078140<br>margin level: inf",
          "balance: 5352.078140 USD<br>equity: 5352.078140<br>margin: 0.000000<br>free margin: 5352.078140<br>margin level: inf",
          "balance: 5352.078140 USD<br>equity: 5352.078140<br>margin: 0.000000<br>free margin: 5352.078140<br>margin level: inf",
          "balance: 5352.078140 USD<br>equity: 5352.078140<br>margin: 0.000000<br>free margin: 5352.078140<br>margin level: inf",
          "balance: 5352.078140 USD<br>equity: 5352.078140<br>margin: 0.000000<br>free margin: 5352.078140<br>margin level: inf",
          "balance: 5352.078140 USD<br>equity: 5352.078140<br>margin: 0.000000<br>free margin: 5352.078140<br>margin level: inf",
          "balance: 5352.078140 USD<br>equity: 5352.078140<br>margin: 0.000000<br>free margin: 5352.078140<br>margin level: inf",
          "balance: 5352.078140 USD<br>equity: 5352.078140<br>margin: 0.000000<br>free margin: 5352.078140<br>margin level: inf",
          "balance: 5352.078140 USD<br>equity: 5352.078140<br>margin: 0.000000<br>free margin: 5352.078140<br>margin level: inf",
          "balance: 5352.078140 USD<br>equity: 5352.078140<br>margin: 0.000000<br>free margin: 5352.078140<br>margin level: inf",
          "balance: 5352.078140 USD<br>equity: 5352.078140<br>margin: 0.000000<br>free margin: 5352.078140<br>margin level: inf",
          "balance: 5352.078140 USD<br>equity: 5352.078140<br>margin: 0.000000<br>free margin: 5352.078140<br>margin level: inf",
          "balance: 5352.078140 USD<br>equity: 5352.078140<br>margin: 0.000000<br>free margin: 5352.078140<br>margin level: inf",
          "balance: 5352.078140 USD<br>equity: 5352.078140<br>margin: 0.000000<br>free margin: 5352.078140<br>margin level: inf"
         ],
         "legendgroup": "g2",
         "line": {
          "color": "rgba(0.5643983083429451, 0.36993464052287583, 0.5132641291810843, 1.0)"
         },
         "mode": "lines+markers",
         "name": "EURUSD",
         "opacity": 1.0,
         "x": [
          "2021-05-05T00:00:00+00:00",
          "2021-05-06T00:00:00+00:00",
          "2021-05-07T00:00:00+00:00",
          "2021-05-10T00:00:00+00:00",
          "2021-05-11T00:00:00+00:00",
          "2021-05-12T00:00:00+00:00",
          "2021-05-13T00:00:00+00:00",
          "2021-05-14T00:00:00+00:00",
          "2021-05-17T00:00:00+00:00",
          "2021-05-18T00:00:00+00:00",
          "2021-05-19T00:00:00+00:00",
          "2021-05-20T00:00:00+00:00",
          "2021-05-21T00:00:00+00:00",
          "2021-05-24T00:00:00+00:00",
          "2021-05-25T00:00:00+00:00",
          "2021-05-26T00:00:00+00:00",
          "2021-05-27T00:00:00+00:00",
          "2021-05-28T00:00:00+00:00",
          "2021-05-31T00:00:00+00:00",
          "2021-06-01T00:00:00+00:00",
          "2021-06-02T00:00:00+00:00",
          "2021-06-03T00:00:00+00:00",
          "2021-06-04T00:00:00+00:00",
          "2021-06-07T00:00:00+00:00",
          "2021-06-08T00:00:00+00:00",
          "2021-06-09T00:00:00+00:00",
          "2021-06-10T00:00:00+00:00",
          "2021-06-11T00:00:00+00:00",
          "2021-06-14T00:00:00+00:00",
          "2021-06-15T00:00:00+00:00",
          "2021-06-16T00:00:00+00:00",
          "2021-06-17T00:00:00+00:00",
          "2021-06-18T00:00:00+00:00",
          "2021-06-21T00:00:00+00:00",
          "2021-06-22T00:00:00+00:00",
          "2021-06-23T00:00:00+00:00",
          "2021-06-24T00:00:00+00:00",
          "2021-06-25T00:00:00+00:00",
          "2021-06-28T00:00:00+00:00",
          "2021-06-29T00:00:00+00:00",
          "2021-06-30T00:00:00+00:00",
          "2021-07-01T00:00:00+00:00",
          "2021-07-02T00:00:00+00:00",
          "2021-07-05T00:00:00+00:00",
          "2021-07-06T00:00:00+00:00",
          "2021-07-07T00:00:00+00:00",
          "2021-07-08T00:00:00+00:00",
          "2021-07-09T00:00:00+00:00",
          "2021-07-12T00:00:00+00:00",
          "2021-07-13T00:00:00+00:00",
          "2021-07-14T00:00:00+00:00",
          "2021-07-15T00:00:00+00:00",
          "2021-07-16T00:00:00+00:00",
          "2021-07-19T00:00:00+00:00",
          "2021-07-20T00:00:00+00:00",
          "2021-07-21T00:00:00+00:00",
          "2021-07-22T00:00:00+00:00",
          "2021-07-23T00:00:00+00:00",
          "2021-07-26T00:00:00+00:00",
          "2021-07-27T00:00:00+00:00",
          "2021-07-28T00:00:00+00:00",
          "2021-07-29T00:00:00+00:00",
          "2021-07-30T00:00:00+00:00",
          "2021-08-02T00:00:00+00:00",
          "2021-08-03T00:00:00+00:00",
          "2021-08-04T00:00:00+00:00",
          "2021-08-05T00:00:00+00:00",
          "2021-08-06T00:00:00+00:00",
          "2021-08-09T00:00:00+00:00",
          "2021-08-10T00:00:00+00:00",
          "2021-08-11T00:00:00+00:00",
          "2021-08-12T00:00:00+00:00",
          "2021-08-13T00:00:00+00:00",
          "2021-08-16T00:00:00+00:00",
          "2021-08-17T00:00:00+00:00",
          "2021-08-18T00:00:00+00:00",
          "2021-08-19T00:00:00+00:00",
          "2021-08-20T00:00:00+00:00",
          "2021-08-23T00:00:00+00:00",
          "2021-08-24T00:00:00+00:00",
          "2021-08-25T00:00:00+00:00",
          "2021-08-26T00:00:00+00:00",
          "2021-08-27T00:00:00+00:00",
          "2021-08-30T00:00:00+00:00",
          "2021-08-31T00:00:00+00:00",
          "2021-09-01T00:00:00+00:00",
          "2021-09-02T00:00:00+00:00",
          "2021-09-03T00:00:00+00:00"
         ],
         "y": [
          1.20036,
          1.20646,
          1.21618,
          1.21282,
          1.2147000000000001,
          1.20705,
          1.20791,
          1.21441,
          1.21511,
          1.2221899999999999,
          1.21744,
          1.22269,
          1.21806,
          1.2215,
          1.22497,
          1.21922,
          1.21934,
          1.21896,
          1.2225,
          1.22126,
          1.221,
          1.21265,
          1.21662,
          1.21893,
          1.21726,
          1.21787,
          1.21751,
          1.21063,
          1.212,
          1.21264,
          1.19943,
          1.19069,
          1.18597,
          1.19185,
          1.19413,
          1.19258,
          1.19315,
          1.1937,
          1.19242,
          1.1896,
          1.1856,
          1.18497,
          1.18646,
          1.18634,
          1.18231,
          1.17903,
          1.18449,
          1.18774,
          1.18606,
          1.17765,
          1.18358,
          1.18118,
          1.18055,
          1.17987,
          1.17805,
          1.17946,
          1.17707,
          1.17689,
          1.18029,
          1.18165,
          1.18441,
          1.18865,
          1.1873,
          1.18688,
          1.18637,
          1.18367,
          1.18327,
          1.17611,
          1.17362,
          1.17203,
          1.17388,
          1.17296,
          1.17962,
          1.17768,
          1.17081,
          1.17108,
          1.16756,
          1.16996,
          1.1745700000000001,
          1.17555,
          1.17716,
          1.17515,
          1.1795499999999999,
          1.17962,
          1.18083,
          1.18384,
          1.18744,
          1.18772
         ],
         "yaxis": "y2",
         "type": "scatter"
        },
        {
         "hovertext": [
          "order id: <br>hold probability: 0.0000<br>hold: False<br>volume: -12.601798<br>modified volume: 12.6000<br>fee: nan<br>margin: nan<br>error: low free margin (order margin=15339.744, order profit=-284.79163288875986, free margin=10000.0)",
          "order id: <br>hold probability: 0.0000<br>hold: False<br>volume: -93.002388<br>modified volume: 93.0000<br>fee: nan<br>margin: nan<br>error: low free margin (order margin=113710.17, order profit=-1356.0579587768884, free margin=10000.0)",
          "order id: <br>hold probability: 0.0000<br>hold: False<br>volume: 19.951796<br>modified volume: 19.9500<br>fee: nan<br>margin: nan<br>error: low free margin (order margin=24300.297, order profit=-489.5872624613265, free margin=10000.0)",
          "order id: <br>hold probability: 0.0022<br>hold: False<br>volume: -45.183797<br>modified volume: 45.1800<br>fee: nan<br>margin: nan<br>error: low free margin (order margin=55344.1446, order profit=-611.9063477667723, free margin=10000.0)",
          "order id: <br>hold probability: 0.0000<br>hold: False<br>volume: -93.192286<br>modified volume: 93.1900<br>fee: nan<br>margin: nan<br>error: low free margin (order margin=113619.1118, order profit=-1915.689018768198, free margin=10000.0)",
          "order id: <br>hold probability: 0.0000<br>hold: False<br>volume: 73.981007<br>modified volume: 73.9800<br>fee: nan<br>margin: nan<br>error: low free margin (order margin=90178.6608, order profit=-1441.621428981821, free margin=10000.0)",
          "order id: <br>hold probability: 0.0000<br>hold: False<br>volume: -21.014549<br>modified volume: 21.0100<br>fee: nan<br>margin: nan<br>error: low free margin (order margin=25684.725, order profit=-402.16080618485773, free margin=10000.0)",
          "order id: <br>hold probability: 0.3113<br>hold: False<br>volume: 76.390749<br>modified volume: 76.3900<br>fee: nan<br>margin: nan<br>error: low free margin (order margin=93033.08929999999, order profit=-1535.788726054146, free margin=10000.0)",
          "order id: <br>hold probability: 0.0000<br>hold: False<br>volume: 39.031614<br>modified volume: 39.0300<br>fee: nan<br>margin: nan<br>error: low free margin (order margin=47304.36, order profit=-829.7218458265733, free margin=9824.513372518073)",
          "order id: <br>hold probability: 0.0000<br>hold: False<br>volume: -95.912062<br>modified volume: 95.9100<br>fee: nan<br>margin: nan<br>error: low free margin (order margin=116304.3024, order profit=-1932.547794184346, free margin=9978.97288278756)",
          "order id: <br>hold probability: 0.0000<br>hold: False<br>volume: -78.494705<br>modified volume: 78.4900<br>fee: nan<br>margin: nan<br>error: low free margin (order margin=93548.3065, order profit=-1783.929638650845, free margin=9978.97288278756)",
          "order id: 2<br>hold probability: 0.0001<br>hold: False<br>volume: -5.641457<br>modified volume: 5.6400<br>fee: 0.000161<br>margin: 6726.151200<br>error: ",
          "order id: <br>hold probability: 0.0000<br>hold: False<br>volume: -79.550422<br>modified volume: 79.5500<br>fee: nan<br>margin: nan<br>error: low free margin (order margin=94915.0825, order profit=-1647.0439708016618, free margin=2840.584450360222)",
          "order id: <br>hold probability: 0.0000<br>hold: False<br>volume: -8.285821<br>modified volume: 8.2900<br>fee: nan<br>margin: nan<br>error: low free margin (order margin=9895.773000000001, order profit=-204.98812423889692, free margin=9256.535650360194)",
          "order id: <br>hold probability: 0.0000<br>hold: False<br>volume: 49.834631<br>modified volume: 49.8300<br>fee: nan<br>margin: nan<br>error: low free margin (order margin=59418.2886, order profit=-848.4766949352693, free margin=9256.535650360194)",
          "order id: <br>hold probability: 0.0000<br>hold: False<br>volume: -54.202473<br>modified volume: 54.2000<br>fee: nan<br>margin: nan<br>error: low free margin (order margin=64259.52, order profit=-1117.9428232842156, free margin=9256.535650360194)",
          "order id: <br>hold probability: 0.0000<br>hold: False<br>volume: -96.194826<br>modified volume: 96.1900<br>fee: nan<br>margin: nan<br>error: low free margin (order margin=113936.0931, order profit=-1922.1962250643398, free margin=9256.535650360194)",
          "order id: <br>hold probability: 0.0000<br>hold: False<br>volume: -30.220083<br>modified volume: 30.2200<br>fee: nan<br>margin: nan<br>error: low free margin (order margin=35588.583000000006, order profit=-621.4263371855852, free margin=9256.535650360194)",
          "order id: <br>hold probability: 0.0000<br>hold: False<br>volume: -36.838700<br>modified volume: 36.8400<br>fee: nan<br>margin: nan<br>error: low free margin (order margin=43603.08720000001, order profit=-648.7609963894772, free margin=9256.535650360194)",
          "order id: <br>hold probability: 0.0000<br>hold: False<br>volume: 17.921017<br>modified volume: 17.9200<br>fee: nan<br>margin: nan<br>error: low free margin (order margin=21110.656000000006, order profit=-385.0675031921777, free margin=5094.556497921327)",
          "order id: <br>hold probability: 0.0000<br>hold: False<br>volume: 68.049184<br>modified volume: 68.0500<br>fee: nan<br>margin: nan<br>error: low free margin (order margin=80099.6135, order profit=-1589.5788146160744, free margin=6865.161313289139)",
          "order id: <br>hold probability: 0.0000<br>hold: False<br>volume: -21.070473<br>modified volume: 21.0700<br>fee: nan<br>margin: nan<br>error: low free margin (order margin=24897.365500000004, order profit=-326.70877422738647, free margin=6865.161313289139)",
          "order id: <br>hold probability: 0.0000<br>hold: False<br>volume: -40.616708<br>modified volume: 40.6200<br>fee: nan<br>margin: nan<br>error: low free margin (order margin=48190.34939999999, order profit=-702.143751884792, free margin=5295.60532077697)",
          "order id: <br>hold probability: 0.0000<br>hold: False<br>volume: 74.932877<br>modified volume: 74.9300<br>fee: nan<br>margin: nan<br>error: low free margin (order margin=88692.3931, order profit=-1445.2492540257201, free margin=5295.60532077697)",
          "order id: <br>hold probability: 0.0000<br>hold: False<br>volume: 29.820906<br>modified volume: 29.8200<br>fee: nan<br>margin: nan<br>error: low free margin (order margin=35285.1114, order profit=-587.1685405518442, free margin=5295.60532077697)",
          "order id: <br>hold probability: 0.0021<br>hold: False<br>volume: -90.478903<br>modified volume: 90.4800<br>fee: nan<br>margin: nan<br>error: low free margin (order margin=106414.4328, order profit=-1755.3276302890504, free margin=5295.60532077697)",
          "order id: <br>hold probability: 0.0000<br>hold: False<br>volume: -84.837039<br>modified volume: 84.8400<br>fee: nan<br>margin: nan<br>error: low free margin (order margin=99591.9792, order profit=-1683.318064582996, free margin=5352.078139709921)",
          "order id: <br>hold probability: 0.0000<br>hold: False<br>volume: -53.812905<br>modified volume: 53.8100<br>fee: nan<br>margin: nan<br>error: low free margin (order margin=63116.9776, order profit=-1068.5057900511472, free margin=5352.078139709921)",
          "order id: <br>hold probability: 0.0000<br>hold: False<br>volume: -60.663907<br>modified volume: 60.6600<br>fee: nan<br>margin: nan<br>error: low free margin (order margin=71555.74919999999, order profit=-1135.2094423903486, free margin=5352.078139709921)",
          "order id: <br>hold probability: 0.0000<br>hold: False<br>volume: 14.375309<br>modified volume: 14.3800<br>fee: nan<br>margin: nan<br>error: low free margin (order margin=16935.0384, order profit=-298.9860783601121, free margin=5352.078139709921)",
          "order id: <br>hold probability: 0.0000<br>hold: False<br>volume: 46.122510<br>modified volume: 46.1200<br>fee: nan<br>margin: nan<br>error: low free margin (order margin=54216.36600000001, order profit=-1202.973422922642, free margin=5352.078139709921)",
          "order id: <br>hold probability: 0.0000<br>hold: False<br>volume: 76.018511<br>modified volume: 76.0200<br>fee: nan<br>margin: nan<br>error: low free margin (order margin=89487.7032, order profit=-1457.2283953848237, free margin=5352.078139709921)",
          "order id: <br>hold probability: 0.0000<br>hold: False<br>volume: -58.285446<br>modified volume: 58.2900<br>fee: nan<br>margin: nan<br>error: low free margin (order margin=68760.0498, order profit=-1063.8635742725144, free margin=5352.078139709921)",
          "order id: <br>hold probability: 0.0000<br>hold: False<br>volume: 98.538178<br>modified volume: 98.5400<br>fee: nan<br>margin: nan<br>error: low free margin (order margin=116358.9882, order profit=-2053.6111872263828, free margin=5352.078139709921)",
          "order id: <br>hold probability: 0.0000<br>hold: False<br>volume: -79.112465<br>modified volume: 79.1100<br>fee: nan<br>margin: nan<br>error: low free margin (order margin=93653.5824, order profit=-1378.6111623792442, free margin=5352.078139709921)",
          "order id: <br>hold probability: 0.0000<br>hold: False<br>volume: 66.439054<br>modified volume: 66.4400<br>fee: nan<br>margin: nan<br>error: low free margin (order margin=78893.5136, order profit=-1268.5382629914477, free margin=5352.078139709921)"
         ],
         "legendgroup": "g2",
         "marker": {
          "color": [
           "gray",
           "gray",
           "gray",
           "gray",
           "gray",
           "gray",
           "gray",
           "gray",
           "gray",
           "gray",
           "gray",
           "red",
           "gray",
           "gray",
           "gray",
           "gray",
           "gray",
           "gray",
           "gray",
           "gray",
           "gray",
           "gray",
           "gray",
           "gray",
           "gray",
           "gray",
           "gray",
           "gray",
           "gray",
           "gray",
           "gray",
           "gray",
           "gray",
           "gray",
           "gray",
           "gray"
          ],
          "size": [
           10.779504662588991,
           28.515391557204453,
           12.400882382432567,
           17.966509575854808,
           28.55730472275143,
           24.31966309034393,
           12.63471372706307,
           24.85129850596611,
           16.60984658578161,
           29.15732477689762,
           25.31454928306427,
           9.244159229920786,
           25.548380627694776,
           9.828737591497042,
           18.99227915371503,
           19.9562819612955,
           29.219091547177378,
           14.666399278050736,
           16.126742203950666,
           11.953073297904343,
           23.011531134061965,
           12.647949463551589,
           16.960593602727364,
           24.529228918078815,
           14.578161034793943,
           27.959490624686655,
           26.71533139476587,
           19.870249674120124,
           21.381329589892708,
           11.17216484508172,
           18.17386944750827,
           24.769678130953572,
           20.85851799859621,
           29.73749122631104,
           25.451318560112302,
           22.65637220495337
          ],
          "symbol": [
           "triangle-down",
           "triangle-down",
           "triangle-down",
           "triangle-down",
           "triangle-down",
           "triangle-down",
           "triangle-down",
           "triangle-down",
           "triangle-down",
           "triangle-down",
           "triangle-down",
           "triangle-down",
           "triangle-down",
           "triangle-down",
           "triangle-down",
           "triangle-down",
           "triangle-down",
           "triangle-down",
           "triangle-down",
           "triangle-down",
           "triangle-down",
           "triangle-down",
           "triangle-down",
           "triangle-down",
           "triangle-down",
           "triangle-down",
           "triangle-down",
           "triangle-down",
           "triangle-down",
           "triangle-down",
           "triangle-down",
           "triangle-down",
           "triangle-down",
           "triangle-down",
           "triangle-down",
           "triangle-down"
          ]
         },
         "mode": "markers",
         "name": "EURUSD",
         "showlegend": false,
         "x": [
          "2021-05-19T00:00:00+00:00",
          "2021-05-20T00:00:00+00:00",
          "2021-05-21T00:00:00+00:00",
          "2021-05-25T00:00:00+00:00",
          "2021-05-26T00:00:00+00:00",
          "2021-05-28T00:00:00+00:00",
          "2021-05-31T00:00:00+00:00",
          "2021-06-09T00:00:00+00:00",
          "2021-06-14T00:00:00+00:00",
          "2021-06-15T00:00:00+00:00",
          "2021-06-21T00:00:00+00:00",
          "2021-06-23T00:00:00+00:00",
          "2021-06-24T00:00:00+00:00",
          "2021-06-25T00:00:00+00:00",
          "2021-06-28T00:00:00+00:00",
          "2021-06-30T00:00:00+00:00",
          "2021-07-08T00:00:00+00:00",
          "2021-07-13T00:00:00+00:00",
          "2021-07-14T00:00:00+00:00",
          "2021-07-20T00:00:00+00:00",
          "2021-07-22T00:00:00+00:00",
          "2021-07-27T00:00:00+00:00",
          "2021-08-03T00:00:00+00:00",
          "2021-08-04T00:00:00+00:00",
          "2021-08-05T00:00:00+00:00",
          "2021-08-06T00:00:00+00:00",
          "2021-08-11T00:00:00+00:00",
          "2021-08-12T00:00:00+00:00",
          "2021-08-13T00:00:00+00:00",
          "2021-08-16T00:00:00+00:00",
          "2021-08-24T00:00:00+00:00",
          "2021-08-25T00:00:00+00:00",
          "2021-08-30T00:00:00+00:00",
          "2021-08-31T00:00:00+00:00",
          "2021-09-01T00:00:00+00:00",
          "2021-09-02T00:00:00+00:00"
         ],
         "y": [
          1.21744,
          1.22269,
          1.21806,
          1.22497,
          1.21922,
          1.21896,
          1.2225,
          1.21787,
          1.212,
          1.21264,
          1.19185,
          1.19258,
          1.19315,
          1.1937,
          1.19242,
          1.1856,
          1.18449,
          1.17765,
          1.18358,
          1.17805,
          1.17707,
          1.18165,
          1.18637,
          1.18367,
          1.18327,
          1.17611,
          1.17388,
          1.17296,
          1.17962,
          1.17768,
          1.17555,
          1.17716,
          1.17962,
          1.18083,
          1.18384,
          1.18744
         ],
         "yaxis": "y2",
         "type": "scatter"
        },
        {
         "hovertext": [
          "order id: 2<br>order type: Sell<br>close probability: 1.0000<br>margin: 6726.151200<br>profit: -722.437232"
         ],
         "legendgroup": "g2",
         "marker": {
          "color": "black",
          "line": {
           "width": 1.5
          },
          "size": 7,
          "symbol": "line-ns"
         },
         "mode": "markers",
         "name": "EURUSD",
         "showlegend": false,
         "x": [
          "2021-06-25T00:00:00+00:00"
         ],
         "y": [
          1.1937
         ],
         "yaxis": "y2",
         "type": "scatter"
        },
        {
         "hovertext": [
          "balance: 10000.000000 USD<br>equity: 10000.000000<br>margin: 0.000000<br>free margin: 10000.000000<br>margin level: inf",
          "balance: 10000.000000 USD<br>equity: 10000.000000<br>margin: 0.000000<br>free margin: 10000.000000<br>margin level: inf",
          "balance: 10000.000000 USD<br>equity: 10000.000000<br>margin: 0.000000<br>free margin: 10000.000000<br>margin level: inf",
          "balance: 10000.000000 USD<br>equity: 10000.000000<br>margin: 0.000000<br>free margin: 10000.000000<br>margin level: inf",
          "balance: 10000.000000 USD<br>equity: 10000.000000<br>margin: 0.000000<br>free margin: 10000.000000<br>margin level: inf",
          "balance: 10000.000000 USD<br>equity: 10000.000000<br>margin: 0.000000<br>free margin: 10000.000000<br>margin level: inf",
          "balance: 10000.000000 USD<br>equity: 10000.000000<br>margin: 0.000000<br>free margin: 10000.000000<br>margin level: inf",
          "balance: 10000.000000 USD<br>equity: 10000.000000<br>margin: 0.000000<br>free margin: 10000.000000<br>margin level: inf",
          "balance: 10000.000000 USD<br>equity: 10000.000000<br>margin: 0.000000<br>free margin: 10000.000000<br>margin level: inf",
          "balance: 10000.000000 USD<br>equity: 10000.000000<br>margin: 0.000000<br>free margin: 10000.000000<br>margin level: inf",
          "balance: 10000.000000 USD<br>equity: 10000.000000<br>margin: 0.000000<br>free margin: 10000.000000<br>margin level: inf",
          "balance: 10000.000000 USD<br>equity: 10000.000000<br>margin: 0.000000<br>free margin: 10000.000000<br>margin level: inf",
          "balance: 10000.000000 USD<br>equity: 10000.000000<br>margin: 0.000000<br>free margin: 10000.000000<br>margin level: inf",
          "balance: 10000.000000 USD<br>equity: 10000.000000<br>margin: 0.000000<br>free margin: 10000.000000<br>margin level: inf",
          "balance: 10000.000000 USD<br>equity: 10000.000000<br>margin: 0.000000<br>free margin: 10000.000000<br>margin level: inf",
          "balance: 10000.000000 USD<br>equity: 10000.000000<br>margin: 0.000000<br>free margin: 10000.000000<br>margin level: inf",
          "balance: 10000.000000 USD<br>equity: 10000.000000<br>margin: 0.000000<br>free margin: 10000.000000<br>margin level: inf",
          "balance: 10000.000000 USD<br>equity: 10000.000000<br>margin: 0.000000<br>free margin: 10000.000000<br>margin level: inf",
          "balance: 10000.000000 USD<br>equity: 10000.000000<br>margin: 0.000000<br>free margin: 10000.000000<br>margin level: inf",
          "balance: 10000.000000 USD<br>equity: 10000.000000<br>margin: 0.000000<br>free margin: 10000.000000<br>margin level: inf",
          "balance: 10000.000000 USD<br>equity: 10000.000000<br>margin: 0.000000<br>free margin: 10000.000000<br>margin level: inf",
          "balance: 10000.000000 USD<br>equity: 10000.000000<br>margin: 0.000000<br>free margin: 10000.000000<br>margin level: inf",
          "balance: 10000.000000 USD<br>equity: 10000.000000<br>margin: 0.000000<br>free margin: 10000.000000<br>margin level: inf",
          "balance: 10000.000000 USD<br>equity: 10000.000000<br>margin: 0.000000<br>free margin: 10000.000000<br>margin level: inf",
          "balance: 10000.000000 USD<br>equity: 10000.000000<br>margin: 0.000000<br>free margin: 10000.000000<br>margin level: inf",
          "balance: 10000.000000 USD<br>equity: 10000.000000<br>margin: 0.000000<br>free margin: 10000.000000<br>margin level: inf",
          "balance: 10000.000000 USD<br>equity: 10000.000000<br>margin: 0.000000<br>free margin: 10000.000000<br>margin level: inf",
          "balance: 10000.000000 USD<br>equity: 10000.000000<br>margin: 0.000000<br>free margin: 10000.000000<br>margin level: inf",
          "balance: 10000.000000 USD<br>equity: 10000.000000<br>margin: 0.000000<br>free margin: 10000.000000<br>margin level: inf",
          "balance: 10000.000000 USD<br>equity: 9978.972883<br>margin: 169.313471<br>free margin: 9809.659412<br>margin level: 58.937855",
          "balance: 9978.972883 USD<br>equity: 9978.972883<br>margin: 0.000000<br>free margin: 9978.972883<br>margin level: inf",
          "balance: 9978.972883 USD<br>equity: 9978.972883<br>margin: 0.000000<br>free margin: 9978.972883<br>margin level: inf",
          "balance: 9978.972883 USD<br>equity: 9978.972883<br>margin: 0.000000<br>free margin: 9978.972883<br>margin level: inf",
          "balance: 9978.972883 USD<br>equity: 9978.972883<br>margin: 0.000000<br>free margin: 9978.972883<br>margin level: inf",
          "balance: 9978.972883 USD<br>equity: 9978.972883<br>margin: 0.000000<br>free margin: 9978.972883<br>margin level: inf",
          "balance: 9978.972883 USD<br>equity: 9978.972883<br>margin: 0.000000<br>free margin: 9978.972883<br>margin level: inf",
          "balance: 9978.972883 USD<br>equity: 9566.735650<br>margin: 6726.151200<br>free margin: 2840.584450<br>margin level: 1.422319",
          "balance: 9978.972883 USD<br>equity: 9256.535650<br>margin: 6726.151200<br>free margin: 2530.384450<br>margin level: 1.376201",
          "balance: 9256.535650 USD<br>equity: 9256.535650<br>margin: 0.000000<br>free margin: 9256.535650<br>margin level: inf",
          "balance: 9256.535650 USD<br>equity: 9256.535650<br>margin: 0.000000<br>free margin: 9256.535650<br>margin level: inf",
          "balance: 9256.535650 USD<br>equity: 9256.535650<br>margin: 0.000000<br>free margin: 9256.535650<br>margin level: inf",
          "balance: 9256.535650 USD<br>equity: 9256.535650<br>margin: 0.000000<br>free margin: 9256.535650<br>margin level: inf",
          "balance: 9256.535650 USD<br>equity: 9256.535650<br>margin: 0.000000<br>free margin: 9256.535650<br>margin level: inf",
          "balance: 9256.535650 USD<br>equity: 9256.535650<br>margin: 0.000000<br>free margin: 9256.535650<br>margin level: inf",
          "balance: 9256.535650 USD<br>equity: 9256.535650<br>margin: 0.000000<br>free margin: 9256.535650<br>margin level: inf",
          "balance: 9256.535650 USD<br>equity: 9256.535650<br>margin: 0.000000<br>free margin: 9256.535650<br>margin level: inf",
          "balance: 9256.535650 USD<br>equity: 9256.535650<br>margin: 0.000000<br>free margin: 9256.535650<br>margin level: inf",
          "balance: 9256.535650 USD<br>equity: 9256.535650<br>margin: 0.000000<br>free margin: 9256.535650<br>margin level: inf",
          "balance: 9256.535650 USD<br>equity: 9256.535650<br>margin: 0.000000<br>free margin: 9256.535650<br>margin level: inf",
          "balance: 9256.535650 USD<br>equity: 9256.535650<br>margin: 0.000000<br>free margin: 9256.535650<br>margin level: inf",
          "balance: 9256.535650 USD<br>equity: 9256.535650<br>margin: 0.000000<br>free margin: 9256.535650<br>margin level: inf",
          "balance: 9256.535650 USD<br>equity: 9256.535650<br>margin: 0.000000<br>free margin: 9256.535650<br>margin level: inf",
          "balance: 9256.535650 USD<br>equity: 9256.535650<br>margin: 0.000000<br>free margin: 9256.535650<br>margin level: inf",
          "balance: 9256.535650 USD<br>equity: 9988.520392<br>margin: 2629.177254<br>free margin: 7359.343138<br>margin level: 3.799105",
          "balance: 9256.535650 USD<br>equity: 7723.733752<br>margin: 2629.177254<br>free margin: 5094.556498<br>margin level: 2.937700",
          "balance: 9256.535650 USD<br>equity: 6865.161313<br>margin: 2629.177254<br>free margin: 4235.984059<br>margin level: 2.611144",
          "balance: 6865.161313 USD<br>equity: 6865.161313<br>margin: 0.000000<br>free margin: 6865.161313<br>margin level: inf",
          "balance: 6865.161313 USD<br>equity: 6865.161313<br>margin: 0.000000<br>free margin: 6865.161313<br>margin level: inf",
          "balance: 6865.161313 USD<br>equity: 6865.161313<br>margin: 0.000000<br>free margin: 6865.161313<br>margin level: inf",
          "balance: 6865.161313 USD<br>equity: 6865.161313<br>margin: 0.000000<br>free margin: 6865.161313<br>margin level: inf",
          "balance: 6865.161313 USD<br>equity: 6865.161313<br>margin: 0.000000<br>free margin: 6865.161313<br>margin level: inf",
          "balance: 6865.161313 USD<br>equity: 5295.605321<br>margin: 3720.000000<br>free margin: 1575.605321<br>margin level: 1.423550",
          "balance: 5295.605321 USD<br>equity: 5295.605321<br>margin: 0.000000<br>free margin: 5295.605321<br>margin level: inf",
          "balance: 5295.605321 USD<br>equity: 5295.605321<br>margin: 0.000000<br>free margin: 5295.605321<br>margin level: inf",
          "balance: 5295.605321 USD<br>equity: 5295.605321<br>margin: 0.000000<br>free margin: 5295.605321<br>margin level: inf",
          "balance: 5295.605321 USD<br>equity: 5295.605321<br>margin: 0.000000<br>free margin: 5295.605321<br>margin level: inf",
          "balance: 5295.605321 USD<br>equity: 5295.605321<br>margin: 0.000000<br>free margin: 5295.605321<br>margin level: inf",
          "balance: 5295.605321 USD<br>equity: 5295.605321<br>margin: 0.000000<br>free margin: 5295.605321<br>margin level: inf",
          "balance: 5295.605321 USD<br>equity: 5352.078140<br>margin: 2220.000000<br>free margin: 3132.078140<br>margin level: 2.410846",
          "balance: 5352.078140 USD<br>equity: 5352.078140<br>margin: 0.000000<br>free margin: 5352.078140<br>margin level: inf",
          "balance: 5352.078140 USD<br>equity: 5352.078140<br>margin: 0.000000<br>free margin: 5352.078140<br>margin level: inf",
          "balance: 5352.078140 USD<br>equity: 5352.078140<br>margin: 0.000000<br>free margin: 5352.078140<br>margin level: inf",
          "balance: 5352.078140 USD<br>equity: 5352.078140<br>margin: 0.000000<br>free margin: 5352.078140<br>margin level: inf",
          "balance: 5352.078140 USD<br>equity: 5352.078140<br>margin: 0.000000<br>free margin: 5352.078140<br>margin level: inf",
          "balance: 5352.078140 USD<br>equity: 5352.078140<br>margin: 0.000000<br>free margin: 5352.078140<br>margin level: inf",
          "balance: 5352.078140 USD<br>equity: 5352.078140<br>margin: 0.000000<br>free margin: 5352.078140<br>margin level: inf",
          "balance: 5352.078140 USD<br>equity: 5352.078140<br>margin: 0.000000<br>free margin: 5352.078140<br>margin level: inf",
          "balance: 5352.078140 USD<br>equity: 5352.078140<br>margin: 0.000000<br>free margin: 5352.078140<br>margin level: inf",
          "balance: 5352.078140 USD<br>equity: 5352.078140<br>margin: 0.000000<br>free margin: 5352.078140<br>margin level: inf",
          "balance: 5352.078140 USD<br>equity: 5352.078140<br>margin: 0.000000<br>free margin: 5352.078140<br>margin level: inf",
          "balance: 5352.078140 USD<br>equity: 5352.078140<br>margin: 0.000000<br>free margin: 5352.078140<br>margin level: inf",
          "balance: 5352.078140 USD<br>equity: 5352.078140<br>margin: 0.000000<br>free margin: 5352.078140<br>margin level: inf",
          "balance: 5352.078140 USD<br>equity: 5352.078140<br>margin: 0.000000<br>free margin: 5352.078140<br>margin level: inf",
          "balance: 5352.078140 USD<br>equity: 5352.078140<br>margin: 0.000000<br>free margin: 5352.078140<br>margin level: inf",
          "balance: 5352.078140 USD<br>equity: 5352.078140<br>margin: 0.000000<br>free margin: 5352.078140<br>margin level: inf",
          "balance: 5352.078140 USD<br>equity: 5352.078140<br>margin: 0.000000<br>free margin: 5352.078140<br>margin level: inf",
          "balance: 5352.078140 USD<br>equity: 5352.078140<br>margin: 0.000000<br>free margin: 5352.078140<br>margin level: inf",
          "balance: 5352.078140 USD<br>equity: 5352.078140<br>margin: 0.000000<br>free margin: 5352.078140<br>margin level: inf"
         ],
         "legendgroup": "g3",
         "line": {
          "color": "rgba(0.7372549019607844, 0.7411764705882353, 0.13333333333333333, 1.0)"
         },
         "mode": "lines+markers",
         "name": "USDJPY",
         "opacity": 1.0,
         "x": [
          "2021-05-05T00:00:00+00:00",
          "2021-05-06T00:00:00+00:00",
          "2021-05-07T00:00:00+00:00",
          "2021-05-10T00:00:00+00:00",
          "2021-05-11T00:00:00+00:00",
          "2021-05-12T00:00:00+00:00",
          "2021-05-13T00:00:00+00:00",
          "2021-05-14T00:00:00+00:00",
          "2021-05-17T00:00:00+00:00",
          "2021-05-18T00:00:00+00:00",
          "2021-05-19T00:00:00+00:00",
          "2021-05-20T00:00:00+00:00",
          "2021-05-21T00:00:00+00:00",
          "2021-05-24T00:00:00+00:00",
          "2021-05-25T00:00:00+00:00",
          "2021-05-26T00:00:00+00:00",
          "2021-05-27T00:00:00+00:00",
          "2021-05-28T00:00:00+00:00",
          "2021-05-31T00:00:00+00:00",
          "2021-06-01T00:00:00+00:00",
          "2021-06-02T00:00:00+00:00",
          "2021-06-03T00:00:00+00:00",
          "2021-06-04T00:00:00+00:00",
          "2021-06-07T00:00:00+00:00",
          "2021-06-08T00:00:00+00:00",
          "2021-06-09T00:00:00+00:00",
          "2021-06-10T00:00:00+00:00",
          "2021-06-11T00:00:00+00:00",
          "2021-06-14T00:00:00+00:00",
          "2021-06-15T00:00:00+00:00",
          "2021-06-16T00:00:00+00:00",
          "2021-06-17T00:00:00+00:00",
          "2021-06-18T00:00:00+00:00",
          "2021-06-21T00:00:00+00:00",
          "2021-06-22T00:00:00+00:00",
          "2021-06-23T00:00:00+00:00",
          "2021-06-24T00:00:00+00:00",
          "2021-06-25T00:00:00+00:00",
          "2021-06-28T00:00:00+00:00",
          "2021-06-29T00:00:00+00:00",
          "2021-06-30T00:00:00+00:00",
          "2021-07-01T00:00:00+00:00",
          "2021-07-02T00:00:00+00:00",
          "2021-07-05T00:00:00+00:00",
          "2021-07-06T00:00:00+00:00",
          "2021-07-07T00:00:00+00:00",
          "2021-07-08T00:00:00+00:00",
          "2021-07-09T00:00:00+00:00",
          "2021-07-12T00:00:00+00:00",
          "2021-07-13T00:00:00+00:00",
          "2021-07-14T00:00:00+00:00",
          "2021-07-15T00:00:00+00:00",
          "2021-07-16T00:00:00+00:00",
          "2021-07-19T00:00:00+00:00",
          "2021-07-20T00:00:00+00:00",
          "2021-07-21T00:00:00+00:00",
          "2021-07-22T00:00:00+00:00",
          "2021-07-23T00:00:00+00:00",
          "2021-07-26T00:00:00+00:00",
          "2021-07-27T00:00:00+00:00",
          "2021-07-28T00:00:00+00:00",
          "2021-07-29T00:00:00+00:00",
          "2021-07-30T00:00:00+00:00",
          "2021-08-02T00:00:00+00:00",
          "2021-08-03T00:00:00+00:00",
          "2021-08-04T00:00:00+00:00",
          "2021-08-05T00:00:00+00:00",
          "2021-08-06T00:00:00+00:00",
          "2021-08-09T00:00:00+00:00",
          "2021-08-10T00:00:00+00:00",
          "2021-08-11T00:00:00+00:00",
          "2021-08-12T00:00:00+00:00",
          "2021-08-13T00:00:00+00:00",
          "2021-08-16T00:00:00+00:00",
          "2021-08-17T00:00:00+00:00",
          "2021-08-18T00:00:00+00:00",
          "2021-08-19T00:00:00+00:00",
          "2021-08-20T00:00:00+00:00",
          "2021-08-23T00:00:00+00:00",
          "2021-08-24T00:00:00+00:00",
          "2021-08-25T00:00:00+00:00",
          "2021-08-26T00:00:00+00:00",
          "2021-08-27T00:00:00+00:00",
          "2021-08-30T00:00:00+00:00",
          "2021-08-31T00:00:00+00:00",
          "2021-09-01T00:00:00+00:00",
          "2021-09-02T00:00:00+00:00",
          "2021-09-03T00:00:00+00:00"
         ],
         "y": [
          109.188,
          109.09,
          108.604,
          108.81,
          108.615,
          109.699,
          109.453,
          109.362,
          109.209,
          108.888,
          109.227,
          108.767,
          108.945,
          108.74,
          108.747,
          109.139,
          109.808,
          109.872,
          109.556,
          109.467,
          109.547,
          110.276,
          109.524,
          109.238,
          109.492,
          109.618,
          109.319,
          109.682,
          110.071,
          110.056,
          110.708,
          110.221,
          110.211,
          110.314,
          110.658,
          110.949,
          110.874,
          110.778,
          110.614,
          110.538,
          111.101,
          111.521,
          111.02,
          110.962,
          110.61,
          110.608,
          109.748,
          110.102,
          110.349,
          110.627,
          109.95,
          109.831,
          110.081,
          109.447,
          109.843,
          110.286,
          110.149,
          110.547,
          110.381,
          109.774,
          109.909,
          109.47,
          109.656,
          109.305,
          109.042,
          109.473,
          109.761,
          110.217,
          110.267,
          110.56,
          110.428,
          110.386,
          109.592,
          109.243,
          109.595,
          109.763,
          109.763,
          109.799,
          109.694,
          109.679,
          110.023,
          110.081,
          109.85,
          109.913,
          110.007,
          110.025,
          109.937,
          109.712
         ],
         "yaxis": "y3",
         "type": "scatter"
        },
        {
         "hovertext": [
          "order id: <br>hold probability: 0.0000<br>hold: False<br>volume: 14.561989<br>modified volume: 14.5600<br>fee: nan<br>margin: nan<br>error: low free margin (order margin=14559.999999999998, order profit=-270.9998273722032, free margin=10000.0)",
          "order id: <br>hold probability: 0.0000<br>hold: False<br>volume: 53.829318<br>modified volume: 53.8300<br>fee: nan<br>margin: nan<br>error: low free margin (order margin=53830.00000000001, order profit=-906.0877109929825, free margin=10000.0)",
          "order id: <br>hold probability: 0.0000<br>hold: False<br>volume: -66.854883<br>modified volume: 66.8500<br>fee: nan<br>margin: nan<br>error: low free margin (order margin=66849.99999999999, order profit=-1155.846033077765, free margin=10000.0)",
          "order id: <br>hold probability: 0.0000<br>hold: False<br>volume: -43.497560<br>modified volume: 43.5000<br>fee: nan<br>margin: nan<br>error: low free margin (order margin=43500.0, order profit=-781.8434417384501, free margin=10000.0)",
          "order id: <br>hold probability: 0.0000<br>hold: False<br>volume: 45.732385<br>modified volume: 45.7300<br>fee: nan<br>margin: nan<br>error: low free margin (order margin=45730.00000000001, order profit=-864.7665472808194, free margin=10000.0)",
          "order id: <br>hold probability: 0.0000<br>hold: False<br>volume: 20.991007<br>modified volume: 20.9900<br>fee: nan<br>margin: nan<br>error: low free margin (order margin=20990.0, order profit=-347.7802635160341, free margin=9824.513372518073)",
          "order id: <br>hold probability: 0.0000<br>hold: False<br>volume: -41.288791<br>modified volume: 41.2900<br>fee: nan<br>margin: nan<br>error: low free margin (order margin=41290.0, order profit=-690.8573829260818, free margin=9978.97288278756)",
          "order id: <br>hold probability: 0.0000<br>hold: False<br>volume: 53.279300<br>modified volume: 53.2800<br>fee: nan<br>margin: nan<br>error: low free margin (order margin=53280.0, order profit=-1012.7758443686554, free margin=9978.97288278756)",
          "order id: <br>hold probability: 0.0034<br>hold: False<br>volume: -97.136508<br>modified volume: 97.1400<br>fee: nan<br>margin: nan<br>error: low free margin (order margin=97140.0, order profit=-2041.9726080602225, free margin=9978.97288278756)",
          "order id: <br>hold probability: 0.0000<br>hold: False<br>volume: -68.718750<br>modified volume: 68.7200<br>fee: nan<br>margin: nan<br>error: low free margin (order margin=68720.0, order profit=-1512.9568288008124, free margin=9978.97288278756)",
          "order id: <br>hold probability: 0.0000<br>hold: False<br>volume: -81.978894<br>modified volume: 81.9800<br>fee: nan<br>margin: nan<br>error: low free margin (order margin=81980.0, order profit=-1552.8973825704575, free margin=2840.584450360222)",
          "order id: <br>hold probability: 0.0000<br>hold: False<br>volume: 49.982007<br>modified volume: 49.9800<br>fee: nan<br>margin: nan<br>error: low free margin (order margin=49980.0, order profit=-954.0254195369154, free margin=9256.535650360194)",
          "order id: <br>hold probability: 0.0000<br>hold: False<br>volume: -21.251152<br>modified volume: 21.2500<br>fee: nan<br>margin: nan<br>error: low free margin (order margin=21250.0, order profit=-444.4287203999542, free margin=9256.535650360194)",
          "order id: <br>hold probability: 0.0000<br>hold: False<br>volume: 31.852042<br>modified volume: 31.8500<br>fee: nan<br>margin: nan<br>error: low free margin (order margin=31850.0, order profit=-569.8721862803213, free margin=9256.535650360194)",
          "order id: <br>hold probability: 0.0000<br>hold: False<br>volume: -88.902889<br>modified volume: 88.9000<br>fee: nan<br>margin: nan<br>error: low free margin (order margin=88900.0, order profit=-1580.990221454106, free margin=9256.535650360194)",
          "order id: <br>hold probability: 0.0000<br>hold: False<br>volume: -8.926597<br>modified volume: 8.9300<br>fee: nan<br>margin: nan<br>error: low free margin (order margin=8930.0, order profit=-148.35940693342582, free margin=6519.05154704238)",
          "order id: <br>hold probability: 0.0017<br>hold: False<br>volume: -10.787562<br>modified volume: 10.7900<br>fee: nan<br>margin: nan<br>error: low free margin (order margin=10789.999999999998, order profit=-228.42087404143797, free margin=6865.161313289139)",
          "order id: <br>hold probability: 0.0000<br>hold: False<br>volume: 29.845860<br>modified volume: 29.8500<br>fee: nan<br>margin: nan<br>error: low free margin (order margin=29850.0, order profit=-666.796884672482, free margin=6865.161313289139)",
          "order id: <br>hold probability: 0.0000<br>hold: False<br>volume: 54.829460<br>modified volume: 54.8300<br>fee: nan<br>margin: nan<br>error: low free margin (order margin=54830.0, order profit=-1067.9117620180468, free margin=6865.161313289139)",
          "order id: <br>hold probability: 0.0000<br>hold: False<br>volume: -90.612813<br>modified volume: 90.6100<br>fee: nan<br>margin: nan<br>error: low free margin (order margin=90610.00000000001, order profit=-1082.0797624149773, free margin=6865.161313289139)",
          "order id: 4<br>hold probability: 0.0000<br>hold: False<br>volume: 3.719390<br>modified volume: 3.7200<br>fee: 0.022880<br>margin: 3720.000000<br>error: ",
          "order id: <br>hold probability: 0.0000<br>hold: False<br>volume: -37.283390<br>modified volume: 37.2800<br>fee: nan<br>margin: nan<br>error: low free margin (order margin=37280.0, order profit=-623.226957038536, free margin=5295.60532077697)",
          "order id: <br>hold probability: 0.0000<br>hold: False<br>volume: -91.422726<br>modified volume: 91.4200<br>fee: nan<br>margin: nan<br>error: low free margin (order margin=91420.0, order profit=-1881.860394642355, free margin=5295.60532077697)",
          "order id: <br>hold probability: 0.0000<br>hold: False<br>volume: 41.266456<br>modified volume: 41.2700<br>fee: nan<br>margin: nan<br>error: low free margin (order margin=41270.00000000001, order profit=-622.8401880560328, free margin=5295.60532077697)",
          "order id: <br>hold probability: 0.0000<br>hold: False<br>volume: -33.958424<br>modified volume: 33.9600<br>fee: nan<br>margin: nan<br>error: low free margin (order margin=33960.0, order profit=-452.7948107011342, free margin=5295.60532077697)",
          "order id: 5<br>hold probability: 0.0000<br>hold: False<br>volume: 2.216630<br>modified volume: 2.2200<br>fee: 0.021950<br>margin: 2220.000000<br>error: ",
          "order id: <br>hold probability: 0.0000<br>hold: False<br>volume: -8.702230<br>modified volume: 8.7000<br>fee: nan<br>margin: nan<br>error: low free margin (order margin=8700.000000000002, order profit=-157.7116713452292, free margin=5352.078139709921)",
          "order id: <br>hold probability: 0.0000<br>hold: False<br>volume: -24.573999<br>modified volume: 24.5700<br>fee: nan<br>margin: nan<br>error: low free margin (order margin=24570.0, order profit=-429.1040152594996, free margin=5352.078139709921)",
          "order id: <br>hold probability: 0.0000<br>hold: False<br>volume: -94.741684<br>modified volume: 94.7400<br>fee: nan<br>margin: nan<br>error: low free margin (order margin=94740.0, order profit=-1586.6397674586246, free margin=5352.078139709921)",
          "order id: <br>hold probability: 0.0000<br>hold: False<br>volume: 42.561026<br>modified volume: 42.5600<br>fee: nan<br>margin: nan<br>error: low free margin (order margin=42560.0, order profit=-698.235502207875, free margin=5352.078139709921)",
          "order id: <br>hold probability: 0.0000<br>hold: False<br>volume: 99.608110<br>modified volume: 99.6100<br>fee: nan<br>margin: nan<br>error: low free margin (order margin=99610.0, order profit=-1715.4639237350739, free margin=5352.078139709921)",
          "order id: <br>hold probability: 0.0000<br>hold: False<br>volume: 17.500403<br>modified volume: 17.5000<br>fee: nan<br>margin: nan<br>error: low free margin (order margin=17500.0, order profit=-300.8297278944574, free margin=5352.078139709921)",
          "order id: <br>hold probability: 0.0000<br>hold: False<br>volume: -61.773802<br>modified volume: 61.7700<br>fee: nan<br>margin: nan<br>error: low free margin (order margin=61770.0, order profit=-1092.406829814863, free margin=5352.078139709921)",
          "order id: <br>hold probability: 0.0000<br>hold: False<br>volume: -44.262338<br>modified volume: 44.2600<br>fee: nan<br>margin: nan<br>error: low free margin (order margin=44260.0, order profit=-890.9809597488438, free margin=5352.078139709921)"
         ],
         "legendgroup": "g3",
         "marker": {
          "color": [
           "gray",
           "gray",
           "gray",
           "gray",
           "gray",
           "gray",
           "gray",
           "gray",
           "gray",
           "gray",
           "gray",
           "gray",
           "gray",
           "gray",
           "gray",
           "gray",
           "gray",
           "gray",
           "gray",
           "gray",
           "green",
           "gray",
           "gray",
           "gray",
           "gray",
           "green",
           "gray",
           "gray",
           "gray",
           "gray",
           "gray",
           "gray",
           "gray",
           "gray"
          ],
          "size": [
           11.215741391426564,
           19.88896697118763,
           22.764581869290232,
           17.607469129605462,
           18.099989960847303,
           12.635879931733761,
           17.119365525549643,
           19.767493223571933,
           29.45447244252585,
           23.177592611183613,
           26.106214235518525,
           19.038650737877724,
           12.693303885152094,
           15.034434293745608,
           27.634574841883346,
           9.972291938560385,
           10.383094066860757,
           14.592711575143058,
           20.109828330488906,
           28.012247766288525,
           8.821604256600743,
           16.23371147475153,
           28.19114546732256,
           17.114948298363622,
           15.500451761871298,
           8.49031221764883,
           9.921493825921093,
           13.426563598032326,
           28.92440518020279,
           17.399859451862262,
           30.0,
           11.865073787772312,
           21.642606164039755,
           17.775323762674432
          ],
          "symbol": [
           "triangle-down",
           "triangle-down",
           "triangle-down",
           "triangle-down",
           "triangle-down",
           "triangle-down",
           "triangle-down",
           "triangle-down",
           "triangle-down",
           "triangle-down",
           "triangle-down",
           "triangle-down",
           "triangle-down",
           "triangle-down",
           "triangle-down",
           "triangle-down",
           "triangle-down",
           "triangle-down",
           "triangle-down",
           "triangle-down",
           "triangle-up",
           "triangle-down",
           "triangle-down",
           "triangle-down",
           "triangle-down",
           "triangle-up",
           "triangle-down",
           "triangle-down",
           "triangle-down",
           "triangle-down",
           "triangle-down",
           "triangle-down",
           "triangle-down",
           "triangle-down"
          ]
         },
         "mode": "markers",
         "name": "USDJPY",
         "showlegend": false,
         "x": [
          "2021-05-18T00:00:00+00:00",
          "2021-05-20T00:00:00+00:00",
          "2021-05-24T00:00:00+00:00",
          "2021-06-08T00:00:00+00:00",
          "2021-06-11T00:00:00+00:00",
          "2021-06-14T00:00:00+00:00",
          "2021-06-15T00:00:00+00:00",
          "2021-06-16T00:00:00+00:00",
          "2021-06-21T00:00:00+00:00",
          "2021-06-22T00:00:00+00:00",
          "2021-06-24T00:00:00+00:00",
          "2021-06-30T00:00:00+00:00",
          "2021-07-05T00:00:00+00:00",
          "2021-07-06T00:00:00+00:00",
          "2021-07-12T00:00:00+00:00",
          "2021-07-16T00:00:00+00:00",
          "2021-07-21T00:00:00+00:00",
          "2021-07-22T00:00:00+00:00",
          "2021-07-23T00:00:00+00:00",
          "2021-07-27T00:00:00+00:00",
          "2021-07-28T00:00:00+00:00",
          "2021-07-29T00:00:00+00:00",
          "2021-07-30T00:00:00+00:00",
          "2021-08-03T00:00:00+00:00",
          "2021-08-05T00:00:00+00:00",
          "2021-08-06T00:00:00+00:00",
          "2021-08-09T00:00:00+00:00",
          "2021-08-10T00:00:00+00:00",
          "2021-08-13T00:00:00+00:00",
          "2021-08-18T00:00:00+00:00",
          "2021-08-20T00:00:00+00:00",
          "2021-08-23T00:00:00+00:00",
          "2021-08-26T00:00:00+00:00",
          "2021-08-30T00:00:00+00:00"
         ],
         "y": [
          108.888,
          108.767,
          108.74,
          109.492,
          109.682,
          110.071,
          110.056,
          110.708,
          110.314,
          110.658,
          110.874,
          111.101,
          110.962,
          110.61,
          110.349,
          110.081,
          110.286,
          110.149,
          110.547,
          109.774,
          109.909,
          109.47,
          109.656,
          109.042,
          109.761,
          110.217,
          110.267,
          110.56,
          109.592,
          109.763,
          109.799,
          109.694,
          110.081,
          109.913
         ],
         "yaxis": "y3",
         "type": "scatter"
        },
        {
         "hovertext": [
          "order id: 4<br>order type: Buy<br>close probability: 1.0000<br>margin: 3720.000000<br>profit: -1569.555993",
          "order id: 5<br>order type: Buy<br>close probability: 1.0000<br>margin: 2220.000000<br>profit: 56.472819"
         ],
         "legendgroup": "g3",
         "marker": {
          "color": "black",
          "line": {
           "width": 1.5
          },
          "size": 7,
          "symbol": "line-ns"
         },
         "mode": "markers",
         "name": "USDJPY",
         "showlegend": false,
         "x": [
          "2021-07-29T00:00:00+00:00",
          "2021-08-09T00:00:00+00:00"
         ],
         "y": [
          109.47,
          110.267
         ],
         "yaxis": "y3",
         "type": "scatter"
        }
       ],
       "layout": {
        "template": {
         "data": {
          "histogram2dcontour": [
           {
            "type": "histogram2dcontour",
            "colorbar": {
             "outlinewidth": 0,
             "ticks": ""
            },
            "colorscale": [
             [
              0.0,
              "#0d0887"
             ],
             [
              0.1111111111111111,
              "#46039f"
             ],
             [
              0.2222222222222222,
              "#7201a8"
             ],
             [
              0.3333333333333333,
              "#9c179e"
             ],
             [
              0.4444444444444444,
              "#bd3786"
             ],
             [
              0.5555555555555556,
              "#d8576b"
             ],
             [
              0.6666666666666666,
              "#ed7953"
             ],
             [
              0.7777777777777778,
              "#fb9f3a"
             ],
             [
              0.8888888888888888,
              "#fdca26"
             ],
             [
              1.0,
              "#f0f921"
             ]
            ]
           }
          ],
          "choropleth": [
           {
            "type": "choropleth",
            "colorbar": {
             "outlinewidth": 0,
             "ticks": ""
            }
           }
          ],
          "histogram2d": [
           {
            "type": "histogram2d",
            "colorbar": {
             "outlinewidth": 0,
             "ticks": ""
            },
            "colorscale": [
             [
              0.0,
              "#0d0887"
             ],
             [
              0.1111111111111111,
              "#46039f"
             ],
             [
              0.2222222222222222,
              "#7201a8"
             ],
             [
              0.3333333333333333,
              "#9c179e"
             ],
             [
              0.4444444444444444,
              "#bd3786"
             ],
             [
              0.5555555555555556,
              "#d8576b"
             ],
             [
              0.6666666666666666,
              "#ed7953"
             ],
             [
              0.7777777777777778,
              "#fb9f3a"
             ],
             [
              0.8888888888888888,
              "#fdca26"
             ],
             [
              1.0,
              "#f0f921"
             ]
            ]
           }
          ],
          "heatmap": [
           {
            "type": "heatmap",
            "colorbar": {
             "outlinewidth": 0,
             "ticks": ""
            },
            "colorscale": [
             [
              0.0,
              "#0d0887"
             ],
             [
              0.1111111111111111,
              "#46039f"
             ],
             [
              0.2222222222222222,
              "#7201a8"
             ],
             [
              0.3333333333333333,
              "#9c179e"
             ],
             [
              0.4444444444444444,
              "#bd3786"
             ],
             [
              0.5555555555555556,
              "#d8576b"
             ],
             [
              0.6666666666666666,
              "#ed7953"
             ],
             [
              0.7777777777777778,
              "#fb9f3a"
             ],
             [
              0.8888888888888888,
              "#fdca26"
             ],
             [
              1.0,
              "#f0f921"
             ]
            ]
           }
          ],
          "heatmapgl": [
           {
            "type": "heatmapgl",
            "colorbar": {
             "outlinewidth": 0,
             "ticks": ""
            },
            "colorscale": [
             [
              0.0,
              "#0d0887"
             ],
             [
              0.1111111111111111,
              "#46039f"
             ],
             [
              0.2222222222222222,
              "#7201a8"
             ],
             [
              0.3333333333333333,
              "#9c179e"
             ],
             [
              0.4444444444444444,
              "#bd3786"
             ],
             [
              0.5555555555555556,
              "#d8576b"
             ],
             [
              0.6666666666666666,
              "#ed7953"
             ],
             [
              0.7777777777777778,
              "#fb9f3a"
             ],
             [
              0.8888888888888888,
              "#fdca26"
             ],
             [
              1.0,
              "#f0f921"
             ]
            ]
           }
          ],
          "contourcarpet": [
           {
            "type": "contourcarpet",
            "colorbar": {
             "outlinewidth": 0,
             "ticks": ""
            }
           }
          ],
          "contour": [
           {
            "type": "contour",
            "colorbar": {
             "outlinewidth": 0,
             "ticks": ""
            },
            "colorscale": [
             [
              0.0,
              "#0d0887"
             ],
             [
              0.1111111111111111,
              "#46039f"
             ],
             [
              0.2222222222222222,
              "#7201a8"
             ],
             [
              0.3333333333333333,
              "#9c179e"
             ],
             [
              0.4444444444444444,
              "#bd3786"
             ],
             [
              0.5555555555555556,
              "#d8576b"
             ],
             [
              0.6666666666666666,
              "#ed7953"
             ],
             [
              0.7777777777777778,
              "#fb9f3a"
             ],
             [
              0.8888888888888888,
              "#fdca26"
             ],
             [
              1.0,
              "#f0f921"
             ]
            ]
           }
          ],
          "surface": [
           {
            "type": "surface",
            "colorbar": {
             "outlinewidth": 0,
             "ticks": ""
            },
            "colorscale": [
             [
              0.0,
              "#0d0887"
             ],
             [
              0.1111111111111111,
              "#46039f"
             ],
             [
              0.2222222222222222,
              "#7201a8"
             ],
             [
              0.3333333333333333,
              "#9c179e"
             ],
             [
              0.4444444444444444,
              "#bd3786"
             ],
             [
              0.5555555555555556,
              "#d8576b"
             ],
             [
              0.6666666666666666,
              "#ed7953"
             ],
             [
              0.7777777777777778,
              "#fb9f3a"
             ],
             [
              0.8888888888888888,
              "#fdca26"
             ],
             [
              1.0,
              "#f0f921"
             ]
            ]
           }
          ],
          "mesh3d": [
           {
            "type": "mesh3d",
            "colorbar": {
             "outlinewidth": 0,
             "ticks": ""
            }
           }
          ],
          "scatter": [
           {
            "marker": {
             "line": {
              "color": "#283442"
             }
            },
            "type": "scatter"
           }
          ],
          "parcoords": [
           {
            "type": "parcoords",
            "line": {
             "colorbar": {
              "outlinewidth": 0,
              "ticks": ""
             }
            }
           }
          ],
          "scatterpolargl": [
           {
            "type": "scatterpolargl",
            "marker": {
             "colorbar": {
              "outlinewidth": 0,
              "ticks": ""
             }
            }
           }
          ],
          "bar": [
           {
            "error_x": {
             "color": "#f2f5fa"
            },
            "error_y": {
             "color": "#f2f5fa"
            },
            "marker": {
             "line": {
              "color": "rgb(17,17,17)",
              "width": 0.5
             },
             "pattern": {
              "fillmode": "overlay",
              "size": 10,
              "solidity": 0.2
             }
            },
            "type": "bar"
           }
          ],
          "scattergeo": [
           {
            "type": "scattergeo",
            "marker": {
             "colorbar": {
              "outlinewidth": 0,
              "ticks": ""
             }
            }
           }
          ],
          "scatterpolar": [
           {
            "type": "scatterpolar",
            "marker": {
             "colorbar": {
              "outlinewidth": 0,
              "ticks": ""
             }
            }
           }
          ],
          "histogram": [
           {
            "marker": {
             "pattern": {
              "fillmode": "overlay",
              "size": 10,
              "solidity": 0.2
             }
            },
            "type": "histogram"
           }
          ],
          "scattergl": [
           {
            "marker": {
             "line": {
              "color": "#283442"
             }
            },
            "type": "scattergl"
           }
          ],
          "scatter3d": [
           {
            "type": "scatter3d",
            "line": {
             "colorbar": {
              "outlinewidth": 0,
              "ticks": ""
             }
            },
            "marker": {
             "colorbar": {
              "outlinewidth": 0,
              "ticks": ""
             }
            }
           }
          ],
          "scattermapbox": [
           {
            "type": "scattermapbox",
            "marker": {
             "colorbar": {
              "outlinewidth": 0,
              "ticks": ""
             }
            }
           }
          ],
          "scatterternary": [
           {
            "type": "scatterternary",
            "marker": {
             "colorbar": {
              "outlinewidth": 0,
              "ticks": ""
             }
            }
           }
          ],
          "scattercarpet": [
           {
            "type": "scattercarpet",
            "marker": {
             "colorbar": {
              "outlinewidth": 0,
              "ticks": ""
             }
            }
           }
          ],
          "carpet": [
           {
            "aaxis": {
             "endlinecolor": "#A2B1C6",
             "gridcolor": "#506784",
             "linecolor": "#506784",
             "minorgridcolor": "#506784",
             "startlinecolor": "#A2B1C6"
            },
            "baxis": {
             "endlinecolor": "#A2B1C6",
             "gridcolor": "#506784",
             "linecolor": "#506784",
             "minorgridcolor": "#506784",
             "startlinecolor": "#A2B1C6"
            },
            "type": "carpet"
           }
          ],
          "table": [
           {
            "cells": {
             "fill": {
              "color": "#506784"
             },
             "line": {
              "color": "rgb(17,17,17)"
             }
            },
            "header": {
             "fill": {
              "color": "#2a3f5f"
             },
             "line": {
              "color": "rgb(17,17,17)"
             }
            },
            "type": "table"
           }
          ],
          "barpolar": [
           {
            "marker": {
             "line": {
              "color": "rgb(17,17,17)",
              "width": 0.5
             },
             "pattern": {
              "fillmode": "overlay",
              "size": 10,
              "solidity": 0.2
             }
            },
            "type": "barpolar"
           }
          ],
          "pie": [
           {
            "automargin": true,
            "type": "pie"
           }
          ]
         },
         "layout": {
          "autotypenumbers": "strict",
          "colorway": [
           "#636efa",
           "#EF553B",
           "#00cc96",
           "#ab63fa",
           "#FFA15A",
           "#19d3f3",
           "#FF6692",
           "#B6E880",
           "#FF97FF",
           "#FECB52"
          ],
          "font": {
           "color": "#f2f5fa"
          },
          "hovermode": "closest",
          "hoverlabel": {
           "align": "left"
          },
          "paper_bgcolor": "rgb(17,17,17)",
          "plot_bgcolor": "rgb(17,17,17)",
          "polar": {
           "bgcolor": "rgb(17,17,17)",
           "angularaxis": {
            "gridcolor": "#506784",
            "linecolor": "#506784",
            "ticks": ""
           },
           "radialaxis": {
            "gridcolor": "#506784",
            "linecolor": "#506784",
            "ticks": ""
           }
          },
          "ternary": {
           "bgcolor": "rgb(17,17,17)",
           "aaxis": {
            "gridcolor": "#506784",
            "linecolor": "#506784",
            "ticks": ""
           },
           "baxis": {
            "gridcolor": "#506784",
            "linecolor": "#506784",
            "ticks": ""
           },
           "caxis": {
            "gridcolor": "#506784",
            "linecolor": "#506784",
            "ticks": ""
           }
          },
          "coloraxis": {
           "colorbar": {
            "outlinewidth": 0,
            "ticks": ""
           }
          },
          "colorscale": {
           "sequential": [
            [
             0.0,
             "#0d0887"
            ],
            [
             0.1111111111111111,
             "#46039f"
            ],
            [
             0.2222222222222222,
             "#7201a8"
            ],
            [
             0.3333333333333333,
             "#9c179e"
            ],
            [
             0.4444444444444444,
             "#bd3786"
            ],
            [
             0.5555555555555556,
             "#d8576b"
            ],
            [
             0.6666666666666666,
             "#ed7953"
            ],
            [
             0.7777777777777778,
             "#fb9f3a"
            ],
            [
             0.8888888888888888,
             "#fdca26"
            ],
            [
             1.0,
             "#f0f921"
            ]
           ],
           "sequentialminus": [
            [
             0.0,
             "#0d0887"
            ],
            [
             0.1111111111111111,
             "#46039f"
            ],
            [
             0.2222222222222222,
             "#7201a8"
            ],
            [
             0.3333333333333333,
             "#9c179e"
            ],
            [
             0.4444444444444444,
             "#bd3786"
            ],
            [
             0.5555555555555556,
             "#d8576b"
            ],
            [
             0.6666666666666666,
             "#ed7953"
            ],
            [
             0.7777777777777778,
             "#fb9f3a"
            ],
            [
             0.8888888888888888,
             "#fdca26"
            ],
            [
             1.0,
             "#f0f921"
            ]
           ],
           "diverging": [
            [
             0,
             "#8e0152"
            ],
            [
             0.1,
             "#c51b7d"
            ],
            [
             0.2,
             "#de77ae"
            ],
            [
             0.3,
             "#f1b6da"
            ],
            [
             0.4,
             "#fde0ef"
            ],
            [
             0.5,
             "#f7f7f7"
            ],
            [
             0.6,
             "#e6f5d0"
            ],
            [
             0.7,
             "#b8e186"
            ],
            [
             0.8,
             "#7fbc41"
            ],
            [
             0.9,
             "#4d9221"
            ],
            [
             1,
             "#276419"
            ]
           ]
          },
          "xaxis": {
           "gridcolor": "#283442",
           "linecolor": "#506784",
           "ticks": "",
           "title": {
            "standoff": 15
           },
           "zerolinecolor": "#283442",
           "automargin": true,
           "zerolinewidth": 2
          },
          "yaxis": {
           "gridcolor": "#283442",
           "linecolor": "#506784",
           "ticks": "",
           "title": {
            "standoff": 15
           },
           "zerolinecolor": "#283442",
           "automargin": true,
           "zerolinewidth": 2
          },
          "scene": {
           "xaxis": {
            "backgroundcolor": "rgb(17,17,17)",
            "gridcolor": "#506784",
            "linecolor": "#506784",
            "showbackground": true,
            "ticks": "",
            "zerolinecolor": "#C8D4E3",
            "gridwidth": 2
           },
           "yaxis": {
            "backgroundcolor": "rgb(17,17,17)",
            "gridcolor": "#506784",
            "linecolor": "#506784",
            "showbackground": true,
            "ticks": "",
            "zerolinecolor": "#C8D4E3",
            "gridwidth": 2
           },
           "zaxis": {
            "backgroundcolor": "rgb(17,17,17)",
            "gridcolor": "#506784",
            "linecolor": "#506784",
            "showbackground": true,
            "ticks": "",
            "zerolinecolor": "#C8D4E3",
            "gridwidth": 2
           }
          },
          "shapedefaults": {
           "line": {
            "color": "#f2f5fa"
           }
          },
          "annotationdefaults": {
           "arrowcolor": "#f2f5fa",
           "arrowhead": 0,
           "arrowwidth": 1
          },
          "geo": {
           "bgcolor": "rgb(17,17,17)",
           "landcolor": "rgb(17,17,17)",
           "subunitcolor": "#506784",
           "showland": true,
           "showlakes": true,
           "lakecolor": "rgb(17,17,17)"
          },
          "title": {
           "x": 0.05
          },
          "updatemenudefaults": {
           "bgcolor": "#506784",
           "borderwidth": 0
          },
          "sliderdefaults": {
           "bgcolor": "#C8D4E3",
           "borderwidth": 1,
           "bordercolor": "rgb(17,17,17)",
           "tickwidth": 0
          },
          "mapbox": {
           "style": "dark"
          }
         }
        },
        "yaxis": {
         "tickfont": {
          "color": "rgba(0.12156862745098039, 0.4666666666666667, 0.7058823529411765, 0.8)"
         }
        },
        "yaxis2": {
         "tickfont": {
          "color": "rgba(0.5643983083429451, 0.36993464052287583, 0.5132641291810843, 0.8)"
         },
         "overlaying": "y"
        },
        "yaxis3": {
         "tickfont": {
          "color": "rgba(0.7372549019607844, 0.7411764705882353, 0.13333333333333333, 0.8)"
         },
         "overlaying": "y"
        },
        "xaxis": {
         "tickformat": "%Y-%m-%d"
        },
        "title": {
         "text": "Balance: 5352.078140 USD ~ Equity: 5352.078140 ~ Margin: 0.000000 ~ Free Margin: 5352.078140 ~ Margin Level: inf"
        },
        "width": 1400,
        "height": 600
       },
       "config": {
        "plotlyServerURL": "https://plot.ly"
       }
      },
      "text/html": "<div>                            <div id=\"862d71fa-a2b0-41d2-91df-c864b407e15b\" class=\"plotly-graph-div\" style=\"height:600px; width:1400px;\"></div>            <script type=\"text/javascript\">                require([\"plotly\"], function(Plotly) {                    window.PLOTLYENV=window.PLOTLYENV || {};                                    if (document.getElementById(\"862d71fa-a2b0-41d2-91df-c864b407e15b\")) {                    Plotly.newPlot(                        \"862d71fa-a2b0-41d2-91df-c864b407e15b\",                        [{\"hovertext\":[\"balance: 10000.000000 USD\\u003cbr\\u003eequity: 10000.000000\\u003cbr\\u003emargin: 0.000000\\u003cbr\\u003efree margin: 10000.000000\\u003cbr\\u003emargin level: inf\",\"balance: 10000.000000 USD\\u003cbr\\u003eequity: 10000.000000\\u003cbr\\u003emargin: 0.000000\\u003cbr\\u003efree margin: 10000.000000\\u003cbr\\u003emargin level: inf\",\"balance: 10000.000000 USD\\u003cbr\\u003eequity: 10000.000000\\u003cbr\\u003emargin: 0.000000\\u003cbr\\u003efree margin: 10000.000000\\u003cbr\\u003emargin level: inf\",\"balance: 10000.000000 USD\\u003cbr\\u003eequity: 10000.000000\\u003cbr\\u003emargin: 0.000000\\u003cbr\\u003efree margin: 10000.000000\\u003cbr\\u003emargin level: inf\",\"balance: 10000.000000 USD\\u003cbr\\u003eequity: 10000.000000\\u003cbr\\u003emargin: 0.000000\\u003cbr\\u003efree margin: 10000.000000\\u003cbr\\u003emargin level: inf\",\"balance: 10000.000000 USD\\u003cbr\\u003eequity: 10000.000000\\u003cbr\\u003emargin: 0.000000\\u003cbr\\u003efree margin: 10000.000000\\u003cbr\\u003emargin level: inf\",\"balance: 10000.000000 USD\\u003cbr\\u003eequity: 10000.000000\\u003cbr\\u003emargin: 0.000000\\u003cbr\\u003efree margin: 10000.000000\\u003cbr\\u003emargin level: inf\",\"balance: 10000.000000 USD\\u003cbr\\u003eequity: 10000.000000\\u003cbr\\u003emargin: 0.000000\\u003cbr\\u003efree margin: 10000.000000\\u003cbr\\u003emargin level: inf\",\"balance: 10000.000000 USD\\u003cbr\\u003eequity: 10000.000000\\u003cbr\\u003emargin: 0.000000\\u003cbr\\u003efree margin: 10000.000000\\u003cbr\\u003emargin level: inf\",\"balance: 10000.000000 USD\\u003cbr\\u003eequity: 10000.000000\\u003cbr\\u003emargin: 0.000000\\u003cbr\\u003efree margin: 10000.000000\\u003cbr\\u003emargin level: inf\",\"balance: 10000.000000 USD\\u003cbr\\u003eequity: 10000.000000\\u003cbr\\u003emargin: 0.000000\\u003cbr\\u003efree margin: 10000.000000\\u003cbr\\u003emargin level: inf\",\"balance: 10000.000000 USD\\u003cbr\\u003eequity: 10000.000000\\u003cbr\\u003emargin: 0.000000\\u003cbr\\u003efree margin: 10000.000000\\u003cbr\\u003emargin level: inf\",\"balance: 10000.000000 USD\\u003cbr\\u003eequity: 10000.000000\\u003cbr\\u003emargin: 0.000000\\u003cbr\\u003efree margin: 10000.000000\\u003cbr\\u003emargin level: inf\",\"balance: 10000.000000 USD\\u003cbr\\u003eequity: 10000.000000\\u003cbr\\u003emargin: 0.000000\\u003cbr\\u003efree margin: 10000.000000\\u003cbr\\u003emargin level: inf\",\"balance: 10000.000000 USD\\u003cbr\\u003eequity: 10000.000000\\u003cbr\\u003emargin: 0.000000\\u003cbr\\u003efree margin: 10000.000000\\u003cbr\\u003emargin level: inf\",\"balance: 10000.000000 USD\\u003cbr\\u003eequity: 10000.000000\\u003cbr\\u003emargin: 0.000000\\u003cbr\\u003efree margin: 10000.000000\\u003cbr\\u003emargin level: inf\",\"balance: 10000.000000 USD\\u003cbr\\u003eequity: 10000.000000\\u003cbr\\u003emargin: 0.000000\\u003cbr\\u003efree margin: 10000.000000\\u003cbr\\u003emargin level: inf\",\"balance: 10000.000000 USD\\u003cbr\\u003eequity: 10000.000000\\u003cbr\\u003emargin: 0.000000\\u003cbr\\u003efree margin: 10000.000000\\u003cbr\\u003emargin level: inf\",\"balance: 10000.000000 USD\\u003cbr\\u003eequity: 10000.000000\\u003cbr\\u003emargin: 0.000000\\u003cbr\\u003efree margin: 10000.000000\\u003cbr\\u003emargin level: inf\",\"balance: 10000.000000 USD\\u003cbr\\u003eequity: 10000.000000\\u003cbr\\u003emargin: 0.000000\\u003cbr\\u003efree margin: 10000.000000\\u003cbr\\u003emargin level: inf\",\"balance: 10000.000000 USD\\u003cbr\\u003eequity: 10000.000000\\u003cbr\\u003emargin: 0.000000\\u003cbr\\u003efree margin: 10000.000000\\u003cbr\\u003emargin level: inf\",\"balance: 10000.000000 USD\\u003cbr\\u003eequity: 10000.000000\\u003cbr\\u003emargin: 0.000000\\u003cbr\\u003efree margin: 10000.000000\\u003cbr\\u003emargin level: inf\",\"balance: 10000.000000 USD\\u003cbr\\u003eequity: 10000.000000\\u003cbr\\u003emargin: 0.000000\\u003cbr\\u003efree margin: 10000.000000\\u003cbr\\u003emargin level: inf\",\"balance: 10000.000000 USD\\u003cbr\\u003eequity: 10000.000000\\u003cbr\\u003emargin: 0.000000\\u003cbr\\u003efree margin: 10000.000000\\u003cbr\\u003emargin level: inf\",\"balance: 10000.000000 USD\\u003cbr\\u003eequity: 10000.000000\\u003cbr\\u003emargin: 0.000000\\u003cbr\\u003efree margin: 10000.000000\\u003cbr\\u003emargin level: inf\",\"balance: 10000.000000 USD\\u003cbr\\u003eequity: 10000.000000\\u003cbr\\u003emargin: 0.000000\\u003cbr\\u003efree margin: 10000.000000\\u003cbr\\u003emargin level: inf\",\"balance: 10000.000000 USD\\u003cbr\\u003eequity: 10000.000000\\u003cbr\\u003emargin: 0.000000\\u003cbr\\u003efree margin: 10000.000000\\u003cbr\\u003emargin level: inf\",\"balance: 10000.000000 USD\\u003cbr\\u003eequity: 10000.000000\\u003cbr\\u003emargin: 0.000000\\u003cbr\\u003efree margin: 10000.000000\\u003cbr\\u003emargin level: inf\",\"balance: 10000.000000 USD\\u003cbr\\u003eequity: 10000.000000\\u003cbr\\u003emargin: 0.000000\\u003cbr\\u003efree margin: 10000.000000\\u003cbr\\u003emargin level: inf\",\"balance: 10000.000000 USD\\u003cbr\\u003eequity: 9978.972883\\u003cbr\\u003emargin: 169.313471\\u003cbr\\u003efree margin: 9809.659412\\u003cbr\\u003emargin level: 58.937855\",\"balance: 9978.972883 USD\\u003cbr\\u003eequity: 9978.972883\\u003cbr\\u003emargin: 0.000000\\u003cbr\\u003efree margin: 9978.972883\\u003cbr\\u003emargin level: inf\",\"balance: 9978.972883 USD\\u003cbr\\u003eequity: 9978.972883\\u003cbr\\u003emargin: 0.000000\\u003cbr\\u003efree margin: 9978.972883\\u003cbr\\u003emargin level: inf\",\"balance: 9978.972883 USD\\u003cbr\\u003eequity: 9978.972883\\u003cbr\\u003emargin: 0.000000\\u003cbr\\u003efree margin: 9978.972883\\u003cbr\\u003emargin level: inf\",\"balance: 9978.972883 USD\\u003cbr\\u003eequity: 9978.972883\\u003cbr\\u003emargin: 0.000000\\u003cbr\\u003efree margin: 9978.972883\\u003cbr\\u003emargin level: inf\",\"balance: 9978.972883 USD\\u003cbr\\u003eequity: 9978.972883\\u003cbr\\u003emargin: 0.000000\\u003cbr\\u003efree margin: 9978.972883\\u003cbr\\u003emargin level: inf\",\"balance: 9978.972883 USD\\u003cbr\\u003eequity: 9978.972883\\u003cbr\\u003emargin: 0.000000\\u003cbr\\u003efree margin: 9978.972883\\u003cbr\\u003emargin level: inf\",\"balance: 9978.972883 USD\\u003cbr\\u003eequity: 9566.735650\\u003cbr\\u003emargin: 6726.151200\\u003cbr\\u003efree margin: 2840.584450\\u003cbr\\u003emargin level: 1.422319\",\"balance: 9978.972883 USD\\u003cbr\\u003eequity: 9256.535650\\u003cbr\\u003emargin: 6726.151200\\u003cbr\\u003efree margin: 2530.384450\\u003cbr\\u003emargin level: 1.376201\",\"balance: 9256.535650 USD\\u003cbr\\u003eequity: 9256.535650\\u003cbr\\u003emargin: 0.000000\\u003cbr\\u003efree margin: 9256.535650\\u003cbr\\u003emargin level: inf\",\"balance: 9256.535650 USD\\u003cbr\\u003eequity: 9256.535650\\u003cbr\\u003emargin: 0.000000\\u003cbr\\u003efree margin: 9256.535650\\u003cbr\\u003emargin level: inf\",\"balance: 9256.535650 USD\\u003cbr\\u003eequity: 9256.535650\\u003cbr\\u003emargin: 0.000000\\u003cbr\\u003efree margin: 9256.535650\\u003cbr\\u003emargin level: inf\",\"balance: 9256.535650 USD\\u003cbr\\u003eequity: 9256.535650\\u003cbr\\u003emargin: 0.000000\\u003cbr\\u003efree margin: 9256.535650\\u003cbr\\u003emargin level: inf\",\"balance: 9256.535650 USD\\u003cbr\\u003eequity: 9256.535650\\u003cbr\\u003emargin: 0.000000\\u003cbr\\u003efree margin: 9256.535650\\u003cbr\\u003emargin level: inf\",\"balance: 9256.535650 USD\\u003cbr\\u003eequity: 9256.535650\\u003cbr\\u003emargin: 0.000000\\u003cbr\\u003efree margin: 9256.535650\\u003cbr\\u003emargin level: inf\",\"balance: 9256.535650 USD\\u003cbr\\u003eequity: 9256.535650\\u003cbr\\u003emargin: 0.000000\\u003cbr\\u003efree margin: 9256.535650\\u003cbr\\u003emargin level: inf\",\"balance: 9256.535650 USD\\u003cbr\\u003eequity: 9256.535650\\u003cbr\\u003emargin: 0.000000\\u003cbr\\u003efree margin: 9256.535650\\u003cbr\\u003emargin level: inf\",\"balance: 9256.535650 USD\\u003cbr\\u003eequity: 9256.535650\\u003cbr\\u003emargin: 0.000000\\u003cbr\\u003efree margin: 9256.535650\\u003cbr\\u003emargin level: inf\",\"balance: 9256.535650 USD\\u003cbr\\u003eequity: 9256.535650\\u003cbr\\u003emargin: 0.000000\\u003cbr\\u003efree margin: 9256.535650\\u003cbr\\u003emargin level: inf\",\"balance: 9256.535650 USD\\u003cbr\\u003eequity: 9256.535650\\u003cbr\\u003emargin: 0.000000\\u003cbr\\u003efree margin: 9256.535650\\u003cbr\\u003emargin level: inf\",\"balance: 9256.535650 USD\\u003cbr\\u003eequity: 9256.535650\\u003cbr\\u003emargin: 0.000000\\u003cbr\\u003efree margin: 9256.535650\\u003cbr\\u003emargin level: inf\",\"balance: 9256.535650 USD\\u003cbr\\u003eequity: 9256.535650\\u003cbr\\u003emargin: 0.000000\\u003cbr\\u003efree margin: 9256.535650\\u003cbr\\u003emargin level: inf\",\"balance: 9256.535650 USD\\u003cbr\\u003eequity: 9256.535650\\u003cbr\\u003emargin: 0.000000\\u003cbr\\u003efree margin: 9256.535650\\u003cbr\\u003emargin level: inf\",\"balance: 9256.535650 USD\\u003cbr\\u003eequity: 9256.535650\\u003cbr\\u003emargin: 0.000000\\u003cbr\\u003efree margin: 9256.535650\\u003cbr\\u003emargin level: inf\",\"balance: 9256.535650 USD\\u003cbr\\u003eequity: 9988.520392\\u003cbr\\u003emargin: 2629.177254\\u003cbr\\u003efree margin: 7359.343138\\u003cbr\\u003emargin level: 3.799105\",\"balance: 9256.535650 USD\\u003cbr\\u003eequity: 7723.733752\\u003cbr\\u003emargin: 2629.177254\\u003cbr\\u003efree margin: 5094.556498\\u003cbr\\u003emargin level: 2.937700\",\"balance: 9256.535650 USD\\u003cbr\\u003eequity: 6865.161313\\u003cbr\\u003emargin: 2629.177254\\u003cbr\\u003efree margin: 4235.984059\\u003cbr\\u003emargin level: 2.611144\",\"balance: 6865.161313 USD\\u003cbr\\u003eequity: 6865.161313\\u003cbr\\u003emargin: 0.000000\\u003cbr\\u003efree margin: 6865.161313\\u003cbr\\u003emargin level: inf\",\"balance: 6865.161313 USD\\u003cbr\\u003eequity: 6865.161313\\u003cbr\\u003emargin: 0.000000\\u003cbr\\u003efree margin: 6865.161313\\u003cbr\\u003emargin level: inf\",\"balance: 6865.161313 USD\\u003cbr\\u003eequity: 6865.161313\\u003cbr\\u003emargin: 0.000000\\u003cbr\\u003efree margin: 6865.161313\\u003cbr\\u003emargin level: inf\",\"balance: 6865.161313 USD\\u003cbr\\u003eequity: 6865.161313\\u003cbr\\u003emargin: 0.000000\\u003cbr\\u003efree margin: 6865.161313\\u003cbr\\u003emargin level: inf\",\"balance: 6865.161313 USD\\u003cbr\\u003eequity: 6865.161313\\u003cbr\\u003emargin: 0.000000\\u003cbr\\u003efree margin: 6865.161313\\u003cbr\\u003emargin level: inf\",\"balance: 6865.161313 USD\\u003cbr\\u003eequity: 5295.605321\\u003cbr\\u003emargin: 3720.000000\\u003cbr\\u003efree margin: 1575.605321\\u003cbr\\u003emargin level: 1.423550\",\"balance: 5295.605321 USD\\u003cbr\\u003eequity: 5295.605321\\u003cbr\\u003emargin: 0.000000\\u003cbr\\u003efree margin: 5295.605321\\u003cbr\\u003emargin level: inf\",\"balance: 5295.605321 USD\\u003cbr\\u003eequity: 5295.605321\\u003cbr\\u003emargin: 0.000000\\u003cbr\\u003efree margin: 5295.605321\\u003cbr\\u003emargin level: inf\",\"balance: 5295.605321 USD\\u003cbr\\u003eequity: 5295.605321\\u003cbr\\u003emargin: 0.000000\\u003cbr\\u003efree margin: 5295.605321\\u003cbr\\u003emargin level: inf\",\"balance: 5295.605321 USD\\u003cbr\\u003eequity: 5295.605321\\u003cbr\\u003emargin: 0.000000\\u003cbr\\u003efree margin: 5295.605321\\u003cbr\\u003emargin level: inf\",\"balance: 5295.605321 USD\\u003cbr\\u003eequity: 5295.605321\\u003cbr\\u003emargin: 0.000000\\u003cbr\\u003efree margin: 5295.605321\\u003cbr\\u003emargin level: inf\",\"balance: 5295.605321 USD\\u003cbr\\u003eequity: 5295.605321\\u003cbr\\u003emargin: 0.000000\\u003cbr\\u003efree margin: 5295.605321\\u003cbr\\u003emargin level: inf\",\"balance: 5295.605321 USD\\u003cbr\\u003eequity: 5352.078140\\u003cbr\\u003emargin: 2220.000000\\u003cbr\\u003efree margin: 3132.078140\\u003cbr\\u003emargin level: 2.410846\",\"balance: 5352.078140 USD\\u003cbr\\u003eequity: 5352.078140\\u003cbr\\u003emargin: 0.000000\\u003cbr\\u003efree margin: 5352.078140\\u003cbr\\u003emargin level: inf\",\"balance: 5352.078140 USD\\u003cbr\\u003eequity: 5352.078140\\u003cbr\\u003emargin: 0.000000\\u003cbr\\u003efree margin: 5352.078140\\u003cbr\\u003emargin level: inf\",\"balance: 5352.078140 USD\\u003cbr\\u003eequity: 5352.078140\\u003cbr\\u003emargin: 0.000000\\u003cbr\\u003efree margin: 5352.078140\\u003cbr\\u003emargin level: inf\",\"balance: 5352.078140 USD\\u003cbr\\u003eequity: 5352.078140\\u003cbr\\u003emargin: 0.000000\\u003cbr\\u003efree margin: 5352.078140\\u003cbr\\u003emargin level: inf\",\"balance: 5352.078140 USD\\u003cbr\\u003eequity: 5352.078140\\u003cbr\\u003emargin: 0.000000\\u003cbr\\u003efree margin: 5352.078140\\u003cbr\\u003emargin level: inf\",\"balance: 5352.078140 USD\\u003cbr\\u003eequity: 5352.078140\\u003cbr\\u003emargin: 0.000000\\u003cbr\\u003efree margin: 5352.078140\\u003cbr\\u003emargin level: inf\",\"balance: 5352.078140 USD\\u003cbr\\u003eequity: 5352.078140\\u003cbr\\u003emargin: 0.000000\\u003cbr\\u003efree margin: 5352.078140\\u003cbr\\u003emargin level: inf\",\"balance: 5352.078140 USD\\u003cbr\\u003eequity: 5352.078140\\u003cbr\\u003emargin: 0.000000\\u003cbr\\u003efree margin: 5352.078140\\u003cbr\\u003emargin level: inf\",\"balance: 5352.078140 USD\\u003cbr\\u003eequity: 5352.078140\\u003cbr\\u003emargin: 0.000000\\u003cbr\\u003efree margin: 5352.078140\\u003cbr\\u003emargin level: inf\",\"balance: 5352.078140 USD\\u003cbr\\u003eequity: 5352.078140\\u003cbr\\u003emargin: 0.000000\\u003cbr\\u003efree margin: 5352.078140\\u003cbr\\u003emargin level: inf\",\"balance: 5352.078140 USD\\u003cbr\\u003eequity: 5352.078140\\u003cbr\\u003emargin: 0.000000\\u003cbr\\u003efree margin: 5352.078140\\u003cbr\\u003emargin level: inf\",\"balance: 5352.078140 USD\\u003cbr\\u003eequity: 5352.078140\\u003cbr\\u003emargin: 0.000000\\u003cbr\\u003efree margin: 5352.078140\\u003cbr\\u003emargin level: inf\",\"balance: 5352.078140 USD\\u003cbr\\u003eequity: 5352.078140\\u003cbr\\u003emargin: 0.000000\\u003cbr\\u003efree margin: 5352.078140\\u003cbr\\u003emargin level: inf\",\"balance: 5352.078140 USD\\u003cbr\\u003eequity: 5352.078140\\u003cbr\\u003emargin: 0.000000\\u003cbr\\u003efree margin: 5352.078140\\u003cbr\\u003emargin level: inf\",\"balance: 5352.078140 USD\\u003cbr\\u003eequity: 5352.078140\\u003cbr\\u003emargin: 0.000000\\u003cbr\\u003efree margin: 5352.078140\\u003cbr\\u003emargin level: inf\",\"balance: 5352.078140 USD\\u003cbr\\u003eequity: 5352.078140\\u003cbr\\u003emargin: 0.000000\\u003cbr\\u003efree margin: 5352.078140\\u003cbr\\u003emargin level: inf\",\"balance: 5352.078140 USD\\u003cbr\\u003eequity: 5352.078140\\u003cbr\\u003emargin: 0.000000\\u003cbr\\u003efree margin: 5352.078140\\u003cbr\\u003emargin level: inf\",\"balance: 5352.078140 USD\\u003cbr\\u003eequity: 5352.078140\\u003cbr\\u003emargin: 0.000000\\u003cbr\\u003efree margin: 5352.078140\\u003cbr\\u003emargin level: inf\",\"balance: 5352.078140 USD\\u003cbr\\u003eequity: 5352.078140\\u003cbr\\u003emargin: 0.000000\\u003cbr\\u003efree margin: 5352.078140\\u003cbr\\u003emargin level: inf\"],\"legendgroup\":\"g1\",\"line\":{\"color\":\"rgba(0.12156862745098039, 0.4666666666666667, 0.7058823529411765, 1.0)\"},\"mode\":\"lines+markers\",\"name\":\"GBPCAD\",\"opacity\":1.0,\"x\":[\"2021-05-05T00:00:00+00:00\",\"2021-05-06T00:00:00+00:00\",\"2021-05-07T00:00:00+00:00\",\"2021-05-10T00:00:00+00:00\",\"2021-05-11T00:00:00+00:00\",\"2021-05-12T00:00:00+00:00\",\"2021-05-13T00:00:00+00:00\",\"2021-05-14T00:00:00+00:00\",\"2021-05-17T00:00:00+00:00\",\"2021-05-18T00:00:00+00:00\",\"2021-05-19T00:00:00+00:00\",\"2021-05-20T00:00:00+00:00\",\"2021-05-21T00:00:00+00:00\",\"2021-05-24T00:00:00+00:00\",\"2021-05-25T00:00:00+00:00\",\"2021-05-26T00:00:00+00:00\",\"2021-05-27T00:00:00+00:00\",\"2021-05-28T00:00:00+00:00\",\"2021-05-31T00:00:00+00:00\",\"2021-06-01T00:00:00+00:00\",\"2021-06-02T00:00:00+00:00\",\"2021-06-03T00:00:00+00:00\",\"2021-06-04T00:00:00+00:00\",\"2021-06-07T00:00:00+00:00\",\"2021-06-08T00:00:00+00:00\",\"2021-06-09T00:00:00+00:00\",\"2021-06-10T00:00:00+00:00\",\"2021-06-11T00:00:00+00:00\",\"2021-06-14T00:00:00+00:00\",\"2021-06-15T00:00:00+00:00\",\"2021-06-16T00:00:00+00:00\",\"2021-06-17T00:00:00+00:00\",\"2021-06-18T00:00:00+00:00\",\"2021-06-21T00:00:00+00:00\",\"2021-06-22T00:00:00+00:00\",\"2021-06-23T00:00:00+00:00\",\"2021-06-24T00:00:00+00:00\",\"2021-06-25T00:00:00+00:00\",\"2021-06-28T00:00:00+00:00\",\"2021-06-29T00:00:00+00:00\",\"2021-06-30T00:00:00+00:00\",\"2021-07-01T00:00:00+00:00\",\"2021-07-02T00:00:00+00:00\",\"2021-07-05T00:00:00+00:00\",\"2021-07-06T00:00:00+00:00\",\"2021-07-07T00:00:00+00:00\",\"2021-07-08T00:00:00+00:00\",\"2021-07-09T00:00:00+00:00\",\"2021-07-12T00:00:00+00:00\",\"2021-07-13T00:00:00+00:00\",\"2021-07-14T00:00:00+00:00\",\"2021-07-15T00:00:00+00:00\",\"2021-07-16T00:00:00+00:00\",\"2021-07-19T00:00:00+00:00\",\"2021-07-20T00:00:00+00:00\",\"2021-07-21T00:00:00+00:00\",\"2021-07-22T00:00:00+00:00\",\"2021-07-23T00:00:00+00:00\",\"2021-07-26T00:00:00+00:00\",\"2021-07-27T00:00:00+00:00\",\"2021-07-28T00:00:00+00:00\",\"2021-07-29T00:00:00+00:00\",\"2021-07-30T00:00:00+00:00\",\"2021-08-02T00:00:00+00:00\",\"2021-08-03T00:00:00+00:00\",\"2021-08-04T00:00:00+00:00\",\"2021-08-05T00:00:00+00:00\",\"2021-08-06T00:00:00+00:00\",\"2021-08-09T00:00:00+00:00\",\"2021-08-10T00:00:00+00:00\",\"2021-08-11T00:00:00+00:00\",\"2021-08-12T00:00:00+00:00\",\"2021-08-13T00:00:00+00:00\",\"2021-08-16T00:00:00+00:00\",\"2021-08-17T00:00:00+00:00\",\"2021-08-18T00:00:00+00:00\",\"2021-08-19T00:00:00+00:00\",\"2021-08-20T00:00:00+00:00\",\"2021-08-23T00:00:00+00:00\",\"2021-08-24T00:00:00+00:00\",\"2021-08-25T00:00:00+00:00\",\"2021-08-26T00:00:00+00:00\",\"2021-08-27T00:00:00+00:00\",\"2021-08-30T00:00:00+00:00\",\"2021-08-31T00:00:00+00:00\",\"2021-09-01T00:00:00+00:00\",\"2021-09-02T00:00:00+00:00\",\"2021-09-03T00:00:00+00:00\"],\"y\":[1.70525,1.68648,1.69619,1.7070699999999999,1.71108,1.70468,1.7082899999999999,1.70635,1.7059199999999999,1.71128,1.71211,1.7107,1.70726,1.7044000000000001,1.7066,1.71089,1.71345,1.71356,1.7132399999999999,1.70755,1.70462,1.7068400000000001,1.70999,1.71255,1.7139199999999999,1.70927,1.71433,1.71691,1.71341,1.71492,1.71638,1.71949,1.72017,1.72173,1.7158099999999998,1.7177,1.7149299999999998,1.70721,1.71244,1.71535,1.71437,1.71059,1.70511,1.70716,1.71879,1.72167,1.72692,1.7307000000000001,1.72832,1.72767,1.73236,1.7407,1.73684,1.74244,1.7273800000000001,1.72183,1.72851,1.72728,1.73336,1.7481900000000001,1.7405300000000001,1.73688,1.73335,1.73577,1.7441499999999999,1.7412999999999998,1.7408299999999999,1.7419799999999999,1.7408000000000001,1.7316500000000001,1.73282,1.72889,1.7357200000000002,1.7402199999999999,1.7349700000000001,1.74061,1.74874,1.7468,1.73506,1.72784,1.73259,1.7377,1.7353399999999999,1.7338900000000002,1.73501,1.7372800000000002,1.73603,1.7362600000000001],\"yaxis\":\"y\",\"type\":\"scatter\"},{\"hovertext\":[\"order id: \\u003cbr\\u003ehold probability: 0.0000\\u003cbr\\u003ehold: False\\u003cbr\\u003evolume: 27.413198\\u003cbr\\u003emodified volume: 27.4100\\u003cbr\\u003efee: nan\\u003cbr\\u003emargin: nan\\u003cbr\\u003eerror: low free margin (order margin=38685.45210990116, order profit=-1638.7124378454569, free margin=10000.0)\",\"order id: \\u003cbr\\u003ehold probability: 0.0000\\u003cbr\\u003ehold: False\\u003cbr\\u003evolume: -47.912203\\u003cbr\\u003emodified volume: 35.0000\\u003cbr\\u003efee: nan\\u003cbr\\u003emargin: nan\\u003cbr\\u003eerror: low free margin (order margin=49517.57765570497, order profit=-2115.2754982036513, free margin=10000.0)\",\"order id: \\u003cbr\\u003ehold probability: 0.0000\\u003cbr\\u003ehold: False\\u003cbr\\u003evolume: 26.616036\\u003cbr\\u003emodified volume: 26.6200\\u003cbr\\u003efee: nan\\u003cbr\\u003emargin: nan\\u003cbr\\u003eerror: low free margin (order margin=37742.85182057523, order profit=-1698.7909059789656, free margin=10000.0)\",\"order id: \\u003cbr\\u003ehold probability: 0.0000\\u003cbr\\u003ehold: False\\u003cbr\\u003evolume: -58.565354\\u003cbr\\u003emodified volume: 35.0000\\u003cbr\\u003efee: nan\\u003cbr\\u003emargin: nan\\u003cbr\\u003eerror: low free margin (order margin=49543.851534948255, order profit=-2040.7407131308437, free margin=10000.0)\",\"order id: \\u003cbr\\u003ehold probability: 0.0000\\u003cbr\\u003ehold: False\\u003cbr\\u003evolume: -66.785419\\u003cbr\\u003emodified volume: 35.0000\\u003cbr\\u003efee: nan\\u003cbr\\u003emargin: nan\\u003cbr\\u003eerror: low free margin (order margin=49408.21096447036, order profit=-1957.8514907972594, free margin=10000.0)\",\"order id: 1\\u003cbr\\u003ehold probability: 0.0000\\u003cbr\\u003ehold: False\\u003cbr\\u003evolume: -0.119347\\u003cbr\\u003emodified volume: 0.1200\\u003cbr\\u003efee: 0.000625\\u003cbr\\u003emargin: 169.313471\\u003cbr\\u003eerror: \",\"order id: \\u003cbr\\u003ehold probability: 0.0000\\u003cbr\\u003ehold: False\\u003cbr\\u003evolume: -36.473519\\u003cbr\\u003emodified volume: 35.0000\\u003cbr\\u003efee: nan\\u003cbr\\u003emargin: nan\\u003cbr\\u003eerror: low free margin (order margin=49268.79319685453, order profit=-1913.917899451685, free margin=9978.97288278756)\",\"order id: \\u003cbr\\u003ehold probability: 0.0000\\u003cbr\\u003ehold: False\\u003cbr\\u003evolume: 29.654530\\u003cbr\\u003emodified volume: 29.6500\\u003cbr\\u003efee: nan\\u003cbr\\u003emargin: nan\\u003cbr\\u003eerror: low free margin (order margin=41269.98704820496, order profit=-1625.354106528036, free margin=9978.97288278756)\",\"order id: \\u003cbr\\u003ehold probability: 0.0000\\u003cbr\\u003ehold: False\\u003cbr\\u003evolume: -85.154339\\u003cbr\\u003emodified volume: 35.0000\\u003cbr\\u003efee: nan\\u003cbr\\u003emargin: nan\\u003cbr\\u003eerror: low free margin (order margin=48751.33486505728, order profit=-2061.8012980395597, free margin=9978.97288278756)\",\"order id: \\u003cbr\\u003ehold probability: 0.0000\\u003cbr\\u003ehold: False\\u003cbr\\u003evolume: 60.613227\\u003cbr\\u003emodified volume: 35.0000\\u003cbr\\u003efee: nan\\u003cbr\\u003emargin: nan\\u003cbr\\u003eerror: low free margin (order margin=48805.60928433269, order profit=-2052.1069553122206, free margin=9978.97288278756)\",\"order id: \\u003cbr\\u003ehold probability: 0.0000\\u003cbr\\u003ehold: False\\u003cbr\\u003evolume: 86.005889\\u003cbr\\u003emodified volume: 35.0000\\u003cbr\\u003efee: nan\\u003cbr\\u003emargin: nan\\u003cbr\\u003eerror: low free margin (order margin=48862.149399783804, order profit=-1819.4756688593422, free margin=9978.97288278756)\",\"order id: \\u003cbr\\u003ehold probability: 0.0000\\u003cbr\\u003ehold: False\\u003cbr\\u003evolume: 26.933531\\u003cbr\\u003emodified volume: 26.9300\\u003cbr\\u003efee: nan\\u003cbr\\u003emargin: nan\\u003cbr\\u003eerror: low free margin (order margin=37252.326941066414, order profit=-1485.9967796479514, free margin=9256.535650360194)\",\"order id: \\u003cbr\\u003ehold probability: 0.0000\\u003cbr\\u003ehold: False\\u003cbr\\u003evolume: -81.641308\\u003cbr\\u003emodified volume: 35.0000\\u003cbr\\u003efee: nan\\u003cbr\\u003emargin: nan\\u003cbr\\u003eerror: low free margin (order margin=48401.185770750984, order profit=-2035.2801893562757, free margin=9256.535650360194)\",\"order id: \\u003cbr\\u003ehold probability: 0.0000\\u003cbr\\u003ehold: False\\u003cbr\\u003evolume: -30.124029\\u003cbr\\u003emodified volume: 30.1200\\u003cbr\\u003efee: nan\\u003cbr\\u003emargin: nan\\u003cbr\\u003eerror: low free margin (order margin=41661.59384785113, order profit=-1574.5736437349744, free margin=9256.535650360194)\",\"order id: \\u003cbr\\u003ehold probability: 0.0000\\u003cbr\\u003ehold: False\\u003cbr\\u003evolume: -99.839227\\u003cbr\\u003emodified volume: 35.0000\\u003cbr\\u003efee: nan\\u003cbr\\u003emargin: nan\\u003cbr\\u003eerror: low free margin (order margin=48415.15885684652, order profit=-2120.7091901976914, free margin=9256.535650360194)\",\"order id: \\u003cbr\\u003ehold probability: 0.0000\\u003cbr\\u003ehold: False\\u003cbr\\u003evolume: -48.968540\\u003cbr\\u003emodified volume: 35.0000\\u003cbr\\u003efee: nan\\u003cbr\\u003emargin: nan\\u003cbr\\u003eerror: low free margin (order margin=48279.37217575232, order profit=-1612.1048933092015, free margin=9256.535650360194)\",\"order id: \\u003cbr\\u003ehold probability: 0.0000\\u003cbr\\u003ehold: False\\u003cbr\\u003evolume: 87.405323\\u003cbr\\u003emodified volume: 35.0000\\u003cbr\\u003efee: nan\\u003cbr\\u003emargin: nan\\u003cbr\\u003eerror: low free margin (order margin=48649.13703789965, order profit=-2121.8271347756754, free margin=9256.535650360194)\",\"order id: 3\\u003cbr\\u003ehold probability: 0.0000\\u003cbr\\u003ehold: False\\u003cbr\\u003evolume: 1.908486\\u003cbr\\u003emodified volume: 1.9100\\u003cbr\\u003efee: 0.000715\\u003cbr\\u003emargin: 2629.177254\\u003cbr\\u003eerror: \",\"order id: \\u003cbr\\u003ehold probability: 0.0000\\u003cbr\\u003ehold: False\\u003cbr\\u003evolume: -82.078204\\u003cbr\\u003emodified volume: 35.0000\\u003cbr\\u003efee: nan\\u003cbr\\u003emargin: nan\\u003cbr\\u003eerror: low free margin (order margin=47848.94942489055, order profit=-1965.7308734911699, free margin=7359.343138208731)\",\"order id: \\u003cbr\\u003ehold probability: 0.0000\\u003cbr\\u003ehold: False\\u003cbr\\u003evolume: 28.816314\\u003cbr\\u003emodified volume: 28.8200\\u003cbr\\u003efee: nan\\u003cbr\\u003emargin: nan\\u003cbr\\u003eerror: low free margin (order margin=39508.8699044586, order profit=-1734.562278077558, free margin=6865.161313289139)\",\"order id: \\u003cbr\\u003ehold probability: 0.0000\\u003cbr\\u003ehold: False\\u003cbr\\u003evolume: 69.065729\\u003cbr\\u003emodified volume: 35.0000\\u003cbr\\u003efee: nan\\u003cbr\\u003emargin: nan\\u003cbr\\u003eerror: low free margin (order margin=48165.9275654244, order profit=-1823.235356039829, free margin=6865.161313289139)\",\"order id: \\u003cbr\\u003ehold probability: 0.3359\\u003cbr\\u003ehold: False\\u003cbr\\u003evolume: -4.174515\\u003cbr\\u003emodified volume: 4.1700\\u003cbr\\u003efee: nan\\u003cbr\\u003emargin: nan\\u003cbr\\u003eerror: low free margin (order margin=5819.605158491021, order profit=-240.54281390532572, free margin=1575.60532077697)\",\"order id: \\u003cbr\\u003ehold probability: 0.0000\\u003cbr\\u003ehold: False\\u003cbr\\u003evolume: 96.412667\\u003cbr\\u003emodified volume: 35.0000\\u003cbr\\u003efee: nan\\u003cbr\\u003emargin: nan\\u003cbr\\u003eerror: low free margin (order margin=48700.617480933084, order profit=-2232.5513996200457, free margin=5295.60532077697)\",\"order id: \\u003cbr\\u003ehold probability: 0.0000\\u003cbr\\u003ehold: False\\u003cbr\\u003evolume: 34.934451\\u003cbr\\u003emodified volume: 34.9300\\u003cbr\\u003efee: nan\\u003cbr\\u003emargin: nan\\u003cbr\\u003eerror: low free margin (order margin=48651.20245467492, order profit=-2178.3100628043244, free margin=5295.60532077697)\",\"order id: \\u003cbr\\u003ehold probability: 0.0000\\u003cbr\\u003ehold: False\\u003cbr\\u003evolume: -84.745615\\u003cbr\\u003emodified volume: 35.0000\\u003cbr\\u003efee: nan\\u003cbr\\u003emargin: nan\\u003cbr\\u003eerror: low free margin (order margin=48562.92862433988, order profit=-1861.6330879594827, free margin=5295.60532077697)\",\"order id: \\u003cbr\\u003ehold probability: 0.2707\\u003cbr\\u003ehold: False\\u003cbr\\u003evolume: -67.806281\\u003cbr\\u003emodified volume: 35.0000\\u003cbr\\u003efee: nan\\u003cbr\\u003emargin: nan\\u003cbr\\u003eerror: low free margin (order margin=48411.839414659094, order profit=-2173.9843932005774, free margin=5352.078139709921)\",\"order id: \\u003cbr\\u003ehold probability: 0.0000\\u003cbr\\u003ehold: False\\u003cbr\\u003evolume: 46.422180\\u003cbr\\u003emodified volume: 35.0000\\u003cbr\\u003efee: nan\\u003cbr\\u003emargin: nan\\u003cbr\\u003eerror: low free margin (order margin=48512.7503679529, order profit=-1859.9624869189443, free margin=5352.078139709921)\",\"order id: \\u003cbr\\u003ehold probability: 0.0000\\u003cbr\\u003ehold: False\\u003cbr\\u003evolume: -60.425326\\u003cbr\\u003emodified volume: 35.0000\\u003cbr\\u003efee: nan\\u003cbr\\u003emargin: nan\\u003cbr\\u003eerror: low free margin (order margin=48327.34344426608, order profit=-2049.4081655643004, free margin=5352.078139709921)\",\"order id: \\u003cbr\\u003ehold probability: 0.0000\\u003cbr\\u003ehold: False\\u003cbr\\u003evolume: -67.162472\\u003cbr\\u003emodified volume: 35.0000\\u003cbr\\u003efee: nan\\u003cbr\\u003emargin: nan\\u003cbr\\u003eerror: low free margin (order margin=48450.18773068601, order profit=-2099.533388207237, free margin=5352.078139709921)\",\"order id: \\u003cbr\\u003ehold probability: 0.0000\\u003cbr\\u003ehold: False\\u003cbr\\u003evolume: 87.605985\\u003cbr\\u003emodified volume: 35.0000\\u003cbr\\u003efee: nan\\u003cbr\\u003emargin: nan\\u003cbr\\u003eerror: low free margin (order margin=47675.78779915313, order profit=-1992.6421616256039, free margin=5352.078139709921)\",\"order id: \\u003cbr\\u003ehold probability: 0.0010\\u003cbr\\u003ehold: False\\u003cbr\\u003evolume: 16.731628\\u003cbr\\u003emodified volume: 16.7300\\u003cbr\\u003efee: nan\\u003cbr\\u003emargin: nan\\u003cbr\\u003eerror: low free margin (order margin=22948.859812788563, order profit=-988.1832629298098, free margin=5352.078139709921)\",\"order id: \\u003cbr\\u003ehold probability: 0.0000\\u003cbr\\u003ehold: False\\u003cbr\\u003evolume: -46.742929\\u003cbr\\u003emodified volume: 35.0000\\u003cbr\\u003efee: nan\\u003cbr\\u003emargin: nan\\u003cbr\\u003eerror: low free margin (order margin=48046.271063900786, order profit=-1978.191802960282, free margin=5352.078139709921)\",\"order id: \\u003cbr\\u003ehold probability: 0.0000\\u003cbr\\u003ehold: False\\u003cbr\\u003evolume: -46.121279\\u003cbr\\u003emodified volume: 35.0000\\u003cbr\\u003efee: nan\\u003cbr\\u003emargin: nan\\u003cbr\\u003eerror: low free margin (order margin=48167.25710109932, order profit=-1902.332846658628, free margin=5352.078139709921)\",\"order id: \\u003cbr\\u003ehold probability: 0.0000\\u003cbr\\u003ehold: False\\u003cbr\\u003evolume: -20.165148\\u003cbr\\u003emodified volume: 20.1700\\u003cbr\\u003efee: nan\\u003cbr\\u003emargin: nan\\u003cbr\\u003eerror: low free margin (order margin=27748.161026153277, order profit=-1139.928171066066, free margin=5352.078139709921)\",\"order id: \\u003cbr\\u003ehold probability: 0.0000\\u003cbr\\u003ehold: False\\u003cbr\\u003evolume: -78.279366\\u003cbr\\u003emodified volume: 35.0000\\u003cbr\\u003efee: nan\\u003cbr\\u003emargin: nan\\u003cbr\\u003eerror: low free margin (order margin=48141.83266300167, order profit=-1946.5661471036103, free margin=5352.078139709921)\",\"order id: \\u003cbr\\u003ehold probability: 0.0131\\u003cbr\\u003ehold: False\\u003cbr\\u003evolume: -66.016182\\u003cbr\\u003emodified volume: 35.0000\\u003cbr\\u003efee: nan\\u003cbr\\u003emargin: nan\\u003cbr\\u003eerror: low free margin (order margin=48187.02698418989, order profit=-1921.134705322868, free margin=5352.078139709921)\",\"order id: \\u003cbr\\u003ehold probability: 0.0000\\u003cbr\\u003ehold: False\\u003cbr\\u003evolume: -82.483259\\u003cbr\\u003emodified volume: 35.0000\\u003cbr\\u003efee: nan\\u003cbr\\u003emargin: nan\\u003cbr\\u003eerror: low free margin (order margin=48409.00761655885, order profit=-2229.2365999834965, free margin=5352.078139709921)\"],\"legendgroup\":\"g1\",\"marker\":{\"color\":[\"gray\",\"gray\",\"gray\",\"gray\",\"gray\",\"red\",\"gray\",\"gray\",\"gray\",\"gray\",\"gray\",\"gray\",\"gray\",\"gray\",\"gray\",\"gray\",\"gray\",\"green\",\"gray\",\"gray\",\"gray\",\"gray\",\"gray\",\"gray\",\"gray\",\"gray\",\"gray\",\"gray\",\"gray\",\"gray\",\"gray\",\"gray\",\"gray\",\"gray\",\"gray\",\"gray\",\"gray\"],\"size\":[25.229142857142858,30.0,24.73257142857143,30.0,30.0,8.07542857142857,30.0,26.63714285714286,30.0,30.0,30.0,24.92742857142857,30.0,26.932571428571432,30.0,30.0,30.0,9.200571428571429,30.0,26.11542857142857,30.0,10.621142857142857,30.0,29.956,30.0,30.0,30.0,30.0,30.0,30.0,18.516,30.0,30.0,20.678285714285714,30.0,30.0,30.0],\"symbol\":[\"triangle-down\",\"triangle-down\",\"triangle-down\",\"triangle-down\",\"triangle-down\",\"triangle-down\",\"triangle-down\",\"triangle-down\",\"triangle-down\",\"triangle-down\",\"triangle-down\",\"triangle-down\",\"triangle-down\",\"triangle-down\",\"triangle-down\",\"triangle-down\",\"triangle-down\",\"triangle-up\",\"triangle-down\",\"triangle-down\",\"triangle-down\",\"triangle-down\",\"triangle-down\",\"triangle-down\",\"triangle-down\",\"triangle-down\",\"triangle-down\",\"triangle-down\",\"triangle-down\",\"triangle-down\",\"triangle-down\",\"triangle-down\",\"triangle-down\",\"triangle-down\",\"triangle-down\",\"triangle-down\",\"triangle-down\"]},\"mode\":\"markers\",\"name\":\"GBPCAD\",\"showlegend\":false,\"x\":[\"2021-05-19T00:00:00+00:00\",\"2021-06-01T00:00:00+00:00\",\"2021-06-07T00:00:00+00:00\",\"2021-06-08T00:00:00+00:00\",\"2021-06-09T00:00:00+00:00\",\"2021-06-14T00:00:00+00:00\",\"2021-06-15T00:00:00+00:00\",\"2021-06-17T00:00:00+00:00\",\"2021-06-21T00:00:00+00:00\",\"2021-06-22T00:00:00+00:00\",\"2021-06-23T00:00:00+00:00\",\"2021-06-29T00:00:00+00:00\",\"2021-06-30T00:00:00+00:00\",\"2021-07-02T00:00:00+00:00\",\"2021-07-05T00:00:00+00:00\",\"2021-07-07T00:00:00+00:00\",\"2021-07-09T00:00:00+00:00\",\"2021-07-16T00:00:00+00:00\",\"2021-07-19T00:00:00+00:00\",\"2021-07-21T00:00:00+00:00\",\"2021-07-22T00:00:00+00:00\",\"2021-07-29T00:00:00+00:00\",\"2021-08-03T00:00:00+00:00\",\"2021-08-05T00:00:00+00:00\",\"2021-08-06T00:00:00+00:00\",\"2021-08-10T00:00:00+00:00\",\"2021-08-11T00:00:00+00:00\",\"2021-08-12T00:00:00+00:00\",\"2021-08-16T00:00:00+00:00\",\"2021-08-20T00:00:00+00:00\",\"2021-08-23T00:00:00+00:00\",\"2021-08-24T00:00:00+00:00\",\"2021-08-25T00:00:00+00:00\",\"2021-08-27T00:00:00+00:00\",\"2021-08-30T00:00:00+00:00\",\"2021-09-01T00:00:00+00:00\",\"2021-09-02T00:00:00+00:00\"],\"y\":[1.71211,1.70755,1.71255,1.7139199999999999,1.70927,1.71341,1.71492,1.71949,1.72173,1.7158099999999998,1.7177,1.71535,1.71437,1.70511,1.70716,1.72167,1.7307000000000001,1.73684,1.74244,1.72183,1.72851,1.73688,1.7441499999999999,1.7408299999999999,1.7419799999999999,1.7316500000000001,1.73282,1.72889,1.7402199999999999,1.7468,1.73506,1.72784,1.73259,1.7353399999999999,1.7338900000000002,1.7372800000000002,1.73603],\"yaxis\":\"y\",\"type\":\"scatter\"},{\"hovertext\":[\"order id: 1\\u003cbr\\u003eorder type: Sell\\u003cbr\\u003eclose probability: 1.0000\\u003cbr\\u003emargin: 169.313471\\u003cbr\\u003eprofit: -21.027117\",\"order id: 3\\u003cbr\\u003eorder type: Buy\\u003cbr\\u003eclose probability: 1.0000\\u003cbr\\u003emargin: 2629.177254\\u003cbr\\u003eprofit: -2391.374337\"],\"legendgroup\":\"g1\",\"marker\":{\"color\":\"black\",\"line\":{\"width\":1.5},\"size\":7,\"symbol\":\"line-ns\"},\"mode\":\"markers\",\"name\":\"GBPCAD\",\"showlegend\":false,\"x\":[\"2021-06-15T00:00:00+00:00\",\"2021-07-21T00:00:00+00:00\"],\"y\":[1.71492,1.72183],\"yaxis\":\"y\",\"type\":\"scatter\"},{\"hovertext\":[\"balance: 10000.000000 USD\\u003cbr\\u003eequity: 10000.000000\\u003cbr\\u003emargin: 0.000000\\u003cbr\\u003efree margin: 10000.000000\\u003cbr\\u003emargin level: inf\",\"balance: 10000.000000 USD\\u003cbr\\u003eequity: 10000.000000\\u003cbr\\u003emargin: 0.000000\\u003cbr\\u003efree margin: 10000.000000\\u003cbr\\u003emargin level: inf\",\"balance: 10000.000000 USD\\u003cbr\\u003eequity: 10000.000000\\u003cbr\\u003emargin: 0.000000\\u003cbr\\u003efree margin: 10000.000000\\u003cbr\\u003emargin level: inf\",\"balance: 10000.000000 USD\\u003cbr\\u003eequity: 10000.000000\\u003cbr\\u003emargin: 0.000000\\u003cbr\\u003efree margin: 10000.000000\\u003cbr\\u003emargin level: inf\",\"balance: 10000.000000 USD\\u003cbr\\u003eequity: 10000.000000\\u003cbr\\u003emargin: 0.000000\\u003cbr\\u003efree margin: 10000.000000\\u003cbr\\u003emargin level: inf\",\"balance: 10000.000000 USD\\u003cbr\\u003eequity: 10000.000000\\u003cbr\\u003emargin: 0.000000\\u003cbr\\u003efree margin: 10000.000000\\u003cbr\\u003emargin level: inf\",\"balance: 10000.000000 USD\\u003cbr\\u003eequity: 10000.000000\\u003cbr\\u003emargin: 0.000000\\u003cbr\\u003efree margin: 10000.000000\\u003cbr\\u003emargin level: inf\",\"balance: 10000.000000 USD\\u003cbr\\u003eequity: 10000.000000\\u003cbr\\u003emargin: 0.000000\\u003cbr\\u003efree margin: 10000.000000\\u003cbr\\u003emargin level: inf\",\"balance: 10000.000000 USD\\u003cbr\\u003eequity: 10000.000000\\u003cbr\\u003emargin: 0.000000\\u003cbr\\u003efree margin: 10000.000000\\u003cbr\\u003emargin level: inf\",\"balance: 10000.000000 USD\\u003cbr\\u003eequity: 10000.000000\\u003cbr\\u003emargin: 0.000000\\u003cbr\\u003efree margin: 10000.000000\\u003cbr\\u003emargin level: inf\",\"balance: 10000.000000 USD\\u003cbr\\u003eequity: 10000.000000\\u003cbr\\u003emargin: 0.000000\\u003cbr\\u003efree margin: 10000.000000\\u003cbr\\u003emargin level: inf\",\"balance: 10000.000000 USD\\u003cbr\\u003eequity: 10000.000000\\u003cbr\\u003emargin: 0.000000\\u003cbr\\u003efree margin: 10000.000000\\u003cbr\\u003emargin level: inf\",\"balance: 10000.000000 USD\\u003cbr\\u003eequity: 10000.000000\\u003cbr\\u003emargin: 0.000000\\u003cbr\\u003efree margin: 10000.000000\\u003cbr\\u003emargin level: inf\",\"balance: 10000.000000 USD\\u003cbr\\u003eequity: 10000.000000\\u003cbr\\u003emargin: 0.000000\\u003cbr\\u003efree margin: 10000.000000\\u003cbr\\u003emargin level: inf\",\"balance: 10000.000000 USD\\u003cbr\\u003eequity: 10000.000000\\u003cbr\\u003emargin: 0.000000\\u003cbr\\u003efree margin: 10000.000000\\u003cbr\\u003emargin level: inf\",\"balance: 10000.000000 USD\\u003cbr\\u003eequity: 10000.000000\\u003cbr\\u003emargin: 0.000000\\u003cbr\\u003efree margin: 10000.000000\\u003cbr\\u003emargin level: inf\",\"balance: 10000.000000 USD\\u003cbr\\u003eequity: 10000.000000\\u003cbr\\u003emargin: 0.000000\\u003cbr\\u003efree margin: 10000.000000\\u003cbr\\u003emargin level: inf\",\"balance: 10000.000000 USD\\u003cbr\\u003eequity: 10000.000000\\u003cbr\\u003emargin: 0.000000\\u003cbr\\u003efree margin: 10000.000000\\u003cbr\\u003emargin level: inf\",\"balance: 10000.000000 USD\\u003cbr\\u003eequity: 10000.000000\\u003cbr\\u003emargin: 0.000000\\u003cbr\\u003efree margin: 10000.000000\\u003cbr\\u003emargin level: inf\",\"balance: 10000.000000 USD\\u003cbr\\u003eequity: 10000.000000\\u003cbr\\u003emargin: 0.000000\\u003cbr\\u003efree margin: 10000.000000\\u003cbr\\u003emargin level: inf\",\"balance: 10000.000000 USD\\u003cbr\\u003eequity: 10000.000000\\u003cbr\\u003emargin: 0.000000\\u003cbr\\u003efree margin: 10000.000000\\u003cbr\\u003emargin level: inf\",\"balance: 10000.000000 USD\\u003cbr\\u003eequity: 10000.000000\\u003cbr\\u003emargin: 0.000000\\u003cbr\\u003efree margin: 10000.000000\\u003cbr\\u003emargin level: inf\",\"balance: 10000.000000 USD\\u003cbr\\u003eequity: 10000.000000\\u003cbr\\u003emargin: 0.000000\\u003cbr\\u003efree margin: 10000.000000\\u003cbr\\u003emargin level: inf\",\"balance: 10000.000000 USD\\u003cbr\\u003eequity: 10000.000000\\u003cbr\\u003emargin: 0.000000\\u003cbr\\u003efree margin: 10000.000000\\u003cbr\\u003emargin level: inf\",\"balance: 10000.000000 USD\\u003cbr\\u003eequity: 10000.000000\\u003cbr\\u003emargin: 0.000000\\u003cbr\\u003efree margin: 10000.000000\\u003cbr\\u003emargin level: inf\",\"balance: 10000.000000 USD\\u003cbr\\u003eequity: 10000.000000\\u003cbr\\u003emargin: 0.000000\\u003cbr\\u003efree margin: 10000.000000\\u003cbr\\u003emargin level: inf\",\"balance: 10000.000000 USD\\u003cbr\\u003eequity: 10000.000000\\u003cbr\\u003emargin: 0.000000\\u003cbr\\u003efree margin: 10000.000000\\u003cbr\\u003emargin level: inf\",\"balance: 10000.000000 USD\\u003cbr\\u003eequity: 10000.000000\\u003cbr\\u003emargin: 0.000000\\u003cbr\\u003efree margin: 10000.000000\\u003cbr\\u003emargin level: inf\",\"balance: 10000.000000 USD\\u003cbr\\u003eequity: 10000.000000\\u003cbr\\u003emargin: 0.000000\\u003cbr\\u003efree margin: 10000.000000\\u003cbr\\u003emargin level: inf\",\"balance: 10000.000000 USD\\u003cbr\\u003eequity: 9978.972883\\u003cbr\\u003emargin: 169.313471\\u003cbr\\u003efree margin: 9809.659412\\u003cbr\\u003emargin level: 58.937855\",\"balance: 9978.972883 USD\\u003cbr\\u003eequity: 9978.972883\\u003cbr\\u003emargin: 0.000000\\u003cbr\\u003efree margin: 9978.972883\\u003cbr\\u003emargin level: inf\",\"balance: 9978.972883 USD\\u003cbr\\u003eequity: 9978.972883\\u003cbr\\u003emargin: 0.000000\\u003cbr\\u003efree margin: 9978.972883\\u003cbr\\u003emargin level: inf\",\"balance: 9978.972883 USD\\u003cbr\\u003eequity: 9978.972883\\u003cbr\\u003emargin: 0.000000\\u003cbr\\u003efree margin: 9978.972883\\u003cbr\\u003emargin level: inf\",\"balance: 9978.972883 USD\\u003cbr\\u003eequity: 9978.972883\\u003cbr\\u003emargin: 0.000000\\u003cbr\\u003efree margin: 9978.972883\\u003cbr\\u003emargin level: inf\",\"balance: 9978.972883 USD\\u003cbr\\u003eequity: 9978.972883\\u003cbr\\u003emargin: 0.000000\\u003cbr\\u003efree margin: 9978.972883\\u003cbr\\u003emargin level: inf\",\"balance: 9978.972883 USD\\u003cbr\\u003eequity: 9978.972883\\u003cbr\\u003emargin: 0.000000\\u003cbr\\u003efree margin: 9978.972883\\u003cbr\\u003emargin level: inf\",\"balance: 9978.972883 USD\\u003cbr\\u003eequity: 9566.735650\\u003cbr\\u003emargin: 6726.151200\\u003cbr\\u003efree margin: 2840.584450\\u003cbr\\u003emargin level: 1.422319\",\"balance: 9978.972883 USD\\u003cbr\\u003eequity: 9256.535650\\u003cbr\\u003emargin: 6726.151200\\u003cbr\\u003efree margin: 2530.384450\\u003cbr\\u003emargin level: 1.376201\",\"balance: 9256.535650 USD\\u003cbr\\u003eequity: 9256.535650\\u003cbr\\u003emargin: 0.000000\\u003cbr\\u003efree margin: 9256.535650\\u003cbr\\u003emargin level: inf\",\"balance: 9256.535650 USD\\u003cbr\\u003eequity: 9256.535650\\u003cbr\\u003emargin: 0.000000\\u003cbr\\u003efree margin: 9256.535650\\u003cbr\\u003emargin level: inf\",\"balance: 9256.535650 USD\\u003cbr\\u003eequity: 9256.535650\\u003cbr\\u003emargin: 0.000000\\u003cbr\\u003efree margin: 9256.535650\\u003cbr\\u003emargin level: inf\",\"balance: 9256.535650 USD\\u003cbr\\u003eequity: 9256.535650\\u003cbr\\u003emargin: 0.000000\\u003cbr\\u003efree margin: 9256.535650\\u003cbr\\u003emargin level: inf\",\"balance: 9256.535650 USD\\u003cbr\\u003eequity: 9256.535650\\u003cbr\\u003emargin: 0.000000\\u003cbr\\u003efree margin: 9256.535650\\u003cbr\\u003emargin level: inf\",\"balance: 9256.535650 USD\\u003cbr\\u003eequity: 9256.535650\\u003cbr\\u003emargin: 0.000000\\u003cbr\\u003efree margin: 9256.535650\\u003cbr\\u003emargin level: inf\",\"balance: 9256.535650 USD\\u003cbr\\u003eequity: 9256.535650\\u003cbr\\u003emargin: 0.000000\\u003cbr\\u003efree margin: 9256.535650\\u003cbr\\u003emargin level: inf\",\"balance: 9256.535650 USD\\u003cbr\\u003eequity: 9256.535650\\u003cbr\\u003emargin: 0.000000\\u003cbr\\u003efree margin: 9256.535650\\u003cbr\\u003emargin level: inf\",\"balance: 9256.535650 USD\\u003cbr\\u003eequity: 9256.535650\\u003cbr\\u003emargin: 0.000000\\u003cbr\\u003efree margin: 9256.535650\\u003cbr\\u003emargin level: inf\",\"balance: 9256.535650 USD\\u003cbr\\u003eequity: 9256.535650\\u003cbr\\u003emargin: 0.000000\\u003cbr\\u003efree margin: 9256.535650\\u003cbr\\u003emargin level: inf\",\"balance: 9256.535650 USD\\u003cbr\\u003eequity: 9256.535650\\u003cbr\\u003emargin: 0.000000\\u003cbr\\u003efree margin: 9256.535650\\u003cbr\\u003emargin level: inf\",\"balance: 9256.535650 USD\\u003cbr\\u003eequity: 9256.535650\\u003cbr\\u003emargin: 0.000000\\u003cbr\\u003efree margin: 9256.535650\\u003cbr\\u003emargin level: inf\",\"balance: 9256.535650 USD\\u003cbr\\u003eequity: 9256.535650\\u003cbr\\u003emargin: 0.000000\\u003cbr\\u003efree margin: 9256.535650\\u003cbr\\u003emargin level: inf\",\"balance: 9256.535650 USD\\u003cbr\\u003eequity: 9256.535650\\u003cbr\\u003emargin: 0.000000\\u003cbr\\u003efree margin: 9256.535650\\u003cbr\\u003emargin level: inf\",\"balance: 9256.535650 USD\\u003cbr\\u003eequity: 9256.535650\\u003cbr\\u003emargin: 0.000000\\u003cbr\\u003efree margin: 9256.535650\\u003cbr\\u003emargin level: inf\",\"balance: 9256.535650 USD\\u003cbr\\u003eequity: 9988.520392\\u003cbr\\u003emargin: 2629.177254\\u003cbr\\u003efree margin: 7359.343138\\u003cbr\\u003emargin level: 3.799105\",\"balance: 9256.535650 USD\\u003cbr\\u003eequity: 7723.733752\\u003cbr\\u003emargin: 2629.177254\\u003cbr\\u003efree margin: 5094.556498\\u003cbr\\u003emargin level: 2.937700\",\"balance: 9256.535650 USD\\u003cbr\\u003eequity: 6865.161313\\u003cbr\\u003emargin: 2629.177254\\u003cbr\\u003efree margin: 4235.984059\\u003cbr\\u003emargin level: 2.611144\",\"balance: 6865.161313 USD\\u003cbr\\u003eequity: 6865.161313\\u003cbr\\u003emargin: 0.000000\\u003cbr\\u003efree margin: 6865.161313\\u003cbr\\u003emargin level: inf\",\"balance: 6865.161313 USD\\u003cbr\\u003eequity: 6865.161313\\u003cbr\\u003emargin: 0.000000\\u003cbr\\u003efree margin: 6865.161313\\u003cbr\\u003emargin level: inf\",\"balance: 6865.161313 USD\\u003cbr\\u003eequity: 6865.161313\\u003cbr\\u003emargin: 0.000000\\u003cbr\\u003efree margin: 6865.161313\\u003cbr\\u003emargin level: inf\",\"balance: 6865.161313 USD\\u003cbr\\u003eequity: 6865.161313\\u003cbr\\u003emargin: 0.000000\\u003cbr\\u003efree margin: 6865.161313\\u003cbr\\u003emargin level: inf\",\"balance: 6865.161313 USD\\u003cbr\\u003eequity: 6865.161313\\u003cbr\\u003emargin: 0.000000\\u003cbr\\u003efree margin: 6865.161313\\u003cbr\\u003emargin level: inf\",\"balance: 6865.161313 USD\\u003cbr\\u003eequity: 5295.605321\\u003cbr\\u003emargin: 3720.000000\\u003cbr\\u003efree margin: 1575.605321\\u003cbr\\u003emargin level: 1.423550\",\"balance: 5295.605321 USD\\u003cbr\\u003eequity: 5295.605321\\u003cbr\\u003emargin: 0.000000\\u003cbr\\u003efree margin: 5295.605321\\u003cbr\\u003emargin level: inf\",\"balance: 5295.605321 USD\\u003cbr\\u003eequity: 5295.605321\\u003cbr\\u003emargin: 0.000000\\u003cbr\\u003efree margin: 5295.605321\\u003cbr\\u003emargin level: inf\",\"balance: 5295.605321 USD\\u003cbr\\u003eequity: 5295.605321\\u003cbr\\u003emargin: 0.000000\\u003cbr\\u003efree margin: 5295.605321\\u003cbr\\u003emargin level: inf\",\"balance: 5295.605321 USD\\u003cbr\\u003eequity: 5295.605321\\u003cbr\\u003emargin: 0.000000\\u003cbr\\u003efree margin: 5295.605321\\u003cbr\\u003emargin level: inf\",\"balance: 5295.605321 USD\\u003cbr\\u003eequity: 5295.605321\\u003cbr\\u003emargin: 0.000000\\u003cbr\\u003efree margin: 5295.605321\\u003cbr\\u003emargin level: inf\",\"balance: 5295.605321 USD\\u003cbr\\u003eequity: 5295.605321\\u003cbr\\u003emargin: 0.000000\\u003cbr\\u003efree margin: 5295.605321\\u003cbr\\u003emargin level: inf\",\"balance: 5295.605321 USD\\u003cbr\\u003eequity: 5352.078140\\u003cbr\\u003emargin: 2220.000000\\u003cbr\\u003efree margin: 3132.078140\\u003cbr\\u003emargin level: 2.410846\",\"balance: 5352.078140 USD\\u003cbr\\u003eequity: 5352.078140\\u003cbr\\u003emargin: 0.000000\\u003cbr\\u003efree margin: 5352.078140\\u003cbr\\u003emargin level: inf\",\"balance: 5352.078140 USD\\u003cbr\\u003eequity: 5352.078140\\u003cbr\\u003emargin: 0.000000\\u003cbr\\u003efree margin: 5352.078140\\u003cbr\\u003emargin level: inf\",\"balance: 5352.078140 USD\\u003cbr\\u003eequity: 5352.078140\\u003cbr\\u003emargin: 0.000000\\u003cbr\\u003efree margin: 5352.078140\\u003cbr\\u003emargin level: inf\",\"balance: 5352.078140 USD\\u003cbr\\u003eequity: 5352.078140\\u003cbr\\u003emargin: 0.000000\\u003cbr\\u003efree margin: 5352.078140\\u003cbr\\u003emargin level: inf\",\"balance: 5352.078140 USD\\u003cbr\\u003eequity: 5352.078140\\u003cbr\\u003emargin: 0.000000\\u003cbr\\u003efree margin: 5352.078140\\u003cbr\\u003emargin level: inf\",\"balance: 5352.078140 USD\\u003cbr\\u003eequity: 5352.078140\\u003cbr\\u003emargin: 0.000000\\u003cbr\\u003efree margin: 5352.078140\\u003cbr\\u003emargin level: inf\",\"balance: 5352.078140 USD\\u003cbr\\u003eequity: 5352.078140\\u003cbr\\u003emargin: 0.000000\\u003cbr\\u003efree margin: 5352.078140\\u003cbr\\u003emargin level: inf\",\"balance: 5352.078140 USD\\u003cbr\\u003eequity: 5352.078140\\u003cbr\\u003emargin: 0.000000\\u003cbr\\u003efree margin: 5352.078140\\u003cbr\\u003emargin level: inf\",\"balance: 5352.078140 USD\\u003cbr\\u003eequity: 5352.078140\\u003cbr\\u003emargin: 0.000000\\u003cbr\\u003efree margin: 5352.078140\\u003cbr\\u003emargin level: inf\",\"balance: 5352.078140 USD\\u003cbr\\u003eequity: 5352.078140\\u003cbr\\u003emargin: 0.000000\\u003cbr\\u003efree margin: 5352.078140\\u003cbr\\u003emargin level: inf\",\"balance: 5352.078140 USD\\u003cbr\\u003eequity: 5352.078140\\u003cbr\\u003emargin: 0.000000\\u003cbr\\u003efree margin: 5352.078140\\u003cbr\\u003emargin level: inf\",\"balance: 5352.078140 USD\\u003cbr\\u003eequity: 5352.078140\\u003cbr\\u003emargin: 0.000000\\u003cbr\\u003efree margin: 5352.078140\\u003cbr\\u003emargin level: inf\",\"balance: 5352.078140 USD\\u003cbr\\u003eequity: 5352.078140\\u003cbr\\u003emargin: 0.000000\\u003cbr\\u003efree margin: 5352.078140\\u003cbr\\u003emargin level: inf\",\"balance: 5352.078140 USD\\u003cbr\\u003eequity: 5352.078140\\u003cbr\\u003emargin: 0.000000\\u003cbr\\u003efree margin: 5352.078140\\u003cbr\\u003emargin level: inf\",\"balance: 5352.078140 USD\\u003cbr\\u003eequity: 5352.078140\\u003cbr\\u003emargin: 0.000000\\u003cbr\\u003efree margin: 5352.078140\\u003cbr\\u003emargin level: inf\",\"balance: 5352.078140 USD\\u003cbr\\u003eequity: 5352.078140\\u003cbr\\u003emargin: 0.000000\\u003cbr\\u003efree margin: 5352.078140\\u003cbr\\u003emargin level: inf\",\"balance: 5352.078140 USD\\u003cbr\\u003eequity: 5352.078140\\u003cbr\\u003emargin: 0.000000\\u003cbr\\u003efree margin: 5352.078140\\u003cbr\\u003emargin level: inf\",\"balance: 5352.078140 USD\\u003cbr\\u003eequity: 5352.078140\\u003cbr\\u003emargin: 0.000000\\u003cbr\\u003efree margin: 5352.078140\\u003cbr\\u003emargin level: inf\",\"balance: 5352.078140 USD\\u003cbr\\u003eequity: 5352.078140\\u003cbr\\u003emargin: 0.000000\\u003cbr\\u003efree margin: 5352.078140\\u003cbr\\u003emargin level: inf\"],\"legendgroup\":\"g2\",\"line\":{\"color\":\"rgba(0.5643983083429451, 0.36993464052287583, 0.5132641291810843, 1.0)\"},\"mode\":\"lines+markers\",\"name\":\"EURUSD\",\"opacity\":1.0,\"x\":[\"2021-05-05T00:00:00+00:00\",\"2021-05-06T00:00:00+00:00\",\"2021-05-07T00:00:00+00:00\",\"2021-05-10T00:00:00+00:00\",\"2021-05-11T00:00:00+00:00\",\"2021-05-12T00:00:00+00:00\",\"2021-05-13T00:00:00+00:00\",\"2021-05-14T00:00:00+00:00\",\"2021-05-17T00:00:00+00:00\",\"2021-05-18T00:00:00+00:00\",\"2021-05-19T00:00:00+00:00\",\"2021-05-20T00:00:00+00:00\",\"2021-05-21T00:00:00+00:00\",\"2021-05-24T00:00:00+00:00\",\"2021-05-25T00:00:00+00:00\",\"2021-05-26T00:00:00+00:00\",\"2021-05-27T00:00:00+00:00\",\"2021-05-28T00:00:00+00:00\",\"2021-05-31T00:00:00+00:00\",\"2021-06-01T00:00:00+00:00\",\"2021-06-02T00:00:00+00:00\",\"2021-06-03T00:00:00+00:00\",\"2021-06-04T00:00:00+00:00\",\"2021-06-07T00:00:00+00:00\",\"2021-06-08T00:00:00+00:00\",\"2021-06-09T00:00:00+00:00\",\"2021-06-10T00:00:00+00:00\",\"2021-06-11T00:00:00+00:00\",\"2021-06-14T00:00:00+00:00\",\"2021-06-15T00:00:00+00:00\",\"2021-06-16T00:00:00+00:00\",\"2021-06-17T00:00:00+00:00\",\"2021-06-18T00:00:00+00:00\",\"2021-06-21T00:00:00+00:00\",\"2021-06-22T00:00:00+00:00\",\"2021-06-23T00:00:00+00:00\",\"2021-06-24T00:00:00+00:00\",\"2021-06-25T00:00:00+00:00\",\"2021-06-28T00:00:00+00:00\",\"2021-06-29T00:00:00+00:00\",\"2021-06-30T00:00:00+00:00\",\"2021-07-01T00:00:00+00:00\",\"2021-07-02T00:00:00+00:00\",\"2021-07-05T00:00:00+00:00\",\"2021-07-06T00:00:00+00:00\",\"2021-07-07T00:00:00+00:00\",\"2021-07-08T00:00:00+00:00\",\"2021-07-09T00:00:00+00:00\",\"2021-07-12T00:00:00+00:00\",\"2021-07-13T00:00:00+00:00\",\"2021-07-14T00:00:00+00:00\",\"2021-07-15T00:00:00+00:00\",\"2021-07-16T00:00:00+00:00\",\"2021-07-19T00:00:00+00:00\",\"2021-07-20T00:00:00+00:00\",\"2021-07-21T00:00:00+00:00\",\"2021-07-22T00:00:00+00:00\",\"2021-07-23T00:00:00+00:00\",\"2021-07-26T00:00:00+00:00\",\"2021-07-27T00:00:00+00:00\",\"2021-07-28T00:00:00+00:00\",\"2021-07-29T00:00:00+00:00\",\"2021-07-30T00:00:00+00:00\",\"2021-08-02T00:00:00+00:00\",\"2021-08-03T00:00:00+00:00\",\"2021-08-04T00:00:00+00:00\",\"2021-08-05T00:00:00+00:00\",\"2021-08-06T00:00:00+00:00\",\"2021-08-09T00:00:00+00:00\",\"2021-08-10T00:00:00+00:00\",\"2021-08-11T00:00:00+00:00\",\"2021-08-12T00:00:00+00:00\",\"2021-08-13T00:00:00+00:00\",\"2021-08-16T00:00:00+00:00\",\"2021-08-17T00:00:00+00:00\",\"2021-08-18T00:00:00+00:00\",\"2021-08-19T00:00:00+00:00\",\"2021-08-20T00:00:00+00:00\",\"2021-08-23T00:00:00+00:00\",\"2021-08-24T00:00:00+00:00\",\"2021-08-25T00:00:00+00:00\",\"2021-08-26T00:00:00+00:00\",\"2021-08-27T00:00:00+00:00\",\"2021-08-30T00:00:00+00:00\",\"2021-08-31T00:00:00+00:00\",\"2021-09-01T00:00:00+00:00\",\"2021-09-02T00:00:00+00:00\",\"2021-09-03T00:00:00+00:00\"],\"y\":[1.20036,1.20646,1.21618,1.21282,1.2147000000000001,1.20705,1.20791,1.21441,1.21511,1.2221899999999999,1.21744,1.22269,1.21806,1.2215,1.22497,1.21922,1.21934,1.21896,1.2225,1.22126,1.221,1.21265,1.21662,1.21893,1.21726,1.21787,1.21751,1.21063,1.212,1.21264,1.19943,1.19069,1.18597,1.19185,1.19413,1.19258,1.19315,1.1937,1.19242,1.1896,1.1856,1.18497,1.18646,1.18634,1.18231,1.17903,1.18449,1.18774,1.18606,1.17765,1.18358,1.18118,1.18055,1.17987,1.17805,1.17946,1.17707,1.17689,1.18029,1.18165,1.18441,1.18865,1.1873,1.18688,1.18637,1.18367,1.18327,1.17611,1.17362,1.17203,1.17388,1.17296,1.17962,1.17768,1.17081,1.17108,1.16756,1.16996,1.1745700000000001,1.17555,1.17716,1.17515,1.1795499999999999,1.17962,1.18083,1.18384,1.18744,1.18772],\"yaxis\":\"y2\",\"type\":\"scatter\"},{\"hovertext\":[\"order id: \\u003cbr\\u003ehold probability: 0.0000\\u003cbr\\u003ehold: False\\u003cbr\\u003evolume: -12.601798\\u003cbr\\u003emodified volume: 12.6000\\u003cbr\\u003efee: nan\\u003cbr\\u003emargin: nan\\u003cbr\\u003eerror: low free margin (order margin=15339.744, order profit=-284.79163288875986, free margin=10000.0)\",\"order id: \\u003cbr\\u003ehold probability: 0.0000\\u003cbr\\u003ehold: False\\u003cbr\\u003evolume: -93.002388\\u003cbr\\u003emodified volume: 93.0000\\u003cbr\\u003efee: nan\\u003cbr\\u003emargin: nan\\u003cbr\\u003eerror: low free margin (order margin=113710.17, order profit=-1356.0579587768884, free margin=10000.0)\",\"order id: \\u003cbr\\u003ehold probability: 0.0000\\u003cbr\\u003ehold: False\\u003cbr\\u003evolume: 19.951796\\u003cbr\\u003emodified volume: 19.9500\\u003cbr\\u003efee: nan\\u003cbr\\u003emargin: nan\\u003cbr\\u003eerror: low free margin (order margin=24300.297, order profit=-489.5872624613265, free margin=10000.0)\",\"order id: \\u003cbr\\u003ehold probability: 0.0022\\u003cbr\\u003ehold: False\\u003cbr\\u003evolume: -45.183797\\u003cbr\\u003emodified volume: 45.1800\\u003cbr\\u003efee: nan\\u003cbr\\u003emargin: nan\\u003cbr\\u003eerror: low free margin (order margin=55344.1446, order profit=-611.9063477667723, free margin=10000.0)\",\"order id: \\u003cbr\\u003ehold probability: 0.0000\\u003cbr\\u003ehold: False\\u003cbr\\u003evolume: -93.192286\\u003cbr\\u003emodified volume: 93.1900\\u003cbr\\u003efee: nan\\u003cbr\\u003emargin: nan\\u003cbr\\u003eerror: low free margin (order margin=113619.1118, order profit=-1915.689018768198, free margin=10000.0)\",\"order id: \\u003cbr\\u003ehold probability: 0.0000\\u003cbr\\u003ehold: False\\u003cbr\\u003evolume: 73.981007\\u003cbr\\u003emodified volume: 73.9800\\u003cbr\\u003efee: nan\\u003cbr\\u003emargin: nan\\u003cbr\\u003eerror: low free margin (order margin=90178.6608, order profit=-1441.621428981821, free margin=10000.0)\",\"order id: \\u003cbr\\u003ehold probability: 0.0000\\u003cbr\\u003ehold: False\\u003cbr\\u003evolume: -21.014549\\u003cbr\\u003emodified volume: 21.0100\\u003cbr\\u003efee: nan\\u003cbr\\u003emargin: nan\\u003cbr\\u003eerror: low free margin (order margin=25684.725, order profit=-402.16080618485773, free margin=10000.0)\",\"order id: \\u003cbr\\u003ehold probability: 0.3113\\u003cbr\\u003ehold: False\\u003cbr\\u003evolume: 76.390749\\u003cbr\\u003emodified volume: 76.3900\\u003cbr\\u003efee: nan\\u003cbr\\u003emargin: nan\\u003cbr\\u003eerror: low free margin (order margin=93033.08929999999, order profit=-1535.788726054146, free margin=10000.0)\",\"order id: \\u003cbr\\u003ehold probability: 0.0000\\u003cbr\\u003ehold: False\\u003cbr\\u003evolume: 39.031614\\u003cbr\\u003emodified volume: 39.0300\\u003cbr\\u003efee: nan\\u003cbr\\u003emargin: nan\\u003cbr\\u003eerror: low free margin (order margin=47304.36, order profit=-829.7218458265733, free margin=9824.513372518073)\",\"order id: \\u003cbr\\u003ehold probability: 0.0000\\u003cbr\\u003ehold: False\\u003cbr\\u003evolume: -95.912062\\u003cbr\\u003emodified volume: 95.9100\\u003cbr\\u003efee: nan\\u003cbr\\u003emargin: nan\\u003cbr\\u003eerror: low free margin (order margin=116304.3024, order profit=-1932.547794184346, free margin=9978.97288278756)\",\"order id: \\u003cbr\\u003ehold probability: 0.0000\\u003cbr\\u003ehold: False\\u003cbr\\u003evolume: -78.494705\\u003cbr\\u003emodified volume: 78.4900\\u003cbr\\u003efee: nan\\u003cbr\\u003emargin: nan\\u003cbr\\u003eerror: low free margin (order margin=93548.3065, order profit=-1783.929638650845, free margin=9978.97288278756)\",\"order id: 2\\u003cbr\\u003ehold probability: 0.0001\\u003cbr\\u003ehold: False\\u003cbr\\u003evolume: -5.641457\\u003cbr\\u003emodified volume: 5.6400\\u003cbr\\u003efee: 0.000161\\u003cbr\\u003emargin: 6726.151200\\u003cbr\\u003eerror: \",\"order id: \\u003cbr\\u003ehold probability: 0.0000\\u003cbr\\u003ehold: False\\u003cbr\\u003evolume: -79.550422\\u003cbr\\u003emodified volume: 79.5500\\u003cbr\\u003efee: nan\\u003cbr\\u003emargin: nan\\u003cbr\\u003eerror: low free margin (order margin=94915.0825, order profit=-1647.0439708016618, free margin=2840.584450360222)\",\"order id: \\u003cbr\\u003ehold probability: 0.0000\\u003cbr\\u003ehold: False\\u003cbr\\u003evolume: -8.285821\\u003cbr\\u003emodified volume: 8.2900\\u003cbr\\u003efee: nan\\u003cbr\\u003emargin: nan\\u003cbr\\u003eerror: low free margin (order margin=9895.773000000001, order profit=-204.98812423889692, free margin=9256.535650360194)\",\"order id: \\u003cbr\\u003ehold probability: 0.0000\\u003cbr\\u003ehold: False\\u003cbr\\u003evolume: 49.834631\\u003cbr\\u003emodified volume: 49.8300\\u003cbr\\u003efee: nan\\u003cbr\\u003emargin: nan\\u003cbr\\u003eerror: low free margin (order margin=59418.2886, order profit=-848.4766949352693, free margin=9256.535650360194)\",\"order id: \\u003cbr\\u003ehold probability: 0.0000\\u003cbr\\u003ehold: False\\u003cbr\\u003evolume: -54.202473\\u003cbr\\u003emodified volume: 54.2000\\u003cbr\\u003efee: nan\\u003cbr\\u003emargin: nan\\u003cbr\\u003eerror: low free margin (order margin=64259.52, order profit=-1117.9428232842156, free margin=9256.535650360194)\",\"order id: \\u003cbr\\u003ehold probability: 0.0000\\u003cbr\\u003ehold: False\\u003cbr\\u003evolume: -96.194826\\u003cbr\\u003emodified volume: 96.1900\\u003cbr\\u003efee: nan\\u003cbr\\u003emargin: nan\\u003cbr\\u003eerror: low free margin (order margin=113936.0931, order profit=-1922.1962250643398, free margin=9256.535650360194)\",\"order id: \\u003cbr\\u003ehold probability: 0.0000\\u003cbr\\u003ehold: False\\u003cbr\\u003evolume: -30.220083\\u003cbr\\u003emodified volume: 30.2200\\u003cbr\\u003efee: nan\\u003cbr\\u003emargin: nan\\u003cbr\\u003eerror: low free margin (order margin=35588.583000000006, order profit=-621.4263371855852, free margin=9256.535650360194)\",\"order id: \\u003cbr\\u003ehold probability: 0.0000\\u003cbr\\u003ehold: False\\u003cbr\\u003evolume: -36.838700\\u003cbr\\u003emodified volume: 36.8400\\u003cbr\\u003efee: nan\\u003cbr\\u003emargin: nan\\u003cbr\\u003eerror: low free margin (order margin=43603.08720000001, order profit=-648.7609963894772, free margin=9256.535650360194)\",\"order id: \\u003cbr\\u003ehold probability: 0.0000\\u003cbr\\u003ehold: False\\u003cbr\\u003evolume: 17.921017\\u003cbr\\u003emodified volume: 17.9200\\u003cbr\\u003efee: nan\\u003cbr\\u003emargin: nan\\u003cbr\\u003eerror: low free margin (order margin=21110.656000000006, order profit=-385.0675031921777, free margin=5094.556497921327)\",\"order id: \\u003cbr\\u003ehold probability: 0.0000\\u003cbr\\u003ehold: False\\u003cbr\\u003evolume: 68.049184\\u003cbr\\u003emodified volume: 68.0500\\u003cbr\\u003efee: nan\\u003cbr\\u003emargin: nan\\u003cbr\\u003eerror: low free margin (order margin=80099.6135, order profit=-1589.5788146160744, free margin=6865.161313289139)\",\"order id: \\u003cbr\\u003ehold probability: 0.0000\\u003cbr\\u003ehold: False\\u003cbr\\u003evolume: -21.070473\\u003cbr\\u003emodified volume: 21.0700\\u003cbr\\u003efee: nan\\u003cbr\\u003emargin: nan\\u003cbr\\u003eerror: low free margin (order margin=24897.365500000004, order profit=-326.70877422738647, free margin=6865.161313289139)\",\"order id: \\u003cbr\\u003ehold probability: 0.0000\\u003cbr\\u003ehold: False\\u003cbr\\u003evolume: -40.616708\\u003cbr\\u003emodified volume: 40.6200\\u003cbr\\u003efee: nan\\u003cbr\\u003emargin: nan\\u003cbr\\u003eerror: low free margin (order margin=48190.34939999999, order profit=-702.143751884792, free margin=5295.60532077697)\",\"order id: \\u003cbr\\u003ehold probability: 0.0000\\u003cbr\\u003ehold: False\\u003cbr\\u003evolume: 74.932877\\u003cbr\\u003emodified volume: 74.9300\\u003cbr\\u003efee: nan\\u003cbr\\u003emargin: nan\\u003cbr\\u003eerror: low free margin (order margin=88692.3931, order profit=-1445.2492540257201, free margin=5295.60532077697)\",\"order id: \\u003cbr\\u003ehold probability: 0.0000\\u003cbr\\u003ehold: False\\u003cbr\\u003evolume: 29.820906\\u003cbr\\u003emodified volume: 29.8200\\u003cbr\\u003efee: nan\\u003cbr\\u003emargin: nan\\u003cbr\\u003eerror: low free margin (order margin=35285.1114, order profit=-587.1685405518442, free margin=5295.60532077697)\",\"order id: \\u003cbr\\u003ehold probability: 0.0021\\u003cbr\\u003ehold: False\\u003cbr\\u003evolume: -90.478903\\u003cbr\\u003emodified volume: 90.4800\\u003cbr\\u003efee: nan\\u003cbr\\u003emargin: nan\\u003cbr\\u003eerror: low free margin (order margin=106414.4328, order profit=-1755.3276302890504, free margin=5295.60532077697)\",\"order id: \\u003cbr\\u003ehold probability: 0.0000\\u003cbr\\u003ehold: False\\u003cbr\\u003evolume: -84.837039\\u003cbr\\u003emodified volume: 84.8400\\u003cbr\\u003efee: nan\\u003cbr\\u003emargin: nan\\u003cbr\\u003eerror: low free margin (order margin=99591.9792, order profit=-1683.318064582996, free margin=5352.078139709921)\",\"order id: \\u003cbr\\u003ehold probability: 0.0000\\u003cbr\\u003ehold: False\\u003cbr\\u003evolume: -53.812905\\u003cbr\\u003emodified volume: 53.8100\\u003cbr\\u003efee: nan\\u003cbr\\u003emargin: nan\\u003cbr\\u003eerror: low free margin (order margin=63116.9776, order profit=-1068.5057900511472, free margin=5352.078139709921)\",\"order id: \\u003cbr\\u003ehold probability: 0.0000\\u003cbr\\u003ehold: False\\u003cbr\\u003evolume: -60.663907\\u003cbr\\u003emodified volume: 60.6600\\u003cbr\\u003efee: nan\\u003cbr\\u003emargin: nan\\u003cbr\\u003eerror: low free margin (order margin=71555.74919999999, order profit=-1135.2094423903486, free margin=5352.078139709921)\",\"order id: \\u003cbr\\u003ehold probability: 0.0000\\u003cbr\\u003ehold: False\\u003cbr\\u003evolume: 14.375309\\u003cbr\\u003emodified volume: 14.3800\\u003cbr\\u003efee: nan\\u003cbr\\u003emargin: nan\\u003cbr\\u003eerror: low free margin (order margin=16935.0384, order profit=-298.9860783601121, free margin=5352.078139709921)\",\"order id: \\u003cbr\\u003ehold probability: 0.0000\\u003cbr\\u003ehold: False\\u003cbr\\u003evolume: 46.122510\\u003cbr\\u003emodified volume: 46.1200\\u003cbr\\u003efee: nan\\u003cbr\\u003emargin: nan\\u003cbr\\u003eerror: low free margin (order margin=54216.36600000001, order profit=-1202.973422922642, free margin=5352.078139709921)\",\"order id: \\u003cbr\\u003ehold probability: 0.0000\\u003cbr\\u003ehold: False\\u003cbr\\u003evolume: 76.018511\\u003cbr\\u003emodified volume: 76.0200\\u003cbr\\u003efee: nan\\u003cbr\\u003emargin: nan\\u003cbr\\u003eerror: low free margin (order margin=89487.7032, order profit=-1457.2283953848237, free margin=5352.078139709921)\",\"order id: \\u003cbr\\u003ehold probability: 0.0000\\u003cbr\\u003ehold: False\\u003cbr\\u003evolume: -58.285446\\u003cbr\\u003emodified volume: 58.2900\\u003cbr\\u003efee: nan\\u003cbr\\u003emargin: nan\\u003cbr\\u003eerror: low free margin (order margin=68760.0498, order profit=-1063.8635742725144, free margin=5352.078139709921)\",\"order id: \\u003cbr\\u003ehold probability: 0.0000\\u003cbr\\u003ehold: False\\u003cbr\\u003evolume: 98.538178\\u003cbr\\u003emodified volume: 98.5400\\u003cbr\\u003efee: nan\\u003cbr\\u003emargin: nan\\u003cbr\\u003eerror: low free margin (order margin=116358.9882, order profit=-2053.6111872263828, free margin=5352.078139709921)\",\"order id: \\u003cbr\\u003ehold probability: 0.0000\\u003cbr\\u003ehold: False\\u003cbr\\u003evolume: -79.112465\\u003cbr\\u003emodified volume: 79.1100\\u003cbr\\u003efee: nan\\u003cbr\\u003emargin: nan\\u003cbr\\u003eerror: low free margin (order margin=93653.5824, order profit=-1378.6111623792442, free margin=5352.078139709921)\",\"order id: \\u003cbr\\u003ehold probability: 0.0000\\u003cbr\\u003ehold: False\\u003cbr\\u003evolume: 66.439054\\u003cbr\\u003emodified volume: 66.4400\\u003cbr\\u003efee: nan\\u003cbr\\u003emargin: nan\\u003cbr\\u003eerror: low free margin (order margin=78893.5136, order profit=-1268.5382629914477, free margin=5352.078139709921)\"],\"legendgroup\":\"g2\",\"marker\":{\"color\":[\"gray\",\"gray\",\"gray\",\"gray\",\"gray\",\"gray\",\"gray\",\"gray\",\"gray\",\"gray\",\"gray\",\"red\",\"gray\",\"gray\",\"gray\",\"gray\",\"gray\",\"gray\",\"gray\",\"gray\",\"gray\",\"gray\",\"gray\",\"gray\",\"gray\",\"gray\",\"gray\",\"gray\",\"gray\",\"gray\",\"gray\",\"gray\",\"gray\",\"gray\",\"gray\",\"gray\"],\"size\":[10.779504662588991,28.515391557204453,12.400882382432567,17.966509575854808,28.55730472275143,24.31966309034393,12.63471372706307,24.85129850596611,16.60984658578161,29.15732477689762,25.31454928306427,9.244159229920786,25.548380627694776,9.828737591497042,18.99227915371503,19.9562819612955,29.219091547177378,14.666399278050736,16.126742203950666,11.953073297904343,23.011531134061965,12.647949463551589,16.960593602727364,24.529228918078815,14.578161034793943,27.959490624686655,26.71533139476587,19.870249674120124,21.381329589892708,11.17216484508172,18.17386944750827,24.769678130953572,20.85851799859621,29.73749122631104,25.451318560112302,22.65637220495337],\"symbol\":[\"triangle-down\",\"triangle-down\",\"triangle-down\",\"triangle-down\",\"triangle-down\",\"triangle-down\",\"triangle-down\",\"triangle-down\",\"triangle-down\",\"triangle-down\",\"triangle-down\",\"triangle-down\",\"triangle-down\",\"triangle-down\",\"triangle-down\",\"triangle-down\",\"triangle-down\",\"triangle-down\",\"triangle-down\",\"triangle-down\",\"triangle-down\",\"triangle-down\",\"triangle-down\",\"triangle-down\",\"triangle-down\",\"triangle-down\",\"triangle-down\",\"triangle-down\",\"triangle-down\",\"triangle-down\",\"triangle-down\",\"triangle-down\",\"triangle-down\",\"triangle-down\",\"triangle-down\",\"triangle-down\"]},\"mode\":\"markers\",\"name\":\"EURUSD\",\"showlegend\":false,\"x\":[\"2021-05-19T00:00:00+00:00\",\"2021-05-20T00:00:00+00:00\",\"2021-05-21T00:00:00+00:00\",\"2021-05-25T00:00:00+00:00\",\"2021-05-26T00:00:00+00:00\",\"2021-05-28T00:00:00+00:00\",\"2021-05-31T00:00:00+00:00\",\"2021-06-09T00:00:00+00:00\",\"2021-06-14T00:00:00+00:00\",\"2021-06-15T00:00:00+00:00\",\"2021-06-21T00:00:00+00:00\",\"2021-06-23T00:00:00+00:00\",\"2021-06-24T00:00:00+00:00\",\"2021-06-25T00:00:00+00:00\",\"2021-06-28T00:00:00+00:00\",\"2021-06-30T00:00:00+00:00\",\"2021-07-08T00:00:00+00:00\",\"2021-07-13T00:00:00+00:00\",\"2021-07-14T00:00:00+00:00\",\"2021-07-20T00:00:00+00:00\",\"2021-07-22T00:00:00+00:00\",\"2021-07-27T00:00:00+00:00\",\"2021-08-03T00:00:00+00:00\",\"2021-08-04T00:00:00+00:00\",\"2021-08-05T00:00:00+00:00\",\"2021-08-06T00:00:00+00:00\",\"2021-08-11T00:00:00+00:00\",\"2021-08-12T00:00:00+00:00\",\"2021-08-13T00:00:00+00:00\",\"2021-08-16T00:00:00+00:00\",\"2021-08-24T00:00:00+00:00\",\"2021-08-25T00:00:00+00:00\",\"2021-08-30T00:00:00+00:00\",\"2021-08-31T00:00:00+00:00\",\"2021-09-01T00:00:00+00:00\",\"2021-09-02T00:00:00+00:00\"],\"y\":[1.21744,1.22269,1.21806,1.22497,1.21922,1.21896,1.2225,1.21787,1.212,1.21264,1.19185,1.19258,1.19315,1.1937,1.19242,1.1856,1.18449,1.17765,1.18358,1.17805,1.17707,1.18165,1.18637,1.18367,1.18327,1.17611,1.17388,1.17296,1.17962,1.17768,1.17555,1.17716,1.17962,1.18083,1.18384,1.18744],\"yaxis\":\"y2\",\"type\":\"scatter\"},{\"hovertext\":[\"order id: 2\\u003cbr\\u003eorder type: Sell\\u003cbr\\u003eclose probability: 1.0000\\u003cbr\\u003emargin: 6726.151200\\u003cbr\\u003eprofit: -722.437232\"],\"legendgroup\":\"g2\",\"marker\":{\"color\":\"black\",\"line\":{\"width\":1.5},\"size\":7,\"symbol\":\"line-ns\"},\"mode\":\"markers\",\"name\":\"EURUSD\",\"showlegend\":false,\"x\":[\"2021-06-25T00:00:00+00:00\"],\"y\":[1.1937],\"yaxis\":\"y2\",\"type\":\"scatter\"},{\"hovertext\":[\"balance: 10000.000000 USD\\u003cbr\\u003eequity: 10000.000000\\u003cbr\\u003emargin: 0.000000\\u003cbr\\u003efree margin: 10000.000000\\u003cbr\\u003emargin level: inf\",\"balance: 10000.000000 USD\\u003cbr\\u003eequity: 10000.000000\\u003cbr\\u003emargin: 0.000000\\u003cbr\\u003efree margin: 10000.000000\\u003cbr\\u003emargin level: inf\",\"balance: 10000.000000 USD\\u003cbr\\u003eequity: 10000.000000\\u003cbr\\u003emargin: 0.000000\\u003cbr\\u003efree margin: 10000.000000\\u003cbr\\u003emargin level: inf\",\"balance: 10000.000000 USD\\u003cbr\\u003eequity: 10000.000000\\u003cbr\\u003emargin: 0.000000\\u003cbr\\u003efree margin: 10000.000000\\u003cbr\\u003emargin level: inf\",\"balance: 10000.000000 USD\\u003cbr\\u003eequity: 10000.000000\\u003cbr\\u003emargin: 0.000000\\u003cbr\\u003efree margin: 10000.000000\\u003cbr\\u003emargin level: inf\",\"balance: 10000.000000 USD\\u003cbr\\u003eequity: 10000.000000\\u003cbr\\u003emargin: 0.000000\\u003cbr\\u003efree margin: 10000.000000\\u003cbr\\u003emargin level: inf\",\"balance: 10000.000000 USD\\u003cbr\\u003eequity: 10000.000000\\u003cbr\\u003emargin: 0.000000\\u003cbr\\u003efree margin: 10000.000000\\u003cbr\\u003emargin level: inf\",\"balance: 10000.000000 USD\\u003cbr\\u003eequity: 10000.000000\\u003cbr\\u003emargin: 0.000000\\u003cbr\\u003efree margin: 10000.000000\\u003cbr\\u003emargin level: inf\",\"balance: 10000.000000 USD\\u003cbr\\u003eequity: 10000.000000\\u003cbr\\u003emargin: 0.000000\\u003cbr\\u003efree margin: 10000.000000\\u003cbr\\u003emargin level: inf\",\"balance: 10000.000000 USD\\u003cbr\\u003eequity: 10000.000000\\u003cbr\\u003emargin: 0.000000\\u003cbr\\u003efree margin: 10000.000000\\u003cbr\\u003emargin level: inf\",\"balance: 10000.000000 USD\\u003cbr\\u003eequity: 10000.000000\\u003cbr\\u003emargin: 0.000000\\u003cbr\\u003efree margin: 10000.000000\\u003cbr\\u003emargin level: inf\",\"balance: 10000.000000 USD\\u003cbr\\u003eequity: 10000.000000\\u003cbr\\u003emargin: 0.000000\\u003cbr\\u003efree margin: 10000.000000\\u003cbr\\u003emargin level: inf\",\"balance: 10000.000000 USD\\u003cbr\\u003eequity: 10000.000000\\u003cbr\\u003emargin: 0.000000\\u003cbr\\u003efree margin: 10000.000000\\u003cbr\\u003emargin level: inf\",\"balance: 10000.000000 USD\\u003cbr\\u003eequity: 10000.000000\\u003cbr\\u003emargin: 0.000000\\u003cbr\\u003efree margin: 10000.000000\\u003cbr\\u003emargin level: inf\",\"balance: 10000.000000 USD\\u003cbr\\u003eequity: 10000.000000\\u003cbr\\u003emargin: 0.000000\\u003cbr\\u003efree margin: 10000.000000\\u003cbr\\u003emargin level: inf\",\"balance: 10000.000000 USD\\u003cbr\\u003eequity: 10000.000000\\u003cbr\\u003emargin: 0.000000\\u003cbr\\u003efree margin: 10000.000000\\u003cbr\\u003emargin level: inf\",\"balance: 10000.000000 USD\\u003cbr\\u003eequity: 10000.000000\\u003cbr\\u003emargin: 0.000000\\u003cbr\\u003efree margin: 10000.000000\\u003cbr\\u003emargin level: inf\",\"balance: 10000.000000 USD\\u003cbr\\u003eequity: 10000.000000\\u003cbr\\u003emargin: 0.000000\\u003cbr\\u003efree margin: 10000.000000\\u003cbr\\u003emargin level: inf\",\"balance: 10000.000000 USD\\u003cbr\\u003eequity: 10000.000000\\u003cbr\\u003emargin: 0.000000\\u003cbr\\u003efree margin: 10000.000000\\u003cbr\\u003emargin level: inf\",\"balance: 10000.000000 USD\\u003cbr\\u003eequity: 10000.000000\\u003cbr\\u003emargin: 0.000000\\u003cbr\\u003efree margin: 10000.000000\\u003cbr\\u003emargin level: inf\",\"balance: 10000.000000 USD\\u003cbr\\u003eequity: 10000.000000\\u003cbr\\u003emargin: 0.000000\\u003cbr\\u003efree margin: 10000.000000\\u003cbr\\u003emargin level: inf\",\"balance: 10000.000000 USD\\u003cbr\\u003eequity: 10000.000000\\u003cbr\\u003emargin: 0.000000\\u003cbr\\u003efree margin: 10000.000000\\u003cbr\\u003emargin level: inf\",\"balance: 10000.000000 USD\\u003cbr\\u003eequity: 10000.000000\\u003cbr\\u003emargin: 0.000000\\u003cbr\\u003efree margin: 10000.000000\\u003cbr\\u003emargin level: inf\",\"balance: 10000.000000 USD\\u003cbr\\u003eequity: 10000.000000\\u003cbr\\u003emargin: 0.000000\\u003cbr\\u003efree margin: 10000.000000\\u003cbr\\u003emargin level: inf\",\"balance: 10000.000000 USD\\u003cbr\\u003eequity: 10000.000000\\u003cbr\\u003emargin: 0.000000\\u003cbr\\u003efree margin: 10000.000000\\u003cbr\\u003emargin level: inf\",\"balance: 10000.000000 USD\\u003cbr\\u003eequity: 10000.000000\\u003cbr\\u003emargin: 0.000000\\u003cbr\\u003efree margin: 10000.000000\\u003cbr\\u003emargin level: inf\",\"balance: 10000.000000 USD\\u003cbr\\u003eequity: 10000.000000\\u003cbr\\u003emargin: 0.000000\\u003cbr\\u003efree margin: 10000.000000\\u003cbr\\u003emargin level: inf\",\"balance: 10000.000000 USD\\u003cbr\\u003eequity: 10000.000000\\u003cbr\\u003emargin: 0.000000\\u003cbr\\u003efree margin: 10000.000000\\u003cbr\\u003emargin level: inf\",\"balance: 10000.000000 USD\\u003cbr\\u003eequity: 10000.000000\\u003cbr\\u003emargin: 0.000000\\u003cbr\\u003efree margin: 10000.000000\\u003cbr\\u003emargin level: inf\",\"balance: 10000.000000 USD\\u003cbr\\u003eequity: 9978.972883\\u003cbr\\u003emargin: 169.313471\\u003cbr\\u003efree margin: 9809.659412\\u003cbr\\u003emargin level: 58.937855\",\"balance: 9978.972883 USD\\u003cbr\\u003eequity: 9978.972883\\u003cbr\\u003emargin: 0.000000\\u003cbr\\u003efree margin: 9978.972883\\u003cbr\\u003emargin level: inf\",\"balance: 9978.972883 USD\\u003cbr\\u003eequity: 9978.972883\\u003cbr\\u003emargin: 0.000000\\u003cbr\\u003efree margin: 9978.972883\\u003cbr\\u003emargin level: inf\",\"balance: 9978.972883 USD\\u003cbr\\u003eequity: 9978.972883\\u003cbr\\u003emargin: 0.000000\\u003cbr\\u003efree margin: 9978.972883\\u003cbr\\u003emargin level: inf\",\"balance: 9978.972883 USD\\u003cbr\\u003eequity: 9978.972883\\u003cbr\\u003emargin: 0.000000\\u003cbr\\u003efree margin: 9978.972883\\u003cbr\\u003emargin level: inf\",\"balance: 9978.972883 USD\\u003cbr\\u003eequity: 9978.972883\\u003cbr\\u003emargin: 0.000000\\u003cbr\\u003efree margin: 9978.972883\\u003cbr\\u003emargin level: inf\",\"balance: 9978.972883 USD\\u003cbr\\u003eequity: 9978.972883\\u003cbr\\u003emargin: 0.000000\\u003cbr\\u003efree margin: 9978.972883\\u003cbr\\u003emargin level: inf\",\"balance: 9978.972883 USD\\u003cbr\\u003eequity: 9566.735650\\u003cbr\\u003emargin: 6726.151200\\u003cbr\\u003efree margin: 2840.584450\\u003cbr\\u003emargin level: 1.422319\",\"balance: 9978.972883 USD\\u003cbr\\u003eequity: 9256.535650\\u003cbr\\u003emargin: 6726.151200\\u003cbr\\u003efree margin: 2530.384450\\u003cbr\\u003emargin level: 1.376201\",\"balance: 9256.535650 USD\\u003cbr\\u003eequity: 9256.535650\\u003cbr\\u003emargin: 0.000000\\u003cbr\\u003efree margin: 9256.535650\\u003cbr\\u003emargin level: inf\",\"balance: 9256.535650 USD\\u003cbr\\u003eequity: 9256.535650\\u003cbr\\u003emargin: 0.000000\\u003cbr\\u003efree margin: 9256.535650\\u003cbr\\u003emargin level: inf\",\"balance: 9256.535650 USD\\u003cbr\\u003eequity: 9256.535650\\u003cbr\\u003emargin: 0.000000\\u003cbr\\u003efree margin: 9256.535650\\u003cbr\\u003emargin level: inf\",\"balance: 9256.535650 USD\\u003cbr\\u003eequity: 9256.535650\\u003cbr\\u003emargin: 0.000000\\u003cbr\\u003efree margin: 9256.535650\\u003cbr\\u003emargin level: inf\",\"balance: 9256.535650 USD\\u003cbr\\u003eequity: 9256.535650\\u003cbr\\u003emargin: 0.000000\\u003cbr\\u003efree margin: 9256.535650\\u003cbr\\u003emargin level: inf\",\"balance: 9256.535650 USD\\u003cbr\\u003eequity: 9256.535650\\u003cbr\\u003emargin: 0.000000\\u003cbr\\u003efree margin: 9256.535650\\u003cbr\\u003emargin level: inf\",\"balance: 9256.535650 USD\\u003cbr\\u003eequity: 9256.535650\\u003cbr\\u003emargin: 0.000000\\u003cbr\\u003efree margin: 9256.535650\\u003cbr\\u003emargin level: inf\",\"balance: 9256.535650 USD\\u003cbr\\u003eequity: 9256.535650\\u003cbr\\u003emargin: 0.000000\\u003cbr\\u003efree margin: 9256.535650\\u003cbr\\u003emargin level: inf\",\"balance: 9256.535650 USD\\u003cbr\\u003eequity: 9256.535650\\u003cbr\\u003emargin: 0.000000\\u003cbr\\u003efree margin: 9256.535650\\u003cbr\\u003emargin level: inf\",\"balance: 9256.535650 USD\\u003cbr\\u003eequity: 9256.535650\\u003cbr\\u003emargin: 0.000000\\u003cbr\\u003efree margin: 9256.535650\\u003cbr\\u003emargin level: inf\",\"balance: 9256.535650 USD\\u003cbr\\u003eequity: 9256.535650\\u003cbr\\u003emargin: 0.000000\\u003cbr\\u003efree margin: 9256.535650\\u003cbr\\u003emargin level: inf\",\"balance: 9256.535650 USD\\u003cbr\\u003eequity: 9256.535650\\u003cbr\\u003emargin: 0.000000\\u003cbr\\u003efree margin: 9256.535650\\u003cbr\\u003emargin level: inf\",\"balance: 9256.535650 USD\\u003cbr\\u003eequity: 9256.535650\\u003cbr\\u003emargin: 0.000000\\u003cbr\\u003efree margin: 9256.535650\\u003cbr\\u003emargin level: inf\",\"balance: 9256.535650 USD\\u003cbr\\u003eequity: 9256.535650\\u003cbr\\u003emargin: 0.000000\\u003cbr\\u003efree margin: 9256.535650\\u003cbr\\u003emargin level: inf\",\"balance: 9256.535650 USD\\u003cbr\\u003eequity: 9256.535650\\u003cbr\\u003emargin: 0.000000\\u003cbr\\u003efree margin: 9256.535650\\u003cbr\\u003emargin level: inf\",\"balance: 9256.535650 USD\\u003cbr\\u003eequity: 9988.520392\\u003cbr\\u003emargin: 2629.177254\\u003cbr\\u003efree margin: 7359.343138\\u003cbr\\u003emargin level: 3.799105\",\"balance: 9256.535650 USD\\u003cbr\\u003eequity: 7723.733752\\u003cbr\\u003emargin: 2629.177254\\u003cbr\\u003efree margin: 5094.556498\\u003cbr\\u003emargin level: 2.937700\",\"balance: 9256.535650 USD\\u003cbr\\u003eequity: 6865.161313\\u003cbr\\u003emargin: 2629.177254\\u003cbr\\u003efree margin: 4235.984059\\u003cbr\\u003emargin level: 2.611144\",\"balance: 6865.161313 USD\\u003cbr\\u003eequity: 6865.161313\\u003cbr\\u003emargin: 0.000000\\u003cbr\\u003efree margin: 6865.161313\\u003cbr\\u003emargin level: inf\",\"balance: 6865.161313 USD\\u003cbr\\u003eequity: 6865.161313\\u003cbr\\u003emargin: 0.000000\\u003cbr\\u003efree margin: 6865.161313\\u003cbr\\u003emargin level: inf\",\"balance: 6865.161313 USD\\u003cbr\\u003eequity: 6865.161313\\u003cbr\\u003emargin: 0.000000\\u003cbr\\u003efree margin: 6865.161313\\u003cbr\\u003emargin level: inf\",\"balance: 6865.161313 USD\\u003cbr\\u003eequity: 6865.161313\\u003cbr\\u003emargin: 0.000000\\u003cbr\\u003efree margin: 6865.161313\\u003cbr\\u003emargin level: inf\",\"balance: 6865.161313 USD\\u003cbr\\u003eequity: 6865.161313\\u003cbr\\u003emargin: 0.000000\\u003cbr\\u003efree margin: 6865.161313\\u003cbr\\u003emargin level: inf\",\"balance: 6865.161313 USD\\u003cbr\\u003eequity: 5295.605321\\u003cbr\\u003emargin: 3720.000000\\u003cbr\\u003efree margin: 1575.605321\\u003cbr\\u003emargin level: 1.423550\",\"balance: 5295.605321 USD\\u003cbr\\u003eequity: 5295.605321\\u003cbr\\u003emargin: 0.000000\\u003cbr\\u003efree margin: 5295.605321\\u003cbr\\u003emargin level: inf\",\"balance: 5295.605321 USD\\u003cbr\\u003eequity: 5295.605321\\u003cbr\\u003emargin: 0.000000\\u003cbr\\u003efree margin: 5295.605321\\u003cbr\\u003emargin level: inf\",\"balance: 5295.605321 USD\\u003cbr\\u003eequity: 5295.605321\\u003cbr\\u003emargin: 0.000000\\u003cbr\\u003efree margin: 5295.605321\\u003cbr\\u003emargin level: inf\",\"balance: 5295.605321 USD\\u003cbr\\u003eequity: 5295.605321\\u003cbr\\u003emargin: 0.000000\\u003cbr\\u003efree margin: 5295.605321\\u003cbr\\u003emargin level: inf\",\"balance: 5295.605321 USD\\u003cbr\\u003eequity: 5295.605321\\u003cbr\\u003emargin: 0.000000\\u003cbr\\u003efree margin: 5295.605321\\u003cbr\\u003emargin level: inf\",\"balance: 5295.605321 USD\\u003cbr\\u003eequity: 5295.605321\\u003cbr\\u003emargin: 0.000000\\u003cbr\\u003efree margin: 5295.605321\\u003cbr\\u003emargin level: inf\",\"balance: 5295.605321 USD\\u003cbr\\u003eequity: 5352.078140\\u003cbr\\u003emargin: 2220.000000\\u003cbr\\u003efree margin: 3132.078140\\u003cbr\\u003emargin level: 2.410846\",\"balance: 5352.078140 USD\\u003cbr\\u003eequity: 5352.078140\\u003cbr\\u003emargin: 0.000000\\u003cbr\\u003efree margin: 5352.078140\\u003cbr\\u003emargin level: inf\",\"balance: 5352.078140 USD\\u003cbr\\u003eequity: 5352.078140\\u003cbr\\u003emargin: 0.000000\\u003cbr\\u003efree margin: 5352.078140\\u003cbr\\u003emargin level: inf\",\"balance: 5352.078140 USD\\u003cbr\\u003eequity: 5352.078140\\u003cbr\\u003emargin: 0.000000\\u003cbr\\u003efree margin: 5352.078140\\u003cbr\\u003emargin level: inf\",\"balance: 5352.078140 USD\\u003cbr\\u003eequity: 5352.078140\\u003cbr\\u003emargin: 0.000000\\u003cbr\\u003efree margin: 5352.078140\\u003cbr\\u003emargin level: inf\",\"balance: 5352.078140 USD\\u003cbr\\u003eequity: 5352.078140\\u003cbr\\u003emargin: 0.000000\\u003cbr\\u003efree margin: 5352.078140\\u003cbr\\u003emargin level: inf\",\"balance: 5352.078140 USD\\u003cbr\\u003eequity: 5352.078140\\u003cbr\\u003emargin: 0.000000\\u003cbr\\u003efree margin: 5352.078140\\u003cbr\\u003emargin level: inf\",\"balance: 5352.078140 USD\\u003cbr\\u003eequity: 5352.078140\\u003cbr\\u003emargin: 0.000000\\u003cbr\\u003efree margin: 5352.078140\\u003cbr\\u003emargin level: inf\",\"balance: 5352.078140 USD\\u003cbr\\u003eequity: 5352.078140\\u003cbr\\u003emargin: 0.000000\\u003cbr\\u003efree margin: 5352.078140\\u003cbr\\u003emargin level: inf\",\"balance: 5352.078140 USD\\u003cbr\\u003eequity: 5352.078140\\u003cbr\\u003emargin: 0.000000\\u003cbr\\u003efree margin: 5352.078140\\u003cbr\\u003emargin level: inf\",\"balance: 5352.078140 USD\\u003cbr\\u003eequity: 5352.078140\\u003cbr\\u003emargin: 0.000000\\u003cbr\\u003efree margin: 5352.078140\\u003cbr\\u003emargin level: inf\",\"balance: 5352.078140 USD\\u003cbr\\u003eequity: 5352.078140\\u003cbr\\u003emargin: 0.000000\\u003cbr\\u003efree margin: 5352.078140\\u003cbr\\u003emargin level: inf\",\"balance: 5352.078140 USD\\u003cbr\\u003eequity: 5352.078140\\u003cbr\\u003emargin: 0.000000\\u003cbr\\u003efree margin: 5352.078140\\u003cbr\\u003emargin level: inf\",\"balance: 5352.078140 USD\\u003cbr\\u003eequity: 5352.078140\\u003cbr\\u003emargin: 0.000000\\u003cbr\\u003efree margin: 5352.078140\\u003cbr\\u003emargin level: inf\",\"balance: 5352.078140 USD\\u003cbr\\u003eequity: 5352.078140\\u003cbr\\u003emargin: 0.000000\\u003cbr\\u003efree margin: 5352.078140\\u003cbr\\u003emargin level: inf\",\"balance: 5352.078140 USD\\u003cbr\\u003eequity: 5352.078140\\u003cbr\\u003emargin: 0.000000\\u003cbr\\u003efree margin: 5352.078140\\u003cbr\\u003emargin level: inf\",\"balance: 5352.078140 USD\\u003cbr\\u003eequity: 5352.078140\\u003cbr\\u003emargin: 0.000000\\u003cbr\\u003efree margin: 5352.078140\\u003cbr\\u003emargin level: inf\",\"balance: 5352.078140 USD\\u003cbr\\u003eequity: 5352.078140\\u003cbr\\u003emargin: 0.000000\\u003cbr\\u003efree margin: 5352.078140\\u003cbr\\u003emargin level: inf\",\"balance: 5352.078140 USD\\u003cbr\\u003eequity: 5352.078140\\u003cbr\\u003emargin: 0.000000\\u003cbr\\u003efree margin: 5352.078140\\u003cbr\\u003emargin level: inf\",\"balance: 5352.078140 USD\\u003cbr\\u003eequity: 5352.078140\\u003cbr\\u003emargin: 0.000000\\u003cbr\\u003efree margin: 5352.078140\\u003cbr\\u003emargin level: inf\"],\"legendgroup\":\"g3\",\"line\":{\"color\":\"rgba(0.7372549019607844, 0.7411764705882353, 0.13333333333333333, 1.0)\"},\"mode\":\"lines+markers\",\"name\":\"USDJPY\",\"opacity\":1.0,\"x\":[\"2021-05-05T00:00:00+00:00\",\"2021-05-06T00:00:00+00:00\",\"2021-05-07T00:00:00+00:00\",\"2021-05-10T00:00:00+00:00\",\"2021-05-11T00:00:00+00:00\",\"2021-05-12T00:00:00+00:00\",\"2021-05-13T00:00:00+00:00\",\"2021-05-14T00:00:00+00:00\",\"2021-05-17T00:00:00+00:00\",\"2021-05-18T00:00:00+00:00\",\"2021-05-19T00:00:00+00:00\",\"2021-05-20T00:00:00+00:00\",\"2021-05-21T00:00:00+00:00\",\"2021-05-24T00:00:00+00:00\",\"2021-05-25T00:00:00+00:00\",\"2021-05-26T00:00:00+00:00\",\"2021-05-27T00:00:00+00:00\",\"2021-05-28T00:00:00+00:00\",\"2021-05-31T00:00:00+00:00\",\"2021-06-01T00:00:00+00:00\",\"2021-06-02T00:00:00+00:00\",\"2021-06-03T00:00:00+00:00\",\"2021-06-04T00:00:00+00:00\",\"2021-06-07T00:00:00+00:00\",\"2021-06-08T00:00:00+00:00\",\"2021-06-09T00:00:00+00:00\",\"2021-06-10T00:00:00+00:00\",\"2021-06-11T00:00:00+00:00\",\"2021-06-14T00:00:00+00:00\",\"2021-06-15T00:00:00+00:00\",\"2021-06-16T00:00:00+00:00\",\"2021-06-17T00:00:00+00:00\",\"2021-06-18T00:00:00+00:00\",\"2021-06-21T00:00:00+00:00\",\"2021-06-22T00:00:00+00:00\",\"2021-06-23T00:00:00+00:00\",\"2021-06-24T00:00:00+00:00\",\"2021-06-25T00:00:00+00:00\",\"2021-06-28T00:00:00+00:00\",\"2021-06-29T00:00:00+00:00\",\"2021-06-30T00:00:00+00:00\",\"2021-07-01T00:00:00+00:00\",\"2021-07-02T00:00:00+00:00\",\"2021-07-05T00:00:00+00:00\",\"2021-07-06T00:00:00+00:00\",\"2021-07-07T00:00:00+00:00\",\"2021-07-08T00:00:00+00:00\",\"2021-07-09T00:00:00+00:00\",\"2021-07-12T00:00:00+00:00\",\"2021-07-13T00:00:00+00:00\",\"2021-07-14T00:00:00+00:00\",\"2021-07-15T00:00:00+00:00\",\"2021-07-16T00:00:00+00:00\",\"2021-07-19T00:00:00+00:00\",\"2021-07-20T00:00:00+00:00\",\"2021-07-21T00:00:00+00:00\",\"2021-07-22T00:00:00+00:00\",\"2021-07-23T00:00:00+00:00\",\"2021-07-26T00:00:00+00:00\",\"2021-07-27T00:00:00+00:00\",\"2021-07-28T00:00:00+00:00\",\"2021-07-29T00:00:00+00:00\",\"2021-07-30T00:00:00+00:00\",\"2021-08-02T00:00:00+00:00\",\"2021-08-03T00:00:00+00:00\",\"2021-08-04T00:00:00+00:00\",\"2021-08-05T00:00:00+00:00\",\"2021-08-06T00:00:00+00:00\",\"2021-08-09T00:00:00+00:00\",\"2021-08-10T00:00:00+00:00\",\"2021-08-11T00:00:00+00:00\",\"2021-08-12T00:00:00+00:00\",\"2021-08-13T00:00:00+00:00\",\"2021-08-16T00:00:00+00:00\",\"2021-08-17T00:00:00+00:00\",\"2021-08-18T00:00:00+00:00\",\"2021-08-19T00:00:00+00:00\",\"2021-08-20T00:00:00+00:00\",\"2021-08-23T00:00:00+00:00\",\"2021-08-24T00:00:00+00:00\",\"2021-08-25T00:00:00+00:00\",\"2021-08-26T00:00:00+00:00\",\"2021-08-27T00:00:00+00:00\",\"2021-08-30T00:00:00+00:00\",\"2021-08-31T00:00:00+00:00\",\"2021-09-01T00:00:00+00:00\",\"2021-09-02T00:00:00+00:00\",\"2021-09-03T00:00:00+00:00\"],\"y\":[109.188,109.09,108.604,108.81,108.615,109.699,109.453,109.362,109.209,108.888,109.227,108.767,108.945,108.74,108.747,109.139,109.808,109.872,109.556,109.467,109.547,110.276,109.524,109.238,109.492,109.618,109.319,109.682,110.071,110.056,110.708,110.221,110.211,110.314,110.658,110.949,110.874,110.778,110.614,110.538,111.101,111.521,111.02,110.962,110.61,110.608,109.748,110.102,110.349,110.627,109.95,109.831,110.081,109.447,109.843,110.286,110.149,110.547,110.381,109.774,109.909,109.47,109.656,109.305,109.042,109.473,109.761,110.217,110.267,110.56,110.428,110.386,109.592,109.243,109.595,109.763,109.763,109.799,109.694,109.679,110.023,110.081,109.85,109.913,110.007,110.025,109.937,109.712],\"yaxis\":\"y3\",\"type\":\"scatter\"},{\"hovertext\":[\"order id: \\u003cbr\\u003ehold probability: 0.0000\\u003cbr\\u003ehold: False\\u003cbr\\u003evolume: 14.561989\\u003cbr\\u003emodified volume: 14.5600\\u003cbr\\u003efee: nan\\u003cbr\\u003emargin: nan\\u003cbr\\u003eerror: low free margin (order margin=14559.999999999998, order profit=-270.9998273722032, free margin=10000.0)\",\"order id: \\u003cbr\\u003ehold probability: 0.0000\\u003cbr\\u003ehold: False\\u003cbr\\u003evolume: 53.829318\\u003cbr\\u003emodified volume: 53.8300\\u003cbr\\u003efee: nan\\u003cbr\\u003emargin: nan\\u003cbr\\u003eerror: low free margin (order margin=53830.00000000001, order profit=-906.0877109929825, free margin=10000.0)\",\"order id: \\u003cbr\\u003ehold probability: 0.0000\\u003cbr\\u003ehold: False\\u003cbr\\u003evolume: -66.854883\\u003cbr\\u003emodified volume: 66.8500\\u003cbr\\u003efee: nan\\u003cbr\\u003emargin: nan\\u003cbr\\u003eerror: low free margin (order margin=66849.99999999999, order profit=-1155.846033077765, free margin=10000.0)\",\"order id: \\u003cbr\\u003ehold probability: 0.0000\\u003cbr\\u003ehold: False\\u003cbr\\u003evolume: -43.497560\\u003cbr\\u003emodified volume: 43.5000\\u003cbr\\u003efee: nan\\u003cbr\\u003emargin: nan\\u003cbr\\u003eerror: low free margin (order margin=43500.0, order profit=-781.8434417384501, free margin=10000.0)\",\"order id: \\u003cbr\\u003ehold probability: 0.0000\\u003cbr\\u003ehold: False\\u003cbr\\u003evolume: 45.732385\\u003cbr\\u003emodified volume: 45.7300\\u003cbr\\u003efee: nan\\u003cbr\\u003emargin: nan\\u003cbr\\u003eerror: low free margin (order margin=45730.00000000001, order profit=-864.7665472808194, free margin=10000.0)\",\"order id: \\u003cbr\\u003ehold probability: 0.0000\\u003cbr\\u003ehold: False\\u003cbr\\u003evolume: 20.991007\\u003cbr\\u003emodified volume: 20.9900\\u003cbr\\u003efee: nan\\u003cbr\\u003emargin: nan\\u003cbr\\u003eerror: low free margin (order margin=20990.0, order profit=-347.7802635160341, free margin=9824.513372518073)\",\"order id: \\u003cbr\\u003ehold probability: 0.0000\\u003cbr\\u003ehold: False\\u003cbr\\u003evolume: -41.288791\\u003cbr\\u003emodified volume: 41.2900\\u003cbr\\u003efee: nan\\u003cbr\\u003emargin: nan\\u003cbr\\u003eerror: low free margin (order margin=41290.0, order profit=-690.8573829260818, free margin=9978.97288278756)\",\"order id: \\u003cbr\\u003ehold probability: 0.0000\\u003cbr\\u003ehold: False\\u003cbr\\u003evolume: 53.279300\\u003cbr\\u003emodified volume: 53.2800\\u003cbr\\u003efee: nan\\u003cbr\\u003emargin: nan\\u003cbr\\u003eerror: low free margin (order margin=53280.0, order profit=-1012.7758443686554, free margin=9978.97288278756)\",\"order id: \\u003cbr\\u003ehold probability: 0.0034\\u003cbr\\u003ehold: False\\u003cbr\\u003evolume: -97.136508\\u003cbr\\u003emodified volume: 97.1400\\u003cbr\\u003efee: nan\\u003cbr\\u003emargin: nan\\u003cbr\\u003eerror: low free margin (order margin=97140.0, order profit=-2041.9726080602225, free margin=9978.97288278756)\",\"order id: \\u003cbr\\u003ehold probability: 0.0000\\u003cbr\\u003ehold: False\\u003cbr\\u003evolume: -68.718750\\u003cbr\\u003emodified volume: 68.7200\\u003cbr\\u003efee: nan\\u003cbr\\u003emargin: nan\\u003cbr\\u003eerror: low free margin (order margin=68720.0, order profit=-1512.9568288008124, free margin=9978.97288278756)\",\"order id: \\u003cbr\\u003ehold probability: 0.0000\\u003cbr\\u003ehold: False\\u003cbr\\u003evolume: -81.978894\\u003cbr\\u003emodified volume: 81.9800\\u003cbr\\u003efee: nan\\u003cbr\\u003emargin: nan\\u003cbr\\u003eerror: low free margin (order margin=81980.0, order profit=-1552.8973825704575, free margin=2840.584450360222)\",\"order id: \\u003cbr\\u003ehold probability: 0.0000\\u003cbr\\u003ehold: False\\u003cbr\\u003evolume: 49.982007\\u003cbr\\u003emodified volume: 49.9800\\u003cbr\\u003efee: nan\\u003cbr\\u003emargin: nan\\u003cbr\\u003eerror: low free margin (order margin=49980.0, order profit=-954.0254195369154, free margin=9256.535650360194)\",\"order id: \\u003cbr\\u003ehold probability: 0.0000\\u003cbr\\u003ehold: False\\u003cbr\\u003evolume: -21.251152\\u003cbr\\u003emodified volume: 21.2500\\u003cbr\\u003efee: nan\\u003cbr\\u003emargin: nan\\u003cbr\\u003eerror: low free margin (order margin=21250.0, order profit=-444.4287203999542, free margin=9256.535650360194)\",\"order id: \\u003cbr\\u003ehold probability: 0.0000\\u003cbr\\u003ehold: False\\u003cbr\\u003evolume: 31.852042\\u003cbr\\u003emodified volume: 31.8500\\u003cbr\\u003efee: nan\\u003cbr\\u003emargin: nan\\u003cbr\\u003eerror: low free margin (order margin=31850.0, order profit=-569.8721862803213, free margin=9256.535650360194)\",\"order id: \\u003cbr\\u003ehold probability: 0.0000\\u003cbr\\u003ehold: False\\u003cbr\\u003evolume: -88.902889\\u003cbr\\u003emodified volume: 88.9000\\u003cbr\\u003efee: nan\\u003cbr\\u003emargin: nan\\u003cbr\\u003eerror: low free margin (order margin=88900.0, order profit=-1580.990221454106, free margin=9256.535650360194)\",\"order id: \\u003cbr\\u003ehold probability: 0.0000\\u003cbr\\u003ehold: False\\u003cbr\\u003evolume: -8.926597\\u003cbr\\u003emodified volume: 8.9300\\u003cbr\\u003efee: nan\\u003cbr\\u003emargin: nan\\u003cbr\\u003eerror: low free margin (order margin=8930.0, order profit=-148.35940693342582, free margin=6519.05154704238)\",\"order id: \\u003cbr\\u003ehold probability: 0.0017\\u003cbr\\u003ehold: False\\u003cbr\\u003evolume: -10.787562\\u003cbr\\u003emodified volume: 10.7900\\u003cbr\\u003efee: nan\\u003cbr\\u003emargin: nan\\u003cbr\\u003eerror: low free margin (order margin=10789.999999999998, order profit=-228.42087404143797, free margin=6865.161313289139)\",\"order id: \\u003cbr\\u003ehold probability: 0.0000\\u003cbr\\u003ehold: False\\u003cbr\\u003evolume: 29.845860\\u003cbr\\u003emodified volume: 29.8500\\u003cbr\\u003efee: nan\\u003cbr\\u003emargin: nan\\u003cbr\\u003eerror: low free margin (order margin=29850.0, order profit=-666.796884672482, free margin=6865.161313289139)\",\"order id: \\u003cbr\\u003ehold probability: 0.0000\\u003cbr\\u003ehold: False\\u003cbr\\u003evolume: 54.829460\\u003cbr\\u003emodified volume: 54.8300\\u003cbr\\u003efee: nan\\u003cbr\\u003emargin: nan\\u003cbr\\u003eerror: low free margin (order margin=54830.0, order profit=-1067.9117620180468, free margin=6865.161313289139)\",\"order id: \\u003cbr\\u003ehold probability: 0.0000\\u003cbr\\u003ehold: False\\u003cbr\\u003evolume: -90.612813\\u003cbr\\u003emodified volume: 90.6100\\u003cbr\\u003efee: nan\\u003cbr\\u003emargin: nan\\u003cbr\\u003eerror: low free margin (order margin=90610.00000000001, order profit=-1082.0797624149773, free margin=6865.161313289139)\",\"order id: 4\\u003cbr\\u003ehold probability: 0.0000\\u003cbr\\u003ehold: False\\u003cbr\\u003evolume: 3.719390\\u003cbr\\u003emodified volume: 3.7200\\u003cbr\\u003efee: 0.022880\\u003cbr\\u003emargin: 3720.000000\\u003cbr\\u003eerror: \",\"order id: \\u003cbr\\u003ehold probability: 0.0000\\u003cbr\\u003ehold: False\\u003cbr\\u003evolume: -37.283390\\u003cbr\\u003emodified volume: 37.2800\\u003cbr\\u003efee: nan\\u003cbr\\u003emargin: nan\\u003cbr\\u003eerror: low free margin (order margin=37280.0, order profit=-623.226957038536, free margin=5295.60532077697)\",\"order id: \\u003cbr\\u003ehold probability: 0.0000\\u003cbr\\u003ehold: False\\u003cbr\\u003evolume: -91.422726\\u003cbr\\u003emodified volume: 91.4200\\u003cbr\\u003efee: nan\\u003cbr\\u003emargin: nan\\u003cbr\\u003eerror: low free margin (order margin=91420.0, order profit=-1881.860394642355, free margin=5295.60532077697)\",\"order id: \\u003cbr\\u003ehold probability: 0.0000\\u003cbr\\u003ehold: False\\u003cbr\\u003evolume: 41.266456\\u003cbr\\u003emodified volume: 41.2700\\u003cbr\\u003efee: nan\\u003cbr\\u003emargin: nan\\u003cbr\\u003eerror: low free margin (order margin=41270.00000000001, order profit=-622.8401880560328, free margin=5295.60532077697)\",\"order id: \\u003cbr\\u003ehold probability: 0.0000\\u003cbr\\u003ehold: False\\u003cbr\\u003evolume: -33.958424\\u003cbr\\u003emodified volume: 33.9600\\u003cbr\\u003efee: nan\\u003cbr\\u003emargin: nan\\u003cbr\\u003eerror: low free margin (order margin=33960.0, order profit=-452.7948107011342, free margin=5295.60532077697)\",\"order id: 5\\u003cbr\\u003ehold probability: 0.0000\\u003cbr\\u003ehold: False\\u003cbr\\u003evolume: 2.216630\\u003cbr\\u003emodified volume: 2.2200\\u003cbr\\u003efee: 0.021950\\u003cbr\\u003emargin: 2220.000000\\u003cbr\\u003eerror: \",\"order id: \\u003cbr\\u003ehold probability: 0.0000\\u003cbr\\u003ehold: False\\u003cbr\\u003evolume: -8.702230\\u003cbr\\u003emodified volume: 8.7000\\u003cbr\\u003efee: nan\\u003cbr\\u003emargin: nan\\u003cbr\\u003eerror: low free margin (order margin=8700.000000000002, order profit=-157.7116713452292, free margin=5352.078139709921)\",\"order id: \\u003cbr\\u003ehold probability: 0.0000\\u003cbr\\u003ehold: False\\u003cbr\\u003evolume: -24.573999\\u003cbr\\u003emodified volume: 24.5700\\u003cbr\\u003efee: nan\\u003cbr\\u003emargin: nan\\u003cbr\\u003eerror: low free margin (order margin=24570.0, order profit=-429.1040152594996, free margin=5352.078139709921)\",\"order id: \\u003cbr\\u003ehold probability: 0.0000\\u003cbr\\u003ehold: False\\u003cbr\\u003evolume: -94.741684\\u003cbr\\u003emodified volume: 94.7400\\u003cbr\\u003efee: nan\\u003cbr\\u003emargin: nan\\u003cbr\\u003eerror: low free margin (order margin=94740.0, order profit=-1586.6397674586246, free margin=5352.078139709921)\",\"order id: \\u003cbr\\u003ehold probability: 0.0000\\u003cbr\\u003ehold: False\\u003cbr\\u003evolume: 42.561026\\u003cbr\\u003emodified volume: 42.5600\\u003cbr\\u003efee: nan\\u003cbr\\u003emargin: nan\\u003cbr\\u003eerror: low free margin (order margin=42560.0, order profit=-698.235502207875, free margin=5352.078139709921)\",\"order id: \\u003cbr\\u003ehold probability: 0.0000\\u003cbr\\u003ehold: False\\u003cbr\\u003evolume: 99.608110\\u003cbr\\u003emodified volume: 99.6100\\u003cbr\\u003efee: nan\\u003cbr\\u003emargin: nan\\u003cbr\\u003eerror: low free margin (order margin=99610.0, order profit=-1715.4639237350739, free margin=5352.078139709921)\",\"order id: \\u003cbr\\u003ehold probability: 0.0000\\u003cbr\\u003ehold: False\\u003cbr\\u003evolume: 17.500403\\u003cbr\\u003emodified volume: 17.5000\\u003cbr\\u003efee: nan\\u003cbr\\u003emargin: nan\\u003cbr\\u003eerror: low free margin (order margin=17500.0, order profit=-300.8297278944574, free margin=5352.078139709921)\",\"order id: \\u003cbr\\u003ehold probability: 0.0000\\u003cbr\\u003ehold: False\\u003cbr\\u003evolume: -61.773802\\u003cbr\\u003emodified volume: 61.7700\\u003cbr\\u003efee: nan\\u003cbr\\u003emargin: nan\\u003cbr\\u003eerror: low free margin (order margin=61770.0, order profit=-1092.406829814863, free margin=5352.078139709921)\",\"order id: \\u003cbr\\u003ehold probability: 0.0000\\u003cbr\\u003ehold: False\\u003cbr\\u003evolume: -44.262338\\u003cbr\\u003emodified volume: 44.2600\\u003cbr\\u003efee: nan\\u003cbr\\u003emargin: nan\\u003cbr\\u003eerror: low free margin (order margin=44260.0, order profit=-890.9809597488438, free margin=5352.078139709921)\"],\"legendgroup\":\"g3\",\"marker\":{\"color\":[\"gray\",\"gray\",\"gray\",\"gray\",\"gray\",\"gray\",\"gray\",\"gray\",\"gray\",\"gray\",\"gray\",\"gray\",\"gray\",\"gray\",\"gray\",\"gray\",\"gray\",\"gray\",\"gray\",\"gray\",\"green\",\"gray\",\"gray\",\"gray\",\"gray\",\"green\",\"gray\",\"gray\",\"gray\",\"gray\",\"gray\",\"gray\",\"gray\",\"gray\"],\"size\":[11.215741391426564,19.88896697118763,22.764581869290232,17.607469129605462,18.099989960847303,12.635879931733761,17.119365525549643,19.767493223571933,29.45447244252585,23.177592611183613,26.106214235518525,19.038650737877724,12.693303885152094,15.034434293745608,27.634574841883346,9.972291938560385,10.383094066860757,14.592711575143058,20.109828330488906,28.012247766288525,8.821604256600743,16.23371147475153,28.19114546732256,17.114948298363622,15.500451761871298,8.49031221764883,9.921493825921093,13.426563598032326,28.92440518020279,17.399859451862262,30.0,11.865073787772312,21.642606164039755,17.775323762674432],\"symbol\":[\"triangle-down\",\"triangle-down\",\"triangle-down\",\"triangle-down\",\"triangle-down\",\"triangle-down\",\"triangle-down\",\"triangle-down\",\"triangle-down\",\"triangle-down\",\"triangle-down\",\"triangle-down\",\"triangle-down\",\"triangle-down\",\"triangle-down\",\"triangle-down\",\"triangle-down\",\"triangle-down\",\"triangle-down\",\"triangle-down\",\"triangle-up\",\"triangle-down\",\"triangle-down\",\"triangle-down\",\"triangle-down\",\"triangle-up\",\"triangle-down\",\"triangle-down\",\"triangle-down\",\"triangle-down\",\"triangle-down\",\"triangle-down\",\"triangle-down\",\"triangle-down\"]},\"mode\":\"markers\",\"name\":\"USDJPY\",\"showlegend\":false,\"x\":[\"2021-05-18T00:00:00+00:00\",\"2021-05-20T00:00:00+00:00\",\"2021-05-24T00:00:00+00:00\",\"2021-06-08T00:00:00+00:00\",\"2021-06-11T00:00:00+00:00\",\"2021-06-14T00:00:00+00:00\",\"2021-06-15T00:00:00+00:00\",\"2021-06-16T00:00:00+00:00\",\"2021-06-21T00:00:00+00:00\",\"2021-06-22T00:00:00+00:00\",\"2021-06-24T00:00:00+00:00\",\"2021-06-30T00:00:00+00:00\",\"2021-07-05T00:00:00+00:00\",\"2021-07-06T00:00:00+00:00\",\"2021-07-12T00:00:00+00:00\",\"2021-07-16T00:00:00+00:00\",\"2021-07-21T00:00:00+00:00\",\"2021-07-22T00:00:00+00:00\",\"2021-07-23T00:00:00+00:00\",\"2021-07-27T00:00:00+00:00\",\"2021-07-28T00:00:00+00:00\",\"2021-07-29T00:00:00+00:00\",\"2021-07-30T00:00:00+00:00\",\"2021-08-03T00:00:00+00:00\",\"2021-08-05T00:00:00+00:00\",\"2021-08-06T00:00:00+00:00\",\"2021-08-09T00:00:00+00:00\",\"2021-08-10T00:00:00+00:00\",\"2021-08-13T00:00:00+00:00\",\"2021-08-18T00:00:00+00:00\",\"2021-08-20T00:00:00+00:00\",\"2021-08-23T00:00:00+00:00\",\"2021-08-26T00:00:00+00:00\",\"2021-08-30T00:00:00+00:00\"],\"y\":[108.888,108.767,108.74,109.492,109.682,110.071,110.056,110.708,110.314,110.658,110.874,111.101,110.962,110.61,110.349,110.081,110.286,110.149,110.547,109.774,109.909,109.47,109.656,109.042,109.761,110.217,110.267,110.56,109.592,109.763,109.799,109.694,110.081,109.913],\"yaxis\":\"y3\",\"type\":\"scatter\"},{\"hovertext\":[\"order id: 4\\u003cbr\\u003eorder type: Buy\\u003cbr\\u003eclose probability: 1.0000\\u003cbr\\u003emargin: 3720.000000\\u003cbr\\u003eprofit: -1569.555993\",\"order id: 5\\u003cbr\\u003eorder type: Buy\\u003cbr\\u003eclose probability: 1.0000\\u003cbr\\u003emargin: 2220.000000\\u003cbr\\u003eprofit: 56.472819\"],\"legendgroup\":\"g3\",\"marker\":{\"color\":\"black\",\"line\":{\"width\":1.5},\"size\":7,\"symbol\":\"line-ns\"},\"mode\":\"markers\",\"name\":\"USDJPY\",\"showlegend\":false,\"x\":[\"2021-07-29T00:00:00+00:00\",\"2021-08-09T00:00:00+00:00\"],\"y\":[109.47,110.267],\"yaxis\":\"y3\",\"type\":\"scatter\"}],                        {\"template\":{\"data\":{\"histogram2dcontour\":[{\"type\":\"histogram2dcontour\",\"colorbar\":{\"outlinewidth\":0,\"ticks\":\"\"},\"colorscale\":[[0.0,\"#0d0887\"],[0.1111111111111111,\"#46039f\"],[0.2222222222222222,\"#7201a8\"],[0.3333333333333333,\"#9c179e\"],[0.4444444444444444,\"#bd3786\"],[0.5555555555555556,\"#d8576b\"],[0.6666666666666666,\"#ed7953\"],[0.7777777777777778,\"#fb9f3a\"],[0.8888888888888888,\"#fdca26\"],[1.0,\"#f0f921\"]]}],\"choropleth\":[{\"type\":\"choropleth\",\"colorbar\":{\"outlinewidth\":0,\"ticks\":\"\"}}],\"histogram2d\":[{\"type\":\"histogram2d\",\"colorbar\":{\"outlinewidth\":0,\"ticks\":\"\"},\"colorscale\":[[0.0,\"#0d0887\"],[0.1111111111111111,\"#46039f\"],[0.2222222222222222,\"#7201a8\"],[0.3333333333333333,\"#9c179e\"],[0.4444444444444444,\"#bd3786\"],[0.5555555555555556,\"#d8576b\"],[0.6666666666666666,\"#ed7953\"],[0.7777777777777778,\"#fb9f3a\"],[0.8888888888888888,\"#fdca26\"],[1.0,\"#f0f921\"]]}],\"heatmap\":[{\"type\":\"heatmap\",\"colorbar\":{\"outlinewidth\":0,\"ticks\":\"\"},\"colorscale\":[[0.0,\"#0d0887\"],[0.1111111111111111,\"#46039f\"],[0.2222222222222222,\"#7201a8\"],[0.3333333333333333,\"#9c179e\"],[0.4444444444444444,\"#bd3786\"],[0.5555555555555556,\"#d8576b\"],[0.6666666666666666,\"#ed7953\"],[0.7777777777777778,\"#fb9f3a\"],[0.8888888888888888,\"#fdca26\"],[1.0,\"#f0f921\"]]}],\"heatmapgl\":[{\"type\":\"heatmapgl\",\"colorbar\":{\"outlinewidth\":0,\"ticks\":\"\"},\"colorscale\":[[0.0,\"#0d0887\"],[0.1111111111111111,\"#46039f\"],[0.2222222222222222,\"#7201a8\"],[0.3333333333333333,\"#9c179e\"],[0.4444444444444444,\"#bd3786\"],[0.5555555555555556,\"#d8576b\"],[0.6666666666666666,\"#ed7953\"],[0.7777777777777778,\"#fb9f3a\"],[0.8888888888888888,\"#fdca26\"],[1.0,\"#f0f921\"]]}],\"contourcarpet\":[{\"type\":\"contourcarpet\",\"colorbar\":{\"outlinewidth\":0,\"ticks\":\"\"}}],\"contour\":[{\"type\":\"contour\",\"colorbar\":{\"outlinewidth\":0,\"ticks\":\"\"},\"colorscale\":[[0.0,\"#0d0887\"],[0.1111111111111111,\"#46039f\"],[0.2222222222222222,\"#7201a8\"],[0.3333333333333333,\"#9c179e\"],[0.4444444444444444,\"#bd3786\"],[0.5555555555555556,\"#d8576b\"],[0.6666666666666666,\"#ed7953\"],[0.7777777777777778,\"#fb9f3a\"],[0.8888888888888888,\"#fdca26\"],[1.0,\"#f0f921\"]]}],\"surface\":[{\"type\":\"surface\",\"colorbar\":{\"outlinewidth\":0,\"ticks\":\"\"},\"colorscale\":[[0.0,\"#0d0887\"],[0.1111111111111111,\"#46039f\"],[0.2222222222222222,\"#7201a8\"],[0.3333333333333333,\"#9c179e\"],[0.4444444444444444,\"#bd3786\"],[0.5555555555555556,\"#d8576b\"],[0.6666666666666666,\"#ed7953\"],[0.7777777777777778,\"#fb9f3a\"],[0.8888888888888888,\"#fdca26\"],[1.0,\"#f0f921\"]]}],\"mesh3d\":[{\"type\":\"mesh3d\",\"colorbar\":{\"outlinewidth\":0,\"ticks\":\"\"}}],\"scatter\":[{\"marker\":{\"line\":{\"color\":\"#283442\"}},\"type\":\"scatter\"}],\"parcoords\":[{\"type\":\"parcoords\",\"line\":{\"colorbar\":{\"outlinewidth\":0,\"ticks\":\"\"}}}],\"scatterpolargl\":[{\"type\":\"scatterpolargl\",\"marker\":{\"colorbar\":{\"outlinewidth\":0,\"ticks\":\"\"}}}],\"bar\":[{\"error_x\":{\"color\":\"#f2f5fa\"},\"error_y\":{\"color\":\"#f2f5fa\"},\"marker\":{\"line\":{\"color\":\"rgb(17,17,17)\",\"width\":0.5},\"pattern\":{\"fillmode\":\"overlay\",\"size\":10,\"solidity\":0.2}},\"type\":\"bar\"}],\"scattergeo\":[{\"type\":\"scattergeo\",\"marker\":{\"colorbar\":{\"outlinewidth\":0,\"ticks\":\"\"}}}],\"scatterpolar\":[{\"type\":\"scatterpolar\",\"marker\":{\"colorbar\":{\"outlinewidth\":0,\"ticks\":\"\"}}}],\"histogram\":[{\"marker\":{\"pattern\":{\"fillmode\":\"overlay\",\"size\":10,\"solidity\":0.2}},\"type\":\"histogram\"}],\"scattergl\":[{\"marker\":{\"line\":{\"color\":\"#283442\"}},\"type\":\"scattergl\"}],\"scatter3d\":[{\"type\":\"scatter3d\",\"line\":{\"colorbar\":{\"outlinewidth\":0,\"ticks\":\"\"}},\"marker\":{\"colorbar\":{\"outlinewidth\":0,\"ticks\":\"\"}}}],\"scattermapbox\":[{\"type\":\"scattermapbox\",\"marker\":{\"colorbar\":{\"outlinewidth\":0,\"ticks\":\"\"}}}],\"scatterternary\":[{\"type\":\"scatterternary\",\"marker\":{\"colorbar\":{\"outlinewidth\":0,\"ticks\":\"\"}}}],\"scattercarpet\":[{\"type\":\"scattercarpet\",\"marker\":{\"colorbar\":{\"outlinewidth\":0,\"ticks\":\"\"}}}],\"carpet\":[{\"aaxis\":{\"endlinecolor\":\"#A2B1C6\",\"gridcolor\":\"#506784\",\"linecolor\":\"#506784\",\"minorgridcolor\":\"#506784\",\"startlinecolor\":\"#A2B1C6\"},\"baxis\":{\"endlinecolor\":\"#A2B1C6\",\"gridcolor\":\"#506784\",\"linecolor\":\"#506784\",\"minorgridcolor\":\"#506784\",\"startlinecolor\":\"#A2B1C6\"},\"type\":\"carpet\"}],\"table\":[{\"cells\":{\"fill\":{\"color\":\"#506784\"},\"line\":{\"color\":\"rgb(17,17,17)\"}},\"header\":{\"fill\":{\"color\":\"#2a3f5f\"},\"line\":{\"color\":\"rgb(17,17,17)\"}},\"type\":\"table\"}],\"barpolar\":[{\"marker\":{\"line\":{\"color\":\"rgb(17,17,17)\",\"width\":0.5},\"pattern\":{\"fillmode\":\"overlay\",\"size\":10,\"solidity\":0.2}},\"type\":\"barpolar\"}],\"pie\":[{\"automargin\":true,\"type\":\"pie\"}]},\"layout\":{\"autotypenumbers\":\"strict\",\"colorway\":[\"#636efa\",\"#EF553B\",\"#00cc96\",\"#ab63fa\",\"#FFA15A\",\"#19d3f3\",\"#FF6692\",\"#B6E880\",\"#FF97FF\",\"#FECB52\"],\"font\":{\"color\":\"#f2f5fa\"},\"hovermode\":\"closest\",\"hoverlabel\":{\"align\":\"left\"},\"paper_bgcolor\":\"rgb(17,17,17)\",\"plot_bgcolor\":\"rgb(17,17,17)\",\"polar\":{\"bgcolor\":\"rgb(17,17,17)\",\"angularaxis\":{\"gridcolor\":\"#506784\",\"linecolor\":\"#506784\",\"ticks\":\"\"},\"radialaxis\":{\"gridcolor\":\"#506784\",\"linecolor\":\"#506784\",\"ticks\":\"\"}},\"ternary\":{\"bgcolor\":\"rgb(17,17,17)\",\"aaxis\":{\"gridcolor\":\"#506784\",\"linecolor\":\"#506784\",\"ticks\":\"\"},\"baxis\":{\"gridcolor\":\"#506784\",\"linecolor\":\"#506784\",\"ticks\":\"\"},\"caxis\":{\"gridcolor\":\"#506784\",\"linecolor\":\"#506784\",\"ticks\":\"\"}},\"coloraxis\":{\"colorbar\":{\"outlinewidth\":0,\"ticks\":\"\"}},\"colorscale\":{\"sequential\":[[0.0,\"#0d0887\"],[0.1111111111111111,\"#46039f\"],[0.2222222222222222,\"#7201a8\"],[0.3333333333333333,\"#9c179e\"],[0.4444444444444444,\"#bd3786\"],[0.5555555555555556,\"#d8576b\"],[0.6666666666666666,\"#ed7953\"],[0.7777777777777778,\"#fb9f3a\"],[0.8888888888888888,\"#fdca26\"],[1.0,\"#f0f921\"]],\"sequentialminus\":[[0.0,\"#0d0887\"],[0.1111111111111111,\"#46039f\"],[0.2222222222222222,\"#7201a8\"],[0.3333333333333333,\"#9c179e\"],[0.4444444444444444,\"#bd3786\"],[0.5555555555555556,\"#d8576b\"],[0.6666666666666666,\"#ed7953\"],[0.7777777777777778,\"#fb9f3a\"],[0.8888888888888888,\"#fdca26\"],[1.0,\"#f0f921\"]],\"diverging\":[[0,\"#8e0152\"],[0.1,\"#c51b7d\"],[0.2,\"#de77ae\"],[0.3,\"#f1b6da\"],[0.4,\"#fde0ef\"],[0.5,\"#f7f7f7\"],[0.6,\"#e6f5d0\"],[0.7,\"#b8e186\"],[0.8,\"#7fbc41\"],[0.9,\"#4d9221\"],[1,\"#276419\"]]},\"xaxis\":{\"gridcolor\":\"#283442\",\"linecolor\":\"#506784\",\"ticks\":\"\",\"title\":{\"standoff\":15},\"zerolinecolor\":\"#283442\",\"automargin\":true,\"zerolinewidth\":2},\"yaxis\":{\"gridcolor\":\"#283442\",\"linecolor\":\"#506784\",\"ticks\":\"\",\"title\":{\"standoff\":15},\"zerolinecolor\":\"#283442\",\"automargin\":true,\"zerolinewidth\":2},\"scene\":{\"xaxis\":{\"backgroundcolor\":\"rgb(17,17,17)\",\"gridcolor\":\"#506784\",\"linecolor\":\"#506784\",\"showbackground\":true,\"ticks\":\"\",\"zerolinecolor\":\"#C8D4E3\",\"gridwidth\":2},\"yaxis\":{\"backgroundcolor\":\"rgb(17,17,17)\",\"gridcolor\":\"#506784\",\"linecolor\":\"#506784\",\"showbackground\":true,\"ticks\":\"\",\"zerolinecolor\":\"#C8D4E3\",\"gridwidth\":2},\"zaxis\":{\"backgroundcolor\":\"rgb(17,17,17)\",\"gridcolor\":\"#506784\",\"linecolor\":\"#506784\",\"showbackground\":true,\"ticks\":\"\",\"zerolinecolor\":\"#C8D4E3\",\"gridwidth\":2}},\"shapedefaults\":{\"line\":{\"color\":\"#f2f5fa\"}},\"annotationdefaults\":{\"arrowcolor\":\"#f2f5fa\",\"arrowhead\":0,\"arrowwidth\":1},\"geo\":{\"bgcolor\":\"rgb(17,17,17)\",\"landcolor\":\"rgb(17,17,17)\",\"subunitcolor\":\"#506784\",\"showland\":true,\"showlakes\":true,\"lakecolor\":\"rgb(17,17,17)\"},\"title\":{\"x\":0.05},\"updatemenudefaults\":{\"bgcolor\":\"#506784\",\"borderwidth\":0},\"sliderdefaults\":{\"bgcolor\":\"#C8D4E3\",\"borderwidth\":1,\"bordercolor\":\"rgb(17,17,17)\",\"tickwidth\":0},\"mapbox\":{\"style\":\"dark\"}}},\"yaxis\":{\"tickfont\":{\"color\":\"rgba(0.12156862745098039, 0.4666666666666667, 0.7058823529411765, 0.8)\"}},\"yaxis2\":{\"tickfont\":{\"color\":\"rgba(0.5643983083429451, 0.36993464052287583, 0.5132641291810843, 0.8)\"},\"overlaying\":\"y\"},\"yaxis3\":{\"tickfont\":{\"color\":\"rgba(0.7372549019607844, 0.7411764705882353, 0.13333333333333333, 0.8)\"},\"overlaying\":\"y\"},\"xaxis\":{\"tickformat\":\"%Y-%m-%d\"},\"title\":{\"text\":\"Balance: 5352.078140 USD ~ Equity: 5352.078140 ~ Margin: 0.000000 ~ Free Margin: 5352.078140 ~ Margin Level: inf\"},\"width\":1400,\"height\":600},                        {\"responsive\": true}                    ).then(function(){\n                            \nvar gd = document.getElementById('862d71fa-a2b0-41d2-91df-c864b407e15b');\nvar x = new MutationObserver(function (mutations, observer) {{\n        var display = window.getComputedStyle(gd).display;\n        if (!display || display === 'none') {{\n            console.log([gd, 'removed!']);\n            Plotly.purge(gd);\n            observer.disconnect();\n        }}\n}});\n\n// Listen for the removal of the full notebook cells\nvar notebookContainer = gd.closest('#notebook-container');\nif (notebookContainer) {{\n    x.observe(notebookContainer, {childList: true});\n}}\n\n// Listen for the clearing of the current output cell\nvar outputEl = gd.closest('.output');\nif (outputEl) {{\n    x.observe(outputEl, {childList: true});\n}}\n\n                        })                };                });            </script>        </div>"
     },
     "metadata": {},
     "output_type": "display_data"
    }
   ],
   "source": [
    "env.render('advanced_figure', time_format='%Y-%m-%d')"
   ],
   "metadata": {
    "collapsed": false,
    "ExecuteTime": {
     "end_time": "2024-01-15T14:35:14.010610Z",
     "start_time": "2024-01-15T14:35:13.872368Z"
    }
   },
   "id": "c64f72ee6e1cd942",
   "execution_count": 74
  },
  {
   "cell_type": "code",
   "outputs": [],
   "source": [],
   "metadata": {
    "collapsed": false,
    "ExecuteTime": {
     "end_time": "2024-01-15T14:35:14.010949Z",
     "start_time": "2024-01-15T14:35:13.901363Z"
    }
   },
   "id": "c5f05339367bef73",
   "execution_count": 74
  }
 ],
 "metadata": {
  "kernelspec": {
   "display_name": "Python 3",
   "language": "python",
   "name": "python3"
  },
  "language_info": {
   "codemirror_mode": {
    "name": "ipython",
    "version": 2
   },
   "file_extension": ".py",
   "mimetype": "text/x-python",
   "name": "python",
   "nbconvert_exporter": "python",
   "pygments_lexer": "ipython2",
   "version": "2.7.6"
  }
 },
 "nbformat": 4,
 "nbformat_minor": 5
}
