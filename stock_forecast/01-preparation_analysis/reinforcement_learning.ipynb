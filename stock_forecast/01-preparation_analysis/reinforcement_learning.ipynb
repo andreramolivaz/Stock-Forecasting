{
 "cells": [
  {
   "cell_type": "markdown",
   "source": [
    "# Reinforcement Learning"
   ],
   "metadata": {
    "collapsed": false
   },
   "id": "ba14fa86b7707f83"
  },
  {
   "cell_type": "markdown",
   "source": [
    "# Introduction\n",
    "\n",
    "Reinforcement Learning is a branch of machine learning that focuses on how agents should act in an environment to maximize a notion of cumulative reward. Unlike supervised learning, where algorithms are trained on labeled examples, RL learns from a trial-and-error process based on the environment's responses to its actions.\n",
    "\n",
    "Differences between RL and other learning methods:\n",
    "\n",
    "- **Supervised learning**: Algorithms learn from labeled examples, trying to predict label based on the training set;\n",
    "- **Unsupervised learning**: Algorithms try to find patterns in the data, without any labels;\n",
    "- **Reinforcement learning**: Agent learns to make decision through rewards (or punishments) received from its actions.\n",
    "\n",
    "**Key elements:**\n",
    "\n",
    "- Agent:\n",
    "\n",
    "    - **Definition**: The agent is the entity that makes decisions and learns through interaction with the environment. In RL, the agent chooses actions to take based on its current policy.\n",
    "    - **Role in RL**: The agent is at the center of learning in RL. Its goal is to learn the best possible policy, that is, a map from states to actions, to maximize the total reward collected over time. \n",
    "\n",
    "- Enviroment:\n",
    "\n",
    "    - **Definition**: Environment represents the context or world in which the agent operates. It includes anything that the agent can interact with but does not have direct control over;\n",
    "    - **Interaction with the agent**: The environment responds to the agent's actions and presents new states and rewards to the agent. The nature of the environment can vary from simple and static to complex and dynamic.\n",
    "\n",
    "- State:\n",
    "\n",
    "    - **Definition**: A state is a configuration or representation of the environment at a given time. States provide the information the agent needs to make decisions.\n",
    "    - **Importance**: The quality and quantity of information available in states can significantly influence the effectiveness of agent learning.\n",
    "\n",
    "- Action:\n",
    "\n",
    "    - **Definition**: Actions are the various behaviors or moves that the agent can perform. The set of all available actions is known as the action space.\n",
    "    - **Action-Stata dynamics**: Every action taken by the agent affects the state of the environment. The relationship between actions and their consequence on states is fundamental to the agent's decision making. \n",
    "\n",
    "- Reward:\n",
    "\n",
    "    - **Definnition**: A reward is immediate feedback provided to the agent by the environment as a consequence of his or her actions. Rewards can be positive (to encourage certain actions) or negative (to discourage certain actions).\n",
    "    - **Role in learning**: Rewards are the main guide for the agent in the learning process. The agent's goal is to maximize the sum of rewards over time, often referred to as return.\n",
    "\n",
    "- Policy:\n",
    "\n",
    "    - **Definition**: A policy is a strategy adopted by the agent, a kind of rule or algorithm that decides what action to take based on the current state.\n",
    "    - **Types**: Policies can be deterministic or stochastic. A deterministic policy always provides the same action for a given state, while a stochastic policy selects actions according to a probability distribution.\n",
    "\n",
    "- Evaluation functions:\n",
    "\n",
    "    - **Goal**: These functions help the agent evaluate the effectiveness of his or her actions and policies.\n",
    "    - **Types**:\n",
    "        - **Value function**: Estimates the expected return from a state following a given policy.\n",
    "        - **Q-Value function**: also known as **Action-Value function**. Estimates the expected return for a state-action pair.\n",
    "\n",
    "- Model:\n",
    "\n",
    "    - **Description**: A model is an internal representation of the environment that the agent uses to predict how the environment will respond to its actions.\n",
    "    - **Model-based vs model-free RL**: In model-based RL, the agent uses an explicit model of the environment to plan its actions. In model-free RL, the agent learns directly from interactions with the environment without an explicit model."
   ],
   "metadata": {
    "collapsed": false
   },
   "id": "311b6c11919b8eb2"
  },
  {
   "cell_type": "markdown",
   "source": [
    "# Theoretical concepts\n",
    "\n",
    "#### 1. Markov Decision Process\n",
    "\n",
    "The Markov Decision Process (MDP) is a fundamental mathematical framework in the field of Reinforcement Learning. It provides a formalization for decision-making in uncertain and dynamic situations. An MDP is characterized by a set of states, a set of actions, transition probabilities and reward functions.\n",
    "\n",
    "Key MDP elements:\n",
    "\n",
    "- **States**: A set of states $S$ represents all the possible configurations the environment can be in.\n",
    "- **Actions**: A set of actions $A$ that the agent can take. The set of available actions may depend on the current state.\n",
    "- **Transition probability**: A transaction function $P(s_{t+1} | s_t, a_t)$ which defines the probability of transition to the state $s_{t+1}$ given the current state $s_t$ and action $a_t$.\n",
    "- **Reward**: A reward function $R(s_t, a_t, s_{t+1})$ which assigns a reward (or a punishment) to the agent for the transition from state $s_t$ to state $s_{t+1}$ after taking action $a_t$.\n",
    "\n",
    "The fundamental property of an MDP is the \"Markov property,\" which states that the future is independent of the past given the present. This means that the transition probability and reward depend only on the current state and the action taken, not on the history of previous actions or states.\n",
    "\n",
    "#### 2. Reward and evaluation function\n",
    " \n",
    "In the context of Reinforcement Learning, the reward and evaluation function are central concepts that guide agent learning and decision-making. This chapter explores the nature of these components and their role in RL.\n",
    "\n",
    "Reward:\n",
    "\n",
    "- **Definition**: A reward is a scalar value that represents the immediate feedback provided to the agent by the environment as a consequence of his or her actions. Rewards can be positive (to encourage certain actions) or negative (to discourage certain actions).\n",
    "- **Role in learning**: Rewards are the main guide for the agent in the learning process. The agent's goal is to maximize the sum of rewards over time, often referred to as return.\n",
    "\n",
    "Evaluation function:\n",
    " \n",
    "- **Value function**: The value function, denoted as $V(s)$, estimates the expected total return from a states following a given policy. It provides a measure of the goodness-of-fit of a state.\n",
    "- **Q-value function**: The Q-value function, or action-value function, denoted as $Q(s, a)$, evaluates the action $a$ in the state $s$. It estimates the expected return following the action $a$ in the state $s$ and then adhering to a specific policy. \n",
    "\n",
    "#### 3. Common RL algorithms\n",
    "\n",
    "- Q-learning is a model-free learning method that seeks to learn an optimal policy independently of the agent's current action.\n",
    "The algorithm iteratively updates the Q-value estimates for each state-action pair using the Q-learning update formula, based on the reward received and the maximum Q-value of the next state. Q-learning is widely used for problems with discrete state and action spaces and is well suited to situations with uncertain environmental dynamics.\n",
    "\n",
    "\n",
    "- SARSA is a model-based differential time learning (TD) algorithm.\n",
    "Unlike Q-learning, SARSA updates its Q-values based on the agent's current policy (on-policy). The update considers the current transition and the next action the agent intends to perform. SARSA is useful in environments where risk assessment and safety considerations are important because it takes into account the actual path the agent plans to follow.\n",
    "\n",
    "Some remarks:\n",
    "- **Exploration vs. exploitation**: A key aspect in RL is the balance between exploration (trying new actions) and exploitation (using acquired knowledge). RL algorithms must effectively manage this balance;\n",
    "- **Scalability and complexity**: the scalability of algorithms in environments with large state and action spaces is a significant challenge. Methods such as deep learning have been integrated into RL to address this challenge."
   ],
   "metadata": {
    "collapsed": false
   },
   "id": "55430e14daeb171f"
  },
  {
   "cell_type": "markdown",
   "source": [
    "# Use of RL in finance\n",
    "\n",
    "In trading, RL can be used to develop automated strategies that decide when to buy, sell, or hold a stock or cryptocurrency.\n",
    "Financial markets are complex, noisy, and nonstationary, making trading an ideal challenge for RL, which can adapt to such dynamic conditions.\n",
    "\n",
    "Challenges:\n",
    "\n",
    "- Financial data are often noisy and exhibit nonstationarity, which can lead to overfitting and inconsistent model performance.\n",
    "- Markets change rapidly, and what has worked in the past may no longer be valid, requiring the model to continually adapt.\n",
    "\n",
    "Pros of using RL:\n",
    "\n",
    "- **Automation and Scalability**: The RL can automate trading decisions and operate on a large scale, analyzing huge amounts of data more efficiently than human analysis.\n",
    "- **Adaptability**: RL models can dynamically adapt to changes in the market, continuously learning from new data.\n",
    "- **High Performance Potential**: When configured well, RL models can potentially outperform traditional strategies and human traders, especially in highly volatile markets.\n",
    "\n",
    "Common approaches:\n",
    "\n",
    "- **Deep reinforcement learning**: The use of deep neural networks to handle the complexity of market data and capture nonlinear relationships.\n",
    "- **Optimized exploration strategies**: Development of exploration methods that balance between learning from historical market situations and exploring new trading strategies.\n"
   ],
   "metadata": {
    "collapsed": false
   },
   "id": "a10463acab5730d4"
  },
  {
   "cell_type": "markdown",
   "source": [
    "# Practical Implementation\n",
    "\n",
    "OpenAI Gym is an open-source library developed by OpenAI that provides a set of environments for developing and comparing Reinforcement Learning algorithms. Gym is designed to make access to and implementation of RL environments simple and standardized. \n",
    "\n",
    "Features of Gym:\n",
    "- **Diversified Environments:** Gym offers a wide range of environments, from simple control problems to complex physics- and pixel-based environments.\n",
    "- **Standardized Interface:** Provides a consistent API for interacting with environments, making it easier to test different algorithms.\n",
    "- **Flexibility:** Gym is compatible with several machine learning frameworks and libraries, allowing integration with advanced RL algorithms.\n",
    "\n",
    "\"TradingEnv\" is a Gym-specific environment that simulates the stock or cryptocurrency market for trading. This environment provides an ideal platform for testing and evaluating RL-based trading strategies. The main features of \"TradingEnv\" are:\n",
    "\n",
    "- **Market Simulation:** Reproduces stock or cryptocurrency price movements, providing the agent with realistic data on which to act.\n",
    "- **Actions and Trading Decisions:** The agent can execute actions such as buy, sell or hold, based on current market information.\n",
    "- **Feedback and Rewards:** The environment provides feedback in terms of rewards or penalties based on the agent's trading performance.\n",
    "\n",
    "Considerations:\n",
    "- **Realism and Limitations**: although \"TradingEnv\" offers a realistic simulation, it is important to recognize its limitations and the difference between a simulated environment and real trading.\n",
    "- **Parameter Sensitivity**: the effectiveness of the RL agent may be sensitive to the parameters of the environment, including simulated pricing patterns and market conditions.\n",
    "- **Testing and Evaluation**: it is crucial to perform extensive testing and model evaluations to ensure that the learned strategies are robust and reliable before considering their application in real trading situations.\n"
   ],
   "metadata": {
    "collapsed": false
   },
   "id": "7b4194683da6b689"
  },
  {
   "cell_type": "markdown",
   "source": [
    "# Data preparation\n",
    "The first phase is meant to **explore** and **prepare** the dataset for the reinforcement learning model.\n",
    "It's crucial to have a **clean** and **well-structured** dataset to make a good reinforcement learning model."
   ],
   "metadata": {
    "collapsed": false
   },
   "id": "afbe80aa2669cb43"
  },
  {
   "cell_type": "markdown",
   "source": [
    "---\n",
    "## Loading data"
   ],
   "metadata": {
    "collapsed": false
   },
   "id": "942a3345a801f323"
  },
  {
   "cell_type": "code",
   "execution_count": 13,
   "outputs": [
    {
     "data": {
      "text/plain": "  Currency      Date      Open      High       Low     Close        Volume  \\\n0   ripple  24/04/19  0,321114  0,321282  0,296982  0,302318  1.517791e+09   \n1   ripple  23/04/19  0,323844  0,328396  0,320919  0,321222  1.077334e+09   \n2   ripple  22/04/19  0,322277   0,32935  0,320237  0,323934  1.131094e+09   \n3   ripple  21/04/19  0,328678  0,329627  0,318746  0,322449  1.005804e+09   \n4   ripple  20/04/19  0,331871  0,333213  0,324969  0,328476  9.315708e+08   \n\n    Market Cap  \n0  12698877293  \n1  13492933875  \n2  13606823301  \n3  13533407430  \n4  13786384592  ",
      "text/html": "<div>\n<style scoped>\n    .dataframe tbody tr th:only-of-type {\n        vertical-align: middle;\n    }\n\n    .dataframe tbody tr th {\n        vertical-align: top;\n    }\n\n    .dataframe thead th {\n        text-align: right;\n    }\n</style>\n<table border=\"1\" class=\"dataframe\">\n  <thead>\n    <tr style=\"text-align: right;\">\n      <th></th>\n      <th>Currency</th>\n      <th>Date</th>\n      <th>Open</th>\n      <th>High</th>\n      <th>Low</th>\n      <th>Close</th>\n      <th>Volume</th>\n      <th>Market Cap</th>\n    </tr>\n  </thead>\n  <tbody>\n    <tr>\n      <th>0</th>\n      <td>ripple</td>\n      <td>24/04/19</td>\n      <td>0,321114</td>\n      <td>0,321282</td>\n      <td>0,296982</td>\n      <td>0,302318</td>\n      <td>1.517791e+09</td>\n      <td>12698877293</td>\n    </tr>\n    <tr>\n      <th>1</th>\n      <td>ripple</td>\n      <td>23/04/19</td>\n      <td>0,323844</td>\n      <td>0,328396</td>\n      <td>0,320919</td>\n      <td>0,321222</td>\n      <td>1.077334e+09</td>\n      <td>13492933875</td>\n    </tr>\n    <tr>\n      <th>2</th>\n      <td>ripple</td>\n      <td>22/04/19</td>\n      <td>0,322277</td>\n      <td>0,32935</td>\n      <td>0,320237</td>\n      <td>0,323934</td>\n      <td>1.131094e+09</td>\n      <td>13606823301</td>\n    </tr>\n    <tr>\n      <th>3</th>\n      <td>ripple</td>\n      <td>21/04/19</td>\n      <td>0,328678</td>\n      <td>0,329627</td>\n      <td>0,318746</td>\n      <td>0,322449</td>\n      <td>1.005804e+09</td>\n      <td>13533407430</td>\n    </tr>\n    <tr>\n      <th>4</th>\n      <td>ripple</td>\n      <td>20/04/19</td>\n      <td>0,331871</td>\n      <td>0,333213</td>\n      <td>0,324969</td>\n      <td>0,328476</td>\n      <td>9.315708e+08</td>\n      <td>13786384592</td>\n    </tr>\n  </tbody>\n</table>\n</div>"
     },
     "execution_count": 13,
     "metadata": {},
     "output_type": "execute_result"
    }
   ],
   "source": [
    "import numpy as np\n",
    "import pandas as pd\n",
    "\n",
    "file_path = 'datasets/reinforcement_learning_export.csv'\n",
    "df = pd.read_csv(file_path, sep = ';')\n",
    "df.head()"
   ],
   "metadata": {
    "collapsed": false,
    "ExecuteTime": {
     "end_time": "2023-12-08T12:53:48.936887Z",
     "start_time": "2023-12-08T12:53:48.905727Z"
    }
   },
   "id": "9ca8951cac9d1909"
  },
  {
   "cell_type": "markdown",
   "source": [
    "---\n",
    "## Exploring data\n",
    "Before the **cleaning** and **preprocessing** phases, we'll explore the dataset looking for patterns or anomalies."
   ],
   "metadata": {
    "collapsed": false
   },
   "id": "4172573b3bbe9590"
  },
  {
   "cell_type": "code",
   "execution_count": 11,
   "outputs": [
    {
     "name": "stdout",
     "output_type": "stream",
     "text": [
      "<class 'pandas.core.frame.DataFrame'>\n",
      "RangeIndex: 13576 entries, 0 to 13575\n",
      "Data columns (total 8 columns):\n",
      " #   Column      Non-Null Count  Dtype  \n",
      "---  ------      --------------  -----  \n",
      " 0   Currency    13576 non-null  object \n",
      " 1   Date        13576 non-null  object \n",
      " 2   Open        13576 non-null  object \n",
      " 3   High        13576 non-null  object \n",
      " 4   Low         13576 non-null  object \n",
      " 5   Close       13576 non-null  object \n",
      " 6   Volume      12945 non-null  float64\n",
      " 7   Market Cap  13564 non-null  object \n",
      "dtypes: float64(1), object(7)\n",
      "memory usage: 848.6+ KB\n"
     ]
    },
    {
     "data": {
      "text/plain": "             Volume\ncount  1.294500e+04\nmean   7.697894e+08\nstd    1.954981e+09\nmin    0.000000e+00\n25%    1.842150e+06\n50%    4.762450e+07\n75%    4.768040e+08\nmax    2.655755e+10",
      "text/html": "<div>\n<style scoped>\n    .dataframe tbody tr th:only-of-type {\n        vertical-align: middle;\n    }\n\n    .dataframe tbody tr th {\n        vertical-align: top;\n    }\n\n    .dataframe thead th {\n        text-align: right;\n    }\n</style>\n<table border=\"1\" class=\"dataframe\">\n  <thead>\n    <tr style=\"text-align: right;\">\n      <th></th>\n      <th>Volume</th>\n    </tr>\n  </thead>\n  <tbody>\n    <tr>\n      <th>count</th>\n      <td>1.294500e+04</td>\n    </tr>\n    <tr>\n      <th>mean</th>\n      <td>7.697894e+08</td>\n    </tr>\n    <tr>\n      <th>std</th>\n      <td>1.954981e+09</td>\n    </tr>\n    <tr>\n      <th>min</th>\n      <td>0.000000e+00</td>\n    </tr>\n    <tr>\n      <th>25%</th>\n      <td>1.842150e+06</td>\n    </tr>\n    <tr>\n      <th>50%</th>\n      <td>4.762450e+07</td>\n    </tr>\n    <tr>\n      <th>75%</th>\n      <td>4.768040e+08</td>\n    </tr>\n    <tr>\n      <th>max</th>\n      <td>2.655755e+10</td>\n    </tr>\n  </tbody>\n</table>\n</div>"
     },
     "execution_count": 11,
     "metadata": {},
     "output_type": "execute_result"
    }
   ],
   "source": [
    "df.info()\n",
    "df.describe()"
   ],
   "metadata": {
    "collapsed": false,
    "ExecuteTime": {
     "end_time": "2023-12-08T12:53:11.523860Z",
     "start_time": "2023-12-08T12:53:11.476200Z"
    }
   },
   "id": "962c07484a84a7eb"
  },
  {
   "cell_type": "markdown",
   "source": [
    "---\n",
    "# Data cleaning\n",
    "We need to convert columns into the right data types and remove missing values."
   ],
   "metadata": {
    "collapsed": false
   },
   "id": "adfcdaaeaac4e724"
  },
  {
   "cell_type": "code",
   "execution_count": 35,
   "outputs": [],
   "source": [
    "df['Currency'] = df['Currency'].astype('string')\n",
    "df['Date'] = pd.to_datetime(df['Date'], format='%Y-%m-%d')\n",
    "\n",
    "df['Volume'] = df['Volume'].astype('string')\n",
    "df['Market Cap'] = df['Market Cap'].astype('string')\n",
    "df['Open'] = df['Open'].astype('string')\n",
    "df['High'] = df['High'].astype('string')\n",
    "df['Low'] = df['Low'].astype('string')\n",
    "df['Close'] = df['Close'].astype('string')"
   ],
   "metadata": {
    "collapsed": false,
    "ExecuteTime": {
     "end_time": "2023-12-08T13:09:42.370822Z",
     "start_time": "2023-12-08T13:09:42.351995Z"
    }
   },
   "id": "4b51d3081ad949e4"
  },
  {
   "cell_type": "code",
   "execution_count": 36,
   "outputs": [],
   "source": [
    "df.set_index('Date', inplace=True)"
   ],
   "metadata": {
    "collapsed": false,
    "ExecuteTime": {
     "end_time": "2023-12-08T13:14:24.071235Z",
     "start_time": "2023-12-08T13:14:24.067008Z"
    }
   },
   "id": "769c6d45b407a30e"
  },
  {
   "cell_type": "markdown",
   "source": [],
   "metadata": {
    "collapsed": false
   },
   "id": "f77f697e7ce3eab1"
  },
  {
   "cell_type": "markdown",
   "source": [
    "ref: [https://gym-trading-env.readthedocs.io/en/latest/index.html](https://gym-trading-env.readthedocs.io/en/latest/index.html)"
   ],
   "metadata": {
    "collapsed": false
   },
   "id": "8c8d203a849064d7"
  },
  {
   "cell_type": "markdown",
   "source": [
    "---\n",
    "# Import dataset\n",
    "In order for this enviroment to work, the dataset must be in the following format:\n",
    "- it must be ordered by **ascending date**\n",
    "- the index must be a **DatetimeIndex**\n",
    "- it must have **Close**, **Open**, **High**, **Low**, **Volume** labels at least"
   ],
   "metadata": {
    "collapsed": false
   },
   "id": "b1dc5eca9cfe7be1"
  },
  {
   "cell_type": "code",
   "execution_count": 39,
   "outputs": [],
   "source": [
    "import pandas as pd\n",
    "import gymnasium as gym\n",
    "import gym_trading_env"
   ],
   "metadata": {
    "collapsed": false,
    "ExecuteTime": {
     "end_time": "2023-12-08T13:31:25.199707Z",
     "start_time": "2023-12-08T13:31:25.070552Z"
    }
   },
   "id": "e22504fc10c479d7"
  },
  {
   "cell_type": "code",
   "execution_count": 40,
   "outputs": [],
   "source": [
    "dataset = './datasets/BTC_USD-Hourly.csv'\n",
    "df = pd.read_csv(dataset, parse_dates = ['date'], index_col = 'date')\n",
    "df.sort_index(inplace = True)\n",
    "df.dropna(inplace = True)\n",
    "df.drop_duplicates(inplace = True)"
   ],
   "metadata": {
    "collapsed": false,
    "ExecuteTime": {
     "end_time": "2023-12-08T13:31:26.122790Z",
     "start_time": "2023-12-08T13:31:26.055073Z"
    }
   },
   "id": "f0e4495a4db89d5d"
  },
  {
   "cell_type": "markdown",
   "source": [
    "# Adding more features\n",
    "The reinforcement learning agent will need inputs.\n",
    "The enviroment recognizes as input every column that has **feature** in its name."
   ],
   "metadata": {
    "collapsed": false
   },
   "id": "209f56b2a746b059"
  },
  {
   "cell_type": "code",
   "execution_count": 43,
   "outputs": [],
   "source": [
    "df['feature_close'] = df['close'].pct_change()\n",
    "df['feature_open'] = df['open'] / df['close']\n",
    "df['feature_high'] = df['high'] / df['close']\n",
    "df['feature_low'] = df['low'] / df['close']\n",
    "df['feature_volume'] = df['Volume USD'] / df['Volume USD'].rolling(7 * 24).max()\n",
    "\n",
    "df.dropna(inplace = True)"
   ],
   "metadata": {
    "collapsed": false,
    "ExecuteTime": {
     "end_time": "2023-12-08T13:37:05.771378Z",
     "start_time": "2023-12-08T13:37:05.745113Z"
    }
   },
   "id": "cba88f7e68bd0c13"
  },
  {
   "cell_type": "markdown",
   "source": [
    "# Creating the enviroment\n",
    "Let's examine the parameters of the enviroment:\n",
    "- **name**: the name of the enviroment\n",
    "- **df**: the dataframe\n",
    "- **positions**: list of the positions allowed by the enviroment\n",
    "- **trading_fees**: the trading fees (buy and sell operations)\n",
    "- **borrow_interest_rate**: the interest rate for borrowing money"
   ],
   "metadata": {
    "collapsed": false
   },
   "id": "3f10a43370ae9fed"
  },
  {
   "cell_type": "code",
   "execution_count": 44,
   "outputs": [],
   "source": [
    "env = gym.make(\n",
    "    'TradingEnv',\n",
    "    name = 'BTCUSD',\n",
    "    df = df,\n",
    "    positions = [-1, 0, 1],\n",
    "    trading_fees = 0.01 / 100,\n",
    "    borrow_interest_rate = 0.003 / 100\n",
    ")"
   ],
   "metadata": {
    "collapsed": false,
    "ExecuteTime": {
     "end_time": "2023-12-08T13:37:07.155676Z",
     "start_time": "2023-12-08T13:37:07.113184Z"
    }
   },
   "id": "3b0ed866e1c06443"
  },
  {
   "cell_type": "markdown",
   "source": [
    "# Run the enviroment"
   ],
   "metadata": {
    "collapsed": false
   },
   "id": "6161a888919d695"
  },
  {
   "cell_type": "code",
   "execution_count": 45,
   "outputs": [
    {
     "name": "stdout",
     "output_type": "stream",
     "text": [
      "Market Return : 507.09%   |   Portfolio Return : -92.77%   |   \n"
     ]
    }
   ],
   "source": [
    "done, truncated = False, False\n",
    "observation, info = env.reset()\n",
    "while not done and not truncated:\n",
    "    position_index = env.action_space.sample()\n",
    "    observation, reward, done, truncated, info = env.step(position_index)"
   ],
   "metadata": {
    "collapsed": false,
    "ExecuteTime": {
     "end_time": "2023-12-08T13:37:09.404549Z",
     "start_time": "2023-12-08T13:37:08.939155Z"
    }
   },
   "id": "c896f4450c9381aa"
  }
 ],
 "metadata": {
  "kernelspec": {
   "display_name": "Python 3",
   "language": "python",
   "name": "python3"
  },
  "language_info": {
   "codemirror_mode": {
    "name": "ipython",
    "version": 2
   },
   "file_extension": ".py",
   "mimetype": "text/x-python",
   "name": "python",
   "nbconvert_exporter": "python",
   "pygments_lexer": "ipython2",
   "version": "2.7.6"
  }
 },
 "nbformat": 4,
 "nbformat_minor": 5
}
