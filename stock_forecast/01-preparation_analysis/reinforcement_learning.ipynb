{
 "cells": [
  {
   "cell_type": "markdown",
   "source": [
    "# Data preparation\n",
    "The first phase is meant to **explore** and **prepare** the dataset for the reinforcement learning model.\n",
    "It's crucial to have a **clean** and **well-structured** dataset to make a good reinforcement learning model."
   ],
   "metadata": {
    "collapsed": false
   },
   "id": "afbe80aa2669cb43"
  },
  {
   "cell_type": "markdown",
   "source": [
    "---\n",
    "## Loading data"
   ],
   "metadata": {
    "collapsed": false
   },
   "id": "942a3345a801f323"
  },
  {
   "cell_type": "code",
   "execution_count": 13,
   "outputs": [
    {
     "data": {
      "text/plain": "  Currency      Date      Open      High       Low     Close        Volume  \\\n0   ripple  24/04/19  0,321114  0,321282  0,296982  0,302318  1.517791e+09   \n1   ripple  23/04/19  0,323844  0,328396  0,320919  0,321222  1.077334e+09   \n2   ripple  22/04/19  0,322277   0,32935  0,320237  0,323934  1.131094e+09   \n3   ripple  21/04/19  0,328678  0,329627  0,318746  0,322449  1.005804e+09   \n4   ripple  20/04/19  0,331871  0,333213  0,324969  0,328476  9.315708e+08   \n\n    Market Cap  \n0  12698877293  \n1  13492933875  \n2  13606823301  \n3  13533407430  \n4  13786384592  ",
      "text/html": "<div>\n<style scoped>\n    .dataframe tbody tr th:only-of-type {\n        vertical-align: middle;\n    }\n\n    .dataframe tbody tr th {\n        vertical-align: top;\n    }\n\n    .dataframe thead th {\n        text-align: right;\n    }\n</style>\n<table border=\"1\" class=\"dataframe\">\n  <thead>\n    <tr style=\"text-align: right;\">\n      <th></th>\n      <th>Currency</th>\n      <th>Date</th>\n      <th>Open</th>\n      <th>High</th>\n      <th>Low</th>\n      <th>Close</th>\n      <th>Volume</th>\n      <th>Market Cap</th>\n    </tr>\n  </thead>\n  <tbody>\n    <tr>\n      <th>0</th>\n      <td>ripple</td>\n      <td>24/04/19</td>\n      <td>0,321114</td>\n      <td>0,321282</td>\n      <td>0,296982</td>\n      <td>0,302318</td>\n      <td>1.517791e+09</td>\n      <td>12698877293</td>\n    </tr>\n    <tr>\n      <th>1</th>\n      <td>ripple</td>\n      <td>23/04/19</td>\n      <td>0,323844</td>\n      <td>0,328396</td>\n      <td>0,320919</td>\n      <td>0,321222</td>\n      <td>1.077334e+09</td>\n      <td>13492933875</td>\n    </tr>\n    <tr>\n      <th>2</th>\n      <td>ripple</td>\n      <td>22/04/19</td>\n      <td>0,322277</td>\n      <td>0,32935</td>\n      <td>0,320237</td>\n      <td>0,323934</td>\n      <td>1.131094e+09</td>\n      <td>13606823301</td>\n    </tr>\n    <tr>\n      <th>3</th>\n      <td>ripple</td>\n      <td>21/04/19</td>\n      <td>0,328678</td>\n      <td>0,329627</td>\n      <td>0,318746</td>\n      <td>0,322449</td>\n      <td>1.005804e+09</td>\n      <td>13533407430</td>\n    </tr>\n    <tr>\n      <th>4</th>\n      <td>ripple</td>\n      <td>20/04/19</td>\n      <td>0,331871</td>\n      <td>0,333213</td>\n      <td>0,324969</td>\n      <td>0,328476</td>\n      <td>9.315708e+08</td>\n      <td>13786384592</td>\n    </tr>\n  </tbody>\n</table>\n</div>"
     },
     "execution_count": 13,
     "metadata": {},
     "output_type": "execute_result"
    }
   ],
   "source": [
    "import numpy as np\n",
    "import pandas as pd\n",
    "\n",
    "file_path = 'datasets/reinforcement_learning_export.csv'\n",
    "df = pd.read_csv(file_path, sep = ';')\n",
    "df.head()"
   ],
   "metadata": {
    "collapsed": false,
    "ExecuteTime": {
     "end_time": "2023-12-08T12:53:48.936887Z",
     "start_time": "2023-12-08T12:53:48.905727Z"
    }
   },
   "id": "9ca8951cac9d1909"
  },
  {
   "cell_type": "markdown",
   "source": [
    "---\n",
    "## Exploring data\n",
    "Before the **cleaning** and **preprocessing** phases, we'll explore the dataset looking for patterns or anomalies."
   ],
   "metadata": {
    "collapsed": false
   },
   "id": "4172573b3bbe9590"
  },
  {
   "cell_type": "code",
   "execution_count": 11,
   "outputs": [
    {
     "name": "stdout",
     "output_type": "stream",
     "text": [
      "<class 'pandas.core.frame.DataFrame'>\n",
      "RangeIndex: 13576 entries, 0 to 13575\n",
      "Data columns (total 8 columns):\n",
      " #   Column      Non-Null Count  Dtype  \n",
      "---  ------      --------------  -----  \n",
      " 0   Currency    13576 non-null  object \n",
      " 1   Date        13576 non-null  object \n",
      " 2   Open        13576 non-null  object \n",
      " 3   High        13576 non-null  object \n",
      " 4   Low         13576 non-null  object \n",
      " 5   Close       13576 non-null  object \n",
      " 6   Volume      12945 non-null  float64\n",
      " 7   Market Cap  13564 non-null  object \n",
      "dtypes: float64(1), object(7)\n",
      "memory usage: 848.6+ KB\n"
     ]
    },
    {
     "data": {
      "text/plain": "             Volume\ncount  1.294500e+04\nmean   7.697894e+08\nstd    1.954981e+09\nmin    0.000000e+00\n25%    1.842150e+06\n50%    4.762450e+07\n75%    4.768040e+08\nmax    2.655755e+10",
      "text/html": "<div>\n<style scoped>\n    .dataframe tbody tr th:only-of-type {\n        vertical-align: middle;\n    }\n\n    .dataframe tbody tr th {\n        vertical-align: top;\n    }\n\n    .dataframe thead th {\n        text-align: right;\n    }\n</style>\n<table border=\"1\" class=\"dataframe\">\n  <thead>\n    <tr style=\"text-align: right;\">\n      <th></th>\n      <th>Volume</th>\n    </tr>\n  </thead>\n  <tbody>\n    <tr>\n      <th>count</th>\n      <td>1.294500e+04</td>\n    </tr>\n    <tr>\n      <th>mean</th>\n      <td>7.697894e+08</td>\n    </tr>\n    <tr>\n      <th>std</th>\n      <td>1.954981e+09</td>\n    </tr>\n    <tr>\n      <th>min</th>\n      <td>0.000000e+00</td>\n    </tr>\n    <tr>\n      <th>25%</th>\n      <td>1.842150e+06</td>\n    </tr>\n    <tr>\n      <th>50%</th>\n      <td>4.762450e+07</td>\n    </tr>\n    <tr>\n      <th>75%</th>\n      <td>4.768040e+08</td>\n    </tr>\n    <tr>\n      <th>max</th>\n      <td>2.655755e+10</td>\n    </tr>\n  </tbody>\n</table>\n</div>"
     },
     "execution_count": 11,
     "metadata": {},
     "output_type": "execute_result"
    }
   ],
   "source": [
    "df.info()\n",
    "df.describe()"
   ],
   "metadata": {
    "collapsed": false,
    "ExecuteTime": {
     "end_time": "2023-12-08T12:53:11.523860Z",
     "start_time": "2023-12-08T12:53:11.476200Z"
    }
   },
   "id": "962c07484a84a7eb"
  },
  {
   "cell_type": "markdown",
   "source": [
    "---\n",
    "# Data cleaning\n",
    "We need to convert columns into the right data types and remove missing values."
   ],
   "metadata": {
    "collapsed": false
   },
   "id": "adfcdaaeaac4e724"
  },
  {
   "cell_type": "code",
   "execution_count": 35,
   "outputs": [],
   "source": [
    "df['Currency'] = df['Currency'].astype('string')\n",
    "df['Date'] = pd.to_datetime(df['Date'], format='%Y-%m-%d')\n",
    "\n",
    "df['Volume'] = df['Volume'].astype('string')\n",
    "df['Market Cap'] = df['Market Cap'].astype('string')\n",
    "df['Open'] = df['Open'].astype('string')\n",
    "df['High'] = df['High'].astype('string')\n",
    "df['Low'] = df['Low'].astype('string')\n",
    "df['Close'] = df['Close'].astype('string')"
   ],
   "metadata": {
    "collapsed": false,
    "ExecuteTime": {
     "end_time": "2023-12-08T13:09:42.370822Z",
     "start_time": "2023-12-08T13:09:42.351995Z"
    }
   },
   "id": "4b51d3081ad949e4"
  },
  {
   "cell_type": "code",
   "execution_count": 36,
   "outputs": [],
   "source": [
    "df.set_index('Date', inplace=True)"
   ],
   "metadata": {
    "collapsed": false,
    "ExecuteTime": {
     "end_time": "2023-12-08T13:14:24.071235Z",
     "start_time": "2023-12-08T13:14:24.067008Z"
    }
   },
   "id": "769c6d45b407a30e"
  },
  {
   "cell_type": "markdown",
   "source": [],
   "metadata": {
    "collapsed": false
   },
   "id": "f77f697e7ce3eab1"
  },
  {
   "cell_type": "markdown",
   "source": [
    "ref: [https://gym-trading-env.readthedocs.io/en/latest/index.html](https://gym-trading-env.readthedocs.io/en/latest/index.html)"
   ],
   "metadata": {
    "collapsed": false
   },
   "id": "8c8d203a849064d7"
  },
  {
   "cell_type": "markdown",
   "source": [
    "---\n",
    "# Import dataset\n",
    "In order for this enviroment to work, the dataset must be in the following format:\n",
    "- it must be ordered by **ascending date**\n",
    "- the index must be a **DatetimeIndex**\n",
    "- it must have **Close**, **Open**, **High**, **Low**, **Volume** labels at least"
   ],
   "metadata": {
    "collapsed": false
   },
   "id": "b1dc5eca9cfe7be1"
  },
  {
   "cell_type": "code",
   "execution_count": 39,
   "outputs": [],
   "source": [
    "import pandas as pd\n",
    "import gymnasium as gym\n",
    "import gym_trading_env"
   ],
   "metadata": {
    "collapsed": false,
    "ExecuteTime": {
     "end_time": "2023-12-08T13:31:25.199707Z",
     "start_time": "2023-12-08T13:31:25.070552Z"
    }
   },
   "id": "e22504fc10c479d7"
  },
  {
   "cell_type": "code",
   "execution_count": 40,
   "outputs": [],
   "source": [
    "dataset = './datasets/BTC_USD-Hourly.csv'\n",
    "df = pd.read_csv(dataset, parse_dates = ['date'], index_col = 'date')\n",
    "df.sort_index(inplace = True)\n",
    "df.dropna(inplace = True)\n",
    "df.drop_duplicates(inplace = True)"
   ],
   "metadata": {
    "collapsed": false,
    "ExecuteTime": {
     "end_time": "2023-12-08T13:31:26.122790Z",
     "start_time": "2023-12-08T13:31:26.055073Z"
    }
   },
   "id": "f0e4495a4db89d5d"
  },
  {
   "cell_type": "markdown",
   "source": [
    "# Adding more features\n",
    "The reinforcement learning agent will need inputs.\n",
    "The enviroment recognizes as input every column that has **feature** in its name."
   ],
   "metadata": {
    "collapsed": false
   },
   "id": "209f56b2a746b059"
  },
  {
   "cell_type": "code",
   "execution_count": 43,
   "outputs": [],
   "source": [
    "df['feature_close'] = df['close'].pct_change()\n",
    "df['feature_open'] = df['open'] / df['close']\n",
    "df['feature_high'] = df['high'] / df['close']\n",
    "df['feature_low'] = df['low'] / df['close']\n",
    "df['feature_volume'] = df['Volume USD'] / df['Volume USD'].rolling(7 * 24).max()\n",
    "\n",
    "df.dropna(inplace = True)"
   ],
   "metadata": {
    "collapsed": false,
    "ExecuteTime": {
     "end_time": "2023-12-08T13:37:05.771378Z",
     "start_time": "2023-12-08T13:37:05.745113Z"
    }
   },
   "id": "cba88f7e68bd0c13"
  },
  {
   "cell_type": "markdown",
   "source": [
    "# Creating the enviroment\n",
    "Let's examine the parameters of the enviroment:\n",
    "- **name**: the name of the enviroment\n",
    "- **df**: the dataframe\n",
    "- **positions**: list of the positions allowed by the enviroment\n",
    "- **trading_fees**: the trading fees (buy and sell operations)\n",
    "- **borrow_interest_rate**: the interest rate for borrowing money"
   ],
   "metadata": {
    "collapsed": false
   },
   "id": "3f10a43370ae9fed"
  },
  {
   "cell_type": "code",
   "execution_count": 44,
   "outputs": [],
   "source": [
    "env = gym.make(\n",
    "    'TradingEnv',\n",
    "    name = 'BTCUSD',\n",
    "    df = df,\n",
    "    positions = [-1, 0, 1],\n",
    "    trading_fees = 0.01 / 100,\n",
    "    borrow_interest_rate = 0.003 / 100\n",
    ")"
   ],
   "metadata": {
    "collapsed": false,
    "ExecuteTime": {
     "end_time": "2023-12-08T13:37:07.155676Z",
     "start_time": "2023-12-08T13:37:07.113184Z"
    }
   },
   "id": "3b0ed866e1c06443"
  },
  {
   "cell_type": "markdown",
   "source": [
    "# Run the enviroment"
   ],
   "metadata": {
    "collapsed": false
   },
   "id": "6161a888919d695"
  },
  {
   "cell_type": "code",
   "execution_count": 45,
   "outputs": [
    {
     "name": "stdout",
     "output_type": "stream",
     "text": [
      "Market Return : 507.09%   |   Portfolio Return : -92.77%   |   \n"
     ]
    }
   ],
   "source": [
    "done, truncated = False, False\n",
    "observation, info = env.reset()\n",
    "while not done and not truncated:\n",
    "    position_index = env.action_space.sample()\n",
    "    observation, reward, done, truncated, info = env.step(position_index)"
   ],
   "metadata": {
    "collapsed": false,
    "ExecuteTime": {
     "end_time": "2023-12-08T13:37:09.404549Z",
     "start_time": "2023-12-08T13:37:08.939155Z"
    }
   },
   "id": "c896f4450c9381aa"
  }
 ],
 "metadata": {
  "kernelspec": {
   "display_name": "Python 3",
   "language": "python",
   "name": "python3"
  },
  "language_info": {
   "codemirror_mode": {
    "name": "ipython",
    "version": 2
   },
   "file_extension": ".py",
   "mimetype": "text/x-python",
   "name": "python",
   "nbconvert_exporter": "python",
   "pygments_lexer": "ipython2",
   "version": "2.7.6"
  }
 },
 "nbformat": 4,
 "nbformat_minor": 5
}
