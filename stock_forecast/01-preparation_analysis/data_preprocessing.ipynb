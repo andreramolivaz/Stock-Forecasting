{
 "cells": [
  {
   "cell_type": "markdown",
   "metadata": {},
   "source": [
    "# Data Preprocessing"
   ]
  },
  {
   "cell_type": "code",
   "execution_count": 2,
   "metadata": {
    "collapsed": false,
    "ExecuteTime": {
     "end_time": "2023-10-24T14:44:50.628149Z",
     "start_time": "2023-10-24T14:44:49.500986Z"
    }
   },
   "outputs": [],
   "source": [
    "import pandas as pd\n",
    "import numpy as np\n",
    "import os"
   ]
  },
  {
   "cell_type": "code",
   "execution_count": 3,
   "metadata": {
    "collapsed": false,
    "ExecuteTime": {
     "end_time": "2023-10-24T14:44:50.641215Z",
     "start_time": "2023-10-24T14:44:50.625471Z"
    }
   },
   "outputs": [
    {
     "data": {
      "text/plain": "['./data/GS.xlsx',\n './data/1398.HK.xlsx',\n './data/BA.xlsx',\n './data/005380.KS.xlsx',\n './data/AIR.PA.xlsx',\n './data/KO.xlsx',\n './data/WMT.xlsx',\n './data/005930.KS.xlsx',\n './data/NOVN.SW.xlsx',\n './data/CVX.xlsx',\n './data/EGHT.xlsx',\n './data/MMM.xlsx',\n './data/VZ.xlsx',\n './data/JPM.xlsx',\n './data/JNJ.xlsx',\n './data/AMZN.xlsx',\n './data/9984.T.xlsx',\n './data/RDS.A.xlsx',\n './data/0700.HK.xlsx',\n './data/BE.xlsx',\n './data/AAPL.xlsx',\n './data/PFE.xlsx',\n './data/SEDG.xlsx',\n './data/MSFT.xlsx',\n './data/TM.xlsx',\n './data/VOW3.DE.xlsx',\n './data/PG.xlsx',\n './data/DB.xlsx',\n './data/UL.xlsx',\n './data/TWTR.xlsx',\n './data/XOM.xlsx',\n './data/T.xlsx']"
     },
     "execution_count": 3,
     "metadata": {},
     "output_type": "execute_result"
    }
   ],
   "source": [
    "# TODO: da rifare per ogni stock\n",
    "sheet_names = [\n",
    "    'Info',\n",
    "    'Historical',\n",
    "    'Income Statement',\n",
    "    'Quarterly Income Statement',\n",
    "    'Cashflow',\n",
    "    'Institutional Holders',\n",
    "    'Mutual Fund Holders',\n",
    "    'Major Holders'\n",
    "]\n",
    "\n",
    "#riempire stocks di tutti i vari codici, fare la retrive di tutti i file e buttarli in df_stock per poi poter lavorare su tutti i dati\n",
    "directory = \"./data\"\n",
    "stocks = [os.path.join(directory, file) for file in os.listdir(directory)]\n",
    "stocks"
   ]
  },
  {
   "cell_type": "markdown",
   "metadata": {
    "collapsed": false
   },
   "source": [
    "## Integrazione dei dati finanziari\n",
    "Colonne aggiunte:\n",
    "- **Daily_Return**: rendimento giornaliero.\n",
    "- **Target_1day**: indica se il prezzo di chiusura del giorno successivo sarà superiore (1) o inferiore (0) rispetto al prezzo di chiusura del giorno corrente.\n",
    "- **Target_5days**: indica se il prezzo di chiusura a 5 giorni nel futuro sarà superiore (1) o inferiore (0) rispetto al prezzo di chiusura del giorno corrente.\n",
    "- **Target_30days**: indica se il prezzo di chiusura a 30 giorni nel futuro sarà superiore (1) o inferiore (0) rispetto al prezzo di chiusura del giorno corrente.\n",
    "\n",
    "Integrato i vari sheet \"Income Statement\", \"Quarterly Income Statement\" e \"Cashflow\" in un singolo excel. NB: Dato che questi fogli contengono dati finanziari annuali o trimestrali un approccio comune è portare avanti l'ultimo valore noto per ogni giorno fino a quando non si dispone di un nuovo valore. Per alcunii anni finanziari sarà Nan perché non li abbiamo.\n",
    "\n",
    "Lista delle azioni alle quali mancano pezzi:\n",
    "- **1398.HK** manca income_statement.normalized_EBITA"
   ]
  },
  {
   "cell_type": "markdown",
   "source": [
    "# colonne aggiunte\n",
    "dato che alcune colonne non sono presenti all'interno di tutti i file, pensavamo di aggiungere una serie di colonne utili per l'analisi che saranno presenti ovunque in quanto le aziende sono obbligate a pubblicare questo tipo di dati (i nomi potrebbero non essere gli stessi):\n",
    "- **Net income** (income statement): This metric measures a company's profit after all expenses and taxes have been paid. It is the most important metric for investors, as it represents the company's bottom line.\n",
    "\n",
    "- **Diluted EPS** (income statement): This metric measures a company's profit per share of common stock. It is a good measure of a company's profitability per share.\n",
    "\n",
    "- **Total Revenue** (income statement): This metric measures the total amount of sales that a company generates. It is a good measure of a company's top line growth.\n",
    "\n",
    "- **Cost of revenue** (income statement): This metric measures the cost of the goods that a company sells. It is an important metric for assessing a company's profitability.\n",
    "\n",
    "- **Operating revenue** (income statement): This metric measures the non-production costs that a company incurs. It is important to consider operating expenses when assessing a company's profitability and cash flow generation.\n",
    "\n",
    "- **Cash flow from operating activities** (cash flow): This metric measures the amount of cash that a company generates from its core business operations.\n",
    "\n",
    "- **Cash flow from investing activities** (cash flow): This metric measures the amount of cash that a company generates from its investments, such as the sale of property, plant, and equipment\n",
    "\n",
    "- **Cash flow from financing activities** (cash flow): This metric measures the amount of cash that a company generates from its financing activities, such as the issuance of debt or equity."
   ],
   "metadata": {
    "collapsed": false
   }
  },
  {
   "cell_type": "code",
   "execution_count": 39,
   "outputs": [
    {
     "name": "stdout",
     "output_type": "stream",
     "text": [
      "action: ./data/GS.xlsx ['Cash flow from operating activities', 'Cash flow from investing activities', 'Cash flow from financing activities']\n",
      "action: ./data/1398.HK.xlsx ['Cash flow from operating activities', 'Cash flow from investing activities', 'Cash flow from financing activities']\n",
      "action: ./data/BA.xlsx ['Cash flow from operating activities', 'Cash flow from investing activities', 'Cash flow from financing activities']\n",
      "action: ./data/005380.KS.xlsx ['Cash flow from operating activities', 'Cash flow from investing activities', 'Cash flow from financing activities']\n",
      "action: ./data/AIR.PA.xlsx ['Cash flow from operating activities', 'Cash flow from investing activities', 'Cash flow from financing activities']\n",
      "action: ./data/KO.xlsx ['Cash flow from operating activities', 'Cash flow from investing activities', 'Cash flow from financing activities']\n",
      "action: ./data/WMT.xlsx ['Cash flow from operating activities', 'Cash flow from investing activities', 'Cash flow from financing activities']\n",
      "action: ./data/005930.KS.xlsx ['Cash flow from operating activities', 'Cash flow from investing activities', 'Cash flow from financing activities']\n",
      "action: ./data/NOVN.SW.xlsx ['Cash flow from operating activities', 'Cash flow from investing activities', 'Cash flow from financing activities']\n",
      "action: ./data/CVX.xlsx ['Cash flow from operating activities', 'Cash flow from investing activities', 'Cash flow from financing activities']\n",
      "action: ./data/EGHT.xlsx ['Cash flow from operating activities', 'Cash flow from investing activities', 'Cash flow from financing activities']\n",
      "action: ./data/MMM.xlsx ['Cash flow from operating activities', 'Cash flow from investing activities', 'Cash flow from financing activities']\n",
      "action: ./data/VZ.xlsx ['Cash flow from operating activities', 'Cash flow from investing activities', 'Cash flow from financing activities']\n",
      "action: ./data/JPM.xlsx ['Cash flow from operating activities', 'Cash flow from investing activities', 'Cash flow from financing activities']\n",
      "action: ./data/JNJ.xlsx ['Cash flow from operating activities', 'Cash flow from investing activities', 'Cash flow from financing activities']\n",
      "action: ./data/AMZN.xlsx ['Cash flow from operating activities', 'Cash flow from investing activities', 'Cash flow from financing activities']\n",
      "action: ./data/9984.T.xlsx ['Cash flow from operating activities', 'Cash flow from investing activities', 'Cash flow from financing activities']\n",
      "action: ./data/RDS.A.xlsx ['Cash flow from operating activities', 'Cash flow from investing activities', 'Cash flow from financing activities']\n",
      "action: ./data/0700.HK.xlsx ['Cash flow from operating activities', 'Cash flow from investing activities', 'Cash flow from financing activities']\n",
      "action: ./data/BE.xlsx ['Cash flow from operating activities', 'Cash flow from investing activities', 'Cash flow from financing activities']\n",
      "action: ./data/AAPL.xlsx ['Cash flow from operating activities', 'Cash flow from investing activities', 'Cash flow from financing activities']\n",
      "action: ./data/PFE.xlsx ['Cash flow from operating activities', 'Cash flow from investing activities', 'Cash flow from financing activities']\n",
      "action: ./data/SEDG.xlsx ['Cash flow from operating activities', 'Cash flow from investing activities', 'Cash flow from financing activities']\n",
      "action: ./data/MSFT.xlsx ['Cash flow from operating activities', 'Cash flow from investing activities', 'Cash flow from financing activities']\n",
      "action: ./data/TM.xlsx ['Cash flow from operating activities', 'Cash flow from investing activities', 'Cash flow from financing activities']\n",
      "action: ./data/VOW3.DE.xlsx ['Cash flow from operating activities', 'Cash flow from investing activities', 'Cash flow from financing activities']\n",
      "action: ./data/PG.xlsx ['Cash flow from operating activities', 'Cash flow from investing activities', 'Cash flow from financing activities']\n",
      "action: ./data/DB.xlsx ['Cash flow from operating activities', 'Cash flow from investing activities', 'Cash flow from financing activities']\n",
      "action: ./data/UL.xlsx ['Cash flow from operating activities', 'Cash flow from investing activities', 'Cash flow from financing activities']\n",
      "action: ./data/TWTR.xlsx ['Cash flow from operating activities', 'Cash flow from investing activities', 'Cash flow from financing activities']\n",
      "action: ./data/XOM.xlsx ['Cash flow from operating activities', 'Cash flow from investing activities', 'Cash flow from financing activities']\n",
      "action: ./data/T.xlsx ['Cash flow from operating activities', 'Cash flow from investing activities', 'Cash flow from financing activities']\n"
     ]
    }
   ],
   "source": [
    "i = 0\n",
    "for file in stocks:\n",
    "    income_stmt = set([\n",
    "        \"Net Income\",\n",
    "        \"Diluted EPS\",\n",
    "        \"Total Revenue\",\n",
    "        \"Cost of revenue\",\n",
    "        \"Operating revenue\",\n",
    "    ])\n",
    "    \n",
    "    cash_flow = set([\n",
    "        \"Cash flow from operating activities\",\n",
    "        \"Cash flow from investing activities\",\n",
    "        \"Cash flow from financing activities\",\n",
    "    ])\n",
    "    \n",
    "    df_stock = pd.ExcelFile(file)\n",
    "    df_stock = df_stock.parse(\"Income Statement\")\n",
    "    \n",
    "    cols_income_stmt = set(df_stock['Unnamed: 0'].tolist())\n",
    "    \n",
    "    df_stock = pd.ExcelFile(file)\n",
    "    df_stock = df_stock.parse(\"Cashflow\")\n",
    "    cols_cash_flow = set(df_stock['Unnamed: 0'].tolist())\n",
    "\n",
    "    elements_in_sublist_but_not_big_list = [element for element in cash_flow if element not in cols_cash_flow]\n",
    "    print(f\"action: {file} {elements_in_sublist_but_not_big_list}\")"
   ],
   "metadata": {
    "collapsed": false,
    "ExecuteTime": {
     "end_time": "2023-10-24T16:20:40.244572Z",
     "start_time": "2023-10-24T16:20:38.924499Z"
    }
   }
  },
  {
   "cell_type": "code",
   "execution_count": 13,
   "metadata": {
    "collapsed": false,
    "ExecuteTime": {
     "end_time": "2023-10-24T14:46:45.310559Z",
     "start_time": "2023-10-24T14:46:21.238893Z"
    }
   },
   "outputs": [],
   "source": [
    "# TODO: da fare per ogni stock\n",
    "counter = 0\n",
    "df = pd.DataFrame()\n",
    "for file in stocks:\n",
    "    if file.split(\"/\")[2][:-5] != \"1398.HK\":\n",
    "        df_stock = pd.ExcelFile(file)\n",
    "        \n",
    "        # prevent false postive warnings, reference_ https://stackoverflow.com/questions/20625582/how-to-deal-with-settingwithcopywarning-in-pandas\n",
    "        pd.options.mode.chained_assignment = None # default='warn'\n",
    "        \n",
    "        # Loading the 'Historical' data stock\n",
    "        historical_data = df_stock.parse('Historical')\n",
    "        \n",
    "        # Renaming and setting the Date column\n",
    "        historical_data.rename(columns={'Unnamed: 0': 'Date'}, inplace=True)\n",
    "        historical_data['Date'] = pd.to_datetime(historical_data['Date'])\n",
    "        historical_data.set_index('Date', inplace=True)\n",
    "        # Calculate daily return\n",
    "        historical_data['Daily_Return'] = historical_data['Close'].pct_change()\n",
    "        \n",
    "        # Create target variables for next day, next 5 days and next 30 days\n",
    "        historical_data['Target_1day'] = (historical_data['Close'].shift(-1) > historical_data['Close']).astype(int)\n",
    "        historical_data['Target_5days'] = (historical_data['Close'].shift(-5) > historical_data['Close']).astype(int)\n",
    "        historical_data['Target_30days'] = (historical_data['Close'].shift(-30) > historical_data['Close']).astype(int)\n",
    "        \n",
    "        # Drop rows with NaN values (will be present due to the shifting for target creation)\n",
    "        historical_data = historical_data.dropna()\n",
    "        \n",
    "        # Loading the 'Income Statement' data for XOM\n",
    "        income_statement = df_stock.parse('Income Statement')\n",
    "        \n",
    "        # Transposing the data for easier integration\n",
    "        income_statement = income_statement.set_index('Unnamed: 0').transpose()\n",
    "        income_statement.index = pd.to_datetime(income_statement.index)\n",
    "        \n",
    "        \n",
    "        # Selecting some of the key financial metrics (you can add or remove based on relevance)\n",
    "        selected_metrics = [\n",
    "            'Normalized EBITDA',\n",
    "            'Total Unusual Items',\n",
    "            'Total Unusual Items Excluding Goodwill'\n",
    "        ]\n",
    "        \n",
    "        # check if columns exist, in case create them\n",
    "        for metric in selected_metrics:\n",
    "            if metric not in income_statement.columns:\n",
    "                income_statement[metric] = np.nan\n",
    "                \n",
    "        \n",
    "        income_statement = income_statement[selected_metrics]\n",
    "        \n",
    "        # Merging the income statement data with the historical data\n",
    "        merged_data = historical_data.join(income_statement, how='left')\n",
    "        \n",
    "        # Forward filling the NaN values\n",
    "        merged_data[selected_metrics] = merged_data[selected_metrics].fillna(method='ffill')\n",
    "        \n",
    "        # Loading the 'Cashflow' data for XOM\n",
    "        cashflow = df_stock.parse('Cashflow')\n",
    "        \n",
    "        # Transposing the data for easier integration\n",
    "        cashflow = cashflow.set_index('Unnamed: 0').transpose()\n",
    "        cashflow.index = pd.to_datetime(cashflow.index)\n",
    "        \n",
    "        # Selecting some of the key cashflow metrics (you can add or remove based on relevance)\n",
    "        selected_cashflow_metrics = [\n",
    "            'Operating Cash Flow',\n",
    "            'Capital Expenditure',\n",
    "            'Free Cash Flow'\n",
    "        ]\n",
    "        \n",
    "        for metric in selected_cashflow_metrics:\n",
    "            if metric not in cashflow.columns:\n",
    "                cashflow[metric] = np.nan\n",
    "        \n",
    "        cashflow = cashflow[selected_cashflow_metrics]\n",
    "        \n",
    "        # Merging the cashflow data with the existing dataframe\n",
    "        merged_data = merged_data.join(cashflow, how='left', rsuffix='_cashflow')\n",
    "        \n",
    "        # Forward filling the NaN values\n",
    "        merged_data[selected_cashflow_metrics] = merged_data[selected_cashflow_metrics].fillna(method='ffill')\n",
    "        \n",
    "        if 'Ticker' not in merged_data.columns:\n",
    "            merged_data['Ticker'] = file.split(\"/\")[2].replace(\".\", \"\")[:-4]\n",
    "        \n",
    "        # Display the updated dataframe with integrated cashflow metrics\n",
    "        merged_data.iloc[counter : counter + len(merged_data), merged_data.columns.get_loc(\"Ticker\")] = file.split(\"/\")[2].replace(\".\", \"\")[:-4]\n",
    "        \n",
    "        counter = len(merged_data)\n",
    "\n",
    "        # Moving Averages\n",
    "        merged_data['MA_5'] = merged_data['Close'].rolling(window=5).mean()\n",
    "        merged_data['MA_10'] = merged_data['Close'].rolling(window=10).mean()\n",
    "        merged_data['MA_30'] = merged_data['Close'].rolling(window=30).mean()\n",
    "        merged_data['MA_50'] = merged_data['Close'].rolling(window=50).mean()\n",
    "        \n",
    "        # RSI\n",
    "        delta = merged_data['Close'].diff()\n",
    "        gain = (delta.where(delta > 0, 0)).fillna(0)\n",
    "        loss = (-delta.where(delta < 0, 0)).fillna(0)\n",
    "        avg_gain = gain.rolling(window=14).mean()\n",
    "        avg_loss = loss.rolling(window=14).mean()\n",
    "        rs = avg_gain / avg_loss\n",
    "        merged_data['RSI'] = 100 - (100 / (1 + rs))\n",
    "        \n",
    "        # MACD\n",
    "        merged_data['MACD'] = merged_data['Close'].ewm(span=12, adjust=False).mean() - merged_data['Close'].ewm(span=26, adjust=False).mean()\n",
    "        merged_data['Signal_Line'] = merged_data['MACD'].ewm(span=9, adjust=False).mean()\n",
    "        \n",
    "        # Bollinger Bands\n",
    "        merged_data['Bollinger_Mid_Band'] = merged_data['Close'].rolling(window=20).mean()\n",
    "        merged_data['Bollinger_Upper_Band']  = merged_data['Bollinger_Mid_Band'] + 1.96*merged_data['Close'].rolling(window=20).std()\n",
    "        merged_data['Bollinger_Lower_Band']  = merged_data['Bollinger_Mid_Band'] - 1.96*merged_data['Close'].rolling(window=20).std()\n",
    "        \n",
    "        # Volatility\n",
    "        merged_data['Volatility'] = merged_data['Daily_Return'].rolling(window=5).std()\n",
    "        \n",
    "        to_drop_na = ['MA_5', 'MA_10', 'MA_30', 'MA_50', 'RSI', 'Volatility']\n",
    "        \n",
    "        for column in to_drop_na:\n",
    "            merged_data[column] = merged_data[column].fillna(0)\n",
    "\n",
    "        merged_data = merged_data[merged_data.index >= '2020-06-30']\n",
    "        #indices_to_drop = merged_data.index[merged_data.isna().sum(axis=1) > 3].tolist()\n",
    "        \n",
    "        #merged_data.drop(indices_to_drop, inplace=True)\n",
    "        \n",
    "        # Export in Excel company data\n",
    "        if not os.path.exists('./Processed'):\n",
    "            os.makedirs('./Processed')\n",
    "        with pd.ExcelWriter(f'./Processed/{file.split(\"/\")[2][:-5]}.xlsx', mode = \"w\", engine = \"openpyxl\") as writer:\n",
    "            merged_data.to_excel(writer, sheet_name=\"Sheet1\")\n",
    "        # Append to one single dataframe\n",
    "        df = pd.concat([df, merged_data])"
   ]
  },
  {
   "cell_type": "markdown",
   "source": [
    "# aggiornamento\n",
    "dato che alcune aziende hanno delle colonne completamente vuote, eliminare i record con i NaN implcava che l'intera azienda non sarebbe stata considerata.\n",
    "per questo motivo abbiamo deciso si non rimuovere le aziende, ma bensì non inserire nel dataset quelle colonne; in particola le colonne che devono essere rimosse sono:\n",
    "- `Normalized EBITDA`\n",
    "- `Total Unusual Items`\n",
    "- `Total Unusual Items Excluding Goodwill`\n",
    "- `Operating Cash Flow`\n",
    "- `Capital Expenditure`\n",
    "- `Free Cash Flow`\n",
    "di tutte queste colonne alcune in realtà possono essere lasciate, bisogna valutare bene quali"
   ],
   "metadata": {
    "collapsed": false
   }
  },
  {
   "cell_type": "code",
   "execution_count": 6,
   "metadata": {
    "collapsed": false,
    "ExecuteTime": {
     "end_time": "2023-10-24T14:45:10.512789Z",
     "start_time": "2023-10-24T14:45:10.494350Z"
    }
   },
   "outputs": [
    {
     "data": {
      "text/plain": "                 Open       High        Low      Close    Volume  Dividends  \\\nDate                                                                          \n2020-06-30  17.141609  17.330104  16.970250  17.267273  57979814        0.0   \n2020-07-01  17.210154  17.410073  17.050219  17.078779  41007987        0.0   \n2020-07-02  17.198729  17.421497  17.147322  17.181593  49947900        0.0   \n2020-07-06  17.444342  17.478614  17.272982  17.415783  44639852        0.0   \n2020-07-07  17.307257  17.392937  17.267274  17.318682  36422181        0.0   \n...               ...        ...        ...        ...       ...        ...   \n2023-10-09  14.470000  14.750000  14.460000  14.730000  30659800        0.0   \n2023-10-10  14.690000  14.980000  14.690000  14.960000  35746800        0.0   \n2023-10-11  14.950000  15.050000  14.680000  14.770000  31793500        0.0   \n2023-10-12  14.640000  14.670000  14.280000  14.450000  38543700        0.0   \n2023-10-13  14.480000  14.630000  14.320000  14.360000  34104500        0.0   \n\n            Stock Splits  Daily_Return  Target_1day  Target_5days  ...  \\\nDate                                                               ...   \n2020-06-30           0.0      0.010699            0             1  ...   \n2020-07-01           0.0     -0.010916            1             1  ...   \n2020-07-02           0.0      0.006020            1             1  ...   \n2020-07-06           0.0      0.013630            0             0  ...   \n2020-07-07           0.0     -0.005575            1             1  ...   \n...                  ...           ...          ...           ...  ...   \n2023-10-09           0.0      0.019377            1             0  ...   \n2023-10-10           0.0      0.015614            0             0  ...   \n2023-10-11           0.0     -0.012701            0             0  ...   \n2023-10-12           0.0     -0.021666            0             0  ...   \n2023-10-13           0.0     -0.006228            0             0  ...   \n\n                MA_10      MA_30      MA_50        RSI      MACD  Signal_Line  \\\nDate                                                                            \n2020-06-30  17.115333  17.523739  17.266358  35.285211 -0.130556    -0.053096   \n2020-07-01  17.094770  17.541636  17.266700  47.216598 -0.131006    -0.068678   \n2020-07-02  17.079348  17.550966  17.273669  45.531948 -0.121664    -0.079275   \n2020-07-06  17.089630  17.564675  17.284979  49.902144 -0.094276    -0.082275   \n2020-07-07  17.101625  17.573052  17.291947  45.400056 -0.079490    -0.081718   \n...               ...        ...        ...        ...       ...          ...   \n2023-10-09  14.580206  14.557477  14.300160  45.736901  0.044443     0.082328   \n2023-10-10  14.602363  14.591356  14.314404  43.159902  0.070110     0.079884   \n2023-10-11  14.620238  14.600586  14.329165  44.079070  0.074263     0.078760   \n2023-10-12  14.592375  14.600456  14.336545  41.485628  0.051143     0.073237   \n2023-10-13  14.554531  14.595365  14.347228  40.924509  0.025267     0.063643   \n\n            Bollinger_Mid_Band Bollinger_Upper_Band  Bollinger_Lower_Band  \\\nDate                                                                        \n2020-06-30           17.583143            18.883390             16.282896   \n2020-07-01           17.537162            18.840489             16.233835   \n2020-07-02           17.488039            18.766713             16.209365   \n2020-07-06           17.422923            18.568780             16.277066   \n2020-07-07           17.339814            18.232285             16.447342   \n...                        ...                  ...                   ...   \n2023-10-09           14.684344            15.194776             14.173913   \n2023-10-10           14.722898            15.192227             14.253568   \n2023-10-11           14.744101            15.180185             14.308016   \n2023-10-12           14.727716            15.181968             14.273465   \n2023-10-13           14.698491            15.168308             14.228674   \n\n            Volatility  \nDate                    \n2020-06-30    0.023715  \n2020-07-01    0.019738  \n2020-07-02    0.019464  \n2020-07-06    0.014230  \n2020-07-07    0.010587  \n...                ...  \n2023-10-09    0.012248  \n2023-10-10    0.013216  \n2023-10-11    0.014393  \n2023-10-12    0.017965  \n2023-10-13    0.017906  \n\n[829 rows x 29 columns]",
      "text/html": "<div>\n<style scoped>\n    .dataframe tbody tr th:only-of-type {\n        vertical-align: middle;\n    }\n\n    .dataframe tbody tr th {\n        vertical-align: top;\n    }\n\n    .dataframe thead th {\n        text-align: right;\n    }\n</style>\n<table border=\"1\" class=\"dataframe\">\n  <thead>\n    <tr style=\"text-align: right;\">\n      <th></th>\n      <th>Open</th>\n      <th>High</th>\n      <th>Low</th>\n      <th>Close</th>\n      <th>Volume</th>\n      <th>Dividends</th>\n      <th>Stock Splits</th>\n      <th>Daily_Return</th>\n      <th>Target_1day</th>\n      <th>Target_5days</th>\n      <th>...</th>\n      <th>MA_10</th>\n      <th>MA_30</th>\n      <th>MA_50</th>\n      <th>RSI</th>\n      <th>MACD</th>\n      <th>Signal_Line</th>\n      <th>Bollinger_Mid_Band</th>\n      <th>Bollinger_Upper_Band</th>\n      <th>Bollinger_Lower_Band</th>\n      <th>Volatility</th>\n    </tr>\n    <tr>\n      <th>Date</th>\n      <th></th>\n      <th></th>\n      <th></th>\n      <th></th>\n      <th></th>\n      <th></th>\n      <th></th>\n      <th></th>\n      <th></th>\n      <th></th>\n      <th></th>\n      <th></th>\n      <th></th>\n      <th></th>\n      <th></th>\n      <th></th>\n      <th></th>\n      <th></th>\n      <th></th>\n      <th></th>\n      <th></th>\n    </tr>\n  </thead>\n  <tbody>\n    <tr>\n      <th>2020-06-30</th>\n      <td>17.141609</td>\n      <td>17.330104</td>\n      <td>16.970250</td>\n      <td>17.267273</td>\n      <td>57979814</td>\n      <td>0.0</td>\n      <td>0.0</td>\n      <td>0.010699</td>\n      <td>0</td>\n      <td>1</td>\n      <td>...</td>\n      <td>17.115333</td>\n      <td>17.523739</td>\n      <td>17.266358</td>\n      <td>35.285211</td>\n      <td>-0.130556</td>\n      <td>-0.053096</td>\n      <td>17.583143</td>\n      <td>18.883390</td>\n      <td>16.282896</td>\n      <td>0.023715</td>\n    </tr>\n    <tr>\n      <th>2020-07-01</th>\n      <td>17.210154</td>\n      <td>17.410073</td>\n      <td>17.050219</td>\n      <td>17.078779</td>\n      <td>41007987</td>\n      <td>0.0</td>\n      <td>0.0</td>\n      <td>-0.010916</td>\n      <td>1</td>\n      <td>1</td>\n      <td>...</td>\n      <td>17.094770</td>\n      <td>17.541636</td>\n      <td>17.266700</td>\n      <td>47.216598</td>\n      <td>-0.131006</td>\n      <td>-0.068678</td>\n      <td>17.537162</td>\n      <td>18.840489</td>\n      <td>16.233835</td>\n      <td>0.019738</td>\n    </tr>\n    <tr>\n      <th>2020-07-02</th>\n      <td>17.198729</td>\n      <td>17.421497</td>\n      <td>17.147322</td>\n      <td>17.181593</td>\n      <td>49947900</td>\n      <td>0.0</td>\n      <td>0.0</td>\n      <td>0.006020</td>\n      <td>1</td>\n      <td>1</td>\n      <td>...</td>\n      <td>17.079348</td>\n      <td>17.550966</td>\n      <td>17.273669</td>\n      <td>45.531948</td>\n      <td>-0.121664</td>\n      <td>-0.079275</td>\n      <td>17.488039</td>\n      <td>18.766713</td>\n      <td>16.209365</td>\n      <td>0.019464</td>\n    </tr>\n    <tr>\n      <th>2020-07-06</th>\n      <td>17.444342</td>\n      <td>17.478614</td>\n      <td>17.272982</td>\n      <td>17.415783</td>\n      <td>44639852</td>\n      <td>0.0</td>\n      <td>0.0</td>\n      <td>0.013630</td>\n      <td>0</td>\n      <td>0</td>\n      <td>...</td>\n      <td>17.089630</td>\n      <td>17.564675</td>\n      <td>17.284979</td>\n      <td>49.902144</td>\n      <td>-0.094276</td>\n      <td>-0.082275</td>\n      <td>17.422923</td>\n      <td>18.568780</td>\n      <td>16.277066</td>\n      <td>0.014230</td>\n    </tr>\n    <tr>\n      <th>2020-07-07</th>\n      <td>17.307257</td>\n      <td>17.392937</td>\n      <td>17.267274</td>\n      <td>17.318682</td>\n      <td>36422181</td>\n      <td>0.0</td>\n      <td>0.0</td>\n      <td>-0.005575</td>\n      <td>1</td>\n      <td>1</td>\n      <td>...</td>\n      <td>17.101625</td>\n      <td>17.573052</td>\n      <td>17.291947</td>\n      <td>45.400056</td>\n      <td>-0.079490</td>\n      <td>-0.081718</td>\n      <td>17.339814</td>\n      <td>18.232285</td>\n      <td>16.447342</td>\n      <td>0.010587</td>\n    </tr>\n    <tr>\n      <th>...</th>\n      <td>...</td>\n      <td>...</td>\n      <td>...</td>\n      <td>...</td>\n      <td>...</td>\n      <td>...</td>\n      <td>...</td>\n      <td>...</td>\n      <td>...</td>\n      <td>...</td>\n      <td>...</td>\n      <td>...</td>\n      <td>...</td>\n      <td>...</td>\n      <td>...</td>\n      <td>...</td>\n      <td>...</td>\n      <td>...</td>\n      <td>...</td>\n      <td>...</td>\n      <td>...</td>\n    </tr>\n    <tr>\n      <th>2023-10-09</th>\n      <td>14.470000</td>\n      <td>14.750000</td>\n      <td>14.460000</td>\n      <td>14.730000</td>\n      <td>30659800</td>\n      <td>0.0</td>\n      <td>0.0</td>\n      <td>0.019377</td>\n      <td>1</td>\n      <td>0</td>\n      <td>...</td>\n      <td>14.580206</td>\n      <td>14.557477</td>\n      <td>14.300160</td>\n      <td>45.736901</td>\n      <td>0.044443</td>\n      <td>0.082328</td>\n      <td>14.684344</td>\n      <td>15.194776</td>\n      <td>14.173913</td>\n      <td>0.012248</td>\n    </tr>\n    <tr>\n      <th>2023-10-10</th>\n      <td>14.690000</td>\n      <td>14.980000</td>\n      <td>14.690000</td>\n      <td>14.960000</td>\n      <td>35746800</td>\n      <td>0.0</td>\n      <td>0.0</td>\n      <td>0.015614</td>\n      <td>0</td>\n      <td>0</td>\n      <td>...</td>\n      <td>14.602363</td>\n      <td>14.591356</td>\n      <td>14.314404</td>\n      <td>43.159902</td>\n      <td>0.070110</td>\n      <td>0.079884</td>\n      <td>14.722898</td>\n      <td>15.192227</td>\n      <td>14.253568</td>\n      <td>0.013216</td>\n    </tr>\n    <tr>\n      <th>2023-10-11</th>\n      <td>14.950000</td>\n      <td>15.050000</td>\n      <td>14.680000</td>\n      <td>14.770000</td>\n      <td>31793500</td>\n      <td>0.0</td>\n      <td>0.0</td>\n      <td>-0.012701</td>\n      <td>0</td>\n      <td>0</td>\n      <td>...</td>\n      <td>14.620238</td>\n      <td>14.600586</td>\n      <td>14.329165</td>\n      <td>44.079070</td>\n      <td>0.074263</td>\n      <td>0.078760</td>\n      <td>14.744101</td>\n      <td>15.180185</td>\n      <td>14.308016</td>\n      <td>0.014393</td>\n    </tr>\n    <tr>\n      <th>2023-10-12</th>\n      <td>14.640000</td>\n      <td>14.670000</td>\n      <td>14.280000</td>\n      <td>14.450000</td>\n      <td>38543700</td>\n      <td>0.0</td>\n      <td>0.0</td>\n      <td>-0.021666</td>\n      <td>0</td>\n      <td>0</td>\n      <td>...</td>\n      <td>14.592375</td>\n      <td>14.600456</td>\n      <td>14.336545</td>\n      <td>41.485628</td>\n      <td>0.051143</td>\n      <td>0.073237</td>\n      <td>14.727716</td>\n      <td>15.181968</td>\n      <td>14.273465</td>\n      <td>0.017965</td>\n    </tr>\n    <tr>\n      <th>2023-10-13</th>\n      <td>14.480000</td>\n      <td>14.630000</td>\n      <td>14.320000</td>\n      <td>14.360000</td>\n      <td>34104500</td>\n      <td>0.0</td>\n      <td>0.0</td>\n      <td>-0.006228</td>\n      <td>0</td>\n      <td>0</td>\n      <td>...</td>\n      <td>14.554531</td>\n      <td>14.595365</td>\n      <td>14.347228</td>\n      <td>40.924509</td>\n      <td>0.025267</td>\n      <td>0.063643</td>\n      <td>14.698491</td>\n      <td>15.168308</td>\n      <td>14.228674</td>\n      <td>0.017906</td>\n    </tr>\n  </tbody>\n</table>\n<p>829 rows × 29 columns</p>\n</div>"
     },
     "execution_count": 6,
     "metadata": {},
     "output_type": "execute_result"
    }
   ],
   "source": [
    "# TODO: spiegare perchè togliamo i quarterly\n",
    "#merged_data.drop(columns=['Normalized EBITDA_quarterly', 'Total Unusual Items_quarterly', 'Total Unusual Items Excluding Goodwill_quarterly'], inplace=True)\n",
    "merged_data.iloc[1 : counter + len(merged_data), merged_data.columns.get_loc(\"Ticker\")] = file.split(\"/\")[2][:-5]\n",
    "merged_data"
   ]
  },
  {
   "cell_type": "markdown",
   "metadata": {
    "collapsed": false
   },
   "source": [
    "## Feature Engineering\n",
    "- **Medie mobili**: Calcoliamo le medie mobili a breve e lungo termine per il prezzo di chiusura, che sono comuni nel trading algoritmico. Ad esempio, medie mobili a 5, 10, 30 e 50 giorni.\n",
    "- **RSI (Relative Strength Index)**: Questo è un indicatore di momentum che può aiutare a identificare se un'azione è in condizione di \"overbought\" o \"oversold\".\n",
    "- **MACD (Moving Average Convergence Divergence)**: Un altro indicatore di momentum.\n",
    "- **Bollinger Bands**: Questi sono basati su medie mobili e possono aiutare a identificare se un prezzo è relativamente alto o basso.\n",
    "- **Volatilità**: Potremmo calcolare la volatilità come la deviazione standard dei rendimenti giornalieri in una finestra temporale specifica."
   ]
  },
  {
   "cell_type": "code",
   "execution_count": 7,
   "metadata": {
    "collapsed": false,
    "ExecuteTime": {
     "end_time": "2023-10-24T14:45:10.540769Z",
     "start_time": "2023-10-24T14:45:10.509264Z"
    }
   },
   "outputs": [
    {
     "data": {
      "text/plain": "                 Open       High        Low      Close    Volume  Dividends  \\\nDate                                                                          \n2020-06-30  17.141609  17.330104  16.970250  17.267273  57979814        0.0   \n2020-07-01  17.210154  17.410073  17.050219  17.078779  41007987        0.0   \n2020-07-02  17.198729  17.421497  17.147322  17.181593  49947900        0.0   \n2020-07-06  17.444342  17.478614  17.272982  17.415783  44639852        0.0   \n2020-07-07  17.307257  17.392937  17.267274  17.318682  36422181        0.0   \n...               ...        ...        ...        ...       ...        ...   \n2023-10-09  14.470000  14.750000  14.460000  14.730000  30659800        0.0   \n2023-10-10  14.690000  14.980000  14.690000  14.960000  35746800        0.0   \n2023-10-11  14.950000  15.050000  14.680000  14.770000  31793500        0.0   \n2023-10-12  14.640000  14.670000  14.280000  14.450000  38543700        0.0   \n2023-10-13  14.480000  14.630000  14.320000  14.360000  34104500        0.0   \n\n            Stock Splits  Daily_Return  Target_1day  Target_5days  ...  \\\nDate                                                               ...   \n2020-06-30           0.0      0.010699            0             1  ...   \n2020-07-01           0.0     -0.010916            1             1  ...   \n2020-07-02           0.0      0.006020            1             1  ...   \n2020-07-06           0.0      0.013630            0             0  ...   \n2020-07-07           0.0     -0.005575            1             1  ...   \n...                  ...           ...          ...           ...  ...   \n2023-10-09           0.0      0.019377            1             0  ...   \n2023-10-10           0.0      0.015614            0             0  ...   \n2023-10-11           0.0     -0.012701            0             0  ...   \n2023-10-12           0.0     -0.021666            0             0  ...   \n2023-10-13           0.0     -0.006228            0             0  ...   \n\n                MA_10      MA_30      MA_50        RSI      MACD  Signal_Line  \\\nDate                                                                            \n2020-06-30   0.000000   0.000000   0.000000   0.000000  0.000000     0.000000   \n2020-07-01   0.000000   0.000000   0.000000   0.000000 -0.015037    -0.003007   \n2020-07-02   0.000000   0.000000   0.000000   0.000000 -0.018444    -0.006095   \n2020-07-06   0.000000   0.000000   0.000000   0.000000 -0.002222    -0.005320   \n2020-07-07   0.000000   0.000000   0.000000   0.000000  0.002767    -0.003703   \n...               ...        ...        ...        ...       ...          ...   \n2023-10-09  14.580206  14.557477  14.300160  45.736901  0.044443     0.082328   \n2023-10-10  14.602363  14.591356  14.314404  43.159902  0.070110     0.079884   \n2023-10-11  14.620238  14.600586  14.329165  44.079070  0.074263     0.078760   \n2023-10-12  14.592375  14.600456  14.336545  41.485628  0.051143     0.073237   \n2023-10-13  14.554531  14.595365  14.347228  40.924509  0.025267     0.063643   \n\n            Bollinger_Mid_Band Bollinger_Upper_Band  Bollinger_Lower_Band  \\\nDate                                                                        \n2020-06-30                 NaN                  NaN                   NaN   \n2020-07-01                 NaN                  NaN                   NaN   \n2020-07-02                 NaN                  NaN                   NaN   \n2020-07-06                 NaN                  NaN                   NaN   \n2020-07-07                 NaN                  NaN                   NaN   \n...                        ...                  ...                   ...   \n2023-10-09           14.684344            15.194776             14.173913   \n2023-10-10           14.722898            15.192227             14.253568   \n2023-10-11           14.744101            15.180185             14.308016   \n2023-10-12           14.727716            15.181968             14.273465   \n2023-10-13           14.698491            15.168308             14.228674   \n\n            Volatility  \nDate                    \n2020-06-30    0.000000  \n2020-07-01    0.000000  \n2020-07-02    0.000000  \n2020-07-06    0.000000  \n2020-07-07    0.010587  \n...                ...  \n2023-10-09    0.012248  \n2023-10-10    0.013216  \n2023-10-11    0.014393  \n2023-10-12    0.017965  \n2023-10-13    0.017906  \n\n[829 rows x 29 columns]",
      "text/html": "<div>\n<style scoped>\n    .dataframe tbody tr th:only-of-type {\n        vertical-align: middle;\n    }\n\n    .dataframe tbody tr th {\n        vertical-align: top;\n    }\n\n    .dataframe thead th {\n        text-align: right;\n    }\n</style>\n<table border=\"1\" class=\"dataframe\">\n  <thead>\n    <tr style=\"text-align: right;\">\n      <th></th>\n      <th>Open</th>\n      <th>High</th>\n      <th>Low</th>\n      <th>Close</th>\n      <th>Volume</th>\n      <th>Dividends</th>\n      <th>Stock Splits</th>\n      <th>Daily_Return</th>\n      <th>Target_1day</th>\n      <th>Target_5days</th>\n      <th>...</th>\n      <th>MA_10</th>\n      <th>MA_30</th>\n      <th>MA_50</th>\n      <th>RSI</th>\n      <th>MACD</th>\n      <th>Signal_Line</th>\n      <th>Bollinger_Mid_Band</th>\n      <th>Bollinger_Upper_Band</th>\n      <th>Bollinger_Lower_Band</th>\n      <th>Volatility</th>\n    </tr>\n    <tr>\n      <th>Date</th>\n      <th></th>\n      <th></th>\n      <th></th>\n      <th></th>\n      <th></th>\n      <th></th>\n      <th></th>\n      <th></th>\n      <th></th>\n      <th></th>\n      <th></th>\n      <th></th>\n      <th></th>\n      <th></th>\n      <th></th>\n      <th></th>\n      <th></th>\n      <th></th>\n      <th></th>\n      <th></th>\n      <th></th>\n    </tr>\n  </thead>\n  <tbody>\n    <tr>\n      <th>2020-06-30</th>\n      <td>17.141609</td>\n      <td>17.330104</td>\n      <td>16.970250</td>\n      <td>17.267273</td>\n      <td>57979814</td>\n      <td>0.0</td>\n      <td>0.0</td>\n      <td>0.010699</td>\n      <td>0</td>\n      <td>1</td>\n      <td>...</td>\n      <td>0.000000</td>\n      <td>0.000000</td>\n      <td>0.000000</td>\n      <td>0.000000</td>\n      <td>0.000000</td>\n      <td>0.000000</td>\n      <td>NaN</td>\n      <td>NaN</td>\n      <td>NaN</td>\n      <td>0.000000</td>\n    </tr>\n    <tr>\n      <th>2020-07-01</th>\n      <td>17.210154</td>\n      <td>17.410073</td>\n      <td>17.050219</td>\n      <td>17.078779</td>\n      <td>41007987</td>\n      <td>0.0</td>\n      <td>0.0</td>\n      <td>-0.010916</td>\n      <td>1</td>\n      <td>1</td>\n      <td>...</td>\n      <td>0.000000</td>\n      <td>0.000000</td>\n      <td>0.000000</td>\n      <td>0.000000</td>\n      <td>-0.015037</td>\n      <td>-0.003007</td>\n      <td>NaN</td>\n      <td>NaN</td>\n      <td>NaN</td>\n      <td>0.000000</td>\n    </tr>\n    <tr>\n      <th>2020-07-02</th>\n      <td>17.198729</td>\n      <td>17.421497</td>\n      <td>17.147322</td>\n      <td>17.181593</td>\n      <td>49947900</td>\n      <td>0.0</td>\n      <td>0.0</td>\n      <td>0.006020</td>\n      <td>1</td>\n      <td>1</td>\n      <td>...</td>\n      <td>0.000000</td>\n      <td>0.000000</td>\n      <td>0.000000</td>\n      <td>0.000000</td>\n      <td>-0.018444</td>\n      <td>-0.006095</td>\n      <td>NaN</td>\n      <td>NaN</td>\n      <td>NaN</td>\n      <td>0.000000</td>\n    </tr>\n    <tr>\n      <th>2020-07-06</th>\n      <td>17.444342</td>\n      <td>17.478614</td>\n      <td>17.272982</td>\n      <td>17.415783</td>\n      <td>44639852</td>\n      <td>0.0</td>\n      <td>0.0</td>\n      <td>0.013630</td>\n      <td>0</td>\n      <td>0</td>\n      <td>...</td>\n      <td>0.000000</td>\n      <td>0.000000</td>\n      <td>0.000000</td>\n      <td>0.000000</td>\n      <td>-0.002222</td>\n      <td>-0.005320</td>\n      <td>NaN</td>\n      <td>NaN</td>\n      <td>NaN</td>\n      <td>0.000000</td>\n    </tr>\n    <tr>\n      <th>2020-07-07</th>\n      <td>17.307257</td>\n      <td>17.392937</td>\n      <td>17.267274</td>\n      <td>17.318682</td>\n      <td>36422181</td>\n      <td>0.0</td>\n      <td>0.0</td>\n      <td>-0.005575</td>\n      <td>1</td>\n      <td>1</td>\n      <td>...</td>\n      <td>0.000000</td>\n      <td>0.000000</td>\n      <td>0.000000</td>\n      <td>0.000000</td>\n      <td>0.002767</td>\n      <td>-0.003703</td>\n      <td>NaN</td>\n      <td>NaN</td>\n      <td>NaN</td>\n      <td>0.010587</td>\n    </tr>\n    <tr>\n      <th>...</th>\n      <td>...</td>\n      <td>...</td>\n      <td>...</td>\n      <td>...</td>\n      <td>...</td>\n      <td>...</td>\n      <td>...</td>\n      <td>...</td>\n      <td>...</td>\n      <td>...</td>\n      <td>...</td>\n      <td>...</td>\n      <td>...</td>\n      <td>...</td>\n      <td>...</td>\n      <td>...</td>\n      <td>...</td>\n      <td>...</td>\n      <td>...</td>\n      <td>...</td>\n      <td>...</td>\n    </tr>\n    <tr>\n      <th>2023-10-09</th>\n      <td>14.470000</td>\n      <td>14.750000</td>\n      <td>14.460000</td>\n      <td>14.730000</td>\n      <td>30659800</td>\n      <td>0.0</td>\n      <td>0.0</td>\n      <td>0.019377</td>\n      <td>1</td>\n      <td>0</td>\n      <td>...</td>\n      <td>14.580206</td>\n      <td>14.557477</td>\n      <td>14.300160</td>\n      <td>45.736901</td>\n      <td>0.044443</td>\n      <td>0.082328</td>\n      <td>14.684344</td>\n      <td>15.194776</td>\n      <td>14.173913</td>\n      <td>0.012248</td>\n    </tr>\n    <tr>\n      <th>2023-10-10</th>\n      <td>14.690000</td>\n      <td>14.980000</td>\n      <td>14.690000</td>\n      <td>14.960000</td>\n      <td>35746800</td>\n      <td>0.0</td>\n      <td>0.0</td>\n      <td>0.015614</td>\n      <td>0</td>\n      <td>0</td>\n      <td>...</td>\n      <td>14.602363</td>\n      <td>14.591356</td>\n      <td>14.314404</td>\n      <td>43.159902</td>\n      <td>0.070110</td>\n      <td>0.079884</td>\n      <td>14.722898</td>\n      <td>15.192227</td>\n      <td>14.253568</td>\n      <td>0.013216</td>\n    </tr>\n    <tr>\n      <th>2023-10-11</th>\n      <td>14.950000</td>\n      <td>15.050000</td>\n      <td>14.680000</td>\n      <td>14.770000</td>\n      <td>31793500</td>\n      <td>0.0</td>\n      <td>0.0</td>\n      <td>-0.012701</td>\n      <td>0</td>\n      <td>0</td>\n      <td>...</td>\n      <td>14.620238</td>\n      <td>14.600586</td>\n      <td>14.329165</td>\n      <td>44.079070</td>\n      <td>0.074263</td>\n      <td>0.078760</td>\n      <td>14.744101</td>\n      <td>15.180185</td>\n      <td>14.308016</td>\n      <td>0.014393</td>\n    </tr>\n    <tr>\n      <th>2023-10-12</th>\n      <td>14.640000</td>\n      <td>14.670000</td>\n      <td>14.280000</td>\n      <td>14.450000</td>\n      <td>38543700</td>\n      <td>0.0</td>\n      <td>0.0</td>\n      <td>-0.021666</td>\n      <td>0</td>\n      <td>0</td>\n      <td>...</td>\n      <td>14.592375</td>\n      <td>14.600456</td>\n      <td>14.336545</td>\n      <td>41.485628</td>\n      <td>0.051143</td>\n      <td>0.073237</td>\n      <td>14.727716</td>\n      <td>15.181968</td>\n      <td>14.273465</td>\n      <td>0.017965</td>\n    </tr>\n    <tr>\n      <th>2023-10-13</th>\n      <td>14.480000</td>\n      <td>14.630000</td>\n      <td>14.320000</td>\n      <td>14.360000</td>\n      <td>34104500</td>\n      <td>0.0</td>\n      <td>0.0</td>\n      <td>-0.006228</td>\n      <td>0</td>\n      <td>0</td>\n      <td>...</td>\n      <td>14.554531</td>\n      <td>14.595365</td>\n      <td>14.347228</td>\n      <td>40.924509</td>\n      <td>0.025267</td>\n      <td>0.063643</td>\n      <td>14.698491</td>\n      <td>15.168308</td>\n      <td>14.228674</td>\n      <td>0.017906</td>\n    </tr>\n  </tbody>\n</table>\n<p>829 rows × 29 columns</p>\n</div>"
     },
     "execution_count": 7,
     "metadata": {},
     "output_type": "execute_result"
    }
   ],
   "source": [
    "# TODO: da fare per ogni stock\n",
    "# TODO: controllare gpt\n",
    "\n",
    "# Moving Averages\n",
    "merged_data['MA_5'] = merged_data['Close'].rolling(window=5).mean()\n",
    "merged_data['MA_10'] = merged_data['Close'].rolling(window=10).mean()\n",
    "merged_data['MA_30'] = merged_data['Close'].rolling(window=30).mean()\n",
    "merged_data['MA_50'] = merged_data['Close'].rolling(window=50).mean()\n",
    "\n",
    "# RSI\n",
    "delta = merged_data['Close'].diff()\n",
    "gain = (delta.where(delta > 0, 0)).fillna(0)\n",
    "loss = (-delta.where(delta < 0, 0)).fillna(0)\n",
    "avg_gain = gain.rolling(window=14).mean()\n",
    "avg_loss = loss.rolling(window=14).mean()\n",
    "rs = avg_gain / avg_loss\n",
    "merged_data['RSI'] = 100 - (100 / (1 + rs))\n",
    "\n",
    "# MACD\n",
    "merged_data['MACD'] = merged_data['Close'].ewm(span=12, adjust=False).mean() - merged_data['Close'].ewm(span=26, adjust=False).mean()\n",
    "merged_data['Signal_Line'] = merged_data['MACD'].ewm(span=9, adjust=False).mean()\n",
    "\n",
    "# Bollinger Bands\n",
    "merged_data['Bollinger_Mid_Band'] = merged_data['Close'].rolling(window=20).mean()\n",
    "merged_data['Bollinger_Upper_Band']  = merged_data['Bollinger_Mid_Band'] + 1.96*merged_data['Close'].rolling(window=20).std()\n",
    "merged_data['Bollinger_Lower_Band']  = merged_data['Bollinger_Mid_Band'] - 1.96*merged_data['Close'].rolling(window=20).std()\n",
    "\n",
    "# Volatility\n",
    "merged_data['Volatility'] = merged_data['Daily_Return'].rolling(window=5).std()\n",
    "\n",
    "to_drop_na = ['MA_5', 'MA_10', 'MA_30', 'MA_50', 'RSI', 'Volatility']\n",
    "\n",
    "for column in to_drop_na:\n",
    "    merged_data[column] = merged_data[column].fillna(0)\n",
    "\n",
    "# Display the dataset with new features\n",
    "merged_data"
   ]
  },
  {
   "cell_type": "code",
   "execution_count": 8,
   "metadata": {
    "collapsed": false,
    "ExecuteTime": {
     "end_time": "2023-10-24T14:45:10.541417Z",
     "start_time": "2023-10-24T14:45:10.525474Z"
    }
   },
   "outputs": [
    {
     "data": {
      "text/plain": "                 Open       High        Low      Close    Volume  Dividends  \\\nDate                                                                          \n2020-06-30  17.141609  17.330104  16.970250  17.267273  57979814        0.0   \n2020-07-01  17.210154  17.410073  17.050219  17.078779  41007987        0.0   \n2020-07-02  17.198729  17.421497  17.147322  17.181593  49947900        0.0   \n2020-07-06  17.444342  17.478614  17.272982  17.415783  44639852        0.0   \n2020-07-07  17.307257  17.392937  17.267274  17.318682  36422181        0.0   \n...               ...        ...        ...        ...       ...        ...   \n2023-10-09  14.470000  14.750000  14.460000  14.730000  30659800        0.0   \n2023-10-10  14.690000  14.980000  14.690000  14.960000  35746800        0.0   \n2023-10-11  14.950000  15.050000  14.680000  14.770000  31793500        0.0   \n2023-10-12  14.640000  14.670000  14.280000  14.450000  38543700        0.0   \n2023-10-13  14.480000  14.630000  14.320000  14.360000  34104500        0.0   \n\n            Stock Splits  Daily_Return  Target_1day  Target_5days  ...  \\\nDate                                                               ...   \n2020-06-30           0.0      0.010699            0             1  ...   \n2020-07-01           0.0     -0.010916            1             1  ...   \n2020-07-02           0.0      0.006020            1             1  ...   \n2020-07-06           0.0      0.013630            0             0  ...   \n2020-07-07           0.0     -0.005575            1             1  ...   \n...                  ...           ...          ...           ...  ...   \n2023-10-09           0.0      0.019377            1             0  ...   \n2023-10-10           0.0      0.015614            0             0  ...   \n2023-10-11           0.0     -0.012701            0             0  ...   \n2023-10-12           0.0     -0.021666            0             0  ...   \n2023-10-13           0.0     -0.006228            0             0  ...   \n\n                MA_10      MA_30      MA_50        RSI      MACD  Signal_Line  \\\nDate                                                                            \n2020-06-30   0.000000   0.000000   0.000000   0.000000  0.000000     0.000000   \n2020-07-01   0.000000   0.000000   0.000000   0.000000 -0.015037    -0.003007   \n2020-07-02   0.000000   0.000000   0.000000   0.000000 -0.018444    -0.006095   \n2020-07-06   0.000000   0.000000   0.000000   0.000000 -0.002222    -0.005320   \n2020-07-07   0.000000   0.000000   0.000000   0.000000  0.002767    -0.003703   \n...               ...        ...        ...        ...       ...          ...   \n2023-10-09  14.580206  14.557477  14.300160  45.736901  0.044443     0.082328   \n2023-10-10  14.602363  14.591356  14.314404  43.159902  0.070110     0.079884   \n2023-10-11  14.620238  14.600586  14.329165  44.079070  0.074263     0.078760   \n2023-10-12  14.592375  14.600456  14.336545  41.485628  0.051143     0.073237   \n2023-10-13  14.554531  14.595365  14.347228  40.924509  0.025267     0.063643   \n\n            Bollinger_Mid_Band Bollinger_Upper_Band  Bollinger_Lower_Band  \\\nDate                                                                        \n2020-06-30                 NaN                  NaN                   NaN   \n2020-07-01                 NaN                  NaN                   NaN   \n2020-07-02                 NaN                  NaN                   NaN   \n2020-07-06                 NaN                  NaN                   NaN   \n2020-07-07                 NaN                  NaN                   NaN   \n...                        ...                  ...                   ...   \n2023-10-09           14.684344            15.194776             14.173913   \n2023-10-10           14.722898            15.192227             14.253568   \n2023-10-11           14.744101            15.180185             14.308016   \n2023-10-12           14.727716            15.181968             14.273465   \n2023-10-13           14.698491            15.168308             14.228674   \n\n            Volatility  \nDate                    \n2020-06-30    0.000000  \n2020-07-01    0.000000  \n2020-07-02    0.000000  \n2020-07-06    0.000000  \n2020-07-07    0.010587  \n...                ...  \n2023-10-09    0.012248  \n2023-10-10    0.013216  \n2023-10-11    0.014393  \n2023-10-12    0.017965  \n2023-10-13    0.017906  \n\n[829 rows x 29 columns]",
      "text/html": "<div>\n<style scoped>\n    .dataframe tbody tr th:only-of-type {\n        vertical-align: middle;\n    }\n\n    .dataframe tbody tr th {\n        vertical-align: top;\n    }\n\n    .dataframe thead th {\n        text-align: right;\n    }\n</style>\n<table border=\"1\" class=\"dataframe\">\n  <thead>\n    <tr style=\"text-align: right;\">\n      <th></th>\n      <th>Open</th>\n      <th>High</th>\n      <th>Low</th>\n      <th>Close</th>\n      <th>Volume</th>\n      <th>Dividends</th>\n      <th>Stock Splits</th>\n      <th>Daily_Return</th>\n      <th>Target_1day</th>\n      <th>Target_5days</th>\n      <th>...</th>\n      <th>MA_10</th>\n      <th>MA_30</th>\n      <th>MA_50</th>\n      <th>RSI</th>\n      <th>MACD</th>\n      <th>Signal_Line</th>\n      <th>Bollinger_Mid_Band</th>\n      <th>Bollinger_Upper_Band</th>\n      <th>Bollinger_Lower_Band</th>\n      <th>Volatility</th>\n    </tr>\n    <tr>\n      <th>Date</th>\n      <th></th>\n      <th></th>\n      <th></th>\n      <th></th>\n      <th></th>\n      <th></th>\n      <th></th>\n      <th></th>\n      <th></th>\n      <th></th>\n      <th></th>\n      <th></th>\n      <th></th>\n      <th></th>\n      <th></th>\n      <th></th>\n      <th></th>\n      <th></th>\n      <th></th>\n      <th></th>\n      <th></th>\n    </tr>\n  </thead>\n  <tbody>\n    <tr>\n      <th>2020-06-30</th>\n      <td>17.141609</td>\n      <td>17.330104</td>\n      <td>16.970250</td>\n      <td>17.267273</td>\n      <td>57979814</td>\n      <td>0.0</td>\n      <td>0.0</td>\n      <td>0.010699</td>\n      <td>0</td>\n      <td>1</td>\n      <td>...</td>\n      <td>0.000000</td>\n      <td>0.000000</td>\n      <td>0.000000</td>\n      <td>0.000000</td>\n      <td>0.000000</td>\n      <td>0.000000</td>\n      <td>NaN</td>\n      <td>NaN</td>\n      <td>NaN</td>\n      <td>0.000000</td>\n    </tr>\n    <tr>\n      <th>2020-07-01</th>\n      <td>17.210154</td>\n      <td>17.410073</td>\n      <td>17.050219</td>\n      <td>17.078779</td>\n      <td>41007987</td>\n      <td>0.0</td>\n      <td>0.0</td>\n      <td>-0.010916</td>\n      <td>1</td>\n      <td>1</td>\n      <td>...</td>\n      <td>0.000000</td>\n      <td>0.000000</td>\n      <td>0.000000</td>\n      <td>0.000000</td>\n      <td>-0.015037</td>\n      <td>-0.003007</td>\n      <td>NaN</td>\n      <td>NaN</td>\n      <td>NaN</td>\n      <td>0.000000</td>\n    </tr>\n    <tr>\n      <th>2020-07-02</th>\n      <td>17.198729</td>\n      <td>17.421497</td>\n      <td>17.147322</td>\n      <td>17.181593</td>\n      <td>49947900</td>\n      <td>0.0</td>\n      <td>0.0</td>\n      <td>0.006020</td>\n      <td>1</td>\n      <td>1</td>\n      <td>...</td>\n      <td>0.000000</td>\n      <td>0.000000</td>\n      <td>0.000000</td>\n      <td>0.000000</td>\n      <td>-0.018444</td>\n      <td>-0.006095</td>\n      <td>NaN</td>\n      <td>NaN</td>\n      <td>NaN</td>\n      <td>0.000000</td>\n    </tr>\n    <tr>\n      <th>2020-07-06</th>\n      <td>17.444342</td>\n      <td>17.478614</td>\n      <td>17.272982</td>\n      <td>17.415783</td>\n      <td>44639852</td>\n      <td>0.0</td>\n      <td>0.0</td>\n      <td>0.013630</td>\n      <td>0</td>\n      <td>0</td>\n      <td>...</td>\n      <td>0.000000</td>\n      <td>0.000000</td>\n      <td>0.000000</td>\n      <td>0.000000</td>\n      <td>-0.002222</td>\n      <td>-0.005320</td>\n      <td>NaN</td>\n      <td>NaN</td>\n      <td>NaN</td>\n      <td>0.000000</td>\n    </tr>\n    <tr>\n      <th>2020-07-07</th>\n      <td>17.307257</td>\n      <td>17.392937</td>\n      <td>17.267274</td>\n      <td>17.318682</td>\n      <td>36422181</td>\n      <td>0.0</td>\n      <td>0.0</td>\n      <td>-0.005575</td>\n      <td>1</td>\n      <td>1</td>\n      <td>...</td>\n      <td>0.000000</td>\n      <td>0.000000</td>\n      <td>0.000000</td>\n      <td>0.000000</td>\n      <td>0.002767</td>\n      <td>-0.003703</td>\n      <td>NaN</td>\n      <td>NaN</td>\n      <td>NaN</td>\n      <td>0.010587</td>\n    </tr>\n    <tr>\n      <th>...</th>\n      <td>...</td>\n      <td>...</td>\n      <td>...</td>\n      <td>...</td>\n      <td>...</td>\n      <td>...</td>\n      <td>...</td>\n      <td>...</td>\n      <td>...</td>\n      <td>...</td>\n      <td>...</td>\n      <td>...</td>\n      <td>...</td>\n      <td>...</td>\n      <td>...</td>\n      <td>...</td>\n      <td>...</td>\n      <td>...</td>\n      <td>...</td>\n      <td>...</td>\n      <td>...</td>\n    </tr>\n    <tr>\n      <th>2023-10-09</th>\n      <td>14.470000</td>\n      <td>14.750000</td>\n      <td>14.460000</td>\n      <td>14.730000</td>\n      <td>30659800</td>\n      <td>0.0</td>\n      <td>0.0</td>\n      <td>0.019377</td>\n      <td>1</td>\n      <td>0</td>\n      <td>...</td>\n      <td>14.580206</td>\n      <td>14.557477</td>\n      <td>14.300160</td>\n      <td>45.736901</td>\n      <td>0.044443</td>\n      <td>0.082328</td>\n      <td>14.684344</td>\n      <td>15.194776</td>\n      <td>14.173913</td>\n      <td>0.012248</td>\n    </tr>\n    <tr>\n      <th>2023-10-10</th>\n      <td>14.690000</td>\n      <td>14.980000</td>\n      <td>14.690000</td>\n      <td>14.960000</td>\n      <td>35746800</td>\n      <td>0.0</td>\n      <td>0.0</td>\n      <td>0.015614</td>\n      <td>0</td>\n      <td>0</td>\n      <td>...</td>\n      <td>14.602363</td>\n      <td>14.591356</td>\n      <td>14.314404</td>\n      <td>43.159902</td>\n      <td>0.070110</td>\n      <td>0.079884</td>\n      <td>14.722898</td>\n      <td>15.192227</td>\n      <td>14.253568</td>\n      <td>0.013216</td>\n    </tr>\n    <tr>\n      <th>2023-10-11</th>\n      <td>14.950000</td>\n      <td>15.050000</td>\n      <td>14.680000</td>\n      <td>14.770000</td>\n      <td>31793500</td>\n      <td>0.0</td>\n      <td>0.0</td>\n      <td>-0.012701</td>\n      <td>0</td>\n      <td>0</td>\n      <td>...</td>\n      <td>14.620238</td>\n      <td>14.600586</td>\n      <td>14.329165</td>\n      <td>44.079070</td>\n      <td>0.074263</td>\n      <td>0.078760</td>\n      <td>14.744101</td>\n      <td>15.180185</td>\n      <td>14.308016</td>\n      <td>0.014393</td>\n    </tr>\n    <tr>\n      <th>2023-10-12</th>\n      <td>14.640000</td>\n      <td>14.670000</td>\n      <td>14.280000</td>\n      <td>14.450000</td>\n      <td>38543700</td>\n      <td>0.0</td>\n      <td>0.0</td>\n      <td>-0.021666</td>\n      <td>0</td>\n      <td>0</td>\n      <td>...</td>\n      <td>14.592375</td>\n      <td>14.600456</td>\n      <td>14.336545</td>\n      <td>41.485628</td>\n      <td>0.051143</td>\n      <td>0.073237</td>\n      <td>14.727716</td>\n      <td>15.181968</td>\n      <td>14.273465</td>\n      <td>0.017965</td>\n    </tr>\n    <tr>\n      <th>2023-10-13</th>\n      <td>14.480000</td>\n      <td>14.630000</td>\n      <td>14.320000</td>\n      <td>14.360000</td>\n      <td>34104500</td>\n      <td>0.0</td>\n      <td>0.0</td>\n      <td>-0.006228</td>\n      <td>0</td>\n      <td>0</td>\n      <td>...</td>\n      <td>14.554531</td>\n      <td>14.595365</td>\n      <td>14.347228</td>\n      <td>40.924509</td>\n      <td>0.025267</td>\n      <td>0.063643</td>\n      <td>14.698491</td>\n      <td>15.168308</td>\n      <td>14.228674</td>\n      <td>0.017906</td>\n    </tr>\n  </tbody>\n</table>\n<p>829 rows × 29 columns</p>\n</div>"
     },
     "execution_count": 8,
     "metadata": {},
     "output_type": "execute_result"
    }
   ],
   "source": [
    "# TODO: spiegare perche tagliamo il numero di record\n",
    "merged_data = merged_data[merged_data.index >= '2020-06-30']\n",
    "merged_data"
   ]
  },
  {
   "cell_type": "code",
   "execution_count": 9,
   "metadata": {
    "collapsed": false,
    "ExecuteTime": {
     "end_time": "2023-10-24T14:45:11.060972Z",
     "start_time": "2023-10-24T14:45:10.536710Z"
    }
   },
   "outputs": [],
   "source": [
    "# da fare per ogni stock\n",
    "output_filepath = \"processed_nomedellostock.xlsx\"\n",
    "len(merged_data)\n",
    "merged_data.to_excel(output_filepath)\n"
   ]
  },
  {
   "cell_type": "code",
   "execution_count": 10,
   "outputs": [],
   "source": [
    "# TODO list updated at 2023-10-23\n",
    "# TODO: esportare in Excel il dataset finale\n",
    "# TODO (opzionale) : refactor cartella Processed dentro a data \n",
    "# TODO: tagliare i dati al 30/06/2020\n",
    "\n",
    "if not os.path.exists('./Processed'):\n",
    "    os.makedirs('./Processed')\n",
    "with pd.ExcelWriter(f'./Processed/{file.split(\"/\")[2][:-5]}.xlsx', mode = \"w\", engine = \"openpyxl\") as writer:\n",
    "    merged_data.to_excel(writer, sheet_name=\"Sheet1\")\n",
    "    # Append to one single dataframe\n",
    "df = pd.concat([df, merged_data])"
   ],
   "metadata": {
    "collapsed": false,
    "ExecuteTime": {
     "end_time": "2023-10-24T14:45:11.116104Z",
     "start_time": "2023-10-24T14:45:10.730335Z"
    }
   }
  }
 ],
 "metadata": {
  "kernelspec": {
   "display_name": "Python 3 (ipykernel)",
   "language": "python",
   "name": "python3"
  },
  "language_info": {
   "codemirror_mode": {
    "name": "ipython",
    "version": 3
   },
   "file_extension": ".py",
   "mimetype": "text/x-python",
   "name": "python",
   "nbconvert_exporter": "python",
   "pygments_lexer": "ipython3",
   "version": "3.11.5"
  }
 },
 "nbformat": 4,
 "nbformat_minor": 2
}
