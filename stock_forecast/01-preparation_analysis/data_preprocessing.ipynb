{
 "cells": [
  {
   "cell_type": "markdown",
   "metadata": {},
   "source": [
    "# Data Preprocessing"
   ]
  },
  {
   "cell_type": "code",
   "execution_count": null,
   "outputs": [],
   "source": [
    "import padas as pd"
   ],
   "metadata": {
    "collapsed": false
   }
  },
  {
   "cell_type": "code",
   "execution_count": 2,
   "outputs": [
    {
     "ename": "NameError",
     "evalue": "name 'pd' is not defined",
     "output_type": "error",
     "traceback": [
      "\u001B[0;31m---------------------------------------------------------------------------\u001B[0m",
      "\u001B[0;31mNameError\u001B[0m                                 Traceback (most recent call last)",
      "Cell \u001B[0;32mIn[2], line 11\u001B[0m\n\u001B[1;32m      9\u001B[0m \u001B[38;5;66;03m#riempire stocks di tutti i vari codici, fare la retrive di tutti i file e buttarli in df_stock per poi poter lavorare su tutti i dati\u001B[39;00m\n\u001B[1;32m     10\u001B[0m stocks \u001B[38;5;241m=\u001B[39m [\u001B[38;5;124m'\u001B[39m\u001B[38;5;124mMSFT.xlsx\u001B[39m\u001B[38;5;124m'\u001B[39m]\n\u001B[0;32m---> 11\u001B[0m df_stock \u001B[38;5;241m=\u001B[39m \u001B[43mpd\u001B[49m\u001B[38;5;241m.\u001B[39mExcelFile(stocks(\u001B[38;5;241m1\u001B[39m))\n",
      "\u001B[0;31mNameError\u001B[0m: name 'pd' is not defined"
     ]
    }
   ],
   "source": [
    "sheet_names = ['Info',\n",
    " 'Historical',\n",
    " 'Income Statement',\n",
    " 'Quarterly Income Statement',\n",
    " 'Cashflow',\n",
    " 'Institutional Holders',\n",
    " 'Mutual Fund Holders',\n",
    " 'Major Holders']\n",
    "#riempire stocks di tutti i vari codici, fare la retrive di tutti i file e buttarli in df_stock per poi poter lavorare su tutti i dati\n",
    "stocks = ['MSFT.xlsx']\n",
    "df_stock = pd.ExcelFile(stocks(1))\n"
   ],
   "metadata": {
    "collapsed": false,
    "ExecuteTime": {
     "end_time": "2023-10-15T14:42:50.147223Z",
     "start_time": "2023-10-15T14:42:48.490786Z"
    }
   }
  },
  {
   "cell_type": "markdown",
   "source": [
    "## Integrazione dei dati finanziarii\n",
    "Colonne aggiunte:\n",
    "- Daily_Return: rendimento giornaliero.\n",
    "- Target_1day: indica se il prezzo di chiusura del giorno successivo sarà superiore (1) o inferiore (0) rispetto al prezzo di chiusura del giorno corrente.\n",
    "- Target_5days: indica se il prezzo di chiusura a 5 giorni nel futuro sarà superiore (1) o inferiore (0) rispetto al prezzo di chiusura del giorno corrente.\n",
    "- Target_30days: indica se il prezzo di chiusura a 30 giorni nel futuro sarà superiore (1) o inferiore (0) rispetto al prezzo di chiusura del giorno corrente.\n",
    "\n",
    "Integrato i vari sheet  \"Income Statement\", \"Quarterly Income Statement\" e \"Cashflow\" in un singolo excel. NB: Dato che questi fogli contengono dati finanziari annuali o trimestrali un approccio comune è portare avanti l'ultimo valore noto per ogni giorno fino a quando non si dispone di un nuovo valore. Per alcunii anni finanziari sarà Nan perché non li abbiamo."
   ],
   "metadata": {
    "collapsed": false
   }
  },
  {
   "cell_type": "code",
   "execution_count": null,
   "outputs": [],
   "source": [
    "#da fare per ogni stock\n",
    "# Loading the 'Historical' data stock\n",
    "historical_data = df_stock.parse('Historical')\n",
    "\n",
    "# Renaming and setting the Date column\n",
    "historical_data.rename(columns={'Unnamed: 0': 'Date'}, inplace=True)\n",
    "historical_data['Date'] = pd.to_datetime(historical_data['Date'])\n",
    "historical_data.set_index('Date', inplace=True)\n",
    "\n",
    "# Calculate daily return\n",
    "historical_data['Daily_Return'] = historical_data['Close'].pct_change()\n",
    "\n",
    "# Create target variables for next day, next 5 days and next 30 days\n",
    "historical_data['Target_1day'] = (historical_data['Close'].shift(-1) > historical_data['Close']).astype(int)\n",
    "historical_data['Target_5days'] = (historical_data['Close'].shift(-5) > historical_data['Close']).astype(int)\n",
    "historical_data['Target_30days'] = (historical_data['Close'].shift(-30) > historical_data['Close']).astype(int)\n",
    "\n",
    "# Drop rows with NaN values (will be present due to the shifting for target creation)\n",
    "historical_data = historical_data.dropna()\n",
    "\n",
    "# Display the updated dataframe\n",
    "historical_data.head()\n",
    "# Loading the 'Income Statement' data for XOM\n",
    "income_statement = df_stock.parse('Income Statement')\n",
    "\n",
    "# Transposing the data for easier integration\n",
    "income_statement = income_statement.set_index('Unnamed: 0').transpose()\n",
    "income_statement.index = pd.to_datetime(income_statement.index)\n",
    "\n",
    "# Selecting some of the key financial metrics (you can add or remove based on relevance)\n",
    "selected_metrics = [\n",
    "    'Normalized EBITDA',\n",
    "    'Total Unusual Items',\n",
    "    'Total Unusual Items Excluding Goodwill'\n",
    "]\n",
    "\n",
    "income_statement = income_statement[selected_metrics]\n",
    "\n",
    "# Merging the income statement data with the historical data\n",
    "merged_data = historical_data.join(income_statement, how='left')\n",
    "\n",
    "# Forward filling the NaN values\n",
    "merged_data[selected_metrics] = merged_data[selected_metrics].fillna(method='ffill')\n",
    "\n",
    "# Display the updated dataframe with integrated financial metrics\n",
    "merged_data.head()\n",
    "# Loading the 'Quarterly Income Statement' data for XOM\n",
    "quarterly_income_statement = df_stock.parse('Quarterly Income Statement')\n",
    "\n",
    "# Transposing the data for easier integration\n",
    "quarterly_income_statement = quarterly_income_statement.set_index('Unnamed: 0').transpose()\n",
    "quarterly_income_statement.index = pd.to_datetime(quarterly_income_statement.index)\n",
    "\n",
    "# Selecting some of the key financial metrics (you can add or remove based on relevance)\n",
    "selected_metrics_quarterly = [\n",
    "    'Normalized EBITDA',\n",
    "    'Total Unusual Items',\n",
    "    'Total Unusual Items Excluding Goodwill'\n",
    "]\n",
    "\n",
    "quarterly_income_statement = quarterly_income_statement[selected_metrics_quarterly]\n",
    "\n",
    "# Merging the quarterly income statement data with the existing dataframe\n",
    "merged_data = merged_data.join(quarterly_income_statement, how='left', rsuffix='_quarterly')\n",
    "\n",
    "# Forward filling the NaN values\n",
    "merged_data[selected_metrics_quarterly] = merged_data[selected_metrics_quarterly].fillna(method='ffill')\n",
    "\n",
    "# Display the updated dataframe with integrated quarterly financial metrics\n",
    "merged_data.head()\n",
    "# Loading the 'Cashflow' data for XOM\n",
    "cashflow = df_stock.parse('Cashflow')\n",
    "\n",
    "# Transposing the data for easier integration\n",
    "cashflow = cashflow.set_index('Unnamed: 0').transpose()\n",
    "cashflow.index = pd.to_datetime(cashflow.index)\n",
    "\n",
    "# Selecting some of the key cashflow metrics (you can add or remove based on relevance)\n",
    "selected_cashflow_metrics = [\n",
    "    'Operating Cash Flow',\n",
    "    'Capital Expenditure',\n",
    "    'Free Cash Flow'\n",
    "]\n",
    "\n",
    "cashflow = cashflow[selected_cashflow_metrics]\n",
    "\n",
    "# Merging the cashflow data with the existing dataframe\n",
    "merged_data = merged_data.join(cashflow, how='left', rsuffix='_cashflow')\n",
    "\n",
    "# Forward filling the NaN values\n",
    "merged_data[selected_cashflow_metrics] = merged_data[selected_cashflow_metrics].fillna(method='ffill')\n",
    "\n",
    "# Display the updated dataframe with integrated cashflow metrics\n",
    "merged_data.head()"
   ],
   "metadata": {
    "collapsed": false
   }
  },
  {
   "cell_type": "markdown",
   "source": [
    "## Feature Engineering\n",
    "- Medie mobili: Calcoliamo le medie mobili a breve e lungo termine per il prezzo di chiusura, che sono comuni nel trading algoritmico. Ad esempio, medie mobili a 5, 10, 30 e 50 giorni.\n",
    "- RSI (Relative Strength Index): Questo è un indicatore di momentum che può aiutare a identificare se un'azione è in condizione di \"overbought\" o \"oversold\".\n",
    "- MACD (Moving Average Convergence Divergence): Un altro indicatore di momentum.\n",
    "- Bollinger Bands: Questi sono basati su medie mobili e possono aiutare a identificare se un prezzo è relativamente alto o basso.\n",
    "- Volatilità: Potremmo calcolare la volatilità come la deviazione standard dei rendimenti giornalieri in una finestra temporale specifica."
   ],
   "metadata": {
    "collapsed": false
   }
  },
  {
   "cell_type": "code",
   "execution_count": null,
   "outputs": [],
   "source": [
    "# da dare per ogni stock\n",
    "# Moving Averages\n",
    "merged_data['MA_5'] = merged_data['Close'].rolling(window=5).mean()\n",
    "merged_data['MA_10'] = merged_data['Close'].rolling(window=10).mean()\n",
    "merged_data['MA_30'] = merged_data['Close'].rolling(window=30).mean()\n",
    "merged_data['MA_50'] = merged_data['Close'].rolling(window=50).mean()\n",
    "\n",
    "# RSI\n",
    "delta = merged_data['Close'].diff()\n",
    "gain = (delta.where(delta > 0, 0)).fillna(0)\n",
    "loss = (-delta.where(delta < 0, 0)).fillna(0)\n",
    "avg_gain = gain.rolling(window=14).mean()\n",
    "avg_loss = loss.rolling(window=14).mean()\n",
    "rs = avg_gain / avg_loss\n",
    "merged_data['RSI'] = 100 - (100 / (1 + rs))\n",
    "\n",
    "# MACD\n",
    "merged_data['MACD'] = merged_data['Close'].ewm(span=12, adjust=False).mean() - merged_data['Close'].ewm(span=26, adjust=False).mean()\n",
    "merged_data['Signal_Line'] = merged_data['MACD'].ewm(span=9, adjust=False).mean()\n",
    "\n",
    "# Bollinger Bands\n",
    "merged_data['Bollinger_Mid_Band'] = merged_data['Close'].rolling(window=20).mean()\n",
    "merged_data['Bollinger_Upper_Band']  = merged_data['Bollinger_Mid_Band'] + 1.96*merged_data['Close'].rolling(window=20).std()\n",
    "merged_data['Bollinger_Lower_Band']  = merged_data['Bollinger_Mid_Band'] - 1.96*merged_data['Close'].rolling(window=20).std()\n",
    "\n",
    "# Volatility\n",
    "merged_data['Volatility'] = merged_data['Daily_Return'].rolling(window=5).std()\n",
    "\n",
    "# Drop NaN values resulting from rolling calculations\n",
    "merged_data = merged_data.dropna()\n",
    "\n",
    "# Display the dataset with new features\n",
    "merged_data.head()"
   ],
   "metadata": {
    "collapsed": false
   }
  },
  {
   "cell_type": "code",
   "execution_count": null,
   "outputs": [],
   "source": [
    "# da fare per ogni stock\n",
    "output_filepath = \"processed_nomedellostock.xlsx\"\n",
    "merged_data.to_excel(output_filepath)\n"
   ],
   "metadata": {
    "collapsed": false
   }
  }
 ],
 "metadata": {
  "language_info": {
   "name": "python"
  },
  "kernelspec": {
   "name": "python3",
   "language": "python",
   "display_name": "Python 3 (ipykernel)"
  }
 },
 "nbformat": 4,
 "nbformat_minor": 2
}
