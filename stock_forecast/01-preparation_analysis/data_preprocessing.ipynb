{
 "cells": [
  {
   "cell_type": "markdown",
   "metadata": {},
   "source": [
    "# Data Preprocessing"
   ]
  },
  {
   "cell_type": "code",
   "execution_count": 1,
   "metadata": {
    "collapsed": false
   },
   "outputs": [],
   "source": [
    "import pandas as pd\n",
    "import numpy as np\n",
    "import os"
   ]
  },
  {
   "cell_type": "code",
   "execution_count": 2,
   "metadata": {
    "collapsed": false
   },
   "outputs": [
    {
     "data": {
      "text/plain": [
       "['./data/GS.xlsx',\n",
       " './data/1398.HK.xlsx',\n",
       " './data/BA.xlsx',\n",
       " './data/005380.KS.xlsx',\n",
       " './data/AIR.PA.xlsx',\n",
       " './data/KO.xlsx',\n",
       " './data/WMT.xlsx',\n",
       " './data/005930.KS.xlsx',\n",
       " './data/NOVN.SW.xlsx',\n",
       " './data/CVX.xlsx',\n",
       " './data/EGHT.xlsx',\n",
       " './data/MMM.xlsx',\n",
       " './data/VZ.xlsx',\n",
       " './data/JPM.xlsx',\n",
       " './data/JNJ.xlsx',\n",
       " './data/AMZN.xlsx',\n",
       " './data/9984.T.xlsx',\n",
       " './data/RDS.A.xlsx',\n",
       " './data/0700.HK.xlsx',\n",
       " './data/BE.xlsx',\n",
       " './data/AAPL.xlsx',\n",
       " './data/PFE.xlsx',\n",
       " './data/SEDG.xlsx',\n",
       " './data/MSFT.xlsx',\n",
       " './data/TM.xlsx',\n",
       " './data/VOW3.DE.xlsx',\n",
       " './data/PG.xlsx',\n",
       " './data/DB.xlsx',\n",
       " './data/UL.xlsx',\n",
       " './data/TWTR.xlsx',\n",
       " './data/XOM.xlsx',\n",
       " './data/T.xlsx']"
      ]
     },
     "execution_count": 2,
     "metadata": {},
     "output_type": "execute_result"
    }
   ],
   "source": [
    "# TODO: da rifare per ogni stock\n",
    "sheet_names = [\n",
    "    'Info',\n",
    "    'Historical',\n",
    "    'Income Statement',\n",
    "    'Quarterly Income Statement',\n",
    "    'Cashflow',\n",
    "    'Institutional Holders',\n",
    "    'Mutual Fund Holders',\n",
    "    'Major Holders'\n",
    "]\n",
    "\n",
    "#riempire stocks di tutti i vari codici, fare la retrive di tutti i file e buttarli in df_stock per poi poter lavorare su tutti i dati\n",
    "directory = \"./data\"\n",
    "stocks = [os.path.join(directory, file) for file in os.listdir(directory)]\n",
    "stocks"
   ]
  },
  {
   "cell_type": "markdown",
   "metadata": {
    "collapsed": false
   },
   "source": [
    "## Integrazione dei dati finanziarii\n",
    "Colonne aggiunte:\n",
    "- **Daily_Return**: rendimento giornaliero.\n",
    "- **Target_1day**: indica se il prezzo di chiusura del giorno successivo sarà superiore (1) o inferiore (0) rispetto al prezzo di chiusura del giorno corrente.\n",
    "- **Target_5days**: indica se il prezzo di chiusura a 5 giorni nel futuro sarà superiore (1) o inferiore (0) rispetto al prezzo di chiusura del giorno corrente.\n",
    "- **Target_30days**: indica se il prezzo di chiusura a 30 giorni nel futuro sarà superiore (1) o inferiore (0) rispetto al prezzo di chiusura del giorno corrente.\n",
    "\n",
    "Integrato i vari sheet \"Income Statement\", \"Quarterly Income Statement\" e \"Cashflow\" in un singolo excel. NB: Dato che questi fogli contengono dati finanziari annuali o trimestrali un approccio comune è portare avanti l'ultimo valore noto per ogni giorno fino a quando non si dispone di un nuovo valore. Per alcunii anni finanziari sarà Nan perché non li abbiamo.\n",
    "\n",
    "Lista delle azioni alle quali mancano pezzi:\n",
    "- **1398.HK** manca income_statement.normalized_EBITA"
   ]
  },
  {
   "cell_type": "code",
   "execution_count": 17,
   "metadata": {},
   "outputs": [
    {
     "data": {
      "text/plain": [
       "'XOM'"
      ]
     },
     "execution_count": 17,
     "metadata": {},
     "output_type": "execute_result"
    }
   ],
   "source": [
    "file = './data/XOM.xlsx'\n",
    "file.split(\"/\")[2].replace(\".\", \"\")[:-4]"
   ]
  },
  {
   "cell_type": "code",
   "execution_count": 22,
   "metadata": {
    "ExecuteTime": {
     "start_time": "2023-10-19T20:34:12.863464100Z"
    },
    "collapsed": false,
    "is_executing": true
   },
   "outputs": [
    {
     "name": "stderr",
     "output_type": "stream",
     "text": [
      "/var/folders/kl/fcwqs6xs30b3g73_r8l0_q5m0000gn/T/ipykernel_26216/1327827656.py:55: FutureWarning: DataFrame.fillna with 'method' is deprecated and will raise in a future version. Use obj.ffill() or obj.bfill() instead.\n",
      "  merged_data[selected_metrics] = merged_data[selected_metrics].fillna(method='ffill')\n",
      "/var/folders/kl/fcwqs6xs30b3g73_r8l0_q5m0000gn/T/ipykernel_26216/1327827656.py:81: FutureWarning: DataFrame.fillna with 'method' is deprecated and will raise in a future version. Use obj.ffill() or obj.bfill() instead.\n",
      "  merged_data[selected_cashflow_metrics] = merged_data[selected_cashflow_metrics].fillna(method='ffill')\n"
     ]
    },
    {
     "name": "stdout",
     "output_type": "stream",
     "text": [
      "GS\n"
     ]
    },
    {
     "name": "stderr",
     "output_type": "stream",
     "text": [
      "/var/folders/kl/fcwqs6xs30b3g73_r8l0_q5m0000gn/T/ipykernel_26216/1327827656.py:55: FutureWarning: DataFrame.fillna with 'method' is deprecated and will raise in a future version. Use obj.ffill() or obj.bfill() instead.\n",
      "  merged_data[selected_metrics] = merged_data[selected_metrics].fillna(method='ffill')\n",
      "/var/folders/kl/fcwqs6xs30b3g73_r8l0_q5m0000gn/T/ipykernel_26216/1327827656.py:81: FutureWarning: DataFrame.fillna with 'method' is deprecated and will raise in a future version. Use obj.ffill() or obj.bfill() instead.\n",
      "  merged_data[selected_cashflow_metrics] = merged_data[selected_cashflow_metrics].fillna(method='ffill')\n"
     ]
    },
    {
     "name": "stdout",
     "output_type": "stream",
     "text": [
      "1398HK\n"
     ]
    },
    {
     "name": "stderr",
     "output_type": "stream",
     "text": [
      "/var/folders/kl/fcwqs6xs30b3g73_r8l0_q5m0000gn/T/ipykernel_26216/1327827656.py:55: FutureWarning: DataFrame.fillna with 'method' is deprecated and will raise in a future version. Use obj.ffill() or obj.bfill() instead.\n",
      "  merged_data[selected_metrics] = merged_data[selected_metrics].fillna(method='ffill')\n",
      "/var/folders/kl/fcwqs6xs30b3g73_r8l0_q5m0000gn/T/ipykernel_26216/1327827656.py:81: FutureWarning: DataFrame.fillna with 'method' is deprecated and will raise in a future version. Use obj.ffill() or obj.bfill() instead.\n",
      "  merged_data[selected_cashflow_metrics] = merged_data[selected_cashflow_metrics].fillna(method='ffill')\n"
     ]
    },
    {
     "name": "stdout",
     "output_type": "stream",
     "text": [
      "BA\n"
     ]
    },
    {
     "name": "stderr",
     "output_type": "stream",
     "text": [
      "/var/folders/kl/fcwqs6xs30b3g73_r8l0_q5m0000gn/T/ipykernel_26216/1327827656.py:55: FutureWarning: DataFrame.fillna with 'method' is deprecated and will raise in a future version. Use obj.ffill() or obj.bfill() instead.\n",
      "  merged_data[selected_metrics] = merged_data[selected_metrics].fillna(method='ffill')\n",
      "/var/folders/kl/fcwqs6xs30b3g73_r8l0_q5m0000gn/T/ipykernel_26216/1327827656.py:81: FutureWarning: DataFrame.fillna with 'method' is deprecated and will raise in a future version. Use obj.ffill() or obj.bfill() instead.\n",
      "  merged_data[selected_cashflow_metrics] = merged_data[selected_cashflow_metrics].fillna(method='ffill')\n"
     ]
    },
    {
     "name": "stdout",
     "output_type": "stream",
     "text": [
      "005380KS\n"
     ]
    },
    {
     "name": "stderr",
     "output_type": "stream",
     "text": [
      "/var/folders/kl/fcwqs6xs30b3g73_r8l0_q5m0000gn/T/ipykernel_26216/1327827656.py:55: FutureWarning: DataFrame.fillna with 'method' is deprecated and will raise in a future version. Use obj.ffill() or obj.bfill() instead.\n",
      "  merged_data[selected_metrics] = merged_data[selected_metrics].fillna(method='ffill')\n",
      "/var/folders/kl/fcwqs6xs30b3g73_r8l0_q5m0000gn/T/ipykernel_26216/1327827656.py:81: FutureWarning: DataFrame.fillna with 'method' is deprecated and will raise in a future version. Use obj.ffill() or obj.bfill() instead.\n",
      "  merged_data[selected_cashflow_metrics] = merged_data[selected_cashflow_metrics].fillna(method='ffill')\n"
     ]
    },
    {
     "name": "stdout",
     "output_type": "stream",
     "text": [
      "AIRPA\n"
     ]
    },
    {
     "name": "stderr",
     "output_type": "stream",
     "text": [
      "/var/folders/kl/fcwqs6xs30b3g73_r8l0_q5m0000gn/T/ipykernel_26216/1327827656.py:55: FutureWarning: DataFrame.fillna with 'method' is deprecated and will raise in a future version. Use obj.ffill() or obj.bfill() instead.\n",
      "  merged_data[selected_metrics] = merged_data[selected_metrics].fillna(method='ffill')\n",
      "/var/folders/kl/fcwqs6xs30b3g73_r8l0_q5m0000gn/T/ipykernel_26216/1327827656.py:81: FutureWarning: DataFrame.fillna with 'method' is deprecated and will raise in a future version. Use obj.ffill() or obj.bfill() instead.\n",
      "  merged_data[selected_cashflow_metrics] = merged_data[selected_cashflow_metrics].fillna(method='ffill')\n"
     ]
    },
    {
     "name": "stdout",
     "output_type": "stream",
     "text": [
      "KO\n"
     ]
    },
    {
     "name": "stderr",
     "output_type": "stream",
     "text": [
      "/var/folders/kl/fcwqs6xs30b3g73_r8l0_q5m0000gn/T/ipykernel_26216/1327827656.py:55: FutureWarning: DataFrame.fillna with 'method' is deprecated and will raise in a future version. Use obj.ffill() or obj.bfill() instead.\n",
      "  merged_data[selected_metrics] = merged_data[selected_metrics].fillna(method='ffill')\n",
      "/var/folders/kl/fcwqs6xs30b3g73_r8l0_q5m0000gn/T/ipykernel_26216/1327827656.py:81: FutureWarning: DataFrame.fillna with 'method' is deprecated and will raise in a future version. Use obj.ffill() or obj.bfill() instead.\n",
      "  merged_data[selected_cashflow_metrics] = merged_data[selected_cashflow_metrics].fillna(method='ffill')\n"
     ]
    },
    {
     "name": "stdout",
     "output_type": "stream",
     "text": [
      "WMT\n"
     ]
    },
    {
     "name": "stderr",
     "output_type": "stream",
     "text": [
      "/var/folders/kl/fcwqs6xs30b3g73_r8l0_q5m0000gn/T/ipykernel_26216/1327827656.py:55: FutureWarning: DataFrame.fillna with 'method' is deprecated and will raise in a future version. Use obj.ffill() or obj.bfill() instead.\n",
      "  merged_data[selected_metrics] = merged_data[selected_metrics].fillna(method='ffill')\n",
      "/var/folders/kl/fcwqs6xs30b3g73_r8l0_q5m0000gn/T/ipykernel_26216/1327827656.py:81: FutureWarning: DataFrame.fillna with 'method' is deprecated and will raise in a future version. Use obj.ffill() or obj.bfill() instead.\n",
      "  merged_data[selected_cashflow_metrics] = merged_data[selected_cashflow_metrics].fillna(method='ffill')\n"
     ]
    },
    {
     "name": "stdout",
     "output_type": "stream",
     "text": [
      "005930KS\n"
     ]
    },
    {
     "name": "stderr",
     "output_type": "stream",
     "text": [
      "/var/folders/kl/fcwqs6xs30b3g73_r8l0_q5m0000gn/T/ipykernel_26216/1327827656.py:55: FutureWarning: DataFrame.fillna with 'method' is deprecated and will raise in a future version. Use obj.ffill() or obj.bfill() instead.\n",
      "  merged_data[selected_metrics] = merged_data[selected_metrics].fillna(method='ffill')\n",
      "/var/folders/kl/fcwqs6xs30b3g73_r8l0_q5m0000gn/T/ipykernel_26216/1327827656.py:81: FutureWarning: DataFrame.fillna with 'method' is deprecated and will raise in a future version. Use obj.ffill() or obj.bfill() instead.\n",
      "  merged_data[selected_cashflow_metrics] = merged_data[selected_cashflow_metrics].fillna(method='ffill')\n"
     ]
    },
    {
     "name": "stdout",
     "output_type": "stream",
     "text": [
      "NOVNSW\n"
     ]
    },
    {
     "name": "stderr",
     "output_type": "stream",
     "text": [
      "/var/folders/kl/fcwqs6xs30b3g73_r8l0_q5m0000gn/T/ipykernel_26216/1327827656.py:55: FutureWarning: DataFrame.fillna with 'method' is deprecated and will raise in a future version. Use obj.ffill() or obj.bfill() instead.\n",
      "  merged_data[selected_metrics] = merged_data[selected_metrics].fillna(method='ffill')\n",
      "/var/folders/kl/fcwqs6xs30b3g73_r8l0_q5m0000gn/T/ipykernel_26216/1327827656.py:81: FutureWarning: DataFrame.fillna with 'method' is deprecated and will raise in a future version. Use obj.ffill() or obj.bfill() instead.\n",
      "  merged_data[selected_cashflow_metrics] = merged_data[selected_cashflow_metrics].fillna(method='ffill')\n"
     ]
    },
    {
     "name": "stdout",
     "output_type": "stream",
     "text": [
      "CVX\n"
     ]
    },
    {
     "name": "stderr",
     "output_type": "stream",
     "text": [
      "/var/folders/kl/fcwqs6xs30b3g73_r8l0_q5m0000gn/T/ipykernel_26216/1327827656.py:55: FutureWarning: DataFrame.fillna with 'method' is deprecated and will raise in a future version. Use obj.ffill() or obj.bfill() instead.\n",
      "  merged_data[selected_metrics] = merged_data[selected_metrics].fillna(method='ffill')\n",
      "/var/folders/kl/fcwqs6xs30b3g73_r8l0_q5m0000gn/T/ipykernel_26216/1327827656.py:81: FutureWarning: DataFrame.fillna with 'method' is deprecated and will raise in a future version. Use obj.ffill() or obj.bfill() instead.\n",
      "  merged_data[selected_cashflow_metrics] = merged_data[selected_cashflow_metrics].fillna(method='ffill')\n"
     ]
    },
    {
     "name": "stdout",
     "output_type": "stream",
     "text": [
      "EGHT\n"
     ]
    },
    {
     "name": "stderr",
     "output_type": "stream",
     "text": [
      "/var/folders/kl/fcwqs6xs30b3g73_r8l0_q5m0000gn/T/ipykernel_26216/1327827656.py:55: FutureWarning: DataFrame.fillna with 'method' is deprecated and will raise in a future version. Use obj.ffill() or obj.bfill() instead.\n",
      "  merged_data[selected_metrics] = merged_data[selected_metrics].fillna(method='ffill')\n",
      "/var/folders/kl/fcwqs6xs30b3g73_r8l0_q5m0000gn/T/ipykernel_26216/1327827656.py:81: FutureWarning: DataFrame.fillna with 'method' is deprecated and will raise in a future version. Use obj.ffill() or obj.bfill() instead.\n",
      "  merged_data[selected_cashflow_metrics] = merged_data[selected_cashflow_metrics].fillna(method='ffill')\n"
     ]
    },
    {
     "name": "stdout",
     "output_type": "stream",
     "text": [
      "MMM\n"
     ]
    },
    {
     "name": "stderr",
     "output_type": "stream",
     "text": [
      "/var/folders/kl/fcwqs6xs30b3g73_r8l0_q5m0000gn/T/ipykernel_26216/1327827656.py:55: FutureWarning: DataFrame.fillna with 'method' is deprecated and will raise in a future version. Use obj.ffill() or obj.bfill() instead.\n",
      "  merged_data[selected_metrics] = merged_data[selected_metrics].fillna(method='ffill')\n",
      "/var/folders/kl/fcwqs6xs30b3g73_r8l0_q5m0000gn/T/ipykernel_26216/1327827656.py:81: FutureWarning: DataFrame.fillna with 'method' is deprecated and will raise in a future version. Use obj.ffill() or obj.bfill() instead.\n",
      "  merged_data[selected_cashflow_metrics] = merged_data[selected_cashflow_metrics].fillna(method='ffill')\n"
     ]
    },
    {
     "name": "stdout",
     "output_type": "stream",
     "text": [
      "VZ\n"
     ]
    },
    {
     "name": "stderr",
     "output_type": "stream",
     "text": [
      "/var/folders/kl/fcwqs6xs30b3g73_r8l0_q5m0000gn/T/ipykernel_26216/1327827656.py:55: FutureWarning: DataFrame.fillna with 'method' is deprecated and will raise in a future version. Use obj.ffill() or obj.bfill() instead.\n",
      "  merged_data[selected_metrics] = merged_data[selected_metrics].fillna(method='ffill')\n",
      "/var/folders/kl/fcwqs6xs30b3g73_r8l0_q5m0000gn/T/ipykernel_26216/1327827656.py:81: FutureWarning: DataFrame.fillna with 'method' is deprecated and will raise in a future version. Use obj.ffill() or obj.bfill() instead.\n",
      "  merged_data[selected_cashflow_metrics] = merged_data[selected_cashflow_metrics].fillna(method='ffill')\n"
     ]
    },
    {
     "name": "stdout",
     "output_type": "stream",
     "text": [
      "JPM\n"
     ]
    },
    {
     "name": "stderr",
     "output_type": "stream",
     "text": [
      "/var/folders/kl/fcwqs6xs30b3g73_r8l0_q5m0000gn/T/ipykernel_26216/1327827656.py:55: FutureWarning: DataFrame.fillna with 'method' is deprecated and will raise in a future version. Use obj.ffill() or obj.bfill() instead.\n",
      "  merged_data[selected_metrics] = merged_data[selected_metrics].fillna(method='ffill')\n",
      "/var/folders/kl/fcwqs6xs30b3g73_r8l0_q5m0000gn/T/ipykernel_26216/1327827656.py:81: FutureWarning: DataFrame.fillna with 'method' is deprecated and will raise in a future version. Use obj.ffill() or obj.bfill() instead.\n",
      "  merged_data[selected_cashflow_metrics] = merged_data[selected_cashflow_metrics].fillna(method='ffill')\n"
     ]
    },
    {
     "name": "stdout",
     "output_type": "stream",
     "text": [
      "JNJ\n"
     ]
    },
    {
     "name": "stderr",
     "output_type": "stream",
     "text": [
      "/var/folders/kl/fcwqs6xs30b3g73_r8l0_q5m0000gn/T/ipykernel_26216/1327827656.py:55: FutureWarning: DataFrame.fillna with 'method' is deprecated and will raise in a future version. Use obj.ffill() or obj.bfill() instead.\n",
      "  merged_data[selected_metrics] = merged_data[selected_metrics].fillna(method='ffill')\n",
      "/var/folders/kl/fcwqs6xs30b3g73_r8l0_q5m0000gn/T/ipykernel_26216/1327827656.py:81: FutureWarning: DataFrame.fillna with 'method' is deprecated and will raise in a future version. Use obj.ffill() or obj.bfill() instead.\n",
      "  merged_data[selected_cashflow_metrics] = merged_data[selected_cashflow_metrics].fillna(method='ffill')\n"
     ]
    },
    {
     "name": "stdout",
     "output_type": "stream",
     "text": [
      "AMZN\n"
     ]
    },
    {
     "name": "stderr",
     "output_type": "stream",
     "text": [
      "/var/folders/kl/fcwqs6xs30b3g73_r8l0_q5m0000gn/T/ipykernel_26216/1327827656.py:55: FutureWarning: DataFrame.fillna with 'method' is deprecated and will raise in a future version. Use obj.ffill() or obj.bfill() instead.\n",
      "  merged_data[selected_metrics] = merged_data[selected_metrics].fillna(method='ffill')\n",
      "/var/folders/kl/fcwqs6xs30b3g73_r8l0_q5m0000gn/T/ipykernel_26216/1327827656.py:81: FutureWarning: DataFrame.fillna with 'method' is deprecated and will raise in a future version. Use obj.ffill() or obj.bfill() instead.\n",
      "  merged_data[selected_cashflow_metrics] = merged_data[selected_cashflow_metrics].fillna(method='ffill')\n"
     ]
    },
    {
     "name": "stdout",
     "output_type": "stream",
     "text": [
      "9984T\n"
     ]
    },
    {
     "name": "stderr",
     "output_type": "stream",
     "text": [
      "/var/folders/kl/fcwqs6xs30b3g73_r8l0_q5m0000gn/T/ipykernel_26216/1327827656.py:55: FutureWarning: DataFrame.fillna with 'method' is deprecated and will raise in a future version. Use obj.ffill() or obj.bfill() instead.\n",
      "  merged_data[selected_metrics] = merged_data[selected_metrics].fillna(method='ffill')\n",
      "/var/folders/kl/fcwqs6xs30b3g73_r8l0_q5m0000gn/T/ipykernel_26216/1327827656.py:81: FutureWarning: DataFrame.fillna with 'method' is deprecated and will raise in a future version. Use obj.ffill() or obj.bfill() instead.\n",
      "  merged_data[selected_cashflow_metrics] = merged_data[selected_cashflow_metrics].fillna(method='ffill')\n"
     ]
    },
    {
     "name": "stdout",
     "output_type": "stream",
     "text": [
      "RDSA\n"
     ]
    },
    {
     "name": "stderr",
     "output_type": "stream",
     "text": [
      "/var/folders/kl/fcwqs6xs30b3g73_r8l0_q5m0000gn/T/ipykernel_26216/1327827656.py:55: FutureWarning: DataFrame.fillna with 'method' is deprecated and will raise in a future version. Use obj.ffill() or obj.bfill() instead.\n",
      "  merged_data[selected_metrics] = merged_data[selected_metrics].fillna(method='ffill')\n",
      "/var/folders/kl/fcwqs6xs30b3g73_r8l0_q5m0000gn/T/ipykernel_26216/1327827656.py:81: FutureWarning: DataFrame.fillna with 'method' is deprecated and will raise in a future version. Use obj.ffill() or obj.bfill() instead.\n",
      "  merged_data[selected_cashflow_metrics] = merged_data[selected_cashflow_metrics].fillna(method='ffill')\n",
      "/var/folders/kl/fcwqs6xs30b3g73_r8l0_q5m0000gn/T/ipykernel_26216/1327827656.py:55: FutureWarning: DataFrame.fillna with 'method' is deprecated and will raise in a future version. Use obj.ffill() or obj.bfill() instead.\n",
      "  merged_data[selected_metrics] = merged_data[selected_metrics].fillna(method='ffill')\n",
      "/var/folders/kl/fcwqs6xs30b3g73_r8l0_q5m0000gn/T/ipykernel_26216/1327827656.py:81: FutureWarning: DataFrame.fillna with 'method' is deprecated and will raise in a future version. Use obj.ffill() or obj.bfill() instead.\n",
      "  merged_data[selected_cashflow_metrics] = merged_data[selected_cashflow_metrics].fillna(method='ffill')\n"
     ]
    },
    {
     "name": "stdout",
     "output_type": "stream",
     "text": [
      "0700HK\n",
      "BE\n"
     ]
    },
    {
     "name": "stderr",
     "output_type": "stream",
     "text": [
      "/var/folders/kl/fcwqs6xs30b3g73_r8l0_q5m0000gn/T/ipykernel_26216/1327827656.py:55: FutureWarning: DataFrame.fillna with 'method' is deprecated and will raise in a future version. Use obj.ffill() or obj.bfill() instead.\n",
      "  merged_data[selected_metrics] = merged_data[selected_metrics].fillna(method='ffill')\n",
      "/var/folders/kl/fcwqs6xs30b3g73_r8l0_q5m0000gn/T/ipykernel_26216/1327827656.py:81: FutureWarning: DataFrame.fillna with 'method' is deprecated and will raise in a future version. Use obj.ffill() or obj.bfill() instead.\n",
      "  merged_data[selected_cashflow_metrics] = merged_data[selected_cashflow_metrics].fillna(method='ffill')\n"
     ]
    },
    {
     "name": "stdout",
     "output_type": "stream",
     "text": [
      "AAPL\n"
     ]
    },
    {
     "name": "stderr",
     "output_type": "stream",
     "text": [
      "/var/folders/kl/fcwqs6xs30b3g73_r8l0_q5m0000gn/T/ipykernel_26216/1327827656.py:55: FutureWarning: DataFrame.fillna with 'method' is deprecated and will raise in a future version. Use obj.ffill() or obj.bfill() instead.\n",
      "  merged_data[selected_metrics] = merged_data[selected_metrics].fillna(method='ffill')\n",
      "/var/folders/kl/fcwqs6xs30b3g73_r8l0_q5m0000gn/T/ipykernel_26216/1327827656.py:81: FutureWarning: DataFrame.fillna with 'method' is deprecated and will raise in a future version. Use obj.ffill() or obj.bfill() instead.\n",
      "  merged_data[selected_cashflow_metrics] = merged_data[selected_cashflow_metrics].fillna(method='ffill')\n",
      "/var/folders/kl/fcwqs6xs30b3g73_r8l0_q5m0000gn/T/ipykernel_26216/1327827656.py:55: FutureWarning: DataFrame.fillna with 'method' is deprecated and will raise in a future version. Use obj.ffill() or obj.bfill() instead.\n",
      "  merged_data[selected_metrics] = merged_data[selected_metrics].fillna(method='ffill')\n",
      "/var/folders/kl/fcwqs6xs30b3g73_r8l0_q5m0000gn/T/ipykernel_26216/1327827656.py:81: FutureWarning: DataFrame.fillna with 'method' is deprecated and will raise in a future version. Use obj.ffill() or obj.bfill() instead.\n",
      "  merged_data[selected_cashflow_metrics] = merged_data[selected_cashflow_metrics].fillna(method='ffill')\n"
     ]
    },
    {
     "name": "stdout",
     "output_type": "stream",
     "text": [
      "PFE\n",
      "SEDG\n"
     ]
    },
    {
     "name": "stderr",
     "output_type": "stream",
     "text": [
      "/var/folders/kl/fcwqs6xs30b3g73_r8l0_q5m0000gn/T/ipykernel_26216/1327827656.py:55: FutureWarning: DataFrame.fillna with 'method' is deprecated and will raise in a future version. Use obj.ffill() or obj.bfill() instead.\n",
      "  merged_data[selected_metrics] = merged_data[selected_metrics].fillna(method='ffill')\n",
      "/var/folders/kl/fcwqs6xs30b3g73_r8l0_q5m0000gn/T/ipykernel_26216/1327827656.py:81: FutureWarning: DataFrame.fillna with 'method' is deprecated and will raise in a future version. Use obj.ffill() or obj.bfill() instead.\n",
      "  merged_data[selected_cashflow_metrics] = merged_data[selected_cashflow_metrics].fillna(method='ffill')\n"
     ]
    },
    {
     "name": "stdout",
     "output_type": "stream",
     "text": [
      "MSFT\n"
     ]
    },
    {
     "name": "stderr",
     "output_type": "stream",
     "text": [
      "/var/folders/kl/fcwqs6xs30b3g73_r8l0_q5m0000gn/T/ipykernel_26216/1327827656.py:55: FutureWarning: DataFrame.fillna with 'method' is deprecated and will raise in a future version. Use obj.ffill() or obj.bfill() instead.\n",
      "  merged_data[selected_metrics] = merged_data[selected_metrics].fillna(method='ffill')\n",
      "/var/folders/kl/fcwqs6xs30b3g73_r8l0_q5m0000gn/T/ipykernel_26216/1327827656.py:81: FutureWarning: DataFrame.fillna with 'method' is deprecated and will raise in a future version. Use obj.ffill() or obj.bfill() instead.\n",
      "  merged_data[selected_cashflow_metrics] = merged_data[selected_cashflow_metrics].fillna(method='ffill')\n"
     ]
    },
    {
     "name": "stdout",
     "output_type": "stream",
     "text": [
      "TM\n"
     ]
    },
    {
     "name": "stderr",
     "output_type": "stream",
     "text": [
      "/var/folders/kl/fcwqs6xs30b3g73_r8l0_q5m0000gn/T/ipykernel_26216/1327827656.py:55: FutureWarning: DataFrame.fillna with 'method' is deprecated and will raise in a future version. Use obj.ffill() or obj.bfill() instead.\n",
      "  merged_data[selected_metrics] = merged_data[selected_metrics].fillna(method='ffill')\n",
      "/var/folders/kl/fcwqs6xs30b3g73_r8l0_q5m0000gn/T/ipykernel_26216/1327827656.py:81: FutureWarning: DataFrame.fillna with 'method' is deprecated and will raise in a future version. Use obj.ffill() or obj.bfill() instead.\n",
      "  merged_data[selected_cashflow_metrics] = merged_data[selected_cashflow_metrics].fillna(method='ffill')\n"
     ]
    },
    {
     "name": "stdout",
     "output_type": "stream",
     "text": [
      "VOW3DE\n"
     ]
    },
    {
     "name": "stderr",
     "output_type": "stream",
     "text": [
      "/var/folders/kl/fcwqs6xs30b3g73_r8l0_q5m0000gn/T/ipykernel_26216/1327827656.py:55: FutureWarning: DataFrame.fillna with 'method' is deprecated and will raise in a future version. Use obj.ffill() or obj.bfill() instead.\n",
      "  merged_data[selected_metrics] = merged_data[selected_metrics].fillna(method='ffill')\n",
      "/var/folders/kl/fcwqs6xs30b3g73_r8l0_q5m0000gn/T/ipykernel_26216/1327827656.py:81: FutureWarning: DataFrame.fillna with 'method' is deprecated and will raise in a future version. Use obj.ffill() or obj.bfill() instead.\n",
      "  merged_data[selected_cashflow_metrics] = merged_data[selected_cashflow_metrics].fillna(method='ffill')\n"
     ]
    },
    {
     "name": "stdout",
     "output_type": "stream",
     "text": [
      "PG\n"
     ]
    },
    {
     "name": "stderr",
     "output_type": "stream",
     "text": [
      "/var/folders/kl/fcwqs6xs30b3g73_r8l0_q5m0000gn/T/ipykernel_26216/1327827656.py:55: FutureWarning: DataFrame.fillna with 'method' is deprecated and will raise in a future version. Use obj.ffill() or obj.bfill() instead.\n",
      "  merged_data[selected_metrics] = merged_data[selected_metrics].fillna(method='ffill')\n",
      "/var/folders/kl/fcwqs6xs30b3g73_r8l0_q5m0000gn/T/ipykernel_26216/1327827656.py:81: FutureWarning: DataFrame.fillna with 'method' is deprecated and will raise in a future version. Use obj.ffill() or obj.bfill() instead.\n",
      "  merged_data[selected_cashflow_metrics] = merged_data[selected_cashflow_metrics].fillna(method='ffill')\n"
     ]
    },
    {
     "name": "stdout",
     "output_type": "stream",
     "text": [
      "DB\n"
     ]
    },
    {
     "name": "stderr",
     "output_type": "stream",
     "text": [
      "/var/folders/kl/fcwqs6xs30b3g73_r8l0_q5m0000gn/T/ipykernel_26216/1327827656.py:55: FutureWarning: DataFrame.fillna with 'method' is deprecated and will raise in a future version. Use obj.ffill() or obj.bfill() instead.\n",
      "  merged_data[selected_metrics] = merged_data[selected_metrics].fillna(method='ffill')\n",
      "/var/folders/kl/fcwqs6xs30b3g73_r8l0_q5m0000gn/T/ipykernel_26216/1327827656.py:81: FutureWarning: DataFrame.fillna with 'method' is deprecated and will raise in a future version. Use obj.ffill() or obj.bfill() instead.\n",
      "  merged_data[selected_cashflow_metrics] = merged_data[selected_cashflow_metrics].fillna(method='ffill')\n"
     ]
    },
    {
     "name": "stdout",
     "output_type": "stream",
     "text": [
      "UL\n"
     ]
    },
    {
     "name": "stderr",
     "output_type": "stream",
     "text": [
      "/var/folders/kl/fcwqs6xs30b3g73_r8l0_q5m0000gn/T/ipykernel_26216/1327827656.py:55: FutureWarning: DataFrame.fillna with 'method' is deprecated and will raise in a future version. Use obj.ffill() or obj.bfill() instead.\n",
      "  merged_data[selected_metrics] = merged_data[selected_metrics].fillna(method='ffill')\n",
      "/var/folders/kl/fcwqs6xs30b3g73_r8l0_q5m0000gn/T/ipykernel_26216/1327827656.py:81: FutureWarning: DataFrame.fillna with 'method' is deprecated and will raise in a future version. Use obj.ffill() or obj.bfill() instead.\n",
      "  merged_data[selected_cashflow_metrics] = merged_data[selected_cashflow_metrics].fillna(method='ffill')\n"
     ]
    },
    {
     "name": "stdout",
     "output_type": "stream",
     "text": [
      "TWTR\n"
     ]
    },
    {
     "name": "stderr",
     "output_type": "stream",
     "text": [
      "/var/folders/kl/fcwqs6xs30b3g73_r8l0_q5m0000gn/T/ipykernel_26216/1327827656.py:55: FutureWarning: DataFrame.fillna with 'method' is deprecated and will raise in a future version. Use obj.ffill() or obj.bfill() instead.\n",
      "  merged_data[selected_metrics] = merged_data[selected_metrics].fillna(method='ffill')\n",
      "/var/folders/kl/fcwqs6xs30b3g73_r8l0_q5m0000gn/T/ipykernel_26216/1327827656.py:81: FutureWarning: DataFrame.fillna with 'method' is deprecated and will raise in a future version. Use obj.ffill() or obj.bfill() instead.\n",
      "  merged_data[selected_cashflow_metrics] = merged_data[selected_cashflow_metrics].fillna(method='ffill')\n"
     ]
    },
    {
     "name": "stdout",
     "output_type": "stream",
     "text": [
      "XOM\n",
      "T\n"
     ]
    },
    {
     "name": "stderr",
     "output_type": "stream",
     "text": [
      "/var/folders/kl/fcwqs6xs30b3g73_r8l0_q5m0000gn/T/ipykernel_26216/1327827656.py:55: FutureWarning: DataFrame.fillna with 'method' is deprecated and will raise in a future version. Use obj.ffill() or obj.bfill() instead.\n",
      "  merged_data[selected_metrics] = merged_data[selected_metrics].fillna(method='ffill')\n",
      "/var/folders/kl/fcwqs6xs30b3g73_r8l0_q5m0000gn/T/ipykernel_26216/1327827656.py:81: FutureWarning: DataFrame.fillna with 'method' is deprecated and will raise in a future version. Use obj.ffill() or obj.bfill() instead.\n",
      "  merged_data[selected_cashflow_metrics] = merged_data[selected_cashflow_metrics].fillna(method='ffill')\n"
     ]
    }
   ],
   "source": [
    "# TODO: da fare per ogni stock\n",
    "counter = 0\n",
    "for file in stocks:\n",
    "    if file.split(\"/\")[2].replace(\".\", \"\")[:-4] != \"1398.HK\":\n",
    "        df_stock = pd.ExcelFile(file)\n",
    "        \n",
    "        # prevent false postive warnings, reference_ https://stackoverflow.com/questions/20625582/how-to-deal-with-settingwithcopywarning-in-pandas\n",
    "        pd.options.mode.chained_assignment = None # default='warn'\n",
    "        \n",
    "        # Loading the 'Historical' data stock\n",
    "        historical_data = df_stock.parse('Historical')\n",
    "        \n",
    "        # Renaming and setting the Date column\n",
    "        historical_data.rename(columns={'Unnamed: 0': 'Date'}, inplace=True)\n",
    "        historical_data['Date'] = pd.to_datetime(historical_data['Date'])\n",
    "        historical_data.set_index('Date', inplace=True)\n",
    "        # Calculate daily return\n",
    "        historical_data['Daily_Return'] = historical_data['Close'].pct_change()\n",
    "        \n",
    "        # Create target variables for next day, next 5 days and next 30 days\n",
    "        historical_data['Target_1day'] = (historical_data['Close'].shift(-1) > historical_data['Close']).astype(int)\n",
    "        historical_data['Target_5days'] = (historical_data['Close'].shift(-5) > historical_data['Close']).astype(int)\n",
    "        historical_data['Target_30days'] = (historical_data['Close'].shift(-30) > historical_data['Close']).astype(int)\n",
    "        \n",
    "        # Drop rows with NaN values (will be present due to the shifting for target creation)\n",
    "        historical_data = historical_data.dropna()\n",
    "        \n",
    "        # Loading the 'Income Statement' data for XOM\n",
    "        income_statement = df_stock.parse('Income Statement')\n",
    "        \n",
    "        # Transposing the data for easier integration\n",
    "        income_statement = income_statement.set_index('Unnamed: 0').transpose()\n",
    "        income_statement.index = pd.to_datetime(income_statement.index)\n",
    "        \n",
    "        \n",
    "        # Selecting some of the key financial metrics (you can add or remove based on relevance)\n",
    "        selected_metrics = [\n",
    "            'Normalized EBITDA',\n",
    "            'Total Unusual Items',\n",
    "            'Total Unusual Items Excluding Goodwill'\n",
    "        ]\n",
    "        \n",
    "        # check if columns exist, in case create them\n",
    "        for metric in selected_metrics:\n",
    "            if metric not in income_statement.columns:\n",
    "                income_statement[metric] = np.nan\n",
    "                \n",
    "        \n",
    "        income_statement = income_statement[selected_metrics]\n",
    "        \n",
    "        # Merging the income statement data with the historical data\n",
    "        merged_data = historical_data.join(income_statement, how='left')\n",
    "        \n",
    "        # Forward filling the NaN values\n",
    "        merged_data[selected_metrics] = merged_data[selected_metrics].fillna(method='ffill')\n",
    "        \n",
    "        # Loading the 'Cashflow' data for XOM\n",
    "        cashflow = df_stock.parse('Cashflow')\n",
    "        \n",
    "        # Transposing the data for easier integration\n",
    "        cashflow = cashflow.set_index('Unnamed: 0').transpose()\n",
    "        cashflow.index = pd.to_datetime(cashflow.index)\n",
    "        \n",
    "        # Selecting some of the key cashflow metrics (you can add or remove based on relevance)\n",
    "        selected_cashflow_metrics = [\n",
    "            'Operating Cash Flow',\n",
    "            'Capital Expenditure',\n",
    "            'Free Cash Flow'\n",
    "        ]\n",
    "        \n",
    "        for metric in selected_cashflow_metrics:\n",
    "            if metric not in cashflow.columns:\n",
    "                cashflow[metric] = np.nan\n",
    "        \n",
    "        cashflow = cashflow[selected_cashflow_metrics]\n",
    "        \n",
    "        # Merging the cashflow data with the existing dataframe\n",
    "        merged_data = merged_data.join(cashflow, how='left', rsuffix='_cashflow')\n",
    "        \n",
    "        # Forward filling the NaN values\n",
    "        merged_data[selected_cashflow_metrics] = merged_data[selected_cashflow_metrics].fillna(method='ffill')\n",
    "        \n",
    "        if 'Ticker' not in merged_data.columns:\n",
    "            merged_data['Ticker'] = file.split(\"/\")[2].replace(\".\", \"\")[:-4]\n",
    "        \n",
    "        # Display the updated dataframe with integrated cashflow metrics\n",
    "        merged_data.iloc[counter : counter + len(merged_data), merged_data.columns.get_loc(\"Ticker\")] = file.split(\"/\")[2].replace(\".\", \"\")[:-4]\n",
    "        \n",
    "        counter = len(merged_data)"
   ]
  },
  {
   "cell_type": "code",
   "execution_count": 23,
   "metadata": {},
   "outputs": [
    {
     "name": "stdout",
     "output_type": "stream",
     "text": [
      "Date\n",
      "1983-11-22    T\n",
      "1983-11-23    T\n",
      "1983-11-25    T\n",
      "1983-11-28    T\n",
      "1983-11-29    T\n",
      "             ..\n",
      "2023-10-09    T\n",
      "2023-10-10    T\n",
      "2023-10-11    T\n",
      "2023-10-12    T\n",
      "2023-10-13    T\n",
      "Name: Ticker, Length: 10055, dtype: object\n"
     ]
    }
   ],
   "source": [
    "print(merged_data.Ticker)"
   ]
  },
  {
   "cell_type": "code",
   "execution_count": null,
   "metadata": {
    "collapsed": false
   },
   "outputs": [],
   "source": [
    "# TODO: spiegare perchè togliamo i quarterly\n",
    "#merged_data.drop(columns=['Normalized EBITDA_quarterly', 'Total Unusual Items_quarterly', 'Total Unusual Items Excluding Goodwill_quarterly'], inplace=True)\n",
    "merged_data.iloc[1 : counter + len(merged_data), merged_data.columns.get_loc(\"Ticker\")] = file.split(\"/\")[1].split(\"\\\\\")[1].replace(\".\", \"\")[:-4]"
   ]
  },
  {
   "cell_type": "markdown",
   "metadata": {
    "collapsed": false
   },
   "source": [
    "## Feature Engineering\n",
    "- **Medie mobili**: Calcoliamo le medie mobili a breve e lungo termine per il prezzo di chiusura, che sono comuni nel trading algoritmico. Ad esempio, medie mobili a 5, 10, 30 e 50 giorni.\n",
    "- **RSI (Relative Strength Index)**: Questo è un indicatore di momentum che può aiutare a identificare se un'azione è in condizione di \"overbought\" o \"oversold\".\n",
    "- **MACD (Moving Average Convergence Divergence)**: Un altro indicatore di momentum.\n",
    "- **Bollinger Bands**: Questi sono basati su medie mobili e possono aiutare a identificare se un prezzo è relativamente alto o basso.\n",
    "- **Volatilità**: Potremmo calcolare la volatilità come la deviazione standard dei rendimenti giornalieri in una finestra temporale specifica."
   ]
  },
  {
   "cell_type": "code",
   "execution_count": null,
   "metadata": {
    "collapsed": false
   },
   "outputs": [],
   "source": [
    "# TODO: da fare per ogni stock\n",
    "# TODO: controllare gpt\n",
    "\n",
    "# Moving Averages\n",
    "merged_data['MA_5'] = merged_data['Close'].rolling(window=5).mean()\n",
    "merged_data['MA_10'] = merged_data['Close'].rolling(window=10).mean()\n",
    "merged_data['MA_30'] = merged_data['Close'].rolling(window=30).mean()\n",
    "merged_data['MA_50'] = merged_data['Close'].rolling(window=50).mean()\n",
    "\n",
    "# RSI\n",
    "delta = merged_data['Close'].diff()\n",
    "gain = (delta.where(delta > 0, 0)).fillna(0)\n",
    "loss = (-delta.where(delta < 0, 0)).fillna(0)\n",
    "avg_gain = gain.rolling(window=14).mean()\n",
    "avg_loss = loss.rolling(window=14).mean()\n",
    "rs = avg_gain / avg_loss\n",
    "merged_data['RSI'] = 100 - (100 / (1 + rs))\n",
    "\n",
    "# MACD\n",
    "merged_data['MACD'] = merged_data['Close'].ewm(span=12, adjust=False).mean() - merged_data['Close'].ewm(span=26, adjust=False).mean()\n",
    "merged_data['Signal_Line'] = merged_data['MACD'].ewm(span=9, adjust=False).mean()\n",
    "\n",
    "# Bollinger Bands\n",
    "merged_data['Bollinger_Mid_Band'] = merged_data['Close'].rolling(window=20).mean()\n",
    "merged_data['Bollinger_Upper_Band']  = merged_data['Bollinger_Mid_Band'] + 1.96*merged_data['Close'].rolling(window=20).std()\n",
    "merged_data['Bollinger_Lower_Band']  = merged_data['Bollinger_Mid_Band'] - 1.96*merged_data['Close'].rolling(window=20).std()\n",
    "\n",
    "# Volatility\n",
    "merged_data['Volatility'] = merged_data['Daily_Return'].rolling(window=5).std()\n",
    "\n",
    "to_drop_na = ['MA_5', 'MA_10', 'MA_30', 'MA_50', 'RSI', 'Volatility']\n",
    "\n",
    "for column in to_drop_na:\n",
    "    merged_data[column] = merged_data[column].fillna(0)\n",
    "\n",
    "# Display the dataset with new features\n",
    "merged_data"
   ]
  },
  {
   "cell_type": "code",
   "execution_count": null,
   "metadata": {
    "collapsed": false
   },
   "outputs": [],
   "source": [
    "# TODO: spiegare perche tagliamo il numero di record\n",
    "merged_data = merged_data[merged_data.index >= '2020-06-30']\n",
    "merged_data"
   ]
  },
  {
   "cell_type": "code",
   "execution_count": null,
   "metadata": {
    "ExecuteTime": {
     "end_time": "2023-10-19T15:35:59.083807100Z",
     "start_time": "2023-10-19T15:35:58.506357800Z"
    },
    "collapsed": false
   },
   "outputs": [],
   "source": [
    "# da fare per ogni stock\n",
    "output_filepath = \"processed_nomedellostock.xlsx\"\n",
    "len(merged_data)\n",
    "merged_data.to_excel(output_filepath)\n"
   ]
  }
 ],
 "metadata": {
  "kernelspec": {
   "display_name": "Python 3 (ipykernel)",
   "language": "python",
   "name": "python3"
  },
  "language_info": {
   "codemirror_mode": {
    "name": "ipython",
    "version": 3
   },
   "file_extension": ".py",
   "mimetype": "text/x-python",
   "name": "python",
   "nbconvert_exporter": "python",
   "pygments_lexer": "ipython3",
   "version": "3.11.5"
  }
 },
 "nbformat": 4,
 "nbformat_minor": 2
}
