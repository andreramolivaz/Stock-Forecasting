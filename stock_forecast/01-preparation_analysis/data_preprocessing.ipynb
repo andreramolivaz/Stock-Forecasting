{
 "cells": [
  {
   "cell_type": "markdown",
   "metadata": {},
   "source": [
    "# Data Preprocessing"
   ]
  },
  {
   "cell_type": "code",
   "execution_count": 11,
   "outputs": [],
   "source": [
    "import pandas as pd"
   ],
   "metadata": {
    "collapsed": false,
    "ExecuteTime": {
     "end_time": "2023-10-17T20:55:18.506469900Z",
     "start_time": "2023-10-17T20:55:18.480298500Z"
    }
   }
  },
  {
   "cell_type": "code",
   "execution_count": 12,
   "outputs": [],
   "source": [
    "# TODO: da rifare per ogni stock\n",
    "sheet_names = [\n",
    "    'Info',\n",
    "    'Historical',\n",
    "    'Income Statement',\n",
    "    'Quarterly Income Statement',\n",
    "    'Cashflow',\n",
    "    'Institutional Holders',\n",
    "    'Mutual Fund Holders',\n",
    "    'Major Holders'\n",
    "]\n",
    "#riempire stocks di tutti i vari codici, fare la retrive di tutti i file e buttarli in df_stock per poi poter lavorare su tutti i dati\n",
    "stocks = ['./data/MSFT.xlsx']\n",
    "df_stock = pd.ExcelFile(stocks[0])\n"
   ],
   "metadata": {
    "collapsed": false,
    "ExecuteTime": {
     "end_time": "2023-10-17T20:55:18.558533100Z",
     "start_time": "2023-10-17T20:55:18.486298400Z"
    }
   }
  },
  {
   "cell_type": "markdown",
   "source": [
    "## Integrazione dei dati finanziarii\n",
    "Colonne aggiunte:\n",
    "- **Daily_Return**: rendimento giornaliero.\n",
    "- **Target_1day**: indica se il prezzo di chiusura del giorno successivo sarà superiore (1) o inferiore (0) rispetto al prezzo di chiusura del giorno corrente.\n",
    "- **Target_5days**: indica se il prezzo di chiusura a 5 giorni nel futuro sarà superiore (1) o inferiore (0) rispetto al prezzo di chiusura del giorno corrente.\n",
    "- **Target_30days**: indica se il prezzo di chiusura a 30 giorni nel futuro sarà superiore (1) o inferiore (0) rispetto al prezzo di chiusura del giorno corrente.\n",
    "\n",
    "Integrato i vari sheet  \"Income Statement\", \"Quarterly Income Statement\" e \"Cashflow\" in un singolo excel. NB: Dato che questi fogli contengono dati finanziari annuali o trimestrali un approccio comune è portare avanti l'ultimo valore noto per ogni giorno fino a quando non si dispone di un nuovo valore. Per alcunii anni finanziari sarà Nan perché non li abbiamo."
   ],
   "metadata": {
    "collapsed": false
   }
  },
  {
   "cell_type": "code",
   "execution_count": 17,
   "outputs": [
    {
     "data": {
      "text/plain": "                  Open        High         Low       Close     Volume  \\\nDate                                                                    \n1986-03-14    0.060396    0.063632    0.060396    0.062553  308160000   \n1986-03-17    0.062553    0.064172    0.062553    0.063632  133171200   \n1986-03-18    0.063632    0.064172    0.061475    0.062014   67766400   \n1986-03-19    0.062014    0.062553    0.060396    0.060936   47894400   \n1986-03-20    0.060936    0.060936    0.058779    0.059318   58435200   \n...                ...         ...         ...         ...        ...   \n2023-10-09  324.750000  330.299988  323.179993  329.820007   19891200   \n2023-10-10  330.959991  331.100006  327.670013  328.390015   20557100   \n2023-10-11  331.209991  332.820007  329.140015  332.420013   20063200   \n2023-10-12  330.570007  333.630005  328.720001  331.160004   19313100   \n2023-10-13  332.380005  333.829987  326.359985  327.730011   21072400   \n\n            Dividends  Stock Splits  Daily_Return  Target_1day  Target_5days  \\\nDate                                                                           \n1986-03-14        0.0           0.0      0.035712            1             0   \n1986-03-17        0.0           0.0      0.017250            0             0   \n1986-03-18        0.0           0.0     -0.025432            0             0   \n1986-03-19        0.0           0.0     -0.017390            0             0   \n1986-03-20        0.0           0.0     -0.026547            0             1   \n...               ...           ...           ...          ...           ...   \n2023-10-09        0.0           0.0      0.007823            0             0   \n2023-10-10        0.0           0.0     -0.004336            1             0   \n2023-10-11        0.0           0.0      0.012272            0             0   \n2023-10-12        0.0           0.0     -0.003790            0             0   \n2023-10-13        0.0           0.0     -0.010358            0             0   \n\n            Target_30days  Normalized EBITDA  Total Unusual Items  \\\nDate                                                                \n1986-03-14              1                NaN                  NaN   \n1986-03-17              1                NaN                  NaN   \n1986-03-18              1                NaN                  NaN   \n1986-03-19              1                NaN                  NaN   \n1986-03-20              1                NaN                  NaN   \n...                   ...                ...                  ...   \n2023-10-09              0       1.023840e+11          -15000000.0   \n2023-10-10              0       1.023840e+11          -15000000.0   \n2023-10-11              0       1.023840e+11          -15000000.0   \n2023-10-12              0       1.023840e+11          -15000000.0   \n2023-10-13              0       1.023840e+11          -15000000.0   \n\n            Total Unusual Items Excluding Goodwill  \\\nDate                                                 \n1986-03-14                                     NaN   \n1986-03-17                                     NaN   \n1986-03-18                                     NaN   \n1986-03-19                                     NaN   \n1986-03-20                                     NaN   \n...                                            ...   \n2023-10-09                             -15000000.0   \n2023-10-10                             -15000000.0   \n2023-10-11                             -15000000.0   \n2023-10-12                             -15000000.0   \n2023-10-13                             -15000000.0   \n\n            Normalized EBITDA_quarterly  Total Unusual Items_quarterly  \\\nDate                                                                     \n1986-03-14                          NaN                            NaN   \n1986-03-17                          NaN                            NaN   \n1986-03-18                          NaN                            NaN   \n1986-03-19                          NaN                            NaN   \n1986-03-20                          NaN                            NaN   \n...                                 ...                            ...   \n2023-10-09                          NaN                            NaN   \n2023-10-10                          NaN                            NaN   \n2023-10-11                          NaN                            NaN   \n2023-10-12                          NaN                            NaN   \n2023-10-13                          NaN                            NaN   \n\n            Total Unusual Items Excluding Goodwill_quarterly  \\\nDate                                                           \n1986-03-14                                               NaN   \n1986-03-17                                               NaN   \n1986-03-18                                               NaN   \n1986-03-19                                               NaN   \n1986-03-20                                               NaN   \n...                                                      ...   \n2023-10-09                                               NaN   \n2023-10-10                                               NaN   \n2023-10-11                                               NaN   \n2023-10-12                                               NaN   \n2023-10-13                                               NaN   \n\n            Operating Cash Flow  Capital Expenditure  Free Cash Flow  \nDate                                                                  \n1986-03-14                  NaN                  NaN             NaN  \n1986-03-17                  NaN                  NaN             NaN  \n1986-03-18                  NaN                  NaN             NaN  \n1986-03-19                  NaN                  NaN             NaN  \n1986-03-20                  NaN                  NaN             NaN  \n...                         ...                  ...             ...  \n2023-10-09         8.758200e+10        -2.810700e+10    5.947500e+10  \n2023-10-10         8.758200e+10        -2.810700e+10    5.947500e+10  \n2023-10-11         8.758200e+10        -2.810700e+10    5.947500e+10  \n2023-10-12         8.758200e+10        -2.810700e+10    5.947500e+10  \n2023-10-13         8.758200e+10        -2.810700e+10    5.947500e+10  \n\n[9473 rows x 20 columns]",
      "text/html": "<div>\n<style scoped>\n    .dataframe tbody tr th:only-of-type {\n        vertical-align: middle;\n    }\n\n    .dataframe tbody tr th {\n        vertical-align: top;\n    }\n\n    .dataframe thead th {\n        text-align: right;\n    }\n</style>\n<table border=\"1\" class=\"dataframe\">\n  <thead>\n    <tr style=\"text-align: right;\">\n      <th></th>\n      <th>Open</th>\n      <th>High</th>\n      <th>Low</th>\n      <th>Close</th>\n      <th>Volume</th>\n      <th>Dividends</th>\n      <th>Stock Splits</th>\n      <th>Daily_Return</th>\n      <th>Target_1day</th>\n      <th>Target_5days</th>\n      <th>Target_30days</th>\n      <th>Normalized EBITDA</th>\n      <th>Total Unusual Items</th>\n      <th>Total Unusual Items Excluding Goodwill</th>\n      <th>Normalized EBITDA_quarterly</th>\n      <th>Total Unusual Items_quarterly</th>\n      <th>Total Unusual Items Excluding Goodwill_quarterly</th>\n      <th>Operating Cash Flow</th>\n      <th>Capital Expenditure</th>\n      <th>Free Cash Flow</th>\n    </tr>\n    <tr>\n      <th>Date</th>\n      <th></th>\n      <th></th>\n      <th></th>\n      <th></th>\n      <th></th>\n      <th></th>\n      <th></th>\n      <th></th>\n      <th></th>\n      <th></th>\n      <th></th>\n      <th></th>\n      <th></th>\n      <th></th>\n      <th></th>\n      <th></th>\n      <th></th>\n      <th></th>\n      <th></th>\n      <th></th>\n    </tr>\n  </thead>\n  <tbody>\n    <tr>\n      <th>1986-03-14</th>\n      <td>0.060396</td>\n      <td>0.063632</td>\n      <td>0.060396</td>\n      <td>0.062553</td>\n      <td>308160000</td>\n      <td>0.0</td>\n      <td>0.0</td>\n      <td>0.035712</td>\n      <td>1</td>\n      <td>0</td>\n      <td>1</td>\n      <td>NaN</td>\n      <td>NaN</td>\n      <td>NaN</td>\n      <td>NaN</td>\n      <td>NaN</td>\n      <td>NaN</td>\n      <td>NaN</td>\n      <td>NaN</td>\n      <td>NaN</td>\n    </tr>\n    <tr>\n      <th>1986-03-17</th>\n      <td>0.062553</td>\n      <td>0.064172</td>\n      <td>0.062553</td>\n      <td>0.063632</td>\n      <td>133171200</td>\n      <td>0.0</td>\n      <td>0.0</td>\n      <td>0.017250</td>\n      <td>0</td>\n      <td>0</td>\n      <td>1</td>\n      <td>NaN</td>\n      <td>NaN</td>\n      <td>NaN</td>\n      <td>NaN</td>\n      <td>NaN</td>\n      <td>NaN</td>\n      <td>NaN</td>\n      <td>NaN</td>\n      <td>NaN</td>\n    </tr>\n    <tr>\n      <th>1986-03-18</th>\n      <td>0.063632</td>\n      <td>0.064172</td>\n      <td>0.061475</td>\n      <td>0.062014</td>\n      <td>67766400</td>\n      <td>0.0</td>\n      <td>0.0</td>\n      <td>-0.025432</td>\n      <td>0</td>\n      <td>0</td>\n      <td>1</td>\n      <td>NaN</td>\n      <td>NaN</td>\n      <td>NaN</td>\n      <td>NaN</td>\n      <td>NaN</td>\n      <td>NaN</td>\n      <td>NaN</td>\n      <td>NaN</td>\n      <td>NaN</td>\n    </tr>\n    <tr>\n      <th>1986-03-19</th>\n      <td>0.062014</td>\n      <td>0.062553</td>\n      <td>0.060396</td>\n      <td>0.060936</td>\n      <td>47894400</td>\n      <td>0.0</td>\n      <td>0.0</td>\n      <td>-0.017390</td>\n      <td>0</td>\n      <td>0</td>\n      <td>1</td>\n      <td>NaN</td>\n      <td>NaN</td>\n      <td>NaN</td>\n      <td>NaN</td>\n      <td>NaN</td>\n      <td>NaN</td>\n      <td>NaN</td>\n      <td>NaN</td>\n      <td>NaN</td>\n    </tr>\n    <tr>\n      <th>1986-03-20</th>\n      <td>0.060936</td>\n      <td>0.060936</td>\n      <td>0.058779</td>\n      <td>0.059318</td>\n      <td>58435200</td>\n      <td>0.0</td>\n      <td>0.0</td>\n      <td>-0.026547</td>\n      <td>0</td>\n      <td>1</td>\n      <td>1</td>\n      <td>NaN</td>\n      <td>NaN</td>\n      <td>NaN</td>\n      <td>NaN</td>\n      <td>NaN</td>\n      <td>NaN</td>\n      <td>NaN</td>\n      <td>NaN</td>\n      <td>NaN</td>\n    </tr>\n    <tr>\n      <th>...</th>\n      <td>...</td>\n      <td>...</td>\n      <td>...</td>\n      <td>...</td>\n      <td>...</td>\n      <td>...</td>\n      <td>...</td>\n      <td>...</td>\n      <td>...</td>\n      <td>...</td>\n      <td>...</td>\n      <td>...</td>\n      <td>...</td>\n      <td>...</td>\n      <td>...</td>\n      <td>...</td>\n      <td>...</td>\n      <td>...</td>\n      <td>...</td>\n      <td>...</td>\n    </tr>\n    <tr>\n      <th>2023-10-09</th>\n      <td>324.750000</td>\n      <td>330.299988</td>\n      <td>323.179993</td>\n      <td>329.820007</td>\n      <td>19891200</td>\n      <td>0.0</td>\n      <td>0.0</td>\n      <td>0.007823</td>\n      <td>0</td>\n      <td>0</td>\n      <td>0</td>\n      <td>1.023840e+11</td>\n      <td>-15000000.0</td>\n      <td>-15000000.0</td>\n      <td>NaN</td>\n      <td>NaN</td>\n      <td>NaN</td>\n      <td>8.758200e+10</td>\n      <td>-2.810700e+10</td>\n      <td>5.947500e+10</td>\n    </tr>\n    <tr>\n      <th>2023-10-10</th>\n      <td>330.959991</td>\n      <td>331.100006</td>\n      <td>327.670013</td>\n      <td>328.390015</td>\n      <td>20557100</td>\n      <td>0.0</td>\n      <td>0.0</td>\n      <td>-0.004336</td>\n      <td>1</td>\n      <td>0</td>\n      <td>0</td>\n      <td>1.023840e+11</td>\n      <td>-15000000.0</td>\n      <td>-15000000.0</td>\n      <td>NaN</td>\n      <td>NaN</td>\n      <td>NaN</td>\n      <td>8.758200e+10</td>\n      <td>-2.810700e+10</td>\n      <td>5.947500e+10</td>\n    </tr>\n    <tr>\n      <th>2023-10-11</th>\n      <td>331.209991</td>\n      <td>332.820007</td>\n      <td>329.140015</td>\n      <td>332.420013</td>\n      <td>20063200</td>\n      <td>0.0</td>\n      <td>0.0</td>\n      <td>0.012272</td>\n      <td>0</td>\n      <td>0</td>\n      <td>0</td>\n      <td>1.023840e+11</td>\n      <td>-15000000.0</td>\n      <td>-15000000.0</td>\n      <td>NaN</td>\n      <td>NaN</td>\n      <td>NaN</td>\n      <td>8.758200e+10</td>\n      <td>-2.810700e+10</td>\n      <td>5.947500e+10</td>\n    </tr>\n    <tr>\n      <th>2023-10-12</th>\n      <td>330.570007</td>\n      <td>333.630005</td>\n      <td>328.720001</td>\n      <td>331.160004</td>\n      <td>19313100</td>\n      <td>0.0</td>\n      <td>0.0</td>\n      <td>-0.003790</td>\n      <td>0</td>\n      <td>0</td>\n      <td>0</td>\n      <td>1.023840e+11</td>\n      <td>-15000000.0</td>\n      <td>-15000000.0</td>\n      <td>NaN</td>\n      <td>NaN</td>\n      <td>NaN</td>\n      <td>8.758200e+10</td>\n      <td>-2.810700e+10</td>\n      <td>5.947500e+10</td>\n    </tr>\n    <tr>\n      <th>2023-10-13</th>\n      <td>332.380005</td>\n      <td>333.829987</td>\n      <td>326.359985</td>\n      <td>327.730011</td>\n      <td>21072400</td>\n      <td>0.0</td>\n      <td>0.0</td>\n      <td>-0.010358</td>\n      <td>0</td>\n      <td>0</td>\n      <td>0</td>\n      <td>1.023840e+11</td>\n      <td>-15000000.0</td>\n      <td>-15000000.0</td>\n      <td>NaN</td>\n      <td>NaN</td>\n      <td>NaN</td>\n      <td>8.758200e+10</td>\n      <td>-2.810700e+10</td>\n      <td>5.947500e+10</td>\n    </tr>\n  </tbody>\n</table>\n<p>9473 rows × 20 columns</p>\n</div>"
     },
     "execution_count": 17,
     "metadata": {},
     "output_type": "execute_result"
    }
   ],
   "source": [
    "# TODO: da fare per ogni stock\n",
    "\n",
    "# prevent false postive warnings, reference_ https://stackoverflow.com/questions/20625582/how-to-deal-with-settingwithcopywarning-in-pandas\n",
    "pd.options.mode.chained_assignment = None # default='warn'\n",
    "\n",
    "# Loading the 'Historical' data stock\n",
    "historical_data = df_stock.parse('Historical')\n",
    "\n",
    "# Renaming and setting the Date column\n",
    "historical_data.rename(columns={'Unnamed: 0': 'Date'}, inplace=True)\n",
    "historical_data['Date'] = pd.to_datetime(historical_data['Date'])\n",
    "historical_data.set_index('Date', inplace=True)\n",
    "\n",
    "# Calculate daily return\n",
    "historical_data['Daily_Return'] = historical_data['Close'].pct_change()\n",
    "\n",
    "# Create target variables for next day, next 5 days and next 30 days\n",
    "historical_data['Target_1day'] = (historical_data['Close'].shift(-1) > historical_data['Close']).astype(int)\n",
    "historical_data['Target_5days'] = (historical_data['Close'].shift(-5) > historical_data['Close']).astype(int)\n",
    "historical_data['Target_30days'] = (historical_data['Close'].shift(-30) > historical_data['Close']).astype(int)\n",
    "\n",
    "# Drop rows with NaN values (will be present due to the shifting for target creation)\n",
    "historical_data = historical_data.dropna()\n",
    "\n",
    "# Loading the 'Income Statement' data for XOM\n",
    "income_statement = df_stock.parse('Income Statement')\n",
    "\n",
    "# Transposing the data for easier integration\n",
    "income_statement = income_statement.set_index('Unnamed: 0').transpose()\n",
    "income_statement.index = pd.to_datetime(income_statement.index)\n",
    "\n",
    "# Selecting some of the key financial metrics (you can add or remove based on relevance)\n",
    "selected_metrics = [\n",
    "    'Normalized EBITDA',\n",
    "    'Total Unusual Items',\n",
    "    'Total Unusual Items Excluding Goodwill'\n",
    "]\n",
    "\n",
    "income_statement = income_statement[selected_metrics]\n",
    "\n",
    "# Merging the income statement data with the historical data\n",
    "merged_data = historical_data.join(income_statement, how='left')\n",
    "\n",
    "# Forward filling the NaN values\n",
    "merged_data[selected_metrics] = merged_data[selected_metrics].fillna(method='ffill')\n",
    "\n",
    "# Loading the 'Quarterly Income Statement' data for XOM\n",
    "quarterly_income_statement = df_stock.parse('Quarterly Income Statement')\n",
    "\n",
    "# Transposing the data for easier integration\n",
    "quarterly_income_statement = quarterly_income_statement.set_index('Unnamed: 0').transpose()\n",
    "quarterly_income_statement.index = pd.to_datetime(quarterly_income_statement.index)\n",
    "\n",
    "# Selecting some of the key financial metrics (you can add or remove based on relevance)\n",
    "selected_metrics_quarterly = [\n",
    "    'Normalized EBITDA',\n",
    "    'Total Unusual Items',\n",
    "    'Total Unusual Items Excluding Goodwill'\n",
    "]\n",
    "\n",
    "quarterly_income_statement = quarterly_income_statement[selected_metrics_quarterly]\n",
    "\n",
    "# Merging the quarterly income statement data with the existing dataframe\n",
    "merged_data = merged_data.join(quarterly_income_statement, how='left', rsuffix='_quarterly')\n",
    "\n",
    "# Forward filling the NaN values\n",
    "merged_data[selected_metrics_quarterly] = merged_data[selected_metrics_quarterly].fillna(method='ffill')\n",
    "\n",
    "# Loading the 'Cashflow' data for XOM\n",
    "cashflow = df_stock.parse('Cashflow')\n",
    "\n",
    "# Transposing the data for easier integration\n",
    "cashflow = cashflow.set_index('Unnamed: 0').transpose()\n",
    "cashflow.index = pd.to_datetime(cashflow.index)\n",
    "\n",
    "# Selecting some of the key cashflow metrics (you can add or remove based on relevance)\n",
    "selected_cashflow_metrics = [\n",
    "    'Operating Cash Flow',\n",
    "    'Capital Expenditure',\n",
    "    'Free Cash Flow'\n",
    "]\n",
    "\n",
    "cashflow = cashflow[selected_cashflow_metrics]\n",
    "\n",
    "# Merging the cashflow data with the existing dataframe\n",
    "merged_data = merged_data.join(cashflow, how='left', rsuffix='_cashflow')\n",
    "\n",
    "# Forward filling the NaN values\n",
    "merged_data[selected_cashflow_metrics] = merged_data[selected_cashflow_metrics].fillna(method='ffill')\n",
    "\n",
    "# Display the updated dataframe with integrated cashflow metrics\n",
    "merged_data"
   ],
   "metadata": {
    "collapsed": false,
    "ExecuteTime": {
     "end_time": "2023-10-17T20:57:21.141707900Z",
     "start_time": "2023-10-17T20:57:19.971198600Z"
    }
   }
  },
  {
   "cell_type": "markdown",
   "source": [
    "## Feature Engineering\n",
    "- **Medie mobili**: Calcoliamo le medie mobili a breve e lungo termine per il prezzo di chiusura, che sono comuni nel trading algoritmico. Ad esempio, medie mobili a 5, 10, 30 e 50 giorni.\n",
    "- **RSI (Relative Strength Index)**: Questo è un indicatore di momentum che può aiutare a identificare se un'azione è in condizione di \"overbought\" o \"oversold\".\n",
    "- **MACD (Moving Average Convergence Divergence)**: Un altro indicatore di momentum.\n",
    "- **Bollinger Bands**: Questi sono basati su medie mobili e possono aiutare a identificare se un prezzo è relativamente alto o basso.\n",
    "- **Volatilità**: Potremmo calcolare la volatilità come la deviazione standard dei rendimenti giornalieri in una finestra temporale specifica."
   ],
   "metadata": {
    "collapsed": false
   }
  },
  {
   "cell_type": "code",
   "execution_count": 19,
   "outputs": [
    {
     "data": {
      "text/plain": "                  Open        High         Low       Close     Volume  \\\nDate                                                                    \n1986-03-14    0.060396    0.063632    0.060396    0.062553  308160000   \n1986-03-17    0.062553    0.064172    0.062553    0.063632  133171200   \n1986-03-18    0.063632    0.064172    0.061475    0.062014   67766400   \n1986-03-19    0.062014    0.062553    0.060396    0.060936   47894400   \n1986-03-20    0.060936    0.060936    0.058779    0.059318   58435200   \n...                ...         ...         ...         ...        ...   \n2023-10-09  324.750000  330.299988  323.179993  329.820007   19891200   \n2023-10-10  330.959991  331.100006  327.670013  328.390015   20557100   \n2023-10-11  331.209991  332.820007  329.140015  332.420013   20063200   \n2023-10-12  330.570007  333.630005  328.720001  331.160004   19313100   \n2023-10-13  332.380005  333.829987  326.359985  327.730011   21072400   \n\n            Dividends  Stock Splits  Daily_Return  Target_1day  Target_5days  \\\nDate                                                                           \n1986-03-14        0.0           0.0      0.035712            1             0   \n1986-03-17        0.0           0.0      0.017250            0             0   \n1986-03-18        0.0           0.0     -0.025432            0             0   \n1986-03-19        0.0           0.0     -0.017390            0             0   \n1986-03-20        0.0           0.0     -0.026547            0             1   \n...               ...           ...           ...          ...           ...   \n2023-10-09        0.0           0.0      0.007823            0             0   \n2023-10-10        0.0           0.0     -0.004336            1             0   \n2023-10-11        0.0           0.0      0.012272            0             0   \n2023-10-12        0.0           0.0     -0.003790            0             0   \n2023-10-13        0.0           0.0     -0.010358            0             0   \n\n            ...       MA_10       MA_30       MA_50        RSI      MACD  \\\nDate        ...                                                            \n1986-03-14  ...    0.000000    0.000000    0.000000   0.000000  0.000000   \n1986-03-17  ...    0.000000    0.000000    0.000000   0.000000  0.000086   \n1986-03-18  ...    0.000000    0.000000    0.000000   0.000000  0.000023   \n1986-03-19  ...    0.000000    0.000000    0.000000   0.000000 -0.000112   \n1986-03-20  ...    0.000000    0.000000    0.000000   0.000000 -0.000346   \n...         ...         ...         ...         ...        ...       ...   \n2023-10-09  ...  318.491003  325.336335  324.845659  51.123502 -1.361400   \n2023-10-10  ...  320.116003  325.492669  324.709253  58.351646 -0.729112   \n2023-10-11  ...  322.079004  325.626336  324.645065  63.313404  0.096061   \n2023-10-12  ...  323.831003  325.705335  324.732104  65.005317  0.640955   \n2023-10-13  ...  325.029004  325.704336  324.767307  60.179838  0.786945   \n\n            Signal_Line  Bollinger_Mid_Band  Bollinger_Upper_Band  \\\nDate                                                                \n1986-03-14     0.000000                 NaN                   NaN   \n1986-03-17     0.000017                 NaN                   NaN   \n1986-03-18     0.000018                 NaN                   NaN   \n1986-03-19    -0.000008                 NaN                   NaN   \n1986-03-20    -0.000075                 NaN                   NaN   \n...                 ...                 ...                   ...   \n2023-10-09    -2.545405          322.711002            338.584228   \n2023-10-10    -2.182147          322.542003            338.091020   \n2023-10-11    -1.726505          322.360004            337.340635   \n2023-10-12    -1.253013          321.983003            335.603516   \n2023-10-13    -0.845022          321.858504            335.215728   \n\n            Bollinger_Lower_Band  Volatility  \nDate                                          \n1986-03-14                   NaN    0.000000  \n1986-03-17                   NaN    0.000000  \n1986-03-18                   NaN    0.000000  \n1986-03-19                   NaN    0.000000  \n1986-03-20                   NaN    0.028165  \n...                          ...         ...  \n2023-10-09            306.837775    0.019647  \n2023-10-10            306.992986    0.011862  \n2023-10-11            307.379372    0.011130  \n2023-10-12            308.362490    0.012118  \n2023-10-13            308.501279    0.009377  \n\n[9473 rows x 31 columns]",
      "text/html": "<div>\n<style scoped>\n    .dataframe tbody tr th:only-of-type {\n        vertical-align: middle;\n    }\n\n    .dataframe tbody tr th {\n        vertical-align: top;\n    }\n\n    .dataframe thead th {\n        text-align: right;\n    }\n</style>\n<table border=\"1\" class=\"dataframe\">\n  <thead>\n    <tr style=\"text-align: right;\">\n      <th></th>\n      <th>Open</th>\n      <th>High</th>\n      <th>Low</th>\n      <th>Close</th>\n      <th>Volume</th>\n      <th>Dividends</th>\n      <th>Stock Splits</th>\n      <th>Daily_Return</th>\n      <th>Target_1day</th>\n      <th>Target_5days</th>\n      <th>...</th>\n      <th>MA_10</th>\n      <th>MA_30</th>\n      <th>MA_50</th>\n      <th>RSI</th>\n      <th>MACD</th>\n      <th>Signal_Line</th>\n      <th>Bollinger_Mid_Band</th>\n      <th>Bollinger_Upper_Band</th>\n      <th>Bollinger_Lower_Band</th>\n      <th>Volatility</th>\n    </tr>\n    <tr>\n      <th>Date</th>\n      <th></th>\n      <th></th>\n      <th></th>\n      <th></th>\n      <th></th>\n      <th></th>\n      <th></th>\n      <th></th>\n      <th></th>\n      <th></th>\n      <th></th>\n      <th></th>\n      <th></th>\n      <th></th>\n      <th></th>\n      <th></th>\n      <th></th>\n      <th></th>\n      <th></th>\n      <th></th>\n      <th></th>\n    </tr>\n  </thead>\n  <tbody>\n    <tr>\n      <th>1986-03-14</th>\n      <td>0.060396</td>\n      <td>0.063632</td>\n      <td>0.060396</td>\n      <td>0.062553</td>\n      <td>308160000</td>\n      <td>0.0</td>\n      <td>0.0</td>\n      <td>0.035712</td>\n      <td>1</td>\n      <td>0</td>\n      <td>...</td>\n      <td>0.000000</td>\n      <td>0.000000</td>\n      <td>0.000000</td>\n      <td>0.000000</td>\n      <td>0.000000</td>\n      <td>0.000000</td>\n      <td>NaN</td>\n      <td>NaN</td>\n      <td>NaN</td>\n      <td>0.000000</td>\n    </tr>\n    <tr>\n      <th>1986-03-17</th>\n      <td>0.062553</td>\n      <td>0.064172</td>\n      <td>0.062553</td>\n      <td>0.063632</td>\n      <td>133171200</td>\n      <td>0.0</td>\n      <td>0.0</td>\n      <td>0.017250</td>\n      <td>0</td>\n      <td>0</td>\n      <td>...</td>\n      <td>0.000000</td>\n      <td>0.000000</td>\n      <td>0.000000</td>\n      <td>0.000000</td>\n      <td>0.000086</td>\n      <td>0.000017</td>\n      <td>NaN</td>\n      <td>NaN</td>\n      <td>NaN</td>\n      <td>0.000000</td>\n    </tr>\n    <tr>\n      <th>1986-03-18</th>\n      <td>0.063632</td>\n      <td>0.064172</td>\n      <td>0.061475</td>\n      <td>0.062014</td>\n      <td>67766400</td>\n      <td>0.0</td>\n      <td>0.0</td>\n      <td>-0.025432</td>\n      <td>0</td>\n      <td>0</td>\n      <td>...</td>\n      <td>0.000000</td>\n      <td>0.000000</td>\n      <td>0.000000</td>\n      <td>0.000000</td>\n      <td>0.000023</td>\n      <td>0.000018</td>\n      <td>NaN</td>\n      <td>NaN</td>\n      <td>NaN</td>\n      <td>0.000000</td>\n    </tr>\n    <tr>\n      <th>1986-03-19</th>\n      <td>0.062014</td>\n      <td>0.062553</td>\n      <td>0.060396</td>\n      <td>0.060936</td>\n      <td>47894400</td>\n      <td>0.0</td>\n      <td>0.0</td>\n      <td>-0.017390</td>\n      <td>0</td>\n      <td>0</td>\n      <td>...</td>\n      <td>0.000000</td>\n      <td>0.000000</td>\n      <td>0.000000</td>\n      <td>0.000000</td>\n      <td>-0.000112</td>\n      <td>-0.000008</td>\n      <td>NaN</td>\n      <td>NaN</td>\n      <td>NaN</td>\n      <td>0.000000</td>\n    </tr>\n    <tr>\n      <th>1986-03-20</th>\n      <td>0.060936</td>\n      <td>0.060936</td>\n      <td>0.058779</td>\n      <td>0.059318</td>\n      <td>58435200</td>\n      <td>0.0</td>\n      <td>0.0</td>\n      <td>-0.026547</td>\n      <td>0</td>\n      <td>1</td>\n      <td>...</td>\n      <td>0.000000</td>\n      <td>0.000000</td>\n      <td>0.000000</td>\n      <td>0.000000</td>\n      <td>-0.000346</td>\n      <td>-0.000075</td>\n      <td>NaN</td>\n      <td>NaN</td>\n      <td>NaN</td>\n      <td>0.028165</td>\n    </tr>\n    <tr>\n      <th>...</th>\n      <td>...</td>\n      <td>...</td>\n      <td>...</td>\n      <td>...</td>\n      <td>...</td>\n      <td>...</td>\n      <td>...</td>\n      <td>...</td>\n      <td>...</td>\n      <td>...</td>\n      <td>...</td>\n      <td>...</td>\n      <td>...</td>\n      <td>...</td>\n      <td>...</td>\n      <td>...</td>\n      <td>...</td>\n      <td>...</td>\n      <td>...</td>\n      <td>...</td>\n      <td>...</td>\n    </tr>\n    <tr>\n      <th>2023-10-09</th>\n      <td>324.750000</td>\n      <td>330.299988</td>\n      <td>323.179993</td>\n      <td>329.820007</td>\n      <td>19891200</td>\n      <td>0.0</td>\n      <td>0.0</td>\n      <td>0.007823</td>\n      <td>0</td>\n      <td>0</td>\n      <td>...</td>\n      <td>318.491003</td>\n      <td>325.336335</td>\n      <td>324.845659</td>\n      <td>51.123502</td>\n      <td>-1.361400</td>\n      <td>-2.545405</td>\n      <td>322.711002</td>\n      <td>338.584228</td>\n      <td>306.837775</td>\n      <td>0.019647</td>\n    </tr>\n    <tr>\n      <th>2023-10-10</th>\n      <td>330.959991</td>\n      <td>331.100006</td>\n      <td>327.670013</td>\n      <td>328.390015</td>\n      <td>20557100</td>\n      <td>0.0</td>\n      <td>0.0</td>\n      <td>-0.004336</td>\n      <td>1</td>\n      <td>0</td>\n      <td>...</td>\n      <td>320.116003</td>\n      <td>325.492669</td>\n      <td>324.709253</td>\n      <td>58.351646</td>\n      <td>-0.729112</td>\n      <td>-2.182147</td>\n      <td>322.542003</td>\n      <td>338.091020</td>\n      <td>306.992986</td>\n      <td>0.011862</td>\n    </tr>\n    <tr>\n      <th>2023-10-11</th>\n      <td>331.209991</td>\n      <td>332.820007</td>\n      <td>329.140015</td>\n      <td>332.420013</td>\n      <td>20063200</td>\n      <td>0.0</td>\n      <td>0.0</td>\n      <td>0.012272</td>\n      <td>0</td>\n      <td>0</td>\n      <td>...</td>\n      <td>322.079004</td>\n      <td>325.626336</td>\n      <td>324.645065</td>\n      <td>63.313404</td>\n      <td>0.096061</td>\n      <td>-1.726505</td>\n      <td>322.360004</td>\n      <td>337.340635</td>\n      <td>307.379372</td>\n      <td>0.011130</td>\n    </tr>\n    <tr>\n      <th>2023-10-12</th>\n      <td>330.570007</td>\n      <td>333.630005</td>\n      <td>328.720001</td>\n      <td>331.160004</td>\n      <td>19313100</td>\n      <td>0.0</td>\n      <td>0.0</td>\n      <td>-0.003790</td>\n      <td>0</td>\n      <td>0</td>\n      <td>...</td>\n      <td>323.831003</td>\n      <td>325.705335</td>\n      <td>324.732104</td>\n      <td>65.005317</td>\n      <td>0.640955</td>\n      <td>-1.253013</td>\n      <td>321.983003</td>\n      <td>335.603516</td>\n      <td>308.362490</td>\n      <td>0.012118</td>\n    </tr>\n    <tr>\n      <th>2023-10-13</th>\n      <td>332.380005</td>\n      <td>333.829987</td>\n      <td>326.359985</td>\n      <td>327.730011</td>\n      <td>21072400</td>\n      <td>0.0</td>\n      <td>0.0</td>\n      <td>-0.010358</td>\n      <td>0</td>\n      <td>0</td>\n      <td>...</td>\n      <td>325.029004</td>\n      <td>325.704336</td>\n      <td>324.767307</td>\n      <td>60.179838</td>\n      <td>0.786945</td>\n      <td>-0.845022</td>\n      <td>321.858504</td>\n      <td>335.215728</td>\n      <td>308.501279</td>\n      <td>0.009377</td>\n    </tr>\n  </tbody>\n</table>\n<p>9473 rows × 31 columns</p>\n</div>"
     },
     "execution_count": 19,
     "metadata": {},
     "output_type": "execute_result"
    }
   ],
   "source": [
    "# TODO: da fare per ogni stock\n",
    "# TODO: controllare gpt\n",
    "\n",
    "# Moving Averages\n",
    "merged_data['MA_5'] = merged_data['Close'].rolling(window=5).mean()\n",
    "merged_data['MA_10'] = merged_data['Close'].rolling(window=10).mean()\n",
    "merged_data['MA_30'] = merged_data['Close'].rolling(window=30).mean()\n",
    "merged_data['MA_50'] = merged_data['Close'].rolling(window=50).mean()\n",
    "\n",
    "# RSI\n",
    "delta = merged_data['Close'].diff()\n",
    "gain = (delta.where(delta > 0, 0)).fillna(0)\n",
    "loss = (-delta.where(delta < 0, 0)).fillna(0)\n",
    "avg_gain = gain.rolling(window=14).mean()\n",
    "avg_loss = loss.rolling(window=14).mean()\n",
    "rs = avg_gain / avg_loss\n",
    "merged_data['RSI'] = 100 - (100 / (1 + rs))\n",
    "\n",
    "# MACD\n",
    "merged_data['MACD'] = merged_data['Close'].ewm(span=12, adjust=False).mean() - merged_data['Close'].ewm(span=26, adjust=False).mean()\n",
    "merged_data['Signal_Line'] = merged_data['MACD'].ewm(span=9, adjust=False).mean()\n",
    "\n",
    "# Bollinger Bands\n",
    "merged_data['Bollinger_Mid_Band'] = merged_data['Close'].rolling(window=20).mean()\n",
    "merged_data['Bollinger_Upper_Band']  = merged_data['Bollinger_Mid_Band'] + 1.96*merged_data['Close'].rolling(window=20).std()\n",
    "merged_data['Bollinger_Lower_Band']  = merged_data['Bollinger_Mid_Band'] - 1.96*merged_data['Close'].rolling(window=20).std()\n",
    "\n",
    "# Volatility\n",
    "merged_data['Volatility'] = merged_data['Daily_Return'].rolling(window=5).std()\n",
    "\n",
    "to_drop_na = ['MA_5', 'MA_10', 'MA_30', 'MA_50', 'RSI', 'Volatility']\n",
    "\n",
    "for column in to_drop_na:\n",
    "    merged_data[column] = merged_data[column].fillna(0)\n",
    "\n",
    "# Display the dataset with new features\n",
    "merged_data"
   ],
   "metadata": {
    "collapsed": false,
    "ExecuteTime": {
     "end_time": "2023-10-17T20:57:46.957187800Z",
     "start_time": "2023-10-17T20:57:46.909367600Z"
    }
   }
  },
  {
   "cell_type": "code",
   "execution_count": 15,
   "outputs": [],
   "source": [
    "# da fare per ogni stock\n",
    "output_filepath = \"processed_nomedellostock.xlsx\"\n",
    "len(merged_data)\n",
    "merged_data.to_excel(output_filepath)\n"
   ],
   "metadata": {
    "collapsed": false,
    "ExecuteTime": {
     "end_time": "2023-10-17T20:55:19.985581200Z",
     "start_time": "2023-10-17T20:55:19.818279400Z"
    }
   }
  }
 ],
 "metadata": {
  "language_info": {
   "name": "python"
  },
  "kernelspec": {
   "name": "python3",
   "language": "python",
   "display_name": "Python 3 (ipykernel)"
  }
 },
 "nbformat": 4,
 "nbformat_minor": 2
}
