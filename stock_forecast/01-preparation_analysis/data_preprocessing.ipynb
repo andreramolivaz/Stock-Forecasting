{
 "cells": [
  {
   "cell_type": "markdown",
   "metadata": {},
   "source": [
    "# Data Preprocessing"
   ]
  },
  {
   "cell_type": "code",
   "execution_count": 2,
   "metadata": {
    "collapsed": false,
    "ExecuteTime": {
     "end_time": "2023-10-23T14:33:02.920185Z",
     "start_time": "2023-10-23T14:33:02.108181Z"
    }
   },
   "outputs": [],
   "source": [
    "import pandas as pd\n",
    "import numpy as np\n",
    "import os"
   ]
  },
  {
   "cell_type": "code",
   "execution_count": 3,
   "metadata": {
    "collapsed": false,
    "ExecuteTime": {
     "end_time": "2023-10-23T14:33:02.944367Z",
     "start_time": "2023-10-23T14:33:02.921192Z"
    }
   },
   "outputs": [
    {
     "data": {
      "text/plain": "['./data/GS.xlsx',\n './data/1398.HK.xlsx',\n './data/BA.xlsx',\n './data/005380.KS.xlsx',\n './data/AIR.PA.xlsx',\n './data/KO.xlsx',\n './data/WMT.xlsx',\n './data/005930.KS.xlsx',\n './data/NOVN.SW.xlsx',\n './data/CVX.xlsx',\n './data/EGHT.xlsx',\n './data/MMM.xlsx',\n './data/VZ.xlsx',\n './data/JPM.xlsx',\n './data/JNJ.xlsx',\n './data/AMZN.xlsx',\n './data/9984.T.xlsx',\n './data/RDS.A.xlsx',\n './data/0700.HK.xlsx',\n './data/BE.xlsx',\n './data/AAPL.xlsx',\n './data/PFE.xlsx',\n './data/SEDG.xlsx',\n './data/MSFT.xlsx',\n './data/TM.xlsx',\n './data/VOW3.DE.xlsx',\n './data/PG.xlsx',\n './data/DB.xlsx',\n './data/UL.xlsx',\n './data/TWTR.xlsx',\n './data/XOM.xlsx',\n './data/T.xlsx']"
     },
     "execution_count": 3,
     "metadata": {},
     "output_type": "execute_result"
    }
   ],
   "source": [
    "# TODO: da rifare per ogni stock\n",
    "sheet_names = [\n",
    "    'Info',\n",
    "    'Historical',\n",
    "    'Income Statement',\n",
    "    'Quarterly Income Statement',\n",
    "    'Cashflow',\n",
    "    'Institutional Holders',\n",
    "    'Mutual Fund Holders',\n",
    "    'Major Holders'\n",
    "]\n",
    "\n",
    "#riempire stocks di tutti i vari codici, fare la retrive di tutti i file e buttarli in df_stock per poi poter lavorare su tutti i dati\n",
    "directory = \"./data\"\n",
    "stocks = [os.path.join(directory, file) for file in os.listdir(directory)]\n",
    "stocks"
   ]
  },
  {
   "cell_type": "markdown",
   "metadata": {
    "collapsed": false
   },
   "source": [
    "## Integrazione dei dati finanziari\n",
    "Colonne aggiunte:\n",
    "- **Daily_Return**: rendimento giornaliero.\n",
    "- **Target_1day**: indica se il prezzo di chiusura del giorno successivo sarà superiore (1) o inferiore (0) rispetto al prezzo di chiusura del giorno corrente.\n",
    "- **Target_5days**: indica se il prezzo di chiusura a 5 giorni nel futuro sarà superiore (1) o inferiore (0) rispetto al prezzo di chiusura del giorno corrente.\n",
    "- **Target_30days**: indica se il prezzo di chiusura a 30 giorni nel futuro sarà superiore (1) o inferiore (0) rispetto al prezzo di chiusura del giorno corrente.\n",
    "\n",
    "Integrato i vari sheet \"Income Statement\", \"Quarterly Income Statement\" e \"Cashflow\" in un singolo excel. NB: Dato che questi fogli contengono dati finanziari annuali o trimestrali un approccio comune è portare avanti l'ultimo valore noto per ogni giorno fino a quando non si dispone di un nuovo valore. Per alcunii anni finanziari sarà Nan perché non li abbiamo.\n",
    "\n",
    "Lista delle azioni alle quali mancano pezzi:\n",
    "- **1398.HK** manca income_statement.normalized_EBITA"
   ]
  },
  {
   "cell_type": "code",
   "execution_count": 28,
   "metadata": {
    "collapsed": false,
    "ExecuteTime": {
     "end_time": "2023-10-23T14:57:24.110073Z",
     "start_time": "2023-10-23T14:56:24.768364Z"
    }
   },
   "outputs": [
    {
     "name": "stderr",
     "output_type": "stream",
     "text": [
      "Exception ignored in: <function ZipFile.__del__ at 0x102d6ca40>\n",
      "Traceback (most recent call last):\n",
      "  File \"/opt/homebrew/Caskroom/miniforge/base/envs/General/lib/python3.11/zipfile.py\", line 1874, in __del__\n",
      "    self.close()\n",
      "  File \"/opt/homebrew/Caskroom/miniforge/base/envs/General/lib/python3.11/zipfile.py\", line 1891, in close\n",
      "    self.fp.seek(self.start_dir)\n",
      "ValueError: seek of closed file\n",
      "/var/folders/kl/fcwqs6xs30b3g73_r8l0_q5m0000gn/T/ipykernel_1980/4275419458.py:56: FutureWarning: DataFrame.fillna with 'method' is deprecated and will raise in a future version. Use obj.ffill() or obj.bfill() instead.\n",
      "  merged_data[selected_metrics] = merged_data[selected_metrics].fillna(method='ffill')\n",
      "/var/folders/kl/fcwqs6xs30b3g73_r8l0_q5m0000gn/T/ipykernel_1980/4275419458.py:82: FutureWarning: DataFrame.fillna with 'method' is deprecated and will raise in a future version. Use obj.ffill() or obj.bfill() instead.\n",
      "  merged_data[selected_cashflow_metrics] = merged_data[selected_cashflow_metrics].fillna(method='ffill')\n",
      "/var/folders/kl/fcwqs6xs30b3g73_r8l0_q5m0000gn/T/ipykernel_1980/4275419458.py:56: FutureWarning: DataFrame.fillna with 'method' is deprecated and will raise in a future version. Use obj.ffill() or obj.bfill() instead.\n",
      "  merged_data[selected_metrics] = merged_data[selected_metrics].fillna(method='ffill')\n",
      "/var/folders/kl/fcwqs6xs30b3g73_r8l0_q5m0000gn/T/ipykernel_1980/4275419458.py:82: FutureWarning: DataFrame.fillna with 'method' is deprecated and will raise in a future version. Use obj.ffill() or obj.bfill() instead.\n",
      "  merged_data[selected_cashflow_metrics] = merged_data[selected_cashflow_metrics].fillna(method='ffill')\n",
      "/var/folders/kl/fcwqs6xs30b3g73_r8l0_q5m0000gn/T/ipykernel_1980/4275419458.py:56: FutureWarning: DataFrame.fillna with 'method' is deprecated and will raise in a future version. Use obj.ffill() or obj.bfill() instead.\n",
      "  merged_data[selected_metrics] = merged_data[selected_metrics].fillna(method='ffill')\n",
      "/var/folders/kl/fcwqs6xs30b3g73_r8l0_q5m0000gn/T/ipykernel_1980/4275419458.py:82: FutureWarning: DataFrame.fillna with 'method' is deprecated and will raise in a future version. Use obj.ffill() or obj.bfill() instead.\n",
      "  merged_data[selected_cashflow_metrics] = merged_data[selected_cashflow_metrics].fillna(method='ffill')\n",
      "/var/folders/kl/fcwqs6xs30b3g73_r8l0_q5m0000gn/T/ipykernel_1980/4275419458.py:56: FutureWarning: DataFrame.fillna with 'method' is deprecated and will raise in a future version. Use obj.ffill() or obj.bfill() instead.\n",
      "  merged_data[selected_metrics] = merged_data[selected_metrics].fillna(method='ffill')\n",
      "/var/folders/kl/fcwqs6xs30b3g73_r8l0_q5m0000gn/T/ipykernel_1980/4275419458.py:82: FutureWarning: DataFrame.fillna with 'method' is deprecated and will raise in a future version. Use obj.ffill() or obj.bfill() instead.\n",
      "  merged_data[selected_cashflow_metrics] = merged_data[selected_cashflow_metrics].fillna(method='ffill')\n",
      "/var/folders/kl/fcwqs6xs30b3g73_r8l0_q5m0000gn/T/ipykernel_1980/4275419458.py:56: FutureWarning: DataFrame.fillna with 'method' is deprecated and will raise in a future version. Use obj.ffill() or obj.bfill() instead.\n",
      "  merged_data[selected_metrics] = merged_data[selected_metrics].fillna(method='ffill')\n",
      "/var/folders/kl/fcwqs6xs30b3g73_r8l0_q5m0000gn/T/ipykernel_1980/4275419458.py:82: FutureWarning: DataFrame.fillna with 'method' is deprecated and will raise in a future version. Use obj.ffill() or obj.bfill() instead.\n",
      "  merged_data[selected_cashflow_metrics] = merged_data[selected_cashflow_metrics].fillna(method='ffill')\n",
      "/var/folders/kl/fcwqs6xs30b3g73_r8l0_q5m0000gn/T/ipykernel_1980/4275419458.py:56: FutureWarning: DataFrame.fillna with 'method' is deprecated and will raise in a future version. Use obj.ffill() or obj.bfill() instead.\n",
      "  merged_data[selected_metrics] = merged_data[selected_metrics].fillna(method='ffill')\n",
      "/var/folders/kl/fcwqs6xs30b3g73_r8l0_q5m0000gn/T/ipykernel_1980/4275419458.py:82: FutureWarning: DataFrame.fillna with 'method' is deprecated and will raise in a future version. Use obj.ffill() or obj.bfill() instead.\n",
      "  merged_data[selected_cashflow_metrics] = merged_data[selected_cashflow_metrics].fillna(method='ffill')\n",
      "/var/folders/kl/fcwqs6xs30b3g73_r8l0_q5m0000gn/T/ipykernel_1980/4275419458.py:56: FutureWarning: DataFrame.fillna with 'method' is deprecated and will raise in a future version. Use obj.ffill() or obj.bfill() instead.\n",
      "  merged_data[selected_metrics] = merged_data[selected_metrics].fillna(method='ffill')\n",
      "/var/folders/kl/fcwqs6xs30b3g73_r8l0_q5m0000gn/T/ipykernel_1980/4275419458.py:82: FutureWarning: DataFrame.fillna with 'method' is deprecated and will raise in a future version. Use obj.ffill() or obj.bfill() instead.\n",
      "  merged_data[selected_cashflow_metrics] = merged_data[selected_cashflow_metrics].fillna(method='ffill')\n",
      "/var/folders/kl/fcwqs6xs30b3g73_r8l0_q5m0000gn/T/ipykernel_1980/4275419458.py:56: FutureWarning: DataFrame.fillna with 'method' is deprecated and will raise in a future version. Use obj.ffill() or obj.bfill() instead.\n",
      "  merged_data[selected_metrics] = merged_data[selected_metrics].fillna(method='ffill')\n",
      "/var/folders/kl/fcwqs6xs30b3g73_r8l0_q5m0000gn/T/ipykernel_1980/4275419458.py:82: FutureWarning: DataFrame.fillna with 'method' is deprecated and will raise in a future version. Use obj.ffill() or obj.bfill() instead.\n",
      "  merged_data[selected_cashflow_metrics] = merged_data[selected_cashflow_metrics].fillna(method='ffill')\n",
      "/var/folders/kl/fcwqs6xs30b3g73_r8l0_q5m0000gn/T/ipykernel_1980/4275419458.py:56: FutureWarning: DataFrame.fillna with 'method' is deprecated and will raise in a future version. Use obj.ffill() or obj.bfill() instead.\n",
      "  merged_data[selected_metrics] = merged_data[selected_metrics].fillna(method='ffill')\n",
      "/var/folders/kl/fcwqs6xs30b3g73_r8l0_q5m0000gn/T/ipykernel_1980/4275419458.py:82: FutureWarning: DataFrame.fillna with 'method' is deprecated and will raise in a future version. Use obj.ffill() or obj.bfill() instead.\n",
      "  merged_data[selected_cashflow_metrics] = merged_data[selected_cashflow_metrics].fillna(method='ffill')\n",
      "/var/folders/kl/fcwqs6xs30b3g73_r8l0_q5m0000gn/T/ipykernel_1980/4275419458.py:56: FutureWarning: DataFrame.fillna with 'method' is deprecated and will raise in a future version. Use obj.ffill() or obj.bfill() instead.\n",
      "  merged_data[selected_metrics] = merged_data[selected_metrics].fillna(method='ffill')\n",
      "/var/folders/kl/fcwqs6xs30b3g73_r8l0_q5m0000gn/T/ipykernel_1980/4275419458.py:82: FutureWarning: DataFrame.fillna with 'method' is deprecated and will raise in a future version. Use obj.ffill() or obj.bfill() instead.\n",
      "  merged_data[selected_cashflow_metrics] = merged_data[selected_cashflow_metrics].fillna(method='ffill')\n",
      "/var/folders/kl/fcwqs6xs30b3g73_r8l0_q5m0000gn/T/ipykernel_1980/4275419458.py:56: FutureWarning: DataFrame.fillna with 'method' is deprecated and will raise in a future version. Use obj.ffill() or obj.bfill() instead.\n",
      "  merged_data[selected_metrics] = merged_data[selected_metrics].fillna(method='ffill')\n",
      "/var/folders/kl/fcwqs6xs30b3g73_r8l0_q5m0000gn/T/ipykernel_1980/4275419458.py:82: FutureWarning: DataFrame.fillna with 'method' is deprecated and will raise in a future version. Use obj.ffill() or obj.bfill() instead.\n",
      "  merged_data[selected_cashflow_metrics] = merged_data[selected_cashflow_metrics].fillna(method='ffill')\n",
      "/var/folders/kl/fcwqs6xs30b3g73_r8l0_q5m0000gn/T/ipykernel_1980/4275419458.py:56: FutureWarning: DataFrame.fillna with 'method' is deprecated and will raise in a future version. Use obj.ffill() or obj.bfill() instead.\n",
      "  merged_data[selected_metrics] = merged_data[selected_metrics].fillna(method='ffill')\n",
      "/var/folders/kl/fcwqs6xs30b3g73_r8l0_q5m0000gn/T/ipykernel_1980/4275419458.py:82: FutureWarning: DataFrame.fillna with 'method' is deprecated and will raise in a future version. Use obj.ffill() or obj.bfill() instead.\n",
      "  merged_data[selected_cashflow_metrics] = merged_data[selected_cashflow_metrics].fillna(method='ffill')\n",
      "/var/folders/kl/fcwqs6xs30b3g73_r8l0_q5m0000gn/T/ipykernel_1980/4275419458.py:56: FutureWarning: DataFrame.fillna with 'method' is deprecated and will raise in a future version. Use obj.ffill() or obj.bfill() instead.\n",
      "  merged_data[selected_metrics] = merged_data[selected_metrics].fillna(method='ffill')\n",
      "/var/folders/kl/fcwqs6xs30b3g73_r8l0_q5m0000gn/T/ipykernel_1980/4275419458.py:82: FutureWarning: DataFrame.fillna with 'method' is deprecated and will raise in a future version. Use obj.ffill() or obj.bfill() instead.\n",
      "  merged_data[selected_cashflow_metrics] = merged_data[selected_cashflow_metrics].fillna(method='ffill')\n",
      "/var/folders/kl/fcwqs6xs30b3g73_r8l0_q5m0000gn/T/ipykernel_1980/4275419458.py:56: FutureWarning: DataFrame.fillna with 'method' is deprecated and will raise in a future version. Use obj.ffill() or obj.bfill() instead.\n",
      "  merged_data[selected_metrics] = merged_data[selected_metrics].fillna(method='ffill')\n",
      "/var/folders/kl/fcwqs6xs30b3g73_r8l0_q5m0000gn/T/ipykernel_1980/4275419458.py:82: FutureWarning: DataFrame.fillna with 'method' is deprecated and will raise in a future version. Use obj.ffill() or obj.bfill() instead.\n",
      "  merged_data[selected_cashflow_metrics] = merged_data[selected_cashflow_metrics].fillna(method='ffill')\n",
      "/var/folders/kl/fcwqs6xs30b3g73_r8l0_q5m0000gn/T/ipykernel_1980/4275419458.py:56: FutureWarning: DataFrame.fillna with 'method' is deprecated and will raise in a future version. Use obj.ffill() or obj.bfill() instead.\n",
      "  merged_data[selected_metrics] = merged_data[selected_metrics].fillna(method='ffill')\n",
      "/var/folders/kl/fcwqs6xs30b3g73_r8l0_q5m0000gn/T/ipykernel_1980/4275419458.py:82: FutureWarning: DataFrame.fillna with 'method' is deprecated and will raise in a future version. Use obj.ffill() or obj.bfill() instead.\n",
      "  merged_data[selected_cashflow_metrics] = merged_data[selected_cashflow_metrics].fillna(method='ffill')\n",
      "/var/folders/kl/fcwqs6xs30b3g73_r8l0_q5m0000gn/T/ipykernel_1980/4275419458.py:56: FutureWarning: DataFrame.fillna with 'method' is deprecated and will raise in a future version. Use obj.ffill() or obj.bfill() instead.\n",
      "  merged_data[selected_metrics] = merged_data[selected_metrics].fillna(method='ffill')\n",
      "/var/folders/kl/fcwqs6xs30b3g73_r8l0_q5m0000gn/T/ipykernel_1980/4275419458.py:82: FutureWarning: DataFrame.fillna with 'method' is deprecated and will raise in a future version. Use obj.ffill() or obj.bfill() instead.\n",
      "  merged_data[selected_cashflow_metrics] = merged_data[selected_cashflow_metrics].fillna(method='ffill')\n",
      "/var/folders/kl/fcwqs6xs30b3g73_r8l0_q5m0000gn/T/ipykernel_1980/4275419458.py:56: FutureWarning: DataFrame.fillna with 'method' is deprecated and will raise in a future version. Use obj.ffill() or obj.bfill() instead.\n",
      "  merged_data[selected_metrics] = merged_data[selected_metrics].fillna(method='ffill')\n",
      "/var/folders/kl/fcwqs6xs30b3g73_r8l0_q5m0000gn/T/ipykernel_1980/4275419458.py:82: FutureWarning: DataFrame.fillna with 'method' is deprecated and will raise in a future version. Use obj.ffill() or obj.bfill() instead.\n",
      "  merged_data[selected_cashflow_metrics] = merged_data[selected_cashflow_metrics].fillna(method='ffill')\n",
      "/var/folders/kl/fcwqs6xs30b3g73_r8l0_q5m0000gn/T/ipykernel_1980/4275419458.py:56: FutureWarning: DataFrame.fillna with 'method' is deprecated and will raise in a future version. Use obj.ffill() or obj.bfill() instead.\n",
      "  merged_data[selected_metrics] = merged_data[selected_metrics].fillna(method='ffill')\n",
      "/var/folders/kl/fcwqs6xs30b3g73_r8l0_q5m0000gn/T/ipykernel_1980/4275419458.py:82: FutureWarning: DataFrame.fillna with 'method' is deprecated and will raise in a future version. Use obj.ffill() or obj.bfill() instead.\n",
      "  merged_data[selected_cashflow_metrics] = merged_data[selected_cashflow_metrics].fillna(method='ffill')\n",
      "/var/folders/kl/fcwqs6xs30b3g73_r8l0_q5m0000gn/T/ipykernel_1980/4275419458.py:56: FutureWarning: DataFrame.fillna with 'method' is deprecated and will raise in a future version. Use obj.ffill() or obj.bfill() instead.\n",
      "  merged_data[selected_metrics] = merged_data[selected_metrics].fillna(method='ffill')\n",
      "/var/folders/kl/fcwqs6xs30b3g73_r8l0_q5m0000gn/T/ipykernel_1980/4275419458.py:82: FutureWarning: DataFrame.fillna with 'method' is deprecated and will raise in a future version. Use obj.ffill() or obj.bfill() instead.\n",
      "  merged_data[selected_cashflow_metrics] = merged_data[selected_cashflow_metrics].fillna(method='ffill')\n",
      "/var/folders/kl/fcwqs6xs30b3g73_r8l0_q5m0000gn/T/ipykernel_1980/4275419458.py:56: FutureWarning: DataFrame.fillna with 'method' is deprecated and will raise in a future version. Use obj.ffill() or obj.bfill() instead.\n",
      "  merged_data[selected_metrics] = merged_data[selected_metrics].fillna(method='ffill')\n",
      "/var/folders/kl/fcwqs6xs30b3g73_r8l0_q5m0000gn/T/ipykernel_1980/4275419458.py:82: FutureWarning: DataFrame.fillna with 'method' is deprecated and will raise in a future version. Use obj.ffill() or obj.bfill() instead.\n",
      "  merged_data[selected_cashflow_metrics] = merged_data[selected_cashflow_metrics].fillna(method='ffill')\n",
      "/var/folders/kl/fcwqs6xs30b3g73_r8l0_q5m0000gn/T/ipykernel_1980/4275419458.py:56: FutureWarning: DataFrame.fillna with 'method' is deprecated and will raise in a future version. Use obj.ffill() or obj.bfill() instead.\n",
      "  merged_data[selected_metrics] = merged_data[selected_metrics].fillna(method='ffill')\n",
      "/var/folders/kl/fcwqs6xs30b3g73_r8l0_q5m0000gn/T/ipykernel_1980/4275419458.py:82: FutureWarning: DataFrame.fillna with 'method' is deprecated and will raise in a future version. Use obj.ffill() or obj.bfill() instead.\n",
      "  merged_data[selected_cashflow_metrics] = merged_data[selected_cashflow_metrics].fillna(method='ffill')\n",
      "/var/folders/kl/fcwqs6xs30b3g73_r8l0_q5m0000gn/T/ipykernel_1980/4275419458.py:56: FutureWarning: DataFrame.fillna with 'method' is deprecated and will raise in a future version. Use obj.ffill() or obj.bfill() instead.\n",
      "  merged_data[selected_metrics] = merged_data[selected_metrics].fillna(method='ffill')\n",
      "/var/folders/kl/fcwqs6xs30b3g73_r8l0_q5m0000gn/T/ipykernel_1980/4275419458.py:82: FutureWarning: DataFrame.fillna with 'method' is deprecated and will raise in a future version. Use obj.ffill() or obj.bfill() instead.\n",
      "  merged_data[selected_cashflow_metrics] = merged_data[selected_cashflow_metrics].fillna(method='ffill')\n",
      "/var/folders/kl/fcwqs6xs30b3g73_r8l0_q5m0000gn/T/ipykernel_1980/4275419458.py:56: FutureWarning: DataFrame.fillna with 'method' is deprecated and will raise in a future version. Use obj.ffill() or obj.bfill() instead.\n",
      "  merged_data[selected_metrics] = merged_data[selected_metrics].fillna(method='ffill')\n",
      "/var/folders/kl/fcwqs6xs30b3g73_r8l0_q5m0000gn/T/ipykernel_1980/4275419458.py:82: FutureWarning: DataFrame.fillna with 'method' is deprecated and will raise in a future version. Use obj.ffill() or obj.bfill() instead.\n",
      "  merged_data[selected_cashflow_metrics] = merged_data[selected_cashflow_metrics].fillna(method='ffill')\n",
      "/var/folders/kl/fcwqs6xs30b3g73_r8l0_q5m0000gn/T/ipykernel_1980/4275419458.py:56: FutureWarning: DataFrame.fillna with 'method' is deprecated and will raise in a future version. Use obj.ffill() or obj.bfill() instead.\n",
      "  merged_data[selected_metrics] = merged_data[selected_metrics].fillna(method='ffill')\n",
      "/var/folders/kl/fcwqs6xs30b3g73_r8l0_q5m0000gn/T/ipykernel_1980/4275419458.py:82: FutureWarning: DataFrame.fillna with 'method' is deprecated and will raise in a future version. Use obj.ffill() or obj.bfill() instead.\n",
      "  merged_data[selected_cashflow_metrics] = merged_data[selected_cashflow_metrics].fillna(method='ffill')\n",
      "/var/folders/kl/fcwqs6xs30b3g73_r8l0_q5m0000gn/T/ipykernel_1980/4275419458.py:56: FutureWarning: DataFrame.fillna with 'method' is deprecated and will raise in a future version. Use obj.ffill() or obj.bfill() instead.\n",
      "  merged_data[selected_metrics] = merged_data[selected_metrics].fillna(method='ffill')\n",
      "/var/folders/kl/fcwqs6xs30b3g73_r8l0_q5m0000gn/T/ipykernel_1980/4275419458.py:82: FutureWarning: DataFrame.fillna with 'method' is deprecated and will raise in a future version. Use obj.ffill() or obj.bfill() instead.\n",
      "  merged_data[selected_cashflow_metrics] = merged_data[selected_cashflow_metrics].fillna(method='ffill')\n",
      "/var/folders/kl/fcwqs6xs30b3g73_r8l0_q5m0000gn/T/ipykernel_1980/4275419458.py:56: FutureWarning: DataFrame.fillna with 'method' is deprecated and will raise in a future version. Use obj.ffill() or obj.bfill() instead.\n",
      "  merged_data[selected_metrics] = merged_data[selected_metrics].fillna(method='ffill')\n",
      "/var/folders/kl/fcwqs6xs30b3g73_r8l0_q5m0000gn/T/ipykernel_1980/4275419458.py:82: FutureWarning: DataFrame.fillna with 'method' is deprecated and will raise in a future version. Use obj.ffill() or obj.bfill() instead.\n",
      "  merged_data[selected_cashflow_metrics] = merged_data[selected_cashflow_metrics].fillna(method='ffill')\n",
      "/var/folders/kl/fcwqs6xs30b3g73_r8l0_q5m0000gn/T/ipykernel_1980/4275419458.py:56: FutureWarning: DataFrame.fillna with 'method' is deprecated and will raise in a future version. Use obj.ffill() or obj.bfill() instead.\n",
      "  merged_data[selected_metrics] = merged_data[selected_metrics].fillna(method='ffill')\n",
      "/var/folders/kl/fcwqs6xs30b3g73_r8l0_q5m0000gn/T/ipykernel_1980/4275419458.py:82: FutureWarning: DataFrame.fillna with 'method' is deprecated and will raise in a future version. Use obj.ffill() or obj.bfill() instead.\n",
      "  merged_data[selected_cashflow_metrics] = merged_data[selected_cashflow_metrics].fillna(method='ffill')\n",
      "/var/folders/kl/fcwqs6xs30b3g73_r8l0_q5m0000gn/T/ipykernel_1980/4275419458.py:56: FutureWarning: DataFrame.fillna with 'method' is deprecated and will raise in a future version. Use obj.ffill() or obj.bfill() instead.\n",
      "  merged_data[selected_metrics] = merged_data[selected_metrics].fillna(method='ffill')\n",
      "/var/folders/kl/fcwqs6xs30b3g73_r8l0_q5m0000gn/T/ipykernel_1980/4275419458.py:82: FutureWarning: DataFrame.fillna with 'method' is deprecated and will raise in a future version. Use obj.ffill() or obj.bfill() instead.\n",
      "  merged_data[selected_cashflow_metrics] = merged_data[selected_cashflow_metrics].fillna(method='ffill')\n",
      "/var/folders/kl/fcwqs6xs30b3g73_r8l0_q5m0000gn/T/ipykernel_1980/4275419458.py:56: FutureWarning: DataFrame.fillna with 'method' is deprecated and will raise in a future version. Use obj.ffill() or obj.bfill() instead.\n",
      "  merged_data[selected_metrics] = merged_data[selected_metrics].fillna(method='ffill')\n",
      "/var/folders/kl/fcwqs6xs30b3g73_r8l0_q5m0000gn/T/ipykernel_1980/4275419458.py:82: FutureWarning: DataFrame.fillna with 'method' is deprecated and will raise in a future version. Use obj.ffill() or obj.bfill() instead.\n",
      "  merged_data[selected_cashflow_metrics] = merged_data[selected_cashflow_metrics].fillna(method='ffill')\n",
      "/var/folders/kl/fcwqs6xs30b3g73_r8l0_q5m0000gn/T/ipykernel_1980/4275419458.py:56: FutureWarning: DataFrame.fillna with 'method' is deprecated and will raise in a future version. Use obj.ffill() or obj.bfill() instead.\n",
      "  merged_data[selected_metrics] = merged_data[selected_metrics].fillna(method='ffill')\n",
      "/var/folders/kl/fcwqs6xs30b3g73_r8l0_q5m0000gn/T/ipykernel_1980/4275419458.py:82: FutureWarning: DataFrame.fillna with 'method' is deprecated and will raise in a future version. Use obj.ffill() or obj.bfill() instead.\n",
      "  merged_data[selected_cashflow_metrics] = merged_data[selected_cashflow_metrics].fillna(method='ffill')\n",
      "/var/folders/kl/fcwqs6xs30b3g73_r8l0_q5m0000gn/T/ipykernel_1980/4275419458.py:56: FutureWarning: DataFrame.fillna with 'method' is deprecated and will raise in a future version. Use obj.ffill() or obj.bfill() instead.\n",
      "  merged_data[selected_metrics] = merged_data[selected_metrics].fillna(method='ffill')\n",
      "/var/folders/kl/fcwqs6xs30b3g73_r8l0_q5m0000gn/T/ipykernel_1980/4275419458.py:82: FutureWarning: DataFrame.fillna with 'method' is deprecated and will raise in a future version. Use obj.ffill() or obj.bfill() instead.\n",
      "  merged_data[selected_cashflow_metrics] = merged_data[selected_cashflow_metrics].fillna(method='ffill')\n"
     ]
    }
   ],
   "source": [
    "# TODO: da fare per ogni stock\n",
    "counter = 0\n",
    "df = pd.DataFrame()\n",
    "for file in stocks:\n",
    "    if file.split(\"/\")[2][:-5] != \"1398.HK\":\n",
    "        df_stock = pd.ExcelFile(file)\n",
    "        \n",
    "        # prevent false postive warnings, reference_ https://stackoverflow.com/questions/20625582/how-to-deal-with-settingwithcopywarning-in-pandas\n",
    "        pd.options.mode.chained_assignment = None # default='warn'\n",
    "        \n",
    "        # Loading the 'Historical' data stock\n",
    "        historical_data = df_stock.parse('Historical')\n",
    "        \n",
    "        # Renaming and setting the Date column\n",
    "        historical_data.rename(columns={'Unnamed: 0': 'Date'}, inplace=True)\n",
    "        historical_data['Date'] = pd.to_datetime(historical_data['Date'])\n",
    "        historical_data.set_index('Date', inplace=True)\n",
    "        # Calculate daily return\n",
    "        historical_data['Daily_Return'] = historical_data['Close'].pct_change()\n",
    "        \n",
    "        # Create target variables for next day, next 5 days and next 30 days\n",
    "        historical_data['Target_1day'] = (historical_data['Close'].shift(-1) > historical_data['Close']).astype(int)\n",
    "        historical_data['Target_5days'] = (historical_data['Close'].shift(-5) > historical_data['Close']).astype(int)\n",
    "        historical_data['Target_30days'] = (historical_data['Close'].shift(-30) > historical_data['Close']).astype(int)\n",
    "        \n",
    "        # Drop rows with NaN values (will be present due to the shifting for target creation)\n",
    "        historical_data = historical_data.dropna()\n",
    "        \n",
    "        # Loading the 'Income Statement' data for XOM\n",
    "        income_statement = df_stock.parse('Income Statement')\n",
    "        \n",
    "        # Transposing the data for easier integration\n",
    "        income_statement = income_statement.set_index('Unnamed: 0').transpose()\n",
    "        income_statement.index = pd.to_datetime(income_statement.index)\n",
    "        \n",
    "        \n",
    "        # Selecting some of the key financial metrics (you can add or remove based on relevance)\n",
    "        selected_metrics = [\n",
    "            'Normalized EBITDA',\n",
    "            'Total Unusual Items',\n",
    "            'Total Unusual Items Excluding Goodwill'\n",
    "        ]\n",
    "        \n",
    "        # check if columns exist, in case create them\n",
    "        for metric in selected_metrics:\n",
    "            if metric not in income_statement.columns:\n",
    "                income_statement[metric] = np.nan\n",
    "                \n",
    "        \n",
    "        income_statement = income_statement[selected_metrics]\n",
    "        \n",
    "        # Merging the income statement data with the historical data\n",
    "        merged_data = historical_data.join(income_statement, how='left')\n",
    "        \n",
    "        # Forward filling the NaN values\n",
    "        merged_data[selected_metrics] = merged_data[selected_metrics].fillna(method='ffill')\n",
    "        \n",
    "        # Loading the 'Cashflow' data for XOM\n",
    "        cashflow = df_stock.parse('Cashflow')\n",
    "        \n",
    "        # Transposing the data for easier integration\n",
    "        cashflow = cashflow.set_index('Unnamed: 0').transpose()\n",
    "        cashflow.index = pd.to_datetime(cashflow.index)\n",
    "        \n",
    "        # Selecting some of the key cashflow metrics (you can add or remove based on relevance)\n",
    "        selected_cashflow_metrics = [\n",
    "            'Operating Cash Flow',\n",
    "            'Capital Expenditure',\n",
    "            'Free Cash Flow'\n",
    "        ]\n",
    "        \n",
    "        for metric in selected_cashflow_metrics:\n",
    "            if metric not in cashflow.columns:\n",
    "                cashflow[metric] = np.nan\n",
    "        \n",
    "        cashflow = cashflow[selected_cashflow_metrics]\n",
    "        \n",
    "        # Merging the cashflow data with the existing dataframe\n",
    "        merged_data = merged_data.join(cashflow, how='left', rsuffix='_cashflow')\n",
    "        \n",
    "        # Forward filling the NaN values\n",
    "        merged_data[selected_cashflow_metrics] = merged_data[selected_cashflow_metrics].fillna(method='ffill')\n",
    "        \n",
    "        if 'Ticker' not in merged_data.columns:\n",
    "            merged_data['Ticker'] = file.split(\"/\")[2].replace(\".\", \"\")[:-4]\n",
    "        \n",
    "        # Display the updated dataframe with integrated cashflow metrics\n",
    "        merged_data.iloc[counter : counter + len(merged_data), merged_data.columns.get_loc(\"Ticker\")] = file.split(\"/\")[2].replace(\".\", \"\")[:-4]\n",
    "        \n",
    "        counter = len(merged_data)\n",
    "        # Export in Excel company data\n",
    "        if not os.path.exists('./Processed'):\n",
    "            os.makedirs('./Processed')\n",
    "        with pd.ExcelWriter(f'./Processed/{file.split(\"/\")[2][:-5]}.xlsx', mode = \"w\", engine = \"openpyxl\") as writer:\n",
    "            merged_data.to_excel(writer, sheet_name=\"Sheet1\")\n",
    "        # Append to one single dataframe\n",
    "        df = pd.concat([df, merged_data])"
   ]
  },
  {
   "cell_type": "code",
   "execution_count": 32,
   "metadata": {
    "ExecuteTime": {
     "end_time": "2023-10-23T15:04:56.013348Z",
     "start_time": "2023-10-23T15:04:55.990572Z"
    }
   },
   "outputs": [
    {
     "data": {
      "text/plain": "                 Open       High        Low      Close    Volume  Dividends  \\\nDate                                                                          \n1999-05-05  50.947419  50.947419  48.304351  50.400578   7565700        0.0   \n1999-05-06  49.580314  50.582858  48.896762  49.534744   2905700        0.0   \n1999-05-07  49.534755  54.593042  48.668922  54.046200   4862300        0.0   \n1999-05-10  53.499341  53.590482  51.220834  51.539825   2589400        0.0   \n1999-05-11  51.038557  51.904390  50.673996  51.494259   1839800        0.0   \n...               ...        ...        ...        ...       ...        ...   \n2023-10-09  14.470000  14.750000  14.460000  14.730000  30659800        0.0   \n2023-10-10  14.690000  14.980000  14.690000  14.960000  35746800        0.0   \n2023-10-11  14.950000  15.050000  14.680000  14.770000  31793500        0.0   \n2023-10-12  14.640000  14.670000  14.280000  14.450000  38543700        0.0   \n2023-10-13  14.480000  14.630000  14.320000  14.360000  34104500        0.0   \n\n            Stock Splits  Daily_Return  Target_1day  Target_5days  \\\nDate                                                                \n1999-05-05           0.0     -0.017762            0             1   \n1999-05-06           0.0     -0.017179            1             1   \n1999-05-07           0.0      0.091077            0             0   \n1999-05-10           0.0     -0.046375            0             0   \n1999-05-11           0.0     -0.000884            1             0   \n...                  ...           ...          ...           ...   \n2023-10-09           0.0      0.019377            1             0   \n2023-10-10           0.0      0.015614            0             0   \n2023-10-11           0.0     -0.012701            0             0   \n2023-10-12           0.0     -0.021666            0             0   \n2023-10-13           0.0     -0.006228            0             0   \n\n            Target_30days  Normalized EBITDA  Total Unusual Items  \\\nDate                                                                \n1999-05-05              0                NaN                  NaN   \n1999-05-06              0                NaN                  NaN   \n1999-05-07              0                NaN                  NaN   \n1999-05-10              0                NaN                  NaN   \n1999-05-11              0                NaN                  NaN   \n...                   ...                ...                  ...   \n2023-10-09              0       6.159700e+10        -4.904000e+09   \n2023-10-10              0       6.159700e+10        -4.904000e+09   \n2023-10-11              0       6.159700e+10        -4.904000e+09   \n2023-10-12              0       6.159700e+10        -4.904000e+09   \n2023-10-13              0       6.159700e+10        -4.904000e+09   \n\n            Total Unusual Items Excluding Goodwill  Operating Cash Flow  \\\nDate                                                                      \n1999-05-05                                     NaN                  NaN   \n1999-05-06                                     NaN                  NaN   \n1999-05-07                                     NaN                  NaN   \n1999-05-10                                     NaN                  NaN   \n1999-05-11                                     NaN                  NaN   \n...                                            ...                  ...   \n2023-10-09                           -4.904000e+09         4.195700e+10   \n2023-10-10                           -4.904000e+09         4.195700e+10   \n2023-10-11                           -4.904000e+09         4.195700e+10   \n2023-10-12                           -4.904000e+09         4.195700e+10   \n2023-10-13                           -4.904000e+09         4.195700e+10   \n\n            Capital Expenditure  Free Cash Flow Ticker  \nDate                                                    \n1999-05-05                  NaN             NaN     GS  \n1999-05-06                  NaN             NaN     GS  \n1999-05-07                  NaN             NaN     GS  \n1999-05-10                  NaN             NaN     GS  \n1999-05-11                  NaN             NaN     GS  \n...                         ...             ...    ...  \n2023-10-09        -1.652700e+10    2.543000e+10      T  \n2023-10-10        -1.652700e+10    2.543000e+10      T  \n2023-10-11        -1.652700e+10    2.543000e+10      T  \n2023-10-12        -1.652700e+10    2.543000e+10      T  \n2023-10-13        -1.652700e+10    2.543000e+10      T  \n\n[298697 rows x 18 columns]",
      "text/html": "<div>\n<style scoped>\n    .dataframe tbody tr th:only-of-type {\n        vertical-align: middle;\n    }\n\n    .dataframe tbody tr th {\n        vertical-align: top;\n    }\n\n    .dataframe thead th {\n        text-align: right;\n    }\n</style>\n<table border=\"1\" class=\"dataframe\">\n  <thead>\n    <tr style=\"text-align: right;\">\n      <th></th>\n      <th>Open</th>\n      <th>High</th>\n      <th>Low</th>\n      <th>Close</th>\n      <th>Volume</th>\n      <th>Dividends</th>\n      <th>Stock Splits</th>\n      <th>Daily_Return</th>\n      <th>Target_1day</th>\n      <th>Target_5days</th>\n      <th>Target_30days</th>\n      <th>Normalized EBITDA</th>\n      <th>Total Unusual Items</th>\n      <th>Total Unusual Items Excluding Goodwill</th>\n      <th>Operating Cash Flow</th>\n      <th>Capital Expenditure</th>\n      <th>Free Cash Flow</th>\n      <th>Ticker</th>\n    </tr>\n    <tr>\n      <th>Date</th>\n      <th></th>\n      <th></th>\n      <th></th>\n      <th></th>\n      <th></th>\n      <th></th>\n      <th></th>\n      <th></th>\n      <th></th>\n      <th></th>\n      <th></th>\n      <th></th>\n      <th></th>\n      <th></th>\n      <th></th>\n      <th></th>\n      <th></th>\n      <th></th>\n    </tr>\n  </thead>\n  <tbody>\n    <tr>\n      <th>1999-05-05</th>\n      <td>50.947419</td>\n      <td>50.947419</td>\n      <td>48.304351</td>\n      <td>50.400578</td>\n      <td>7565700</td>\n      <td>0.0</td>\n      <td>0.0</td>\n      <td>-0.017762</td>\n      <td>0</td>\n      <td>1</td>\n      <td>0</td>\n      <td>NaN</td>\n      <td>NaN</td>\n      <td>NaN</td>\n      <td>NaN</td>\n      <td>NaN</td>\n      <td>NaN</td>\n      <td>GS</td>\n    </tr>\n    <tr>\n      <th>1999-05-06</th>\n      <td>49.580314</td>\n      <td>50.582858</td>\n      <td>48.896762</td>\n      <td>49.534744</td>\n      <td>2905700</td>\n      <td>0.0</td>\n      <td>0.0</td>\n      <td>-0.017179</td>\n      <td>1</td>\n      <td>1</td>\n      <td>0</td>\n      <td>NaN</td>\n      <td>NaN</td>\n      <td>NaN</td>\n      <td>NaN</td>\n      <td>NaN</td>\n      <td>NaN</td>\n      <td>GS</td>\n    </tr>\n    <tr>\n      <th>1999-05-07</th>\n      <td>49.534755</td>\n      <td>54.593042</td>\n      <td>48.668922</td>\n      <td>54.046200</td>\n      <td>4862300</td>\n      <td>0.0</td>\n      <td>0.0</td>\n      <td>0.091077</td>\n      <td>0</td>\n      <td>0</td>\n      <td>0</td>\n      <td>NaN</td>\n      <td>NaN</td>\n      <td>NaN</td>\n      <td>NaN</td>\n      <td>NaN</td>\n      <td>NaN</td>\n      <td>GS</td>\n    </tr>\n    <tr>\n      <th>1999-05-10</th>\n      <td>53.499341</td>\n      <td>53.590482</td>\n      <td>51.220834</td>\n      <td>51.539825</td>\n      <td>2589400</td>\n      <td>0.0</td>\n      <td>0.0</td>\n      <td>-0.046375</td>\n      <td>0</td>\n      <td>0</td>\n      <td>0</td>\n      <td>NaN</td>\n      <td>NaN</td>\n      <td>NaN</td>\n      <td>NaN</td>\n      <td>NaN</td>\n      <td>NaN</td>\n      <td>GS</td>\n    </tr>\n    <tr>\n      <th>1999-05-11</th>\n      <td>51.038557</td>\n      <td>51.904390</td>\n      <td>50.673996</td>\n      <td>51.494259</td>\n      <td>1839800</td>\n      <td>0.0</td>\n      <td>0.0</td>\n      <td>-0.000884</td>\n      <td>1</td>\n      <td>0</td>\n      <td>0</td>\n      <td>NaN</td>\n      <td>NaN</td>\n      <td>NaN</td>\n      <td>NaN</td>\n      <td>NaN</td>\n      <td>NaN</td>\n      <td>GS</td>\n    </tr>\n    <tr>\n      <th>...</th>\n      <td>...</td>\n      <td>...</td>\n      <td>...</td>\n      <td>...</td>\n      <td>...</td>\n      <td>...</td>\n      <td>...</td>\n      <td>...</td>\n      <td>...</td>\n      <td>...</td>\n      <td>...</td>\n      <td>...</td>\n      <td>...</td>\n      <td>...</td>\n      <td>...</td>\n      <td>...</td>\n      <td>...</td>\n      <td>...</td>\n    </tr>\n    <tr>\n      <th>2023-10-09</th>\n      <td>14.470000</td>\n      <td>14.750000</td>\n      <td>14.460000</td>\n      <td>14.730000</td>\n      <td>30659800</td>\n      <td>0.0</td>\n      <td>0.0</td>\n      <td>0.019377</td>\n      <td>1</td>\n      <td>0</td>\n      <td>0</td>\n      <td>6.159700e+10</td>\n      <td>-4.904000e+09</td>\n      <td>-4.904000e+09</td>\n      <td>4.195700e+10</td>\n      <td>-1.652700e+10</td>\n      <td>2.543000e+10</td>\n      <td>T</td>\n    </tr>\n    <tr>\n      <th>2023-10-10</th>\n      <td>14.690000</td>\n      <td>14.980000</td>\n      <td>14.690000</td>\n      <td>14.960000</td>\n      <td>35746800</td>\n      <td>0.0</td>\n      <td>0.0</td>\n      <td>0.015614</td>\n      <td>0</td>\n      <td>0</td>\n      <td>0</td>\n      <td>6.159700e+10</td>\n      <td>-4.904000e+09</td>\n      <td>-4.904000e+09</td>\n      <td>4.195700e+10</td>\n      <td>-1.652700e+10</td>\n      <td>2.543000e+10</td>\n      <td>T</td>\n    </tr>\n    <tr>\n      <th>2023-10-11</th>\n      <td>14.950000</td>\n      <td>15.050000</td>\n      <td>14.680000</td>\n      <td>14.770000</td>\n      <td>31793500</td>\n      <td>0.0</td>\n      <td>0.0</td>\n      <td>-0.012701</td>\n      <td>0</td>\n      <td>0</td>\n      <td>0</td>\n      <td>6.159700e+10</td>\n      <td>-4.904000e+09</td>\n      <td>-4.904000e+09</td>\n      <td>4.195700e+10</td>\n      <td>-1.652700e+10</td>\n      <td>2.543000e+10</td>\n      <td>T</td>\n    </tr>\n    <tr>\n      <th>2023-10-12</th>\n      <td>14.640000</td>\n      <td>14.670000</td>\n      <td>14.280000</td>\n      <td>14.450000</td>\n      <td>38543700</td>\n      <td>0.0</td>\n      <td>0.0</td>\n      <td>-0.021666</td>\n      <td>0</td>\n      <td>0</td>\n      <td>0</td>\n      <td>6.159700e+10</td>\n      <td>-4.904000e+09</td>\n      <td>-4.904000e+09</td>\n      <td>4.195700e+10</td>\n      <td>-1.652700e+10</td>\n      <td>2.543000e+10</td>\n      <td>T</td>\n    </tr>\n    <tr>\n      <th>2023-10-13</th>\n      <td>14.480000</td>\n      <td>14.630000</td>\n      <td>14.320000</td>\n      <td>14.360000</td>\n      <td>34104500</td>\n      <td>0.0</td>\n      <td>0.0</td>\n      <td>-0.006228</td>\n      <td>0</td>\n      <td>0</td>\n      <td>0</td>\n      <td>6.159700e+10</td>\n      <td>-4.904000e+09</td>\n      <td>-4.904000e+09</td>\n      <td>4.195700e+10</td>\n      <td>-1.652700e+10</td>\n      <td>2.543000e+10</td>\n      <td>T</td>\n    </tr>\n  </tbody>\n</table>\n<p>298697 rows × 18 columns</p>\n</div>"
     },
     "execution_count": 32,
     "metadata": {},
     "output_type": "execute_result"
    }
   ],
   "source": [
    "df"
   ]
  },
  {
   "cell_type": "code",
   "execution_count": 33,
   "outputs": [
    {
     "data": {
      "text/plain": "array(['GS', 'BA', '005380KS', 'AIRPA', 'KO', 'WMT', '005930KS', 'NOVNSW',\n       'CVX', 'EGHT', 'MMM', 'VZ', 'JPM', 'JNJ', 'AMZN', '9984T', 'RDSA',\n       '0700HK', 'BE', 'AAPL', 'PFE', 'SEDG', 'MSFT', 'TM', 'VOW3DE',\n       'PG', 'DB', 'UL', 'TWTR', 'XOM', 'T'], dtype=object)"
     },
     "execution_count": 33,
     "metadata": {},
     "output_type": "execute_result"
    }
   ],
   "source": [
    "df.Ticker.unique()"
   ],
   "metadata": {
    "collapsed": false,
    "ExecuteTime": {
     "end_time": "2023-10-23T15:04:57.411953Z",
     "start_time": "2023-10-23T15:04:57.374459Z"
    }
   }
  },
  {
   "cell_type": "code",
   "execution_count": null,
   "metadata": {
    "collapsed": false,
    "ExecuteTime": {
     "end_time": "2023-10-23T14:33:03.893479Z",
     "start_time": "2023-10-23T14:33:03.887350Z"
    }
   },
   "outputs": [],
   "source": [
    "# TODO: spiegare perchè togliamo i quarterly\n",
    "#merged_data.drop(columns=['Normalized EBITDA_quarterly', 'Total Unusual Items_quarterly', 'Total Unusual Items Excluding Goodwill_quarterly'], inplace=True)\n",
    "merged_data.iloc[1 : counter + len(merged_data), merged_data.columns.get_loc(\"Ticker\")] = file.split(\"/\")[1].split(\"\\\\\")[1].replace(\".\", \"\")[:-4]"
   ]
  },
  {
   "cell_type": "markdown",
   "metadata": {
    "collapsed": false
   },
   "source": [
    "## Feature Engineering\n",
    "- **Medie mobili**: Calcoliamo le medie mobili a breve e lungo termine per il prezzo di chiusura, che sono comuni nel trading algoritmico. Ad esempio, medie mobili a 5, 10, 30 e 50 giorni.\n",
    "- **RSI (Relative Strength Index)**: Questo è un indicatore di momentum che può aiutare a identificare se un'azione è in condizione di \"overbought\" o \"oversold\".\n",
    "- **MACD (Moving Average Convergence Divergence)**: Un altro indicatore di momentum.\n",
    "- **Bollinger Bands**: Questi sono basati su medie mobili e possono aiutare a identificare se un prezzo è relativamente alto o basso.\n",
    "- **Volatilità**: Potremmo calcolare la volatilità come la deviazione standard dei rendimenti giornalieri in una finestra temporale specifica."
   ]
  },
  {
   "cell_type": "code",
   "execution_count": null,
   "metadata": {
    "collapsed": false,
    "ExecuteTime": {
     "start_time": "2023-10-23T14:33:03.888788Z"
    }
   },
   "outputs": [],
   "source": [
    "# TODO: da fare per ogni stock\n",
    "# TODO: controllare gpt\n",
    "\n",
    "# Moving Averages\n",
    "merged_data['MA_5'] = merged_data['Close'].rolling(window=5).mean()\n",
    "merged_data['MA_10'] = merged_data['Close'].rolling(window=10).mean()\n",
    "merged_data['MA_30'] = merged_data['Close'].rolling(window=30).mean()\n",
    "merged_data['MA_50'] = merged_data['Close'].rolling(window=50).mean()\n",
    "\n",
    "# RSI\n",
    "delta = merged_data['Close'].diff()\n",
    "gain = (delta.where(delta > 0, 0)).fillna(0)\n",
    "loss = (-delta.where(delta < 0, 0)).fillna(0)\n",
    "avg_gain = gain.rolling(window=14).mean()\n",
    "avg_loss = loss.rolling(window=14).mean()\n",
    "rs = avg_gain / avg_loss\n",
    "merged_data['RSI'] = 100 - (100 / (1 + rs))\n",
    "\n",
    "# MACD\n",
    "merged_data['MACD'] = merged_data['Close'].ewm(span=12, adjust=False).mean() - merged_data['Close'].ewm(span=26, adjust=False).mean()\n",
    "merged_data['Signal_Line'] = merged_data['MACD'].ewm(span=9, adjust=False).mean()\n",
    "\n",
    "# Bollinger Bands\n",
    "merged_data['Bollinger_Mid_Band'] = merged_data['Close'].rolling(window=20).mean()\n",
    "merged_data['Bollinger_Upper_Band']  = merged_data['Bollinger_Mid_Band'] + 1.96*merged_data['Close'].rolling(window=20).std()\n",
    "merged_data['Bollinger_Lower_Band']  = merged_data['Bollinger_Mid_Band'] - 1.96*merged_data['Close'].rolling(window=20).std()\n",
    "\n",
    "# Volatility\n",
    "merged_data['Volatility'] = merged_data['Daily_Return'].rolling(window=5).std()\n",
    "\n",
    "to_drop_na = ['MA_5', 'MA_10', 'MA_30', 'MA_50', 'RSI', 'Volatility']\n",
    "\n",
    "for column in to_drop_na:\n",
    "    merged_data[column] = merged_data[column].fillna(0)\n",
    "\n",
    "# Display the dataset with new features\n",
    "merged_data"
   ]
  },
  {
   "cell_type": "code",
   "execution_count": null,
   "metadata": {
    "collapsed": false,
    "ExecuteTime": {
     "start_time": "2023-10-23T14:33:03.889763Z"
    }
   },
   "outputs": [],
   "source": [
    "# TODO: spiegare perche tagliamo il numero di record\n",
    "merged_data = merged_data[merged_data.index >= '2020-06-30']\n",
    "merged_data"
   ]
  },
  {
   "cell_type": "code",
   "execution_count": null,
   "metadata": {
    "collapsed": false,
    "ExecuteTime": {
     "start_time": "2023-10-23T14:33:03.890580Z"
    }
   },
   "outputs": [],
   "source": [
    "# da fare per ogni stock\n",
    "output_filepath = \"processed_nomedellostock.xlsx\"\n",
    "len(merged_data)\n",
    "merged_data.to_excel(output_filepath)\n"
   ]
  },
  {
   "cell_type": "code",
   "execution_count": null,
   "outputs": [],
   "source": [
    "# TODO list updated at 2023-10-23\n",
    "# TODO: esportare in Excel il dataset finale\n",
    "# TODO (opzionale) : refactor cartella Processed dentro a data \n",
    "# TODO: tagliare i dati al 30/06/2020"
   ],
   "metadata": {
    "collapsed": false
   }
  }
 ],
 "metadata": {
  "kernelspec": {
   "display_name": "Python 3 (ipykernel)",
   "language": "python",
   "name": "python3"
  },
  "language_info": {
   "codemirror_mode": {
    "name": "ipython",
    "version": 3
   },
   "file_extension": ".py",
   "mimetype": "text/x-python",
   "name": "python",
   "nbconvert_exporter": "python",
   "pygments_lexer": "ipython3",
   "version": "3.11.5"
  }
 },
 "nbformat": 4,
 "nbformat_minor": 2
}
