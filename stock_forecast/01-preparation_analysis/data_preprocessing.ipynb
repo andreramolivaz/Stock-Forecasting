{
 "cells": [
  {
   "cell_type": "markdown",
   "metadata": {},
   "source": [
    "# Data Preprocessing"
   ]
  },
  {
   "cell_type": "code",
   "execution_count": 1,
   "outputs": [],
   "source": [
    "import pandas as pd"
   ],
   "metadata": {
    "collapsed": false,
    "ExecuteTime": {
     "end_time": "2023-10-15T14:58:59.201007200Z",
     "start_time": "2023-10-15T14:58:58.719139500Z"
    }
   }
  },
  {
   "cell_type": "code",
   "execution_count": 25,
   "outputs": [],
   "source": [
    "sheet_names = [\n",
    "    'Info',\n",
    "    'Historical',\n",
    "    'Income Statement',\n",
    "    'Quarterly Income Statement',\n",
    "    'Cashflow',\n",
    "    'Institutional Holders',\n",
    "    'Mutual Fund Holders',\n",
    "    'Major Holders'\n",
    "]\n",
    "#riempire stocks di tutti i vari codici, fare la retrive di tutti i file e buttarli in df_stock per poi poter lavorare su tutti i dati\n",
    "stocks = ['./data/MSFT.xlsx']\n",
    "df_stock = pd.ExcelFile(stocks[0])\n"
   ],
   "metadata": {
    "collapsed": false,
    "ExecuteTime": {
     "end_time": "2023-10-15T15:12:45.228954600Z",
     "start_time": "2023-10-15T15:12:45.210111600Z"
    }
   }
  },
  {
   "cell_type": "markdown",
   "source": [
    "## Integrazione dei dati finanziarii\n",
    "Colonne aggiunte:\n",
    "- **Daily_Return**: rendimento giornaliero.\n",
    "- **Target_1day**: indica se il prezzo di chiusura del giorno successivo sarà superiore (1) o inferiore (0) rispetto al prezzo di chiusura del giorno corrente.\n",
    "- **Target_5days**: indica se il prezzo di chiusura a 5 giorni nel futuro sarà superiore (1) o inferiore (0) rispetto al prezzo di chiusura del giorno corrente.\n",
    "- **Target_30days**: indica se il prezzo di chiusura a 30 giorni nel futuro sarà superiore (1) o inferiore (0) rispetto al prezzo di chiusura del giorno corrente.\n",
    "\n",
    "Integrato i vari sheet  \"Income Statement\", \"Quarterly Income Statement\" e \"Cashflow\" in un singolo excel. NB: Dato che questi fogli contengono dati finanziari annuali o trimestrali un approccio comune è portare avanti l'ultimo valore noto per ogni giorno fino a quando non si dispone di un nuovo valore. Per alcunii anni finanziari sarà Nan perché non li abbiamo."
   ],
   "metadata": {
    "collapsed": false
   }
  },
  {
   "cell_type": "code",
   "execution_count": 23,
   "outputs": [
    {
     "data": {
      "text/plain": "                Open      High       Low     Close     Volume  Dividends  \\\nDate                                                                       \n1986-03-14  0.060396  0.063632  0.060396  0.062553  308160000        0.0   \n1986-03-17  0.062553  0.064172  0.062553  0.063632  133171200        0.0   \n1986-03-18  0.063632  0.064172  0.061475  0.062014   67766400        0.0   \n1986-03-19  0.062014  0.062553  0.060396  0.060936   47894400        0.0   \n1986-03-20  0.060936  0.060936  0.058779  0.059318   58435200        0.0   \n\n            Stock Splits  Daily_Return  Target_1day  Target_5days  \\\nDate                                                                \n1986-03-14           0.0      0.035712            1             0   \n1986-03-17           0.0      0.017250            0             0   \n1986-03-18           0.0     -0.025432            0             0   \n1986-03-19           0.0     -0.017390            0             0   \n1986-03-20           0.0     -0.026547            0             1   \n\n            Target_30days  Normalized EBITDA  Total Unusual Items  \\\nDate                                                                \n1986-03-14              1                NaN                  NaN   \n1986-03-17              1                NaN                  NaN   \n1986-03-18              1                NaN                  NaN   \n1986-03-19              1                NaN                  NaN   \n1986-03-20              1                NaN                  NaN   \n\n            Total Unusual Items Excluding Goodwill  \\\nDate                                                 \n1986-03-14                                     NaN   \n1986-03-17                                     NaN   \n1986-03-18                                     NaN   \n1986-03-19                                     NaN   \n1986-03-20                                     NaN   \n\n            Normalized EBITDA_quarterly  Total Unusual Items_quarterly  \\\nDate                                                                     \n1986-03-14                          NaN                            NaN   \n1986-03-17                          NaN                            NaN   \n1986-03-18                          NaN                            NaN   \n1986-03-19                          NaN                            NaN   \n1986-03-20                          NaN                            NaN   \n\n            Total Unusual Items Excluding Goodwill_quarterly  \\\nDate                                                           \n1986-03-14                                               NaN   \n1986-03-17                                               NaN   \n1986-03-18                                               NaN   \n1986-03-19                                               NaN   \n1986-03-20                                               NaN   \n\n            Operating Cash Flow  Capital Expenditure  Free Cash Flow  \nDate                                                                  \n1986-03-14                  NaN                  NaN             NaN  \n1986-03-17                  NaN                  NaN             NaN  \n1986-03-18                  NaN                  NaN             NaN  \n1986-03-19                  NaN                  NaN             NaN  \n1986-03-20                  NaN                  NaN             NaN  ",
      "text/html": "<div>\n<style scoped>\n    .dataframe tbody tr th:only-of-type {\n        vertical-align: middle;\n    }\n\n    .dataframe tbody tr th {\n        vertical-align: top;\n    }\n\n    .dataframe thead th {\n        text-align: right;\n    }\n</style>\n<table border=\"1\" class=\"dataframe\">\n  <thead>\n    <tr style=\"text-align: right;\">\n      <th></th>\n      <th>Open</th>\n      <th>High</th>\n      <th>Low</th>\n      <th>Close</th>\n      <th>Volume</th>\n      <th>Dividends</th>\n      <th>Stock Splits</th>\n      <th>Daily_Return</th>\n      <th>Target_1day</th>\n      <th>Target_5days</th>\n      <th>Target_30days</th>\n      <th>Normalized EBITDA</th>\n      <th>Total Unusual Items</th>\n      <th>Total Unusual Items Excluding Goodwill</th>\n      <th>Normalized EBITDA_quarterly</th>\n      <th>Total Unusual Items_quarterly</th>\n      <th>Total Unusual Items Excluding Goodwill_quarterly</th>\n      <th>Operating Cash Flow</th>\n      <th>Capital Expenditure</th>\n      <th>Free Cash Flow</th>\n    </tr>\n    <tr>\n      <th>Date</th>\n      <th></th>\n      <th></th>\n      <th></th>\n      <th></th>\n      <th></th>\n      <th></th>\n      <th></th>\n      <th></th>\n      <th></th>\n      <th></th>\n      <th></th>\n      <th></th>\n      <th></th>\n      <th></th>\n      <th></th>\n      <th></th>\n      <th></th>\n      <th></th>\n      <th></th>\n      <th></th>\n    </tr>\n  </thead>\n  <tbody>\n    <tr>\n      <th>1986-03-14</th>\n      <td>0.060396</td>\n      <td>0.063632</td>\n      <td>0.060396</td>\n      <td>0.062553</td>\n      <td>308160000</td>\n      <td>0.0</td>\n      <td>0.0</td>\n      <td>0.035712</td>\n      <td>1</td>\n      <td>0</td>\n      <td>1</td>\n      <td>NaN</td>\n      <td>NaN</td>\n      <td>NaN</td>\n      <td>NaN</td>\n      <td>NaN</td>\n      <td>NaN</td>\n      <td>NaN</td>\n      <td>NaN</td>\n      <td>NaN</td>\n    </tr>\n    <tr>\n      <th>1986-03-17</th>\n      <td>0.062553</td>\n      <td>0.064172</td>\n      <td>0.062553</td>\n      <td>0.063632</td>\n      <td>133171200</td>\n      <td>0.0</td>\n      <td>0.0</td>\n      <td>0.017250</td>\n      <td>0</td>\n      <td>0</td>\n      <td>1</td>\n      <td>NaN</td>\n      <td>NaN</td>\n      <td>NaN</td>\n      <td>NaN</td>\n      <td>NaN</td>\n      <td>NaN</td>\n      <td>NaN</td>\n      <td>NaN</td>\n      <td>NaN</td>\n    </tr>\n    <tr>\n      <th>1986-03-18</th>\n      <td>0.063632</td>\n      <td>0.064172</td>\n      <td>0.061475</td>\n      <td>0.062014</td>\n      <td>67766400</td>\n      <td>0.0</td>\n      <td>0.0</td>\n      <td>-0.025432</td>\n      <td>0</td>\n      <td>0</td>\n      <td>1</td>\n      <td>NaN</td>\n      <td>NaN</td>\n      <td>NaN</td>\n      <td>NaN</td>\n      <td>NaN</td>\n      <td>NaN</td>\n      <td>NaN</td>\n      <td>NaN</td>\n      <td>NaN</td>\n    </tr>\n    <tr>\n      <th>1986-03-19</th>\n      <td>0.062014</td>\n      <td>0.062553</td>\n      <td>0.060396</td>\n      <td>0.060936</td>\n      <td>47894400</td>\n      <td>0.0</td>\n      <td>0.0</td>\n      <td>-0.017390</td>\n      <td>0</td>\n      <td>0</td>\n      <td>1</td>\n      <td>NaN</td>\n      <td>NaN</td>\n      <td>NaN</td>\n      <td>NaN</td>\n      <td>NaN</td>\n      <td>NaN</td>\n      <td>NaN</td>\n      <td>NaN</td>\n      <td>NaN</td>\n    </tr>\n    <tr>\n      <th>1986-03-20</th>\n      <td>0.060936</td>\n      <td>0.060936</td>\n      <td>0.058779</td>\n      <td>0.059318</td>\n      <td>58435200</td>\n      <td>0.0</td>\n      <td>0.0</td>\n      <td>-0.026547</td>\n      <td>0</td>\n      <td>1</td>\n      <td>1</td>\n      <td>NaN</td>\n      <td>NaN</td>\n      <td>NaN</td>\n      <td>NaN</td>\n      <td>NaN</td>\n      <td>NaN</td>\n      <td>NaN</td>\n      <td>NaN</td>\n      <td>NaN</td>\n    </tr>\n  </tbody>\n</table>\n</div>"
     },
     "execution_count": 23,
     "metadata": {},
     "output_type": "execute_result"
    }
   ],
   "source": [
    "# TODO: da fare per ogni stock\n",
    "# Loading the 'Historical' data stock\n",
    "historical_data = df_stock.parse('Historical')\n",
    "\n",
    "# Renaming and setting the Date column\n",
    "historical_data.rename(columns={'Unnamed: 0': 'Date'}, inplace=True)\n",
    "historical_data['Date'] = pd.to_datetime(historical_data['Date'])\n",
    "historical_data.set_index('Date', inplace=True)\n",
    "\n",
    "# Calculate daily return\n",
    "historical_data['Daily_Return'] = historical_data['Close'].pct_change()\n",
    "\n",
    "# Create target variables for next day, next 5 days and next 30 days\n",
    "historical_data['Target_1day'] = (historical_data['Close'].shift(-1) > historical_data['Close']).astype(int)\n",
    "historical_data['Target_5days'] = (historical_data['Close'].shift(-5) > historical_data['Close']).astype(int)\n",
    "historical_data['Target_30days'] = (historical_data['Close'].shift(-30) > historical_data['Close']).astype(int)\n",
    "\n",
    "# Drop rows with NaN values (will be present due to the shifting for target creation)\n",
    "historical_data = historical_data.dropna()\n",
    "\n",
    "# Display the updated dataframe\n",
    "historical_data.head()\n",
    "# Loading the 'Income Statement' data for XOM\n",
    "income_statement = df_stock.parse('Income Statement')\n",
    "\n",
    "# Transposing the data for easier integration\n",
    "income_statement = income_statement.set_index('Unnamed: 0').transpose()\n",
    "income_statement.index = pd.to_datetime(income_statement.index)\n",
    "\n",
    "# Selecting some of the key financial metrics (you can add or remove based on relevance)\n",
    "selected_metrics = [\n",
    "    'Normalized EBITDA',\n",
    "    'Total Unusual Items',\n",
    "    'Total Unusual Items Excluding Goodwill'\n",
    "]\n",
    "\n",
    "income_statement = income_statement[selected_metrics]\n",
    "\n",
    "# Merging the income statement data with the historical data\n",
    "merged_data = historical_data.join(income_statement, how='left')\n",
    "\n",
    "# Forward filling the NaN values\n",
    "merged_data[selected_metrics] = merged_data[selected_metrics].fillna(method='ffill')\n",
    "\n",
    "# Display the updated dataframe with integrated financial metrics\n",
    "merged_data.head()\n",
    "# Loading the 'Quarterly Income Statement' data for XOM\n",
    "quarterly_income_statement = df_stock.parse('Quarterly Income Statement')\n",
    "\n",
    "# Transposing the data for easier integration\n",
    "quarterly_income_statement = quarterly_income_statement.set_index('Unnamed: 0').transpose()\n",
    "quarterly_income_statement.index = pd.to_datetime(quarterly_income_statement.index)\n",
    "\n",
    "# Selecting some of the key financial metrics (you can add or remove based on relevance)\n",
    "selected_metrics_quarterly = [\n",
    "    'Normalized EBITDA',\n",
    "    'Total Unusual Items',\n",
    "    'Total Unusual Items Excluding Goodwill'\n",
    "]\n",
    "\n",
    "quarterly_income_statement = quarterly_income_statement[selected_metrics_quarterly]\n",
    "\n",
    "# Merging the quarterly income statement data with the existing dataframe\n",
    "merged_data = merged_data.join(quarterly_income_statement, how='left', rsuffix='_quarterly')\n",
    "\n",
    "# Forward filling the NaN values\n",
    "merged_data[selected_metrics_quarterly] = merged_data[selected_metrics_quarterly].fillna(method='ffill')\n",
    "\n",
    "# Display the updated dataframe with integrated quarterly financial metrics\n",
    "merged_data.head()\n",
    "# Loading the 'Cashflow' data for XOM\n",
    "cashflow = df_stock.parse('Cashflow')\n",
    "\n",
    "# Transposing the data for easier integration\n",
    "cashflow = cashflow.set_index('Unnamed: 0').transpose()\n",
    "cashflow.index = pd.to_datetime(cashflow.index)\n",
    "\n",
    "# Selecting some of the key cashflow metrics (you can add or remove based on relevance)\n",
    "selected_cashflow_metrics = [\n",
    "    'Operating Cash Flow',\n",
    "    'Capital Expenditure',\n",
    "    'Free Cash Flow'\n",
    "]\n",
    "\n",
    "cashflow = cashflow[selected_cashflow_metrics]\n",
    "\n",
    "# Merging the cashflow data with the existing dataframe\n",
    "merged_data = merged_data.join(cashflow, how='left', rsuffix='_cashflow')\n",
    "\n",
    "# Forward filling the NaN values\n",
    "merged_data[selected_cashflow_metrics] = merged_data[selected_cashflow_metrics].fillna(method='ffill')\n",
    "\n",
    "# Display the updated dataframe with integrated cashflow metrics\n",
    "merged_data.head()"
   ],
   "metadata": {
    "collapsed": false,
    "ExecuteTime": {
     "end_time": "2023-10-15T15:12:21.724629400Z",
     "start_time": "2023-10-15T15:12:20.459885100Z"
    }
   }
  },
  {
   "cell_type": "markdown",
   "source": [
    "## Feature Engineering\n",
    "- **Medie mobili**: Calcoliamo le medie mobili a breve e lungo termine per il prezzo di chiusura, che sono comuni nel trading algoritmico. Ad esempio, medie mobili a 5, 10, 30 e 50 giorni.\n",
    "- **RSI (Relative Strength Index)**: Questo è un indicatore di momentum che può aiutare a identificare se un'azione è in condizione di \"overbought\" o \"oversold\".\n",
    "- **MACD (Moving Average Convergence Divergence)**: Un altro indicatore di momentum.\n",
    "- **Bollinger Bands**: Questi sono basati su medie mobili e possono aiutare a identificare se un prezzo è relativamente alto o basso.\n",
    "- **Volatilità**: Potremmo calcolare la volatilità come la deviazione standard dei rendimenti giornalieri in una finestra temporale specifica."
   ],
   "metadata": {
    "collapsed": false
   }
  },
  {
   "cell_type": "code",
   "execution_count": 24,
   "outputs": [
    {
     "data": {
      "text/plain": "                  Open        High         Low       Close    Volume  \\\nDate                                                                   \n2022-09-30  236.009950  238.238421  230.503152  230.671524  35694800   \n2023-03-31  282.512980  288.029195  281.786100  287.063354  32766000   \n2023-06-30  337.036412  342.005902  336.487586  339.820526  26823800   \n\n            Dividends  Stock Splits  Daily_Return  Target_1day  Target_5days  \\\nDate                                                                           \n2022-09-30        0.0           0.0     -0.019368            1             1   \n2023-03-31        0.0           0.0      0.014962            0             1   \n2023-06-30        0.0           0.0      0.016386            0             0   \n\n            ...       MA_10       MA_30       MA_50        RSI      MACD  \\\nDate        ...                                                            \n2022-09-30  ...  236.728018  252.713585  262.290984  14.540885 -8.486472   \n2023-03-31  ...  276.907108  262.233321  259.083778  77.530457  7.547206   \n2023-06-30  ...  335.617419  330.415437  318.747694  60.315063  4.795936   \n\n            Signal_Line  Bollinger_Mid_Band  Bollinger_Upper_Band  \\\nDate                                                                \n2022-09-30    -8.007111          244.711395            263.946825   \n2023-03-31     6.135221          267.966125            291.834903   \n2023-06-30     5.838509          334.058224            345.465791   \n\n            Bollinger_Lower_Band  Volatility  \nDate                                          \n2022-09-30            225.475964    0.015161  \n2023-03-31            244.097346    0.014477  \n2023-06-30            322.650658    0.015243  \n\n[3 rows x 31 columns]",
      "text/html": "<div>\n<style scoped>\n    .dataframe tbody tr th:only-of-type {\n        vertical-align: middle;\n    }\n\n    .dataframe tbody tr th {\n        vertical-align: top;\n    }\n\n    .dataframe thead th {\n        text-align: right;\n    }\n</style>\n<table border=\"1\" class=\"dataframe\">\n  <thead>\n    <tr style=\"text-align: right;\">\n      <th></th>\n      <th>Open</th>\n      <th>High</th>\n      <th>Low</th>\n      <th>Close</th>\n      <th>Volume</th>\n      <th>Dividends</th>\n      <th>Stock Splits</th>\n      <th>Daily_Return</th>\n      <th>Target_1day</th>\n      <th>Target_5days</th>\n      <th>...</th>\n      <th>MA_10</th>\n      <th>MA_30</th>\n      <th>MA_50</th>\n      <th>RSI</th>\n      <th>MACD</th>\n      <th>Signal_Line</th>\n      <th>Bollinger_Mid_Band</th>\n      <th>Bollinger_Upper_Band</th>\n      <th>Bollinger_Lower_Band</th>\n      <th>Volatility</th>\n    </tr>\n    <tr>\n      <th>Date</th>\n      <th></th>\n      <th></th>\n      <th></th>\n      <th></th>\n      <th></th>\n      <th></th>\n      <th></th>\n      <th></th>\n      <th></th>\n      <th></th>\n      <th></th>\n      <th></th>\n      <th></th>\n      <th></th>\n      <th></th>\n      <th></th>\n      <th></th>\n      <th></th>\n      <th></th>\n      <th></th>\n      <th></th>\n    </tr>\n  </thead>\n  <tbody>\n    <tr>\n      <th>2022-09-30</th>\n      <td>236.009950</td>\n      <td>238.238421</td>\n      <td>230.503152</td>\n      <td>230.671524</td>\n      <td>35694800</td>\n      <td>0.0</td>\n      <td>0.0</td>\n      <td>-0.019368</td>\n      <td>1</td>\n      <td>1</td>\n      <td>...</td>\n      <td>236.728018</td>\n      <td>252.713585</td>\n      <td>262.290984</td>\n      <td>14.540885</td>\n      <td>-8.486472</td>\n      <td>-8.007111</td>\n      <td>244.711395</td>\n      <td>263.946825</td>\n      <td>225.475964</td>\n      <td>0.015161</td>\n    </tr>\n    <tr>\n      <th>2023-03-31</th>\n      <td>282.512980</td>\n      <td>288.029195</td>\n      <td>281.786100</td>\n      <td>287.063354</td>\n      <td>32766000</td>\n      <td>0.0</td>\n      <td>0.0</td>\n      <td>0.014962</td>\n      <td>0</td>\n      <td>1</td>\n      <td>...</td>\n      <td>276.907108</td>\n      <td>262.233321</td>\n      <td>259.083778</td>\n      <td>77.530457</td>\n      <td>7.547206</td>\n      <td>6.135221</td>\n      <td>267.966125</td>\n      <td>291.834903</td>\n      <td>244.097346</td>\n      <td>0.014477</td>\n    </tr>\n    <tr>\n      <th>2023-06-30</th>\n      <td>337.036412</td>\n      <td>342.005902</td>\n      <td>336.487586</td>\n      <td>339.820526</td>\n      <td>26823800</td>\n      <td>0.0</td>\n      <td>0.0</td>\n      <td>0.016386</td>\n      <td>0</td>\n      <td>0</td>\n      <td>...</td>\n      <td>335.617419</td>\n      <td>330.415437</td>\n      <td>318.747694</td>\n      <td>60.315063</td>\n      <td>4.795936</td>\n      <td>5.838509</td>\n      <td>334.058224</td>\n      <td>345.465791</td>\n      <td>322.650658</td>\n      <td>0.015243</td>\n    </tr>\n  </tbody>\n</table>\n<p>3 rows × 31 columns</p>\n</div>"
     },
     "execution_count": 24,
     "metadata": {},
     "output_type": "execute_result"
    }
   ],
   "source": [
    "# TODO: da fare per ogni stock\n",
    "# Moving Averages\n",
    "merged_data['MA_5'] = merged_data['Close'].rolling(window=5).mean()\n",
    "merged_data['MA_10'] = merged_data['Close'].rolling(window=10).mean()\n",
    "merged_data['MA_30'] = merged_data['Close'].rolling(window=30).mean()\n",
    "merged_data['MA_50'] = merged_data['Close'].rolling(window=50).mean()\n",
    "\n",
    "# RSI\n",
    "delta = merged_data['Close'].diff()\n",
    "gain = (delta.where(delta > 0, 0)).fillna(0)\n",
    "loss = (-delta.where(delta < 0, 0)).fillna(0)\n",
    "avg_gain = gain.rolling(window=14).mean()\n",
    "avg_loss = loss.rolling(window=14).mean()\n",
    "rs = avg_gain / avg_loss\n",
    "merged_data['RSI'] = 100 - (100 / (1 + rs))\n",
    "\n",
    "# MACD\n",
    "merged_data['MACD'] = merged_data['Close'].ewm(span=12, adjust=False).mean() - merged_data['Close'].ewm(span=26, adjust=False).mean()\n",
    "merged_data['Signal_Line'] = merged_data['MACD'].ewm(span=9, adjust=False).mean()\n",
    "\n",
    "# Bollinger Bands\n",
    "merged_data['Bollinger_Mid_Band'] = merged_data['Close'].rolling(window=20).mean()\n",
    "merged_data['Bollinger_Upper_Band']  = merged_data['Bollinger_Mid_Band'] + 1.96*merged_data['Close'].rolling(window=20).std()\n",
    "merged_data['Bollinger_Lower_Band']  = merged_data['Bollinger_Mid_Band'] - 1.96*merged_data['Close'].rolling(window=20).std()\n",
    "\n",
    "# Volatility\n",
    "merged_data['Volatility'] = merged_data['Daily_Return'].rolling(window=5).std()\n",
    "\n",
    "# Drop NaN values resulting from rolling calculations\n",
    "merged_data = merged_data.dropna()\n",
    "\n",
    "# Display the dataset with new features\n",
    "merged_data.head()"
   ],
   "metadata": {
    "collapsed": false,
    "ExecuteTime": {
     "end_time": "2023-10-15T15:12:26.161845600Z",
     "start_time": "2023-10-15T15:12:26.126301900Z"
    }
   }
  },
  {
   "cell_type": "code",
   "execution_count": 22,
   "outputs": [],
   "source": [
    "# da fare per ogni stock\n",
    "output_filepath = \"processed_nomedellostock.xlsx\"\n",
    "len(merged_data)\n",
    "merged_data.to_excel(output_filepath)\n"
   ],
   "metadata": {
    "collapsed": false,
    "ExecuteTime": {
     "end_time": "2023-10-15T15:11:25.935537800Z",
     "start_time": "2023-10-15T15:11:25.891899300Z"
    }
   }
  }
 ],
 "metadata": {
  "language_info": {
   "name": "python"
  },
  "kernelspec": {
   "name": "python3",
   "language": "python",
   "display_name": "Python 3 (ipykernel)"
  }
 },
 "nbformat": 4,
 "nbformat_minor": 2
}
