{
 "cells": [
  {
   "cell_type": "markdown",
   "metadata": {},
   "source": [
    "# Data Preprocessing"
   ]
  },
  {
   "cell_type": "code",
   "execution_count": 1,
   "metadata": {
    "collapsed": false,
    "ExecuteTime": {
     "end_time": "2023-10-23T19:22:11.278063Z",
     "start_time": "2023-10-23T19:22:10.790788Z"
    }
   },
   "outputs": [],
   "source": [
    "import pandas as pd\n",
    "import numpy as np\n",
    "import os"
   ]
  },
  {
   "cell_type": "code",
   "execution_count": 2,
   "metadata": {
    "collapsed": false,
    "ExecuteTime": {
     "end_time": "2023-10-23T19:22:11.287198Z",
     "start_time": "2023-10-23T19:22:11.276368Z"
    }
   },
   "outputs": [
    {
     "data": {
      "text/plain": "['./data/GS.xlsx',\n './data/1398.HK.xlsx',\n './data/BA.xlsx',\n './data/005380.KS.xlsx',\n './data/AIR.PA.xlsx',\n './data/KO.xlsx',\n './data/WMT.xlsx',\n './data/005930.KS.xlsx',\n './data/NOVN.SW.xlsx',\n './data/CVX.xlsx',\n './data/EGHT.xlsx',\n './data/MMM.xlsx',\n './data/VZ.xlsx',\n './data/JPM.xlsx',\n './data/JNJ.xlsx',\n './data/AMZN.xlsx',\n './data/9984.T.xlsx',\n './data/RDS.A.xlsx',\n './data/0700.HK.xlsx',\n './data/BE.xlsx',\n './data/AAPL.xlsx',\n './data/PFE.xlsx',\n './data/SEDG.xlsx',\n './data/MSFT.xlsx',\n './data/TM.xlsx',\n './data/VOW3.DE.xlsx',\n './data/PG.xlsx',\n './data/DB.xlsx',\n './data/UL.xlsx',\n './data/TWTR.xlsx',\n './data/XOM.xlsx',\n './data/T.xlsx']"
     },
     "execution_count": 2,
     "metadata": {},
     "output_type": "execute_result"
    }
   ],
   "source": [
    "# TODO: da rifare per ogni stock\n",
    "sheet_names = [\n",
    "    'Info',\n",
    "    'Historical',\n",
    "    'Income Statement',\n",
    "    'Quarterly Income Statement',\n",
    "    'Cashflow',\n",
    "    'Institutional Holders',\n",
    "    'Mutual Fund Holders',\n",
    "    'Major Holders'\n",
    "]\n",
    "\n",
    "#riempire stocks di tutti i vari codici, fare la retrive di tutti i file e buttarli in df_stock per poi poter lavorare su tutti i dati\n",
    "directory = \"./data\"\n",
    "stocks = [os.path.join(directory, file) for file in os.listdir(directory)]\n",
    "stocks"
   ]
  },
  {
   "cell_type": "markdown",
   "metadata": {
    "collapsed": false
   },
   "source": [
    "## Integrazione dei dati finanziari\n",
    "Colonne aggiunte:\n",
    "- **Daily_Return**: rendimento giornaliero.\n",
    "- **Target_1day**: indica se il prezzo di chiusura del giorno successivo sarà superiore (1) o inferiore (0) rispetto al prezzo di chiusura del giorno corrente.\n",
    "- **Target_5days**: indica se il prezzo di chiusura a 5 giorni nel futuro sarà superiore (1) o inferiore (0) rispetto al prezzo di chiusura del giorno corrente.\n",
    "- **Target_30days**: indica se il prezzo di chiusura a 30 giorni nel futuro sarà superiore (1) o inferiore (0) rispetto al prezzo di chiusura del giorno corrente.\n",
    "\n",
    "Integrato i vari sheet \"Income Statement\", \"Quarterly Income Statement\" e \"Cashflow\" in un singolo excel. NB: Dato che questi fogli contengono dati finanziari annuali o trimestrali un approccio comune è portare avanti l'ultimo valore noto per ogni giorno fino a quando non si dispone di un nuovo valore. Per alcunii anni finanziari sarà Nan perché non li abbiamo.\n",
    "\n",
    "Lista delle azioni alle quali mancano pezzi:\n",
    "- **1398.HK** manca income_statement.normalized_EBITA"
   ]
  },
  {
   "cell_type": "code",
   "execution_count": 26,
   "metadata": {
    "collapsed": false,
    "ExecuteTime": {
     "end_time": "2023-10-23T20:22:06.220515Z",
     "start_time": "2023-10-23T20:21:45.734277Z"
    }
   },
   "outputs": [],
   "source": [
    "# TODO: da fare per ogni stock\n",
    "counter = 0\n",
    "df = pd.DataFrame()\n",
    "for file in stocks:\n",
    "    if file.split(\"/\")[2][:-5] != \"1398.HK\":\n",
    "        df_stock = pd.ExcelFile(file)\n",
    "        \n",
    "        # prevent false postive warnings, reference_ https://stackoverflow.com/questions/20625582/how-to-deal-with-settingwithcopywarning-in-pandas\n",
    "        pd.options.mode.chained_assignment = None # default='warn'\n",
    "        \n",
    "        # Loading the 'Historical' data stock\n",
    "        historical_data = df_stock.parse('Historical')\n",
    "        \n",
    "        # Renaming and setting the Date column\n",
    "        historical_data.rename(columns={'Unnamed: 0': 'Date'}, inplace=True)\n",
    "        historical_data['Date'] = pd.to_datetime(historical_data['Date'])\n",
    "        historical_data.set_index('Date', inplace=True)\n",
    "        # Calculate daily return\n",
    "        historical_data['Daily_Return'] = historical_data['Close'].pct_change()\n",
    "        \n",
    "        # Create target variables for next day, next 5 days and next 30 days\n",
    "        historical_data['Target_1day'] = (historical_data['Close'].shift(-1) > historical_data['Close']).astype(int)\n",
    "        historical_data['Target_5days'] = (historical_data['Close'].shift(-5) > historical_data['Close']).astype(int)\n",
    "        historical_data['Target_30days'] = (historical_data['Close'].shift(-30) > historical_data['Close']).astype(int)\n",
    "        \n",
    "        # Drop rows with NaN values (will be present due to the shifting for target creation)\n",
    "        historical_data = historical_data.dropna()\n",
    "        \n",
    "        # Loading the 'Income Statement' data for XOM\n",
    "        income_statement = df_stock.parse('Income Statement')\n",
    "        \n",
    "        # Transposing the data for easier integration\n",
    "        income_statement = income_statement.set_index('Unnamed: 0').transpose()\n",
    "        income_statement.index = pd.to_datetime(income_statement.index)\n",
    "        \n",
    "        \n",
    "        # Selecting some of the key financial metrics (you can add or remove based on relevance)\n",
    "        selected_metrics = [\n",
    "            'Normalized EBITDA',\n",
    "            'Total Unusual Items',\n",
    "            'Total Unusual Items Excluding Goodwill'\n",
    "        ]\n",
    "        \n",
    "        # check if columns exist, in case create them\n",
    "        for metric in selected_metrics:\n",
    "            if metric not in income_statement.columns:\n",
    "                income_statement[metric] = np.nan\n",
    "                \n",
    "        \n",
    "        income_statement = income_statement[selected_metrics]\n",
    "        \n",
    "        # Merging the income statement data with the historical data\n",
    "        merged_data = historical_data.join(income_statement, how='left')\n",
    "        \n",
    "        # Forward filling the NaN values\n",
    "        merged_data[selected_metrics] = merged_data[selected_metrics].fillna(method='ffill')\n",
    "        \n",
    "        # Loading the 'Cashflow' data for XOM\n",
    "        cashflow = df_stock.parse('Cashflow')\n",
    "        \n",
    "        # Transposing the data for easier integration\n",
    "        cashflow = cashflow.set_index('Unnamed: 0').transpose()\n",
    "        cashflow.index = pd.to_datetime(cashflow.index)\n",
    "        \n",
    "        # Selecting some of the key cashflow metrics (you can add or remove based on relevance)\n",
    "        selected_cashflow_metrics = [\n",
    "            'Operating Cash Flow',\n",
    "            'Capital Expenditure',\n",
    "            'Free Cash Flow'\n",
    "        ]\n",
    "        \n",
    "        for metric in selected_cashflow_metrics:\n",
    "            if metric not in cashflow.columns:\n",
    "                cashflow[metric] = np.nan\n",
    "        \n",
    "        cashflow = cashflow[selected_cashflow_metrics]\n",
    "        \n",
    "        # Merging the cashflow data with the existing dataframe\n",
    "        merged_data = merged_data.join(cashflow, how='left', rsuffix='_cashflow')\n",
    "        \n",
    "        # Forward filling the NaN values\n",
    "        merged_data[selected_cashflow_metrics] = merged_data[selected_cashflow_metrics].fillna(method='ffill')\n",
    "        \n",
    "        if 'Ticker' not in merged_data.columns:\n",
    "            merged_data['Ticker'] = file.split(\"/\")[2].replace(\".\", \"\")[:-4]\n",
    "        \n",
    "        # Display the updated dataframe with integrated cashflow metrics\n",
    "        merged_data.iloc[counter : counter + len(merged_data), merged_data.columns.get_loc(\"Ticker\")] = file.split(\"/\")[2].replace(\".\", \"\")[:-4]\n",
    "        \n",
    "        counter = len(merged_data)\n",
    "\n",
    "        # Moving Averages\n",
    "        merged_data['MA_5'] = merged_data['Close'].rolling(window=5).mean()\n",
    "        merged_data['MA_10'] = merged_data['Close'].rolling(window=10).mean()\n",
    "        merged_data['MA_30'] = merged_data['Close'].rolling(window=30).mean()\n",
    "        merged_data['MA_50'] = merged_data['Close'].rolling(window=50).mean()\n",
    "        \n",
    "        # RSI\n",
    "        delta = merged_data['Close'].diff()\n",
    "        gain = (delta.where(delta > 0, 0)).fillna(0)\n",
    "        loss = (-delta.where(delta < 0, 0)).fillna(0)\n",
    "        avg_gain = gain.rolling(window=14).mean()\n",
    "        avg_loss = loss.rolling(window=14).mean()\n",
    "        rs = avg_gain / avg_loss\n",
    "        merged_data['RSI'] = 100 - (100 / (1 + rs))\n",
    "        \n",
    "        # MACD\n",
    "        merged_data['MACD'] = merged_data['Close'].ewm(span=12, adjust=False).mean() - merged_data['Close'].ewm(span=26, adjust=False).mean()\n",
    "        merged_data['Signal_Line'] = merged_data['MACD'].ewm(span=9, adjust=False).mean()\n",
    "        \n",
    "        # Bollinger Bands\n",
    "        merged_data['Bollinger_Mid_Band'] = merged_data['Close'].rolling(window=20).mean()\n",
    "        merged_data['Bollinger_Upper_Band']  = merged_data['Bollinger_Mid_Band'] + 1.96*merged_data['Close'].rolling(window=20).std()\n",
    "        merged_data['Bollinger_Lower_Band']  = merged_data['Bollinger_Mid_Band'] - 1.96*merged_data['Close'].rolling(window=20).std()\n",
    "        \n",
    "        # Volatility\n",
    "        merged_data['Volatility'] = merged_data['Daily_Return'].rolling(window=5).std()\n",
    "        \n",
    "        to_drop_na = ['MA_5', 'MA_10', 'MA_30', 'MA_50', 'RSI', 'Volatility']\n",
    "        \n",
    "        for column in to_drop_na:\n",
    "            merged_data[column] = merged_data[column].fillna(0)\n",
    "\n",
    "        merged_data = merged_data[merged_data.index >= '2020-06-30']\n",
    "        indices_to_drop = merged_data.index[merged_data.isna().sum(axis=1) > 3].tolist()\n",
    "        \n",
    "        merged_data.drop(indices_to_drop, inplace=True)\n",
    "        \n",
    "        # Export in Excel company data\n",
    "        if not os.path.exists('./Processed'):\n",
    "            os.makedirs('./Processed')\n",
    "        with pd.ExcelWriter(f'./Processed/{file.split(\"/\")[2][:-5]}.xlsx', mode = \"w\", engine = \"openpyxl\") as writer:\n",
    "            merged_data.to_excel(writer, sheet_name=\"Sheet1\")\n",
    "        # Append to one single dataframe\n",
    "        df = pd.concat([df, merged_data])"
   ]
  },
  {
   "cell_type": "markdown",
   "source": [
    "# aggiornamento\n",
    "dato che alcune aziende hanno delle colonne completamente vuote, eliminare i record con i NaN implcava che l'intera azienda non sarebbe stata considerata.\n",
    "per questo motivo abbiamo deciso si non rimuovere le aziende, ma bensì non inserire nel dataset quelle colonne; in particola le colonne che devono essere rimosse sono:\n",
    "- `Normalized EBITDA`\n",
    "- `Total Unusual Items`\n",
    "- `Total Unusual Items Excluding Goodwill`\n",
    "- `Operating Cash Flow`\n",
    "- `Capital Expenditure`\n",
    "- `Free Cash Flow`\n",
    "di tutte queste colonne alcune in realtà possono essere lasciate, bisogna valutare bene quali"
   ],
   "metadata": {
    "collapsed": false
   }
  },
  {
   "cell_type": "code",
   "execution_count": 28,
   "outputs": [
    {
     "data": {
      "text/plain": "                  Open        High         Low       Close    Volume  \\\nDate                                                                   \n2020-06-30  179.305975  183.533325  179.102469  182.802551   3102800   \n2020-07-01  183.968046  184.763564  180.859977  182.756271   2620100   \n2020-07-02  187.316639  187.779150  182.349284  182.599030   2699400   \n2020-07-06  186.243599  192.209977  186.049352  191.812225   3567700   \n2020-07-07  190.091720  190.285980  184.254842  184.412094   2853500   \n...                ...         ...         ...         ...       ...   \n2023-10-09   14.470000   14.750000   14.460000   14.730000  30659800   \n2023-10-10   14.690000   14.980000   14.690000   14.960000  35746800   \n2023-10-11   14.950000   15.050000   14.680000   14.770000  31793500   \n2023-10-12   14.640000   14.670000   14.280000   14.450000  38543700   \n2023-10-13   14.480000   14.630000   14.320000   14.360000  34104500   \n\n            Dividends  Stock Splits  Daily_Return  Target_1day  Target_5days  \\\nDate                                                                           \n2020-06-30        0.0           0.0      0.021451            0             1   \n2020-07-01        0.0           0.0     -0.000253            0             0   \n2020-07-02        0.0           0.0     -0.000860            1             1   \n2020-07-06        0.0           0.0      0.050456            0             1   \n2020-07-07        0.0           0.0     -0.038580            1             1   \n...               ...           ...           ...          ...           ...   \n2023-10-09        0.0           0.0      0.019377            1             0   \n2023-10-10        0.0           0.0      0.015614            0             0   \n2023-10-11        0.0           0.0     -0.012701            0             0   \n2023-10-12        0.0           0.0     -0.021666            0             0   \n2023-10-13        0.0           0.0     -0.006228            0             0   \n\n            ...       MA_10       MA_30       MA_50        RSI      MACD  \\\nDate        ...                                                            \n2020-06-30  ...  185.490639  185.971378  177.444583  40.980261  0.824024   \n2020-07-01  ...  184.693272  186.614103  177.904128  52.499987  0.573090   \n2020-07-02  ...  184.097562  187.140968  178.320632  46.428569  0.357415   \n2020-07-06  ...  184.627597  188.016001  178.938497  50.786539  0.919322   \n2020-07-07  ...  184.252042  188.649572  179.372509  42.843173  0.758762   \n...         ...         ...         ...         ...        ...       ...   \n2023-10-09  ...   14.580206   14.557477   14.300160  45.736901  0.044443   \n2023-10-10  ...   14.602363   14.591356   14.314404  43.159902  0.070110   \n2023-10-11  ...   14.620238   14.600586   14.329165  44.079070  0.074263   \n2023-10-12  ...   14.592375   14.600456   14.336545  41.485628  0.051143   \n2023-10-13  ...   14.554531   14.595365   14.347228  40.924509  0.025267   \n\n            Signal_Line  Bollinger_Mid_Band Bollinger_Upper_Band  \\\nDate                                                               \n2020-06-30     3.006285          190.221655           205.998887   \n2020-07-01     2.519646          189.620392           205.574185   \n2020-07-02     2.087200          188.814700           204.471989   \n2020-07-06     1.853625          188.326289           202.922628   \n2020-07-07     1.634652          187.334206           200.017998   \n...                 ...                 ...                  ...   \n2023-10-09     0.082328           14.684344            15.194776   \n2023-10-10     0.079884           14.722898            15.192227   \n2023-10-11     0.078760           14.744101            15.180185   \n2023-10-12     0.073237           14.727716            15.181968   \n2023-10-13     0.063643           14.698491            15.168308   \n\n            Bollinger_Lower_Band  Volatility  \nDate                                          \n2020-06-30            174.444424    0.053545  \n2020-07-01            173.666599    0.051360  \n2020-07-02            173.157410    0.044924  \n2020-07-06            173.729949    0.021055  \n2020-07-07            174.650413    0.032740  \n...                          ...         ...  \n2023-10-09             14.173913    0.012248  \n2023-10-10             14.253568    0.013216  \n2023-10-11             14.308016    0.014393  \n2023-10-12             14.273465    0.017965  \n2023-10-13             14.228674    0.017906  \n\n[21459 rows x 29 columns]",
      "text/html": "<div>\n<style scoped>\n    .dataframe tbody tr th:only-of-type {\n        vertical-align: middle;\n    }\n\n    .dataframe tbody tr th {\n        vertical-align: top;\n    }\n\n    .dataframe thead th {\n        text-align: right;\n    }\n</style>\n<table border=\"1\" class=\"dataframe\">\n  <thead>\n    <tr style=\"text-align: right;\">\n      <th></th>\n      <th>Open</th>\n      <th>High</th>\n      <th>Low</th>\n      <th>Close</th>\n      <th>Volume</th>\n      <th>Dividends</th>\n      <th>Stock Splits</th>\n      <th>Daily_Return</th>\n      <th>Target_1day</th>\n      <th>Target_5days</th>\n      <th>...</th>\n      <th>MA_10</th>\n      <th>MA_30</th>\n      <th>MA_50</th>\n      <th>RSI</th>\n      <th>MACD</th>\n      <th>Signal_Line</th>\n      <th>Bollinger_Mid_Band</th>\n      <th>Bollinger_Upper_Band</th>\n      <th>Bollinger_Lower_Band</th>\n      <th>Volatility</th>\n    </tr>\n    <tr>\n      <th>Date</th>\n      <th></th>\n      <th></th>\n      <th></th>\n      <th></th>\n      <th></th>\n      <th></th>\n      <th></th>\n      <th></th>\n      <th></th>\n      <th></th>\n      <th></th>\n      <th></th>\n      <th></th>\n      <th></th>\n      <th></th>\n      <th></th>\n      <th></th>\n      <th></th>\n      <th></th>\n      <th></th>\n      <th></th>\n    </tr>\n  </thead>\n  <tbody>\n    <tr>\n      <th>2020-06-30</th>\n      <td>179.305975</td>\n      <td>183.533325</td>\n      <td>179.102469</td>\n      <td>182.802551</td>\n      <td>3102800</td>\n      <td>0.0</td>\n      <td>0.0</td>\n      <td>0.021451</td>\n      <td>0</td>\n      <td>1</td>\n      <td>...</td>\n      <td>185.490639</td>\n      <td>185.971378</td>\n      <td>177.444583</td>\n      <td>40.980261</td>\n      <td>0.824024</td>\n      <td>3.006285</td>\n      <td>190.221655</td>\n      <td>205.998887</td>\n      <td>174.444424</td>\n      <td>0.053545</td>\n    </tr>\n    <tr>\n      <th>2020-07-01</th>\n      <td>183.968046</td>\n      <td>184.763564</td>\n      <td>180.859977</td>\n      <td>182.756271</td>\n      <td>2620100</td>\n      <td>0.0</td>\n      <td>0.0</td>\n      <td>-0.000253</td>\n      <td>0</td>\n      <td>0</td>\n      <td>...</td>\n      <td>184.693272</td>\n      <td>186.614103</td>\n      <td>177.904128</td>\n      <td>52.499987</td>\n      <td>0.573090</td>\n      <td>2.519646</td>\n      <td>189.620392</td>\n      <td>205.574185</td>\n      <td>173.666599</td>\n      <td>0.051360</td>\n    </tr>\n    <tr>\n      <th>2020-07-02</th>\n      <td>187.316639</td>\n      <td>187.779150</td>\n      <td>182.349284</td>\n      <td>182.599030</td>\n      <td>2699400</td>\n      <td>0.0</td>\n      <td>0.0</td>\n      <td>-0.000860</td>\n      <td>1</td>\n      <td>1</td>\n      <td>...</td>\n      <td>184.097562</td>\n      <td>187.140968</td>\n      <td>178.320632</td>\n      <td>46.428569</td>\n      <td>0.357415</td>\n      <td>2.087200</td>\n      <td>188.814700</td>\n      <td>204.471989</td>\n      <td>173.157410</td>\n      <td>0.044924</td>\n    </tr>\n    <tr>\n      <th>2020-07-06</th>\n      <td>186.243599</td>\n      <td>192.209977</td>\n      <td>186.049352</td>\n      <td>191.812225</td>\n      <td>3567700</td>\n      <td>0.0</td>\n      <td>0.0</td>\n      <td>0.050456</td>\n      <td>0</td>\n      <td>1</td>\n      <td>...</td>\n      <td>184.627597</td>\n      <td>188.016001</td>\n      <td>178.938497</td>\n      <td>50.786539</td>\n      <td>0.919322</td>\n      <td>1.853625</td>\n      <td>188.326289</td>\n      <td>202.922628</td>\n      <td>173.729949</td>\n      <td>0.021055</td>\n    </tr>\n    <tr>\n      <th>2020-07-07</th>\n      <td>190.091720</td>\n      <td>190.285980</td>\n      <td>184.254842</td>\n      <td>184.412094</td>\n      <td>2853500</td>\n      <td>0.0</td>\n      <td>0.0</td>\n      <td>-0.038580</td>\n      <td>1</td>\n      <td>1</td>\n      <td>...</td>\n      <td>184.252042</td>\n      <td>188.649572</td>\n      <td>179.372509</td>\n      <td>42.843173</td>\n      <td>0.758762</td>\n      <td>1.634652</td>\n      <td>187.334206</td>\n      <td>200.017998</td>\n      <td>174.650413</td>\n      <td>0.032740</td>\n    </tr>\n    <tr>\n      <th>...</th>\n      <td>...</td>\n      <td>...</td>\n      <td>...</td>\n      <td>...</td>\n      <td>...</td>\n      <td>...</td>\n      <td>...</td>\n      <td>...</td>\n      <td>...</td>\n      <td>...</td>\n      <td>...</td>\n      <td>...</td>\n      <td>...</td>\n      <td>...</td>\n      <td>...</td>\n      <td>...</td>\n      <td>...</td>\n      <td>...</td>\n      <td>...</td>\n      <td>...</td>\n      <td>...</td>\n    </tr>\n    <tr>\n      <th>2023-10-09</th>\n      <td>14.470000</td>\n      <td>14.750000</td>\n      <td>14.460000</td>\n      <td>14.730000</td>\n      <td>30659800</td>\n      <td>0.0</td>\n      <td>0.0</td>\n      <td>0.019377</td>\n      <td>1</td>\n      <td>0</td>\n      <td>...</td>\n      <td>14.580206</td>\n      <td>14.557477</td>\n      <td>14.300160</td>\n      <td>45.736901</td>\n      <td>0.044443</td>\n      <td>0.082328</td>\n      <td>14.684344</td>\n      <td>15.194776</td>\n      <td>14.173913</td>\n      <td>0.012248</td>\n    </tr>\n    <tr>\n      <th>2023-10-10</th>\n      <td>14.690000</td>\n      <td>14.980000</td>\n      <td>14.690000</td>\n      <td>14.960000</td>\n      <td>35746800</td>\n      <td>0.0</td>\n      <td>0.0</td>\n      <td>0.015614</td>\n      <td>0</td>\n      <td>0</td>\n      <td>...</td>\n      <td>14.602363</td>\n      <td>14.591356</td>\n      <td>14.314404</td>\n      <td>43.159902</td>\n      <td>0.070110</td>\n      <td>0.079884</td>\n      <td>14.722898</td>\n      <td>15.192227</td>\n      <td>14.253568</td>\n      <td>0.013216</td>\n    </tr>\n    <tr>\n      <th>2023-10-11</th>\n      <td>14.950000</td>\n      <td>15.050000</td>\n      <td>14.680000</td>\n      <td>14.770000</td>\n      <td>31793500</td>\n      <td>0.0</td>\n      <td>0.0</td>\n      <td>-0.012701</td>\n      <td>0</td>\n      <td>0</td>\n      <td>...</td>\n      <td>14.620238</td>\n      <td>14.600586</td>\n      <td>14.329165</td>\n      <td>44.079070</td>\n      <td>0.074263</td>\n      <td>0.078760</td>\n      <td>14.744101</td>\n      <td>15.180185</td>\n      <td>14.308016</td>\n      <td>0.014393</td>\n    </tr>\n    <tr>\n      <th>2023-10-12</th>\n      <td>14.640000</td>\n      <td>14.670000</td>\n      <td>14.280000</td>\n      <td>14.450000</td>\n      <td>38543700</td>\n      <td>0.0</td>\n      <td>0.0</td>\n      <td>-0.021666</td>\n      <td>0</td>\n      <td>0</td>\n      <td>...</td>\n      <td>14.592375</td>\n      <td>14.600456</td>\n      <td>14.336545</td>\n      <td>41.485628</td>\n      <td>0.051143</td>\n      <td>0.073237</td>\n      <td>14.727716</td>\n      <td>15.181968</td>\n      <td>14.273465</td>\n      <td>0.017965</td>\n    </tr>\n    <tr>\n      <th>2023-10-13</th>\n      <td>14.480000</td>\n      <td>14.630000</td>\n      <td>14.320000</td>\n      <td>14.360000</td>\n      <td>34104500</td>\n      <td>0.0</td>\n      <td>0.0</td>\n      <td>-0.006228</td>\n      <td>0</td>\n      <td>0</td>\n      <td>...</td>\n      <td>14.554531</td>\n      <td>14.595365</td>\n      <td>14.347228</td>\n      <td>40.924509</td>\n      <td>0.025267</td>\n      <td>0.063643</td>\n      <td>14.698491</td>\n      <td>15.168308</td>\n      <td>14.228674</td>\n      <td>0.017906</td>\n    </tr>\n  </tbody>\n</table>\n<p>21459 rows × 29 columns</p>\n</div>"
     },
     "execution_count": 28,
     "metadata": {},
     "output_type": "execute_result"
    }
   ],
   "source": [
    "df.Ticker.unique()\n",
    "df"
   ],
   "metadata": {
    "collapsed": false,
    "ExecuteTime": {
     "end_time": "2023-10-23T20:22:17.384709Z",
     "start_time": "2023-10-23T20:22:17.357858Z"
    }
   }
  },
  {
   "cell_type": "code",
   "execution_count": 8,
   "metadata": {
    "collapsed": false,
    "ExecuteTime": {
     "end_time": "2023-10-23T19:25:02.393483Z",
     "start_time": "2023-10-23T19:25:02.335589Z"
    }
   },
   "outputs": [
    {
     "data": {
      "text/plain": "             Open       High        Low      Close    Volume  Dividends  \\\nDate                                                                      \n1983-11-22   0.00   0.288369   0.286029   0.286029   3884616        0.0   \n1983-11-23   0.00   0.286614   0.283690   0.284859   2143291        0.0   \n1983-11-25   0.00   0.286614   0.284859   0.285444   4475650        0.0   \n1983-11-28   0.00   0.286029   0.282520   0.282520   5713325        0.0   \n1983-11-29   0.00   0.281935   0.277840   0.277840   3039374        0.0   \n...           ...        ...        ...        ...       ...        ...   \n2023-10-09  14.47  14.750000  14.460000  14.730000  30659800        0.0   \n2023-10-10  14.69  14.980000  14.690000  14.960000  35746800        0.0   \n2023-10-11  14.95  15.050000  14.680000  14.770000  31793500        0.0   \n2023-10-12  14.64  14.670000  14.280000  14.450000  38543700        0.0   \n2023-10-13  14.48  14.630000  14.320000  14.360000  34104500        0.0   \n\n            Stock Splits  Daily_Return  Target_1day  Target_5days  \\\nDate                                                                \n1983-11-22           0.0     -0.008114            0             0   \n1983-11-23           0.0     -0.004090            1             0   \n1983-11-25           0.0      0.002053            0             0   \n1983-11-28           0.0     -0.010246            0             0   \n1983-11-29           0.0     -0.016564            0             0   \n...                  ...           ...          ...           ...   \n2023-10-09           0.0      0.019377            1             0   \n2023-10-10           0.0      0.015614            0             0   \n2023-10-11           0.0     -0.012701            0             0   \n2023-10-12           0.0     -0.021666            0             0   \n2023-10-13           0.0     -0.006228            0             0   \n\n            Target_30days  Normalized EBITDA  Total Unusual Items  \\\nDate                                                                \n1983-11-22              1                NaN                  NaN   \n1983-11-23              1                NaN                  NaN   \n1983-11-25              1                NaN                  NaN   \n1983-11-28              1                NaN                  NaN   \n1983-11-29              1                NaN                  NaN   \n...                   ...                ...                  ...   \n2023-10-09              0       6.159700e+10        -4.904000e+09   \n2023-10-10              0       6.159700e+10        -4.904000e+09   \n2023-10-11              0       6.159700e+10        -4.904000e+09   \n2023-10-12              0       6.159700e+10        -4.904000e+09   \n2023-10-13              0       6.159700e+10        -4.904000e+09   \n\n            Total Unusual Items Excluding Goodwill  Operating Cash Flow  \\\nDate                                                                      \n1983-11-22                                     NaN                  NaN   \n1983-11-23                                     NaN                  NaN   \n1983-11-25                                     NaN                  NaN   \n1983-11-28                                     NaN                  NaN   \n1983-11-29                                     NaN                  NaN   \n...                                            ...                  ...   \n2023-10-09                           -4.904000e+09         4.195700e+10   \n2023-10-10                           -4.904000e+09         4.195700e+10   \n2023-10-11                           -4.904000e+09         4.195700e+10   \n2023-10-12                           -4.904000e+09         4.195700e+10   \n2023-10-13                           -4.904000e+09         4.195700e+10   \n\n            Capital Expenditure  Free Cash Flow Ticker  \nDate                                                    \n1983-11-22                  NaN             NaN      T  \n1983-11-23                  NaN             NaN      T  \n1983-11-25                  NaN             NaN      T  \n1983-11-28                  NaN             NaN      T  \n1983-11-29                  NaN             NaN      T  \n...                         ...             ...    ...  \n2023-10-09        -1.652700e+10    2.543000e+10      T  \n2023-10-10        -1.652700e+10    2.543000e+10      T  \n2023-10-11        -1.652700e+10    2.543000e+10      T  \n2023-10-12        -1.652700e+10    2.543000e+10      T  \n2023-10-13        -1.652700e+10    2.543000e+10      T  \n\n[10055 rows x 18 columns]",
      "text/html": "<div>\n<style scoped>\n    .dataframe tbody tr th:only-of-type {\n        vertical-align: middle;\n    }\n\n    .dataframe tbody tr th {\n        vertical-align: top;\n    }\n\n    .dataframe thead th {\n        text-align: right;\n    }\n</style>\n<table border=\"1\" class=\"dataframe\">\n  <thead>\n    <tr style=\"text-align: right;\">\n      <th></th>\n      <th>Open</th>\n      <th>High</th>\n      <th>Low</th>\n      <th>Close</th>\n      <th>Volume</th>\n      <th>Dividends</th>\n      <th>Stock Splits</th>\n      <th>Daily_Return</th>\n      <th>Target_1day</th>\n      <th>Target_5days</th>\n      <th>Target_30days</th>\n      <th>Normalized EBITDA</th>\n      <th>Total Unusual Items</th>\n      <th>Total Unusual Items Excluding Goodwill</th>\n      <th>Operating Cash Flow</th>\n      <th>Capital Expenditure</th>\n      <th>Free Cash Flow</th>\n      <th>Ticker</th>\n    </tr>\n    <tr>\n      <th>Date</th>\n      <th></th>\n      <th></th>\n      <th></th>\n      <th></th>\n      <th></th>\n      <th></th>\n      <th></th>\n      <th></th>\n      <th></th>\n      <th></th>\n      <th></th>\n      <th></th>\n      <th></th>\n      <th></th>\n      <th></th>\n      <th></th>\n      <th></th>\n      <th></th>\n    </tr>\n  </thead>\n  <tbody>\n    <tr>\n      <th>1983-11-22</th>\n      <td>0.00</td>\n      <td>0.288369</td>\n      <td>0.286029</td>\n      <td>0.286029</td>\n      <td>3884616</td>\n      <td>0.0</td>\n      <td>0.0</td>\n      <td>-0.008114</td>\n      <td>0</td>\n      <td>0</td>\n      <td>1</td>\n      <td>NaN</td>\n      <td>NaN</td>\n      <td>NaN</td>\n      <td>NaN</td>\n      <td>NaN</td>\n      <td>NaN</td>\n      <td>T</td>\n    </tr>\n    <tr>\n      <th>1983-11-23</th>\n      <td>0.00</td>\n      <td>0.286614</td>\n      <td>0.283690</td>\n      <td>0.284859</td>\n      <td>2143291</td>\n      <td>0.0</td>\n      <td>0.0</td>\n      <td>-0.004090</td>\n      <td>1</td>\n      <td>0</td>\n      <td>1</td>\n      <td>NaN</td>\n      <td>NaN</td>\n      <td>NaN</td>\n      <td>NaN</td>\n      <td>NaN</td>\n      <td>NaN</td>\n      <td>T</td>\n    </tr>\n    <tr>\n      <th>1983-11-25</th>\n      <td>0.00</td>\n      <td>0.286614</td>\n      <td>0.284859</td>\n      <td>0.285444</td>\n      <td>4475650</td>\n      <td>0.0</td>\n      <td>0.0</td>\n      <td>0.002053</td>\n      <td>0</td>\n      <td>0</td>\n      <td>1</td>\n      <td>NaN</td>\n      <td>NaN</td>\n      <td>NaN</td>\n      <td>NaN</td>\n      <td>NaN</td>\n      <td>NaN</td>\n      <td>T</td>\n    </tr>\n    <tr>\n      <th>1983-11-28</th>\n      <td>0.00</td>\n      <td>0.286029</td>\n      <td>0.282520</td>\n      <td>0.282520</td>\n      <td>5713325</td>\n      <td>0.0</td>\n      <td>0.0</td>\n      <td>-0.010246</td>\n      <td>0</td>\n      <td>0</td>\n      <td>1</td>\n      <td>NaN</td>\n      <td>NaN</td>\n      <td>NaN</td>\n      <td>NaN</td>\n      <td>NaN</td>\n      <td>NaN</td>\n      <td>T</td>\n    </tr>\n    <tr>\n      <th>1983-11-29</th>\n      <td>0.00</td>\n      <td>0.281935</td>\n      <td>0.277840</td>\n      <td>0.277840</td>\n      <td>3039374</td>\n      <td>0.0</td>\n      <td>0.0</td>\n      <td>-0.016564</td>\n      <td>0</td>\n      <td>0</td>\n      <td>1</td>\n      <td>NaN</td>\n      <td>NaN</td>\n      <td>NaN</td>\n      <td>NaN</td>\n      <td>NaN</td>\n      <td>NaN</td>\n      <td>T</td>\n    </tr>\n    <tr>\n      <th>...</th>\n      <td>...</td>\n      <td>...</td>\n      <td>...</td>\n      <td>...</td>\n      <td>...</td>\n      <td>...</td>\n      <td>...</td>\n      <td>...</td>\n      <td>...</td>\n      <td>...</td>\n      <td>...</td>\n      <td>...</td>\n      <td>...</td>\n      <td>...</td>\n      <td>...</td>\n      <td>...</td>\n      <td>...</td>\n      <td>...</td>\n    </tr>\n    <tr>\n      <th>2023-10-09</th>\n      <td>14.47</td>\n      <td>14.750000</td>\n      <td>14.460000</td>\n      <td>14.730000</td>\n      <td>30659800</td>\n      <td>0.0</td>\n      <td>0.0</td>\n      <td>0.019377</td>\n      <td>1</td>\n      <td>0</td>\n      <td>0</td>\n      <td>6.159700e+10</td>\n      <td>-4.904000e+09</td>\n      <td>-4.904000e+09</td>\n      <td>4.195700e+10</td>\n      <td>-1.652700e+10</td>\n      <td>2.543000e+10</td>\n      <td>T</td>\n    </tr>\n    <tr>\n      <th>2023-10-10</th>\n      <td>14.69</td>\n      <td>14.980000</td>\n      <td>14.690000</td>\n      <td>14.960000</td>\n      <td>35746800</td>\n      <td>0.0</td>\n      <td>0.0</td>\n      <td>0.015614</td>\n      <td>0</td>\n      <td>0</td>\n      <td>0</td>\n      <td>6.159700e+10</td>\n      <td>-4.904000e+09</td>\n      <td>-4.904000e+09</td>\n      <td>4.195700e+10</td>\n      <td>-1.652700e+10</td>\n      <td>2.543000e+10</td>\n      <td>T</td>\n    </tr>\n    <tr>\n      <th>2023-10-11</th>\n      <td>14.95</td>\n      <td>15.050000</td>\n      <td>14.680000</td>\n      <td>14.770000</td>\n      <td>31793500</td>\n      <td>0.0</td>\n      <td>0.0</td>\n      <td>-0.012701</td>\n      <td>0</td>\n      <td>0</td>\n      <td>0</td>\n      <td>6.159700e+10</td>\n      <td>-4.904000e+09</td>\n      <td>-4.904000e+09</td>\n      <td>4.195700e+10</td>\n      <td>-1.652700e+10</td>\n      <td>2.543000e+10</td>\n      <td>T</td>\n    </tr>\n    <tr>\n      <th>2023-10-12</th>\n      <td>14.64</td>\n      <td>14.670000</td>\n      <td>14.280000</td>\n      <td>14.450000</td>\n      <td>38543700</td>\n      <td>0.0</td>\n      <td>0.0</td>\n      <td>-0.021666</td>\n      <td>0</td>\n      <td>0</td>\n      <td>0</td>\n      <td>6.159700e+10</td>\n      <td>-4.904000e+09</td>\n      <td>-4.904000e+09</td>\n      <td>4.195700e+10</td>\n      <td>-1.652700e+10</td>\n      <td>2.543000e+10</td>\n      <td>T</td>\n    </tr>\n    <tr>\n      <th>2023-10-13</th>\n      <td>14.48</td>\n      <td>14.630000</td>\n      <td>14.320000</td>\n      <td>14.360000</td>\n      <td>34104500</td>\n      <td>0.0</td>\n      <td>0.0</td>\n      <td>-0.006228</td>\n      <td>0</td>\n      <td>0</td>\n      <td>0</td>\n      <td>6.159700e+10</td>\n      <td>-4.904000e+09</td>\n      <td>-4.904000e+09</td>\n      <td>4.195700e+10</td>\n      <td>-1.652700e+10</td>\n      <td>2.543000e+10</td>\n      <td>T</td>\n    </tr>\n  </tbody>\n</table>\n<p>10055 rows × 18 columns</p>\n</div>"
     },
     "execution_count": 8,
     "metadata": {},
     "output_type": "execute_result"
    }
   ],
   "source": [
    "# TODO: spiegare perchè togliamo i quarterly\n",
    "#merged_data.drop(columns=['Normalized EBITDA_quarterly', 'Total Unusual Items_quarterly', 'Total Unusual Items Excluding Goodwill_quarterly'], inplace=True)\n",
    "merged_data.iloc[1 : counter + len(merged_data), merged_data.columns.get_loc(\"Ticker\")] = file.split(\"/\")[2][:-5]\n",
    "merged_data"
   ]
  },
  {
   "cell_type": "markdown",
   "metadata": {
    "collapsed": false
   },
   "source": [
    "## Feature Engineering\n",
    "- **Medie mobili**: Calcoliamo le medie mobili a breve e lungo termine per il prezzo di chiusura, che sono comuni nel trading algoritmico. Ad esempio, medie mobili a 5, 10, 30 e 50 giorni.\n",
    "- **RSI (Relative Strength Index)**: Questo è un indicatore di momentum che può aiutare a identificare se un'azione è in condizione di \"overbought\" o \"oversold\".\n",
    "- **MACD (Moving Average Convergence Divergence)**: Un altro indicatore di momentum.\n",
    "- **Bollinger Bands**: Questi sono basati su medie mobili e possono aiutare a identificare se un prezzo è relativamente alto o basso.\n",
    "- **Volatilità**: Potremmo calcolare la volatilità come la deviazione standard dei rendimenti giornalieri in una finestra temporale specifica."
   ]
  },
  {
   "cell_type": "code",
   "execution_count": null,
   "metadata": {
    "collapsed": false,
    "ExecuteTime": {
     "start_time": "2023-10-23T19:23:08.010452Z"
    }
   },
   "outputs": [],
   "source": [
    "# TODO: da fare per ogni stock\n",
    "# TODO: controllare gpt\n",
    "\n",
    "# Moving Averages\n",
    "merged_data['MA_5'] = merged_data['Close'].rolling(window=5).mean()\n",
    "merged_data['MA_10'] = merged_data['Close'].rolling(window=10).mean()\n",
    "merged_data['MA_30'] = merged_data['Close'].rolling(window=30).mean()\n",
    "merged_data['MA_50'] = merged_data['Close'].rolling(window=50).mean()\n",
    "\n",
    "# RSI\n",
    "delta = merged_data['Close'].diff()\n",
    "gain = (delta.where(delta > 0, 0)).fillna(0)\n",
    "loss = (-delta.where(delta < 0, 0)).fillna(0)\n",
    "avg_gain = gain.rolling(window=14).mean()\n",
    "avg_loss = loss.rolling(window=14).mean()\n",
    "rs = avg_gain / avg_loss\n",
    "merged_data['RSI'] = 100 - (100 / (1 + rs))\n",
    "\n",
    "# MACD\n",
    "merged_data['MACD'] = merged_data['Close'].ewm(span=12, adjust=False).mean() - merged_data['Close'].ewm(span=26, adjust=False).mean()\n",
    "merged_data['Signal_Line'] = merged_data['MACD'].ewm(span=9, adjust=False).mean()\n",
    "\n",
    "# Bollinger Bands\n",
    "merged_data['Bollinger_Mid_Band'] = merged_data['Close'].rolling(window=20).mean()\n",
    "merged_data['Bollinger_Upper_Band']  = merged_data['Bollinger_Mid_Band'] + 1.96*merged_data['Close'].rolling(window=20).std()\n",
    "merged_data['Bollinger_Lower_Band']  = merged_data['Bollinger_Mid_Band'] - 1.96*merged_data['Close'].rolling(window=20).std()\n",
    "\n",
    "# Volatility\n",
    "merged_data['Volatility'] = merged_data['Daily_Return'].rolling(window=5).std()\n",
    "\n",
    "to_drop_na = ['MA_5', 'MA_10', 'MA_30', 'MA_50', 'RSI', 'Volatility']\n",
    "\n",
    "for column in to_drop_na:\n",
    "    merged_data[column] = merged_data[column].fillna(0)\n",
    "\n",
    "# Display the dataset with new features\n",
    "merged_data"
   ]
  },
  {
   "cell_type": "code",
   "execution_count": null,
   "metadata": {
    "collapsed": false,
    "ExecuteTime": {
     "start_time": "2023-10-23T19:23:08.013663Z"
    }
   },
   "outputs": [],
   "source": [
    "# TODO: spiegare perche tagliamo il numero di record\n",
    "merged_data = merged_data[merged_data.index >= '2020-06-30']\n",
    "merged_data"
   ]
  },
  {
   "cell_type": "code",
   "execution_count": null,
   "metadata": {
    "collapsed": false,
    "ExecuteTime": {
     "start_time": "2023-10-23T19:23:08.016568Z"
    }
   },
   "outputs": [],
   "source": [
    "# da fare per ogni stock\n",
    "output_filepath = \"processed_nomedellostock.xlsx\"\n",
    "len(merged_data)\n",
    "merged_data.to_excel(output_filepath)\n"
   ]
  },
  {
   "cell_type": "code",
   "execution_count": null,
   "outputs": [],
   "source": [
    "# TODO list updated at 2023-10-23\n",
    "# TODO: esportare in Excel il dataset finale\n",
    "# TODO (opzionale) : refactor cartella Processed dentro a data \n",
    "# TODO: tagliare i dati al 30/06/2020\n",
    "\n",
    "if not os.path.exists('./Processed'):\n",
    "    os.makedirs('./Processed')\n",
    "with pd.ExcelWriter(f'./Processed/{file.split(\"/\")[2][:-5]}.xlsx', mode = \"w\", engine = \"openpyxl\") as writer:\n",
    "    merged_data.to_excel(writer, sheet_name=\"Sheet1\")\n",
    "    # Append to one single dataframe\n",
    "df = pd.concat([df, merged_data])"
   ],
   "metadata": {
    "collapsed": false,
    "ExecuteTime": {
     "start_time": "2023-10-23T19:23:08.018526Z"
    }
   }
  }
 ],
 "metadata": {
  "kernelspec": {
   "display_name": "Python 3 (ipykernel)",
   "language": "python",
   "name": "python3"
  },
  "language_info": {
   "codemirror_mode": {
    "name": "ipython",
    "version": 3
   },
   "file_extension": ".py",
   "mimetype": "text/x-python",
   "name": "python",
   "nbconvert_exporter": "python",
   "pygments_lexer": "ipython3",
   "version": "3.11.5"
  }
 },
 "nbformat": 4,
 "nbformat_minor": 2
}
