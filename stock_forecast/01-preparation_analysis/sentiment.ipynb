{
 "cells": [
  {
   "cell_type": "markdown",
   "source": [
    "ref: https://www.kaggle.com/code/suchandramajumder/stock-news-sentiment-analysis"
   ],
   "metadata": {
    "collapsed": false
   },
   "id": "712558ae352a44f"
  },
  {
   "cell_type": "code",
   "execution_count": 9,
   "outputs": [],
   "source": [
    "import pandas as pd\n",
    "from textblob import TextBlob"
   ],
   "metadata": {
    "collapsed": false,
    "ExecuteTime": {
     "end_time": "2023-11-04T12:44:40.970205Z",
     "start_time": "2023-11-04T12:44:36.594778Z"
    }
   },
   "id": "9ec08d826d198404"
  },
  {
   "cell_type": "code",
   "execution_count": 10,
   "outputs": [],
   "source": [
    "df = pd.read_csv('~/Downloads/archive (1)/raw_partner_headlines.csv', sep=',', header=0)"
   ],
   "metadata": {
    "collapsed": false,
    "ExecuteTime": {
     "end_time": "2023-11-04T12:44:46.203550Z",
     "start_time": "2023-11-04T12:44:41.604453Z"
    }
   },
   "id": "9da28715d7ea891c"
  },
  {
   "cell_type": "code",
   "execution_count": 11,
   "outputs": [
    {
     "data": {
      "text/plain": "         Unnamed: 0                                           headline  \\\n0                 2  Agilent Technologies Announces Pricing of $5……...   \n1                 3  Agilent (A) Gears Up for Q2 Earnings: What's i...   \n2                 4  J.P. Morgan Asset Management Announces Liquida...   \n3                 5  Pershing Square Capital Management, L.P. Buys ...   \n4                 6  Agilent Awards Trilogy Sciences with a Golden ...   \n...             ...                                                ...   \n1845554     1849874                      Consumer Cyclical Sector Wrap   \n1845555     1849875                      Consumer Cyclical Sector Wrap   \n1845556     1849876  Zacks #5 Rank Additions for Monday - Tale of t...   \n1845557     1849877  4 Stock Strategies From Wall Street: Feb. 9 (U...   \n1845558     1849878        4 Stock Strategies From Wall Street: Feb. 9   \n\n                                                       url      publisher  \\\n0        http://www.gurufocus.com/news/1153187/agilent-...      GuruFocus   \n1        http://www.zacks.com/stock/news/931205/agilent...          Zacks   \n2        http://www.gurufocus.com/news/1138923/jp-morga...      GuruFocus   \n3        http://www.gurufocus.com/news/1138704/pershing...      GuruFocus   \n4        http://www.gurufocus.com/news/1134012/agilent-...      GuruFocus   \n...                                                    ...            ...   \n1845554  https://www.benzinga.com/content/12/08/2846030...      webmaster   \n1845555  https://www.benzinga.com/content/12/07/2767124...      webmaster   \n1845556  http://www.zacks.com/stock/news/73497/here-are...          Zacks   \n1845557  http://www.thestreet.com/story/11409053/1/4-st...  TheStreet.Com   \n1845558  https://www.benzinga.com/content/thestreet-com...      webmaster   \n\n                        date stock  \n0        2020-06-01 00:00:00     A  \n1        2020-05-18 00:00:00     A  \n2        2020-05-15 00:00:00     A  \n3        2020-05-15 00:00:00     A  \n4        2020-05-12 00:00:00     A  \n...                      ...   ...  \n1845554  2012-08-20 00:00:00    ZX  \n1845555  2012-07-23 00:00:00    ZX  \n1845556  2012-04-23 00:00:00    ZX  \n1845557  2012-02-09 00:00:00    ZX  \n1845558  2012-02-09 00:00:00    ZX  \n\n[1845559 rows x 6 columns]",
      "text/html": "<div>\n<style scoped>\n    .dataframe tbody tr th:only-of-type {\n        vertical-align: middle;\n    }\n\n    .dataframe tbody tr th {\n        vertical-align: top;\n    }\n\n    .dataframe thead th {\n        text-align: right;\n    }\n</style>\n<table border=\"1\" class=\"dataframe\">\n  <thead>\n    <tr style=\"text-align: right;\">\n      <th></th>\n      <th>Unnamed: 0</th>\n      <th>headline</th>\n      <th>url</th>\n      <th>publisher</th>\n      <th>date</th>\n      <th>stock</th>\n    </tr>\n  </thead>\n  <tbody>\n    <tr>\n      <th>0</th>\n      <td>2</td>\n      <td>Agilent Technologies Announces Pricing of $5……...</td>\n      <td>http://www.gurufocus.com/news/1153187/agilent-...</td>\n      <td>GuruFocus</td>\n      <td>2020-06-01 00:00:00</td>\n      <td>A</td>\n    </tr>\n    <tr>\n      <th>1</th>\n      <td>3</td>\n      <td>Agilent (A) Gears Up for Q2 Earnings: What's i...</td>\n      <td>http://www.zacks.com/stock/news/931205/agilent...</td>\n      <td>Zacks</td>\n      <td>2020-05-18 00:00:00</td>\n      <td>A</td>\n    </tr>\n    <tr>\n      <th>2</th>\n      <td>4</td>\n      <td>J.P. Morgan Asset Management Announces Liquida...</td>\n      <td>http://www.gurufocus.com/news/1138923/jp-morga...</td>\n      <td>GuruFocus</td>\n      <td>2020-05-15 00:00:00</td>\n      <td>A</td>\n    </tr>\n    <tr>\n      <th>3</th>\n      <td>5</td>\n      <td>Pershing Square Capital Management, L.P. Buys ...</td>\n      <td>http://www.gurufocus.com/news/1138704/pershing...</td>\n      <td>GuruFocus</td>\n      <td>2020-05-15 00:00:00</td>\n      <td>A</td>\n    </tr>\n    <tr>\n      <th>4</th>\n      <td>6</td>\n      <td>Agilent Awards Trilogy Sciences with a Golden ...</td>\n      <td>http://www.gurufocus.com/news/1134012/agilent-...</td>\n      <td>GuruFocus</td>\n      <td>2020-05-12 00:00:00</td>\n      <td>A</td>\n    </tr>\n    <tr>\n      <th>...</th>\n      <td>...</td>\n      <td>...</td>\n      <td>...</td>\n      <td>...</td>\n      <td>...</td>\n      <td>...</td>\n    </tr>\n    <tr>\n      <th>1845554</th>\n      <td>1849874</td>\n      <td>Consumer Cyclical Sector Wrap</td>\n      <td>https://www.benzinga.com/content/12/08/2846030...</td>\n      <td>webmaster</td>\n      <td>2012-08-20 00:00:00</td>\n      <td>ZX</td>\n    </tr>\n    <tr>\n      <th>1845555</th>\n      <td>1849875</td>\n      <td>Consumer Cyclical Sector Wrap</td>\n      <td>https://www.benzinga.com/content/12/07/2767124...</td>\n      <td>webmaster</td>\n      <td>2012-07-23 00:00:00</td>\n      <td>ZX</td>\n    </tr>\n    <tr>\n      <th>1845556</th>\n      <td>1849876</td>\n      <td>Zacks #5 Rank Additions for Monday - Tale of t...</td>\n      <td>http://www.zacks.com/stock/news/73497/here-are...</td>\n      <td>Zacks</td>\n      <td>2012-04-23 00:00:00</td>\n      <td>ZX</td>\n    </tr>\n    <tr>\n      <th>1845557</th>\n      <td>1849877</td>\n      <td>4 Stock Strategies From Wall Street: Feb. 9 (U...</td>\n      <td>http://www.thestreet.com/story/11409053/1/4-st...</td>\n      <td>TheStreet.Com</td>\n      <td>2012-02-09 00:00:00</td>\n      <td>ZX</td>\n    </tr>\n    <tr>\n      <th>1845558</th>\n      <td>1849878</td>\n      <td>4 Stock Strategies From Wall Street: Feb. 9</td>\n      <td>https://www.benzinga.com/content/thestreet-com...</td>\n      <td>webmaster</td>\n      <td>2012-02-09 00:00:00</td>\n      <td>ZX</td>\n    </tr>\n  </tbody>\n</table>\n<p>1845559 rows × 6 columns</p>\n</div>"
     },
     "execution_count": 11,
     "metadata": {},
     "output_type": "execute_result"
    }
   ],
   "source": [
    "df"
   ],
   "metadata": {
    "collapsed": false,
    "ExecuteTime": {
     "end_time": "2023-11-04T12:44:47.328534Z",
     "start_time": "2023-11-04T12:44:47.321515Z"
    }
   },
   "id": "32c09aee6c1fae5d"
  },
  {
   "cell_type": "code",
   "execution_count": 12,
   "outputs": [],
   "source": [
    "df=df.drop(['Unnamed: 0', 'publisher', 'url'] ,axis=1)"
   ],
   "metadata": {
    "collapsed": false,
    "ExecuteTime": {
     "end_time": "2023-11-04T12:44:51.513040Z",
     "start_time": "2023-11-04T12:44:51.399322Z"
    }
   },
   "id": "53c0113f0f9e2a9"
  },
  {
   "cell_type": "code",
   "execution_count": 13,
   "outputs": [
    {
     "data": {
      "text/plain": "                                                  headline  \\\n0        Agilent Technologies Announces Pricing of $5……...   \n1        Agilent (A) Gears Up for Q2 Earnings: What's i...   \n2        J.P. Morgan Asset Management Announces Liquida...   \n3        Pershing Square Capital Management, L.P. Buys ...   \n4        Agilent Awards Trilogy Sciences with a Golden ...   \n...                                                    ...   \n1845554                      Consumer Cyclical Sector Wrap   \n1845555                      Consumer Cyclical Sector Wrap   \n1845556  Zacks #5 Rank Additions for Monday - Tale of t...   \n1845557  4 Stock Strategies From Wall Street: Feb. 9 (U...   \n1845558        4 Stock Strategies From Wall Street: Feb. 9   \n\n                        date stock  \n0        2020-06-01 00:00:00     A  \n1        2020-05-18 00:00:00     A  \n2        2020-05-15 00:00:00     A  \n3        2020-05-15 00:00:00     A  \n4        2020-05-12 00:00:00     A  \n...                      ...   ...  \n1845554  2012-08-20 00:00:00    ZX  \n1845555  2012-07-23 00:00:00    ZX  \n1845556  2012-04-23 00:00:00    ZX  \n1845557  2012-02-09 00:00:00    ZX  \n1845558  2012-02-09 00:00:00    ZX  \n\n[1845559 rows x 3 columns]",
      "text/html": "<div>\n<style scoped>\n    .dataframe tbody tr th:only-of-type {\n        vertical-align: middle;\n    }\n\n    .dataframe tbody tr th {\n        vertical-align: top;\n    }\n\n    .dataframe thead th {\n        text-align: right;\n    }\n</style>\n<table border=\"1\" class=\"dataframe\">\n  <thead>\n    <tr style=\"text-align: right;\">\n      <th></th>\n      <th>headline</th>\n      <th>date</th>\n      <th>stock</th>\n    </tr>\n  </thead>\n  <tbody>\n    <tr>\n      <th>0</th>\n      <td>Agilent Technologies Announces Pricing of $5……...</td>\n      <td>2020-06-01 00:00:00</td>\n      <td>A</td>\n    </tr>\n    <tr>\n      <th>1</th>\n      <td>Agilent (A) Gears Up for Q2 Earnings: What's i...</td>\n      <td>2020-05-18 00:00:00</td>\n      <td>A</td>\n    </tr>\n    <tr>\n      <th>2</th>\n      <td>J.P. Morgan Asset Management Announces Liquida...</td>\n      <td>2020-05-15 00:00:00</td>\n      <td>A</td>\n    </tr>\n    <tr>\n      <th>3</th>\n      <td>Pershing Square Capital Management, L.P. Buys ...</td>\n      <td>2020-05-15 00:00:00</td>\n      <td>A</td>\n    </tr>\n    <tr>\n      <th>4</th>\n      <td>Agilent Awards Trilogy Sciences with a Golden ...</td>\n      <td>2020-05-12 00:00:00</td>\n      <td>A</td>\n    </tr>\n    <tr>\n      <th>...</th>\n      <td>...</td>\n      <td>...</td>\n      <td>...</td>\n    </tr>\n    <tr>\n      <th>1845554</th>\n      <td>Consumer Cyclical Sector Wrap</td>\n      <td>2012-08-20 00:00:00</td>\n      <td>ZX</td>\n    </tr>\n    <tr>\n      <th>1845555</th>\n      <td>Consumer Cyclical Sector Wrap</td>\n      <td>2012-07-23 00:00:00</td>\n      <td>ZX</td>\n    </tr>\n    <tr>\n      <th>1845556</th>\n      <td>Zacks #5 Rank Additions for Monday - Tale of t...</td>\n      <td>2012-04-23 00:00:00</td>\n      <td>ZX</td>\n    </tr>\n    <tr>\n      <th>1845557</th>\n      <td>4 Stock Strategies From Wall Street: Feb. 9 (U...</td>\n      <td>2012-02-09 00:00:00</td>\n      <td>ZX</td>\n    </tr>\n    <tr>\n      <th>1845558</th>\n      <td>4 Stock Strategies From Wall Street: Feb. 9</td>\n      <td>2012-02-09 00:00:00</td>\n      <td>ZX</td>\n    </tr>\n  </tbody>\n</table>\n<p>1845559 rows × 3 columns</p>\n</div>"
     },
     "execution_count": 13,
     "metadata": {},
     "output_type": "execute_result"
    }
   ],
   "source": [
    "df"
   ],
   "metadata": {
    "collapsed": false,
    "ExecuteTime": {
     "end_time": "2023-11-04T12:44:53.162218Z",
     "start_time": "2023-11-04T12:44:53.150584Z"
    }
   },
   "id": "8f1f038f01829560"
  },
  {
   "cell_type": "code",
   "execution_count": 14,
   "outputs": [
    {
     "data": {
      "text/plain": "headline    0\ndate        0\nstock       0\ndtype: int64"
     },
     "execution_count": 14,
     "metadata": {},
     "output_type": "execute_result"
    }
   ],
   "source": [
    "df.isnull().sum()"
   ],
   "metadata": {
    "collapsed": false,
    "ExecuteTime": {
     "end_time": "2023-11-04T12:45:05.812559Z",
     "start_time": "2023-11-04T12:45:05.604426Z"
    }
   },
   "id": "a441c5fb3cff04f0"
  },
  {
   "cell_type": "code",
   "execution_count": 15,
   "outputs": [],
   "source": [
    "stock = df['stock'].unique()"
   ],
   "metadata": {
    "collapsed": false,
    "ExecuteTime": {
     "end_time": "2023-11-04T12:45:10.553145Z",
     "start_time": "2023-11-04T12:45:10.493822Z"
    }
   },
   "id": "bf8f194a97e8bb08"
  },
  {
   "cell_type": "code",
   "execution_count": 16,
   "outputs": [
    {
     "data": {
      "text/plain": "6552"
     },
     "execution_count": 16,
     "metadata": {},
     "output_type": "execute_result"
    }
   ],
   "source": [
    "stock.size"
   ],
   "metadata": {
    "collapsed": false,
    "ExecuteTime": {
     "end_time": "2023-11-04T12:45:14.892548Z",
     "start_time": "2023-11-04T12:45:14.887394Z"
    }
   },
   "id": "c5a06b792b3d795d"
  },
  {
   "cell_type": "code",
   "execution_count": 17,
   "outputs": [],
   "source": [
    "sen = []\n",
    "for text in df['headline']:\n",
    "    blob = TextBlob(text)\n",
    "    sentiment = blob.sentiment.polarity\n",
    "    sen.append(sentiment)"
   ],
   "metadata": {
    "collapsed": false,
    "ExecuteTime": {
     "end_time": "2023-11-04T12:46:51.793442Z",
     "start_time": "2023-11-04T12:45:18.801081Z"
    }
   },
   "id": "ec09f4b44960494e"
  },
  {
   "cell_type": "code",
   "execution_count": 18,
   "outputs": [],
   "source": [
    "df['sentiment score'] = sen"
   ],
   "metadata": {
    "collapsed": false,
    "ExecuteTime": {
     "end_time": "2023-11-04T12:46:54.670736Z",
     "start_time": "2023-11-04T12:46:54.556703Z"
    }
   },
   "id": "14bcd7c7b04da045"
  },
  {
   "cell_type": "code",
   "execution_count": 19,
   "outputs": [],
   "source": [
    "sen_st=[]\n",
    "for i in stock:\n",
    "    s=0\n",
    "    data = df[(df['stock']==i)]\n",
    "    s = data['sentiment score'].sum()\n",
    "    sen_st.append(s)"
   ],
   "metadata": {
    "collapsed": false,
    "ExecuteTime": {
     "end_time": "2023-11-04T12:52:55.980917Z",
     "start_time": "2023-11-04T12:46:59.369478Z"
    }
   },
   "id": "dfca36b93b132957"
  },
  {
   "cell_type": "code",
   "execution_count": 22,
   "outputs": [],
   "source": [
    "dataframe = pd.DataFrame({'Stock': stock, 'Sentiment': sen_st})"
   ],
   "metadata": {
    "collapsed": false,
    "ExecuteTime": {
     "end_time": "2023-11-04T12:54:04.223444Z",
     "start_time": "2023-11-04T12:54:04.216746Z"
    }
   },
   "id": "6df8daaa8962191c"
  },
  {
   "cell_type": "code",
   "execution_count": 21,
   "outputs": [
    {
     "data": {
      "text/plain": "  Stock  Sentiment\n0     A  38.449404\n1    AA   5.617893\n2   AAC  11.082172\n3  AADR   2.684962\n4   AAL   1.212437",
      "text/html": "<div>\n<style scoped>\n    .dataframe tbody tr th:only-of-type {\n        vertical-align: middle;\n    }\n\n    .dataframe tbody tr th {\n        vertical-align: top;\n    }\n\n    .dataframe thead th {\n        text-align: right;\n    }\n</style>\n<table border=\"1\" class=\"dataframe\">\n  <thead>\n    <tr style=\"text-align: right;\">\n      <th></th>\n      <th>Stock</th>\n      <th>Sentiment</th>\n    </tr>\n  </thead>\n  <tbody>\n    <tr>\n      <th>0</th>\n      <td>A</td>\n      <td>38.449404</td>\n    </tr>\n    <tr>\n      <th>1</th>\n      <td>AA</td>\n      <td>5.617893</td>\n    </tr>\n    <tr>\n      <th>2</th>\n      <td>AAC</td>\n      <td>11.082172</td>\n    </tr>\n    <tr>\n      <th>3</th>\n      <td>AADR</td>\n      <td>2.684962</td>\n    </tr>\n    <tr>\n      <th>4</th>\n      <td>AAL</td>\n      <td>1.212437</td>\n    </tr>\n  </tbody>\n</table>\n</div>"
     },
     "execution_count": 21,
     "metadata": {},
     "output_type": "execute_result"
    }
   ],
   "source": [
    "dataframe.head()"
   ],
   "metadata": {
    "collapsed": false,
    "ExecuteTime": {
     "end_time": "2023-11-04T12:53:55.692133Z",
     "start_time": "2023-11-04T12:53:55.665274Z"
    }
   },
   "id": "4b75df736704972c"
  },
  {
   "cell_type": "markdown",
   "source": [
    "---"
   ],
   "metadata": {
    "collapsed": false
   },
   "id": "c8ec62871b07594b"
  },
  {
   "cell_type": "code",
   "execution_count": 38,
   "outputs": [
    {
     "data": {
      "text/plain": "           assetCode  confidenceValue\ntime                                 \n2017-01-03       A.N         0.015291\n2017-01-03      AA.N        -0.062404\n2017-01-03     AAL.O        -0.001005\n2017-01-03     AAN.N         0.021894\n2017-01-03     AAP.N         0.016215\n...              ...              ...\n2019-07-15    ZION.O        -0.026452\n2019-07-15    ZNGA.O        -0.049116\n2019-07-15      ZS.O        -0.185345\n2019-07-15     ZTO.N        -0.087125\n2019-07-15     ZTS.N        -0.048203\n\n[1157953 rows x 2 columns]",
      "text/html": "<div>\n<style scoped>\n    .dataframe tbody tr th:only-of-type {\n        vertical-align: middle;\n    }\n\n    .dataframe tbody tr th {\n        vertical-align: top;\n    }\n\n    .dataframe thead th {\n        text-align: right;\n    }\n</style>\n<table border=\"1\" class=\"dataframe\">\n  <thead>\n    <tr style=\"text-align: right;\">\n      <th></th>\n      <th>assetCode</th>\n      <th>confidenceValue</th>\n    </tr>\n    <tr>\n      <th>time</th>\n      <th></th>\n      <th></th>\n    </tr>\n  </thead>\n  <tbody>\n    <tr>\n      <th>2017-01-03</th>\n      <td>A.N</td>\n      <td>0.015291</td>\n    </tr>\n    <tr>\n      <th>2017-01-03</th>\n      <td>AA.N</td>\n      <td>-0.062404</td>\n    </tr>\n    <tr>\n      <th>2017-01-03</th>\n      <td>AAL.O</td>\n      <td>-0.001005</td>\n    </tr>\n    <tr>\n      <th>2017-01-03</th>\n      <td>AAN.N</td>\n      <td>0.021894</td>\n    </tr>\n    <tr>\n      <th>2017-01-03</th>\n      <td>AAP.N</td>\n      <td>0.016215</td>\n    </tr>\n    <tr>\n      <th>...</th>\n      <td>...</td>\n      <td>...</td>\n    </tr>\n    <tr>\n      <th>2019-07-15</th>\n      <td>ZION.O</td>\n      <td>-0.026452</td>\n    </tr>\n    <tr>\n      <th>2019-07-15</th>\n      <td>ZNGA.O</td>\n      <td>-0.049116</td>\n    </tr>\n    <tr>\n      <th>2019-07-15</th>\n      <td>ZS.O</td>\n      <td>-0.185345</td>\n    </tr>\n    <tr>\n      <th>2019-07-15</th>\n      <td>ZTO.N</td>\n      <td>-0.087125</td>\n    </tr>\n    <tr>\n      <th>2019-07-15</th>\n      <td>ZTS.N</td>\n      <td>-0.048203</td>\n    </tr>\n  </tbody>\n</table>\n<p>1157953 rows × 2 columns</p>\n</div>"
     },
     "execution_count": 38,
     "metadata": {},
     "output_type": "execute_result"
    }
   ],
   "source": [
    "submissions = pd.read_csv('~/Downloads/submission.csv', sep=',', header=0)\n",
    "submissions.set_index('time', inplace=True)\n",
    "#submissions[submissions.index >= '2020-06-30']\n",
    "submissions"
   ],
   "metadata": {
    "collapsed": false,
    "ExecuteTime": {
     "end_time": "2023-11-04T13:25:02.921679Z",
     "start_time": "2023-11-04T13:25:02.621499Z"
    }
   },
   "id": "f4ab020bccb41d55"
  },
  {
   "cell_type": "markdown",
   "source": [
    "---\n",
    "ref = [https://www.kaggle.com/code/equinxx/stock-prediction-gan-twitter-sentiment-analysis/notebook](https://www.kaggle.com/code/equinxx/stock-prediction-gan-twitter-sentiment-analysis/notebook)"
   ],
   "metadata": {
    "collapsed": false
   },
   "id": "48f30ae845247973"
  },
  {
   "cell_type": "code",
   "execution_count": 46,
   "outputs": [
    {
     "ename": "ModuleNotFoundError",
     "evalue": "No module named 'keras.utils.vis_utils'",
     "output_type": "error",
     "traceback": [
      "\u001B[0;31m---------------------------------------------------------------------------\u001B[0m",
      "\u001B[0;31mModuleNotFoundError\u001B[0m                       Traceback (most recent call last)",
      "Cell \u001B[0;32mIn[46], line 12\u001B[0m\n\u001B[1;32m     10\u001B[0m \u001B[38;5;28;01mfrom\u001B[39;00m \u001B[38;5;21;01mtensorflow\u001B[39;00m\u001B[38;5;21;01m.\u001B[39;00m\u001B[38;5;21;01mkeras\u001B[39;00m\u001B[38;5;21;01m.\u001B[39;00m\u001B[38;5;21;01mlayers\u001B[39;00m \u001B[38;5;28;01mimport\u001B[39;00m GRU, LSTM, Bidirectional, Dense, Flatten, Conv1D, BatchNormalization, LeakyReLU, Dropout\n\u001B[1;32m     11\u001B[0m \u001B[38;5;28;01mfrom\u001B[39;00m \u001B[38;5;21;01mtensorflow\u001B[39;00m\u001B[38;5;21;01m.\u001B[39;00m\u001B[38;5;21;01mkeras\u001B[39;00m \u001B[38;5;28;01mimport\u001B[39;00m Sequential\n\u001B[0;32m---> 12\u001B[0m \u001B[38;5;28;01mfrom\u001B[39;00m \u001B[38;5;21;01mkeras\u001B[39;00m\u001B[38;5;21;01m.\u001B[39;00m\u001B[38;5;21;01mutils\u001B[39;00m\u001B[38;5;21;01m.\u001B[39;00m\u001B[38;5;21;01mvis_utils\u001B[39;00m \u001B[38;5;28;01mimport\u001B[39;00m plot_model\n\u001B[1;32m     13\u001B[0m \u001B[38;5;28;01mfrom\u001B[39;00m \u001B[38;5;21;01mpickle\u001B[39;00m \u001B[38;5;28;01mimport\u001B[39;00m load\n\u001B[1;32m     14\u001B[0m \u001B[38;5;28;01mfrom\u001B[39;00m \u001B[38;5;21;01msklearn\u001B[39;00m\u001B[38;5;21;01m.\u001B[39;00m\u001B[38;5;21;01mmetrics\u001B[39;00m \u001B[38;5;28;01mimport\u001B[39;00m mean_squared_error\n",
      "\u001B[0;31mModuleNotFoundError\u001B[0m: No module named 'keras.utils.vis_utils'"
     ]
    }
   ],
   "source": [
    "import os\n",
    "import numpy as np\n",
    "import csv\n",
    "import pandas as pd\n",
    "import matplotlib.pyplot as plt\n",
    "from matplotlib.dates import DateFormatter\n",
    "import math\n",
    "import time\n",
    "import tensorflow as tf\n",
    "from tensorflow.keras.layers import GRU, LSTM, Bidirectional, Dense, Flatten, Conv1D, BatchNormalization, LeakyReLU, Dropout\n",
    "from tensorflow.keras import Sequential\n",
    "from keras.utils.vis_utils import plot_model\n",
    "from pickle import load\n",
    "from sklearn.metrics import mean_squared_error\n",
    "from tqdm import tqdm\n",
    "import statsmodels.api as sm\n",
    "from math import sqrt\n",
    "from datetime import datetime, timedelta\n",
    "from sklearn.preprocessing import MinMaxScaler\n",
    "from pickle import dump\n",
    "from nltk.sentiment.vader import SentimentIntensityAnalyzer\n",
    "from nltk.sentiment.vader import SentimentIntensityAnalyzer\n",
    "import unicodedata\n",
    "\n",
    "import warnings\n",
    "warnings.filterwarnings(\"ignore\")"
   ],
   "metadata": {
    "collapsed": false,
    "ExecuteTime": {
     "end_time": "2023-11-04T13:40:03.243918Z",
     "start_time": "2023-11-04T13:40:03.197893Z"
    }
   },
   "id": "c56326403da459f5"
  },
  {
   "cell_type": "code",
   "execution_count": null,
   "outputs": [],
   "source": [],
   "metadata": {
    "collapsed": false
   },
   "id": "a966a18215d545c0"
  }
 ],
 "metadata": {
  "kernelspec": {
   "display_name": "Python 3",
   "language": "python",
   "name": "python3"
  },
  "language_info": {
   "codemirror_mode": {
    "name": "ipython",
    "version": 2
   },
   "file_extension": ".py",
   "mimetype": "text/x-python",
   "name": "python",
   "nbconvert_exporter": "python",
   "pygments_lexer": "ipython2",
   "version": "2.7.6"
  }
 },
 "nbformat": 4,
 "nbformat_minor": 5
}
