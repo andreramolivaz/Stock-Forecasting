{
 "cells": [
  {
   "cell_type": "markdown",
   "id": "c9e37739",
   "metadata": {},
   "source": [
    "# Data Retrivial"
   ]
  },
  {
   "cell_type": "markdown",
   "id": "bacfc5435efc9793",
   "metadata": {
    "collapsed": false
   },
   "source": [
    "## Importing libraries\n",
    "In this section we are two essential libraries for financial data analysis\n",
    "\n",
    "1. yfinance (`yf`):\n",
    "    - **Decription**: yfinance is a popular library used to fetch historical market data from Yahoo Finance. It allows users to download financial data such as stock prices, dividends, and splits for various companies and time periods.\n",
    "    - **Usage**: Throughout the notebook, we will use `yf` to retrieve stock data which will serve as the foundation for our financial analyses.\n",
    "2. pandas (`pd`):\n",
    "    - **Description**: pandas is a widely-used Python library for data manipulation and analysis. It provides data structures such as DataFrames and Series that make it easy to handle and analyze structured data.\n",
    "    - **Usage**: As we retrieve financial data, we will use `pd` to store, manipulate, and analyze this data in tabular form, ensuring a streamlined and efficient data analysis process."
   ]
  },
  {
   "cell_type": "code",
   "execution_count": 1,
   "id": "842972dfa5aa658e",
   "metadata": {
    "ExecuteTime": {
     "end_time": "2023-10-26T07:58:28.384110200Z",
     "start_time": "2023-10-26T07:58:26.775576800Z"
    },
    "collapsed": false
   },
   "outputs": [],
   "source": [
    "import yfinance as yf\n",
    "import pandas as pd"
   ]
  },
  {
   "cell_type": "markdown",
   "id": "f00f526c941b0b81",
   "metadata": {
    "collapsed": false
   },
   "source": [
    "# Stock List\n",
    "## Understanding the stocks_info Dictionary Structure\n",
    "The `stocks_info` dictionary is structured to hold information about various stocks. Here's a breakdown of its structure and the type of information it contains:\n",
    "- **Key**: The stock name or ticker symbol. This serves as a unique identifier for each stock in the dictionary.\n",
    "- **Value**: For each stock, the associated value is another dictionary that contains details about that specific stock. Here's what each inner key-value pair represents:\n",
    "    - **Sector**: The industry or sector in which the stock's company operates. This provides insight into the type of business the company is engaged in.\n",
    "    - **Size**: Indicates the size of the company, which can often be categorized as small-cap, mid-cap, or large-cap, based on its market capitalization. This gives a sense of the company's market presence and stability.\n",
    "    - **Region**: Specifies the geographical region where the company primarily conducts its business. This can help in understanding the company's market reach and potential external factors influencing its performance. \n",
    "\n",
    "The `stocks_info` dictionary, therefore, offers a consolidated view of various stocks, detailing their sector, size, and region, allowing for a quick reference and comparative analysis.\n"
   ]
  },
  {
   "cell_type": "code",
   "execution_count": 2,
   "id": "840f3d77cd7c1ad8",
   "metadata": {
    "ExecuteTime": {
     "end_time": "2023-10-26T07:58:33.516635300Z",
     "start_time": "2023-10-26T07:58:33.511628800Z"
    },
    "collapsed": false
   },
   "outputs": [],
   "source": [
    "stocks_info = {\n",
    "    \"MSFT\":{\n",
    "        \"Sector\":\"Technology\",\n",
    "        \"Size\":\"Large-cap\",\n",
    "        \"Region\":\"US\"\n",
    "    },\n",
    "    \"AAPL\":{\n",
    "        \"Sector\":\"Technology\",\n",
    "        \"Size\":\"Large-cap\",\n",
    "        \"Region\":\"US\"\n",
    "    },\n",
    "    \"JNJ\":{\n",
    "        \"Sector\":\"Healthcare\",\n",
    "        \"Size\":\"Large-cap\",\n",
    "        \"Region\":\"US\"\n",
    "    },\n",
    "    \"PFE\":{\n",
    "        \"Sector\":\"Healthcare\",\n",
    "        \"Size\":\"Large-cap\",\n",
    "        \"Region\":\"US\"\n",
    "    },\n",
    "    \"GS\":{\n",
    "        \"Sector\":\"Finance\",\n",
    "        \"Size\":\"Large-cap\",\n",
    "        \"Region\":\"US\"\n",
    "    },\n",
    "    \"JPM\":{\n",
    "        \"Sector\":\"Finance\",\n",
    "        \"Size\":\"Large-cap\",\n",
    "        \"Region\":\"US\"\n",
    "    },\n",
    "    \"XOM\":{\n",
    "        \"Sector\":\"Energy\",\n",
    "        \"Size\":\"Large-cap\",\n",
    "        \"Region\":\"US\"\n",
    "    },\n",
    "    \"CVX\":{\n",
    "        \"Sector\":\"Energy\",\n",
    "        \"Size\":\"Large-cap\",\n",
    "        \"Region\":\"US\"\n",
    "    },\n",
    "    \"PG\":{\n",
    "        \"Sector\":\"Consumer Goods\",\n",
    "        \"Size\":\"Large-cap\",\n",
    "        \"Region\":\"US\"\n",
    "    },\n",
    "    \"KO\":{\n",
    "        \"Sector\":\"Consumer Goods\",\n",
    "        \"Size\":\"Large-cap\",\n",
    "        \"Region\":\"US\"\n",
    "    },\n",
    "    \"BA\":{\n",
    "        \"Sector\":\"Industrials\",\n",
    "        \"Size\":\"Large-cap\",\n",
    "        \"Region\":\"US\"\n",
    "    },\n",
    "    \"MMM\":{\n",
    "        \"Sector\":\"Industrials\",\n",
    "        \"Size\":\"Large-cap\",\n",
    "        \"Region\":\"US\"\n",
    "    },\n",
    "    \"T\":{\n",
    "        \"Sector\":\"Telecommunications\",\n",
    "        \"Size\":\"Large-cap\",\n",
    "        \"Region\":\"US\"\n",
    "    },\n",
    "    \"VZ\":{\n",
    "        \"Sector\":\"Telecommunications\",\n",
    "        \"Size\":\"Large-cap\",\n",
    "        \"Region\":\"US\"\n",
    "    },\n",
    "    \"AMZN\":{\n",
    "        \"Sector\":\"Retail\",\n",
    "        \"Size\":\"Large-cap\",\n",
    "        \"Region\":\"US\"\n",
    "    },\n",
    "    \"WMT\":{\n",
    "        \"Sector\":\"Retail\",\n",
    "        \"Size\":\"Large-cap\",\n",
    "        \"Region\":\"US\"\n",
    "    },\n",
    "    \"SEDG\":{\n",
    "        \"Sector\":\"Energy\",\n",
    "        \"Size\":\"Mid-cap\",\n",
    "        \"Region\":\"US\"\n",
    "    },\n",
    "    \n",
    "    \"EGHT\":{\n",
    "        \"Sector\":\"Technology\",\n",
    "        \"Size\":\"Small-cap\",\n",
    "        \"Region\":\"US\"\n",
    "    },\n",
    "    \"UL\":{\n",
    "        \"Sector\":\"Consumer Goods\",\n",
    "        \"Size\":\"Large-cap\",\n",
    "        \"Region\":\"Europe\"\n",
    "    },\n",
    "    \"TM\":{\n",
    "        \"Sector\":\"Automobile\",\n",
    "        \"Size\":\"Large-cap\",\n",
    "        \"Region\":\"Asia\"\n",
    "    },\n",
    "    \"0700.HK\":{\n",
    "        \"Sector\":\"Technology\",\n",
    "        \"Size\":\"Large-cap\",\n",
    "        \"Region\":\"Asia\"\n",
    "    },\n",
    "    \"DB\":{\n",
    "        \"Sector\":\"Banking\",\n",
    "        \"Size\":\"Large-cap\",\n",
    "        \"Region\":\"Europe\"\n",
    "    },\n",
    "    \"NOVN.SW\":{\n",
    "        \"Sector\":\"Pharmaceutical\",\n",
    "        \"Size\":\"Large-cap\",\n",
    "        \"Region\":\"Europe\"\n",
    "    },\n",
    "    \"005930.KS\":{\n",
    "        \"Sector\":\"Technology\",\n",
    "        \"Size\":\"Large-cap\",\n",
    "        \"Region\":\"Asia\"\n",
    "    },\n",
    "    \"1398.HK\":{\n",
    "        \"Sector\":\"Banking\",\n",
    "        \"Size\":\"Large-cap\",\n",
    "        \"Region\":\"Asia\"\n",
    "    },\n",
    "}"
   ]
  },
  {
   "cell_type": "markdown",
   "source": [
    "# Extracting and Saving Stock Data to Excel\n",
    "This code block is designed to iterate through the `stocks_info` dictionary, fetch extensive financial data for each stock using the `yfinance` library, and then save that data into individual Excel files. Here's a step-by-step explanation:\n",
    "1. **Looping through Stocks**: For each stock (represented by the key, which is the stock's name or ticker symbol) in the `stocks_info` dictionary, the following operations are performed:\n",
    "2. **Fetching Ticker Object**: The `yfinance.Ticker()` function creates a Ticker object for the specified stock. This object is used to fetch various types of financial data related to that stock.\n",
    "3. **Fetching Historical Data**:  The `history()` function retrieves the stock's historical data. The parameter `period=\"max\"` ensures that data is fetched for the maximum available time frame. The date index of this historical data is then formatted to a `YYYY-MM-DD` string format.\n",
    "4. **Saving Data to Excel**: Here, an Excel writer object is created to save the data to an Excel file named after the stock's ticker symbol inside the `data` directory.\n",
    "5. **Populating Excel Sheets**: Multiple sheets are populated in the Excel file for each stock, including:\n",
    "    - **Info**: Contains basic information about the stock from the `stocks_info` dictionary.\n",
    "    - **Historical**: Contains the stock's historical market data.\n",
    "    - **Income Statement**: Contains the stock's annual income statement.\n",
    "    - **Quarterly Income Statement**: \n",
    "    - **Cashflow**: Contains the stock's quarterly income statement.\n",
    "    - **Institutional Holders**: Contains the stock's cash flow data.\n",
    "    - **Mutual Fund Holders**: Contains information about mutual funds holding the stock.\n",
    "    - **Major Holders**: Contains information about major individual or entity holders of the stock.\n",
    "\n",
    "This code effectively consolidates a wealth of financial information for each stock into structured Excel files, making the data easily accessible and shareable."
   ],
   "metadata": {
    "collapsed": false
   },
   "id": "d5daad0697e0c918"
  },
  {
   "cell_type": "code",
   "execution_count": 79,
   "id": "6dbb82356d53d2cc",
   "metadata": {
    "ExecuteTime": {
     "end_time": "2023-10-15T14:53:26.308729100Z",
     "start_time": "2023-10-15T14:50:43.557335800Z"
    },
    "collapsed": false
   },
   "outputs": [
    {
     "name": "stdout",
     "output_type": "stream",
     "text": [
      "terminata MSFT\n",
      "terminata AAPL\n",
      "terminata JNJ\n",
      "terminata PFE\n",
      "terminata GS\n",
      "terminata JPM\n",
      "terminata XOM\n",
      "terminata CVX\n",
      "terminata PG\n",
      "terminata KO\n",
      "terminata BA\n",
      "terminata MMM\n",
      "terminata T\n",
      "terminata VZ\n",
      "terminata AMZN\n",
      "terminata WMT\n",
      "terminata SEDG\n",
      "terminata EGHT\n",
      "terminata UL\n",
      "terminata TM\n",
      "terminata 0700.HK\n",
      "terminata DB\n",
      "terminata NOVN.SW\n",
      "terminata 005930.KS\n",
      "terminata 1398.HK\n"
     ]
    }
   ],
   "source": [
    "for key in stocks_info:\n",
    "    action = yf.Ticker(key)\n",
    "    history = action.history(period=\"max\")\n",
    "    history.index = history.index.strftime('%Y-%m-%d').tolist()\n",
    "    with pd.ExcelWriter(f'./data/{key}.xlsx', mode='w', engine='openpyxl') as writer:\n",
    "        pd.DataFrame.from_dict(stocks_info[key], orient='index').transpose().to_excel(writer, sheet_name='Info')\n",
    "        history.to_excel(writer, sheet_name='Historical')\n",
    "        action.income_stmt.to_excel(writer, sheet_name='Income Statement')\n",
    "        action.quarterly_income_stmt.to_excel(writer, sheet_name='Quarterly Income Statement')\n",
    "        action.cashflow.to_excel(writer, sheet_name='Cashflow')\n",
    "        action.institutional_holders.to_excel(writer, sheet_name='Institutional Holders')\n",
    "        action.mutualfund_holders.to_excel(writer, sheet_name='Mutual Fund Holders')\n",
    "        action.major_holders.to_excel(writer, sheet_name='Major Holders')"
   ]
  }
 ],
 "metadata": {
  "kernelspec": {
   "display_name": "Python 3",
   "language": "python",
   "name": "python3"
  },
  "language_info": {
   "codemirror_mode": {
    "name": "ipython",
    "version": 3
   },
   "file_extension": ".py",
   "mimetype": "text/x-python",
   "name": "python",
   "nbconvert_exporter": "python",
   "pygments_lexer": "ipython3",
   "version": "3.11.5"
  }
 },
 "nbformat": 4,
 "nbformat_minor": 5
}
