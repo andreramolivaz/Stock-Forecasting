{
 "cells": [
  {
   "cell_type": "markdown",
   "source": [
    "# Train\n",
    "\n",
    "Algoritmi:\n",
    "\n",
    "**K-Nearest Neighbors (KNN)**:\n",
    "Pro: Semplice da implementare, non richiede addestramento costoso.\n",
    "Contro: Prestazioni possono decadere con dataset di grandi dimensioni. Sensibile alla scala delle feature.\n",
    "\n",
    "**Decision Trees**:\n",
    "Pro: Facile da interpretare, gestisce automaticamente le feature rilevanti.\n",
    "Contro: Tendenza all'overfitting. Può essere instabile con piccole variazioni nei dati.\n",
    "\n",
    "**Linear Regression**:\n",
    "Pro: Semplice e interpretabile, adatta per relazioni lineari tra feature e target.\n",
    "Contro: Sensibile a outliers. Non gestisce bene relazioni complesse.\n",
    "\n",
    "**Logistic Regression**:\n",
    "Pro: Buona per problemi di classificazione binaria.\n",
    "Contro: Assume una relazione lineare tra le feature e il log-odds. Non gestisce bene relazioni complesse.\n",
    "\n",
    "**Support Vector Machines (SVM)**:\n",
    "Pro: Buone prestazioni in spazi delle feature ad alta dimensione.\n",
    "Contro: Richiede una scelta accurata dei parametri. Non sempre efficace con dataset molto grandi.\n",
    "\n",
    "**Random Forest**:\n",
    "Pro: Buona capacità di gestire complessità e overfitting. Può fornire importanza delle feature.\n",
    "Contro: Meno interpretabile rispetto ai singoli alberi. Può richiedere tempo per l'addestramento.\n",
    "\n",
    "**Ensemble Methods**:\n",
    "Pro: Combina diversi modelli per migliorare le prestazioni complessive.\n",
    "Contro: Complessità e interpretabilità possono essere un problema.\n",
    "\n",
    "**Neural Networks**:\n",
    "Pro: Eccellenti per problemi complessi e non lineari. Addestramento su grandi quantità di dati.\n",
    "Contro: Richiede molto dati e risorse di calcolo. Complessità nella scelta dell'architettura.\n",
    "\n",
    "**Convolutional Neural Networks (CNN)**:\n",
    "Pro: Eccellenti per dati strutturati come immagini. Applicabili anche a dati sequenziali.\n",
    "Contro: Richiede dati etichettati in grandi quantità.\n",
    "\n",
    "Escludiamo quindi Linear Regression, Decision Trees,Support Vector Machines (SVM) e Convolutional Neural Networks (CNN).\n",
    "\n",
    "Considerazioni:\n",
    "\n",
    "Possiamo utilizzare i rimanenti algoritmi per dividere il problema il 4 categorie: Unsafe, Target 1 day, Target 5 days, Target 30 days.\n",
    "\n",
    "**Knn**:\n",
    "La scelta del K è importante e può variare molto prendendo due K molto vicini.\n",
    "Per questo motivo abbiamo deciso di affidarci ad altri tipi di algoritmi per questo tipo di problema.\n",
    " \n",
    "**Logistic Regression**: \n",
    "Possiamo utilizzare la Regressione Logistica per dividere il problema in 3 sottoproblemi. Possiamo classificare se le predizioni appartengono o meno all'etichetta Target 1 day, Target 5 days o Target 30 days. Se tutte e 3 dovessero essere 0, la scelta ricadrebbe su Unsafe.\n",
    "Questo vorrebbe dire allenare 3 volte l'algoritmo predicendo una alla volta tutte e tre le etichette.\n",
    "(Da testare)\n",
    "\n",
    "**Random Forests**:\n",
    "Possiamo utilizzare la tecnica del Bagging per ridurre la varianza, tipicamente elevata con questo algoritmo, per avere un accuracy più alta.\n",
    "(Da testare)\n",
    "\n",
    "**Ensemble Methods**: \n",
    "(Che metodi utilizzare?)\n",
    "(Da Testare)\n",
    "\n",
    "**Neural Networks**: \n",
    "L'utilizzo delle neural networks risulta essere più complicato degli altri poiché è più difficile da costruire e può svilupparsi in diverse varianti.\n",
    "La parte difficile appunto sta nella scelta del numero di hidden layers e nel numero di nodi di questi. Tale scelta può essere affinata con test ripetuti per arrivare ad una soluzione comune.\n",
    "(Da testare)"
   ],
   "metadata": {
    "collapsed": false
   },
   "id": "28918e1ed52316e2"
  },
  {
   "cell_type": "markdown",
   "source": [
    "# Knn"
   ],
   "metadata": {
    "collapsed": false
   },
   "id": "cc15b3fd4a850708"
  },
  {
   "cell_type": "code",
   "execution_count": 4,
   "outputs": [],
   "source": [
    "from sklearn.neighbors import KNeighborsClassifier\n",
    "import matplotlib.pyplot as plt\n",
    "from sklearn.inspection import DecisionBoundaryDisplay\n",
    "from sklearn.model_selection import train_test_split\n",
    "from sklearn.metrics import accuracy_score\n",
    "from sklearn.datasets import make_blobs\n",
    "import pandas as pd"
   ],
   "metadata": {
    "collapsed": false,
    "ExecuteTime": {
     "end_time": "2023-11-19T17:42:18.266723Z",
     "start_time": "2023-11-19T17:42:16.614744Z"
    }
   },
   "id": "45384eb0b2c9c55a"
  },
  {
   "cell_type": "code",
   "execution_count": 5,
   "outputs": [
    {
     "data": {
      "text/plain": "            Date          Open          High           Low         Close  \\\n0     2020-06-30  90534.565179  90717.278731  89255.570312  89255.570312   \n1     2020-07-01  89986.421883  90899.989618  89529.638016  89712.351562   \n2     2020-07-02  89529.635417  91082.700521  89529.635417  90443.203125   \n3     2020-07-03  91265.419308  91813.559964  90077.781218  90625.921875   \n4     2020-07-06  91082.695405  93640.684845  90260.484514  92727.117188   \n...          ...           ...           ...           ...           ...   \n26675 2023-10-20    112.919998    113.320000    110.790001    111.080002   \n26676 2023-10-23    110.629997    110.959999    108.680000    109.449997   \n26677 2023-10-24    109.699997    109.820000    108.120003    108.389999   \n26678 2023-10-25    108.519997    109.500000    108.129997    108.589996   \n26679 2023-10-26    107.449997    108.339996    106.495003    107.425003   \n\n         Volume  Dividends  Stock Splits  Daily_Return  Target_1day  ...  \\\n0        988987        0.0           0.0      0.000000            1  ...   \n1        640540        0.0           0.0      0.005118            1  ...   \n2        730963        0.0           0.0      0.008147            1  ...   \n3        569575        0.0           0.0      0.002020            1  ...   \n4       1189877        0.0           0.0      0.023185            0  ...   \n...         ...        ...           ...           ...          ...  ...   \n26675  22439800        0.0           0.0     -0.017165            0  ...   \n26676  18185000        0.0           0.0     -0.014674            0  ...   \n26677  16786100        0.0           0.0     -0.009685            1  ...   \n26678  22047300        0.0           0.0      0.001845            0  ...   \n26679  12054832        0.0           0.0     -0.010728            0  ...   \n\n              MA_30         MA_50        RSI        MACD  Signal_Line  \\\n0      92851.977604  89900.544844  29.090917 -314.945626   517.337196   \n1      92879.384896  89858.520781  33.114757 -434.587634   326.952230   \n2      92934.198698  89884.100625  41.444863 -465.070135   168.547757   \n3      93077.324479  89988.247500  55.500008 -469.076637    41.022878   \n4      93244.811979  90150.862500  50.000000 -299.253312   -27.032360   \n...             ...           ...        ...         ...          ...   \n26675    113.866000    112.431415  41.095898   -0.672795    -0.697816   \n26676    113.709000    112.402000  38.176416   -0.775562    -0.713365   \n26677    113.405666    112.349600  43.441582   -0.931798    -0.757052   \n26678    113.143999    112.358200  49.065416   -1.027632    -0.811168   \n26679    112.774166    112.379900  50.614618   -1.183938    -0.885722   \n\n       Bollinger_Mid_Band  Bollinger_Upper_Band  Bollinger_Lower_Band  \\\n0            94577.098437         104488.275493          84665.921382   \n1            94106.611328         104003.310201          84209.912455   \n2            93672.666797         103409.739151          83935.594443   \n3            93133.661719         102267.155198          84000.168239   \n4            92608.360156         100464.250846          84752.469466   \n...                   ...                   ...                   ...   \n26675          112.580000            120.644831            104.515168   \n26676          112.240999            120.232491            104.249507   \n26677          111.839999            119.758208            103.921790   \n26678          111.259499            118.283746            104.235252   \n26679          110.657249            116.757753            104.556745   \n\n       Volatility    Ticker  \n0        0.030295  005380KS  \n1        0.018542  005380KS  \n2        0.012799  005380KS  \n3        0.012387  005380KS  \n4        0.009195  005380KS  \n...           ...       ...  \n26675    0.012627       XOM  \n26676    0.014787       XOM  \n26677    0.012802       XOM  \n26678    0.008695       XOM  \n26679    0.007316       XOM  \n\n[26680 rows x 36 columns]",
      "text/html": "<div>\n<style scoped>\n    .dataframe tbody tr th:only-of-type {\n        vertical-align: middle;\n    }\n\n    .dataframe tbody tr th {\n        vertical-align: top;\n    }\n\n    .dataframe thead th {\n        text-align: right;\n    }\n</style>\n<table border=\"1\" class=\"dataframe\">\n  <thead>\n    <tr style=\"text-align: right;\">\n      <th></th>\n      <th>Date</th>\n      <th>Open</th>\n      <th>High</th>\n      <th>Low</th>\n      <th>Close</th>\n      <th>Volume</th>\n      <th>Dividends</th>\n      <th>Stock Splits</th>\n      <th>Daily_Return</th>\n      <th>Target_1day</th>\n      <th>...</th>\n      <th>MA_30</th>\n      <th>MA_50</th>\n      <th>RSI</th>\n      <th>MACD</th>\n      <th>Signal_Line</th>\n      <th>Bollinger_Mid_Band</th>\n      <th>Bollinger_Upper_Band</th>\n      <th>Bollinger_Lower_Band</th>\n      <th>Volatility</th>\n      <th>Ticker</th>\n    </tr>\n  </thead>\n  <tbody>\n    <tr>\n      <th>0</th>\n      <td>2020-06-30</td>\n      <td>90534.565179</td>\n      <td>90717.278731</td>\n      <td>89255.570312</td>\n      <td>89255.570312</td>\n      <td>988987</td>\n      <td>0.0</td>\n      <td>0.0</td>\n      <td>0.000000</td>\n      <td>1</td>\n      <td>...</td>\n      <td>92851.977604</td>\n      <td>89900.544844</td>\n      <td>29.090917</td>\n      <td>-314.945626</td>\n      <td>517.337196</td>\n      <td>94577.098437</td>\n      <td>104488.275493</td>\n      <td>84665.921382</td>\n      <td>0.030295</td>\n      <td>005380KS</td>\n    </tr>\n    <tr>\n      <th>1</th>\n      <td>2020-07-01</td>\n      <td>89986.421883</td>\n      <td>90899.989618</td>\n      <td>89529.638016</td>\n      <td>89712.351562</td>\n      <td>640540</td>\n      <td>0.0</td>\n      <td>0.0</td>\n      <td>0.005118</td>\n      <td>1</td>\n      <td>...</td>\n      <td>92879.384896</td>\n      <td>89858.520781</td>\n      <td>33.114757</td>\n      <td>-434.587634</td>\n      <td>326.952230</td>\n      <td>94106.611328</td>\n      <td>104003.310201</td>\n      <td>84209.912455</td>\n      <td>0.018542</td>\n      <td>005380KS</td>\n    </tr>\n    <tr>\n      <th>2</th>\n      <td>2020-07-02</td>\n      <td>89529.635417</td>\n      <td>91082.700521</td>\n      <td>89529.635417</td>\n      <td>90443.203125</td>\n      <td>730963</td>\n      <td>0.0</td>\n      <td>0.0</td>\n      <td>0.008147</td>\n      <td>1</td>\n      <td>...</td>\n      <td>92934.198698</td>\n      <td>89884.100625</td>\n      <td>41.444863</td>\n      <td>-465.070135</td>\n      <td>168.547757</td>\n      <td>93672.666797</td>\n      <td>103409.739151</td>\n      <td>83935.594443</td>\n      <td>0.012799</td>\n      <td>005380KS</td>\n    </tr>\n    <tr>\n      <th>3</th>\n      <td>2020-07-03</td>\n      <td>91265.419308</td>\n      <td>91813.559964</td>\n      <td>90077.781218</td>\n      <td>90625.921875</td>\n      <td>569575</td>\n      <td>0.0</td>\n      <td>0.0</td>\n      <td>0.002020</td>\n      <td>1</td>\n      <td>...</td>\n      <td>93077.324479</td>\n      <td>89988.247500</td>\n      <td>55.500008</td>\n      <td>-469.076637</td>\n      <td>41.022878</td>\n      <td>93133.661719</td>\n      <td>102267.155198</td>\n      <td>84000.168239</td>\n      <td>0.012387</td>\n      <td>005380KS</td>\n    </tr>\n    <tr>\n      <th>4</th>\n      <td>2020-07-06</td>\n      <td>91082.695405</td>\n      <td>93640.684845</td>\n      <td>90260.484514</td>\n      <td>92727.117188</td>\n      <td>1189877</td>\n      <td>0.0</td>\n      <td>0.0</td>\n      <td>0.023185</td>\n      <td>0</td>\n      <td>...</td>\n      <td>93244.811979</td>\n      <td>90150.862500</td>\n      <td>50.000000</td>\n      <td>-299.253312</td>\n      <td>-27.032360</td>\n      <td>92608.360156</td>\n      <td>100464.250846</td>\n      <td>84752.469466</td>\n      <td>0.009195</td>\n      <td>005380KS</td>\n    </tr>\n    <tr>\n      <th>...</th>\n      <td>...</td>\n      <td>...</td>\n      <td>...</td>\n      <td>...</td>\n      <td>...</td>\n      <td>...</td>\n      <td>...</td>\n      <td>...</td>\n      <td>...</td>\n      <td>...</td>\n      <td>...</td>\n      <td>...</td>\n      <td>...</td>\n      <td>...</td>\n      <td>...</td>\n      <td>...</td>\n      <td>...</td>\n      <td>...</td>\n      <td>...</td>\n      <td>...</td>\n      <td>...</td>\n    </tr>\n    <tr>\n      <th>26675</th>\n      <td>2023-10-20</td>\n      <td>112.919998</td>\n      <td>113.320000</td>\n      <td>110.790001</td>\n      <td>111.080002</td>\n      <td>22439800</td>\n      <td>0.0</td>\n      <td>0.0</td>\n      <td>-0.017165</td>\n      <td>0</td>\n      <td>...</td>\n      <td>113.866000</td>\n      <td>112.431415</td>\n      <td>41.095898</td>\n      <td>-0.672795</td>\n      <td>-0.697816</td>\n      <td>112.580000</td>\n      <td>120.644831</td>\n      <td>104.515168</td>\n      <td>0.012627</td>\n      <td>XOM</td>\n    </tr>\n    <tr>\n      <th>26676</th>\n      <td>2023-10-23</td>\n      <td>110.629997</td>\n      <td>110.959999</td>\n      <td>108.680000</td>\n      <td>109.449997</td>\n      <td>18185000</td>\n      <td>0.0</td>\n      <td>0.0</td>\n      <td>-0.014674</td>\n      <td>0</td>\n      <td>...</td>\n      <td>113.709000</td>\n      <td>112.402000</td>\n      <td>38.176416</td>\n      <td>-0.775562</td>\n      <td>-0.713365</td>\n      <td>112.240999</td>\n      <td>120.232491</td>\n      <td>104.249507</td>\n      <td>0.014787</td>\n      <td>XOM</td>\n    </tr>\n    <tr>\n      <th>26677</th>\n      <td>2023-10-24</td>\n      <td>109.699997</td>\n      <td>109.820000</td>\n      <td>108.120003</td>\n      <td>108.389999</td>\n      <td>16786100</td>\n      <td>0.0</td>\n      <td>0.0</td>\n      <td>-0.009685</td>\n      <td>1</td>\n      <td>...</td>\n      <td>113.405666</td>\n      <td>112.349600</td>\n      <td>43.441582</td>\n      <td>-0.931798</td>\n      <td>-0.757052</td>\n      <td>111.839999</td>\n      <td>119.758208</td>\n      <td>103.921790</td>\n      <td>0.012802</td>\n      <td>XOM</td>\n    </tr>\n    <tr>\n      <th>26678</th>\n      <td>2023-10-25</td>\n      <td>108.519997</td>\n      <td>109.500000</td>\n      <td>108.129997</td>\n      <td>108.589996</td>\n      <td>22047300</td>\n      <td>0.0</td>\n      <td>0.0</td>\n      <td>0.001845</td>\n      <td>0</td>\n      <td>...</td>\n      <td>113.143999</td>\n      <td>112.358200</td>\n      <td>49.065416</td>\n      <td>-1.027632</td>\n      <td>-0.811168</td>\n      <td>111.259499</td>\n      <td>118.283746</td>\n      <td>104.235252</td>\n      <td>0.008695</td>\n      <td>XOM</td>\n    </tr>\n    <tr>\n      <th>26679</th>\n      <td>2023-10-26</td>\n      <td>107.449997</td>\n      <td>108.339996</td>\n      <td>106.495003</td>\n      <td>107.425003</td>\n      <td>12054832</td>\n      <td>0.0</td>\n      <td>0.0</td>\n      <td>-0.010728</td>\n      <td>0</td>\n      <td>...</td>\n      <td>112.774166</td>\n      <td>112.379900</td>\n      <td>50.614618</td>\n      <td>-1.183938</td>\n      <td>-0.885722</td>\n      <td>110.657249</td>\n      <td>116.757753</td>\n      <td>104.556745</td>\n      <td>0.007316</td>\n      <td>XOM</td>\n    </tr>\n  </tbody>\n</table>\n<p>26680 rows × 36 columns</p>\n</div>"
     },
     "execution_count": 5,
     "metadata": {},
     "output_type": "execute_result"
    }
   ],
   "source": [
    "df = pd.ExcelFile('final_dataset.xlsx').parse('Sheet1')\n",
    "df"
   ],
   "metadata": {
    "collapsed": false,
    "ExecuteTime": {
     "end_time": "2023-11-19T17:42:28.791030Z",
     "start_time": "2023-11-19T17:42:19.666620Z"
    }
   },
   "id": "956e36475c7e88af"
  },
  {
   "cell_type": "code",
   "execution_count": 38,
   "outputs": [
    {
     "name": "stdout",
     "output_type": "stream",
     "text": [
      "Index(['Date', 'Open', 'High', 'Low', 'Close', 'Volume', 'Dividends',\n",
      "       'Stock Splits', 'Daily_Return', 'Target_1day', 'Target_5days',\n",
      "       'Target_30days', 'Net Income', 'Diluted EPS', 'Total Revenue',\n",
      "       'Normalized EBITDA', 'Total Unusual Items',\n",
      "       'Total Unusual Items Excluding Goodwill', 'Operating Cash Flow',\n",
      "       'Capital Expenditure', 'Free Cash Flow',\n",
      "       'Cash Flow From Continuing Operating Activities',\n",
      "       'Cash Flow From Continuing Investing Activities',\n",
      "       'Cash Flow From Continuing Financing Activities', 'MA_5', 'MA_10',\n",
      "       'MA_30', 'MA_50', 'RSI', 'MACD', 'Signal_Line', 'Bollinger_Mid_Band',\n",
      "       'Bollinger_Upper_Band', 'Bollinger_Lower_Band', 'Volatility', 'Ticker'],\n",
      "      dtype='object')\n",
      "        Date          Open          High           Low         Close   Volume  \\\n",
      "0 2020-06-30  90534.565179  90717.278731  89255.570312  89255.570312   988987   \n",
      "1 2020-07-01  89986.421883  90899.989618  89529.638016  89712.351562   640540   \n",
      "2 2020-07-02  89529.635417  91082.700521  89529.635417  90443.203125   730963   \n",
      "3 2020-07-03  91265.419308  91813.559964  90077.781218  90625.921875   569575   \n",
      "4 2020-07-06  91082.695405  93640.684845  90260.484514  92727.117188  1189877   \n",
      "\n",
      "   Dividends  Stock Splits  Daily_Return  Target_1day  ...         MA_30  \\\n",
      "0        0.0           0.0      0.000000            1  ...  92851.977604   \n",
      "1        0.0           0.0      0.005118            1  ...  92879.384896   \n",
      "2        0.0           0.0      0.008147            1  ...  92934.198698   \n",
      "3        0.0           0.0      0.002020            1  ...  93077.324479   \n",
      "4        0.0           0.0      0.023185            0  ...  93244.811979   \n",
      "\n",
      "          MA_50        RSI        MACD  Signal_Line  Bollinger_Mid_Band  \\\n",
      "0  89900.544844  29.090917 -314.945626   517.337196        94577.098437   \n",
      "1  89858.520781  33.114757 -434.587634   326.952230        94106.611328   \n",
      "2  89884.100625  41.444863 -465.070135   168.547757        93672.666797   \n",
      "3  89988.247500  55.500008 -469.076637    41.022878        93133.661719   \n",
      "4  90150.862500  50.000000 -299.253312   -27.032360        92608.360156   \n",
      "\n",
      "   Bollinger_Upper_Band  Bollinger_Lower_Band  Volatility    Ticker  \n",
      "0         104488.275493          84665.921382    0.030295  005380KS  \n",
      "1         104003.310201          84209.912455    0.018542  005380KS  \n",
      "2         103409.739151          83935.594443    0.012799  005380KS  \n",
      "3         102267.155198          84000.168239    0.012387  005380KS  \n",
      "4         100464.250846          84752.469466    0.009195  005380KS  \n",
      "\n",
      "[5 rows x 36 columns]\n"
     ]
    }
   ],
   "source": [
    "# Visualizza l'elenco delle colonne\n",
    "print(df.columns)\n",
    "\n",
    "# Visualizza il DataFrame\n",
    "print(df.head())\n"
   ],
   "metadata": {
    "collapsed": false,
    "ExecuteTime": {
     "end_time": "2023-11-19T16:21:38.639851Z",
     "start_time": "2023-11-19T16:21:38.618304Z"
    }
   },
   "id": "84efdff90ad32bf6"
  },
  {
   "cell_type": "code",
   "execution_count": 6,
   "outputs": [],
   "source": [
    "# Converti date in float\n",
    "df['Date'] = pd.to_datetime(df['Date']).astype(int) / 10**9\n",
    "# Associa ad ogni Ticker un numero\n",
    "df['Ticker'] = pd.factorize(df.Ticker)[0]\n",
    "# Converti volume a float\n",
    "df['Volume'] = df['Volume'].astype(float)\n",
    "# Converti Target_1day Target_5days Target_30days a float\n",
    "df['Target_1day'] = df['Target_1day'].astype(float)\n",
    "df['Target_5days'] = df['Target_5days'].astype(float)\n",
    "df['Target_30days'] = df['Target_30days'].astype(float)\n",
    "#Converti net income, nomalized ebitda e total revenue a float\n",
    "df['Net Income'] = df['Net Income'].astype(float)\n",
    "df['Total Revenue'] = df['Total Revenue'].astype(float)\n",
    "df['Normalized EBITDA'] = df['Normalized EBITDA'].astype(float)\n",
    "\n",
    "# Converti Total Unusual Items Total Unusual Items Excluding Goodwill Operating Cash Flow Capital Expenditure Free Cash Flow Cash Flow From Continuing Operating Activities  Cash Flow From Continuing Investing Activities Cash Flow From Continuing Financing Activities e Ticker a float \n",
    "df['Total Unusual Items'] = df['Total Unusual Items'].astype(float)\n",
    "df['Total Unusual Items Excluding Goodwill'] = df['Total Unusual Items Excluding Goodwill'].astype(float)\n",
    "df['Operating Cash Flow'] = df['Operating Cash Flow'].astype(float)\n",
    "df['Capital Expenditure'] = df['Capital Expenditure'].astype(float)\n",
    "df['Free Cash Flow'] = df['Free Cash Flow'].astype(float)\n",
    "df['Cash Flow From Continuing Operating Activities'] = df['Cash Flow From Continuing Operating Activities'].astype(float)\n",
    "df['Cash Flow From Continuing Investing Activities'] = df['Cash Flow From Continuing Investing Activities'].astype(float)\n",
    "df['Cash Flow From Continuing Financing Activities'] = df['Cash Flow From Continuing Financing Activities'].astype(float)\n",
    "df['Ticker'] = df['Ticker'].astype(float)\n",
    "\n",
    "# divide test and train\n",
    "X = df.drop(['Target_1day', 'Target_5days', 'Target_30days'], axis=1)\n",
    "Y = df[['Target_1day', 'Target_5days', 'Target_30days']]\n",
    "X_train, X_test, Y_train, Y_test = train_test_split(X, Y, test_size=0.2, random_state=0)"
   ],
   "metadata": {
    "collapsed": false,
    "ExecuteTime": {
     "end_time": "2023-11-19T17:42:42.553965Z",
     "start_time": "2023-11-19T17:42:42.529255Z"
    }
   },
   "id": "62674f7923e6c357"
  },
  {
   "cell_type": "code",
   "execution_count": 71,
   "outputs": [
    {
     "name": "stdout",
     "output_type": "stream",
     "text": [
      "Accuracy for KNN with K = 1 is 0.23613193403298352\n",
      "Accuracy for KNN with K = 3 is 0.2115817091454273\n",
      "Accuracy for KNN with K = 5 is 0.18571964017991005\n",
      "Accuracy for KNN with K = 7 is 0.2025862068965517\n",
      "Accuracy for KNN with K = 9 is 0.19021739130434784\n",
      "Accuracy for KNN with K = 11 is 0.19546476761619191\n",
      "Accuracy for KNN with K = 13 is 0.19658920539730135\n",
      "Accuracy for KNN with K = 15 is 0.19827586206896552\n",
      "Accuracy for KNN with K = 17 is 0.20164917541229385\n",
      "Accuracy for KNN with K = 19 is 0.2070839580209895\n",
      "Accuracy for KNN with K = 21 is 0.2042728635682159\n"
     ]
    }
   ],
   "source": [
    "# Train\n",
    "for i in [1,3,5,7,9,11,13,15,17,19,21]:\n",
    "    knn = KNeighborsClassifier(n_neighbors=i)\n",
    "    knn.fit(X_train, Y_train)\n",
    "    Y_pred = knn.predict(X_test)\n",
    "    print(\"Accuracy for KNN with K = \" + str(i) + \" is \" + str(accuracy_score(Y_test, Y_pred)))\n"
   ],
   "metadata": {
    "collapsed": false,
    "ExecuteTime": {
     "end_time": "2023-11-19T16:37:34.615106Z",
     "start_time": "2023-11-19T16:37:25.219527Z"
    }
   },
   "id": "2e260f77946702c4"
  },
  {
   "cell_type": "markdown",
   "source": [
    "# Logistic Regression"
   ],
   "metadata": {
    "collapsed": false
   },
   "id": "f7c7e8e97b2f33dd"
  },
  {
   "cell_type": "code",
   "execution_count": 72,
   "outputs": [],
   "source": [
    "from sklearn.linear_model import LogisticRegression\n",
    "\n",
    "X_1 = df.drop('Target_1day', axis=1)\n",
    "Y_1 = df['Target_1day']\n",
    "\n",
    "X_train_1, X_test_1, Y_train_1, Y_test_1 = train_test_split(X_1, Y_1, test_size=0.2, random_state=0)\n",
    "\n",
    "X_2 = df.drop('Target_5days', axis=1)\n",
    "Y_2 = df['Target_5days']\n",
    "\n",
    "X_train_2, X_test_2, Y_train_2, Y_test_2 = train_test_split(X_2, Y_2, test_size=0.2, random_state=0)\n",
    "\n",
    "X_3 = df.drop('Target_30days', axis=1)\n",
    "Y_3 = df['Target_30days']\n",
    "\n",
    "X_train_3, X_test_3, Y_train_3, Y_test_3 = train_test_split(X_3, Y_3, test_size=0.2, random_state=0)\n"
   ],
   "metadata": {
    "collapsed": false,
    "ExecuteTime": {
     "end_time": "2023-11-19T16:38:10.486426Z",
     "start_time": "2023-11-19T16:38:10.437619Z"
    }
   },
   "id": "4b462dcee02cc58b"
  },
  {
   "cell_type": "code",
   "execution_count": 73,
   "outputs": [
    {
     "name": "stdout",
     "output_type": "stream",
     "text": [
      "Accuracy of logistic regression classifier on test set: 0.52\n"
     ]
    }
   ],
   "source": [
    "# Train 1\n",
    "logreg = LogisticRegression()\n",
    "logreg.fit(X_train_1, Y_train_1)\n",
    "Y_pred_1 = logreg.predict(X_test_1)\n",
    "print('Accuracy of logistic regression classifier on test set: {:.2f}'.format(logreg.score(X_test_1, Y_test_1)))\n"
   ],
   "metadata": {
    "collapsed": false,
    "ExecuteTime": {
     "end_time": "2023-11-19T16:41:46.769720Z",
     "start_time": "2023-11-19T16:41:46.635436Z"
    }
   },
   "id": "4b28c56c224183ad"
  },
  {
   "cell_type": "code",
   "execution_count": 74,
   "outputs": [
    {
     "name": "stdout",
     "output_type": "stream",
     "text": [
      "Accuracy of logistic regression classifier on test set: 0.51\n"
     ]
    }
   ],
   "source": [
    "# Train 2\n",
    "logreg = LogisticRegression()\n",
    "logreg.fit(X_train_2, Y_train_2)\n",
    "Y_pred_2 = logreg.predict(X_test_2)\n",
    "print('Accuracy of logistic regression classifier on test set: {:.2f}'.format(logreg.score(X_test_2, Y_test_2)))"
   ],
   "metadata": {
    "collapsed": false,
    "ExecuteTime": {
     "end_time": "2023-11-19T16:42:11.219346Z",
     "start_time": "2023-11-19T16:42:11.069802Z"
    }
   },
   "id": "1b8c2c1491f788d7"
  },
  {
   "cell_type": "code",
   "execution_count": 76,
   "outputs": [
    {
     "name": "stdout",
     "output_type": "stream",
     "text": [
      "Accuracy of logistic regression classifier on test set: 0.53\n"
     ]
    },
    {
     "name": "stderr",
     "output_type": "stream",
     "text": [
      "/opt/homebrew/Caskroom/miniforge/base/envs/General/lib/python3.11/site-packages/sklearn/linear_model/_logistic.py:460: ConvergenceWarning: lbfgs failed to converge (status=1):\n",
      "STOP: TOTAL NO. of ITERATIONS REACHED LIMIT.\n",
      "\n",
      "Increase the number of iterations (max_iter) or scale the data as shown in:\n",
      "    https://scikit-learn.org/stable/modules/preprocessing.html\n",
      "Please also refer to the documentation for alternative solver options:\n",
      "    https://scikit-learn.org/stable/modules/linear_model.html#logistic-regression\n",
      "  n_iter_i = _check_optimize_result(\n"
     ]
    }
   ],
   "source": [
    "# Train 3\n",
    "logreg = LogisticRegression()\n",
    "logreg.fit(X_train_3, Y_train_3)\n",
    "Y_pred_3 = logreg.predict(X_test_3)\n",
    "print('Accuracy of logistic regression classifier on test set: {:.2f}'.format(logreg.score(X_test_3, Y_test_3)))"
   ],
   "metadata": {
    "collapsed": false,
    "ExecuteTime": {
     "end_time": "2023-11-19T16:42:37.940085Z",
     "start_time": "2023-11-19T16:42:37.752966Z"
    }
   },
   "id": "3348c63a4ce6a822"
  },
  {
   "cell_type": "code",
   "execution_count": 80,
   "outputs": [
    {
     "data": {
      "text/plain": "      Target_1day  Target_5days  Target_30days\n0             1.0           1.0            1.0\n1             1.0           1.0            1.0\n2             1.0           0.0            0.0\n3             0.0           0.0            0.0\n4             1.0           1.0            1.0\n...           ...           ...            ...\n5331          0.0           0.0            0.0\n5332          1.0           1.0            1.0\n5333          1.0           1.0            1.0\n5334          0.0           0.0            0.0\n5335          1.0           1.0            0.0\n\n[5336 rows x 3 columns]",
      "text/html": "<div>\n<style scoped>\n    .dataframe tbody tr th:only-of-type {\n        vertical-align: middle;\n    }\n\n    .dataframe tbody tr th {\n        vertical-align: top;\n    }\n\n    .dataframe thead th {\n        text-align: right;\n    }\n</style>\n<table border=\"1\" class=\"dataframe\">\n  <thead>\n    <tr style=\"text-align: right;\">\n      <th></th>\n      <th>Target_1day</th>\n      <th>Target_5days</th>\n      <th>Target_30days</th>\n    </tr>\n  </thead>\n  <tbody>\n    <tr>\n      <th>0</th>\n      <td>1.0</td>\n      <td>1.0</td>\n      <td>1.0</td>\n    </tr>\n    <tr>\n      <th>1</th>\n      <td>1.0</td>\n      <td>1.0</td>\n      <td>1.0</td>\n    </tr>\n    <tr>\n      <th>2</th>\n      <td>1.0</td>\n      <td>0.0</td>\n      <td>0.0</td>\n    </tr>\n    <tr>\n      <th>3</th>\n      <td>0.0</td>\n      <td>0.0</td>\n      <td>0.0</td>\n    </tr>\n    <tr>\n      <th>4</th>\n      <td>1.0</td>\n      <td>1.0</td>\n      <td>1.0</td>\n    </tr>\n    <tr>\n      <th>...</th>\n      <td>...</td>\n      <td>...</td>\n      <td>...</td>\n    </tr>\n    <tr>\n      <th>5331</th>\n      <td>0.0</td>\n      <td>0.0</td>\n      <td>0.0</td>\n    </tr>\n    <tr>\n      <th>5332</th>\n      <td>1.0</td>\n      <td>1.0</td>\n      <td>1.0</td>\n    </tr>\n    <tr>\n      <th>5333</th>\n      <td>1.0</td>\n      <td>1.0</td>\n      <td>1.0</td>\n    </tr>\n    <tr>\n      <th>5334</th>\n      <td>0.0</td>\n      <td>0.0</td>\n      <td>0.0</td>\n    </tr>\n    <tr>\n      <th>5335</th>\n      <td>1.0</td>\n      <td>1.0</td>\n      <td>0.0</td>\n    </tr>\n  </tbody>\n</table>\n<p>5336 rows × 3 columns</p>\n</div>"
     },
     "execution_count": 80,
     "metadata": {},
     "output_type": "execute_result"
    }
   ],
   "source": [
    "# Put together the results for every date and ticker in a dataframe\n",
    "df_pred = pd.DataFrame()\n",
    "df_pred['Target_1day'] = Y_pred_1\n",
    "df_pred['Target_5days'] = Y_pred_2\n",
    "df_pred['Target_30days'] = Y_pred_3\n",
    "df_pred"
   ],
   "metadata": {
    "collapsed": false,
    "ExecuteTime": {
     "end_time": "2023-11-19T16:45:52.314034Z",
     "start_time": "2023-11-19T16:45:52.283338Z"
    }
   },
   "id": "c703844cb1a300a5"
  },
  {
   "cell_type": "markdown",
   "source": [
    "# Random Forest"
   ],
   "metadata": {
    "collapsed": false
   },
   "id": "14e0c48d2f64de1"
  },
  {
   "cell_type": "code",
   "execution_count": 82,
   "outputs": [],
   "source": [
    "\n",
    "from sklearn.ensemble import RandomForestClassifier\n"
   ],
   "metadata": {
    "collapsed": false,
    "ExecuteTime": {
     "end_time": "2023-11-19T17:17:43.557010Z",
     "start_time": "2023-11-19T17:17:43.478959Z"
    }
   },
   "id": "f2d1549d2924d5bc"
  },
  {
   "cell_type": "code",
   "execution_count": 83,
   "outputs": [],
   "source": [
    "\n",
    "X_1 = df.drop('Target_1day', axis=1)\n",
    "Y_1 = df['Target_1day']\n",
    "\n",
    "X_train_1, X_test_1, Y_train_1, Y_test_1 = train_test_split(X_1, Y_1, test_size=0.2, random_state=0)\n",
    "\n",
    "X_2 = df.drop('Target_5days', axis=1)\n",
    "Y_2 = df['Target_5days']\n",
    "\n",
    "X_train_2, X_test_2, Y_train_2, Y_test_2 = train_test_split(X_2, Y_2, test_size=0.2, random_state=0)\n",
    "\n",
    "X_3 = df.drop('Target_30days', axis=1)\n",
    "Y_3 = df['Target_30days']\n",
    "\n",
    "X_train_3, X_test_3, Y_train_3, Y_test_3 = train_test_split(X_3, Y_3, test_size=0.2, random_state=0)\n"
   ],
   "metadata": {
    "collapsed": false,
    "ExecuteTime": {
     "end_time": "2023-11-19T17:17:43.585703Z",
     "start_time": "2023-11-19T17:17:43.497452Z"
    }
   },
   "id": "4b9af6cb8f8c8993"
  },
  {
   "cell_type": "code",
   "execution_count": 84,
   "outputs": [
    {
     "name": "stdout",
     "output_type": "stream",
     "text": [
      "Accuracy of logistic regression classifier on test set: 0.64\n"
     ]
    }
   ],
   "source": [
    "\n",
    "# Train 1\n",
    "clf = RandomForestClassifier(max_depth=2, random_state=0)\n",
    "clf.fit(X_train_1, Y_train_1)\n",
    "Y_pred_1 = clf.predict(X_test_1)\n",
    "print('Accuracy of logistic regression classifier on test set: {:.2f}'.format(clf.score(X_test_1, Y_test_1)))\n"
   ],
   "metadata": {
    "collapsed": false,
    "ExecuteTime": {
     "end_time": "2023-11-19T17:17:45.236178Z",
     "start_time": "2023-11-19T17:17:43.535441Z"
    }
   },
   "id": "c548025963143411"
  },
  {
   "cell_type": "code",
   "execution_count": 85,
   "outputs": [
    {
     "name": "stdout",
     "output_type": "stream",
     "text": [
      "Accuracy of logistic regression classifier on test set: 0.64\n"
     ]
    }
   ],
   "source": [
    "\n",
    "# Train 2\n",
    "\n",
    "clf = RandomForestClassifier(max_depth=2, random_state=0)\n",
    "clf.fit(X_train_2, Y_train_2)\n",
    "Y_pred_2 = clf.predict(X_test_2)\n",
    "print('Accuracy of logistic regression classifier on test set: {:.2f}'.format(clf.score(X_test_2, Y_test_2)))\n"
   ],
   "metadata": {
    "collapsed": false,
    "ExecuteTime": {
     "end_time": "2023-11-19T17:17:46.752427Z",
     "start_time": "2023-11-19T17:17:45.239043Z"
    }
   },
   "id": "92001ae826ef70a6"
  },
  {
   "cell_type": "code",
   "execution_count": 86,
   "outputs": [
    {
     "name": "stdout",
     "output_type": "stream",
     "text": [
      "Accuracy of logistic regression classifier on test set: 0.63\n"
     ]
    }
   ],
   "source": [
    "\n",
    "# Train 3\n",
    "\n",
    "clf = RandomForestClassifier(max_depth=2, random_state=0)\n",
    "clf.fit(X_train_3, Y_train_3)\n",
    "Y_pred_3 = clf.predict(X_test_3)\n",
    "print('Accuracy of logistic regression classifier on test set: {:.2f}'.format(clf.score(X_test_3, Y_test_3)))\n"
   ],
   "metadata": {
    "collapsed": false,
    "ExecuteTime": {
     "end_time": "2023-11-19T17:17:48.240053Z",
     "start_time": "2023-11-19T17:17:46.755809Z"
    }
   },
   "id": "221ba90b8d77c536"
  },
  {
   "cell_type": "code",
   "execution_count": 94,
   "outputs": [
    {
     "name": "stdout",
     "output_type": "stream",
     "text": [
      "Max depth: 2\n",
      "Accuracy on test set 1: 0.64\n",
      "Accuracy on test set 2: 0.64\n",
      "Accuracy on test set 3: 0.63\n",
      "Max depth: 10\n",
      "Accuracy on test set 1: 0.65\n",
      "Accuracy on test set 2: 0.70\n",
      "Accuracy on test set 3: 0.80\n",
      "Max depth: 30\n",
      "Accuracy on test set 1: 0.63\n",
      "Accuracy on test set 2: 0.76\n",
      "Accuracy on test set 3: 0.90\n",
      "Max depth: 50\n",
      "Accuracy on test set 1: 0.62\n",
      "Accuracy on test set 2: 0.76\n",
      "Accuracy on test set 3: 0.90\n",
      "Max depth: 70\n",
      "Accuracy on test set 1: 0.62\n",
      "Accuracy on test set 2: 0.76\n",
      "Accuracy on test set 3: 0.90\n",
      "Max depth: 100\n",
      "Accuracy on test set 1: 0.62\n",
      "Accuracy on test set 2: 0.76\n",
      "Accuracy on test set 3: 0.90\n",
      "Max depth: 500\n",
      "Accuracy on test set 1: 0.62\n",
      "Accuracy on test set 2: 0.76\n",
      "Accuracy on test set 3: 0.90\n",
      "Max depth: 1000\n",
      "Accuracy on test set 1: 0.62\n",
      "Accuracy on test set 2: 0.76\n",
      "Accuracy on test set 3: 0.90\n"
     ]
    }
   ],
   "source": [
    "for i in [2,10,30,50,70,100,500,1000]:\n",
    "    print('Max depth: ' + str(i) + '\\n')\n",
    "    clf = RandomForestClassifier(max_depth=i, random_state=0)\n",
    "    clf.fit(X_train_1, Y_train_1)\n",
    "    Y_pred_1 = clf.predict(X_test_1)\n",
    "    print('Accuracy on test set 1: {:.2f}'.format(clf.score(X_test_1, Y_test_1)))\n",
    "    \n",
    "    clf = RandomForestClassifier(max_depth=i, random_state=0)\n",
    "    clf.fit(X_train_2, Y_train_2)\n",
    "    Y_pred_2 = clf.predict(X_test_2)\n",
    "    print('Accuracy on test set 2: {:.2f}'.format(clf.score(X_test_2, Y_test_2)))\n",
    "    \n",
    "    clf = RandomForestClassifier(max_depth=i, random_state=0)\n",
    "    clf.fit(X_train_3, Y_train_3)\n",
    "    Y_pred_3 = clf.predict(X_test_3)\n",
    "    print('Accuracy on test set 3: {:.2f}'.format(clf.score(X_test_3, Y_test_3)))"
   ],
   "metadata": {
    "collapsed": false,
    "ExecuteTime": {
     "end_time": "2023-11-19T17:30:06.462773Z",
     "start_time": "2023-11-19T17:27:01.129401Z"
    }
   },
   "id": "9598e30aca5b441"
  },
  {
   "cell_type": "markdown",
   "source": [
    "# Neural Networks"
   ],
   "metadata": {
    "collapsed": false
   },
   "id": "b00188bdb25c44d8"
  },
  {
   "cell_type": "code",
   "execution_count": 7,
   "outputs": [],
   "source": [
    "\n",
    "from sklearn.neural_network import MLPClassifier\n"
   ],
   "metadata": {
    "collapsed": false,
    "ExecuteTime": {
     "end_time": "2023-11-19T17:42:52.721113Z",
     "start_time": "2023-11-19T17:42:52.608472Z"
    }
   },
   "id": "596d1f30215c374"
  },
  {
   "cell_type": "code",
   "execution_count": 8,
   "outputs": [],
   "source": [
    "\n",
    "X_1 = df.drop('Target_1day', axis=1)\n",
    "Y_1 = df['Target_1day']\n",
    "\n",
    "X_train_1, X_test_1, Y_train_1, Y_test_1 = train_test_split(X_1, Y_1, test_size=0.2, random_state=0)\n",
    "\n",
    "X_2 = df.drop('Target_5days', axis=1)\n",
    "Y_2 = df['Target_5days']\n",
    "\n",
    "X_train_2, X_test_2, Y_train_2, Y_test_2 = train_test_split(X_2, Y_2, test_size=0.2, random_state=0)\n",
    "\n",
    "X_3 = df.drop('Target_30days', axis=1)\n",
    "Y_3 = df['Target_30days']\n",
    "\n",
    "X_train_3, X_test_3, Y_train_3, Y_test_3 = train_test_split(X_3, Y_3, test_size=0.2, random_state=0)\n"
   ],
   "metadata": {
    "collapsed": false,
    "ExecuteTime": {
     "end_time": "2023-11-19T17:42:52.787365Z",
     "start_time": "2023-11-19T17:42:52.614676Z"
    }
   },
   "id": "de4fd9f19228bbe7"
  },
  {
   "cell_type": "code",
   "execution_count": 9,
   "outputs": [
    {
     "name": "stdout",
     "output_type": "stream",
     "text": [
      "Accuracy of logistic regression classifier on test set: 0.51\n"
     ]
    }
   ],
   "source": [
    "\n",
    "# Train 1\n",
    "\n",
    "clf = MLPClassifier(random_state=1, max_iter=300).fit(X_train_1, Y_train_1)\n",
    "Y_pred_1 = clf.predict(X_test_1)\n",
    "print('Accuracy of logistic regression classifier on test set: {:.2f}'.format(clf.score(X_test_1, Y_test_1)))\n"
   ],
   "metadata": {
    "collapsed": false,
    "ExecuteTime": {
     "end_time": "2023-11-19T17:43:01.255936Z",
     "start_time": "2023-11-19T17:42:52.645298Z"
    }
   },
   "id": "15f68ab13049667e"
  },
  {
   "cell_type": "code",
   "execution_count": 10,
   "outputs": [
    {
     "name": "stdout",
     "output_type": "stream",
     "text": [
      "Accuracy of logistic regression classifier on test set: 0.49\n"
     ]
    }
   ],
   "source": [
    "\n",
    "# Train 2\n",
    "\n",
    "clf = MLPClassifier(random_state=1, max_iter=300).fit(X_train_2, Y_train_2)\n",
    "Y_pred_2 = clf.predict(X_test_2)\n",
    "print('Accuracy of logistic regression classifier on test set: {:.2f}'.format(clf.score(X_test_2, Y_test_2)))\n"
   ],
   "metadata": {
    "collapsed": false,
    "ExecuteTime": {
     "end_time": "2023-11-19T17:43:08.830553Z",
     "start_time": "2023-11-19T17:43:01.236410Z"
    }
   },
   "id": "4fccd955ddc82557"
  },
  {
   "cell_type": "code",
   "execution_count": 11,
   "outputs": [
    {
     "name": "stdout",
     "output_type": "stream",
     "text": [
      "Accuracy of logistic regression classifier on test set: 0.51\n"
     ]
    }
   ],
   "source": [
    "\n",
    "# Train 3\n",
    "\n",
    "clf = MLPClassifier(random_state=1, max_iter=300).fit(X_train_3, Y_train_3)\n",
    "Y_pred_3 = clf.predict(X_test_3)\n",
    "print('Accuracy of logistic regression classifier on test set: {:.2f}'.format(clf.score(X_test_3, Y_test_3)))\n"
   ],
   "metadata": {
    "collapsed": false,
    "ExecuteTime": {
     "end_time": "2023-11-19T17:43:21.921205Z",
     "start_time": "2023-11-19T17:43:08.835080Z"
    }
   },
   "id": "eec02ec6db61406d"
  },
  {
   "cell_type": "code",
   "execution_count": 12,
   "outputs": [
    {
     "name": "stdout",
     "output_type": "stream",
     "text": [
      "Max iter: 100\n",
      "\n",
      "Random state: 1\n",
      "Accuracy on test set 1: 0.51\n",
      "Accuracy on test set 2: 0.49\n",
      "Accuracy on test set 3: 0.51\n",
      "Random state: 7\n",
      "Accuracy on test set 1: 0.50\n",
      "Accuracy on test set 2: 0.50\n",
      "Accuracy on test set 3: 0.53\n",
      "Random state: 10\n",
      "Accuracy on test set 1: 0.50\n",
      "Accuracy on test set 2: 0.52\n",
      "Accuracy on test set 3: 0.54\n",
      "Random state: 20\n",
      "Accuracy on test set 1: 0.50\n",
      "Accuracy on test set 2: 0.50\n",
      "Accuracy on test set 3: 0.53\n",
      "Max iter: 500\n",
      "\n",
      "Random state: 1\n",
      "Accuracy on test set 1: 0.51\n",
      "Accuracy on test set 2: 0.49\n",
      "Accuracy on test set 3: 0.51\n",
      "Random state: 7\n",
      "Accuracy on test set 1: 0.50\n",
      "Accuracy on test set 2: 0.50\n",
      "Accuracy on test set 3: 0.53\n",
      "Random state: 10\n",
      "Accuracy on test set 1: 0.50\n",
      "Accuracy on test set 2: 0.52\n",
      "Accuracy on test set 3: 0.54\n",
      "Random state: 20\n",
      "Accuracy on test set 1: 0.50\n",
      "Accuracy on test set 2: 0.50\n",
      "Accuracy on test set 3: 0.53\n",
      "Max iter: 1000\n",
      "\n",
      "Random state: 1\n",
      "Accuracy on test set 1: 0.51\n",
      "Accuracy on test set 2: 0.49\n",
      "Accuracy on test set 3: 0.51\n",
      "Random state: 7\n",
      "Accuracy on test set 1: 0.50\n",
      "Accuracy on test set 2: 0.50\n",
      "Accuracy on test set 3: 0.53\n",
      "Random state: 10\n",
      "Accuracy on test set 1: 0.50\n",
      "Accuracy on test set 2: 0.52\n",
      "Accuracy on test set 3: 0.54\n",
      "Random state: 20\n",
      "Accuracy on test set 1: 0.50\n",
      "Accuracy on test set 2: 0.50\n",
      "Accuracy on test set 3: 0.53\n"
     ]
    }
   ],
   "source": [
    "for i in [100,500,1000]:\n",
    "    print('Max iter: ' + str(i) + '\\n')\n",
    "    for j in [1,7,10,20,]:\n",
    "        print('Random state: ' + str(j) + '\\n')\n",
    "        clf = MLPClassifier(random_state=j, max_iter=i).fit(X_train_1, Y_train_1)\n",
    "        Y_pred_1 = clf.predict(X_test_1)\n",
    "        print('Accuracy on test set 1: {:.2f}'.format(clf.score(X_test_1, Y_test_1)))\n",
    "        \n",
    "        clf = MLPClassifier(random_state=j, max_iter=i).fit(X_train_2, Y_train_2)\n",
    "        Y_pred_2 = clf.predict(X_test_2)\n",
    "        print('Accuracy on test set 2: {:.2f}'.format(clf.score(X_test_2, Y_test_2)))\n",
    "        \n",
    "        clf = MLPClassifier(random_state=j, max_iter=i).fit(X_train_3, Y_train_3)\n",
    "        Y_pred_3 = clf.predict(X_test_3)\n",
    "        print('Accuracy on test set 3: {:.2f}'.format(clf.score(X_test_3, Y_test_3)))"
   ],
   "metadata": {
    "collapsed": false,
    "ExecuteTime": {
     "end_time": "2023-11-19T17:48:01.243639Z",
     "start_time": "2023-11-19T17:43:21.909882Z"
    }
   },
   "id": "70f38e1723ec5e6d"
  },
  {
   "cell_type": "markdown",
   "source": [],
   "metadata": {
    "collapsed": false
   },
   "id": "a7b86753ed2ec1fa"
  }
 ],
 "metadata": {
  "kernelspec": {
   "display_name": "Python 3",
   "language": "python",
   "name": "python3"
  },
  "language_info": {
   "codemirror_mode": {
    "name": "ipython",
    "version": 2
   },
   "file_extension": ".py",
   "mimetype": "text/x-python",
   "name": "python",
   "nbconvert_exporter": "python",
   "pygments_lexer": "ipython2",
   "version": "2.7.6"
  }
 },
 "nbformat": 4,
 "nbformat_minor": 5
}
