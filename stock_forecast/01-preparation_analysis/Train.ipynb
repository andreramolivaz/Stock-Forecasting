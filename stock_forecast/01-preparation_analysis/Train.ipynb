{
 "cells": [
  {
   "cell_type": "markdown",
   "source": [
    "# Train\n",
    "\n",
    "Algoritmi:\n",
    "\n",
    "**K-Nearest Neighbors (KNN)**:\n",
    "Pro: Semplice da implementare, non richiede addestramento costoso.\n",
    "Contro: Prestazioni possono decadere con dataset di grandi dimensioni. Sensibile alla scala delle feature.\n",
    "\n",
    "**Decision Trees**:\n",
    "Pro: Facile da interpretare, gestisce automaticamente le feature rilevanti.\n",
    "Contro: Tendenza all'overfitting. Può essere instabile con piccole variazioni nei dati.\n",
    "\n",
    "**Linear Regression**:\n",
    "Pro: Semplice e interpretabile, adatta per relazioni lineari tra feature e target.\n",
    "Contro: Sensibile a outliers. Non gestisce bene relazioni complesse.\n",
    "\n",
    "**Logistic Regression**:\n",
    "Pro: Buona per problemi di classificazione binaria.\n",
    "Contro: Assume una relazione lineare tra le feature e il log-odds. Non gestisce bene relazioni complesse.\n",
    "\n",
    "**Support Vector Machines (SVM)**:\n",
    "Pro: Buone prestazioni in spazi delle feature ad alta dimensione.\n",
    "Contro: Richiede una scelta accurata dei parametri. Non sempre efficace con dataset molto grandi.\n",
    "\n",
    "**Random Forest**:\n",
    "Pro: Buona capacità di gestire complessità e overfitting. Può fornire importanza delle feature.\n",
    "Contro: Meno interpretabile rispetto ai singoli alberi. Può richiedere tempo per l'addestramento.\n",
    "\n",
    "**Ensemble Methods**:\n",
    "Pro: Combina diversi modelli per migliorare le prestazioni complessive.\n",
    "Contro: Complessità e interpretabilità possono essere un problema.\n",
    "\n",
    "**Neural Networks**:\n",
    "Pro: Eccellenti per problemi complessi e non lineari. Addestramento su grandi quantità di dati.\n",
    "Contro: Richiede molto dati e risorse di calcolo. Complessità nella scelta dell'architettura.\n",
    "\n",
    "**Convolutional Neural Networks (CNN)**:\n",
    "Pro: Eccellenti per dati strutturati come immagini. Applicabili anche a dati sequenziali.\n",
    "Contro: Richiede dati etichettati in grandi quantità.\n",
    "\n",
    "Escludiamo quindi Linear Regression, Decision Trees,Support Vector Machines (SVM) e Convolutional Neural Networks (CNN).\n",
    "\n",
    "Considerazioni:\n",
    "\n",
    "Possiamo utilizzare i rimanenti algoritmi per dividere il problema il 4 categorie: Unsafe, Target 1 day, Target 5 days, Target 30 days.\n",
    "\n",
    "**Knn**:\n",
    "La scelta del K è importante e può variare molto prendendo due K molto vicini.\n",
    "Per questo motivo abbiamo deciso di affidarci ad altri tipi di algoritmi per questo tipo di problema.\n",
    " \n",
    "**Logistic Regression**: \n",
    "Possiamo utilizzare la Regressione Logistica per dividere il problema in 3 sottoproblemi. Possiamo classificare se le predizioni appartengono o meno all'etichetta Target 1 day, Target 5 days o Target 30 days. Se tutte e 3 dovessero essere 0, la scelta ricadrebbe su Unsafe.\n",
    "Questo vorrebbe dire allenare 3 volte l'algoritmo predicendo una alla volta tutte e tre le etichette.\n",
    "(Da testare)\n",
    "\n",
    "**Random Forests**:\n",
    "Possiamo utilizzare la tecnica del Bagging per ridurre la varianza, tipicamente elevata con questo algoritmo, per avere un accuracy più alta.\n",
    "(Da testare)\n",
    "\n",
    "**Ensemble Methods**: \n",
    "(Che metodi utilizzare?)\n",
    "(Da Testare)\n",
    "\n",
    "**Neural Networks**: \n",
    "L'utilizzo delle neural networks risulta essere più complicato degli altri poiché è più difficile da costruire e può svilupparsi in diverse varianti.\n",
    "La parte difficile appunto sta nella scelta del numero di hidden layers e nel numero di nodi di questi. Tale scelta può essere affinata con test ripetuti per arrivare ad una soluzione comune.\n",
    "(Da testare)"
   ],
   "metadata": {
    "collapsed": false
   },
   "id": "28918e1ed52316e2"
  },
  {
   "cell_type": "markdown",
   "source": [],
   "metadata": {
    "collapsed": false
   },
   "id": "cc15b3fd4a850708"
  }
 ],
 "metadata": {
  "kernelspec": {
   "display_name": "Python 3",
   "language": "python",
   "name": "python3"
  },
  "language_info": {
   "codemirror_mode": {
    "name": "ipython",
    "version": 2
   },
   "file_extension": ".py",
   "mimetype": "text/x-python",
   "name": "python",
   "nbconvert_exporter": "python",
   "pygments_lexer": "ipython2",
   "version": "2.7.6"
  }
 },
 "nbformat": 4,
 "nbformat_minor": 5
}
