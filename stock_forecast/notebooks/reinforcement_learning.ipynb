{
 "cells": [
  {
   "cell_type": "markdown",
   "source": [
    "# Reinforcement Learning"
   ],
   "metadata": {
    "collapsed": false
   },
   "id": "ba14fa86b7707f83"
  },
  {
   "cell_type": "markdown",
   "source": [
    "# Introduction\n",
    "\n",
    "Reinforcement Learning is a branch of machine learning that focuses on how agents should act in an environment to maximize a notion of cumulative reward. Unlike supervised learning, where algorithms are trained on labeled examples, RL learns from a trial-and-error process based on the environment's responses to its actions.\n",
    "\n",
    "Differences between RL and other learning methods:\n",
    "\n",
    "- **Supervised learning**: Algorithms learn from labeled examples, trying to predict label based on the training set;\n",
    "- **Unsupervised learning**: Algorithms try to find patterns in the data, without any labels;\n",
    "- **Reinforcement learning**: Agent learns to make decision through rewards (or punishments) received from its actions.\n",
    "\n",
    "**Key elements:**\n",
    "\n",
    "- Agent:\n",
    "\n",
    "    - **Definition**: The agent is the entity that makes decisions and learns through interaction with the environment. In RL, the agent chooses actions to take based on its current policy.\n",
    "    - **Role in RL**: The agent is at the center of learning in RL. Its goal is to learn the best possible policy, that is, a map from states to actions, to maximize the total reward collected over time. \n",
    "\n",
    "- Enviroment:\n",
    "\n",
    "    - **Definition**: Environment represents the context or world in which the agent operates. It includes anything that the agent can interact with but does not have direct control over;\n",
    "    - **Interaction with the agent**: The environment responds to the agent's actions and presents new states and rewards to the agent. The nature of the environment can vary from simple and static to complex and dynamic.\n",
    "\n",
    "- State:\n",
    "\n",
    "    - **Definition**: A state is a configuration or representation of the environment at a given time. States provide the information the agent needs to make decisions.\n",
    "    - **Importance**: The quality and quantity of information available in states can significantly influence the effectiveness of agent learning.\n",
    "\n",
    "- Action:\n",
    "\n",
    "    - **Definition**: Actions are the various behaviors or moves that the agent can perform. The set of all available actions is known as the action space.\n",
    "    - **Action-Stata dynamics**: Every action taken by the agent affects the state of the environment. The relationship between actions and their consequence on states is fundamental to the agent's decision making. \n",
    "\n",
    "- Reward:\n",
    "\n",
    "    - **Definnition**: A reward is immediate feedback provided to the agent by the environment as a consequence of his or her actions. Rewards can be positive (to encourage certain actions) or negative (to discourage certain actions).\n",
    "    - **Role in learning**: Rewards are the main guide for the agent in the learning process. The agent's goal is to maximize the sum of rewards over time, often referred to as return.\n",
    "\n",
    "- Policy:\n",
    "\n",
    "    - **Definition**: A policy is a strategy adopted by the agent, a kind of rule or algorithm that decides what action to take based on the current state.\n",
    "    - **Types**: Policies can be deterministic or stochastic. A deterministic policy always provides the same action for a given state, while a stochastic policy selects actions according to a probability distribution.\n",
    "\n",
    "- Evaluation functions:\n",
    "\n",
    "    - **Goal**: These functions help the agent evaluate the effectiveness of his or her actions and policies.\n",
    "    - **Types**:\n",
    "        - **Value function**: Estimates the expected return from a state following a given policy.\n",
    "        - **Q-Value function**: also known as **Action-Value function**. Estimates the expected return for a state-action pair.\n",
    "\n",
    "- Model:\n",
    "\n",
    "    - **Description**: A model is an internal representation of the environment that the agent uses to predict how the environment will respond to its actions.\n",
    "    - **Model-based vs model-free RL**: In model-based RL, the agent uses an explicit model of the environment to plan its actions. In model-free RL, the agent learns directly from interactions with the environment without an explicit model."
   ],
   "metadata": {
    "collapsed": false
   },
   "id": "311b6c11919b8eb2"
  },
  {
   "cell_type": "markdown",
   "source": [
    "# Theoretical concepts\n",
    "\n",
    "#### 1. Markov Decision Process\n",
    "\n",
    "The Markov Decision Process (MDP) is a fundamental mathematical framework in the field of Reinforcement Learning. It provides a formalization for decision-making in uncertain and dynamic situations. An MDP is characterized by a set of states, a set of actions, transition probabilities and reward functions.\n",
    "\n",
    "Key MDP elements:\n",
    "\n",
    "- **States**: A set of states $S$ represents all the possible configurations the environment can be in.\n",
    "- **Actions**: A set of actions $A$ that the agent can take. The set of available actions may depend on the current state.\n",
    "- **Transition probability**: A transaction function $P(s_{t+1} | s_t, a_t)$ which defines the probability of transition to the state $s_{t+1}$ given the current state $s_t$ and action $a_t$.\n",
    "- **Reward**: A reward function $R(s_t, a_t, s_{t+1})$ which assigns a reward (or a punishment) to the agent for the transition from state $s_t$ to state $s_{t+1}$ after taking action $a_t$.\n",
    "\n",
    "The fundamental property of an MDP is the \"Markov property,\" which states that the future is independent of the past given the present. This means that the transition probability and reward depend only on the current state and the action taken, not on the history of previous actions or states.\n",
    "\n",
    "#### 2. Reward and evaluation function\n",
    " \n",
    "In the context of Reinforcement Learning, the reward and evaluation function are central concepts that guide agent learning and decision-making. This chapter explores the nature of these components and their role in RL.\n",
    "\n",
    "Reward:\n",
    "\n",
    "- **Definition**: A reward is a scalar value that represents the immediate feedback provided to the agent by the environment as a consequence of his or her actions. Rewards can be positive (to encourage certain actions) or negative (to discourage certain actions).\n",
    "- **Role in learning**: Rewards are the main guide for the agent in the learning process. The agent's goal is to maximize the sum of rewards over time, often referred to as return.\n",
    "\n",
    "Evaluation function:\n",
    " \n",
    "- **Value function**: The value function, denoted as $V(s)$, estimates the expected total return from a states following a given policy. It provides a measure of the goodness-of-fit of a state.\n",
    "- **Q-value function**: The Q-value function, or action-value function, denoted as $Q(s, a)$, evaluates the action $a$ in the state $s$. It estimates the expected return following the action $a$ in the state $s$ and then adhering to a specific policy. \n",
    "\n",
    "#### 3. Common RL algorithms\n",
    "\n",
    "- Q-learning is a model-free learning method that seeks to learn an optimal policy independently of the agent's current action.\n",
    "The algorithm iteratively updates the Q-value estimates for each state-action pair using the Q-learning update formula, based on the reward received and the maximum Q-value of the next state. Q-learning is widely used for problems with discrete state and action spaces and is well suited to situations with uncertain environmental dynamics.\n",
    "\n",
    "\n",
    "- SARSA is a model-based differential time learning (TD) algorithm.\n",
    "Unlike Q-learning, SARSA updates its Q-values based on the agent's current policy (on-policy). The update considers the current transition and the next action the agent intends to perform. SARSA is useful in environments where risk assessment and safety considerations are important because it takes into account the actual path the agent plans to follow.\n",
    "\n",
    "Some remarks:\n",
    "- **Exploration vs. exploitation**: A key aspect in RL is the balance between exploration (trying new actions) and exploitation (using acquired knowledge). RL algorithms must effectively manage this balance;\n",
    "- **Scalability and complexity**: the scalability of algorithms in environments with large state and action spaces is a significant challenge. Methods such as deep learning have been integrated into RL to address this challenge."
   ],
   "metadata": {
    "collapsed": false
   },
   "id": "55430e14daeb171f"
  },
  {
   "cell_type": "markdown",
   "source": [
    "# Use of RL in finance\n",
    "\n",
    "In trading, RL can be used to develop automated strategies that decide when to buy, sell, or hold a stock or cryptocurrency.\n",
    "Financial markets are complex, noisy, and nonstationary, making trading an ideal challenge for RL, which can adapt to such dynamic conditions.\n",
    "\n",
    "Challenges:\n",
    "\n",
    "- Financial data are often noisy and exhibit nonstationarity, which can lead to overfitting and inconsistent model performance.\n",
    "- Markets change rapidly, and what has worked in the past may no longer be valid, requiring the model to continually adapt.\n",
    "\n",
    "Pros of using RL:\n",
    "\n",
    "- **Automation and Scalability**: The RL can automate trading decisions and operate on a large scale, analyzing huge amounts of data more efficiently than human analysis.\n",
    "- **Adaptability**: RL models can dynamically adapt to changes in the market, continuously learning from new data.\n",
    "- **High Performance Potential**: When configured well, RL models can potentially outperform traditional strategies and human traders, especially in highly volatile markets.\n",
    "\n",
    "Common approaches:\n",
    "\n",
    "- **Deep reinforcement learning**: The use of deep neural networks to handle the complexity of market data and capture nonlinear relationships.\n",
    "- **Optimized exploration strategies**: Development of exploration methods that balance between learning from historical market situations and exploring new trading strategies.\n"
   ],
   "metadata": {
    "collapsed": false
   },
   "id": "a10463acab5730d4"
  },
  {
   "cell_type": "markdown",
   "source": [
    "### Practical implementation\n",
    "\n",
    "#### Introduction to Financial Market Simulation with Gym-MTSim\n",
    "\n",
    "In this section of our Jupyter Notebook, we explore the world of financial market simulation using the `gym_mtsim` library, an extension of OpenAI's Gym. The Gym library provides a standardized interface for reinforcement learning (RL) tasks, and `gym_mtsim` specifically caters to financial market simulations, offering a unique and practical approach for testing and developing financial strategies in a controlled, simulated environment.\n",
    "\n",
    "The code snippet provided initializes various environments that simulate different financial markets and trading scenarios. Each environment corresponds to a unique market type or strategy:\n",
    "\n",
    "1. **Forex Markets (Hedged and Unhedged):** \n",
    "   - `forex-hedge-v0` simulates a foreign exchange (Forex) market with a hedging strategy.\n",
    "   - `forex-unhedge-v0` represents the Forex market without a hedging strategy.\n",
    "\n",
    "2. **Stock Markets (Hedged and Unhedged):**\n",
    "   - `stocks-hedge-v0` sets up a simulated environment for stock market trading with a hedging strategy.\n",
    "   - `stocks-unhedge-v0` offers a simulation of stock market trading without the use of hedging.\n",
    "\n",
    "3. **Cryptocurrency Markets (Hedged and Unhedged):**\n",
    "   - `crypto-hedge-v0` is tailored for cryptocurrency market simulations implementing hedging strategies.\n",
    "   - `crypto-unhedge-v0` provides a crypto market environment without hedging.\n",
    "\n",
    "4. **Mixed Asset Markets (Hedged and Unhedged):**\n",
    "   - `mixed-hedge-v0` creates a diverse market environment with multiple asset types, using hedging strategies.\n",
    "   - `mixed-unhedge-v0` simulates a mixed asset market without the use of hedging strategies.\n",
    "\n",
    "Each of these environments can be used to train and evaluate RL models, providing insights into different trading strategies and market behaviors. This approach is invaluable for researchers and practitioners in the field of quantitative finance, offering a risk-free platform to experiment and refine trading algorithms.\n"
   ],
   "metadata": {
    "collapsed": false
   },
   "id": "7b4194683da6b689"
  },
  {
   "cell_type": "code",
   "outputs": [
    {
     "data": {
      "text/html": "        <script type=\"text/javascript\">\n        window.PlotlyConfig = {MathJaxConfig: 'local'};\n        if (window.MathJax && window.MathJax.Hub && window.MathJax.Hub.Config) {window.MathJax.Hub.Config({SVG: {font: \"STIX-Web\"}});}\n        if (typeof require !== 'undefined') {\n        require.undef(\"plotly\");\n        requirejs.config({\n            paths: {\n                'plotly': ['https://cdn.plot.ly/plotly-2.27.0.min']\n            }\n        });\n        require(['plotly'], function(Plotly) {\n            window._Plotly = Plotly;\n        });\n        }\n        </script>\n        "
     },
     "metadata": {},
     "output_type": "display_data"
    }
   ],
   "source": [
    "import plotly.offline as pyo\n",
    "pyo.init_notebook_mode(connected=True)"
   ],
   "metadata": {
    "collapsed": false,
    "ExecuteTime": {
     "end_time": "2024-01-16T12:34:03.199347Z",
     "start_time": "2024-01-16T12:34:03.121436Z"
    }
   },
   "id": "dfa0ef46f6f7d293",
   "execution_count": 18
  },
  {
   "cell_type": "code",
   "outputs": [],
   "source": [
    "import warnings\n",
    "warnings.filterwarnings('ignore')"
   ],
   "metadata": {
    "collapsed": false,
    "ExecuteTime": {
     "end_time": "2024-01-16T12:34:03.221790Z",
     "start_time": "2024-01-16T12:34:03.201897Z"
    }
   },
   "id": "f606e9f7e83d44ac",
   "execution_count": 19
  },
  {
   "cell_type": "code",
   "outputs": [],
   "source": [
    "import gym\n",
    "import gym_mtsim\n",
    "\n",
    "env = gym.make('forex-hedge-v0')\n",
    "# env = gym.make('stocks-hedge-v0')\n",
    "# env = gym.make('crypto-hedge-v0')\n",
    "# env = gym.make('mixed-hedge-v0')\n",
    "\n",
    "# env = gym.make('forex-unhedge-v0')\n",
    "# env = gym.make('stocks-unhedge-v0')\n",
    "# env = gym.make('crypto-unhedge-v0')\n",
    "# env = gym.make('mixed-unhedge-v0')"
   ],
   "metadata": {
    "collapsed": false,
    "ExecuteTime": {
     "end_time": "2024-01-16T12:34:03.374848Z",
     "start_time": "2024-01-16T12:34:03.244455Z"
    }
   },
   "id": "7c299f4c0e8b29a8",
   "execution_count": 20
  },
  {
   "cell_type": "markdown",
   "source": [
    "### Setting Up a Reinforcement Learning Environment for Forex Trading with Gym-MTSim\n",
    "\n",
    "In this section of our Jupyter Notebook, we delve into setting up a more advanced financial market simulation environment using `gym_mtsim`. This setup is specifically tailored for reinforcement learning (RL) applications in Forex trading. Our focus is to demonstrate how RL can be applied in the complex and dynamic world of foreign exchange markets.\n",
    "\n",
    "The provided code snippet establishes a simulated trading environment, which is a critical step for training RL agents. Here's a detailed breakdown of the components and their roles:\n",
    "\n",
    "1. **Importing Necessary Libraries and Modules:**\n",
    "   - `pytz`: For timezone operations, crucial in time-sensitive financial markets.\n",
    "   - `datetime`, `timedelta`: For handling date and time, essential for simulating real-time market scenarios.\n",
    "   - `numpy`: A fundamental package for scientific computing, used here for statistical operations.\n",
    "   - `gym_mtsim`: The core library for creating the Forex market simulation environment.\n",
    "   - `MtEnv`, `MtSimulator`, `FOREX_DATA_PATH`: Specific classes and constants from `gym_mtsim` used for setting up the environment.\n",
    "\n",
    "2. **Initializing the Market Simulator (`MtSimulator`):**\n",
    "   - **Currency and Balance:** The simulation uses USD as the base unit with an initial balance of $10,000.\n",
    "   - **Leverage and Risk Management:** A leverage of 100x is set, along with a stop-out level at 20% to manage risk.\n",
    "   - **Hedging:** The simulator is configured to allow hedging strategies.\n",
    "   - **Market Data:** The `symbols_filename` parameter points to the Forex market data source.\n",
    "\n",
    "3. **Creating the Trading Environment (`MtEnv`):**\n",
    "   - **Trading Symbols:** We focus on three currency pairs: GBPCAD, EURUSD, and USDJPY.\n",
    "   - **Window Size:** A window size of 10 is set, determining how much past data is visible to the agent at any point.\n",
    "   - **Thresholds for Holding and Closing Positions:** Both set to 0.5, dictating the agent's decision-making criteria.\n",
    "   - **Trading Fees:** Dynamically calculated based on the currency pair, introducing a realistic aspect of cost in trading.\n",
    "   - **Order Limits and Parallel Processing:** Each symbol can have up to 2 orders, and the environment supports multiprocessing with 2 processes.\n",
    "\n",
    "This setup provides a rich and realistic environment for training RL agents. The agents can learn and adapt their trading strategies based on historical data, market conditions, and transaction costs. The complexity of this environment, with its multiple currency pairs and dynamic fee structure, offers a challenging yet rewarding platform for exploring the capabilities of RL in Forex trading.\n",
    "\n",
    "In the following parts of the notebook, we will introduce the RL concepts and algorithms, and demonstrate how they can be trained within this environment to make informed trading decisions. This practical application not only showcases the power of RL in financial decision-making but also provides a hands-on experience in applying advanced AI techniques in the domain of quantitative finance."
   ],
   "metadata": {
    "collapsed": false
   },
   "id": "4a4fe89cc06c6830"
  },
  {
   "cell_type": "code",
   "outputs": [],
   "source": [
    "import pytz\n",
    "from datetime import datetime, timedelta\n",
    "import numpy as np\n",
    "from gym_mtsim import MtEnv, MtSimulator, FOREX_DATA_PATH\n",
    "\n",
    "\n",
    "sim = MtSimulator(\n",
    "    unit='USD',\n",
    "    balance=10000.,\n",
    "    leverage=100.,\n",
    "    stop_out_level=0.2,\n",
    "    hedge=True,\n",
    "    symbols_filename=FOREX_DATA_PATH\n",
    ")\n",
    "\n",
    "env = MtEnv(\n",
    "    original_simulator=sim,\n",
    "    trading_symbols=['GBPCAD', 'EURUSD', 'USDJPY'],\n",
    "    window_size=10,\n",
    "    # time_points=[desired time points ...],\n",
    "    hold_threshold=0.5,\n",
    "    close_threshold=0.5,\n",
    "    fee=lambda symbol: {\n",
    "        'GBPCAD': max(0., np.random.normal(0.0007, 0.00005)),\n",
    "        'EURUSD': max(0., np.random.normal(0.0002, 0.00003)),\n",
    "        'USDJPY': max(0., np.random.normal(0.02, 0.003)),\n",
    "    }[symbol],\n",
    "    symbol_max_orders=2,\n",
    "    multiprocessing_processes=2\n",
    ")"
   ],
   "metadata": {
    "collapsed": false,
    "ExecuteTime": {
     "end_time": "2024-01-16T12:34:03.506392Z",
     "start_time": "2024-01-16T12:34:03.334442Z"
    }
   },
   "id": "726db832e6d2161",
   "execution_count": 21
  },
  {
   "cell_type": "code",
   "outputs": [
    {
     "name": "stdout",
     "output_type": "stream",
     "text": [
      "prices[GBPCAD].shape: (88, 2)\n",
      "prices[EURUSD].shape: (88, 2)\n",
      "prices[USDJPY].shape: (88, 2)\n",
      "signal_features.shape: (88, 6)\n",
      "features_shape: (10, 6)\n"
     ]
    }
   ],
   "source": [
    "for symbol in env.prices:\n",
    "    print(f\"prices[{symbol}].shape:\", env.prices[symbol].shape)\n",
    "\n",
    "print(\"signal_features.shape:\", env.signal_features.shape)\n",
    "print(\"features_shape:\", env.features_shape)"
   ],
   "metadata": {
    "collapsed": false,
    "ExecuteTime": {
     "end_time": "2024-01-16T12:34:03.517403Z",
     "start_time": "2024-01-16T12:34:03.508342Z"
    }
   },
   "id": "7ea3daacf7b468f6",
   "execution_count": 22
  },
  {
   "cell_type": "markdown",
   "source": [
    "In this section of our Jupyter Notebook, we demonstrate a basic loop for simulating a trading environment using the setup we previously created with `gym_mtsim`. This loop is fundamental for training reinforcement learning (RL) agents, where they interact with the environment, receive feedback (rewards), and adjust their actions accordingly.\n",
    "\n",
    "Here's a detailed explanation of the code snippet and its role in the RL context:\n",
    "\n",
    "1. **Environment Reset (`env.reset()`):**\n",
    "   - This initializes or resets the environment to a starting state. It's akin to starting a new trading day or session, where the RL agent begins with a clean slate.\n",
    "   - The `reset` method returns an initial observation, providing the agent with the current state of the market.\n",
    "\n",
    "2. **Trading Loop:**\n",
    "   - The `while True:` loop represents the continuous process of trading in a market. Each iteration of the loop is analogous to a single step or action taken by the RL agent in the environment.\n",
    "\n",
    "3. **Sampling an Action (`env.action_space.sample()`):**\n",
    "   - At each step, an action is selected randomly from the action space. In a more sophisticated RL setup, this is where the agent's policy or decision-making logic would determine the action based on the current state (observation).\n",
    "   - The action could involve buying, selling, holding, or other trading actions specific to the environment's design.\n",
    "\n",
    "4. **Taking a Step (`env.step(action)`):**\n",
    "   - The `step` method advances the environment by one time step using the chosen action. It returns several important pieces of information:\n",
    "     - `observation`: The new state of the market after the action is taken.\n",
    "     - `reward`: The immediate reward received after taking the action, which is crucial for RL as it guides the agent's learning process.\n",
    "     - `done`: A boolean indicating whether the episode (trading session) has ended (e.g., due to bankruptcy, reaching a time limit, etc.).\n",
    "     - `info`: A dictionary containing supplementary information such as balance, equity, margin levels, etc.\n",
    "\n",
    "5. **Handling the End of an Episode (`if done:`):**\n",
    "   - If `done` is True, it signals the end of the trading episode. This can trigger the agent to evaluate its performance and learn from the episode.\n",
    "   - The code then prints out important financial metrics from the `info` dictionary:\n",
    "     - `balance`, `equity`, `margin`, `free_margin`, and `margin_level` provide insights into the financial status at the end of the episode.\n",
    "     - `step_reward` gives the reward obtained in the final step, which could be used for further analysis or learning.\n",
    "\n",
    "This loop forms the core of an RL training process in financial market simulation. In a complete RL application, the agent would not randomly select actions but instead follow a strategy based on its learning and the observed states. The\n",
    "\n",
    "feedback from the environment in terms of rewards and state transitions guides the agent to refine its strategy over time, aiming to maximize cumulative rewards, which in the context of trading, could align with maximizing profit or minimizing risk.\n",
    "\n",
    "In subsequent sections of our notebook, we will explore how to replace the random action selection with a decision-making policy driven by RL algorithms. We will also look into how the agent learns from the environment's feedback, adjusts its trading strategy, and improves its performance over successive trading episodes. This iterative learning process is at the heart of applying RL in financial trading simulations, providing valuable insights and practical skills in leveraging AI for quantitative finance."
   ],
   "metadata": {
    "collapsed": false
   },
   "id": "38fc05aa2c97d8f1"
  },
  {
   "cell_type": "code",
   "outputs": [
    {
     "name": "stdout",
     "output_type": "stream",
     "text": [
      "balance: 6177.092050631586, equity: 6310.851056072222, margin: 710.0000000000001\n",
      "free_margin: 5600.851056072222, margin_level: 8.888522614186227\n",
      "step_reward: 133.75900544063552\n"
     ]
    }
   ],
   "source": [
    "observation = env.reset()\n",
    "\n",
    "while True:\n",
    "    action = env.action_space.sample()\n",
    "    observation, reward, done, info = env.step(action)\n",
    "\n",
    "    if done:\n",
    "        # print(info)\n",
    "        print(\n",
    "            f\"balance: {info['balance']}, equity: {info['equity']}, margin: {info['margin']}\\n\"\n",
    "            f\"free_margin: {info['free_margin']}, margin_level: {info['margin_level']}\\n\"\n",
    "            f\"step_reward: {info['step_reward']}\"\n",
    "        )\n",
    "        break"
   ],
   "metadata": {
    "collapsed": false,
    "ExecuteTime": {
     "end_time": "2024-01-16T12:34:03.551855Z",
     "start_time": "2024-01-16T12:34:03.517441Z"
    }
   },
   "id": "f7a0bea4352efc51",
   "execution_count": 23
  },
  {
   "cell_type": "markdown",
   "source": [
    "Printing the results"
   ],
   "metadata": {
    "collapsed": false
   },
   "id": "6b3cb003a7150c21"
  },
  {
   "cell_type": "code",
   "outputs": [
    {
     "name": "stdout",
     "output_type": "stream",
     "text": [
      "balance: 6177.092050631586, equity: 6310.851056072222, margin: 710.0000000000001\n",
      "free_margin: 5600.851056072222, margin_level: 8.888522614186227\n"
     ]
    },
    {
     "data": {
      "text/plain": "   Id  Symbol  Type  Volume                Entry Time  Entry Price  \\\n0   8  USDJPY  Sell    0.71 2021-09-02 00:00:00+00:00    109.93700   \n1   7  USDJPY  Sell    4.86 2021-08-03 00:00:00+00:00    109.04200   \n2   6  EURUSD   Buy    5.41 2021-07-28 00:00:00+00:00      1.18441   \n3   5  EURUSD  Sell    4.02 2021-07-23 00:00:00+00:00      1.17689   \n4   3  EURUSD   Buy    0.94 2021-07-09 00:00:00+00:00      1.18774   \n5   4  USDJPY  Sell    0.01 2021-07-12 00:00:00+00:00    110.34900   \n6   2  EURUSD   Buy    2.52 2021-06-01 00:00:00+00:00      1.22126   \n7   1  GBPCAD  Sell    2.62 2021-05-26 00:00:00+00:00      1.71089   \n\n                  Exit Time  Exit Price       Profit       Margin       Fee  \\\n0 2021-09-03 00:00:00+00:00   109.71200   133.759005   710.000000  0.018310   \n1 2021-08-05 00:00:00+00:00   109.76100 -3292.529509  4860.000000  0.024604   \n2 2021-07-29 00:00:00+00:00     1.18865  2199.136674  6407.658100  0.000175   \n3 2021-07-26 00:00:00+00:00     1.18029 -1448.130259  4731.097800  0.000202   \n4 2021-07-14 00:00:00+00:00     1.18358  -411.862870  1116.475600  0.000222   \n5 2021-07-13 00:00:00+00:00   110.62700    -2.693055    10.000000  0.019925   \n6 2021-06-02 00:00:00+00:00     1.22100  -127.610925  3077.575200  0.000246   \n7 2021-05-28 00:00:00+00:00     1.71356  -739.218006  3698.000907  0.000738   \n\n   Closed  \n0   False  \n1    True  \n2    True  \n3    True  \n4    True  \n5    True  \n6    True  \n7    True  ",
      "text/html": "<div>\n<style scoped>\n    .dataframe tbody tr th:only-of-type {\n        vertical-align: middle;\n    }\n\n    .dataframe tbody tr th {\n        vertical-align: top;\n    }\n\n    .dataframe thead th {\n        text-align: right;\n    }\n</style>\n<table border=\"1\" class=\"dataframe\">\n  <thead>\n    <tr style=\"text-align: right;\">\n      <th></th>\n      <th>Id</th>\n      <th>Symbol</th>\n      <th>Type</th>\n      <th>Volume</th>\n      <th>Entry Time</th>\n      <th>Entry Price</th>\n      <th>Exit Time</th>\n      <th>Exit Price</th>\n      <th>Profit</th>\n      <th>Margin</th>\n      <th>Fee</th>\n      <th>Closed</th>\n    </tr>\n  </thead>\n  <tbody>\n    <tr>\n      <th>0</th>\n      <td>8</td>\n      <td>USDJPY</td>\n      <td>Sell</td>\n      <td>0.71</td>\n      <td>2021-09-02 00:00:00+00:00</td>\n      <td>109.93700</td>\n      <td>2021-09-03 00:00:00+00:00</td>\n      <td>109.71200</td>\n      <td>133.759005</td>\n      <td>710.000000</td>\n      <td>0.018310</td>\n      <td>False</td>\n    </tr>\n    <tr>\n      <th>1</th>\n      <td>7</td>\n      <td>USDJPY</td>\n      <td>Sell</td>\n      <td>4.86</td>\n      <td>2021-08-03 00:00:00+00:00</td>\n      <td>109.04200</td>\n      <td>2021-08-05 00:00:00+00:00</td>\n      <td>109.76100</td>\n      <td>-3292.529509</td>\n      <td>4860.000000</td>\n      <td>0.024604</td>\n      <td>True</td>\n    </tr>\n    <tr>\n      <th>2</th>\n      <td>6</td>\n      <td>EURUSD</td>\n      <td>Buy</td>\n      <td>5.41</td>\n      <td>2021-07-28 00:00:00+00:00</td>\n      <td>1.18441</td>\n      <td>2021-07-29 00:00:00+00:00</td>\n      <td>1.18865</td>\n      <td>2199.136674</td>\n      <td>6407.658100</td>\n      <td>0.000175</td>\n      <td>True</td>\n    </tr>\n    <tr>\n      <th>3</th>\n      <td>5</td>\n      <td>EURUSD</td>\n      <td>Sell</td>\n      <td>4.02</td>\n      <td>2021-07-23 00:00:00+00:00</td>\n      <td>1.17689</td>\n      <td>2021-07-26 00:00:00+00:00</td>\n      <td>1.18029</td>\n      <td>-1448.130259</td>\n      <td>4731.097800</td>\n      <td>0.000202</td>\n      <td>True</td>\n    </tr>\n    <tr>\n      <th>4</th>\n      <td>3</td>\n      <td>EURUSD</td>\n      <td>Buy</td>\n      <td>0.94</td>\n      <td>2021-07-09 00:00:00+00:00</td>\n      <td>1.18774</td>\n      <td>2021-07-14 00:00:00+00:00</td>\n      <td>1.18358</td>\n      <td>-411.862870</td>\n      <td>1116.475600</td>\n      <td>0.000222</td>\n      <td>True</td>\n    </tr>\n    <tr>\n      <th>5</th>\n      <td>4</td>\n      <td>USDJPY</td>\n      <td>Sell</td>\n      <td>0.01</td>\n      <td>2021-07-12 00:00:00+00:00</td>\n      <td>110.34900</td>\n      <td>2021-07-13 00:00:00+00:00</td>\n      <td>110.62700</td>\n      <td>-2.693055</td>\n      <td>10.000000</td>\n      <td>0.019925</td>\n      <td>True</td>\n    </tr>\n    <tr>\n      <th>6</th>\n      <td>2</td>\n      <td>EURUSD</td>\n      <td>Buy</td>\n      <td>2.52</td>\n      <td>2021-06-01 00:00:00+00:00</td>\n      <td>1.22126</td>\n      <td>2021-06-02 00:00:00+00:00</td>\n      <td>1.22100</td>\n      <td>-127.610925</td>\n      <td>3077.575200</td>\n      <td>0.000246</td>\n      <td>True</td>\n    </tr>\n    <tr>\n      <th>7</th>\n      <td>1</td>\n      <td>GBPCAD</td>\n      <td>Sell</td>\n      <td>2.62</td>\n      <td>2021-05-26 00:00:00+00:00</td>\n      <td>1.71089</td>\n      <td>2021-05-28 00:00:00+00:00</td>\n      <td>1.71356</td>\n      <td>-739.218006</td>\n      <td>3698.000907</td>\n      <td>0.000738</td>\n      <td>True</td>\n    </tr>\n  </tbody>\n</table>\n</div>"
     },
     "execution_count": 24,
     "metadata": {},
     "output_type": "execute_result"
    }
   ],
   "source": [
    "state = env.render()\n",
    "\n",
    "print(\n",
    "    f\"balance: {state['balance']}, equity: {state['equity']}, margin: {state['margin']}\\n\"\n",
    "    f\"free_margin: {state['free_margin']}, margin_level: {state['margin_level']}\\n\"\n",
    ")\n",
    "state['orders']"
   ],
   "metadata": {
    "collapsed": false,
    "ExecuteTime": {
     "end_time": "2024-01-16T12:34:03.565203Z",
     "start_time": "2024-01-16T12:34:03.547780Z"
    }
   },
   "id": "128f9d5d8daa80cd",
   "execution_count": 24
  },
  {
   "cell_type": "markdown",
   "source": [
    "Render in **simple_figure** mode\n",
    "- Each *symbol* is illustrated in a different color\n",
    "- The **green/red** triangle show successful **buy/sell** actions\n",
    "- The **grey** triangles indicate that the **buy/sell** actions encountered and **error**\n",
    "- The **black** vertical bars specify **close** actions"
   ],
   "metadata": {
    "collapsed": false
   },
   "id": "b04b6422437fe9eb"
  },
  {
   "cell_type": "code",
   "outputs": [
    {
     "data": {
      "text/plain": "<Figure size 1400x600 with 3 Axes>",
      "image/png": "[encoded data removed]"
     },
     "metadata": {},
     "output_type": "display_data"
    }
   ],
   "source": [
    "env.render('simple_figure')"
   ],
   "metadata": {
    "collapsed": false,
    "ExecuteTime": {
     "end_time": "2024-01-16T12:34:04.019220Z",
     "start_time": "2024-01-16T12:34:03.561653Z"
    }
   },
   "id": "d1691af035b30f17",
   "execution_count": 25
  },
  {
   "cell_type": "markdown",
   "source": [
    "Render in **advanced_mode** figure\n",
    "- Clicking on a symbol name will hide/show its plot\n",
    "- Hovering over points and markers will display their details\n",
    "- The size of the triangles indicates their relative volume"
   ],
   "metadata": {
    "collapsed": false
   },
   "id": "22d1a56cd8ab73d1"
  },
  {
   "cell_type": "code",
   "outputs": [
    {
     "data": {
      "application/vnd.plotly.v1+json": {
       "data": [
        {
         "hovertext": [
          "balance: 10000.000000 USD<br>equity: 10000.000000<br>margin: 0.000000<br>free margin: 10000.000000<br>margin level: inf",
          "balance: 10000.000000 USD<br>equity: 10000.000000<br>margin: 0.000000<br>free margin: 10000.000000<br>margin level: inf",
          "balance: 10000.000000 USD<br>equity: 10000.000000<br>margin: 0.000000<br>free margin: 10000.000000<br>margin level: inf",
          "balance: 10000.000000 USD<br>equity: 10000.000000<br>margin: 0.000000<br>free margin: 10000.000000<br>margin level: inf",
          "balance: 10000.000000 USD<br>equity: 10000.000000<br>margin: 0.000000<br>free margin: 10000.000000<br>margin level: inf",
          "balance: 10000.000000 USD<br>equity: 10000.000000<br>margin: 0.000000<br>free margin: 10000.000000<br>margin level: inf",
          "balance: 10000.000000 USD<br>equity: 10000.000000<br>margin: 0.000000<br>free margin: 10000.000000<br>margin level: inf",
          "balance: 10000.000000 USD<br>equity: 10000.000000<br>margin: 0.000000<br>free margin: 10000.000000<br>margin level: inf",
          "balance: 10000.000000 USD<br>equity: 10000.000000<br>margin: 0.000000<br>free margin: 10000.000000<br>margin level: inf",
          "balance: 10000.000000 USD<br>equity: 10000.000000<br>margin: 0.000000<br>free margin: 10000.000000<br>margin level: inf",
          "balance: 10000.000000 USD<br>equity: 10000.000000<br>margin: 0.000000<br>free margin: 10000.000000<br>margin level: inf",
          "balance: 10000.000000 USD<br>equity: 10000.000000<br>margin: 0.000000<br>free margin: 10000.000000<br>margin level: inf",
          "balance: 10000.000000 USD<br>equity: 10000.000000<br>margin: 0.000000<br>free margin: 10000.000000<br>margin level: inf",
          "balance: 10000.000000 USD<br>equity: 10000.000000<br>margin: 0.000000<br>free margin: 10000.000000<br>margin level: inf",
          "balance: 10000.000000 USD<br>equity: 10000.000000<br>margin: 0.000000<br>free margin: 10000.000000<br>margin level: inf",
          "balance: 10000.000000 USD<br>equity: 10000.000000<br>margin: 0.000000<br>free margin: 10000.000000<br>margin level: inf",
          "balance: 10000.000000 USD<br>equity: 9283.968684<br>margin: 3698.000907<br>free margin: 5585.967776<br>margin level: 2.510537",
          "balance: 10000.000000 USD<br>equity: 9260.781994<br>margin: 3698.000907<br>free margin: 5562.781087<br>margin level: 2.504267",
          "balance: 9260.781994 USD<br>equity: 9260.781994<br>margin: 0.000000<br>free margin: 9260.781994<br>margin level: inf",
          "balance: 9260.781994 USD<br>equity: 9260.781994<br>margin: 0.000000<br>free margin: 9260.781994<br>margin level: inf",
          "balance: 9260.781994 USD<br>equity: 9133.171069<br>margin: 3077.575200<br>free margin: 6055.595869<br>margin level: 2.967652",
          "balance: 9133.171069 USD<br>equity: 9133.171069<br>margin: 0.000000<br>free margin: 9133.171069<br>margin level: inf",
          "balance: 9133.171069 USD<br>equity: 9133.171069<br>margin: 0.000000<br>free margin: 9133.171069<br>margin level: inf",
          "balance: 9133.171069 USD<br>equity: 9133.171069<br>margin: 0.000000<br>free margin: 9133.171069<br>margin level: inf",
          "balance: 9133.171069 USD<br>equity: 9133.171069<br>margin: 0.000000<br>free margin: 9133.171069<br>margin level: inf",
          "balance: 9133.171069 USD<br>equity: 9133.171069<br>margin: 0.000000<br>free margin: 9133.171069<br>margin level: inf",
          "balance: 9133.171069 USD<br>equity: 9133.171069<br>margin: 0.000000<br>free margin: 9133.171069<br>margin level: inf",
          "balance: 9133.171069 USD<br>equity: 9133.171069<br>margin: 0.000000<br>free margin: 9133.171069<br>margin level: inf",
          "balance: 9133.171069 USD<br>equity: 9133.171069<br>margin: 0.000000<br>free margin: 9133.171069<br>margin level: inf",
          "balance: 9133.171069 USD<br>equity: 9133.171069<br>margin: 0.000000<br>free margin: 9133.171069<br>margin level: inf",
          "balance: 9133.171069 USD<br>equity: 9133.171069<br>margin: 0.000000<br>free margin: 9133.171069<br>margin level: inf",
          "balance: 9133.171069 USD<br>equity: 9133.171069<br>margin: 0.000000<br>free margin: 9133.171069<br>margin level: inf",
          "balance: 9133.171069 USD<br>equity: 9133.171069<br>margin: 0.000000<br>free margin: 9133.171069<br>margin level: inf",
          "balance: 9133.171069 USD<br>equity: 9133.171069<br>margin: 0.000000<br>free margin: 9133.171069<br>margin level: inf",
          "balance: 9133.171069 USD<br>equity: 9133.171069<br>margin: 0.000000<br>free margin: 9133.171069<br>margin level: inf",
          "balance: 9133.171069 USD<br>equity: 9133.171069<br>margin: 0.000000<br>free margin: 9133.171069<br>margin level: inf",
          "balance: 9133.171069 USD<br>equity: 9133.171069<br>margin: 0.000000<br>free margin: 9133.171069<br>margin level: inf",
          "balance: 9133.171069 USD<br>equity: 9133.171069<br>margin: 0.000000<br>free margin: 9133.171069<br>margin level: inf",
          "balance: 9133.171069 USD<br>equity: 9133.171069<br>margin: 0.000000<br>free margin: 9133.171069<br>margin level: inf",
          "balance: 9133.171069 USD<br>equity: 9133.171069<br>margin: 0.000000<br>free margin: 9133.171069<br>margin level: inf",
          "balance: 9133.171069 USD<br>equity: 9133.171069<br>margin: 0.000000<br>free margin: 9133.171069<br>margin level: inf",
          "balance: 9133.171069 USD<br>equity: 9133.171069<br>margin: 0.000000<br>free margin: 9133.171069<br>margin level: inf",
          "balance: 9133.171069 USD<br>equity: 9133.171069<br>margin: 0.000000<br>free margin: 9133.171069<br>margin level: inf",
          "balance: 9133.171069 USD<br>equity: 9133.171069<br>margin: 0.000000<br>free margin: 9133.171069<br>margin level: inf",
          "balance: 9133.171069 USD<br>equity: 9133.171069<br>margin: 0.000000<br>free margin: 9133.171069<br>margin level: inf",
          "balance: 9133.171069 USD<br>equity: 9133.171069<br>margin: 0.000000<br>free margin: 9133.171069<br>margin level: inf",
          "balance: 9133.171069 USD<br>equity: 9133.171069<br>margin: 0.000000<br>free margin: 9133.171069<br>margin level: inf",
          "balance: 9133.171069 USD<br>equity: 9133.171069<br>margin: 0.000000<br>free margin: 9133.171069<br>margin level: inf",
          "balance: 9133.171069 USD<br>equity: 8954.428199<br>margin: 1116.475600<br>free margin: 7837.952599<br>margin level: 8.020263",
          "balance: 9133.171069 USD<br>equity: 8161.195144<br>margin: 1126.475600<br>free margin: 7034.719544<br>margin level: 7.244893",
          "balance: 9130.478014 USD<br>equity: 8718.615144<br>margin: 1116.475600<br>free margin: 7602.139544<br>margin level: 7.809051",
          "balance: 8718.615144 USD<br>equity: 8718.615144<br>margin: 0.000000<br>free margin: 8718.615144<br>margin level: inf",
          "balance: 8718.615144 USD<br>equity: 8718.615144<br>margin: 0.000000<br>free margin: 8718.615144<br>margin level: inf",
          "balance: 8718.615144 USD<br>equity: 8718.615144<br>margin: 0.000000<br>free margin: 8718.615144<br>margin level: inf",
          "balance: 8718.615144 USD<br>equity: 8718.615144<br>margin: 0.000000<br>free margin: 8718.615144<br>margin level: inf",
          "balance: 8718.615144 USD<br>equity: 8718.615144<br>margin: 0.000000<br>free margin: 8718.615144<br>margin level: inf",
          "balance: 8718.615144 USD<br>equity: 8718.615144<br>margin: 0.000000<br>free margin: 8718.615144<br>margin level: inf",
          "balance: 8718.615144 USD<br>equity: 8718.615144<br>margin: 0.000000<br>free margin: 8718.615144<br>margin level: inf",
          "balance: 8718.615144 USD<br>equity: 7270.484885<br>margin: 4731.097800<br>free margin: 2539.387085<br>margin level: 1.536744",
          "balance: 7270.484885 USD<br>equity: 7270.484885<br>margin: 0.000000<br>free margin: 7270.484885<br>margin level: inf",
          "balance: 7270.484885 USD<br>equity: 7270.484885<br>margin: 0.000000<br>free margin: 7270.484885<br>margin level: inf",
          "balance: 7270.484885 USD<br>equity: 9469.621559<br>margin: 6407.658100<br>free margin: 3061.963459<br>margin level: 1.477860",
          "balance: 9469.621559 USD<br>equity: 9469.621559<br>margin: 0.000000<br>free margin: 9469.621559<br>margin level: inf",
          "balance: 9469.621559 USD<br>equity: 9469.621559<br>margin: 0.000000<br>free margin: 9469.621559<br>margin level: inf",
          "balance: 9469.621559 USD<br>equity: 9469.621559<br>margin: 0.000000<br>free margin: 9469.621559<br>margin level: inf",
          "balance: 9469.621559 USD<br>equity: 7446.991948<br>margin: 4860.000000<br>free margin: 2586.991948<br>margin level: 1.532303",
          "balance: 9469.621559 USD<br>equity: 6177.092051<br>margin: 4860.000000<br>free margin: 1317.092051<br>margin level: 1.271007",
          "balance: 6177.092051 USD<br>equity: 6177.092051<br>margin: 0.000000<br>free margin: 6177.092051<br>margin level: inf",
          "balance: 6177.092051 USD<br>equity: 6177.092051<br>margin: 0.000000<br>free margin: 6177.092051<br>margin level: inf",
          "balance: 6177.092051 USD<br>equity: 6177.092051<br>margin: 0.000000<br>free margin: 6177.092051<br>margin level: inf",
          "balance: 6177.092051 USD<br>equity: 6177.092051<br>margin: 0.000000<br>free margin: 6177.092051<br>margin level: inf",
          "balance: 6177.092051 USD<br>equity: 6177.092051<br>margin: 0.000000<br>free margin: 6177.092051<br>margin level: inf",
          "balance: 6177.092051 USD<br>equity: 6177.092051<br>margin: 0.000000<br>free margin: 6177.092051<br>margin level: inf",
          "balance: 6177.092051 USD<br>equity: 6177.092051<br>margin: 0.000000<br>free margin: 6177.092051<br>margin level: inf",
          "balance: 6177.092051 USD<br>equity: 6177.092051<br>margin: 0.000000<br>free margin: 6177.092051<br>margin level: inf",
          "balance: 6177.092051 USD<br>equity: 6177.092051<br>margin: 0.000000<br>free margin: 6177.092051<br>margin level: inf",
          "balance: 6177.092051 USD<br>equity: 6177.092051<br>margin: 0.000000<br>free margin: 6177.092051<br>margin level: inf",
          "balance: 6177.092051 USD<br>equity: 6177.092051<br>margin: 0.000000<br>free margin: 6177.092051<br>margin level: inf",
          "balance: 6177.092051 USD<br>equity: 6177.092051<br>margin: 0.000000<br>free margin: 6177.092051<br>margin level: inf",
          "balance: 6177.092051 USD<br>equity: 6177.092051<br>margin: 0.000000<br>free margin: 6177.092051<br>margin level: inf",
          "balance: 6177.092051 USD<br>equity: 6177.092051<br>margin: 0.000000<br>free margin: 6177.092051<br>margin level: inf",
          "balance: 6177.092051 USD<br>equity: 6177.092051<br>margin: 0.000000<br>free margin: 6177.092051<br>margin level: inf",
          "balance: 6177.092051 USD<br>equity: 6177.092051<br>margin: 0.000000<br>free margin: 6177.092051<br>margin level: inf",
          "balance: 6177.092051 USD<br>equity: 6177.092051<br>margin: 0.000000<br>free margin: 6177.092051<br>margin level: inf",
          "balance: 6177.092051 USD<br>equity: 6177.092051<br>margin: 0.000000<br>free margin: 6177.092051<br>margin level: inf",
          "balance: 6177.092051 USD<br>equity: 6177.092051<br>margin: 0.000000<br>free margin: 6177.092051<br>margin level: inf",
          "balance: 6177.092051 USD<br>equity: 6177.092051<br>margin: 0.000000<br>free margin: 6177.092051<br>margin level: inf",
          "balance: 6177.092051 USD<br>equity: 6310.851056<br>margin: 710.000000<br>free margin: 5600.851056<br>margin level: 8.888523"
         ],
         "legendgroup": "g1",
         "line": {
          "color": "rgba(0.12156862745098039, 0.4666666666666667, 0.7058823529411765, 1.0)"
         },
         "mode": "lines+markers",
         "name": "GBPCAD",
         "opacity": 1.0,
         "x": [
          "2021-05-05T00:00:00+00:00",
          "2021-05-06T00:00:00+00:00",
          "2021-05-07T00:00:00+00:00",
          "2021-05-10T00:00:00+00:00",
          "2021-05-11T00:00:00+00:00",
          "2021-05-12T00:00:00+00:00",
          "2021-05-13T00:00:00+00:00",
          "2021-05-14T00:00:00+00:00",
          "2021-05-17T00:00:00+00:00",
          "2021-05-18T00:00:00+00:00",
          "2021-05-19T00:00:00+00:00",
          "2021-05-20T00:00:00+00:00",
          "2021-05-21T00:00:00+00:00",
          "2021-05-24T00:00:00+00:00",
          "2021-05-25T00:00:00+00:00",
          "2021-05-26T00:00:00+00:00",
          "2021-05-27T00:00:00+00:00",
          "2021-05-28T00:00:00+00:00",
          "2021-05-31T00:00:00+00:00",
          "2021-06-01T00:00:00+00:00",
          "2021-06-02T00:00:00+00:00",
          "2021-06-03T00:00:00+00:00",
          "2021-06-04T00:00:00+00:00",
          "2021-06-07T00:00:00+00:00",
          "2021-06-08T00:00:00+00:00",
          "2021-06-09T00:00:00+00:00",
          "2021-06-10T00:00:00+00:00",
          "2021-06-11T00:00:00+00:00",
          "2021-06-14T00:00:00+00:00",
          "2021-06-15T00:00:00+00:00",
          "2021-06-16T00:00:00+00:00",
          "2021-06-17T00:00:00+00:00",
          "2021-06-18T00:00:00+00:00",
          "2021-06-21T00:00:00+00:00",
          "2021-06-22T00:00:00+00:00",
          "2021-06-23T00:00:00+00:00",
          "2021-06-24T00:00:00+00:00",
          "2021-06-25T00:00:00+00:00",
          "2021-06-28T00:00:00+00:00",
          "2021-06-29T00:00:00+00:00",
          "2021-06-30T00:00:00+00:00",
          "2021-07-01T00:00:00+00:00",
          "2021-07-02T00:00:00+00:00",
          "2021-07-05T00:00:00+00:00",
          "2021-07-06T00:00:00+00:00",
          "2021-07-07T00:00:00+00:00",
          "2021-07-08T00:00:00+00:00",
          "2021-07-09T00:00:00+00:00",
          "2021-07-12T00:00:00+00:00",
          "2021-07-13T00:00:00+00:00",
          "2021-07-14T00:00:00+00:00",
          "2021-07-15T00:00:00+00:00",
          "2021-07-16T00:00:00+00:00",
          "2021-07-19T00:00:00+00:00",
          "2021-07-20T00:00:00+00:00",
          "2021-07-21T00:00:00+00:00",
          "2021-07-22T00:00:00+00:00",
          "2021-07-23T00:00:00+00:00",
          "2021-07-26T00:00:00+00:00",
          "2021-07-27T00:00:00+00:00",
          "2021-07-28T00:00:00+00:00",
          "2021-07-29T00:00:00+00:00",
          "2021-07-30T00:00:00+00:00",
          "2021-08-02T00:00:00+00:00",
          "2021-08-03T00:00:00+00:00",
          "2021-08-04T00:00:00+00:00",
          "2021-08-05T00:00:00+00:00",
          "2021-08-06T00:00:00+00:00",
          "2021-08-09T00:00:00+00:00",
          "2021-08-10T00:00:00+00:00",
          "2021-08-11T00:00:00+00:00",
          "2021-08-12T00:00:00+00:00",
          "2021-08-13T00:00:00+00:00",
          "2021-08-16T00:00:00+00:00",
          "2021-08-17T00:00:00+00:00",
          "2021-08-18T00:00:00+00:00",
          "2021-08-19T00:00:00+00:00",
          "2021-08-20T00:00:00+00:00",
          "2021-08-23T00:00:00+00:00",
          "2021-08-24T00:00:00+00:00",
          "2021-08-25T00:00:00+00:00",
          "2021-08-26T00:00:00+00:00",
          "2021-08-27T00:00:00+00:00",
          "2021-08-30T00:00:00+00:00",
          "2021-08-31T00:00:00+00:00",
          "2021-09-01T00:00:00+00:00",
          "2021-09-02T00:00:00+00:00",
          "2021-09-03T00:00:00+00:00"
         ],
         "y": [
          1.70525,
          1.68648,
          1.69619,
          1.7070699999999999,
          1.71108,
          1.70468,
          1.7082899999999999,
          1.70635,
          1.7059199999999999,
          1.71128,
          1.71211,
          1.7107,
          1.70726,
          1.7044000000000001,
          1.7066,
          1.71089,
          1.71345,
          1.71356,
          1.7132399999999999,
          1.70755,
          1.70462,
          1.7068400000000001,
          1.70999,
          1.71255,
          1.7139199999999999,
          1.70927,
          1.71433,
          1.71691,
          1.71341,
          1.71492,
          1.71638,
          1.71949,
          1.72017,
          1.72173,
          1.7158099999999998,
          1.7177,
          1.7149299999999998,
          1.70721,
          1.71244,
          1.71535,
          1.71437,
          1.71059,
          1.70511,
          1.70716,
          1.71879,
          1.72167,
          1.72692,
          1.7307000000000001,
          1.72832,
          1.72767,
          1.73236,
          1.7407,
          1.73684,
          1.74244,
          1.7273800000000001,
          1.72183,
          1.72851,
          1.72728,
          1.73336,
          1.7481900000000001,
          1.7405300000000001,
          1.73688,
          1.73335,
          1.73577,
          1.7441499999999999,
          1.7412999999999998,
          1.7408299999999999,
          1.7419799999999999,
          1.7408000000000001,
          1.7316500000000001,
          1.73282,
          1.72889,
          1.7357200000000002,
          1.7402199999999999,
          1.7349700000000001,
          1.74061,
          1.74874,
          1.7468,
          1.73506,
          1.72784,
          1.73259,
          1.7377,
          1.7353399999999999,
          1.7338900000000002,
          1.73501,
          1.7372800000000002,
          1.73603,
          1.7362600000000001
         ],
         "yaxis": "y",
         "type": "scatter"
        },
        {
         "hovertext": [
          "order id: <br>hold probability: 0.0000<br>hold: False<br>volume: 21.247283<br>modified volume: 21.2500<br>fee: nan<br>margin: nan<br>error: low free margin (order margin=30142.903324740342, order profit=-1146.2313314354074, free margin=10000.0)",
          "order id: <br>hold probability: 0.0000<br>hold: False<br>volume: 48.445985<br>modified volume: 35.0000<br>fee: nan<br>margin: nan<br>error: low free margin (order margin=49526.81309573146, order profit=-1930.998980923908, free margin=10000.0)",
          "order id: <br>hold probability: 0.0000<br>hold: False<br>volume: -38.914950<br>modified volume: 35.0000<br>fee: nan<br>margin: nan<br>error: low free margin (order margin=49507.25646699986, order profit=-2125.519960248934, free margin=10000.0)",
          "order id: 1<br>hold probability: 0.0000<br>hold: False<br>volume: -2.620002<br>modified volume: 2.6200<br>fee: 0.000738<br>margin: 3698.000907<br>error: ",
          "order id: <br>hold probability: 0.0000<br>hold: False<br>volume: 78.156858<br>modified volume: 35.0000<br>fee: nan<br>margin: nan<br>error: low free margin (order margin=49712.23916233492, order profit=-1947.3489550023482, free margin=9260.78199442195)",
          "order id: <br>hold probability: 0.0000<br>hold: False<br>volume: -30.766024<br>modified volume: 30.7700<br>fee: nan<br>margin: nan<br>error: low free margin (order margin=43533.02469902977, order profit=-1751.275710254574, free margin=9260.78199442195)",
          "order id: <br>hold probability: 0.0013<br>hold: False<br>volume: 8.993967<br>modified volume: 8.9900<br>fee: nan<br>margin: nan<br>error: low free margin (order margin=12736.163327044706, order profit=-519.3944161330102, free margin=6055.595869066569)",
          "order id: <br>hold probability: 0.0000<br>hold: False<br>volume: -70.163684<br>modified volume: 35.0000<br>fee: nan<br>margin: nan<br>error: low free margin (order margin=49624.33560180816, order profit=-2035.1199887302316, free margin=9133.17106906657)",
          "order id: <br>hold probability: 0.0000<br>hold: False<br>volume: -98.827313<br>modified volume: 35.0000<br>fee: nan<br>margin: nan<br>error: low free margin (order margin=49543.851534948255, order profit=-2452.434079872507, free margin=9133.17106906657)",
          "order id: <br>hold probability: 0.0000<br>hold: False<br>volume: 29.373867<br>modified volume: 29.3700<br>fee: nan<br>margin: nan<br>error: low free margin (order margin=41460.547315042706, order profit=-1744.9588299140462, free margin=9133.17106906657)",
          "order id: <br>hold probability: 0.0000<br>hold: False<br>volume: -29.691461<br>modified volume: 29.6900<br>fee: nan<br>margin: nan<br>error: low free margin (order margin=41890.97466175877, order profit=-1862.1946842467255, free margin=9133.17106906657)",
          "order id: <br>hold probability: 0.0000<br>hold: False<br>volume: 48.649918<br>modified volume: 35.0000<br>fee: nan<br>margin: nan<br>error: low free margin (order margin=48937.159894424716, order profit=-1886.7152479654535, free margin=9133.17106906657)",
          "order id: <br>hold probability: 0.0000<br>hold: False<br>volume: -33.084660<br>modified volume: 33.0800<br>fee: nan<br>margin: nan<br>error: low free margin (order margin=46044.221637592585, order profit=-1754.0432575088382, free margin=9133.17106906657)",
          "order id: <br>hold probability: 0.0000<br>hold: False<br>volume: 12.492729<br>modified volume: 12.4900<br>fee: nan<br>margin: nan<br>error: low free margin (order margin=17231.36167141196, order profit=-716.1005457601381, free margin=9133.17106906657)",
          "order id: <br>hold probability: 0.0000<br>hold: False<br>volume: -60.270088<br>modified volume: 35.0000<br>fee: nan<br>margin: nan<br>error: low free margin (order margin=48751.33486505728, order profit=-1885.1951625381241, free margin=9133.17106906657)",
          "order id: <br>hold probability: 0.0000<br>hold: False<br>volume: -30.494598<br>modified volume: 30.4900<br>fee: nan<br>margin: nan<br>error: low free margin (order margin=42565.9124342688, order profit=-1731.0679986715295, free margin=9133.17106906657)",
          "order id: <br>hold probability: 0.0000<br>hold: False<br>volume: -41.729847<br>modified volume: 35.0000<br>fee: nan<br>margin: nan<br>error: low free margin (order margin=48401.185770750984, order profit=-1796.406594417608, free margin=9133.17106906657)",
          "order id: <br>hold probability: 0.0000<br>hold: False<br>volume: -34.326062<br>modified volume: 34.3300<br>fee: nan<br>margin: nan<br>error: low free margin (order margin=47488.35438730118, order profit=-1930.882296233497, free margin=9133.17106906657)",
          "order id: <br>hold probability: 0.0000<br>hold: False<br>volume: 54.480632<br>modified volume: 35.0000<br>fee: nan<br>margin: nan<br>error: low free margin (order margin=48279.37217575232, order profit=-1957.604479532055, free margin=9133.17106906657)",
          "order id: <br>hold probability: 0.0000<br>hold: False<br>volume: -5.397286<br>modified volume: 5.4000<br>fee: nan<br>margin: nan<br>error: low free margin (order margin=7455.661221749832, order profit=-316.21445829739315, free margin=7034.719543900145)",
          "order id: <br>hold probability: 0.0000<br>hold: False<br>volume: -88.223994<br>modified volume: 35.0000<br>fee: nan<br>margin: nan<br>error: low free margin (order margin=48473.505804099645, order profit=-1901.5944427718566, free margin=7602.139543900144)",
          "order id: <br>hold probability: 0.0018<br>hold: False<br>volume: 98.435914<br>modified volume: 35.0000<br>fee: nan<br>margin: nan<br>error: low free margin (order margin=48378.502854692575, order profit=-1898.451914096738, free margin=8718.615143900144)",
          "order id: <br>hold probability: 0.0000<br>hold: False<br>volume: 99.066039<br>modified volume: 35.0000<br>fee: nan<br>margin: nan<br>error: low free margin (order margin=48178.64077669903, order profit=-1868.0283242697135, free margin=8718.615143900144)",
          "order id: <br>hold probability: 0.0000<br>hold: False<br>volume: 53.679913<br>modified volume: 35.0000<br>fee: nan<br>margin: nan<br>error: low free margin (order margin=47848.94942489055, order profit=-2020.5392987076302, free margin=8718.615143900144)",
          "order id: <br>hold probability: 0.0000<br>hold: False<br>volume: -13.471338<br>modified volume: 13.4700<br>fee: nan<br>margin: nan<br>error: low free margin (order margin=18465.80421974522, order profit=-794.7909272805507, free margin=8718.615143900144)",
          "order id: <br>hold probability: 0.0000<br>hold: False<br>volume: 52.831003<br>modified volume: 35.0000<br>fee: nan<br>margin: nan<br>error: low free margin (order margin=48165.9275654244, order profit=-1787.1436145371326, free margin=8718.615143900144)",
          "order id: <br>hold probability: 0.0000<br>hold: False<br>volume: 99.360558<br>modified volume: 35.0000<br>fee: nan<br>margin: nan<br>error: low free margin (order margin=48112.117401754025, order profit=-2168.4973189793955, free margin=8718.615143900144)",
          "order id: <br>hold probability: 0.0000<br>hold: False<br>volume: -88.707268<br>modified volume: 35.0000<br>fee: nan<br>margin: nan<br>error: low free margin (order margin=48354.20236719404, order profit=-2154.9982657456944, free margin=2539.3870851826714)",
          "order id: <br>hold probability: 0.0000<br>hold: False<br>volume: -30.269476<br>modified volume: 30.2700<br>fee: nan<br>margin: nan<br>error: low free margin (order margin=42067.232318231916, order profit=-1591.0625501077839, free margin=7270.484885182672)",
          "order id: <br>hold probability: 0.0000<br>hold: False<br>volume: 15.196229<br>modified volume: 15.2000<br>fee: nan<br>margin: nan<br>error: low free margin (order margin=21138.58423125988, order profit=-735.9086750572756, free margin=9469.621559313784)",
          "order id: <br>hold probability: 0.0000<br>hold: False<br>volume: 26.252751<br>modified volume: 26.2500<br>fee: nan<br>margin: nan<br>error: low free margin (order margin=36441.257977830035, order profit=-1601.0862882064519, free margin=9469.621559313784)",
          "order id: <br>hold probability: 0.0000<br>hold: False<br>volume: 40.477830<br>modified volume: 35.0000<br>fee: nan<br>margin: nan<br>error: low free margin (order margin=48600.87719298245, order profit=-1992.9853615885736, free margin=2586.9919483369367)",
          "order id: <br>hold probability: 0.0000<br>hold: False<br>volume: -86.781804<br>modified volume: 35.0000<br>fee: nan<br>margin: nan<br>error: low free margin (order margin=48442.444384371964, order profit=-2071.831847988481, free margin=6177.092050631586)",
          "order id: <br>hold probability: 0.0000<br>hold: False<br>volume: 99.289664<br>modified volume: 35.0000<br>fee: nan<br>margin: nan<br>error: low free margin (order margin=48512.7503679529, order profit=-2065.5941999824718, free margin=6177.092050631586)",
          "order id: <br>hold probability: 0.0000<br>hold: False<br>volume: -75.488325<br>modified volume: 35.0000<br>fee: nan<br>margin: nan<br>error: low free margin (order margin=48327.34344426608, order profit=-1795.717127685511, free margin=6177.092050631586)",
          "order id: <br>hold probability: 0.1819<br>hold: False<br>volume: -47.736491<br>modified volume: 35.0000<br>fee: nan<br>margin: nan<br>error: low free margin (order margin=48450.18773068601, order profit=-1930.6996362767652, free margin=6177.092050631586)",
          "order id: <br>hold probability: 0.0001<br>hold: False<br>volume: -12.050331<br>modified volume: 12.0500<br>fee: nan<br>margin: nan<br>error: low free margin (order margin=16429.375487291436, order profit=-596.177530514714, free margin=6177.092050631586)",
          "order id: <br>hold probability: 0.0000<br>hold: False<br>volume: -16.424036<br>modified volume: 16.4200<br>fee: nan<br>margin: nan<br>error: low free margin (order margin=22366.75530463127, order profit=-794.7471529485695, free margin=6177.092050631586)",
          "order id: <br>hold probability: 0.0000<br>hold: False<br>volume: -97.303974<br>modified volume: 35.0000<br>fee: nan<br>margin: nan<br>error: low free margin (order margin=48137.79736660616, order profit=-1811.1793407132902, free margin=6177.092050631586)",
          "order id: <br>hold probability: 0.0000<br>hold: False<br>volume: 65.781929<br>modified volume: 35.0000<br>fee: nan<br>margin: nan<br>error: low free margin (order margin=48187.02698418989, order profit=-2105.48869627202, free margin=6177.092050631586)"
         ],
         "legendgroup": "g1",
         "marker": {
          "color": [
           "gray",
           "gray",
           "gray",
           "red",
           "gray",
           "gray",
           "gray",
           "gray",
           "gray",
           "gray",
           "gray",
           "gray",
           "gray",
           "gray",
           "gray",
           "gray",
           "gray",
           "gray",
           "gray",
           "gray",
           "gray",
           "gray",
           "gray",
           "gray",
           "gray",
           "gray",
           "gray",
           "gray",
           "gray",
           "gray",
           "gray",
           "gray",
           "gray",
           "gray",
           "gray",
           "gray",
           "gray",
           "gray",
           "gray",
           "gray"
          ],
          "size": [
           21.357142857142854,
           30.0,
           30.0,
           9.646857142857144,
           30.0,
           27.341142857142856,
           13.650857142857141,
           30.0,
           30.0,
           26.461142857142857,
           26.662285714285716,
           30.0,
           28.793142857142854,
           15.850857142857144,
           30.0,
           27.165142857142857,
           30.0,
           29.578857142857142,
           30.0,
           11.394285714285715,
           30.0,
           30.0,
           30.0,
           30.0,
           16.466857142857144,
           30.0,
           30.0,
           30.0,
           27.026857142857143,
           17.554285714285715,
           24.5,
           30.0,
           30.0,
           30.0,
           30.0,
           30.0,
           15.574285714285715,
           18.32114285714286,
           30.0,
           30.0
          ],
          "symbol": [
           "triangle-down",
           "triangle-down",
           "triangle-down",
           "triangle-down",
           "triangle-down",
           "triangle-down",
           "triangle-down",
           "triangle-down",
           "triangle-down",
           "triangle-down",
           "triangle-down",
           "triangle-down",
           "triangle-down",
           "triangle-down",
           "triangle-down",
           "triangle-down",
           "triangle-down",
           "triangle-down",
           "triangle-down",
           "triangle-down",
           "triangle-down",
           "triangle-down",
           "triangle-down",
           "triangle-down",
           "triangle-down",
           "triangle-down",
           "triangle-down",
           "triangle-down",
           "triangle-down",
           "triangle-down",
           "triangle-down",
           "triangle-down",
           "triangle-down",
           "triangle-down",
           "triangle-down",
           "triangle-down",
           "triangle-down",
           "triangle-down",
           "triangle-down",
           "triangle-down"
          ]
         },
         "mode": "markers",
         "name": "GBPCAD",
         "showlegend": false,
         "x": [
          "2021-05-18T00:00:00+00:00",
          "2021-05-21T00:00:00+00:00",
          "2021-05-25T00:00:00+00:00",
          "2021-05-26T00:00:00+00:00",
          "2021-05-31T00:00:00+00:00",
          "2021-06-01T00:00:00+00:00",
          "2021-06-02T00:00:00+00:00",
          "2021-06-07T00:00:00+00:00",
          "2021-06-08T00:00:00+00:00",
          "2021-06-09T00:00:00+00:00",
          "2021-06-14T00:00:00+00:00",
          "2021-06-16T00:00:00+00:00",
          "2021-06-17T00:00:00+00:00",
          "2021-06-18T00:00:00+00:00",
          "2021-06-21T00:00:00+00:00",
          "2021-06-23T00:00:00+00:00",
          "2021-06-30T00:00:00+00:00",
          "2021-07-05T00:00:00+00:00",
          "2021-07-07T00:00:00+00:00",
          "2021-07-13T00:00:00+00:00",
          "2021-07-14T00:00:00+00:00",
          "2021-07-15T00:00:00+00:00",
          "2021-07-16T00:00:00+00:00",
          "2021-07-19T00:00:00+00:00",
          "2021-07-21T00:00:00+00:00",
          "2021-07-22T00:00:00+00:00",
          "2021-07-23T00:00:00+00:00",
          "2021-07-26T00:00:00+00:00",
          "2021-07-28T00:00:00+00:00",
          "2021-07-30T00:00:00+00:00",
          "2021-08-02T00:00:00+00:00",
          "2021-08-04T00:00:00+00:00",
          "2021-08-09T00:00:00+00:00",
          "2021-08-11T00:00:00+00:00",
          "2021-08-12T00:00:00+00:00",
          "2021-08-16T00:00:00+00:00",
          "2021-08-19T00:00:00+00:00",
          "2021-08-20T00:00:00+00:00",
          "2021-08-31T00:00:00+00:00",
          "2021-09-01T00:00:00+00:00"
         ],
         "y": [
          1.71128,
          1.70726,
          1.7066,
          1.71089,
          1.7132399999999999,
          1.70755,
          1.70462,
          1.71255,
          1.7139199999999999,
          1.70927,
          1.71341,
          1.71638,
          1.71949,
          1.72017,
          1.72173,
          1.7177,
          1.71437,
          1.70716,
          1.72167,
          1.72767,
          1.73236,
          1.7407,
          1.73684,
          1.74244,
          1.72183,
          1.72851,
          1.72728,
          1.73336,
          1.7405300000000001,
          1.73335,
          1.73577,
          1.7412999999999998,
          1.7408000000000001,
          1.73282,
          1.72889,
          1.7402199999999999,
          1.74874,
          1.7468,
          1.73501,
          1.7372800000000002
         ],
         "yaxis": "y",
         "type": "scatter"
        },
        {
         "hovertext": [
          "order id: 1<br>order type: Sell<br>close probability: 1.0000<br>margin: 3698.000907<br>profit: -739.218006"
         ],
         "legendgroup": "g1",
         "marker": {
          "color": "black",
          "line": {
           "width": 1.5
          },
          "size": 7,
          "symbol": "line-ns"
         },
         "mode": "markers",
         "name": "GBPCAD",
         "showlegend": false,
         "x": [
          "2021-05-28T00:00:00+00:00"
         ],
         "y": [
          1.71356
         ],
         "yaxis": "y",
         "type": "scatter"
        },
        {
         "hovertext": [
          "balance: 10000.000000 USD<br>equity: 10000.000000<br>margin: 0.000000<br>free margin: 10000.000000<br>margin level: inf",
          "balance: 10000.000000 USD<br>equity: 10000.000000<br>margin: 0.000000<br>free margin: 10000.000000<br>margin level: inf",
          "balance: 10000.000000 USD<br>equity: 10000.000000<br>margin: 0.000000<br>free margin: 10000.000000<br>margin level: inf",
          "balance: 10000.000000 USD<br>equity: 10000.000000<br>margin: 0.000000<br>free margin: 10000.000000<br>margin level: inf",
          "balance: 10000.000000 USD<br>equity: 10000.000000<br>margin: 0.000000<br>free margin: 10000.000000<br>margin level: inf",
          "balance: 10000.000000 USD<br>equity: 10000.000000<br>margin: 0.000000<br>free margin: 10000.000000<br>margin level: inf",
          "balance: 10000.000000 USD<br>equity: 10000.000000<br>margin: 0.000000<br>free margin: 10000.000000<br>margin level: inf",
          "balance: 10000.000000 USD<br>equity: 10000.000000<br>margin: 0.000000<br>free margin: 10000.000000<br>margin level: inf",
          "balance: 10000.000000 USD<br>equity: 10000.000000<br>margin: 0.000000<br>free margin: 10000.000000<br>margin level: inf",
          "balance: 10000.000000 USD<br>equity: 10000.000000<br>margin: 0.000000<br>free margin: 10000.000000<br>margin level: inf",
          "balance: 10000.000000 USD<br>equity: 10000.000000<br>margin: 0.000000<br>free margin: 10000.000000<br>margin level: inf",
          "balance: 10000.000000 USD<br>equity: 10000.000000<br>margin: 0.000000<br>free margin: 10000.000000<br>margin level: inf",
          "balance: 10000.000000 USD<br>equity: 10000.000000<br>margin: 0.000000<br>free margin: 10000.000000<br>margin level: inf",
          "balance: 10000.000000 USD<br>equity: 10000.000000<br>margin: 0.000000<br>free margin: 10000.000000<br>margin level: inf",
          "balance: 10000.000000 USD<br>equity: 10000.000000<br>margin: 0.000000<br>free margin: 10000.000000<br>margin level: inf",
          "balance: 10000.000000 USD<br>equity: 10000.000000<br>margin: 0.000000<br>free margin: 10000.000000<br>margin level: inf",
          "balance: 10000.000000 USD<br>equity: 9283.968684<br>margin: 3698.000907<br>free margin: 5585.967776<br>margin level: 2.510537",
          "balance: 10000.000000 USD<br>equity: 9260.781994<br>margin: 3698.000907<br>free margin: 5562.781087<br>margin level: 2.504267",
          "balance: 9260.781994 USD<br>equity: 9260.781994<br>margin: 0.000000<br>free margin: 9260.781994<br>margin level: inf",
          "balance: 9260.781994 USD<br>equity: 9260.781994<br>margin: 0.000000<br>free margin: 9260.781994<br>margin level: inf",
          "balance: 9260.781994 USD<br>equity: 9133.171069<br>margin: 3077.575200<br>free margin: 6055.595869<br>margin level: 2.967652",
          "balance: 9133.171069 USD<br>equity: 9133.171069<br>margin: 0.000000<br>free margin: 9133.171069<br>margin level: inf",
          "balance: 9133.171069 USD<br>equity: 9133.171069<br>margin: 0.000000<br>free margin: 9133.171069<br>margin level: inf",
          "balance: 9133.171069 USD<br>equity: 9133.171069<br>margin: 0.000000<br>free margin: 9133.171069<br>margin level: inf",
          "balance: 9133.171069 USD<br>equity: 9133.171069<br>margin: 0.000000<br>free margin: 9133.171069<br>margin level: inf",
          "balance: 9133.171069 USD<br>equity: 9133.171069<br>margin: 0.000000<br>free margin: 9133.171069<br>margin level: inf",
          "balance: 9133.171069 USD<br>equity: 9133.171069<br>margin: 0.000000<br>free margin: 9133.171069<br>margin level: inf",
          "balance: 9133.171069 USD<br>equity: 9133.171069<br>margin: 0.000000<br>free margin: 9133.171069<br>margin level: inf",
          "balance: 9133.171069 USD<br>equity: 9133.171069<br>margin: 0.000000<br>free margin: 9133.171069<br>margin level: inf",
          "balance: 9133.171069 USD<br>equity: 9133.171069<br>margin: 0.000000<br>free margin: 9133.171069<br>margin level: inf",
          "balance: 9133.171069 USD<br>equity: 9133.171069<br>margin: 0.000000<br>free margin: 9133.171069<br>margin level: inf",
          "balance: 9133.171069 USD<br>equity: 9133.171069<br>margin: 0.000000<br>free margin: 9133.171069<br>margin level: inf",
          "balance: 9133.171069 USD<br>equity: 9133.171069<br>margin: 0.000000<br>free margin: 9133.171069<br>margin level: inf",
          "balance: 9133.171069 USD<br>equity: 9133.171069<br>margin: 0.000000<br>free margin: 9133.171069<br>margin level: inf",
          "balance: 9133.171069 USD<br>equity: 9133.171069<br>margin: 0.000000<br>free margin: 9133.171069<br>margin level: inf",
          "balance: 9133.171069 USD<br>equity: 9133.171069<br>margin: 0.000000<br>free margin: 9133.171069<br>margin level: inf",
          "balance: 9133.171069 USD<br>equity: 9133.171069<br>margin: 0.000000<br>free margin: 9133.171069<br>margin level: inf",
          "balance: 9133.171069 USD<br>equity: 9133.171069<br>margin: 0.000000<br>free margin: 9133.171069<br>margin level: inf",
          "balance: 9133.171069 USD<br>equity: 9133.171069<br>margin: 0.000000<br>free margin: 9133.171069<br>margin level: inf",
          "balance: 9133.171069 USD<br>equity: 9133.171069<br>margin: 0.000000<br>free margin: 9133.171069<br>margin level: inf",
          "balance: 9133.171069 USD<br>equity: 9133.171069<br>margin: 0.000000<br>free margin: 9133.171069<br>margin level: inf",
          "balance: 9133.171069 USD<br>equity: 9133.171069<br>margin: 0.000000<br>free margin: 9133.171069<br>margin level: inf",
          "balance: 9133.171069 USD<br>equity: 9133.171069<br>margin: 0.000000<br>free margin: 9133.171069<br>margin level: inf",
          "balance: 9133.171069 USD<br>equity: 9133.171069<br>margin: 0.000000<br>free margin: 9133.171069<br>margin level: inf",
          "balance: 9133.171069 USD<br>equity: 9133.171069<br>margin: 0.000000<br>free margin: 9133.171069<br>margin level: inf",
          "balance: 9133.171069 USD<br>equity: 9133.171069<br>margin: 0.000000<br>free margin: 9133.171069<br>margin level: inf",
          "balance: 9133.171069 USD<br>equity: 9133.171069<br>margin: 0.000000<br>free margin: 9133.171069<br>margin level: inf",
          "balance: 9133.171069 USD<br>equity: 9133.171069<br>margin: 0.000000<br>free margin: 9133.171069<br>margin level: inf",
          "balance: 9133.171069 USD<br>equity: 8954.428199<br>margin: 1116.475600<br>free margin: 7837.952599<br>margin level: 8.020263",
          "balance: 9133.171069 USD<br>equity: 8161.195144<br>margin: 1126.475600<br>free margin: 7034.719544<br>margin level: 7.244893",
          "balance: 9130.478014 USD<br>equity: 8718.615144<br>margin: 1116.475600<br>free margin: 7602.139544<br>margin level: 7.809051",
          "balance: 8718.615144 USD<br>equity: 8718.615144<br>margin: 0.000000<br>free margin: 8718.615144<br>margin level: inf",
          "balance: 8718.615144 USD<br>equity: 8718.615144<br>margin: 0.000000<br>free margin: 8718.615144<br>margin level: inf",
          "balance: 8718.615144 USD<br>equity: 8718.615144<br>margin: 0.000000<br>free margin: 8718.615144<br>margin level: inf",
          "balance: 8718.615144 USD<br>equity: 8718.615144<br>margin: 0.000000<br>free margin: 8718.615144<br>margin level: inf",
          "balance: 8718.615144 USD<br>equity: 8718.615144<br>margin: 0.000000<br>free margin: 8718.615144<br>margin level: inf",
          "balance: 8718.615144 USD<br>equity: 8718.615144<br>margin: 0.000000<br>free margin: 8718.615144<br>margin level: inf",
          "balance: 8718.615144 USD<br>equity: 8718.615144<br>margin: 0.000000<br>free margin: 8718.615144<br>margin level: inf",
          "balance: 8718.615144 USD<br>equity: 7270.484885<br>margin: 4731.097800<br>free margin: 2539.387085<br>margin level: 1.536744",
          "balance: 7270.484885 USD<br>equity: 7270.484885<br>margin: 0.000000<br>free margin: 7270.484885<br>margin level: inf",
          "balance: 7270.484885 USD<br>equity: 7270.484885<br>margin: 0.000000<br>free margin: 7270.484885<br>margin level: inf",
          "balance: 7270.484885 USD<br>equity: 9469.621559<br>margin: 6407.658100<br>free margin: 3061.963459<br>margin level: 1.477860",
          "balance: 9469.621559 USD<br>equity: 9469.621559<br>margin: 0.000000<br>free margin: 9469.621559<br>margin level: inf",
          "balance: 9469.621559 USD<br>equity: 9469.621559<br>margin: 0.000000<br>free margin: 9469.621559<br>margin level: inf",
          "balance: 9469.621559 USD<br>equity: 9469.621559<br>margin: 0.000000<br>free margin: 9469.621559<br>margin level: inf",
          "balance: 9469.621559 USD<br>equity: 7446.991948<br>margin: 4860.000000<br>free margin: 2586.991948<br>margin level: 1.532303",
          "balance: 9469.621559 USD<br>equity: 6177.092051<br>margin: 4860.000000<br>free margin: 1317.092051<br>margin level: 1.271007",
          "balance: 6177.092051 USD<br>equity: 6177.092051<br>margin: 0.000000<br>free margin: 6177.092051<br>margin level: inf",
          "balance: 6177.092051 USD<br>equity: 6177.092051<br>margin: 0.000000<br>free margin: 6177.092051<br>margin level: inf",
          "balance: 6177.092051 USD<br>equity: 6177.092051<br>margin: 0.000000<br>free margin: 6177.092051<br>margin level: inf",
          "balance: 6177.092051 USD<br>equity: 6177.092051<br>margin: 0.000000<br>free margin: 6177.092051<br>margin level: inf",
          "balance: 6177.092051 USD<br>equity: 6177.092051<br>margin: 0.000000<br>free margin: 6177.092051<br>margin level: inf",
          "balance: 6177.092051 USD<br>equity: 6177.092051<br>margin: 0.000000<br>free margin: 6177.092051<br>margin level: inf",
          "balance: 6177.092051 USD<br>equity: 6177.092051<br>margin: 0.000000<br>free margin: 6177.092051<br>margin level: inf",
          "balance: 6177.092051 USD<br>equity: 6177.092051<br>margin: 0.000000<br>free margin: 6177.092051<br>margin level: inf",
          "balance: 6177.092051 USD<br>equity: 6177.092051<br>margin: 0.000000<br>free margin: 6177.092051<br>margin level: inf",
          "balance: 6177.092051 USD<br>equity: 6177.092051<br>margin: 0.000000<br>free margin: 6177.092051<br>margin level: inf",
          "balance: 6177.092051 USD<br>equity: 6177.092051<br>margin: 0.000000<br>free margin: 6177.092051<br>margin level: inf",
          "balance: 6177.092051 USD<br>equity: 6177.092051<br>margin: 0.000000<br>free margin: 6177.092051<br>margin level: inf",
          "balance: 6177.092051 USD<br>equity: 6177.092051<br>margin: 0.000000<br>free margin: 6177.092051<br>margin level: inf",
          "balance: 6177.092051 USD<br>equity: 6177.092051<br>margin: 0.000000<br>free margin: 6177.092051<br>margin level: inf",
          "balance: 6177.092051 USD<br>equity: 6177.092051<br>margin: 0.000000<br>free margin: 6177.092051<br>margin level: inf",
          "balance: 6177.092051 USD<br>equity: 6177.092051<br>margin: 0.000000<br>free margin: 6177.092051<br>margin level: inf",
          "balance: 6177.092051 USD<br>equity: 6177.092051<br>margin: 0.000000<br>free margin: 6177.092051<br>margin level: inf",
          "balance: 6177.092051 USD<br>equity: 6177.092051<br>margin: 0.000000<br>free margin: 6177.092051<br>margin level: inf",
          "balance: 6177.092051 USD<br>equity: 6177.092051<br>margin: 0.000000<br>free margin: 6177.092051<br>margin level: inf",
          "balance: 6177.092051 USD<br>equity: 6177.092051<br>margin: 0.000000<br>free margin: 6177.092051<br>margin level: inf",
          "balance: 6177.092051 USD<br>equity: 6310.851056<br>margin: 710.000000<br>free margin: 5600.851056<br>margin level: 8.888523"
         ],
         "legendgroup": "g2",
         "line": {
          "color": "rgba(0.5643983083429451, 0.36993464052287583, 0.5132641291810843, 1.0)"
         },
         "mode": "lines+markers",
         "name": "EURUSD",
         "opacity": 1.0,
         "x": [
          "2021-05-05T00:00:00+00:00",
          "2021-05-06T00:00:00+00:00",
          "2021-05-07T00:00:00+00:00",
          "2021-05-10T00:00:00+00:00",
          "2021-05-11T00:00:00+00:00",
          "2021-05-12T00:00:00+00:00",
          "2021-05-13T00:00:00+00:00",
          "2021-05-14T00:00:00+00:00",
          "2021-05-17T00:00:00+00:00",
          "2021-05-18T00:00:00+00:00",
          "2021-05-19T00:00:00+00:00",
          "2021-05-20T00:00:00+00:00",
          "2021-05-21T00:00:00+00:00",
          "2021-05-24T00:00:00+00:00",
          "2021-05-25T00:00:00+00:00",
          "2021-05-26T00:00:00+00:00",
          "2021-05-27T00:00:00+00:00",
          "2021-05-28T00:00:00+00:00",
          "2021-05-31T00:00:00+00:00",
          "2021-06-01T00:00:00+00:00",
          "2021-06-02T00:00:00+00:00",
          "2021-06-03T00:00:00+00:00",
          "2021-06-04T00:00:00+00:00",
          "2021-06-07T00:00:00+00:00",
          "2021-06-08T00:00:00+00:00",
          "2021-06-09T00:00:00+00:00",
          "2021-06-10T00:00:00+00:00",
          "2021-06-11T00:00:00+00:00",
          "2021-06-14T00:00:00+00:00",
          "2021-06-15T00:00:00+00:00",
          "2021-06-16T00:00:00+00:00",
          "2021-06-17T00:00:00+00:00",
          "2021-06-18T00:00:00+00:00",
          "2021-06-21T00:00:00+00:00",
          "2021-06-22T00:00:00+00:00",
          "2021-06-23T00:00:00+00:00",
          "2021-06-24T00:00:00+00:00",
          "2021-06-25T00:00:00+00:00",
          "2021-06-28T00:00:00+00:00",
          "2021-06-29T00:00:00+00:00",
          "2021-06-30T00:00:00+00:00",
          "2021-07-01T00:00:00+00:00",
          "2021-07-02T00:00:00+00:00",
          "2021-07-05T00:00:00+00:00",
          "2021-07-06T00:00:00+00:00",
          "2021-07-07T00:00:00+00:00",
          "2021-07-08T00:00:00+00:00",
          "2021-07-09T00:00:00+00:00",
          "2021-07-12T00:00:00+00:00",
          "2021-07-13T00:00:00+00:00",
          "2021-07-14T00:00:00+00:00",
          "2021-07-15T00:00:00+00:00",
          "2021-07-16T00:00:00+00:00",
          "2021-07-19T00:00:00+00:00",
          "2021-07-20T00:00:00+00:00",
          "2021-07-21T00:00:00+00:00",
          "2021-07-22T00:00:00+00:00",
          "2021-07-23T00:00:00+00:00",
          "2021-07-26T00:00:00+00:00",
          "2021-07-27T00:00:00+00:00",
          "2021-07-28T00:00:00+00:00",
          "2021-07-29T00:00:00+00:00",
          "2021-07-30T00:00:00+00:00",
          "2021-08-02T00:00:00+00:00",
          "2021-08-03T00:00:00+00:00",
          "2021-08-04T00:00:00+00:00",
          "2021-08-05T00:00:00+00:00",
          "2021-08-06T00:00:00+00:00",
          "2021-08-09T00:00:00+00:00",
          "2021-08-10T00:00:00+00:00",
          "2021-08-11T00:00:00+00:00",
          "2021-08-12T00:00:00+00:00",
          "2021-08-13T00:00:00+00:00",
          "2021-08-16T00:00:00+00:00",
          "2021-08-17T00:00:00+00:00",
          "2021-08-18T00:00:00+00:00",
          "2021-08-19T00:00:00+00:00",
          "2021-08-20T00:00:00+00:00",
          "2021-08-23T00:00:00+00:00",
          "2021-08-24T00:00:00+00:00",
          "2021-08-25T00:00:00+00:00",
          "2021-08-26T00:00:00+00:00",
          "2021-08-27T00:00:00+00:00",
          "2021-08-30T00:00:00+00:00",
          "2021-08-31T00:00:00+00:00",
          "2021-09-01T00:00:00+00:00",
          "2021-09-02T00:00:00+00:00",
          "2021-09-03T00:00:00+00:00"
         ],
         "y": [
          1.20036,
          1.20646,
          1.21618,
          1.21282,
          1.2147000000000001,
          1.20705,
          1.20791,
          1.21441,
          1.21511,
          1.2221899999999999,
          1.21744,
          1.22269,
          1.21806,
          1.2215,
          1.22497,
          1.21922,
          1.21934,
          1.21896,
          1.2225,
          1.22126,
          1.221,
          1.21265,
          1.21662,
          1.21893,
          1.21726,
          1.21787,
          1.21751,
          1.21063,
          1.212,
          1.21264,
          1.19943,
          1.19069,
          1.18597,
          1.19185,
          1.19413,
          1.19258,
          1.19315,
          1.1937,
          1.19242,
          1.1896,
          1.1856,
          1.18497,
          1.18646,
          1.18634,
          1.18231,
          1.17903,
          1.18449,
          1.18774,
          1.18606,
          1.17765,
          1.18358,
          1.18118,
          1.18055,
          1.17987,
          1.17805,
          1.17946,
          1.17707,
          1.17689,
          1.18029,
          1.18165,
          1.18441,
          1.18865,
          1.1873,
          1.18688,
          1.18637,
          1.18367,
          1.18327,
          1.17611,
          1.17362,
          1.17203,
          1.17388,
          1.17296,
          1.17962,
          1.17768,
          1.17081,
          1.17108,
          1.16756,
          1.16996,
          1.1745700000000001,
          1.17555,
          1.17716,
          1.17515,
          1.1795499999999999,
          1.17962,
          1.18083,
          1.18384,
          1.18744,
          1.18772
         ],
         "yaxis": "y2",
         "type": "scatter"
        },
        {
         "hovertext": [
          "order id: <br>hold probability: 0.0000<br>hold: False<br>volume: 36.878079<br>modified volume: 36.8800<br>fee: nan<br>margin: nan<br>error: low free margin (order margin=45074.3672, order profit=-730.2028480175449, free margin=10000.0)",
          "order id: <br>hold probability: 0.0000<br>hold: False<br>volume: 10.912454<br>modified volume: 10.9100<br>fee: nan<br>margin: nan<br>error: low free margin (order margin=13282.270400000001, order profit=-271.90861762448696, free margin=10000.0)",
          "order id: <br>hold probability: 0.0000<br>hold: False<br>volume: 65.197127<br>modified volume: 65.2000<br>fee: nan<br>margin: nan<br>error: low free margin (order margin=79719.388, order profit=-1466.506459513631, free margin=10000.0)",
          "order id: <br>hold probability: 0.0000<br>hold: False<br>volume: -89.360845<br>modified volume: 89.3600<br>fee: nan<br>margin: nan<br>error: low free margin (order margin=109463.3192, order profit=-1992.7468406417327, free margin=10000.0)",
          "order id: <br>hold probability: 0.0000<br>hold: False<br>volume: -67.035261<br>modified volume: 67.0400<br>fee: nan<br>margin: nan<br>error: low free margin (order margin=81736.50880000001, order profit=-1380.240106938193, free margin=6142.571178289072)",
          "order id: 2<br>hold probability: 0.0000<br>hold: False<br>volume: 2.522382<br>modified volume: 2.5200<br>fee: 0.000246<br>margin: 3077.575200<br>error: ",
          "order id: <br>hold probability: 0.0000<br>hold: False<br>volume: 77.757471<br>modified volume: 77.7600<br>fee: nan<br>margin: nan<br>error: low free margin (order margin=94295.664, order profit=-1634.9540113642695, free margin=9133.17106906657)",
          "order id: <br>hold probability: 0.0000<br>hold: False<br>volume: -95.528228<br>modified volume: 95.5300<br>fee: nan<br>margin: nan<br>error: low free margin (order margin=116223.7086, order profit=-1833.0071763142416, free margin=9133.17106906657)",
          "order id: <br>hold probability: 0.0000<br>hold: False<br>volume: 76.799113<br>modified volume: 76.8000<br>fee: nan<br>margin: nan<br>error: low free margin (order margin=93613.82400000001, order profit=-1631.995882333631, free margin=9133.17106906657)",
          "order id: <br>hold probability: 0.0000<br>hold: False<br>volume: -51.628640<br>modified volume: 51.6300<br>fee: nan<br>margin: nan<br>error: low free margin (order margin=62847.133799999996, order profit=-1003.687848552428, free margin=9133.17106906657)",
          "order id: <br>hold probability: 0.0000<br>hold: False<br>volume: 30.465190<br>modified volume: 30.4700<br>fee: nan<br>margin: nan<br>error: low free margin (order margin=37108.4989, order profit=-794.273581153074, free margin=9133.17106906657)",
          "order id: <br>hold probability: 0.0000<br>hold: False<br>volume: -16.787528<br>modified volume: 16.7900<br>fee: nan<br>margin: nan<br>error: low free margin (order margin=20326.477700000003, order profit=-350.43876706318474, free margin=9133.17106906657)",
          "order id: <br>hold probability: 0.0000<br>hold: False<br>volume: 83.368671<br>modified volume: 83.3700<br>fee: nan<br>margin: nan<br>error: low free margin (order margin=99267.8253, order profit=-2002.6656919713498, free margin=9133.17106906657)",
          "order id: <br>hold probability: 0.0000<br>hold: False<br>volume: 13.800930<br>modified volume: 13.8000<br>fee: nan<br>margin: nan<br>error: low free margin (order margin=16457.604, order profit=-317.3539691915178, free margin=9133.17106906657)",
          "order id: <br>hold probability: 0.0000<br>hold: False<br>volume: -38.775197<br>modified volume: 38.7800<br>fee: nan<br>margin: nan<br>error: low free margin (order margin=46270.357, order profit=-784.2293902419692, free margin=9133.17106906657)",
          "order id: <br>hold probability: 0.0000<br>hold: False<br>volume: 70.342129<br>modified volume: 70.3400<br>fee: nan<br>margin: nan<br>error: low free margin (order margin=83874.82280000001, order profit=-1658.1587098665532, free margin=9133.17106906657)",
          "order id: <br>hold probability: 0.0000<br>hold: False<br>volume: 46.662992<br>modified volume: 46.6600<br>fee: nan<br>margin: nan<br>error: low free margin (order margin=55290.70020000001, order profit=-1061.9551136715795, free margin=9133.17106906657)",
          "order id: <br>hold probability: 0.0000<br>hold: False<br>volume: 51.606610<br>modified volume: 51.6100<br>fee: nan<br>margin: nan<br>error: low free margin (order margin=61233.200600000004, order profit=-1055.1580608712748, free margin=9133.17106906657)",
          "order id: <br>hold probability: 0.0000<br>hold: False<br>volume: 13.431856<br>modified volume: 13.4300<br>fee: nan<br>margin: nan<br>error: low free margin (order margin=15834.3729, order profit=-279.1017839111942, free margin=9133.17106906657)",
          "order id: 3<br>hold probability: 0.0000<br>hold: False<br>volume: 0.944288<br>modified volume: 0.9400<br>fee: 0.000222<br>margin: 1116.475600<br>error: ",
          "order id: <br>hold probability: 0.0000<br>hold: False<br>volume: 83.969299<br>modified volume: 83.9700<br>fee: nan<br>margin: nan<br>error: low free margin (order margin=98887.27050000001, order profit=-1400.6509275385656, free margin=7034.719543900145)",
          "order id: <br>hold probability: 0.0000<br>hold: False<br>volume: -24.266386<br>modified volume: 24.2700<br>fee: nan<br>margin: nan<br>error: low free margin (order margin=28725.4866, order profit=-493.8353448086874, free margin=8718.615143900144)",
          "order id: <br>hold probability: 0.0000<br>hold: False<br>volume: -16.617414<br>modified volume: 16.6200<br>fee: nan<br>margin: nan<br>error: low free margin (order margin=19631.2116, order profit=-349.0703283546688, free margin=8718.615143900144)",
          "order id: <br>hold probability: 0.0000<br>hold: False<br>volume: -34.123754<br>modified volume: 34.1200<br>fee: nan<br>margin: nan<br>error: low free margin (order margin=40280.365999999995, order profit=-555.7862118877156, free margin=8718.615143900144)",
          "order id: <br>hold probability: 0.0001<br>hold: False<br>volume: 84.339069<br>modified volume: 84.3400<br>fee: nan<br>margin: nan<br>error: low free margin (order margin=99274.08380000001, order profit=-2229.888299939438, free margin=8718.615143900144)",
          "order id: 5<br>hold probability: 0.0000<br>hold: False<br>volume: -4.023549<br>modified volume: 4.0200<br>fee: 0.000202<br>margin: 4731.097800<br>error: ",
          "order id: 6<br>hold probability: 0.0000<br>hold: False<br>volume: 5.413249<br>modified volume: 5.4100<br>fee: 0.000175<br>margin: 6407.658100<br>error: ",
          "order id: <br>hold probability: 0.0000<br>hold: False<br>volume: -37.727239<br>modified volume: 37.7300<br>fee: nan<br>margin: nan<br>error: low free margin (order margin=44780.9824, order profit=-809.3825180620163, free margin=9469.621559313784)",
          "order id: <br>hold probability: 0.0000<br>hold: False<br>volume: 64.974910<br>modified volume: 64.9700<br>fee: nan<br>margin: nan<br>error: low free margin (order margin=77078.4589, order profit=-1664.167229352399, free margin=9469.621559313784)",
          "order id: <br>hold probability: 0.0000<br>hold: False<br>volume: -5.158207<br>modified volume: 5.1600<br>fee: nan<br>margin: nan<br>error: low free margin (order margin=6105.673200000001, order profit=-96.85386277638803, free margin=1317.0920506315852)",
          "order id: <br>hold probability: 0.0000<br>hold: False<br>volume: -33.297655<br>modified volume: 33.3000<br>fee: nan<br>margin: nan<br>error: low free margin (order margin=39028.59899999999, order profit=-638.1698582363299, free margin=6177.092050631586)",
          "order id: <br>hold probability: 0.0000<br>hold: False<br>volume: -84.694809<br>modified volume: 84.6900<br>fee: nan<br>margin: nan<br>error: low free margin (order margin=99737.71919999999, order profit=-1437.1163086137208, free margin=6177.092050631586)",
          "order id: <br>hold probability: 0.0000<br>hold: False<br>volume: -35.227255<br>modified volume: 35.2300<br>fee: nan<br>margin: nan<br>error: low free margin (order margin=41257.148400000005, order profit=-943.4192913312231, free margin=6177.092050631586)",
          "order id: <br>hold probability: 0.0000<br>hold: False<br>volume: -37.106534<br>modified volume: 37.1100<br>fee: nan<br>margin: nan<br>error: low free margin (order margin=43328.151600000005, order profit=-934.8486505844377, free margin=6177.092050631586)",
          "order id: <br>hold probability: 0.0000<br>hold: False<br>volume: -31.447373<br>modified volume: 31.4500<br>fee: nan<br>margin: nan<br>error: low free margin (order margin=36795.242, order profit=-730.3434039572745, free margin=6177.092050631586)",
          "order id: <br>hold probability: 0.0000<br>hold: False<br>volume: 18.066343<br>modified volume: 18.0700<br>fee: nan<br>margin: nan<br>error: low free margin (order margin=21224.479900000002, order profit=-424.2591369307219, free margin=6177.092050631586)",
          "order id: <br>hold probability: 0.0000<br>hold: False<br>volume: -79.371240<br>modified volume: 79.3700<br>fee: nan<br>margin: nan<br>error: low free margin (order margin=93303.40350000001, order profit=-1817.576069120362, free margin=6177.092050631586)",
          "order id: <br>hold probability: 0.0000<br>hold: False<br>volume: -26.241041<br>modified volume: 26.2400<br>fee: nan<br>margin: nan<br>error: low free margin (order margin=30951.391999999996, order profit=-526.1125267859265, free margin=6177.092050631586)",
          "order id: <br>hold probability: 0.0000<br>hold: False<br>volume: 29.680595<br>modified volume: 29.6800<br>fee: nan<br>margin: nan<br>error: low free margin (order margin=35011.1216, order profit=-570.2308165585123, free margin=6177.092050631586)",
          "order id: <br>hold probability: 0.0000<br>hold: False<br>volume: -32.379327<br>modified volume: 32.3800<br>fee: nan<br>margin: nan<br>error: low free margin (order margin=38332.7392, order profit=-502.4953644289871, free margin=6177.092050631586)",
          "order id: <br>hold probability: 0.0000<br>hold: False<br>volume: 74.938893<br>modified volume: 74.9400<br>fee: nan<br>margin: nan<br>error: low free margin (order margin=88986.75360000001, order profit=-1705.9600157024627, free margin=6177.092050631586)"
         ],
         "legendgroup": "g2",
         "marker": {
          "color": [
           "gray",
           "gray",
           "gray",
           "gray",
           "gray",
           "green",
           "gray",
           "gray",
           "gray",
           "gray",
           "gray",
           "gray",
           "gray",
           "gray",
           "gray",
           "gray",
           "gray",
           "gray",
           "gray",
           "green",
           "gray",
           "gray",
           "gray",
           "gray",
           "gray",
           "red",
           "green",
           "gray",
           "gray",
           "gray",
           "gray",
           "gray",
           "gray",
           "gray",
           "gray",
           "gray",
           "gray",
           "gray",
           "gray",
           "gray",
           "gray"
          ],
          "size": [
           16.231307700111593,
           10.43502079740286,
           22.552094957897943,
           27.944404991376686,
           22.962767576341687,
           8.562442933955564,
           25.35538196205742,
           29.321497413005982,
           25.141117987217203,
           19.523384396875315,
           14.800649284772241,
           11.747387643299177,
           26.60748706502993,
           11.080044638328092,
           16.655371816982854,
           23.699299989854925,
           18.41412194379629,
           19.518920564066146,
           10.997463731358426,
           8.209800142031044,
           26.741402049305062,
           13.416861113929187,
           11.709445064421224,
           15.615298772445977,
           26.823982956274726,
           8.897230394643401,
           9.207466774880796,
           16.42102059450137,
           22.50076088059247,
           9.151668864766156,
           15.432281627269958,
           26.90210003043522,
           15.863041493354977,
           16.282641777417062,
           15.019377092421628,
           12.03307294308613,
           25.714720503195696,
           13.856548645632545,
           14.624327888809981,
           15.226945318048088,
           24.725981535964287
          ],
          "symbol": [
           "triangle-down",
           "triangle-down",
           "triangle-down",
           "triangle-down",
           "triangle-down",
           "triangle-up",
           "triangle-down",
           "triangle-down",
           "triangle-down",
           "triangle-down",
           "triangle-down",
           "triangle-down",
           "triangle-down",
           "triangle-down",
           "triangle-down",
           "triangle-down",
           "triangle-down",
           "triangle-down",
           "triangle-down",
           "triangle-up",
           "triangle-down",
           "triangle-down",
           "triangle-down",
           "triangle-down",
           "triangle-down",
           "triangle-down",
           "triangle-up",
           "triangle-down",
           "triangle-down",
           "triangle-down",
           "triangle-down",
           "triangle-down",
           "triangle-down",
           "triangle-down",
           "triangle-down",
           "triangle-down",
           "triangle-down",
           "triangle-down",
           "triangle-down",
           "triangle-down",
           "triangle-down"
          ]
         },
         "mode": "markers",
         "name": "EURUSD",
         "showlegend": false,
         "x": [
          "2021-05-18T00:00:00+00:00",
          "2021-05-19T00:00:00+00:00",
          "2021-05-20T00:00:00+00:00",
          "2021-05-25T00:00:00+00:00",
          "2021-05-26T00:00:00+00:00",
          "2021-06-01T00:00:00+00:00",
          "2021-06-03T00:00:00+00:00",
          "2021-06-04T00:00:00+00:00",
          "2021-06-07T00:00:00+00:00",
          "2021-06-08T00:00:00+00:00",
          "2021-06-09T00:00:00+00:00",
          "2021-06-11T00:00:00+00:00",
          "2021-06-17T00:00:00+00:00",
          "2021-06-23T00:00:00+00:00",
          "2021-06-24T00:00:00+00:00",
          "2021-06-28T00:00:00+00:00",
          "2021-07-01T00:00:00+00:00",
          "2021-07-02T00:00:00+00:00",
          "2021-07-07T00:00:00+00:00",
          "2021-07-09T00:00:00+00:00",
          "2021-07-13T00:00:00+00:00",
          "2021-07-14T00:00:00+00:00",
          "2021-07-15T00:00:00+00:00",
          "2021-07-16T00:00:00+00:00",
          "2021-07-22T00:00:00+00:00",
          "2021-07-23T00:00:00+00:00",
          "2021-07-28T00:00:00+00:00",
          "2021-08-02T00:00:00+00:00",
          "2021-08-03T00:00:00+00:00",
          "2021-08-05T00:00:00+00:00",
          "2021-08-10T00:00:00+00:00",
          "2021-08-16T00:00:00+00:00",
          "2021-08-18T00:00:00+00:00",
          "2021-08-19T00:00:00+00:00",
          "2021-08-20T00:00:00+00:00",
          "2021-08-23T00:00:00+00:00",
          "2021-08-24T00:00:00+00:00",
          "2021-08-27T00:00:00+00:00",
          "2021-08-30T00:00:00+00:00",
          "2021-09-01T00:00:00+00:00",
          "2021-09-02T00:00:00+00:00"
         ],
         "y": [
          1.2221899999999999,
          1.21744,
          1.22269,
          1.22497,
          1.21922,
          1.22126,
          1.21265,
          1.21662,
          1.21893,
          1.21726,
          1.21787,
          1.21063,
          1.19069,
          1.19258,
          1.19315,
          1.19242,
          1.18497,
          1.18646,
          1.17903,
          1.18774,
          1.17765,
          1.18358,
          1.18118,
          1.18055,
          1.17707,
          1.17689,
          1.18441,
          1.18688,
          1.18637,
          1.18327,
          1.17203,
          1.17768,
          1.17108,
          1.16756,
          1.16996,
          1.1745700000000001,
          1.17555,
          1.1795499999999999,
          1.17962,
          1.18384,
          1.18744
         ],
         "yaxis": "y2",
         "type": "scatter"
        },
        {
         "hovertext": [
          "order id: 2<br>order type: Buy<br>close probability: 1.0000<br>margin: 3077.575200<br>profit: -127.610925",
          "order id: 3<br>order type: Buy<br>close probability: 1.0000<br>margin: 1116.475600<br>profit: -411.862870",
          "order id: 5<br>order type: Sell<br>close probability: 1.0000<br>margin: 4731.097800<br>profit: -1448.130259",
          "order id: 6<br>order type: Buy<br>close probability: 1.0000<br>margin: 6407.658100<br>profit: 2199.136674"
         ],
         "legendgroup": "g2",
         "marker": {
          "color": "black",
          "line": {
           "width": 1.5
          },
          "size": 7,
          "symbol": "line-ns"
         },
         "mode": "markers",
         "name": "EURUSD",
         "showlegend": false,
         "x": [
          "2021-06-02T00:00:00+00:00",
          "2021-07-14T00:00:00+00:00",
          "2021-07-26T00:00:00+00:00",
          "2021-07-29T00:00:00+00:00"
         ],
         "y": [
          1.221,
          1.18358,
          1.18029,
          1.18865
         ],
         "yaxis": "y2",
         "type": "scatter"
        },
        {
         "hovertext": [
          "balance: 10000.000000 USD<br>equity: 10000.000000<br>margin: 0.000000<br>free margin: 10000.000000<br>margin level: inf",
          "balance: 10000.000000 USD<br>equity: 10000.000000<br>margin: 0.000000<br>free margin: 10000.000000<br>margin level: inf",
          "balance: 10000.000000 USD<br>equity: 10000.000000<br>margin: 0.000000<br>free margin: 10000.000000<br>margin level: inf",
          "balance: 10000.000000 USD<br>equity: 10000.000000<br>margin: 0.000000<br>free margin: 10000.000000<br>margin level: inf",
          "balance: 10000.000000 USD<br>equity: 10000.000000<br>margin: 0.000000<br>free margin: 10000.000000<br>margin level: inf",
          "balance: 10000.000000 USD<br>equity: 10000.000000<br>margin: 0.000000<br>free margin: 10000.000000<br>margin level: inf",
          "balance: 10000.000000 USD<br>equity: 10000.000000<br>margin: 0.000000<br>free margin: 10000.000000<br>margin level: inf",
          "balance: 10000.000000 USD<br>equity: 10000.000000<br>margin: 0.000000<br>free margin: 10000.000000<br>margin level: inf",
          "balance: 10000.000000 USD<br>equity: 10000.000000<br>margin: 0.000000<br>free margin: 10000.000000<br>margin level: inf",
          "balance: 10000.000000 USD<br>equity: 10000.000000<br>margin: 0.000000<br>free margin: 10000.000000<br>margin level: inf",
          "balance: 10000.000000 USD<br>equity: 10000.000000<br>margin: 0.000000<br>free margin: 10000.000000<br>margin level: inf",
          "balance: 10000.000000 USD<br>equity: 10000.000000<br>margin: 0.000000<br>free margin: 10000.000000<br>margin level: inf",
          "balance: 10000.000000 USD<br>equity: 10000.000000<br>margin: 0.000000<br>free margin: 10000.000000<br>margin level: inf",
          "balance: 10000.000000 USD<br>equity: 10000.000000<br>margin: 0.000000<br>free margin: 10000.000000<br>margin level: inf",
          "balance: 10000.000000 USD<br>equity: 10000.000000<br>margin: 0.000000<br>free margin: 10000.000000<br>margin level: inf",
          "balance: 10000.000000 USD<br>equity: 10000.000000<br>margin: 0.000000<br>free margin: 10000.000000<br>margin level: inf",
          "balance: 10000.000000 USD<br>equity: 9283.968684<br>margin: 3698.000907<br>free margin: 5585.967776<br>margin level: 2.510537",
          "balance: 10000.000000 USD<br>equity: 9260.781994<br>margin: 3698.000907<br>free margin: 5562.781087<br>margin level: 2.504267",
          "balance: 9260.781994 USD<br>equity: 9260.781994<br>margin: 0.000000<br>free margin: 9260.781994<br>margin level: inf",
          "balance: 9260.781994 USD<br>equity: 9260.781994<br>margin: 0.000000<br>free margin: 9260.781994<br>margin level: inf",
          "balance: 9260.781994 USD<br>equity: 9133.171069<br>margin: 3077.575200<br>free margin: 6055.595869<br>margin level: 2.967652",
          "balance: 9133.171069 USD<br>equity: 9133.171069<br>margin: 0.000000<br>free margin: 9133.171069<br>margin level: inf",
          "balance: 9133.171069 USD<br>equity: 9133.171069<br>margin: 0.000000<br>free margin: 9133.171069<br>margin level: inf",
          "balance: 9133.171069 USD<br>equity: 9133.171069<br>margin: 0.000000<br>free margin: 9133.171069<br>margin level: inf",
          "balance: 9133.171069 USD<br>equity: 9133.171069<br>margin: 0.000000<br>free margin: 9133.171069<br>margin level: inf",
          "balance: 9133.171069 USD<br>equity: 9133.171069<br>margin: 0.000000<br>free margin: 9133.171069<br>margin level: inf",
          "balance: 9133.171069 USD<br>equity: 9133.171069<br>margin: 0.000000<br>free margin: 9133.171069<br>margin level: inf",
          "balance: 9133.171069 USD<br>equity: 9133.171069<br>margin: 0.000000<br>free margin: 9133.171069<br>margin level: inf",
          "balance: 9133.171069 USD<br>equity: 9133.171069<br>margin: 0.000000<br>free margin: 9133.171069<br>margin level: inf",
          "balance: 9133.171069 USD<br>equity: 9133.171069<br>margin: 0.000000<br>free margin: 9133.171069<br>margin level: inf",
          "balance: 9133.171069 USD<br>equity: 9133.171069<br>margin: 0.000000<br>free margin: 9133.171069<br>margin level: inf",
          "balance: 9133.171069 USD<br>equity: 9133.171069<br>margin: 0.000000<br>free margin: 9133.171069<br>margin level: inf",
          "balance: 9133.171069 USD<br>equity: 9133.171069<br>margin: 0.000000<br>free margin: 9133.171069<br>margin level: inf",
          "balance: 9133.171069 USD<br>equity: 9133.171069<br>margin: 0.000000<br>free margin: 9133.171069<br>margin level: inf",
          "balance: 9133.171069 USD<br>equity: 9133.171069<br>margin: 0.000000<br>free margin: 9133.171069<br>margin level: inf",
          "balance: 9133.171069 USD<br>equity: 9133.171069<br>margin: 0.000000<br>free margin: 9133.171069<br>margin level: inf",
          "balance: 9133.171069 USD<br>equity: 9133.171069<br>margin: 0.000000<br>free margin: 9133.171069<br>margin level: inf",
          "balance: 9133.171069 USD<br>equity: 9133.171069<br>margin: 0.000000<br>free margin: 9133.171069<br>margin level: inf",
          "balance: 9133.171069 USD<br>equity: 9133.171069<br>margin: 0.000000<br>free margin: 9133.171069<br>margin level: inf",
          "balance: 9133.171069 USD<br>equity: 9133.171069<br>margin: 0.000000<br>free margin: 9133.171069<br>margin level: inf",
          "balance: 9133.171069 USD<br>equity: 9133.171069<br>margin: 0.000000<br>free margin: 9133.171069<br>margin level: inf",
          "balance: 9133.171069 USD<br>equity: 9133.171069<br>margin: 0.000000<br>free margin: 9133.171069<br>margin level: inf",
          "balance: 9133.171069 USD<br>equity: 9133.171069<br>margin: 0.000000<br>free margin: 9133.171069<br>margin level: inf",
          "balance: 9133.171069 USD<br>equity: 9133.171069<br>margin: 0.000000<br>free margin: 9133.171069<br>margin level: inf",
          "balance: 9133.171069 USD<br>equity: 9133.171069<br>margin: 0.000000<br>free margin: 9133.171069<br>margin level: inf",
          "balance: 9133.171069 USD<br>equity: 9133.171069<br>margin: 0.000000<br>free margin: 9133.171069<br>margin level: inf",
          "balance: 9133.171069 USD<br>equity: 9133.171069<br>margin: 0.000000<br>free margin: 9133.171069<br>margin level: inf",
          "balance: 9133.171069 USD<br>equity: 9133.171069<br>margin: 0.000000<br>free margin: 9133.171069<br>margin level: inf",
          "balance: 9133.171069 USD<br>equity: 8954.428199<br>margin: 1116.475600<br>free margin: 7837.952599<br>margin level: 8.020263",
          "balance: 9133.171069 USD<br>equity: 8161.195144<br>margin: 1126.475600<br>free margin: 7034.719544<br>margin level: 7.244893",
          "balance: 9130.478014 USD<br>equity: 8718.615144<br>margin: 1116.475600<br>free margin: 7602.139544<br>margin level: 7.809051",
          "balance: 8718.615144 USD<br>equity: 8718.615144<br>margin: 0.000000<br>free margin: 8718.615144<br>margin level: inf",
          "balance: 8718.615144 USD<br>equity: 8718.615144<br>margin: 0.000000<br>free margin: 8718.615144<br>margin level: inf",
          "balance: 8718.615144 USD<br>equity: 8718.615144<br>margin: 0.000000<br>free margin: 8718.615144<br>margin level: inf",
          "balance: 8718.615144 USD<br>equity: 8718.615144<br>margin: 0.000000<br>free margin: 8718.615144<br>margin level: inf",
          "balance: 8718.615144 USD<br>equity: 8718.615144<br>margin: 0.000000<br>free margin: 8718.615144<br>margin level: inf",
          "balance: 8718.615144 USD<br>equity: 8718.615144<br>margin: 0.000000<br>free margin: 8718.615144<br>margin level: inf",
          "balance: 8718.615144 USD<br>equity: 8718.615144<br>margin: 0.000000<br>free margin: 8718.615144<br>margin level: inf",
          "balance: 8718.615144 USD<br>equity: 7270.484885<br>margin: 4731.097800<br>free margin: 2539.387085<br>margin level: 1.536744",
          "balance: 7270.484885 USD<br>equity: 7270.484885<br>margin: 0.000000<br>free margin: 7270.484885<br>margin level: inf",
          "balance: 7270.484885 USD<br>equity: 7270.484885<br>margin: 0.000000<br>free margin: 7270.484885<br>margin level: inf",
          "balance: 7270.484885 USD<br>equity: 9469.621559<br>margin: 6407.658100<br>free margin: 3061.963459<br>margin level: 1.477860",
          "balance: 9469.621559 USD<br>equity: 9469.621559<br>margin: 0.000000<br>free margin: 9469.621559<br>margin level: inf",
          "balance: 9469.621559 USD<br>equity: 9469.621559<br>margin: 0.000000<br>free margin: 9469.621559<br>margin level: inf",
          "balance: 9469.621559 USD<br>equity: 9469.621559<br>margin: 0.000000<br>free margin: 9469.621559<br>margin level: inf",
          "balance: 9469.621559 USD<br>equity: 7446.991948<br>margin: 4860.000000<br>free margin: 2586.991948<br>margin level: 1.532303",
          "balance: 9469.621559 USD<br>equity: 6177.092051<br>margin: 4860.000000<br>free margin: 1317.092051<br>margin level: 1.271007",
          "balance: 6177.092051 USD<br>equity: 6177.092051<br>margin: 0.000000<br>free margin: 6177.092051<br>margin level: inf",
          "balance: 6177.092051 USD<br>equity: 6177.092051<br>margin: 0.000000<br>free margin: 6177.092051<br>margin level: inf",
          "balance: 6177.092051 USD<br>equity: 6177.092051<br>margin: 0.000000<br>free margin: 6177.092051<br>margin level: inf",
          "balance: 6177.092051 USD<br>equity: 6177.092051<br>margin: 0.000000<br>free margin: 6177.092051<br>margin level: inf",
          "balance: 6177.092051 USD<br>equity: 6177.092051<br>margin: 0.000000<br>free margin: 6177.092051<br>margin level: inf",
          "balance: 6177.092051 USD<br>equity: 6177.092051<br>margin: 0.000000<br>free margin: 6177.092051<br>margin level: inf",
          "balance: 6177.092051 USD<br>equity: 6177.092051<br>margin: 0.000000<br>free margin: 6177.092051<br>margin level: inf",
          "balance: 6177.092051 USD<br>equity: 6177.092051<br>margin: 0.000000<br>free margin: 6177.092051<br>margin level: inf",
          "balance: 6177.092051 USD<br>equity: 6177.092051<br>margin: 0.000000<br>free margin: 6177.092051<br>margin level: inf",
          "balance: 6177.092051 USD<br>equity: 6177.092051<br>margin: 0.000000<br>free margin: 6177.092051<br>margin level: inf",
          "balance: 6177.092051 USD<br>equity: 6177.092051<br>margin: 0.000000<br>free margin: 6177.092051<br>margin level: inf",
          "balance: 6177.092051 USD<br>equity: 6177.092051<br>margin: 0.000000<br>free margin: 6177.092051<br>margin level: inf",
          "balance: 6177.092051 USD<br>equity: 6177.092051<br>margin: 0.000000<br>free margin: 6177.092051<br>margin level: inf",
          "balance: 6177.092051 USD<br>equity: 6177.092051<br>margin: 0.000000<br>free margin: 6177.092051<br>margin level: inf",
          "balance: 6177.092051 USD<br>equity: 6177.092051<br>margin: 0.000000<br>free margin: 6177.092051<br>margin level: inf",
          "balance: 6177.092051 USD<br>equity: 6177.092051<br>margin: 0.000000<br>free margin: 6177.092051<br>margin level: inf",
          "balance: 6177.092051 USD<br>equity: 6177.092051<br>margin: 0.000000<br>free margin: 6177.092051<br>margin level: inf",
          "balance: 6177.092051 USD<br>equity: 6177.092051<br>margin: 0.000000<br>free margin: 6177.092051<br>margin level: inf",
          "balance: 6177.092051 USD<br>equity: 6177.092051<br>margin: 0.000000<br>free margin: 6177.092051<br>margin level: inf",
          "balance: 6177.092051 USD<br>equity: 6177.092051<br>margin: 0.000000<br>free margin: 6177.092051<br>margin level: inf",
          "balance: 6177.092051 USD<br>equity: 6310.851056<br>margin: 710.000000<br>free margin: 5600.851056<br>margin level: 8.888523"
         ],
         "legendgroup": "g3",
         "line": {
          "color": "rgba(0.7372549019607844, 0.7411764705882353, 0.13333333333333333, 1.0)"
         },
         "mode": "lines+markers",
         "name": "USDJPY",
         "opacity": 1.0,
         "x": [
          "2021-05-05T00:00:00+00:00",
          "2021-05-06T00:00:00+00:00",
          "2021-05-07T00:00:00+00:00",
          "2021-05-10T00:00:00+00:00",
          "2021-05-11T00:00:00+00:00",
          "2021-05-12T00:00:00+00:00",
          "2021-05-13T00:00:00+00:00",
          "2021-05-14T00:00:00+00:00",
          "2021-05-17T00:00:00+00:00",
          "2021-05-18T00:00:00+00:00",
          "2021-05-19T00:00:00+00:00",
          "2021-05-20T00:00:00+00:00",
          "2021-05-21T00:00:00+00:00",
          "2021-05-24T00:00:00+00:00",
          "2021-05-25T00:00:00+00:00",
          "2021-05-26T00:00:00+00:00",
          "2021-05-27T00:00:00+00:00",
          "2021-05-28T00:00:00+00:00",
          "2021-05-31T00:00:00+00:00",
          "2021-06-01T00:00:00+00:00",
          "2021-06-02T00:00:00+00:00",
          "2021-06-03T00:00:00+00:00",
          "2021-06-04T00:00:00+00:00",
          "2021-06-07T00:00:00+00:00",
          "2021-06-08T00:00:00+00:00",
          "2021-06-09T00:00:00+00:00",
          "2021-06-10T00:00:00+00:00",
          "2021-06-11T00:00:00+00:00",
          "2021-06-14T00:00:00+00:00",
          "2021-06-15T00:00:00+00:00",
          "2021-06-16T00:00:00+00:00",
          "2021-06-17T00:00:00+00:00",
          "2021-06-18T00:00:00+00:00",
          "2021-06-21T00:00:00+00:00",
          "2021-06-22T00:00:00+00:00",
          "2021-06-23T00:00:00+00:00",
          "2021-06-24T00:00:00+00:00",
          "2021-06-25T00:00:00+00:00",
          "2021-06-28T00:00:00+00:00",
          "2021-06-29T00:00:00+00:00",
          "2021-06-30T00:00:00+00:00",
          "2021-07-01T00:00:00+00:00",
          "2021-07-02T00:00:00+00:00",
          "2021-07-05T00:00:00+00:00",
          "2021-07-06T00:00:00+00:00",
          "2021-07-07T00:00:00+00:00",
          "2021-07-08T00:00:00+00:00",
          "2021-07-09T00:00:00+00:00",
          "2021-07-12T00:00:00+00:00",
          "2021-07-13T00:00:00+00:00",
          "2021-07-14T00:00:00+00:00",
          "2021-07-15T00:00:00+00:00",
          "2021-07-16T00:00:00+00:00",
          "2021-07-19T00:00:00+00:00",
          "2021-07-20T00:00:00+00:00",
          "2021-07-21T00:00:00+00:00",
          "2021-07-22T00:00:00+00:00",
          "2021-07-23T00:00:00+00:00",
          "2021-07-26T00:00:00+00:00",
          "2021-07-27T00:00:00+00:00",
          "2021-07-28T00:00:00+00:00",
          "2021-07-29T00:00:00+00:00",
          "2021-07-30T00:00:00+00:00",
          "2021-08-02T00:00:00+00:00",
          "2021-08-03T00:00:00+00:00",
          "2021-08-04T00:00:00+00:00",
          "2021-08-05T00:00:00+00:00",
          "2021-08-06T00:00:00+00:00",
          "2021-08-09T00:00:00+00:00",
          "2021-08-10T00:00:00+00:00",
          "2021-08-11T00:00:00+00:00",
          "2021-08-12T00:00:00+00:00",
          "2021-08-13T00:00:00+00:00",
          "2021-08-16T00:00:00+00:00",
          "2021-08-17T00:00:00+00:00",
          "2021-08-18T00:00:00+00:00",
          "2021-08-19T00:00:00+00:00",
          "2021-08-20T00:00:00+00:00",
          "2021-08-23T00:00:00+00:00",
          "2021-08-24T00:00:00+00:00",
          "2021-08-25T00:00:00+00:00",
          "2021-08-26T00:00:00+00:00",
          "2021-08-27T00:00:00+00:00",
          "2021-08-30T00:00:00+00:00",
          "2021-08-31T00:00:00+00:00",
          "2021-09-01T00:00:00+00:00",
          "2021-09-02T00:00:00+00:00",
          "2021-09-03T00:00:00+00:00"
         ],
         "y": [
          109.188,
          109.09,
          108.604,
          108.81,
          108.615,
          109.699,
          109.453,
          109.362,
          109.209,
          108.888,
          109.227,
          108.767,
          108.945,
          108.74,
          108.747,
          109.139,
          109.808,
          109.872,
          109.556,
          109.467,
          109.547,
          110.276,
          109.524,
          109.238,
          109.492,
          109.618,
          109.319,
          109.682,
          110.071,
          110.056,
          110.708,
          110.221,
          110.211,
          110.314,
          110.658,
          110.949,
          110.874,
          110.778,
          110.614,
          110.538,
          111.101,
          111.521,
          111.02,
          110.962,
          110.61,
          110.608,
          109.748,
          110.102,
          110.349,
          110.627,
          109.95,
          109.831,
          110.081,
          109.447,
          109.843,
          110.286,
          110.149,
          110.547,
          110.381,
          109.774,
          109.909,
          109.47,
          109.656,
          109.305,
          109.042,
          109.473,
          109.761,
          110.217,
          110.267,
          110.56,
          110.428,
          110.386,
          109.592,
          109.243,
          109.595,
          109.763,
          109.763,
          109.799,
          109.694,
          109.679,
          110.023,
          110.081,
          109.85,
          109.913,
          110.007,
          110.025,
          109.937,
          109.712
         ],
         "yaxis": "y3",
         "type": "scatter"
        },
        {
         "hovertext": [
          "order id: <br>hold probability: 0.0000<br>hold: False<br>volume: 96.218413<br>modified volume: 96.2200<br>fee: nan<br>margin: nan<br>error: low free margin (order margin=96220.0, order profit=-1932.2827258794114, free margin=10000.0)",
          "order id: <br>hold probability: 0.0000<br>hold: False<br>volume: -96.922253<br>modified volume: 96.9200<br>fee: nan<br>margin: nan<br>error: low free margin (order margin=96920.0, order profit=-1601.676200721704, free margin=10000.0)",
          "order id: <br>hold probability: 0.0000<br>hold: False<br>volume: 25.710303<br>modified volume: 25.7100<br>fee: nan<br>margin: nan<br>error: low free margin (order margin=25710.0, order profit=-469.44036699738007, free margin=10000.0)",
          "order id: <br>hold probability: 0.0008<br>hold: False<br>volume: 11.191361<br>modified volume: 11.1900<br>fee: nan<br>margin: nan<br>error: low free margin (order margin=11190.0, order profit=-210.255286608943, free margin=10000.0)",
          "order id: <br>hold probability: 0.0000<br>hold: False<br>volume: -71.663876<br>modified volume: 71.6600<br>fee: nan<br>margin: nan<br>error: low free margin (order margin=71660.0, order profit=-1452.6156679646724, free margin=9133.17106906657)",
          "order id: <br>hold probability: 0.0000<br>hold: False<br>volume: -10.261091<br>modified volume: 10.2600<br>fee: nan<br>margin: nan<br>error: low free margin (order margin=10260.0, order profit=-173.80063472530728, free margin=9133.17106906657)",
          "order id: <br>hold probability: 0.0000<br>hold: False<br>volume: 17.340621<br>modified volume: 17.3400<br>fee: nan<br>margin: nan<br>error: low free margin (order margin=17340.0, order profit=-391.31651383684505, free margin=9133.17106906657)",
          "order id: <br>hold probability: 0.0000<br>hold: False<br>volume: 66.278334<br>modified volume: 66.2800<br>fee: nan<br>margin: nan<br>error: low free margin (order margin=66280.0, order profit=-1285.8993301630694, free margin=9133.17106906657)",
          "order id: <br>hold probability: 0.0000<br>hold: False<br>volume: 23.017100<br>modified volume: 23.0200<br>fee: nan<br>margin: nan<br>error: low free margin (order margin=23020.0, order profit=-519.8851713503798, free margin=9133.17106906657)",
          "order id: <br>hold probability: 0.0000<br>hold: False<br>volume: -66.134658<br>modified volume: 66.1300<br>fee: nan<br>margin: nan<br>error: low free margin (order margin=66130.0, order profit=-1268.4588834292008, free margin=9133.17106906657)",
          "order id: <br>hold probability: 0.0000<br>hold: False<br>volume: 22.233832<br>modified volume: 22.2300<br>fee: nan<br>margin: nan<br>error: low free margin (order margin=22230.0, order profit=-376.5612694819457, free margin=9133.17106906657)",
          "order id: <br>hold probability: 0.0000<br>hold: False<br>volume: 14.811908<br>modified volume: 14.8100<br>fee: nan<br>margin: nan<br>error: low free margin (order margin=14810.0, order profit=-222.6880942116937, free margin=9133.17106906657)",
          "order id: <br>hold probability: 0.0000<br>hold: False<br>volume: 72.609951<br>modified volume: 72.6100<br>fee: nan<br>margin: nan<br>error: low free margin (order margin=72610.0, order profit=-1229.97100074908, free margin=9133.17106906657)",
          "order id: <br>hold probability: 0.0000<br>hold: False<br>volume: 31.079908<br>modified volume: 31.0800<br>fee: nan<br>margin: nan<br>error: low free margin (order margin=31080.0, order profit=-740.6825727245432, free margin=9133.17106906657)",
          "order id: <br>hold probability: 0.0000<br>hold: False<br>volume: -56.942676<br>modified volume: 56.9400<br>fee: nan<br>margin: nan<br>error: low free margin (order margin=56940.0, order profit=-823.5596716955971, free margin=9133.17106906657)",
          "order id: 4<br>hold probability: 0.0000<br>hold: False<br>volume: -0.007126<br>modified volume: 0.0100<br>fee: 0.019925<br>margin: 10.000000<br>error: ",
          "order id: <br>hold probability: 0.0000<br>hold: False<br>volume: 99.156797<br>modified volume: 99.1600<br>fee: nan<br>margin: nan<br>error: low free margin (order margin=99160.0, order profit=-1832.0810960940062, free margin=7044.719543900145)",
          "order id: <br>hold probability: 0.0000<br>hold: False<br>volume: -98.940101<br>modified volume: 98.9400<br>fee: nan<br>margin: nan<br>error: low free margin (order margin=98940.0, order profit=-1952.2437869850569, free margin=8718.615143900144)",
          "order id: <br>hold probability: 0.0000<br>hold: False<br>volume: 30.103597<br>modified volume: 30.1000<br>fee: nan<br>margin: nan<br>error: low free margin (order margin=30100.0, order profit=-630.0386395454439, free margin=8718.615143900144)",
          "order id: <br>hold probability: 0.0000<br>hold: False<br>volume: 97.055818<br>modified volume: 97.0600<br>fee: nan<br>margin: nan<br>error: low free margin (order margin=97059.99999999999, order profit=-1825.4355159167726, free margin=8718.615143900144)",
          "order id: <br>hold probability: 0.0000<br>hold: False<br>volume: -32.970361<br>modified volume: 32.9700<br>fee: nan<br>margin: nan<br>error: low free margin (order margin=32970.0, order profit=-763.3781665596365, free margin=7270.484885182672)",
          "order id: <br>hold probability: 0.0000<br>hold: False<br>volume: -10.318299<br>modified volume: 10.3200<br>fee: nan<br>margin: nan<br>error: low free margin (order margin=10320.0, order profit=-146.60709489966226, free margin=7270.484885182672)",
          "order id: 7<br>hold probability: 0.0024<br>hold: False<br>volume: -4.856513<br>modified volume: 4.8600<br>fee: 0.024604<br>margin: 4860.000000<br>error: ",
          "order id: <br>hold probability: 0.0000<br>hold: False<br>volume: 65.358478<br>modified volume: 65.3600<br>fee: nan<br>margin: nan<br>error: low free margin (order margin=65360.0, order profit=-1026.0932623619235, free margin=2586.9919483369367)",
          "order id: <br>hold probability: 0.0000<br>hold: False<br>volume: -55.107951<br>modified volume: 55.1100<br>fee: nan<br>margin: nan<br>error: low free margin (order margin=55110.0, order profit=-915.0491955810827, free margin=6177.092050631586)",
          "order id: <br>hold probability: 0.0000<br>hold: False<br>volume: 22.879653<br>modified volume: 22.8800<br>fee: nan<br>margin: nan<br>error: low free margin (order margin=22880.000000000004, order profit=-376.2821498584307, free margin=6177.092050631586)",
          "order id: <br>hold probability: 0.0000<br>hold: False<br>volume: -9.473643<br>modified volume: 9.4700<br>fee: nan<br>margin: nan<br>error: low free margin (order margin=9470.0, order profit=-224.20348470731554, free margin=6177.092050631586)",
          "order id: <br>hold probability: 0.0000<br>hold: False<br>volume: -74.493514<br>modified volume: 74.4900<br>fee: nan<br>margin: nan<br>error: low free margin (order margin=74489.99999999999, order profit=-1520.6989086500314, free margin=6177.092050631586)",
          "order id: <br>hold probability: 0.0000<br>hold: False<br>volume: 57.773984<br>modified volume: 57.7700<br>fee: nan<br>margin: nan<br>error: low free margin (order margin=57770.0, order profit=-1160.2326949011385, free margin=6177.092050631586)",
          "order id: <br>hold probability: 0.0000<br>hold: False<br>volume: 17.369271<br>modified volume: 17.3700<br>fee: nan<br>margin: nan<br>error: low free margin (order margin=17370.0, order profit=-311.2250939749236, free margin=6177.092050631586)",
          "order id: <br>hold probability: 0.0000<br>hold: False<br>volume: 32.910656<br>modified volume: 32.9100<br>fee: nan<br>margin: nan<br>error: low free margin (order margin=32910.00000000001, order profit=-573.7785918660708, free margin=6177.092050631586)",
          "order id: <br>hold probability: 0.0000<br>hold: False<br>volume: -49.939284<br>modified volume: 49.9400<br>fee: nan<br>margin: nan<br>error: low free margin (order margin=49940.0, order profit=-953.0984805297883, free margin=6177.092050631586)",
          "order id: <br>hold probability: 0.0000<br>hold: False<br>volume: -60.160658<br>modified volume: 60.1600<br>fee: nan<br>margin: nan<br>error: low free margin (order margin=60160.0, order profit=-1004.1606725771597, free margin=6177.092050631586)",
          "order id: 8<br>hold probability: 0.0035<br>hold: False<br>volume: -0.708085<br>modified volume: 0.7100<br>fee: 0.018310<br>margin: 710.000000<br>error: "
         ],
         "legendgroup": "g3",
         "marker": {
          "color": [
           "gray",
           "gray",
           "gray",
           "gray",
           "gray",
           "gray",
           "gray",
           "gray",
           "gray",
           "gray",
           "gray",
           "gray",
           "gray",
           "gray",
           "gray",
           "red",
           "gray",
           "gray",
           "gray",
           "gray",
           "gray",
           "gray",
           "red",
           "gray",
           "gray",
           "gray",
           "gray",
           "gray",
           "gray",
           "gray",
           "gray",
           "gray",
           "gray",
           "red"
          ],
          "size": [
           29.34126424034681,
           29.496521826797057,
           13.7023893537655,
           10.481903417683235,
           23.89394092146386,
           10.275632624256477,
           11.84595221292469,
           22.700675471317673,
           13.105756628692408,
           22.667405988506903,
           12.930537352555701,
           11.284806936183083,
           24.10464764593205,
           14.893436838390967,
           20.629095674967235,
           8.002217965520718,
           29.993346103437844,
           29.944550861982055,
           14.67607621736062,
           29.527573344087106,
           15.312632321806635,
           10.288940417380784,
           9.077931243068857,
           22.496622643411634,
           20.223207984675874,
           13.07470511140236,
           10.10041334811977,
           24.521625163827,
           20.813186813186814,
           11.852606109486844,
           15.299324528682327,
           19.076519810464767,
           21.34328057263837,
           8.157475551970965
          ],
          "symbol": [
           "triangle-down",
           "triangle-down",
           "triangle-down",
           "triangle-down",
           "triangle-down",
           "triangle-down",
           "triangle-down",
           "triangle-down",
           "triangle-down",
           "triangle-down",
           "triangle-down",
           "triangle-down",
           "triangle-down",
           "triangle-down",
           "triangle-down",
           "triangle-down",
           "triangle-down",
           "triangle-down",
           "triangle-down",
           "triangle-down",
           "triangle-down",
           "triangle-down",
           "triangle-down",
           "triangle-down",
           "triangle-down",
           "triangle-down",
           "triangle-down",
           "triangle-down",
           "triangle-down",
           "triangle-down",
           "triangle-down",
           "triangle-down",
           "triangle-down",
           "triangle-down"
          ]
         },
         "mode": "markers",
         "name": "USDJPY",
         "showlegend": false,
         "x": [
          "2021-05-19T00:00:00+00:00",
          "2021-05-21T00:00:00+00:00",
          "2021-05-24T00:00:00+00:00",
          "2021-05-25T00:00:00+00:00",
          "2021-06-02T00:00:00+00:00",
          "2021-06-10T00:00:00+00:00",
          "2021-06-11T00:00:00+00:00",
          "2021-06-16T00:00:00+00:00",
          "2021-06-18T00:00:00+00:00",
          "2021-06-21T00:00:00+00:00",
          "2021-06-23T00:00:00+00:00",
          "2021-06-28T00:00:00+00:00",
          "2021-06-30T00:00:00+00:00",
          "2021-07-01T00:00:00+00:00",
          "2021-07-06T00:00:00+00:00",
          "2021-07-12T00:00:00+00:00",
          "2021-07-13T00:00:00+00:00",
          "2021-07-14T00:00:00+00:00",
          "2021-07-19T00:00:00+00:00",
          "2021-07-21T00:00:00+00:00",
          "2021-07-26T00:00:00+00:00",
          "2021-07-27T00:00:00+00:00",
          "2021-08-03T00:00:00+00:00",
          "2021-08-04T00:00:00+00:00",
          "2021-08-05T00:00:00+00:00",
          "2021-08-12T00:00:00+00:00",
          "2021-08-17T00:00:00+00:00",
          "2021-08-24T00:00:00+00:00",
          "2021-08-25T00:00:00+00:00",
          "2021-08-26T00:00:00+00:00",
          "2021-08-30T00:00:00+00:00",
          "2021-08-31T00:00:00+00:00",
          "2021-09-01T00:00:00+00:00",
          "2021-09-02T00:00:00+00:00"
         ],
         "y": [
          109.227,
          108.945,
          108.74,
          108.747,
          109.547,
          109.319,
          109.682,
          110.708,
          110.211,
          110.314,
          110.949,
          110.614,
          111.101,
          111.521,
          110.61,
          110.349,
          110.627,
          109.95,
          109.447,
          110.286,
          110.381,
          109.774,
          109.042,
          109.473,
          109.761,
          110.386,
          109.595,
          109.679,
          110.023,
          110.081,
          109.913,
          110.007,
          110.025,
          109.937
         ],
         "yaxis": "y3",
         "type": "scatter"
        },
        {
         "hovertext": [
          "order id: 4<br>order type: Sell<br>close probability: 1.0000<br>margin: 10.000000<br>profit: -2.693055",
          "order id: 7<br>order type: Sell<br>close probability: 1.0000<br>margin: 4860.000000<br>profit: -3292.529509"
         ],
         "legendgroup": "g3",
         "marker": {
          "color": "black",
          "line": {
           "width": 1.5
          },
          "size": 7,
          "symbol": "line-ns"
         },
         "mode": "markers",
         "name": "USDJPY",
         "showlegend": false,
         "x": [
          "2021-07-13T00:00:00+00:00",
          "2021-08-05T00:00:00+00:00"
         ],
         "y": [
          110.627,
          109.761
         ],
         "yaxis": "y3",
         "type": "scatter"
        }
       ],
       "layout": {
        "template": {
         "data": {
          "histogram2dcontour": [
           {
            "type": "histogram2dcontour",
            "colorbar": {
             "outlinewidth": 0,
             "ticks": ""
            },
            "colorscale": [
             [
              0.0,
              "#0d0887"
             ],
             [
              0.1111111111111111,
              "#46039f"
             ],
             [
              0.2222222222222222,
              "#7201a8"
             ],
             [
              0.3333333333333333,
              "#9c179e"
             ],
             [
              0.4444444444444444,
              "#bd3786"
             ],
             [
              0.5555555555555556,
              "#d8576b"
             ],
             [
              0.6666666666666666,
              "#ed7953"
             ],
             [
              0.7777777777777778,
              "#fb9f3a"
             ],
             [
              0.8888888888888888,
              "#fdca26"
             ],
             [
              1.0,
              "#f0f921"
             ]
            ]
           }
          ],
          "choropleth": [
           {
            "type": "choropleth",
            "colorbar": {
             "outlinewidth": 0,
             "ticks": ""
            }
           }
          ],
          "histogram2d": [
           {
            "type": "histogram2d",
            "colorbar": {
             "outlinewidth": 0,
             "ticks": ""
            },
            "colorscale": [
             [
              0.0,
              "#0d0887"
             ],
             [
              0.1111111111111111,
              "#46039f"
             ],
             [
              0.2222222222222222,
              "#7201a8"
             ],
             [
              0.3333333333333333,
              "#9c179e"
             ],
             [
              0.4444444444444444,
              "#bd3786"
             ],
             [
              0.5555555555555556,
              "#d8576b"
             ],
             [
              0.6666666666666666,
              "#ed7953"
             ],
             [
              0.7777777777777778,
              "#fb9f3a"
             ],
             [
              0.8888888888888888,
              "#fdca26"
             ],
             [
              1.0,
              "#f0f921"
             ]
            ]
           }
          ],
          "heatmap": [
           {
            "type": "heatmap",
            "colorbar": {
             "outlinewidth": 0,
             "ticks": ""
            },
            "colorscale": [
             [
              0.0,
              "#0d0887"
             ],
             [
              0.1111111111111111,
              "#46039f"
             ],
             [
              0.2222222222222222,
              "#7201a8"
             ],
             [
              0.3333333333333333,
              "#9c179e"
             ],
             [
              0.4444444444444444,
              "#bd3786"
             ],
             [
              0.5555555555555556,
              "#d8576b"
             ],
             [
              0.6666666666666666,
              "#ed7953"
             ],
             [
              0.7777777777777778,
              "#fb9f3a"
             ],
             [
              0.8888888888888888,
              "#fdca26"
             ],
             [
              1.0,
              "#f0f921"
             ]
            ]
           }
          ],
          "heatmapgl": [
           {
            "type": "heatmapgl",
            "colorbar": {
             "outlinewidth": 0,
             "ticks": ""
            },
            "colorscale": [
             [
              0.0,
              "#0d0887"
             ],
             [
              0.1111111111111111,
              "#46039f"
             ],
             [
              0.2222222222222222,
              "#7201a8"
             ],
             [
              0.3333333333333333,
              "#9c179e"
             ],
             [
              0.4444444444444444,
              "#bd3786"
             ],
             [
              0.5555555555555556,
              "#d8576b"
             ],
             [
              0.6666666666666666,
              "#ed7953"
             ],
             [
              0.7777777777777778,
              "#fb9f3a"
             ],
             [
              0.8888888888888888,
              "#fdca26"
             ],
             [
              1.0,
              "#f0f921"
             ]
            ]
           }
          ],
          "contourcarpet": [
           {
            "type": "contourcarpet",
            "colorbar": {
             "outlinewidth": 0,
             "ticks": ""
            }
           }
          ],
          "contour": [
           {
            "type": "contour",
            "colorbar": {
             "outlinewidth": 0,
             "ticks": ""
            },
            "colorscale": [
             [
              0.0,
              "#0d0887"
             ],
             [
              0.1111111111111111,
              "#46039f"
             ],
             [
              0.2222222222222222,
              "#7201a8"
             ],
             [
              0.3333333333333333,
              "#9c179e"
             ],
             [
              0.4444444444444444,
              "#bd3786"
             ],
             [
              0.5555555555555556,
              "#d8576b"
             ],
             [
              0.6666666666666666,
              "#ed7953"
             ],
             [
              0.7777777777777778,
              "#fb9f3a"
             ],
             [
              0.8888888888888888,
              "#fdca26"
             ],
             [
              1.0,
              "#f0f921"
             ]
            ]
           }
          ],
          "surface": [
           {
            "type": "surface",
            "colorbar": {
             "outlinewidth": 0,
             "ticks": ""
            },
            "colorscale": [
             [
              0.0,
              "#0d0887"
             ],
             [
              0.1111111111111111,
              "#46039f"
             ],
             [
              0.2222222222222222,
              "#7201a8"
             ],
             [
              0.3333333333333333,
              "#9c179e"
             ],
             [
              0.4444444444444444,
              "#bd3786"
             ],
             [
              0.5555555555555556,
              "#d8576b"
             ],
             [
              0.6666666666666666,
              "#ed7953"
             ],
             [
              0.7777777777777778,
              "#fb9f3a"
             ],
             [
              0.8888888888888888,
              "#fdca26"
             ],
             [
              1.0,
              "#f0f921"
             ]
            ]
           }
          ],
          "mesh3d": [
           {
            "type": "mesh3d",
            "colorbar": {
             "outlinewidth": 0,
             "ticks": ""
            }
           }
          ],
          "scatter": [
           {
            "marker": {
             "line": {
              "color": "#283442"
             }
            },
            "type": "scatter"
           }
          ],
          "parcoords": [
           {
            "type": "parcoords",
            "line": {
             "colorbar": {
              "outlinewidth": 0,
              "ticks": ""
             }
            }
           }
          ],
          "scatterpolargl": [
           {
            "type": "scatterpolargl",
            "marker": {
             "colorbar": {
              "outlinewidth": 0,
              "ticks": ""
             }
            }
           }
          ],
          "bar": [
           {
            "error_x": {
             "color": "#f2f5fa"
            },
            "error_y": {
             "color": "#f2f5fa"
            },
            "marker": {
             "line": {
              "color": "rgb(17,17,17)",
              "width": 0.5
             },
             "pattern": {
              "fillmode": "overlay",
              "size": 10,
              "solidity": 0.2
             }
            },
            "type": "bar"
           }
          ],
          "scattergeo": [
           {
            "type": "scattergeo",
            "marker": {
             "colorbar": {
              "outlinewidth": 0,
              "ticks": ""
             }
            }
           }
          ],
          "scatterpolar": [
           {
            "type": "scatterpolar",
            "marker": {
             "colorbar": {
              "outlinewidth": 0,
              "ticks": ""
             }
            }
           }
          ],
          "histogram": [
           {
            "marker": {
             "pattern": {
              "fillmode": "overlay",
              "size": 10,
              "solidity": 0.2
             }
            },
            "type": "histogram"
           }
          ],
          "scattergl": [
           {
            "marker": {
             "line": {
              "color": "#283442"
             }
            },
            "type": "scattergl"
           }
          ],
          "scatter3d": [
           {
            "type": "scatter3d",
            "line": {
             "colorbar": {
              "outlinewidth": 0,
              "ticks": ""
             }
            },
            "marker": {
             "colorbar": {
              "outlinewidth": 0,
              "ticks": ""
             }
            }
           }
          ],
          "scattermapbox": [
           {
            "type": "scattermapbox",
            "marker": {
             "colorbar": {
              "outlinewidth": 0,
              "ticks": ""
             }
            }
           }
          ],
          "scatterternary": [
           {
            "type": "scatterternary",
            "marker": {
             "colorbar": {
              "outlinewidth": 0,
              "ticks": ""
             }
            }
           }
          ],
          "scattercarpet": [
           {
            "type": "scattercarpet",
            "marker": {
             "colorbar": {
              "outlinewidth": 0,
              "ticks": ""
             }
            }
           }
          ],
          "carpet": [
           {
            "aaxis": {
             "endlinecolor": "#A2B1C6",
             "gridcolor": "#506784",
             "linecolor": "#506784",
             "minorgridcolor": "#506784",
             "startlinecolor": "#A2B1C6"
            },
            "baxis": {
             "endlinecolor": "#A2B1C6",
             "gridcolor": "#506784",
             "linecolor": "#506784",
             "minorgridcolor": "#506784",
             "startlinecolor": "#A2B1C6"
            },
            "type": "carpet"
           }
          ],
          "table": [
           {
            "cells": {
             "fill": {
              "color": "#506784"
             },
             "line": {
              "color": "rgb(17,17,17)"
             }
            },
            "header": {
             "fill": {
              "color": "#2a3f5f"
             },
             "line": {
              "color": "rgb(17,17,17)"
             }
            },
            "type": "table"
           }
          ],
          "barpolar": [
           {
            "marker": {
             "line": {
              "color": "rgb(17,17,17)",
              "width": 0.5
             },
             "pattern": {
              "fillmode": "overlay",
              "size": 10,
              "solidity": 0.2
             }
            },
            "type": "barpolar"
           }
          ],
          "pie": [
           {
            "automargin": true,
            "type": "pie"
           }
          ]
         },
         "layout": {
          "autotypenumbers": "strict",
          "colorway": [
           "#636efa",
           "#EF553B",
           "#00cc96",
           "#ab63fa",
           "#FFA15A",
           "#19d3f3",
           "#FF6692",
           "#B6E880",
           "#FF97FF",
           "#FECB52"
          ],
          "font": {
           "color": "#f2f5fa"
          },
          "hovermode": "closest",
          "hoverlabel": {
           "align": "left"
          },
          "paper_bgcolor": "rgb(17,17,17)",
          "plot_bgcolor": "rgb(17,17,17)",
          "polar": {
           "bgcolor": "rgb(17,17,17)",
           "angularaxis": {
            "gridcolor": "#506784",
            "linecolor": "#506784",
            "ticks": ""
           },
           "radialaxis": {
            "gridcolor": "#506784",
            "linecolor": "#506784",
            "ticks": ""
           }
          },
          "ternary": {
           "bgcolor": "rgb(17,17,17)",
           "aaxis": {
            "gridcolor": "#506784",
            "linecolor": "#506784",
            "ticks": ""
           },
           "baxis": {
            "gridcolor": "#506784",
            "linecolor": "#506784",
            "ticks": ""
           },
           "caxis": {
            "gridcolor": "#506784",
            "linecolor": "#506784",
            "ticks": ""
           }
          },
          "coloraxis": {
           "colorbar": {
            "outlinewidth": 0,
            "ticks": ""
           }
          },
          "colorscale": {
           "sequential": [
            [
             0.0,
             "#0d0887"
            ],
            [
             0.1111111111111111,
             "#46039f"
            ],
            [
             0.2222222222222222,
             "#7201a8"
            ],
            [
             0.3333333333333333,
             "#9c179e"
            ],
            [
             0.4444444444444444,
             "#bd3786"
            ],
            [
             0.5555555555555556,
             "#d8576b"
            ],
            [
             0.6666666666666666,
             "#ed7953"
            ],
            [
             0.7777777777777778,
             "#fb9f3a"
            ],
            [
             0.8888888888888888,
             "#fdca26"
            ],
            [
             1.0,
             "#f0f921"
            ]
           ],
           "sequentialminus": [
            [
             0.0,
             "#0d0887"
            ],
            [
             0.1111111111111111,
             "#46039f"
            ],
            [
             0.2222222222222222,
             "#7201a8"
            ],
            [
             0.3333333333333333,
             "#9c179e"
            ],
            [
             0.4444444444444444,
             "#bd3786"
            ],
            [
             0.5555555555555556,
             "#d8576b"
            ],
            [
             0.6666666666666666,
             "#ed7953"
            ],
            [
             0.7777777777777778,
             "#fb9f3a"
            ],
            [
             0.8888888888888888,
             "#fdca26"
            ],
            [
             1.0,
             "#f0f921"
            ]
           ],
           "diverging": [
            [
             0,
             "#8e0152"
            ],
            [
             0.1,
             "#c51b7d"
            ],
            [
             0.2,
             "#de77ae"
            ],
            [
             0.3,
             "#f1b6da"
            ],
            [
             0.4,
             "#fde0ef"
            ],
            [
             0.5,
             "#f7f7f7"
            ],
            [
             0.6,
             "#e6f5d0"
            ],
            [
             0.7,
             "#b8e186"
            ],
            [
             0.8,
             "#7fbc41"
            ],
            [
             0.9,
             "#4d9221"
            ],
            [
             1,
             "#276419"
            ]
           ]
          },
          "xaxis": {
           "gridcolor": "#283442",
           "linecolor": "#506784",
           "ticks": "",
           "title": {
            "standoff": 15
           },
           "zerolinecolor": "#283442",
           "automargin": true,
           "zerolinewidth": 2
          },
          "yaxis": {
           "gridcolor": "#283442",
           "linecolor": "#506784",
           "ticks": "",
           "title": {
            "standoff": 15
           },
           "zerolinecolor": "#283442",
           "automargin": true,
           "zerolinewidth": 2
          },
          "scene": {
           "xaxis": {
            "backgroundcolor": "rgb(17,17,17)",
            "gridcolor": "#506784",
            "linecolor": "#506784",
            "showbackground": true,
            "ticks": "",
            "zerolinecolor": "#C8D4E3",
            "gridwidth": 2
           },
           "yaxis": {
            "backgroundcolor": "rgb(17,17,17)",
            "gridcolor": "#506784",
            "linecolor": "#506784",
            "showbackground": true,
            "ticks": "",
            "zerolinecolor": "#C8D4E3",
            "gridwidth": 2
           },
           "zaxis": {
            "backgroundcolor": "rgb(17,17,17)",
            "gridcolor": "#506784",
            "linecolor": "#506784",
            "showbackground": true,
            "ticks": "",
            "zerolinecolor": "#C8D4E3",
            "gridwidth": 2
           }
          },
          "shapedefaults": {
           "line": {
            "color": "#f2f5fa"
           }
          },
          "annotationdefaults": {
           "arrowcolor": "#f2f5fa",
           "arrowhead": 0,
           "arrowwidth": 1
          },
          "geo": {
           "bgcolor": "rgb(17,17,17)",
           "landcolor": "rgb(17,17,17)",
           "subunitcolor": "#506784",
           "showland": true,
           "showlakes": true,
           "lakecolor": "rgb(17,17,17)"
          },
          "title": {
           "x": 0.05
          },
          "updatemenudefaults": {
           "bgcolor": "#506784",
           "borderwidth": 0
          },
          "sliderdefaults": {
           "bgcolor": "#C8D4E3",
           "borderwidth": 1,
           "bordercolor": "rgb(17,17,17)",
           "tickwidth": 0
          },
          "mapbox": {
           "style": "dark"
          }
         }
        },
        "yaxis": {
         "tickfont": {
          "color": "rgba(0.12156862745098039, 0.4666666666666667, 0.7058823529411765, 0.8)"
         }
        },
        "yaxis2": {
         "tickfont": {
          "color": "rgba(0.5643983083429451, 0.36993464052287583, 0.5132641291810843, 0.8)"
         },
         "overlaying": "y"
        },
        "yaxis3": {
         "tickfont": {
          "color": "rgba(0.7372549019607844, 0.7411764705882353, 0.13333333333333333, 0.8)"
         },
         "overlaying": "y"
        },
        "xaxis": {
         "tickformat": "%Y-%m-%d"
        },
        "title": {
         "text": "Balance: 6177.092051 USD ~ Equity: 6310.851056 ~ Margin: 710.000000 ~ Free Margin: 5600.851056 ~ Margin Level: 8.888523"
        },
        "width": 1400,
        "height": 600
       },
       "config": {
        "plotlyServerURL": "https://plot.ly"
       }
      },
      "text/html": "<div>                            <div id=\"e718860f-05bb-40c2-895b-29eef67d9382\" class=\"plotly-graph-div\" style=\"height:600px; width:1400px;\"></div>            <script type=\"text/javascript\">                require([\"plotly\"], function(Plotly) {                    window.PLOTLYENV=window.PLOTLYENV || {};                                    if (document.getElementById(\"e718860f-05bb-40c2-895b-29eef67d9382\")) {                    Plotly.newPlot(                        \"e718860f-05bb-40c2-895b-29eef67d9382\",                        [{\"hovertext\":[\"balance: 10000.000000 USD\\u003cbr\\u003eequity: 10000.000000\\u003cbr\\u003emargin: 0.000000\\u003cbr\\u003efree margin: 10000.000000\\u003cbr\\u003emargin level: inf\",\"balance: 10000.000000 USD\\u003cbr\\u003eequity: 10000.000000\\u003cbr\\u003emargin: 0.000000\\u003cbr\\u003efree margin: 10000.000000\\u003cbr\\u003emargin level: inf\",\"balance: 10000.000000 USD\\u003cbr\\u003eequity: 10000.000000\\u003cbr\\u003emargin: 0.000000\\u003cbr\\u003efree margin: 10000.000000\\u003cbr\\u003emargin level: inf\",\"balance: 10000.000000 USD\\u003cbr\\u003eequity: 10000.000000\\u003cbr\\u003emargin: 0.000000\\u003cbr\\u003efree margin: 10000.000000\\u003cbr\\u003emargin level: inf\",\"balance: 10000.000000 USD\\u003cbr\\u003eequity: 10000.000000\\u003cbr\\u003emargin: 0.000000\\u003cbr\\u003efree margin: 10000.000000\\u003cbr\\u003emargin level: inf\",\"balance: 10000.000000 USD\\u003cbr\\u003eequity: 10000.000000\\u003cbr\\u003emargin: 0.000000\\u003cbr\\u003efree margin: 10000.000000\\u003cbr\\u003emargin level: inf\",\"balance: 10000.000000 USD\\u003cbr\\u003eequity: 10000.000000\\u003cbr\\u003emargin: 0.000000\\u003cbr\\u003efree margin: 10000.000000\\u003cbr\\u003emargin level: inf\",\"balance: 10000.000000 USD\\u003cbr\\u003eequity: 10000.000000\\u003cbr\\u003emargin: 0.000000\\u003cbr\\u003efree margin: 10000.000000\\u003cbr\\u003emargin level: inf\",\"balance: 10000.000000 USD\\u003cbr\\u003eequity: 10000.000000\\u003cbr\\u003emargin: 0.000000\\u003cbr\\u003efree margin: 10000.000000\\u003cbr\\u003emargin level: inf\",\"balance: 10000.000000 USD\\u003cbr\\u003eequity: 10000.000000\\u003cbr\\u003emargin: 0.000000\\u003cbr\\u003efree margin: 10000.000000\\u003cbr\\u003emargin level: inf\",\"balance: 10000.000000 USD\\u003cbr\\u003eequity: 10000.000000\\u003cbr\\u003emargin: 0.000000\\u003cbr\\u003efree margin: 10000.000000\\u003cbr\\u003emargin level: inf\",\"balance: 10000.000000 USD\\u003cbr\\u003eequity: 10000.000000\\u003cbr\\u003emargin: 0.000000\\u003cbr\\u003efree margin: 10000.000000\\u003cbr\\u003emargin level: inf\",\"balance: 10000.000000 USD\\u003cbr\\u003eequity: 10000.000000\\u003cbr\\u003emargin: 0.000000\\u003cbr\\u003efree margin: 10000.000000\\u003cbr\\u003emargin level: inf\",\"balance: 10000.000000 USD\\u003cbr\\u003eequity: 10000.000000\\u003cbr\\u003emargin: 0.000000\\u003cbr\\u003efree margin: 10000.000000\\u003cbr\\u003emargin level: inf\",\"balance: 10000.000000 USD\\u003cbr\\u003eequity: 10000.000000\\u003cbr\\u003emargin: 0.000000\\u003cbr\\u003efree margin: 10000.000000\\u003cbr\\u003emargin level: inf\",\"balance: 10000.000000 USD\\u003cbr\\u003eequity: 10000.000000\\u003cbr\\u003emargin: 0.000000\\u003cbr\\u003efree margin: 10000.000000\\u003cbr\\u003emargin level: inf\",\"balance: 10000.000000 USD\\u003cbr\\u003eequity: 9283.968684\\u003cbr\\u003emargin: 3698.000907\\u003cbr\\u003efree margin: 5585.967776\\u003cbr\\u003emargin level: 2.510537\",\"balance: 10000.000000 USD\\u003cbr\\u003eequity: 9260.781994\\u003cbr\\u003emargin: 3698.000907\\u003cbr\\u003efree margin: 5562.781087\\u003cbr\\u003emargin level: 2.504267\",\"balance: 9260.781994 USD\\u003cbr\\u003eequity: 9260.781994\\u003cbr\\u003emargin: 0.000000\\u003cbr\\u003efree margin: 9260.781994\\u003cbr\\u003emargin level: inf\",\"balance: 9260.781994 USD\\u003cbr\\u003eequity: 9260.781994\\u003cbr\\u003emargin: 0.000000\\u003cbr\\u003efree margin: 9260.781994\\u003cbr\\u003emargin level: inf\",\"balance: 9260.781994 USD\\u003cbr\\u003eequity: 9133.171069\\u003cbr\\u003emargin: 3077.575200\\u003cbr\\u003efree margin: 6055.595869\\u003cbr\\u003emargin level: 2.967652\",\"balance: 9133.171069 USD\\u003cbr\\u003eequity: 9133.171069\\u003cbr\\u003emargin: 0.000000\\u003cbr\\u003efree margin: 9133.171069\\u003cbr\\u003emargin level: inf\",\"balance: 9133.171069 USD\\u003cbr\\u003eequity: 9133.171069\\u003cbr\\u003emargin: 0.000000\\u003cbr\\u003efree margin: 9133.171069\\u003cbr\\u003emargin level: inf\",\"balance: 9133.171069 USD\\u003cbr\\u003eequity: 9133.171069\\u003cbr\\u003emargin: 0.000000\\u003cbr\\u003efree margin: 9133.171069\\u003cbr\\u003emargin level: inf\",\"balance: 9133.171069 USD\\u003cbr\\u003eequity: 9133.171069\\u003cbr\\u003emargin: 0.000000\\u003cbr\\u003efree margin: 9133.171069\\u003cbr\\u003emargin level: inf\",\"balance: 9133.171069 USD\\u003cbr\\u003eequity: 9133.171069\\u003cbr\\u003emargin: 0.000000\\u003cbr\\u003efree margin: 9133.171069\\u003cbr\\u003emargin level: inf\",\"balance: 9133.171069 USD\\u003cbr\\u003eequity: 9133.171069\\u003cbr\\u003emargin: 0.000000\\u003cbr\\u003efree margin: 9133.171069\\u003cbr\\u003emargin level: inf\",\"balance: 9133.171069 USD\\u003cbr\\u003eequity: 9133.171069\\u003cbr\\u003emargin: 0.000000\\u003cbr\\u003efree margin: 9133.171069\\u003cbr\\u003emargin level: inf\",\"balance: 9133.171069 USD\\u003cbr\\u003eequity: 9133.171069\\u003cbr\\u003emargin: 0.000000\\u003cbr\\u003efree margin: 9133.171069\\u003cbr\\u003emargin level: inf\",\"balance: 9133.171069 USD\\u003cbr\\u003eequity: 9133.171069\\u003cbr\\u003emargin: 0.000000\\u003cbr\\u003efree margin: 9133.171069\\u003cbr\\u003emargin level: inf\",\"balance: 9133.171069 USD\\u003cbr\\u003eequity: 9133.171069\\u003cbr\\u003emargin: 0.000000\\u003cbr\\u003efree margin: 9133.171069\\u003cbr\\u003emargin level: inf\",\"balance: 9133.171069 USD\\u003cbr\\u003eequity: 9133.171069\\u003cbr\\u003emargin: 0.000000\\u003cbr\\u003efree margin: 9133.171069\\u003cbr\\u003emargin level: inf\",\"balance: 9133.171069 USD\\u003cbr\\u003eequity: 9133.171069\\u003cbr\\u003emargin: 0.000000\\u003cbr\\u003efree margin: 9133.171069\\u003cbr\\u003emargin level: inf\",\"balance: 9133.171069 USD\\u003cbr\\u003eequity: 9133.171069\\u003cbr\\u003emargin: 0.000000\\u003cbr\\u003efree margin: 9133.171069\\u003cbr\\u003emargin level: inf\",\"balance: 9133.171069 USD\\u003cbr\\u003eequity: 9133.171069\\u003cbr\\u003emargin: 0.000000\\u003cbr\\u003efree margin: 9133.171069\\u003cbr\\u003emargin level: inf\",\"balance: 9133.171069 USD\\u003cbr\\u003eequity: 9133.171069\\u003cbr\\u003emargin: 0.000000\\u003cbr\\u003efree margin: 9133.171069\\u003cbr\\u003emargin level: inf\",\"balance: 9133.171069 USD\\u003cbr\\u003eequity: 9133.171069\\u003cbr\\u003emargin: 0.000000\\u003cbr\\u003efree margin: 9133.171069\\u003cbr\\u003emargin level: inf\",\"balance: 9133.171069 USD\\u003cbr\\u003eequity: 9133.171069\\u003cbr\\u003emargin: 0.000000\\u003cbr\\u003efree margin: 9133.171069\\u003cbr\\u003emargin level: inf\",\"balance: 9133.171069 USD\\u003cbr\\u003eequity: 9133.171069\\u003cbr\\u003emargin: 0.000000\\u003cbr\\u003efree margin: 9133.171069\\u003cbr\\u003emargin level: inf\",\"balance: 9133.171069 USD\\u003cbr\\u003eequity: 9133.171069\\u003cbr\\u003emargin: 0.000000\\u003cbr\\u003efree margin: 9133.171069\\u003cbr\\u003emargin level: inf\",\"balance: 9133.171069 USD\\u003cbr\\u003eequity: 9133.171069\\u003cbr\\u003emargin: 0.000000\\u003cbr\\u003efree margin: 9133.171069\\u003cbr\\u003emargin level: inf\",\"balance: 9133.171069 USD\\u003cbr\\u003eequity: 9133.171069\\u003cbr\\u003emargin: 0.000000\\u003cbr\\u003efree margin: 9133.171069\\u003cbr\\u003emargin level: inf\",\"balance: 9133.171069 USD\\u003cbr\\u003eequity: 9133.171069\\u003cbr\\u003emargin: 0.000000\\u003cbr\\u003efree margin: 9133.171069\\u003cbr\\u003emargin level: inf\",\"balance: 9133.171069 USD\\u003cbr\\u003eequity: 9133.171069\\u003cbr\\u003emargin: 0.000000\\u003cbr\\u003efree margin: 9133.171069\\u003cbr\\u003emargin level: inf\",\"balance: 9133.171069 USD\\u003cbr\\u003eequity: 9133.171069\\u003cbr\\u003emargin: 0.000000\\u003cbr\\u003efree margin: 9133.171069\\u003cbr\\u003emargin level: inf\",\"balance: 9133.171069 USD\\u003cbr\\u003eequity: 9133.171069\\u003cbr\\u003emargin: 0.000000\\u003cbr\\u003efree margin: 9133.171069\\u003cbr\\u003emargin level: inf\",\"balance: 9133.171069 USD\\u003cbr\\u003eequity: 9133.171069\\u003cbr\\u003emargin: 0.000000\\u003cbr\\u003efree margin: 9133.171069\\u003cbr\\u003emargin level: inf\",\"balance: 9133.171069 USD\\u003cbr\\u003eequity: 9133.171069\\u003cbr\\u003emargin: 0.000000\\u003cbr\\u003efree margin: 9133.171069\\u003cbr\\u003emargin level: inf\",\"balance: 9133.171069 USD\\u003cbr\\u003eequity: 8954.428199\\u003cbr\\u003emargin: 1116.475600\\u003cbr\\u003efree margin: 7837.952599\\u003cbr\\u003emargin level: 8.020263\",\"balance: 9133.171069 USD\\u003cbr\\u003eequity: 8161.195144\\u003cbr\\u003emargin: 1126.475600\\u003cbr\\u003efree margin: 7034.719544\\u003cbr\\u003emargin level: 7.244893\",\"balance: 9130.478014 USD\\u003cbr\\u003eequity: 8718.615144\\u003cbr\\u003emargin: 1116.475600\\u003cbr\\u003efree margin: 7602.139544\\u003cbr\\u003emargin level: 7.809051\",\"balance: 8718.615144 USD\\u003cbr\\u003eequity: 8718.615144\\u003cbr\\u003emargin: 0.000000\\u003cbr\\u003efree margin: 8718.615144\\u003cbr\\u003emargin level: inf\",\"balance: 8718.615144 USD\\u003cbr\\u003eequity: 8718.615144\\u003cbr\\u003emargin: 0.000000\\u003cbr\\u003efree margin: 8718.615144\\u003cbr\\u003emargin level: inf\",\"balance: 8718.615144 USD\\u003cbr\\u003eequity: 8718.615144\\u003cbr\\u003emargin: 0.000000\\u003cbr\\u003efree margin: 8718.615144\\u003cbr\\u003emargin level: inf\",\"balance: 8718.615144 USD\\u003cbr\\u003eequity: 8718.615144\\u003cbr\\u003emargin: 0.000000\\u003cbr\\u003efree margin: 8718.615144\\u003cbr\\u003emargin level: inf\",\"balance: 8718.615144 USD\\u003cbr\\u003eequity: 8718.615144\\u003cbr\\u003emargin: 0.000000\\u003cbr\\u003efree margin: 8718.615144\\u003cbr\\u003emargin level: inf\",\"balance: 8718.615144 USD\\u003cbr\\u003eequity: 8718.615144\\u003cbr\\u003emargin: 0.000000\\u003cbr\\u003efree margin: 8718.615144\\u003cbr\\u003emargin level: inf\",\"balance: 8718.615144 USD\\u003cbr\\u003eequity: 8718.615144\\u003cbr\\u003emargin: 0.000000\\u003cbr\\u003efree margin: 8718.615144\\u003cbr\\u003emargin level: inf\",\"balance: 8718.615144 USD\\u003cbr\\u003eequity: 7270.484885\\u003cbr\\u003emargin: 4731.097800\\u003cbr\\u003efree margin: 2539.387085\\u003cbr\\u003emargin level: 1.536744\",\"balance: 7270.484885 USD\\u003cbr\\u003eequity: 7270.484885\\u003cbr\\u003emargin: 0.000000\\u003cbr\\u003efree margin: 7270.484885\\u003cbr\\u003emargin level: inf\",\"balance: 7270.484885 USD\\u003cbr\\u003eequity: 7270.484885\\u003cbr\\u003emargin: 0.000000\\u003cbr\\u003efree margin: 7270.484885\\u003cbr\\u003emargin level: inf\",\"balance: 7270.484885 USD\\u003cbr\\u003eequity: 9469.621559\\u003cbr\\u003emargin: 6407.658100\\u003cbr\\u003efree margin: 3061.963459\\u003cbr\\u003emargin level: 1.477860\",\"balance: 9469.621559 USD\\u003cbr\\u003eequity: 9469.621559\\u003cbr\\u003emargin: 0.000000\\u003cbr\\u003efree margin: 9469.621559\\u003cbr\\u003emargin level: inf\",\"balance: 9469.621559 USD\\u003cbr\\u003eequity: 9469.621559\\u003cbr\\u003emargin: 0.000000\\u003cbr\\u003efree margin: 9469.621559\\u003cbr\\u003emargin level: inf\",\"balance: 9469.621559 USD\\u003cbr\\u003eequity: 9469.621559\\u003cbr\\u003emargin: 0.000000\\u003cbr\\u003efree margin: 9469.621559\\u003cbr\\u003emargin level: inf\",\"balance: 9469.621559 USD\\u003cbr\\u003eequity: 7446.991948\\u003cbr\\u003emargin: 4860.000000\\u003cbr\\u003efree margin: 2586.991948\\u003cbr\\u003emargin level: 1.532303\",\"balance: 9469.621559 USD\\u003cbr\\u003eequity: 6177.092051\\u003cbr\\u003emargin: 4860.000000\\u003cbr\\u003efree margin: 1317.092051\\u003cbr\\u003emargin level: 1.271007\",\"balance: 6177.092051 USD\\u003cbr\\u003eequity: 6177.092051\\u003cbr\\u003emargin: 0.000000\\u003cbr\\u003efree margin: 6177.092051\\u003cbr\\u003emargin level: inf\",\"balance: 6177.092051 USD\\u003cbr\\u003eequity: 6177.092051\\u003cbr\\u003emargin: 0.000000\\u003cbr\\u003efree margin: 6177.092051\\u003cbr\\u003emargin level: inf\",\"balance: 6177.092051 USD\\u003cbr\\u003eequity: 6177.092051\\u003cbr\\u003emargin: 0.000000\\u003cbr\\u003efree margin: 6177.092051\\u003cbr\\u003emargin level: inf\",\"balance: 6177.092051 USD\\u003cbr\\u003eequity: 6177.092051\\u003cbr\\u003emargin: 0.000000\\u003cbr\\u003efree margin: 6177.092051\\u003cbr\\u003emargin level: inf\",\"balance: 6177.092051 USD\\u003cbr\\u003eequity: 6177.092051\\u003cbr\\u003emargin: 0.000000\\u003cbr\\u003efree margin: 6177.092051\\u003cbr\\u003emargin level: inf\",\"balance: 6177.092051 USD\\u003cbr\\u003eequity: 6177.092051\\u003cbr\\u003emargin: 0.000000\\u003cbr\\u003efree margin: 6177.092051\\u003cbr\\u003emargin level: inf\",\"balance: 6177.092051 USD\\u003cbr\\u003eequity: 6177.092051\\u003cbr\\u003emargin: 0.000000\\u003cbr\\u003efree margin: 6177.092051\\u003cbr\\u003emargin level: inf\",\"balance: 6177.092051 USD\\u003cbr\\u003eequity: 6177.092051\\u003cbr\\u003emargin: 0.000000\\u003cbr\\u003efree margin: 6177.092051\\u003cbr\\u003emargin level: inf\",\"balance: 6177.092051 USD\\u003cbr\\u003eequity: 6177.092051\\u003cbr\\u003emargin: 0.000000\\u003cbr\\u003efree margin: 6177.092051\\u003cbr\\u003emargin level: inf\",\"balance: 6177.092051 USD\\u003cbr\\u003eequity: 6177.092051\\u003cbr\\u003emargin: 0.000000\\u003cbr\\u003efree margin: 6177.092051\\u003cbr\\u003emargin level: inf\",\"balance: 6177.092051 USD\\u003cbr\\u003eequity: 6177.092051\\u003cbr\\u003emargin: 0.000000\\u003cbr\\u003efree margin: 6177.092051\\u003cbr\\u003emargin level: inf\",\"balance: 6177.092051 USD\\u003cbr\\u003eequity: 6177.092051\\u003cbr\\u003emargin: 0.000000\\u003cbr\\u003efree margin: 6177.092051\\u003cbr\\u003emargin level: inf\",\"balance: 6177.092051 USD\\u003cbr\\u003eequity: 6177.092051\\u003cbr\\u003emargin: 0.000000\\u003cbr\\u003efree margin: 6177.092051\\u003cbr\\u003emargin level: inf\",\"balance: 6177.092051 USD\\u003cbr\\u003eequity: 6177.092051\\u003cbr\\u003emargin: 0.000000\\u003cbr\\u003efree margin: 6177.092051\\u003cbr\\u003emargin level: inf\",\"balance: 6177.092051 USD\\u003cbr\\u003eequity: 6177.092051\\u003cbr\\u003emargin: 0.000000\\u003cbr\\u003efree margin: 6177.092051\\u003cbr\\u003emargin level: inf\",\"balance: 6177.092051 USD\\u003cbr\\u003eequity: 6177.092051\\u003cbr\\u003emargin: 0.000000\\u003cbr\\u003efree margin: 6177.092051\\u003cbr\\u003emargin level: inf\",\"balance: 6177.092051 USD\\u003cbr\\u003eequity: 6177.092051\\u003cbr\\u003emargin: 0.000000\\u003cbr\\u003efree margin: 6177.092051\\u003cbr\\u003emargin level: inf\",\"balance: 6177.092051 USD\\u003cbr\\u003eequity: 6177.092051\\u003cbr\\u003emargin: 0.000000\\u003cbr\\u003efree margin: 6177.092051\\u003cbr\\u003emargin level: inf\",\"balance: 6177.092051 USD\\u003cbr\\u003eequity: 6177.092051\\u003cbr\\u003emargin: 0.000000\\u003cbr\\u003efree margin: 6177.092051\\u003cbr\\u003emargin level: inf\",\"balance: 6177.092051 USD\\u003cbr\\u003eequity: 6177.092051\\u003cbr\\u003emargin: 0.000000\\u003cbr\\u003efree margin: 6177.092051\\u003cbr\\u003emargin level: inf\",\"balance: 6177.092051 USD\\u003cbr\\u003eequity: 6310.851056\\u003cbr\\u003emargin: 710.000000\\u003cbr\\u003efree margin: 5600.851056\\u003cbr\\u003emargin level: 8.888523\"],\"legendgroup\":\"g1\",\"line\":{\"color\":\"rgba(0.12156862745098039, 0.4666666666666667, 0.7058823529411765, 1.0)\"},\"mode\":\"lines+markers\",\"name\":\"GBPCAD\",\"opacity\":1.0,\"x\":[\"2021-05-05T00:00:00+00:00\",\"2021-05-06T00:00:00+00:00\",\"2021-05-07T00:00:00+00:00\",\"2021-05-10T00:00:00+00:00\",\"2021-05-11T00:00:00+00:00\",\"2021-05-12T00:00:00+00:00\",\"2021-05-13T00:00:00+00:00\",\"2021-05-14T00:00:00+00:00\",\"2021-05-17T00:00:00+00:00\",\"2021-05-18T00:00:00+00:00\",\"2021-05-19T00:00:00+00:00\",\"2021-05-20T00:00:00+00:00\",\"2021-05-21T00:00:00+00:00\",\"2021-05-24T00:00:00+00:00\",\"2021-05-25T00:00:00+00:00\",\"2021-05-26T00:00:00+00:00\",\"2021-05-27T00:00:00+00:00\",\"2021-05-28T00:00:00+00:00\",\"2021-05-31T00:00:00+00:00\",\"2021-06-01T00:00:00+00:00\",\"2021-06-02T00:00:00+00:00\",\"2021-06-03T00:00:00+00:00\",\"2021-06-04T00:00:00+00:00\",\"2021-06-07T00:00:00+00:00\",\"2021-06-08T00:00:00+00:00\",\"2021-06-09T00:00:00+00:00\",\"2021-06-10T00:00:00+00:00\",\"2021-06-11T00:00:00+00:00\",\"2021-06-14T00:00:00+00:00\",\"2021-06-15T00:00:00+00:00\",\"2021-06-16T00:00:00+00:00\",\"2021-06-17T00:00:00+00:00\",\"2021-06-18T00:00:00+00:00\",\"2021-06-21T00:00:00+00:00\",\"2021-06-22T00:00:00+00:00\",\"2021-06-23T00:00:00+00:00\",\"2021-06-24T00:00:00+00:00\",\"2021-06-25T00:00:00+00:00\",\"2021-06-28T00:00:00+00:00\",\"2021-06-29T00:00:00+00:00\",\"2021-06-30T00:00:00+00:00\",\"2021-07-01T00:00:00+00:00\",\"2021-07-02T00:00:00+00:00\",\"2021-07-05T00:00:00+00:00\",\"2021-07-06T00:00:00+00:00\",\"2021-07-07T00:00:00+00:00\",\"2021-07-08T00:00:00+00:00\",\"2021-07-09T00:00:00+00:00\",\"2021-07-12T00:00:00+00:00\",\"2021-07-13T00:00:00+00:00\",\"2021-07-14T00:00:00+00:00\",\"2021-07-15T00:00:00+00:00\",\"2021-07-16T00:00:00+00:00\",\"2021-07-19T00:00:00+00:00\",\"2021-07-20T00:00:00+00:00\",\"2021-07-21T00:00:00+00:00\",\"2021-07-22T00:00:00+00:00\",\"2021-07-23T00:00:00+00:00\",\"2021-07-26T00:00:00+00:00\",\"2021-07-27T00:00:00+00:00\",\"2021-07-28T00:00:00+00:00\",\"2021-07-29T00:00:00+00:00\",\"2021-07-30T00:00:00+00:00\",\"2021-08-02T00:00:00+00:00\",\"2021-08-03T00:00:00+00:00\",\"2021-08-04T00:00:00+00:00\",\"2021-08-05T00:00:00+00:00\",\"2021-08-06T00:00:00+00:00\",\"2021-08-09T00:00:00+00:00\",\"2021-08-10T00:00:00+00:00\",\"2021-08-11T00:00:00+00:00\",\"2021-08-12T00:00:00+00:00\",\"2021-08-13T00:00:00+00:00\",\"2021-08-16T00:00:00+00:00\",\"2021-08-17T00:00:00+00:00\",\"2021-08-18T00:00:00+00:00\",\"2021-08-19T00:00:00+00:00\",\"2021-08-20T00:00:00+00:00\",\"2021-08-23T00:00:00+00:00\",\"2021-08-24T00:00:00+00:00\",\"2021-08-25T00:00:00+00:00\",\"2021-08-26T00:00:00+00:00\",\"2021-08-27T00:00:00+00:00\",\"2021-08-30T00:00:00+00:00\",\"2021-08-31T00:00:00+00:00\",\"2021-09-01T00:00:00+00:00\",\"2021-09-02T00:00:00+00:00\",\"2021-09-03T00:00:00+00:00\"],\"y\":[1.70525,1.68648,1.69619,1.7070699999999999,1.71108,1.70468,1.7082899999999999,1.70635,1.7059199999999999,1.71128,1.71211,1.7107,1.70726,1.7044000000000001,1.7066,1.71089,1.71345,1.71356,1.7132399999999999,1.70755,1.70462,1.7068400000000001,1.70999,1.71255,1.7139199999999999,1.70927,1.71433,1.71691,1.71341,1.71492,1.71638,1.71949,1.72017,1.72173,1.7158099999999998,1.7177,1.7149299999999998,1.70721,1.71244,1.71535,1.71437,1.71059,1.70511,1.70716,1.71879,1.72167,1.72692,1.7307000000000001,1.72832,1.72767,1.73236,1.7407,1.73684,1.74244,1.7273800000000001,1.72183,1.72851,1.72728,1.73336,1.7481900000000001,1.7405300000000001,1.73688,1.73335,1.73577,1.7441499999999999,1.7412999999999998,1.7408299999999999,1.7419799999999999,1.7408000000000001,1.7316500000000001,1.73282,1.72889,1.7357200000000002,1.7402199999999999,1.7349700000000001,1.74061,1.74874,1.7468,1.73506,1.72784,1.73259,1.7377,1.7353399999999999,1.7338900000000002,1.73501,1.7372800000000002,1.73603,1.7362600000000001],\"yaxis\":\"y\",\"type\":\"scatter\"},{\"hovertext\":[\"order id: \\u003cbr\\u003ehold probability: 0.0000\\u003cbr\\u003ehold: False\\u003cbr\\u003evolume: 21.247283\\u003cbr\\u003emodified volume: 21.2500\\u003cbr\\u003efee: nan\\u003cbr\\u003emargin: nan\\u003cbr\\u003eerror: low free margin (order margin=30142.903324740342, order profit=-1146.2313314354074, free margin=10000.0)\",\"order id: \\u003cbr\\u003ehold probability: 0.0000\\u003cbr\\u003ehold: False\\u003cbr\\u003evolume: 48.445985\\u003cbr\\u003emodified volume: 35.0000\\u003cbr\\u003efee: nan\\u003cbr\\u003emargin: nan\\u003cbr\\u003eerror: low free margin (order margin=49526.81309573146, order profit=-1930.998980923908, free margin=10000.0)\",\"order id: \\u003cbr\\u003ehold probability: 0.0000\\u003cbr\\u003ehold: False\\u003cbr\\u003evolume: -38.914950\\u003cbr\\u003emodified volume: 35.0000\\u003cbr\\u003efee: nan\\u003cbr\\u003emargin: nan\\u003cbr\\u003eerror: low free margin (order margin=49507.25646699986, order profit=-2125.519960248934, free margin=10000.0)\",\"order id: 1\\u003cbr\\u003ehold probability: 0.0000\\u003cbr\\u003ehold: False\\u003cbr\\u003evolume: -2.620002\\u003cbr\\u003emodified volume: 2.6200\\u003cbr\\u003efee: 0.000738\\u003cbr\\u003emargin: 3698.000907\\u003cbr\\u003eerror: \",\"order id: \\u003cbr\\u003ehold probability: 0.0000\\u003cbr\\u003ehold: False\\u003cbr\\u003evolume: 78.156858\\u003cbr\\u003emodified volume: 35.0000\\u003cbr\\u003efee: nan\\u003cbr\\u003emargin: nan\\u003cbr\\u003eerror: low free margin (order margin=49712.23916233492, order profit=-1947.3489550023482, free margin=9260.78199442195)\",\"order id: \\u003cbr\\u003ehold probability: 0.0000\\u003cbr\\u003ehold: False\\u003cbr\\u003evolume: -30.766024\\u003cbr\\u003emodified volume: 30.7700\\u003cbr\\u003efee: nan\\u003cbr\\u003emargin: nan\\u003cbr\\u003eerror: low free margin (order margin=43533.02469902977, order profit=-1751.275710254574, free margin=9260.78199442195)\",\"order id: \\u003cbr\\u003ehold probability: 0.0013\\u003cbr\\u003ehold: False\\u003cbr\\u003evolume: 8.993967\\u003cbr\\u003emodified volume: 8.9900\\u003cbr\\u003efee: nan\\u003cbr\\u003emargin: nan\\u003cbr\\u003eerror: low free margin (order margin=12736.163327044706, order profit=-519.3944161330102, free margin=6055.595869066569)\",\"order id: \\u003cbr\\u003ehold probability: 0.0000\\u003cbr\\u003ehold: False\\u003cbr\\u003evolume: -70.163684\\u003cbr\\u003emodified volume: 35.0000\\u003cbr\\u003efee: nan\\u003cbr\\u003emargin: nan\\u003cbr\\u003eerror: low free margin (order margin=49624.33560180816, order profit=-2035.1199887302316, free margin=9133.17106906657)\",\"order id: \\u003cbr\\u003ehold probability: 0.0000\\u003cbr\\u003ehold: False\\u003cbr\\u003evolume: -98.827313\\u003cbr\\u003emodified volume: 35.0000\\u003cbr\\u003efee: nan\\u003cbr\\u003emargin: nan\\u003cbr\\u003eerror: low free margin (order margin=49543.851534948255, order profit=-2452.434079872507, free margin=9133.17106906657)\",\"order id: \\u003cbr\\u003ehold probability: 0.0000\\u003cbr\\u003ehold: False\\u003cbr\\u003evolume: 29.373867\\u003cbr\\u003emodified volume: 29.3700\\u003cbr\\u003efee: nan\\u003cbr\\u003emargin: nan\\u003cbr\\u003eerror: low free margin (order margin=41460.547315042706, order profit=-1744.9588299140462, free margin=9133.17106906657)\",\"order id: \\u003cbr\\u003ehold probability: 0.0000\\u003cbr\\u003ehold: False\\u003cbr\\u003evolume: -29.691461\\u003cbr\\u003emodified volume: 29.6900\\u003cbr\\u003efee: nan\\u003cbr\\u003emargin: nan\\u003cbr\\u003eerror: low free margin (order margin=41890.97466175877, order profit=-1862.1946842467255, free margin=9133.17106906657)\",\"order id: \\u003cbr\\u003ehold probability: 0.0000\\u003cbr\\u003ehold: False\\u003cbr\\u003evolume: 48.649918\\u003cbr\\u003emodified volume: 35.0000\\u003cbr\\u003efee: nan\\u003cbr\\u003emargin: nan\\u003cbr\\u003eerror: low free margin (order margin=48937.159894424716, order profit=-1886.7152479654535, free margin=9133.17106906657)\",\"order id: \\u003cbr\\u003ehold probability: 0.0000\\u003cbr\\u003ehold: False\\u003cbr\\u003evolume: -33.084660\\u003cbr\\u003emodified volume: 33.0800\\u003cbr\\u003efee: nan\\u003cbr\\u003emargin: nan\\u003cbr\\u003eerror: low free margin (order margin=46044.221637592585, order profit=-1754.0432575088382, free margin=9133.17106906657)\",\"order id: \\u003cbr\\u003ehold probability: 0.0000\\u003cbr\\u003ehold: False\\u003cbr\\u003evolume: 12.492729\\u003cbr\\u003emodified volume: 12.4900\\u003cbr\\u003efee: nan\\u003cbr\\u003emargin: nan\\u003cbr\\u003eerror: low free margin (order margin=17231.36167141196, order profit=-716.1005457601381, free margin=9133.17106906657)\",\"order id: \\u003cbr\\u003ehold probability: 0.0000\\u003cbr\\u003ehold: False\\u003cbr\\u003evolume: -60.270088\\u003cbr\\u003emodified volume: 35.0000\\u003cbr\\u003efee: nan\\u003cbr\\u003emargin: nan\\u003cbr\\u003eerror: low free margin (order margin=48751.33486505728, order profit=-1885.1951625381241, free margin=9133.17106906657)\",\"order id: \\u003cbr\\u003ehold probability: 0.0000\\u003cbr\\u003ehold: False\\u003cbr\\u003evolume: -30.494598\\u003cbr\\u003emodified volume: 30.4900\\u003cbr\\u003efee: nan\\u003cbr\\u003emargin: nan\\u003cbr\\u003eerror: low free margin (order margin=42565.9124342688, order profit=-1731.0679986715295, free margin=9133.17106906657)\",\"order id: \\u003cbr\\u003ehold probability: 0.0000\\u003cbr\\u003ehold: False\\u003cbr\\u003evolume: -41.729847\\u003cbr\\u003emodified volume: 35.0000\\u003cbr\\u003efee: nan\\u003cbr\\u003emargin: nan\\u003cbr\\u003eerror: low free margin (order margin=48401.185770750984, order profit=-1796.406594417608, free margin=9133.17106906657)\",\"order id: \\u003cbr\\u003ehold probability: 0.0000\\u003cbr\\u003ehold: False\\u003cbr\\u003evolume: -34.326062\\u003cbr\\u003emodified volume: 34.3300\\u003cbr\\u003efee: nan\\u003cbr\\u003emargin: nan\\u003cbr\\u003eerror: low free margin (order margin=47488.35438730118, order profit=-1930.882296233497, free margin=9133.17106906657)\",\"order id: \\u003cbr\\u003ehold probability: 0.0000\\u003cbr\\u003ehold: False\\u003cbr\\u003evolume: 54.480632\\u003cbr\\u003emodified volume: 35.0000\\u003cbr\\u003efee: nan\\u003cbr\\u003emargin: nan\\u003cbr\\u003eerror: low free margin (order margin=48279.37217575232, order profit=-1957.604479532055, free margin=9133.17106906657)\",\"order id: \\u003cbr\\u003ehold probability: 0.0000\\u003cbr\\u003ehold: False\\u003cbr\\u003evolume: -5.397286\\u003cbr\\u003emodified volume: 5.4000\\u003cbr\\u003efee: nan\\u003cbr\\u003emargin: nan\\u003cbr\\u003eerror: low free margin (order margin=7455.661221749832, order profit=-316.21445829739315, free margin=7034.719543900145)\",\"order id: \\u003cbr\\u003ehold probability: 0.0000\\u003cbr\\u003ehold: False\\u003cbr\\u003evolume: -88.223994\\u003cbr\\u003emodified volume: 35.0000\\u003cbr\\u003efee: nan\\u003cbr\\u003emargin: nan\\u003cbr\\u003eerror: low free margin (order margin=48473.505804099645, order profit=-1901.5944427718566, free margin=7602.139543900144)\",\"order id: \\u003cbr\\u003ehold probability: 0.0018\\u003cbr\\u003ehold: False\\u003cbr\\u003evolume: 98.435914\\u003cbr\\u003emodified volume: 35.0000\\u003cbr\\u003efee: nan\\u003cbr\\u003emargin: nan\\u003cbr\\u003eerror: low free margin (order margin=48378.502854692575, order profit=-1898.451914096738, free margin=8718.615143900144)\",\"order id: \\u003cbr\\u003ehold probability: 0.0000\\u003cbr\\u003ehold: False\\u003cbr\\u003evolume: 99.066039\\u003cbr\\u003emodified volume: 35.0000\\u003cbr\\u003efee: nan\\u003cbr\\u003emargin: nan\\u003cbr\\u003eerror: low free margin (order margin=48178.64077669903, order profit=-1868.0283242697135, free margin=8718.615143900144)\",\"order id: \\u003cbr\\u003ehold probability: 0.0000\\u003cbr\\u003ehold: False\\u003cbr\\u003evolume: 53.679913\\u003cbr\\u003emodified volume: 35.0000\\u003cbr\\u003efee: nan\\u003cbr\\u003emargin: nan\\u003cbr\\u003eerror: low free margin (order margin=47848.94942489055, order profit=-2020.5392987076302, free margin=8718.615143900144)\",\"order id: \\u003cbr\\u003ehold probability: 0.0000\\u003cbr\\u003ehold: False\\u003cbr\\u003evolume: -13.471338\\u003cbr\\u003emodified volume: 13.4700\\u003cbr\\u003efee: nan\\u003cbr\\u003emargin: nan\\u003cbr\\u003eerror: low free margin (order margin=18465.80421974522, order profit=-794.7909272805507, free margin=8718.615143900144)\",\"order id: \\u003cbr\\u003ehold probability: 0.0000\\u003cbr\\u003ehold: False\\u003cbr\\u003evolume: 52.831003\\u003cbr\\u003emodified volume: 35.0000\\u003cbr\\u003efee: nan\\u003cbr\\u003emargin: nan\\u003cbr\\u003eerror: low free margin (order margin=48165.9275654244, order profit=-1787.1436145371326, free margin=8718.615143900144)\",\"order id: \\u003cbr\\u003ehold probability: 0.0000\\u003cbr\\u003ehold: False\\u003cbr\\u003evolume: 99.360558\\u003cbr\\u003emodified volume: 35.0000\\u003cbr\\u003efee: nan\\u003cbr\\u003emargin: nan\\u003cbr\\u003eerror: low free margin (order margin=48112.117401754025, order profit=-2168.4973189793955, free margin=8718.615143900144)\",\"order id: \\u003cbr\\u003ehold probability: 0.0000\\u003cbr\\u003ehold: False\\u003cbr\\u003evolume: -88.707268\\u003cbr\\u003emodified volume: 35.0000\\u003cbr\\u003efee: nan\\u003cbr\\u003emargin: nan\\u003cbr\\u003eerror: low free margin (order margin=48354.20236719404, order profit=-2154.9982657456944, free margin=2539.3870851826714)\",\"order id: \\u003cbr\\u003ehold probability: 0.0000\\u003cbr\\u003ehold: False\\u003cbr\\u003evolume: -30.269476\\u003cbr\\u003emodified volume: 30.2700\\u003cbr\\u003efee: nan\\u003cbr\\u003emargin: nan\\u003cbr\\u003eerror: low free margin (order margin=42067.232318231916, order profit=-1591.0625501077839, free margin=7270.484885182672)\",\"order id: \\u003cbr\\u003ehold probability: 0.0000\\u003cbr\\u003ehold: False\\u003cbr\\u003evolume: 15.196229\\u003cbr\\u003emodified volume: 15.2000\\u003cbr\\u003efee: nan\\u003cbr\\u003emargin: nan\\u003cbr\\u003eerror: low free margin (order margin=21138.58423125988, order profit=-735.9086750572756, free margin=9469.621559313784)\",\"order id: \\u003cbr\\u003ehold probability: 0.0000\\u003cbr\\u003ehold: False\\u003cbr\\u003evolume: 26.252751\\u003cbr\\u003emodified volume: 26.2500\\u003cbr\\u003efee: nan\\u003cbr\\u003emargin: nan\\u003cbr\\u003eerror: low free margin (order margin=36441.257977830035, order profit=-1601.0862882064519, free margin=9469.621559313784)\",\"order id: \\u003cbr\\u003ehold probability: 0.0000\\u003cbr\\u003ehold: False\\u003cbr\\u003evolume: 40.477830\\u003cbr\\u003emodified volume: 35.0000\\u003cbr\\u003efee: nan\\u003cbr\\u003emargin: nan\\u003cbr\\u003eerror: low free margin (order margin=48600.87719298245, order profit=-1992.9853615885736, free margin=2586.9919483369367)\",\"order id: \\u003cbr\\u003ehold probability: 0.0000\\u003cbr\\u003ehold: False\\u003cbr\\u003evolume: -86.781804\\u003cbr\\u003emodified volume: 35.0000\\u003cbr\\u003efee: nan\\u003cbr\\u003emargin: nan\\u003cbr\\u003eerror: low free margin (order margin=48442.444384371964, order profit=-2071.831847988481, free margin=6177.092050631586)\",\"order id: \\u003cbr\\u003ehold probability: 0.0000\\u003cbr\\u003ehold: False\\u003cbr\\u003evolume: 99.289664\\u003cbr\\u003emodified volume: 35.0000\\u003cbr\\u003efee: nan\\u003cbr\\u003emargin: nan\\u003cbr\\u003eerror: low free margin (order margin=48512.7503679529, order profit=-2065.5941999824718, free margin=6177.092050631586)\",\"order id: \\u003cbr\\u003ehold probability: 0.0000\\u003cbr\\u003ehold: False\\u003cbr\\u003evolume: -75.488325\\u003cbr\\u003emodified volume: 35.0000\\u003cbr\\u003efee: nan\\u003cbr\\u003emargin: nan\\u003cbr\\u003eerror: low free margin (order margin=48327.34344426608, order profit=-1795.717127685511, free margin=6177.092050631586)\",\"order id: \\u003cbr\\u003ehold probability: 0.1819\\u003cbr\\u003ehold: False\\u003cbr\\u003evolume: -47.736491\\u003cbr\\u003emodified volume: 35.0000\\u003cbr\\u003efee: nan\\u003cbr\\u003emargin: nan\\u003cbr\\u003eerror: low free margin (order margin=48450.18773068601, order profit=-1930.6996362767652, free margin=6177.092050631586)\",\"order id: \\u003cbr\\u003ehold probability: 0.0001\\u003cbr\\u003ehold: False\\u003cbr\\u003evolume: -12.050331\\u003cbr\\u003emodified volume: 12.0500\\u003cbr\\u003efee: nan\\u003cbr\\u003emargin: nan\\u003cbr\\u003eerror: low free margin (order margin=16429.375487291436, order profit=-596.177530514714, free margin=6177.092050631586)\",\"order id: \\u003cbr\\u003ehold probability: 0.0000\\u003cbr\\u003ehold: False\\u003cbr\\u003evolume: -16.424036\\u003cbr\\u003emodified volume: 16.4200\\u003cbr\\u003efee: nan\\u003cbr\\u003emargin: nan\\u003cbr\\u003eerror: low free margin (order margin=22366.75530463127, order profit=-794.7471529485695, free margin=6177.092050631586)\",\"order id: \\u003cbr\\u003ehold probability: 0.0000\\u003cbr\\u003ehold: False\\u003cbr\\u003evolume: -97.303974\\u003cbr\\u003emodified volume: 35.0000\\u003cbr\\u003efee: nan\\u003cbr\\u003emargin: nan\\u003cbr\\u003eerror: low free margin (order margin=48137.79736660616, order profit=-1811.1793407132902, free margin=6177.092050631586)\",\"order id: \\u003cbr\\u003ehold probability: 0.0000\\u003cbr\\u003ehold: False\\u003cbr\\u003evolume: 65.781929\\u003cbr\\u003emodified volume: 35.0000\\u003cbr\\u003efee: nan\\u003cbr\\u003emargin: nan\\u003cbr\\u003eerror: low free margin (order margin=48187.02698418989, order profit=-2105.48869627202, free margin=6177.092050631586)\"],\"legendgroup\":\"g1\",\"marker\":{\"color\":[\"gray\",\"gray\",\"gray\",\"red\",\"gray\",\"gray\",\"gray\",\"gray\",\"gray\",\"gray\",\"gray\",\"gray\",\"gray\",\"gray\",\"gray\",\"gray\",\"gray\",\"gray\",\"gray\",\"gray\",\"gray\",\"gray\",\"gray\",\"gray\",\"gray\",\"gray\",\"gray\",\"gray\",\"gray\",\"gray\",\"gray\",\"gray\",\"gray\",\"gray\",\"gray\",\"gray\",\"gray\",\"gray\",\"gray\",\"gray\"],\"size\":[21.357142857142854,30.0,30.0,9.646857142857144,30.0,27.341142857142856,13.650857142857141,30.0,30.0,26.461142857142857,26.662285714285716,30.0,28.793142857142854,15.850857142857144,30.0,27.165142857142857,30.0,29.578857142857142,30.0,11.394285714285715,30.0,30.0,30.0,30.0,16.466857142857144,30.0,30.0,30.0,27.026857142857143,17.554285714285715,24.5,30.0,30.0,30.0,30.0,30.0,15.574285714285715,18.32114285714286,30.0,30.0],\"symbol\":[\"triangle-down\",\"triangle-down\",\"triangle-down\",\"triangle-down\",\"triangle-down\",\"triangle-down\",\"triangle-down\",\"triangle-down\",\"triangle-down\",\"triangle-down\",\"triangle-down\",\"triangle-down\",\"triangle-down\",\"triangle-down\",\"triangle-down\",\"triangle-down\",\"triangle-down\",\"triangle-down\",\"triangle-down\",\"triangle-down\",\"triangle-down\",\"triangle-down\",\"triangle-down\",\"triangle-down\",\"triangle-down\",\"triangle-down\",\"triangle-down\",\"triangle-down\",\"triangle-down\",\"triangle-down\",\"triangle-down\",\"triangle-down\",\"triangle-down\",\"triangle-down\",\"triangle-down\",\"triangle-down\",\"triangle-down\",\"triangle-down\",\"triangle-down\",\"triangle-down\"]},\"mode\":\"markers\",\"name\":\"GBPCAD\",\"showlegend\":false,\"x\":[\"2021-05-18T00:00:00+00:00\",\"2021-05-21T00:00:00+00:00\",\"2021-05-25T00:00:00+00:00\",\"2021-05-26T00:00:00+00:00\",\"2021-05-31T00:00:00+00:00\",\"2021-06-01T00:00:00+00:00\",\"2021-06-02T00:00:00+00:00\",\"2021-06-07T00:00:00+00:00\",\"2021-06-08T00:00:00+00:00\",\"2021-06-09T00:00:00+00:00\",\"2021-06-14T00:00:00+00:00\",\"2021-06-16T00:00:00+00:00\",\"2021-06-17T00:00:00+00:00\",\"2021-06-18T00:00:00+00:00\",\"2021-06-21T00:00:00+00:00\",\"2021-06-23T00:00:00+00:00\",\"2021-06-30T00:00:00+00:00\",\"2021-07-05T00:00:00+00:00\",\"2021-07-07T00:00:00+00:00\",\"2021-07-13T00:00:00+00:00\",\"2021-07-14T00:00:00+00:00\",\"2021-07-15T00:00:00+00:00\",\"2021-07-16T00:00:00+00:00\",\"2021-07-19T00:00:00+00:00\",\"2021-07-21T00:00:00+00:00\",\"2021-07-22T00:00:00+00:00\",\"2021-07-23T00:00:00+00:00\",\"2021-07-26T00:00:00+00:00\",\"2021-07-28T00:00:00+00:00\",\"2021-07-30T00:00:00+00:00\",\"2021-08-02T00:00:00+00:00\",\"2021-08-04T00:00:00+00:00\",\"2021-08-09T00:00:00+00:00\",\"2021-08-11T00:00:00+00:00\",\"2021-08-12T00:00:00+00:00\",\"2021-08-16T00:00:00+00:00\",\"2021-08-19T00:00:00+00:00\",\"2021-08-20T00:00:00+00:00\",\"2021-08-31T00:00:00+00:00\",\"2021-09-01T00:00:00+00:00\"],\"y\":[1.71128,1.70726,1.7066,1.71089,1.7132399999999999,1.70755,1.70462,1.71255,1.7139199999999999,1.70927,1.71341,1.71638,1.71949,1.72017,1.72173,1.7177,1.71437,1.70716,1.72167,1.72767,1.73236,1.7407,1.73684,1.74244,1.72183,1.72851,1.72728,1.73336,1.7405300000000001,1.73335,1.73577,1.7412999999999998,1.7408000000000001,1.73282,1.72889,1.7402199999999999,1.74874,1.7468,1.73501,1.7372800000000002],\"yaxis\":\"y\",\"type\":\"scatter\"},{\"hovertext\":[\"order id: 1\\u003cbr\\u003eorder type: Sell\\u003cbr\\u003eclose probability: 1.0000\\u003cbr\\u003emargin: 3698.000907\\u003cbr\\u003eprofit: -739.218006\"],\"legendgroup\":\"g1\",\"marker\":{\"color\":\"black\",\"line\":{\"width\":1.5},\"size\":7,\"symbol\":\"line-ns\"},\"mode\":\"markers\",\"name\":\"GBPCAD\",\"showlegend\":false,\"x\":[\"2021-05-28T00:00:00+00:00\"],\"y\":[1.71356],\"yaxis\":\"y\",\"type\":\"scatter\"},{\"hovertext\":[\"balance: 10000.000000 USD\\u003cbr\\u003eequity: 10000.000000\\u003cbr\\u003emargin: 0.000000\\u003cbr\\u003efree margin: 10000.000000\\u003cbr\\u003emargin level: inf\",\"balance: 10000.000000 USD\\u003cbr\\u003eequity: 10000.000000\\u003cbr\\u003emargin: 0.000000\\u003cbr\\u003efree margin: 10000.000000\\u003cbr\\u003emargin level: inf\",\"balance: 10000.000000 USD\\u003cbr\\u003eequity: 10000.000000\\u003cbr\\u003emargin: 0.000000\\u003cbr\\u003efree margin: 10000.000000\\u003cbr\\u003emargin level: inf\",\"balance: 10000.000000 USD\\u003cbr\\u003eequity: 10000.000000\\u003cbr\\u003emargin: 0.000000\\u003cbr\\u003efree margin: 10000.000000\\u003cbr\\u003emargin level: inf\",\"balance: 10000.000000 USD\\u003cbr\\u003eequity: 10000.000000\\u003cbr\\u003emargin: 0.000000\\u003cbr\\u003efree margin: 10000.000000\\u003cbr\\u003emargin level: inf\",\"balance: 10000.000000 USD\\u003cbr\\u003eequity: 10000.000000\\u003cbr\\u003emargin: 0.000000\\u003cbr\\u003efree margin: 10000.000000\\u003cbr\\u003emargin level: inf\",\"balance: 10000.000000 USD\\u003cbr\\u003eequity: 10000.000000\\u003cbr\\u003emargin: 0.000000\\u003cbr\\u003efree margin: 10000.000000\\u003cbr\\u003emargin level: inf\",\"balance: 10000.000000 USD\\u003cbr\\u003eequity: 10000.000000\\u003cbr\\u003emargin: 0.000000\\u003cbr\\u003efree margin: 10000.000000\\u003cbr\\u003emargin level: inf\",\"balance: 10000.000000 USD\\u003cbr\\u003eequity: 10000.000000\\u003cbr\\u003emargin: 0.000000\\u003cbr\\u003efree margin: 10000.000000\\u003cbr\\u003emargin level: inf\",\"balance: 10000.000000 USD\\u003cbr\\u003eequity: 10000.000000\\u003cbr\\u003emargin: 0.000000\\u003cbr\\u003efree margin: 10000.000000\\u003cbr\\u003emargin level: inf\",\"balance: 10000.000000 USD\\u003cbr\\u003eequity: 10000.000000\\u003cbr\\u003emargin: 0.000000\\u003cbr\\u003efree margin: 10000.000000\\u003cbr\\u003emargin level: inf\",\"balance: 10000.000000 USD\\u003cbr\\u003eequity: 10000.000000\\u003cbr\\u003emargin: 0.000000\\u003cbr\\u003efree margin: 10000.000000\\u003cbr\\u003emargin level: inf\",\"balance: 10000.000000 USD\\u003cbr\\u003eequity: 10000.000000\\u003cbr\\u003emargin: 0.000000\\u003cbr\\u003efree margin: 10000.000000\\u003cbr\\u003emargin level: inf\",\"balance: 10000.000000 USD\\u003cbr\\u003eequity: 10000.000000\\u003cbr\\u003emargin: 0.000000\\u003cbr\\u003efree margin: 10000.000000\\u003cbr\\u003emargin level: inf\",\"balance: 10000.000000 USD\\u003cbr\\u003eequity: 10000.000000\\u003cbr\\u003emargin: 0.000000\\u003cbr\\u003efree margin: 10000.000000\\u003cbr\\u003emargin level: inf\",\"balance: 10000.000000 USD\\u003cbr\\u003eequity: 10000.000000\\u003cbr\\u003emargin: 0.000000\\u003cbr\\u003efree margin: 10000.000000\\u003cbr\\u003emargin level: inf\",\"balance: 10000.000000 USD\\u003cbr\\u003eequity: 9283.968684\\u003cbr\\u003emargin: 3698.000907\\u003cbr\\u003efree margin: 5585.967776\\u003cbr\\u003emargin level: 2.510537\",\"balance: 10000.000000 USD\\u003cbr\\u003eequity: 9260.781994\\u003cbr\\u003emargin: 3698.000907\\u003cbr\\u003efree margin: 5562.781087\\u003cbr\\u003emargin level: 2.504267\",\"balance: 9260.781994 USD\\u003cbr\\u003eequity: 9260.781994\\u003cbr\\u003emargin: 0.000000\\u003cbr\\u003efree margin: 9260.781994\\u003cbr\\u003emargin level: inf\",\"balance: 9260.781994 USD\\u003cbr\\u003eequity: 9260.781994\\u003cbr\\u003emargin: 0.000000\\u003cbr\\u003efree margin: 9260.781994\\u003cbr\\u003emargin level: inf\",\"balance: 9260.781994 USD\\u003cbr\\u003eequity: 9133.171069\\u003cbr\\u003emargin: 3077.575200\\u003cbr\\u003efree margin: 6055.595869\\u003cbr\\u003emargin level: 2.967652\",\"balance: 9133.171069 USD\\u003cbr\\u003eequity: 9133.171069\\u003cbr\\u003emargin: 0.000000\\u003cbr\\u003efree margin: 9133.171069\\u003cbr\\u003emargin level: inf\",\"balance: 9133.171069 USD\\u003cbr\\u003eequity: 9133.171069\\u003cbr\\u003emargin: 0.000000\\u003cbr\\u003efree margin: 9133.171069\\u003cbr\\u003emargin level: inf\",\"balance: 9133.171069 USD\\u003cbr\\u003eequity: 9133.171069\\u003cbr\\u003emargin: 0.000000\\u003cbr\\u003efree margin: 9133.171069\\u003cbr\\u003emargin level: inf\",\"balance: 9133.171069 USD\\u003cbr\\u003eequity: 9133.171069\\u003cbr\\u003emargin: 0.000000\\u003cbr\\u003efree margin: 9133.171069\\u003cbr\\u003emargin level: inf\",\"balance: 9133.171069 USD\\u003cbr\\u003eequity: 9133.171069\\u003cbr\\u003emargin: 0.000000\\u003cbr\\u003efree margin: 9133.171069\\u003cbr\\u003emargin level: inf\",\"balance: 9133.171069 USD\\u003cbr\\u003eequity: 9133.171069\\u003cbr\\u003emargin: 0.000000\\u003cbr\\u003efree margin: 9133.171069\\u003cbr\\u003emargin level: inf\",\"balance: 9133.171069 USD\\u003cbr\\u003eequity: 9133.171069\\u003cbr\\u003emargin: 0.000000\\u003cbr\\u003efree margin: 9133.171069\\u003cbr\\u003emargin level: inf\",\"balance: 9133.171069 USD\\u003cbr\\u003eequity: 9133.171069\\u003cbr\\u003emargin: 0.000000\\u003cbr\\u003efree margin: 9133.171069\\u003cbr\\u003emargin level: inf\",\"balance: 9133.171069 USD\\u003cbr\\u003eequity: 9133.171069\\u003cbr\\u003emargin: 0.000000\\u003cbr\\u003efree margin: 9133.171069\\u003cbr\\u003emargin level: inf\",\"balance: 9133.171069 USD\\u003cbr\\u003eequity: 9133.171069\\u003cbr\\u003emargin: 0.000000\\u003cbr\\u003efree margin: 9133.171069\\u003cbr\\u003emargin level: inf\",\"balance: 9133.171069 USD\\u003cbr\\u003eequity: 9133.171069\\u003cbr\\u003emargin: 0.000000\\u003cbr\\u003efree margin: 9133.171069\\u003cbr\\u003emargin level: inf\",\"balance: 9133.171069 USD\\u003cbr\\u003eequity: 9133.171069\\u003cbr\\u003emargin: 0.000000\\u003cbr\\u003efree margin: 9133.171069\\u003cbr\\u003emargin level: inf\",\"balance: 9133.171069 USD\\u003cbr\\u003eequity: 9133.171069\\u003cbr\\u003emargin: 0.000000\\u003cbr\\u003efree margin: 9133.171069\\u003cbr\\u003emargin level: inf\",\"balance: 9133.171069 USD\\u003cbr\\u003eequity: 9133.171069\\u003cbr\\u003emargin: 0.000000\\u003cbr\\u003efree margin: 9133.171069\\u003cbr\\u003emargin level: inf\",\"balance: 9133.171069 USD\\u003cbr\\u003eequity: 9133.171069\\u003cbr\\u003emargin: 0.000000\\u003cbr\\u003efree margin: 9133.171069\\u003cbr\\u003emargin level: inf\",\"balance: 9133.171069 USD\\u003cbr\\u003eequity: 9133.171069\\u003cbr\\u003emargin: 0.000000\\u003cbr\\u003efree margin: 9133.171069\\u003cbr\\u003emargin level: inf\",\"balance: 9133.171069 USD\\u003cbr\\u003eequity: 9133.171069\\u003cbr\\u003emargin: 0.000000\\u003cbr\\u003efree margin: 9133.171069\\u003cbr\\u003emargin level: inf\",\"balance: 9133.171069 USD\\u003cbr\\u003eequity: 9133.171069\\u003cbr\\u003emargin: 0.000000\\u003cbr\\u003efree margin: 9133.171069\\u003cbr\\u003emargin level: inf\",\"balance: 9133.171069 USD\\u003cbr\\u003eequity: 9133.171069\\u003cbr\\u003emargin: 0.000000\\u003cbr\\u003efree margin: 9133.171069\\u003cbr\\u003emargin level: inf\",\"balance: 9133.171069 USD\\u003cbr\\u003eequity: 9133.171069\\u003cbr\\u003emargin: 0.000000\\u003cbr\\u003efree margin: 9133.171069\\u003cbr\\u003emargin level: inf\",\"balance: 9133.171069 USD\\u003cbr\\u003eequity: 9133.171069\\u003cbr\\u003emargin: 0.000000\\u003cbr\\u003efree margin: 9133.171069\\u003cbr\\u003emargin level: inf\",\"balance: 9133.171069 USD\\u003cbr\\u003eequity: 9133.171069\\u003cbr\\u003emargin: 0.000000\\u003cbr\\u003efree margin: 9133.171069\\u003cbr\\u003emargin level: inf\",\"balance: 9133.171069 USD\\u003cbr\\u003eequity: 9133.171069\\u003cbr\\u003emargin: 0.000000\\u003cbr\\u003efree margin: 9133.171069\\u003cbr\\u003emargin level: inf\",\"balance: 9133.171069 USD\\u003cbr\\u003eequity: 9133.171069\\u003cbr\\u003emargin: 0.000000\\u003cbr\\u003efree margin: 9133.171069\\u003cbr\\u003emargin level: inf\",\"balance: 9133.171069 USD\\u003cbr\\u003eequity: 9133.171069\\u003cbr\\u003emargin: 0.000000\\u003cbr\\u003efree margin: 9133.171069\\u003cbr\\u003emargin level: inf\",\"balance: 9133.171069 USD\\u003cbr\\u003eequity: 9133.171069\\u003cbr\\u003emargin: 0.000000\\u003cbr\\u003efree margin: 9133.171069\\u003cbr\\u003emargin level: inf\",\"balance: 9133.171069 USD\\u003cbr\\u003eequity: 9133.171069\\u003cbr\\u003emargin: 0.000000\\u003cbr\\u003efree margin: 9133.171069\\u003cbr\\u003emargin level: inf\",\"balance: 9133.171069 USD\\u003cbr\\u003eequity: 8954.428199\\u003cbr\\u003emargin: 1116.475600\\u003cbr\\u003efree margin: 7837.952599\\u003cbr\\u003emargin level: 8.020263\",\"balance: 9133.171069 USD\\u003cbr\\u003eequity: 8161.195144\\u003cbr\\u003emargin: 1126.475600\\u003cbr\\u003efree margin: 7034.719544\\u003cbr\\u003emargin level: 7.244893\",\"balance: 9130.478014 USD\\u003cbr\\u003eequity: 8718.615144\\u003cbr\\u003emargin: 1116.475600\\u003cbr\\u003efree margin: 7602.139544\\u003cbr\\u003emargin level: 7.809051\",\"balance: 8718.615144 USD\\u003cbr\\u003eequity: 8718.615144\\u003cbr\\u003emargin: 0.000000\\u003cbr\\u003efree margin: 8718.615144\\u003cbr\\u003emargin level: inf\",\"balance: 8718.615144 USD\\u003cbr\\u003eequity: 8718.615144\\u003cbr\\u003emargin: 0.000000\\u003cbr\\u003efree margin: 8718.615144\\u003cbr\\u003emargin level: inf\",\"balance: 8718.615144 USD\\u003cbr\\u003eequity: 8718.615144\\u003cbr\\u003emargin: 0.000000\\u003cbr\\u003efree margin: 8718.615144\\u003cbr\\u003emargin level: inf\",\"balance: 8718.615144 USD\\u003cbr\\u003eequity: 8718.615144\\u003cbr\\u003emargin: 0.000000\\u003cbr\\u003efree margin: 8718.615144\\u003cbr\\u003emargin level: inf\",\"balance: 8718.615144 USD\\u003cbr\\u003eequity: 8718.615144\\u003cbr\\u003emargin: 0.000000\\u003cbr\\u003efree margin: 8718.615144\\u003cbr\\u003emargin level: inf\",\"balance: 8718.615144 USD\\u003cbr\\u003eequity: 8718.615144\\u003cbr\\u003emargin: 0.000000\\u003cbr\\u003efree margin: 8718.615144\\u003cbr\\u003emargin level: inf\",\"balance: 8718.615144 USD\\u003cbr\\u003eequity: 8718.615144\\u003cbr\\u003emargin: 0.000000\\u003cbr\\u003efree margin: 8718.615144\\u003cbr\\u003emargin level: inf\",\"balance: 8718.615144 USD\\u003cbr\\u003eequity: 7270.484885\\u003cbr\\u003emargin: 4731.097800\\u003cbr\\u003efree margin: 2539.387085\\u003cbr\\u003emargin level: 1.536744\",\"balance: 7270.484885 USD\\u003cbr\\u003eequity: 7270.484885\\u003cbr\\u003emargin: 0.000000\\u003cbr\\u003efree margin: 7270.484885\\u003cbr\\u003emargin level: inf\",\"balance: 7270.484885 USD\\u003cbr\\u003eequity: 7270.484885\\u003cbr\\u003emargin: 0.000000\\u003cbr\\u003efree margin: 7270.484885\\u003cbr\\u003emargin level: inf\",\"balance: 7270.484885 USD\\u003cbr\\u003eequity: 9469.621559\\u003cbr\\u003emargin: 6407.658100\\u003cbr\\u003efree margin: 3061.963459\\u003cbr\\u003emargin level: 1.477860\",\"balance: 9469.621559 USD\\u003cbr\\u003eequity: 9469.621559\\u003cbr\\u003emargin: 0.000000\\u003cbr\\u003efree margin: 9469.621559\\u003cbr\\u003emargin level: inf\",\"balance: 9469.621559 USD\\u003cbr\\u003eequity: 9469.621559\\u003cbr\\u003emargin: 0.000000\\u003cbr\\u003efree margin: 9469.621559\\u003cbr\\u003emargin level: inf\",\"balance: 9469.621559 USD\\u003cbr\\u003eequity: 9469.621559\\u003cbr\\u003emargin: 0.000000\\u003cbr\\u003efree margin: 9469.621559\\u003cbr\\u003emargin level: inf\",\"balance: 9469.621559 USD\\u003cbr\\u003eequity: 7446.991948\\u003cbr\\u003emargin: 4860.000000\\u003cbr\\u003efree margin: 2586.991948\\u003cbr\\u003emargin level: 1.532303\",\"balance: 9469.621559 USD\\u003cbr\\u003eequity: 6177.092051\\u003cbr\\u003emargin: 4860.000000\\u003cbr\\u003efree margin: 1317.092051\\u003cbr\\u003emargin level: 1.271007\",\"balance: 6177.092051 USD\\u003cbr\\u003eequity: 6177.092051\\u003cbr\\u003emargin: 0.000000\\u003cbr\\u003efree margin: 6177.092051\\u003cbr\\u003emargin level: inf\",\"balance: 6177.092051 USD\\u003cbr\\u003eequity: 6177.092051\\u003cbr\\u003emargin: 0.000000\\u003cbr\\u003efree margin: 6177.092051\\u003cbr\\u003emargin level: inf\",\"balance: 6177.092051 USD\\u003cbr\\u003eequity: 6177.092051\\u003cbr\\u003emargin: 0.000000\\u003cbr\\u003efree margin: 6177.092051\\u003cbr\\u003emargin level: inf\",\"balance: 6177.092051 USD\\u003cbr\\u003eequity: 6177.092051\\u003cbr\\u003emargin: 0.000000\\u003cbr\\u003efree margin: 6177.092051\\u003cbr\\u003emargin level: inf\",\"balance: 6177.092051 USD\\u003cbr\\u003eequity: 6177.092051\\u003cbr\\u003emargin: 0.000000\\u003cbr\\u003efree margin: 6177.092051\\u003cbr\\u003emargin level: inf\",\"balance: 6177.092051 USD\\u003cbr\\u003eequity: 6177.092051\\u003cbr\\u003emargin: 0.000000\\u003cbr\\u003efree margin: 6177.092051\\u003cbr\\u003emargin level: inf\",\"balance: 6177.092051 USD\\u003cbr\\u003eequity: 6177.092051\\u003cbr\\u003emargin: 0.000000\\u003cbr\\u003efree margin: 6177.092051\\u003cbr\\u003emargin level: inf\",\"balance: 6177.092051 USD\\u003cbr\\u003eequity: 6177.092051\\u003cbr\\u003emargin: 0.000000\\u003cbr\\u003efree margin: 6177.092051\\u003cbr\\u003emargin level: inf\",\"balance: 6177.092051 USD\\u003cbr\\u003eequity: 6177.092051\\u003cbr\\u003emargin: 0.000000\\u003cbr\\u003efree margin: 6177.092051\\u003cbr\\u003emargin level: inf\",\"balance: 6177.092051 USD\\u003cbr\\u003eequity: 6177.092051\\u003cbr\\u003emargin: 0.000000\\u003cbr\\u003efree margin: 6177.092051\\u003cbr\\u003emargin level: inf\",\"balance: 6177.092051 USD\\u003cbr\\u003eequity: 6177.092051\\u003cbr\\u003emargin: 0.000000\\u003cbr\\u003efree margin: 6177.092051\\u003cbr\\u003emargin level: inf\",\"balance: 6177.092051 USD\\u003cbr\\u003eequity: 6177.092051\\u003cbr\\u003emargin: 0.000000\\u003cbr\\u003efree margin: 6177.092051\\u003cbr\\u003emargin level: inf\",\"balance: 6177.092051 USD\\u003cbr\\u003eequity: 6177.092051\\u003cbr\\u003emargin: 0.000000\\u003cbr\\u003efree margin: 6177.092051\\u003cbr\\u003emargin level: inf\",\"balance: 6177.092051 USD\\u003cbr\\u003eequity: 6177.092051\\u003cbr\\u003emargin: 0.000000\\u003cbr\\u003efree margin: 6177.092051\\u003cbr\\u003emargin level: inf\",\"balance: 6177.092051 USD\\u003cbr\\u003eequity: 6177.092051\\u003cbr\\u003emargin: 0.000000\\u003cbr\\u003efree margin: 6177.092051\\u003cbr\\u003emargin level: inf\",\"balance: 6177.092051 USD\\u003cbr\\u003eequity: 6177.092051\\u003cbr\\u003emargin: 0.000000\\u003cbr\\u003efree margin: 6177.092051\\u003cbr\\u003emargin level: inf\",\"balance: 6177.092051 USD\\u003cbr\\u003eequity: 6177.092051\\u003cbr\\u003emargin: 0.000000\\u003cbr\\u003efree margin: 6177.092051\\u003cbr\\u003emargin level: inf\",\"balance: 6177.092051 USD\\u003cbr\\u003eequity: 6177.092051\\u003cbr\\u003emargin: 0.000000\\u003cbr\\u003efree margin: 6177.092051\\u003cbr\\u003emargin level: inf\",\"balance: 6177.092051 USD\\u003cbr\\u003eequity: 6177.092051\\u003cbr\\u003emargin: 0.000000\\u003cbr\\u003efree margin: 6177.092051\\u003cbr\\u003emargin level: inf\",\"balance: 6177.092051 USD\\u003cbr\\u003eequity: 6177.092051\\u003cbr\\u003emargin: 0.000000\\u003cbr\\u003efree margin: 6177.092051\\u003cbr\\u003emargin level: inf\",\"balance: 6177.092051 USD\\u003cbr\\u003eequity: 6310.851056\\u003cbr\\u003emargin: 710.000000\\u003cbr\\u003efree margin: 5600.851056\\u003cbr\\u003emargin level: 8.888523\"],\"legendgroup\":\"g2\",\"line\":{\"color\":\"rgba(0.5643983083429451, 0.36993464052287583, 0.5132641291810843, 1.0)\"},\"mode\":\"lines+markers\",\"name\":\"EURUSD\",\"opacity\":1.0,\"x\":[\"2021-05-05T00:00:00+00:00\",\"2021-05-06T00:00:00+00:00\",\"2021-05-07T00:00:00+00:00\",\"2021-05-10T00:00:00+00:00\",\"2021-05-11T00:00:00+00:00\",\"2021-05-12T00:00:00+00:00\",\"2021-05-13T00:00:00+00:00\",\"2021-05-14T00:00:00+00:00\",\"2021-05-17T00:00:00+00:00\",\"2021-05-18T00:00:00+00:00\",\"2021-05-19T00:00:00+00:00\",\"2021-05-20T00:00:00+00:00\",\"2021-05-21T00:00:00+00:00\",\"2021-05-24T00:00:00+00:00\",\"2021-05-25T00:00:00+00:00\",\"2021-05-26T00:00:00+00:00\",\"2021-05-27T00:00:00+00:00\",\"2021-05-28T00:00:00+00:00\",\"2021-05-31T00:00:00+00:00\",\"2021-06-01T00:00:00+00:00\",\"2021-06-02T00:00:00+00:00\",\"2021-06-03T00:00:00+00:00\",\"2021-06-04T00:00:00+00:00\",\"2021-06-07T00:00:00+00:00\",\"2021-06-08T00:00:00+00:00\",\"2021-06-09T00:00:00+00:00\",\"2021-06-10T00:00:00+00:00\",\"2021-06-11T00:00:00+00:00\",\"2021-06-14T00:00:00+00:00\",\"2021-06-15T00:00:00+00:00\",\"2021-06-16T00:00:00+00:00\",\"2021-06-17T00:00:00+00:00\",\"2021-06-18T00:00:00+00:00\",\"2021-06-21T00:00:00+00:00\",\"2021-06-22T00:00:00+00:00\",\"2021-06-23T00:00:00+00:00\",\"2021-06-24T00:00:00+00:00\",\"2021-06-25T00:00:00+00:00\",\"2021-06-28T00:00:00+00:00\",\"2021-06-29T00:00:00+00:00\",\"2021-06-30T00:00:00+00:00\",\"2021-07-01T00:00:00+00:00\",\"2021-07-02T00:00:00+00:00\",\"2021-07-05T00:00:00+00:00\",\"2021-07-06T00:00:00+00:00\",\"2021-07-07T00:00:00+00:00\",\"2021-07-08T00:00:00+00:00\",\"2021-07-09T00:00:00+00:00\",\"2021-07-12T00:00:00+00:00\",\"2021-07-13T00:00:00+00:00\",\"2021-07-14T00:00:00+00:00\",\"2021-07-15T00:00:00+00:00\",\"2021-07-16T00:00:00+00:00\",\"2021-07-19T00:00:00+00:00\",\"2021-07-20T00:00:00+00:00\",\"2021-07-21T00:00:00+00:00\",\"2021-07-22T00:00:00+00:00\",\"2021-07-23T00:00:00+00:00\",\"2021-07-26T00:00:00+00:00\",\"2021-07-27T00:00:00+00:00\",\"2021-07-28T00:00:00+00:00\",\"2021-07-29T00:00:00+00:00\",\"2021-07-30T00:00:00+00:00\",\"2021-08-02T00:00:00+00:00\",\"2021-08-03T00:00:00+00:00\",\"2021-08-04T00:00:00+00:00\",\"2021-08-05T00:00:00+00:00\",\"2021-08-06T00:00:00+00:00\",\"2021-08-09T00:00:00+00:00\",\"2021-08-10T00:00:00+00:00\",\"2021-08-11T00:00:00+00:00\",\"2021-08-12T00:00:00+00:00\",\"2021-08-13T00:00:00+00:00\",\"2021-08-16T00:00:00+00:00\",\"2021-08-17T00:00:00+00:00\",\"2021-08-18T00:00:00+00:00\",\"2021-08-19T00:00:00+00:00\",\"2021-08-20T00:00:00+00:00\",\"2021-08-23T00:00:00+00:00\",\"2021-08-24T00:00:00+00:00\",\"2021-08-25T00:00:00+00:00\",\"2021-08-26T00:00:00+00:00\",\"2021-08-27T00:00:00+00:00\",\"2021-08-30T00:00:00+00:00\",\"2021-08-31T00:00:00+00:00\",\"2021-09-01T00:00:00+00:00\",\"2021-09-02T00:00:00+00:00\",\"2021-09-03T00:00:00+00:00\"],\"y\":[1.20036,1.20646,1.21618,1.21282,1.2147000000000001,1.20705,1.20791,1.21441,1.21511,1.2221899999999999,1.21744,1.22269,1.21806,1.2215,1.22497,1.21922,1.21934,1.21896,1.2225,1.22126,1.221,1.21265,1.21662,1.21893,1.21726,1.21787,1.21751,1.21063,1.212,1.21264,1.19943,1.19069,1.18597,1.19185,1.19413,1.19258,1.19315,1.1937,1.19242,1.1896,1.1856,1.18497,1.18646,1.18634,1.18231,1.17903,1.18449,1.18774,1.18606,1.17765,1.18358,1.18118,1.18055,1.17987,1.17805,1.17946,1.17707,1.17689,1.18029,1.18165,1.18441,1.18865,1.1873,1.18688,1.18637,1.18367,1.18327,1.17611,1.17362,1.17203,1.17388,1.17296,1.17962,1.17768,1.17081,1.17108,1.16756,1.16996,1.1745700000000001,1.17555,1.17716,1.17515,1.1795499999999999,1.17962,1.18083,1.18384,1.18744,1.18772],\"yaxis\":\"y2\",\"type\":\"scatter\"},{\"hovertext\":[\"order id: \\u003cbr\\u003ehold probability: 0.0000\\u003cbr\\u003ehold: False\\u003cbr\\u003evolume: 36.878079\\u003cbr\\u003emodified volume: 36.8800\\u003cbr\\u003efee: nan\\u003cbr\\u003emargin: nan\\u003cbr\\u003eerror: low free margin (order margin=45074.3672, order profit=-730.2028480175449, free margin=10000.0)\",\"order id: \\u003cbr\\u003ehold probability: 0.0000\\u003cbr\\u003ehold: False\\u003cbr\\u003evolume: 10.912454\\u003cbr\\u003emodified volume: 10.9100\\u003cbr\\u003efee: nan\\u003cbr\\u003emargin: nan\\u003cbr\\u003eerror: low free margin (order margin=13282.270400000001, order profit=-271.90861762448696, free margin=10000.0)\",\"order id: \\u003cbr\\u003ehold probability: 0.0000\\u003cbr\\u003ehold: False\\u003cbr\\u003evolume: 65.197127\\u003cbr\\u003emodified volume: 65.2000\\u003cbr\\u003efee: nan\\u003cbr\\u003emargin: nan\\u003cbr\\u003eerror: low free margin (order margin=79719.388, order profit=-1466.506459513631, free margin=10000.0)\",\"order id: \\u003cbr\\u003ehold probability: 0.0000\\u003cbr\\u003ehold: False\\u003cbr\\u003evolume: -89.360845\\u003cbr\\u003emodified volume: 89.3600\\u003cbr\\u003efee: nan\\u003cbr\\u003emargin: nan\\u003cbr\\u003eerror: low free margin (order margin=109463.3192, order profit=-1992.7468406417327, free margin=10000.0)\",\"order id: \\u003cbr\\u003ehold probability: 0.0000\\u003cbr\\u003ehold: False\\u003cbr\\u003evolume: -67.035261\\u003cbr\\u003emodified volume: 67.0400\\u003cbr\\u003efee: nan\\u003cbr\\u003emargin: nan\\u003cbr\\u003eerror: low free margin (order margin=81736.50880000001, order profit=-1380.240106938193, free margin=6142.571178289072)\",\"order id: 2\\u003cbr\\u003ehold probability: 0.0000\\u003cbr\\u003ehold: False\\u003cbr\\u003evolume: 2.522382\\u003cbr\\u003emodified volume: 2.5200\\u003cbr\\u003efee: 0.000246\\u003cbr\\u003emargin: 3077.575200\\u003cbr\\u003eerror: \",\"order id: \\u003cbr\\u003ehold probability: 0.0000\\u003cbr\\u003ehold: False\\u003cbr\\u003evolume: 77.757471\\u003cbr\\u003emodified volume: 77.7600\\u003cbr\\u003efee: nan\\u003cbr\\u003emargin: nan\\u003cbr\\u003eerror: low free margin (order margin=94295.664, order profit=-1634.9540113642695, free margin=9133.17106906657)\",\"order id: \\u003cbr\\u003ehold probability: 0.0000\\u003cbr\\u003ehold: False\\u003cbr\\u003evolume: -95.528228\\u003cbr\\u003emodified volume: 95.5300\\u003cbr\\u003efee: nan\\u003cbr\\u003emargin: nan\\u003cbr\\u003eerror: low free margin (order margin=116223.7086, order profit=-1833.0071763142416, free margin=9133.17106906657)\",\"order id: \\u003cbr\\u003ehold probability: 0.0000\\u003cbr\\u003ehold: False\\u003cbr\\u003evolume: 76.799113\\u003cbr\\u003emodified volume: 76.8000\\u003cbr\\u003efee: nan\\u003cbr\\u003emargin: nan\\u003cbr\\u003eerror: low free margin (order margin=93613.82400000001, order profit=-1631.995882333631, free margin=9133.17106906657)\",\"order id: \\u003cbr\\u003ehold probability: 0.0000\\u003cbr\\u003ehold: False\\u003cbr\\u003evolume: -51.628640\\u003cbr\\u003emodified volume: 51.6300\\u003cbr\\u003efee: nan\\u003cbr\\u003emargin: nan\\u003cbr\\u003eerror: low free margin (order margin=62847.133799999996, order profit=-1003.687848552428, free margin=9133.17106906657)\",\"order id: \\u003cbr\\u003ehold probability: 0.0000\\u003cbr\\u003ehold: False\\u003cbr\\u003evolume: 30.465190\\u003cbr\\u003emodified volume: 30.4700\\u003cbr\\u003efee: nan\\u003cbr\\u003emargin: nan\\u003cbr\\u003eerror: low free margin (order margin=37108.4989, order profit=-794.273581153074, free margin=9133.17106906657)\",\"order id: \\u003cbr\\u003ehold probability: 0.0000\\u003cbr\\u003ehold: False\\u003cbr\\u003evolume: -16.787528\\u003cbr\\u003emodified volume: 16.7900\\u003cbr\\u003efee: nan\\u003cbr\\u003emargin: nan\\u003cbr\\u003eerror: low free margin (order margin=20326.477700000003, order profit=-350.43876706318474, free margin=9133.17106906657)\",\"order id: \\u003cbr\\u003ehold probability: 0.0000\\u003cbr\\u003ehold: False\\u003cbr\\u003evolume: 83.368671\\u003cbr\\u003emodified volume: 83.3700\\u003cbr\\u003efee: nan\\u003cbr\\u003emargin: nan\\u003cbr\\u003eerror: low free margin (order margin=99267.8253, order profit=-2002.6656919713498, free margin=9133.17106906657)\",\"order id: \\u003cbr\\u003ehold probability: 0.0000\\u003cbr\\u003ehold: False\\u003cbr\\u003evolume: 13.800930\\u003cbr\\u003emodified volume: 13.8000\\u003cbr\\u003efee: nan\\u003cbr\\u003emargin: nan\\u003cbr\\u003eerror: low free margin (order margin=16457.604, order profit=-317.3539691915178, free margin=9133.17106906657)\",\"order id: \\u003cbr\\u003ehold probability: 0.0000\\u003cbr\\u003ehold: False\\u003cbr\\u003evolume: -38.775197\\u003cbr\\u003emodified volume: 38.7800\\u003cbr\\u003efee: nan\\u003cbr\\u003emargin: nan\\u003cbr\\u003eerror: low free margin (order margin=46270.357, order profit=-784.2293902419692, free margin=9133.17106906657)\",\"order id: \\u003cbr\\u003ehold probability: 0.0000\\u003cbr\\u003ehold: False\\u003cbr\\u003evolume: 70.342129\\u003cbr\\u003emodified volume: 70.3400\\u003cbr\\u003efee: nan\\u003cbr\\u003emargin: nan\\u003cbr\\u003eerror: low free margin (order margin=83874.82280000001, order profit=-1658.1587098665532, free margin=9133.17106906657)\",\"order id: \\u003cbr\\u003ehold probability: 0.0000\\u003cbr\\u003ehold: False\\u003cbr\\u003evolume: 46.662992\\u003cbr\\u003emodified volume: 46.6600\\u003cbr\\u003efee: nan\\u003cbr\\u003emargin: nan\\u003cbr\\u003eerror: low free margin (order margin=55290.70020000001, order profit=-1061.9551136715795, free margin=9133.17106906657)\",\"order id: \\u003cbr\\u003ehold probability: 0.0000\\u003cbr\\u003ehold: False\\u003cbr\\u003evolume: 51.606610\\u003cbr\\u003emodified volume: 51.6100\\u003cbr\\u003efee: nan\\u003cbr\\u003emargin: nan\\u003cbr\\u003eerror: low free margin (order margin=61233.200600000004, order profit=-1055.1580608712748, free margin=9133.17106906657)\",\"order id: \\u003cbr\\u003ehold probability: 0.0000\\u003cbr\\u003ehold: False\\u003cbr\\u003evolume: 13.431856\\u003cbr\\u003emodified volume: 13.4300\\u003cbr\\u003efee: nan\\u003cbr\\u003emargin: nan\\u003cbr\\u003eerror: low free margin (order margin=15834.3729, order profit=-279.1017839111942, free margin=9133.17106906657)\",\"order id: 3\\u003cbr\\u003ehold probability: 0.0000\\u003cbr\\u003ehold: False\\u003cbr\\u003evolume: 0.944288\\u003cbr\\u003emodified volume: 0.9400\\u003cbr\\u003efee: 0.000222\\u003cbr\\u003emargin: 1116.475600\\u003cbr\\u003eerror: \",\"order id: \\u003cbr\\u003ehold probability: 0.0000\\u003cbr\\u003ehold: False\\u003cbr\\u003evolume: 83.969299\\u003cbr\\u003emodified volume: 83.9700\\u003cbr\\u003efee: nan\\u003cbr\\u003emargin: nan\\u003cbr\\u003eerror: low free margin (order margin=98887.27050000001, order profit=-1400.6509275385656, free margin=7034.719543900145)\",\"order id: \\u003cbr\\u003ehold probability: 0.0000\\u003cbr\\u003ehold: False\\u003cbr\\u003evolume: -24.266386\\u003cbr\\u003emodified volume: 24.2700\\u003cbr\\u003efee: nan\\u003cbr\\u003emargin: nan\\u003cbr\\u003eerror: low free margin (order margin=28725.4866, order profit=-493.8353448086874, free margin=8718.615143900144)\",\"order id: \\u003cbr\\u003ehold probability: 0.0000\\u003cbr\\u003ehold: False\\u003cbr\\u003evolume: -16.617414\\u003cbr\\u003emodified volume: 16.6200\\u003cbr\\u003efee: nan\\u003cbr\\u003emargin: nan\\u003cbr\\u003eerror: low free margin (order margin=19631.2116, order profit=-349.0703283546688, free margin=8718.615143900144)\",\"order id: \\u003cbr\\u003ehold probability: 0.0000\\u003cbr\\u003ehold: False\\u003cbr\\u003evolume: -34.123754\\u003cbr\\u003emodified volume: 34.1200\\u003cbr\\u003efee: nan\\u003cbr\\u003emargin: nan\\u003cbr\\u003eerror: low free margin (order margin=40280.365999999995, order profit=-555.7862118877156, free margin=8718.615143900144)\",\"order id: \\u003cbr\\u003ehold probability: 0.0001\\u003cbr\\u003ehold: False\\u003cbr\\u003evolume: 84.339069\\u003cbr\\u003emodified volume: 84.3400\\u003cbr\\u003efee: nan\\u003cbr\\u003emargin: nan\\u003cbr\\u003eerror: low free margin (order margin=99274.08380000001, order profit=-2229.888299939438, free margin=8718.615143900144)\",\"order id: 5\\u003cbr\\u003ehold probability: 0.0000\\u003cbr\\u003ehold: False\\u003cbr\\u003evolume: -4.023549\\u003cbr\\u003emodified volume: 4.0200\\u003cbr\\u003efee: 0.000202\\u003cbr\\u003emargin: 4731.097800\\u003cbr\\u003eerror: \",\"order id: 6\\u003cbr\\u003ehold probability: 0.0000\\u003cbr\\u003ehold: False\\u003cbr\\u003evolume: 5.413249\\u003cbr\\u003emodified volume: 5.4100\\u003cbr\\u003efee: 0.000175\\u003cbr\\u003emargin: 6407.658100\\u003cbr\\u003eerror: \",\"order id: \\u003cbr\\u003ehold probability: 0.0000\\u003cbr\\u003ehold: False\\u003cbr\\u003evolume: -37.727239\\u003cbr\\u003emodified volume: 37.7300\\u003cbr\\u003efee: nan\\u003cbr\\u003emargin: nan\\u003cbr\\u003eerror: low free margin (order margin=44780.9824, order profit=-809.3825180620163, free margin=9469.621559313784)\",\"order id: \\u003cbr\\u003ehold probability: 0.0000\\u003cbr\\u003ehold: False\\u003cbr\\u003evolume: 64.974910\\u003cbr\\u003emodified volume: 64.9700\\u003cbr\\u003efee: nan\\u003cbr\\u003emargin: nan\\u003cbr\\u003eerror: low free margin (order margin=77078.4589, order profit=-1664.167229352399, free margin=9469.621559313784)\",\"order id: \\u003cbr\\u003ehold probability: 0.0000\\u003cbr\\u003ehold: False\\u003cbr\\u003evolume: -5.158207\\u003cbr\\u003emodified volume: 5.1600\\u003cbr\\u003efee: nan\\u003cbr\\u003emargin: nan\\u003cbr\\u003eerror: low free margin (order margin=6105.673200000001, order profit=-96.85386277638803, free margin=1317.0920506315852)\",\"order id: \\u003cbr\\u003ehold probability: 0.0000\\u003cbr\\u003ehold: False\\u003cbr\\u003evolume: -33.297655\\u003cbr\\u003emodified volume: 33.3000\\u003cbr\\u003efee: nan\\u003cbr\\u003emargin: nan\\u003cbr\\u003eerror: low free margin (order margin=39028.59899999999, order profit=-638.1698582363299, free margin=6177.092050631586)\",\"order id: \\u003cbr\\u003ehold probability: 0.0000\\u003cbr\\u003ehold: False\\u003cbr\\u003evolume: -84.694809\\u003cbr\\u003emodified volume: 84.6900\\u003cbr\\u003efee: nan\\u003cbr\\u003emargin: nan\\u003cbr\\u003eerror: low free margin (order margin=99737.71919999999, order profit=-1437.1163086137208, free margin=6177.092050631586)\",\"order id: \\u003cbr\\u003ehold probability: 0.0000\\u003cbr\\u003ehold: False\\u003cbr\\u003evolume: -35.227255\\u003cbr\\u003emodified volume: 35.2300\\u003cbr\\u003efee: nan\\u003cbr\\u003emargin: nan\\u003cbr\\u003eerror: low free margin (order margin=41257.148400000005, order profit=-943.4192913312231, free margin=6177.092050631586)\",\"order id: \\u003cbr\\u003ehold probability: 0.0000\\u003cbr\\u003ehold: False\\u003cbr\\u003evolume: -37.106534\\u003cbr\\u003emodified volume: 37.1100\\u003cbr\\u003efee: nan\\u003cbr\\u003emargin: nan\\u003cbr\\u003eerror: low free margin (order margin=43328.151600000005, order profit=-934.8486505844377, free margin=6177.092050631586)\",\"order id: \\u003cbr\\u003ehold probability: 0.0000\\u003cbr\\u003ehold: False\\u003cbr\\u003evolume: -31.447373\\u003cbr\\u003emodified volume: 31.4500\\u003cbr\\u003efee: nan\\u003cbr\\u003emargin: nan\\u003cbr\\u003eerror: low free margin (order margin=36795.242, order profit=-730.3434039572745, free margin=6177.092050631586)\",\"order id: \\u003cbr\\u003ehold probability: 0.0000\\u003cbr\\u003ehold: False\\u003cbr\\u003evolume: 18.066343\\u003cbr\\u003emodified volume: 18.0700\\u003cbr\\u003efee: nan\\u003cbr\\u003emargin: nan\\u003cbr\\u003eerror: low free margin (order margin=21224.479900000002, order profit=-424.2591369307219, free margin=6177.092050631586)\",\"order id: \\u003cbr\\u003ehold probability: 0.0000\\u003cbr\\u003ehold: False\\u003cbr\\u003evolume: -79.371240\\u003cbr\\u003emodified volume: 79.3700\\u003cbr\\u003efee: nan\\u003cbr\\u003emargin: nan\\u003cbr\\u003eerror: low free margin (order margin=93303.40350000001, order profit=-1817.576069120362, free margin=6177.092050631586)\",\"order id: \\u003cbr\\u003ehold probability: 0.0000\\u003cbr\\u003ehold: False\\u003cbr\\u003evolume: -26.241041\\u003cbr\\u003emodified volume: 26.2400\\u003cbr\\u003efee: nan\\u003cbr\\u003emargin: nan\\u003cbr\\u003eerror: low free margin (order margin=30951.391999999996, order profit=-526.1125267859265, free margin=6177.092050631586)\",\"order id: \\u003cbr\\u003ehold probability: 0.0000\\u003cbr\\u003ehold: False\\u003cbr\\u003evolume: 29.680595\\u003cbr\\u003emodified volume: 29.6800\\u003cbr\\u003efee: nan\\u003cbr\\u003emargin: nan\\u003cbr\\u003eerror: low free margin (order margin=35011.1216, order profit=-570.2308165585123, free margin=6177.092050631586)\",\"order id: \\u003cbr\\u003ehold probability: 0.0000\\u003cbr\\u003ehold: False\\u003cbr\\u003evolume: -32.379327\\u003cbr\\u003emodified volume: 32.3800\\u003cbr\\u003efee: nan\\u003cbr\\u003emargin: nan\\u003cbr\\u003eerror: low free margin (order margin=38332.7392, order profit=-502.4953644289871, free margin=6177.092050631586)\",\"order id: \\u003cbr\\u003ehold probability: 0.0000\\u003cbr\\u003ehold: False\\u003cbr\\u003evolume: 74.938893\\u003cbr\\u003emodified volume: 74.9400\\u003cbr\\u003efee: nan\\u003cbr\\u003emargin: nan\\u003cbr\\u003eerror: low free margin (order margin=88986.75360000001, order profit=-1705.9600157024627, free margin=6177.092050631586)\"],\"legendgroup\":\"g2\",\"marker\":{\"color\":[\"gray\",\"gray\",\"gray\",\"gray\",\"gray\",\"green\",\"gray\",\"gray\",\"gray\",\"gray\",\"gray\",\"gray\",\"gray\",\"gray\",\"gray\",\"gray\",\"gray\",\"gray\",\"gray\",\"green\",\"gray\",\"gray\",\"gray\",\"gray\",\"gray\",\"red\",\"green\",\"gray\",\"gray\",\"gray\",\"gray\",\"gray\",\"gray\",\"gray\",\"gray\",\"gray\",\"gray\",\"gray\",\"gray\",\"gray\",\"gray\"],\"size\":[16.231307700111593,10.43502079740286,22.552094957897943,27.944404991376686,22.962767576341687,8.562442933955564,25.35538196205742,29.321497413005982,25.141117987217203,19.523384396875315,14.800649284772241,11.747387643299177,26.60748706502993,11.080044638328092,16.655371816982854,23.699299989854925,18.41412194379629,19.518920564066146,10.997463731358426,8.209800142031044,26.741402049305062,13.416861113929187,11.709445064421224,15.615298772445977,26.823982956274726,8.897230394643401,9.207466774880796,16.42102059450137,22.50076088059247,9.151668864766156,15.432281627269958,26.90210003043522,15.863041493354977,16.282641777417062,15.019377092421628,12.03307294308613,25.714720503195696,13.856548645632545,14.624327888809981,15.226945318048088,24.725981535964287],\"symbol\":[\"triangle-down\",\"triangle-down\",\"triangle-down\",\"triangle-down\",\"triangle-down\",\"triangle-up\",\"triangle-down\",\"triangle-down\",\"triangle-down\",\"triangle-down\",\"triangle-down\",\"triangle-down\",\"triangle-down\",\"triangle-down\",\"triangle-down\",\"triangle-down\",\"triangle-down\",\"triangle-down\",\"triangle-down\",\"triangle-up\",\"triangle-down\",\"triangle-down\",\"triangle-down\",\"triangle-down\",\"triangle-down\",\"triangle-down\",\"triangle-up\",\"triangle-down\",\"triangle-down\",\"triangle-down\",\"triangle-down\",\"triangle-down\",\"triangle-down\",\"triangle-down\",\"triangle-down\",\"triangle-down\",\"triangle-down\",\"triangle-down\",\"triangle-down\",\"triangle-down\",\"triangle-down\"]},\"mode\":\"markers\",\"name\":\"EURUSD\",\"showlegend\":false,\"x\":[\"2021-05-18T00:00:00+00:00\",\"2021-05-19T00:00:00+00:00\",\"2021-05-20T00:00:00+00:00\",\"2021-05-25T00:00:00+00:00\",\"2021-05-26T00:00:00+00:00\",\"2021-06-01T00:00:00+00:00\",\"2021-06-03T00:00:00+00:00\",\"2021-06-04T00:00:00+00:00\",\"2021-06-07T00:00:00+00:00\",\"2021-06-08T00:00:00+00:00\",\"2021-06-09T00:00:00+00:00\",\"2021-06-11T00:00:00+00:00\",\"2021-06-17T00:00:00+00:00\",\"2021-06-23T00:00:00+00:00\",\"2021-06-24T00:00:00+00:00\",\"2021-06-28T00:00:00+00:00\",\"2021-07-01T00:00:00+00:00\",\"2021-07-02T00:00:00+00:00\",\"2021-07-07T00:00:00+00:00\",\"2021-07-09T00:00:00+00:00\",\"2021-07-13T00:00:00+00:00\",\"2021-07-14T00:00:00+00:00\",\"2021-07-15T00:00:00+00:00\",\"2021-07-16T00:00:00+00:00\",\"2021-07-22T00:00:00+00:00\",\"2021-07-23T00:00:00+00:00\",\"2021-07-28T00:00:00+00:00\",\"2021-08-02T00:00:00+00:00\",\"2021-08-03T00:00:00+00:00\",\"2021-08-05T00:00:00+00:00\",\"2021-08-10T00:00:00+00:00\",\"2021-08-16T00:00:00+00:00\",\"2021-08-18T00:00:00+00:00\",\"2021-08-19T00:00:00+00:00\",\"2021-08-20T00:00:00+00:00\",\"2021-08-23T00:00:00+00:00\",\"2021-08-24T00:00:00+00:00\",\"2021-08-27T00:00:00+00:00\",\"2021-08-30T00:00:00+00:00\",\"2021-09-01T00:00:00+00:00\",\"2021-09-02T00:00:00+00:00\"],\"y\":[1.2221899999999999,1.21744,1.22269,1.22497,1.21922,1.22126,1.21265,1.21662,1.21893,1.21726,1.21787,1.21063,1.19069,1.19258,1.19315,1.19242,1.18497,1.18646,1.17903,1.18774,1.17765,1.18358,1.18118,1.18055,1.17707,1.17689,1.18441,1.18688,1.18637,1.18327,1.17203,1.17768,1.17108,1.16756,1.16996,1.1745700000000001,1.17555,1.1795499999999999,1.17962,1.18384,1.18744],\"yaxis\":\"y2\",\"type\":\"scatter\"},{\"hovertext\":[\"order id: 2\\u003cbr\\u003eorder type: Buy\\u003cbr\\u003eclose probability: 1.0000\\u003cbr\\u003emargin: 3077.575200\\u003cbr\\u003eprofit: -127.610925\",\"order id: 3\\u003cbr\\u003eorder type: Buy\\u003cbr\\u003eclose probability: 1.0000\\u003cbr\\u003emargin: 1116.475600\\u003cbr\\u003eprofit: -411.862870\",\"order id: 5\\u003cbr\\u003eorder type: Sell\\u003cbr\\u003eclose probability: 1.0000\\u003cbr\\u003emargin: 4731.097800\\u003cbr\\u003eprofit: -1448.130259\",\"order id: 6\\u003cbr\\u003eorder type: Buy\\u003cbr\\u003eclose probability: 1.0000\\u003cbr\\u003emargin: 6407.658100\\u003cbr\\u003eprofit: 2199.136674\"],\"legendgroup\":\"g2\",\"marker\":{\"color\":\"black\",\"line\":{\"width\":1.5},\"size\":7,\"symbol\":\"line-ns\"},\"mode\":\"markers\",\"name\":\"EURUSD\",\"showlegend\":false,\"x\":[\"2021-06-02T00:00:00+00:00\",\"2021-07-14T00:00:00+00:00\",\"2021-07-26T00:00:00+00:00\",\"2021-07-29T00:00:00+00:00\"],\"y\":[1.221,1.18358,1.18029,1.18865],\"yaxis\":\"y2\",\"type\":\"scatter\"},{\"hovertext\":[\"balance: 10000.000000 USD\\u003cbr\\u003eequity: 10000.000000\\u003cbr\\u003emargin: 0.000000\\u003cbr\\u003efree margin: 10000.000000\\u003cbr\\u003emargin level: inf\",\"balance: 10000.000000 USD\\u003cbr\\u003eequity: 10000.000000\\u003cbr\\u003emargin: 0.000000\\u003cbr\\u003efree margin: 10000.000000\\u003cbr\\u003emargin level: inf\",\"balance: 10000.000000 USD\\u003cbr\\u003eequity: 10000.000000\\u003cbr\\u003emargin: 0.000000\\u003cbr\\u003efree margin: 10000.000000\\u003cbr\\u003emargin level: inf\",\"balance: 10000.000000 USD\\u003cbr\\u003eequity: 10000.000000\\u003cbr\\u003emargin: 0.000000\\u003cbr\\u003efree margin: 10000.000000\\u003cbr\\u003emargin level: inf\",\"balance: 10000.000000 USD\\u003cbr\\u003eequity: 10000.000000\\u003cbr\\u003emargin: 0.000000\\u003cbr\\u003efree margin: 10000.000000\\u003cbr\\u003emargin level: inf\",\"balance: 10000.000000 USD\\u003cbr\\u003eequity: 10000.000000\\u003cbr\\u003emargin: 0.000000\\u003cbr\\u003efree margin: 10000.000000\\u003cbr\\u003emargin level: inf\",\"balance: 10000.000000 USD\\u003cbr\\u003eequity: 10000.000000\\u003cbr\\u003emargin: 0.000000\\u003cbr\\u003efree margin: 10000.000000\\u003cbr\\u003emargin level: inf\",\"balance: 10000.000000 USD\\u003cbr\\u003eequity: 10000.000000\\u003cbr\\u003emargin: 0.000000\\u003cbr\\u003efree margin: 10000.000000\\u003cbr\\u003emargin level: inf\",\"balance: 10000.000000 USD\\u003cbr\\u003eequity: 10000.000000\\u003cbr\\u003emargin: 0.000000\\u003cbr\\u003efree margin: 10000.000000\\u003cbr\\u003emargin level: inf\",\"balance: 10000.000000 USD\\u003cbr\\u003eequity: 10000.000000\\u003cbr\\u003emargin: 0.000000\\u003cbr\\u003efree margin: 10000.000000\\u003cbr\\u003emargin level: inf\",\"balance: 10000.000000 USD\\u003cbr\\u003eequity: 10000.000000\\u003cbr\\u003emargin: 0.000000\\u003cbr\\u003efree margin: 10000.000000\\u003cbr\\u003emargin level: inf\",\"balance: 10000.000000 USD\\u003cbr\\u003eequity: 10000.000000\\u003cbr\\u003emargin: 0.000000\\u003cbr\\u003efree margin: 10000.000000\\u003cbr\\u003emargin level: inf\",\"balance: 10000.000000 USD\\u003cbr\\u003eequity: 10000.000000\\u003cbr\\u003emargin: 0.000000\\u003cbr\\u003efree margin: 10000.000000\\u003cbr\\u003emargin level: inf\",\"balance: 10000.000000 USD\\u003cbr\\u003eequity: 10000.000000\\u003cbr\\u003emargin: 0.000000\\u003cbr\\u003efree margin: 10000.000000\\u003cbr\\u003emargin level: inf\",\"balance: 10000.000000 USD\\u003cbr\\u003eequity: 10000.000000\\u003cbr\\u003emargin: 0.000000\\u003cbr\\u003efree margin: 10000.000000\\u003cbr\\u003emargin level: inf\",\"balance: 10000.000000 USD\\u003cbr\\u003eequity: 10000.000000\\u003cbr\\u003emargin: 0.000000\\u003cbr\\u003efree margin: 10000.000000\\u003cbr\\u003emargin level: inf\",\"balance: 10000.000000 USD\\u003cbr\\u003eequity: 9283.968684\\u003cbr\\u003emargin: 3698.000907\\u003cbr\\u003efree margin: 5585.967776\\u003cbr\\u003emargin level: 2.510537\",\"balance: 10000.000000 USD\\u003cbr\\u003eequity: 9260.781994\\u003cbr\\u003emargin: 3698.000907\\u003cbr\\u003efree margin: 5562.781087\\u003cbr\\u003emargin level: 2.504267\",\"balance: 9260.781994 USD\\u003cbr\\u003eequity: 9260.781994\\u003cbr\\u003emargin: 0.000000\\u003cbr\\u003efree margin: 9260.781994\\u003cbr\\u003emargin level: inf\",\"balance: 9260.781994 USD\\u003cbr\\u003eequity: 9260.781994\\u003cbr\\u003emargin: 0.000000\\u003cbr\\u003efree margin: 9260.781994\\u003cbr\\u003emargin level: inf\",\"balance: 9260.781994 USD\\u003cbr\\u003eequity: 9133.171069\\u003cbr\\u003emargin: 3077.575200\\u003cbr\\u003efree margin: 6055.595869\\u003cbr\\u003emargin level: 2.967652\",\"balance: 9133.171069 USD\\u003cbr\\u003eequity: 9133.171069\\u003cbr\\u003emargin: 0.000000\\u003cbr\\u003efree margin: 9133.171069\\u003cbr\\u003emargin level: inf\",\"balance: 9133.171069 USD\\u003cbr\\u003eequity: 9133.171069\\u003cbr\\u003emargin: 0.000000\\u003cbr\\u003efree margin: 9133.171069\\u003cbr\\u003emargin level: inf\",\"balance: 9133.171069 USD\\u003cbr\\u003eequity: 9133.171069\\u003cbr\\u003emargin: 0.000000\\u003cbr\\u003efree margin: 9133.171069\\u003cbr\\u003emargin level: inf\",\"balance: 9133.171069 USD\\u003cbr\\u003eequity: 9133.171069\\u003cbr\\u003emargin: 0.000000\\u003cbr\\u003efree margin: 9133.171069\\u003cbr\\u003emargin level: inf\",\"balance: 9133.171069 USD\\u003cbr\\u003eequity: 9133.171069\\u003cbr\\u003emargin: 0.000000\\u003cbr\\u003efree margin: 9133.171069\\u003cbr\\u003emargin level: inf\",\"balance: 9133.171069 USD\\u003cbr\\u003eequity: 9133.171069\\u003cbr\\u003emargin: 0.000000\\u003cbr\\u003efree margin: 9133.171069\\u003cbr\\u003emargin level: inf\",\"balance: 9133.171069 USD\\u003cbr\\u003eequity: 9133.171069\\u003cbr\\u003emargin: 0.000000\\u003cbr\\u003efree margin: 9133.171069\\u003cbr\\u003emargin level: inf\",\"balance: 9133.171069 USD\\u003cbr\\u003eequity: 9133.171069\\u003cbr\\u003emargin: 0.000000\\u003cbr\\u003efree margin: 9133.171069\\u003cbr\\u003emargin level: inf\",\"balance: 9133.171069 USD\\u003cbr\\u003eequity: 9133.171069\\u003cbr\\u003emargin: 0.000000\\u003cbr\\u003efree margin: 9133.171069\\u003cbr\\u003emargin level: inf\",\"balance: 9133.171069 USD\\u003cbr\\u003eequity: 9133.171069\\u003cbr\\u003emargin: 0.000000\\u003cbr\\u003efree margin: 9133.171069\\u003cbr\\u003emargin level: inf\",\"balance: 9133.171069 USD\\u003cbr\\u003eequity: 9133.171069\\u003cbr\\u003emargin: 0.000000\\u003cbr\\u003efree margin: 9133.171069\\u003cbr\\u003emargin level: inf\",\"balance: 9133.171069 USD\\u003cbr\\u003eequity: 9133.171069\\u003cbr\\u003emargin: 0.000000\\u003cbr\\u003efree margin: 9133.171069\\u003cbr\\u003emargin level: inf\",\"balance: 9133.171069 USD\\u003cbr\\u003eequity: 9133.171069\\u003cbr\\u003emargin: 0.000000\\u003cbr\\u003efree margin: 9133.171069\\u003cbr\\u003emargin level: inf\",\"balance: 9133.171069 USD\\u003cbr\\u003eequity: 9133.171069\\u003cbr\\u003emargin: 0.000000\\u003cbr\\u003efree margin: 9133.171069\\u003cbr\\u003emargin level: inf\",\"balance: 9133.171069 USD\\u003cbr\\u003eequity: 9133.171069\\u003cbr\\u003emargin: 0.000000\\u003cbr\\u003efree margin: 9133.171069\\u003cbr\\u003emargin level: inf\",\"balance: 9133.171069 USD\\u003cbr\\u003eequity: 9133.171069\\u003cbr\\u003emargin: 0.000000\\u003cbr\\u003efree margin: 9133.171069\\u003cbr\\u003emargin level: inf\",\"balance: 9133.171069 USD\\u003cbr\\u003eequity: 9133.171069\\u003cbr\\u003emargin: 0.000000\\u003cbr\\u003efree margin: 9133.171069\\u003cbr\\u003emargin level: inf\",\"balance: 9133.171069 USD\\u003cbr\\u003eequity: 9133.171069\\u003cbr\\u003emargin: 0.000000\\u003cbr\\u003efree margin: 9133.171069\\u003cbr\\u003emargin level: inf\",\"balance: 9133.171069 USD\\u003cbr\\u003eequity: 9133.171069\\u003cbr\\u003emargin: 0.000000\\u003cbr\\u003efree margin: 9133.171069\\u003cbr\\u003emargin level: inf\",\"balance: 9133.171069 USD\\u003cbr\\u003eequity: 9133.171069\\u003cbr\\u003emargin: 0.000000\\u003cbr\\u003efree margin: 9133.171069\\u003cbr\\u003emargin level: inf\",\"balance: 9133.171069 USD\\u003cbr\\u003eequity: 9133.171069\\u003cbr\\u003emargin: 0.000000\\u003cbr\\u003efree margin: 9133.171069\\u003cbr\\u003emargin level: inf\",\"balance: 9133.171069 USD\\u003cbr\\u003eequity: 9133.171069\\u003cbr\\u003emargin: 0.000000\\u003cbr\\u003efree margin: 9133.171069\\u003cbr\\u003emargin level: inf\",\"balance: 9133.171069 USD\\u003cbr\\u003eequity: 9133.171069\\u003cbr\\u003emargin: 0.000000\\u003cbr\\u003efree margin: 9133.171069\\u003cbr\\u003emargin level: inf\",\"balance: 9133.171069 USD\\u003cbr\\u003eequity: 9133.171069\\u003cbr\\u003emargin: 0.000000\\u003cbr\\u003efree margin: 9133.171069\\u003cbr\\u003emargin level: inf\",\"balance: 9133.171069 USD\\u003cbr\\u003eequity: 9133.171069\\u003cbr\\u003emargin: 0.000000\\u003cbr\\u003efree margin: 9133.171069\\u003cbr\\u003emargin level: inf\",\"balance: 9133.171069 USD\\u003cbr\\u003eequity: 9133.171069\\u003cbr\\u003emargin: 0.000000\\u003cbr\\u003efree margin: 9133.171069\\u003cbr\\u003emargin level: inf\",\"balance: 9133.171069 USD\\u003cbr\\u003eequity: 9133.171069\\u003cbr\\u003emargin: 0.000000\\u003cbr\\u003efree margin: 9133.171069\\u003cbr\\u003emargin level: inf\",\"balance: 9133.171069 USD\\u003cbr\\u003eequity: 8954.428199\\u003cbr\\u003emargin: 1116.475600\\u003cbr\\u003efree margin: 7837.952599\\u003cbr\\u003emargin level: 8.020263\",\"balance: 9133.171069 USD\\u003cbr\\u003eequity: 8161.195144\\u003cbr\\u003emargin: 1126.475600\\u003cbr\\u003efree margin: 7034.719544\\u003cbr\\u003emargin level: 7.244893\",\"balance: 9130.478014 USD\\u003cbr\\u003eequity: 8718.615144\\u003cbr\\u003emargin: 1116.475600\\u003cbr\\u003efree margin: 7602.139544\\u003cbr\\u003emargin level: 7.809051\",\"balance: 8718.615144 USD\\u003cbr\\u003eequity: 8718.615144\\u003cbr\\u003emargin: 0.000000\\u003cbr\\u003efree margin: 8718.615144\\u003cbr\\u003emargin level: inf\",\"balance: 8718.615144 USD\\u003cbr\\u003eequity: 8718.615144\\u003cbr\\u003emargin: 0.000000\\u003cbr\\u003efree margin: 8718.615144\\u003cbr\\u003emargin level: inf\",\"balance: 8718.615144 USD\\u003cbr\\u003eequity: 8718.615144\\u003cbr\\u003emargin: 0.000000\\u003cbr\\u003efree margin: 8718.615144\\u003cbr\\u003emargin level: inf\",\"balance: 8718.615144 USD\\u003cbr\\u003eequity: 8718.615144\\u003cbr\\u003emargin: 0.000000\\u003cbr\\u003efree margin: 8718.615144\\u003cbr\\u003emargin level: inf\",\"balance: 8718.615144 USD\\u003cbr\\u003eequity: 8718.615144\\u003cbr\\u003emargin: 0.000000\\u003cbr\\u003efree margin: 8718.615144\\u003cbr\\u003emargin level: inf\",\"balance: 8718.615144 USD\\u003cbr\\u003eequity: 8718.615144\\u003cbr\\u003emargin: 0.000000\\u003cbr\\u003efree margin: 8718.615144\\u003cbr\\u003emargin level: inf\",\"balance: 8718.615144 USD\\u003cbr\\u003eequity: 8718.615144\\u003cbr\\u003emargin: 0.000000\\u003cbr\\u003efree margin: 8718.615144\\u003cbr\\u003emargin level: inf\",\"balance: 8718.615144 USD\\u003cbr\\u003eequity: 7270.484885\\u003cbr\\u003emargin: 4731.097800\\u003cbr\\u003efree margin: 2539.387085\\u003cbr\\u003emargin level: 1.536744\",\"balance: 7270.484885 USD\\u003cbr\\u003eequity: 7270.484885\\u003cbr\\u003emargin: 0.000000\\u003cbr\\u003efree margin: 7270.484885\\u003cbr\\u003emargin level: inf\",\"balance: 7270.484885 USD\\u003cbr\\u003eequity: 7270.484885\\u003cbr\\u003emargin: 0.000000\\u003cbr\\u003efree margin: 7270.484885\\u003cbr\\u003emargin level: inf\",\"balance: 7270.484885 USD\\u003cbr\\u003eequity: 9469.621559\\u003cbr\\u003emargin: 6407.658100\\u003cbr\\u003efree margin: 3061.963459\\u003cbr\\u003emargin level: 1.477860\",\"balance: 9469.621559 USD\\u003cbr\\u003eequity: 9469.621559\\u003cbr\\u003emargin: 0.000000\\u003cbr\\u003efree margin: 9469.621559\\u003cbr\\u003emargin level: inf\",\"balance: 9469.621559 USD\\u003cbr\\u003eequity: 9469.621559\\u003cbr\\u003emargin: 0.000000\\u003cbr\\u003efree margin: 9469.621559\\u003cbr\\u003emargin level: inf\",\"balance: 9469.621559 USD\\u003cbr\\u003eequity: 9469.621559\\u003cbr\\u003emargin: 0.000000\\u003cbr\\u003efree margin: 9469.621559\\u003cbr\\u003emargin level: inf\",\"balance: 9469.621559 USD\\u003cbr\\u003eequity: 7446.991948\\u003cbr\\u003emargin: 4860.000000\\u003cbr\\u003efree margin: 2586.991948\\u003cbr\\u003emargin level: 1.532303\",\"balance: 9469.621559 USD\\u003cbr\\u003eequity: 6177.092051\\u003cbr\\u003emargin: 4860.000000\\u003cbr\\u003efree margin: 1317.092051\\u003cbr\\u003emargin level: 1.271007\",\"balance: 6177.092051 USD\\u003cbr\\u003eequity: 6177.092051\\u003cbr\\u003emargin: 0.000000\\u003cbr\\u003efree margin: 6177.092051\\u003cbr\\u003emargin level: inf\",\"balance: 6177.092051 USD\\u003cbr\\u003eequity: 6177.092051\\u003cbr\\u003emargin: 0.000000\\u003cbr\\u003efree margin: 6177.092051\\u003cbr\\u003emargin level: inf\",\"balance: 6177.092051 USD\\u003cbr\\u003eequity: 6177.092051\\u003cbr\\u003emargin: 0.000000\\u003cbr\\u003efree margin: 6177.092051\\u003cbr\\u003emargin level: inf\",\"balance: 6177.092051 USD\\u003cbr\\u003eequity: 6177.092051\\u003cbr\\u003emargin: 0.000000\\u003cbr\\u003efree margin: 6177.092051\\u003cbr\\u003emargin level: inf\",\"balance: 6177.092051 USD\\u003cbr\\u003eequity: 6177.092051\\u003cbr\\u003emargin: 0.000000\\u003cbr\\u003efree margin: 6177.092051\\u003cbr\\u003emargin level: inf\",\"balance: 6177.092051 USD\\u003cbr\\u003eequity: 6177.092051\\u003cbr\\u003emargin: 0.000000\\u003cbr\\u003efree margin: 6177.092051\\u003cbr\\u003emargin level: inf\",\"balance: 6177.092051 USD\\u003cbr\\u003eequity: 6177.092051\\u003cbr\\u003emargin: 0.000000\\u003cbr\\u003efree margin: 6177.092051\\u003cbr\\u003emargin level: inf\",\"balance: 6177.092051 USD\\u003cbr\\u003eequity: 6177.092051\\u003cbr\\u003emargin: 0.000000\\u003cbr\\u003efree margin: 6177.092051\\u003cbr\\u003emargin level: inf\",\"balance: 6177.092051 USD\\u003cbr\\u003eequity: 6177.092051\\u003cbr\\u003emargin: 0.000000\\u003cbr\\u003efree margin: 6177.092051\\u003cbr\\u003emargin level: inf\",\"balance: 6177.092051 USD\\u003cbr\\u003eequity: 6177.092051\\u003cbr\\u003emargin: 0.000000\\u003cbr\\u003efree margin: 6177.092051\\u003cbr\\u003emargin level: inf\",\"balance: 6177.092051 USD\\u003cbr\\u003eequity: 6177.092051\\u003cbr\\u003emargin: 0.000000\\u003cbr\\u003efree margin: 6177.092051\\u003cbr\\u003emargin level: inf\",\"balance: 6177.092051 USD\\u003cbr\\u003eequity: 6177.092051\\u003cbr\\u003emargin: 0.000000\\u003cbr\\u003efree margin: 6177.092051\\u003cbr\\u003emargin level: inf\",\"balance: 6177.092051 USD\\u003cbr\\u003eequity: 6177.092051\\u003cbr\\u003emargin: 0.000000\\u003cbr\\u003efree margin: 6177.092051\\u003cbr\\u003emargin level: inf\",\"balance: 6177.092051 USD\\u003cbr\\u003eequity: 6177.092051\\u003cbr\\u003emargin: 0.000000\\u003cbr\\u003efree margin: 6177.092051\\u003cbr\\u003emargin level: inf\",\"balance: 6177.092051 USD\\u003cbr\\u003eequity: 6177.092051\\u003cbr\\u003emargin: 0.000000\\u003cbr\\u003efree margin: 6177.092051\\u003cbr\\u003emargin level: inf\",\"balance: 6177.092051 USD\\u003cbr\\u003eequity: 6177.092051\\u003cbr\\u003emargin: 0.000000\\u003cbr\\u003efree margin: 6177.092051\\u003cbr\\u003emargin level: inf\",\"balance: 6177.092051 USD\\u003cbr\\u003eequity: 6177.092051\\u003cbr\\u003emargin: 0.000000\\u003cbr\\u003efree margin: 6177.092051\\u003cbr\\u003emargin level: inf\",\"balance: 6177.092051 USD\\u003cbr\\u003eequity: 6177.092051\\u003cbr\\u003emargin: 0.000000\\u003cbr\\u003efree margin: 6177.092051\\u003cbr\\u003emargin level: inf\",\"balance: 6177.092051 USD\\u003cbr\\u003eequity: 6177.092051\\u003cbr\\u003emargin: 0.000000\\u003cbr\\u003efree margin: 6177.092051\\u003cbr\\u003emargin level: inf\",\"balance: 6177.092051 USD\\u003cbr\\u003eequity: 6177.092051\\u003cbr\\u003emargin: 0.000000\\u003cbr\\u003efree margin: 6177.092051\\u003cbr\\u003emargin level: inf\",\"balance: 6177.092051 USD\\u003cbr\\u003eequity: 6310.851056\\u003cbr\\u003emargin: 710.000000\\u003cbr\\u003efree margin: 5600.851056\\u003cbr\\u003emargin level: 8.888523\"],\"legendgroup\":\"g3\",\"line\":{\"color\":\"rgba(0.7372549019607844, 0.7411764705882353, 0.13333333333333333, 1.0)\"},\"mode\":\"lines+markers\",\"name\":\"USDJPY\",\"opacity\":1.0,\"x\":[\"2021-05-05T00:00:00+00:00\",\"2021-05-06T00:00:00+00:00\",\"2021-05-07T00:00:00+00:00\",\"2021-05-10T00:00:00+00:00\",\"2021-05-11T00:00:00+00:00\",\"2021-05-12T00:00:00+00:00\",\"2021-05-13T00:00:00+00:00\",\"2021-05-14T00:00:00+00:00\",\"2021-05-17T00:00:00+00:00\",\"2021-05-18T00:00:00+00:00\",\"2021-05-19T00:00:00+00:00\",\"2021-05-20T00:00:00+00:00\",\"2021-05-21T00:00:00+00:00\",\"2021-05-24T00:00:00+00:00\",\"2021-05-25T00:00:00+00:00\",\"2021-05-26T00:00:00+00:00\",\"2021-05-27T00:00:00+00:00\",\"2021-05-28T00:00:00+00:00\",\"2021-05-31T00:00:00+00:00\",\"2021-06-01T00:00:00+00:00\",\"2021-06-02T00:00:00+00:00\",\"2021-06-03T00:00:00+00:00\",\"2021-06-04T00:00:00+00:00\",\"2021-06-07T00:00:00+00:00\",\"2021-06-08T00:00:00+00:00\",\"2021-06-09T00:00:00+00:00\",\"2021-06-10T00:00:00+00:00\",\"2021-06-11T00:00:00+00:00\",\"2021-06-14T00:00:00+00:00\",\"2021-06-15T00:00:00+00:00\",\"2021-06-16T00:00:00+00:00\",\"2021-06-17T00:00:00+00:00\",\"2021-06-18T00:00:00+00:00\",\"2021-06-21T00:00:00+00:00\",\"2021-06-22T00:00:00+00:00\",\"2021-06-23T00:00:00+00:00\",\"2021-06-24T00:00:00+00:00\",\"2021-06-25T00:00:00+00:00\",\"2021-06-28T00:00:00+00:00\",\"2021-06-29T00:00:00+00:00\",\"2021-06-30T00:00:00+00:00\",\"2021-07-01T00:00:00+00:00\",\"2021-07-02T00:00:00+00:00\",\"2021-07-05T00:00:00+00:00\",\"2021-07-06T00:00:00+00:00\",\"2021-07-07T00:00:00+00:00\",\"2021-07-08T00:00:00+00:00\",\"2021-07-09T00:00:00+00:00\",\"2021-07-12T00:00:00+00:00\",\"2021-07-13T00:00:00+00:00\",\"2021-07-14T00:00:00+00:00\",\"2021-07-15T00:00:00+00:00\",\"2021-07-16T00:00:00+00:00\",\"2021-07-19T00:00:00+00:00\",\"2021-07-20T00:00:00+00:00\",\"2021-07-21T00:00:00+00:00\",\"2021-07-22T00:00:00+00:00\",\"2021-07-23T00:00:00+00:00\",\"2021-07-26T00:00:00+00:00\",\"2021-07-27T00:00:00+00:00\",\"2021-07-28T00:00:00+00:00\",\"2021-07-29T00:00:00+00:00\",\"2021-07-30T00:00:00+00:00\",\"2021-08-02T00:00:00+00:00\",\"2021-08-03T00:00:00+00:00\",\"2021-08-04T00:00:00+00:00\",\"2021-08-05T00:00:00+00:00\",\"2021-08-06T00:00:00+00:00\",\"2021-08-09T00:00:00+00:00\",\"2021-08-10T00:00:00+00:00\",\"2021-08-11T00:00:00+00:00\",\"2021-08-12T00:00:00+00:00\",\"2021-08-13T00:00:00+00:00\",\"2021-08-16T00:00:00+00:00\",\"2021-08-17T00:00:00+00:00\",\"2021-08-18T00:00:00+00:00\",\"2021-08-19T00:00:00+00:00\",\"2021-08-20T00:00:00+00:00\",\"2021-08-23T00:00:00+00:00\",\"2021-08-24T00:00:00+00:00\",\"2021-08-25T00:00:00+00:00\",\"2021-08-26T00:00:00+00:00\",\"2021-08-27T00:00:00+00:00\",\"2021-08-30T00:00:00+00:00\",\"2021-08-31T00:00:00+00:00\",\"2021-09-01T00:00:00+00:00\",\"2021-09-02T00:00:00+00:00\",\"2021-09-03T00:00:00+00:00\"],\"y\":[109.188,109.09,108.604,108.81,108.615,109.699,109.453,109.362,109.209,108.888,109.227,108.767,108.945,108.74,108.747,109.139,109.808,109.872,109.556,109.467,109.547,110.276,109.524,109.238,109.492,109.618,109.319,109.682,110.071,110.056,110.708,110.221,110.211,110.314,110.658,110.949,110.874,110.778,110.614,110.538,111.101,111.521,111.02,110.962,110.61,110.608,109.748,110.102,110.349,110.627,109.95,109.831,110.081,109.447,109.843,110.286,110.149,110.547,110.381,109.774,109.909,109.47,109.656,109.305,109.042,109.473,109.761,110.217,110.267,110.56,110.428,110.386,109.592,109.243,109.595,109.763,109.763,109.799,109.694,109.679,110.023,110.081,109.85,109.913,110.007,110.025,109.937,109.712],\"yaxis\":\"y3\",\"type\":\"scatter\"},{\"hovertext\":[\"order id: \\u003cbr\\u003ehold probability: 0.0000\\u003cbr\\u003ehold: False\\u003cbr\\u003evolume: 96.218413\\u003cbr\\u003emodified volume: 96.2200\\u003cbr\\u003efee: nan\\u003cbr\\u003emargin: nan\\u003cbr\\u003eerror: low free margin (order margin=96220.0, order profit=-1932.2827258794114, free margin=10000.0)\",\"order id: \\u003cbr\\u003ehold probability: 0.0000\\u003cbr\\u003ehold: False\\u003cbr\\u003evolume: -96.922253\\u003cbr\\u003emodified volume: 96.9200\\u003cbr\\u003efee: nan\\u003cbr\\u003emargin: nan\\u003cbr\\u003eerror: low free margin (order margin=96920.0, order profit=-1601.676200721704, free margin=10000.0)\",\"order id: \\u003cbr\\u003ehold probability: 0.0000\\u003cbr\\u003ehold: False\\u003cbr\\u003evolume: 25.710303\\u003cbr\\u003emodified volume: 25.7100\\u003cbr\\u003efee: nan\\u003cbr\\u003emargin: nan\\u003cbr\\u003eerror: low free margin (order margin=25710.0, order profit=-469.44036699738007, free margin=10000.0)\",\"order id: \\u003cbr\\u003ehold probability: 0.0008\\u003cbr\\u003ehold: False\\u003cbr\\u003evolume: 11.191361\\u003cbr\\u003emodified volume: 11.1900\\u003cbr\\u003efee: nan\\u003cbr\\u003emargin: nan\\u003cbr\\u003eerror: low free margin (order margin=11190.0, order profit=-210.255286608943, free margin=10000.0)\",\"order id: \\u003cbr\\u003ehold probability: 0.0000\\u003cbr\\u003ehold: False\\u003cbr\\u003evolume: -71.663876\\u003cbr\\u003emodified volume: 71.6600\\u003cbr\\u003efee: nan\\u003cbr\\u003emargin: nan\\u003cbr\\u003eerror: low free margin (order margin=71660.0, order profit=-1452.6156679646724, free margin=9133.17106906657)\",\"order id: \\u003cbr\\u003ehold probability: 0.0000\\u003cbr\\u003ehold: False\\u003cbr\\u003evolume: -10.261091\\u003cbr\\u003emodified volume: 10.2600\\u003cbr\\u003efee: nan\\u003cbr\\u003emargin: nan\\u003cbr\\u003eerror: low free margin (order margin=10260.0, order profit=-173.80063472530728, free margin=9133.17106906657)\",\"order id: \\u003cbr\\u003ehold probability: 0.0000\\u003cbr\\u003ehold: False\\u003cbr\\u003evolume: 17.340621\\u003cbr\\u003emodified volume: 17.3400\\u003cbr\\u003efee: nan\\u003cbr\\u003emargin: nan\\u003cbr\\u003eerror: low free margin (order margin=17340.0, order profit=-391.31651383684505, free margin=9133.17106906657)\",\"order id: \\u003cbr\\u003ehold probability: 0.0000\\u003cbr\\u003ehold: False\\u003cbr\\u003evolume: 66.278334\\u003cbr\\u003emodified volume: 66.2800\\u003cbr\\u003efee: nan\\u003cbr\\u003emargin: nan\\u003cbr\\u003eerror: low free margin (order margin=66280.0, order profit=-1285.8993301630694, free margin=9133.17106906657)\",\"order id: \\u003cbr\\u003ehold probability: 0.0000\\u003cbr\\u003ehold: False\\u003cbr\\u003evolume: 23.017100\\u003cbr\\u003emodified volume: 23.0200\\u003cbr\\u003efee: nan\\u003cbr\\u003emargin: nan\\u003cbr\\u003eerror: low free margin (order margin=23020.0, order profit=-519.8851713503798, free margin=9133.17106906657)\",\"order id: \\u003cbr\\u003ehold probability: 0.0000\\u003cbr\\u003ehold: False\\u003cbr\\u003evolume: -66.134658\\u003cbr\\u003emodified volume: 66.1300\\u003cbr\\u003efee: nan\\u003cbr\\u003emargin: nan\\u003cbr\\u003eerror: low free margin (order margin=66130.0, order profit=-1268.4588834292008, free margin=9133.17106906657)\",\"order id: \\u003cbr\\u003ehold probability: 0.0000\\u003cbr\\u003ehold: False\\u003cbr\\u003evolume: 22.233832\\u003cbr\\u003emodified volume: 22.2300\\u003cbr\\u003efee: nan\\u003cbr\\u003emargin: nan\\u003cbr\\u003eerror: low free margin (order margin=22230.0, order profit=-376.5612694819457, free margin=9133.17106906657)\",\"order id: \\u003cbr\\u003ehold probability: 0.0000\\u003cbr\\u003ehold: False\\u003cbr\\u003evolume: 14.811908\\u003cbr\\u003emodified volume: 14.8100\\u003cbr\\u003efee: nan\\u003cbr\\u003emargin: nan\\u003cbr\\u003eerror: low free margin (order margin=14810.0, order profit=-222.6880942116937, free margin=9133.17106906657)\",\"order id: \\u003cbr\\u003ehold probability: 0.0000\\u003cbr\\u003ehold: False\\u003cbr\\u003evolume: 72.609951\\u003cbr\\u003emodified volume: 72.6100\\u003cbr\\u003efee: nan\\u003cbr\\u003emargin: nan\\u003cbr\\u003eerror: low free margin (order margin=72610.0, order profit=-1229.97100074908, free margin=9133.17106906657)\",\"order id: \\u003cbr\\u003ehold probability: 0.0000\\u003cbr\\u003ehold: False\\u003cbr\\u003evolume: 31.079908\\u003cbr\\u003emodified volume: 31.0800\\u003cbr\\u003efee: nan\\u003cbr\\u003emargin: nan\\u003cbr\\u003eerror: low free margin (order margin=31080.0, order profit=-740.6825727245432, free margin=9133.17106906657)\",\"order id: \\u003cbr\\u003ehold probability: 0.0000\\u003cbr\\u003ehold: False\\u003cbr\\u003evolume: -56.942676\\u003cbr\\u003emodified volume: 56.9400\\u003cbr\\u003efee: nan\\u003cbr\\u003emargin: nan\\u003cbr\\u003eerror: low free margin (order margin=56940.0, order profit=-823.5596716955971, free margin=9133.17106906657)\",\"order id: 4\\u003cbr\\u003ehold probability: 0.0000\\u003cbr\\u003ehold: False\\u003cbr\\u003evolume: -0.007126\\u003cbr\\u003emodified volume: 0.0100\\u003cbr\\u003efee: 0.019925\\u003cbr\\u003emargin: 10.000000\\u003cbr\\u003eerror: \",\"order id: \\u003cbr\\u003ehold probability: 0.0000\\u003cbr\\u003ehold: False\\u003cbr\\u003evolume: 99.156797\\u003cbr\\u003emodified volume: 99.1600\\u003cbr\\u003efee: nan\\u003cbr\\u003emargin: nan\\u003cbr\\u003eerror: low free margin (order margin=99160.0, order profit=-1832.0810960940062, free margin=7044.719543900145)\",\"order id: \\u003cbr\\u003ehold probability: 0.0000\\u003cbr\\u003ehold: False\\u003cbr\\u003evolume: -98.940101\\u003cbr\\u003emodified volume: 98.9400\\u003cbr\\u003efee: nan\\u003cbr\\u003emargin: nan\\u003cbr\\u003eerror: low free margin (order margin=98940.0, order profit=-1952.2437869850569, free margin=8718.615143900144)\",\"order id: \\u003cbr\\u003ehold probability: 0.0000\\u003cbr\\u003ehold: False\\u003cbr\\u003evolume: 30.103597\\u003cbr\\u003emodified volume: 30.1000\\u003cbr\\u003efee: nan\\u003cbr\\u003emargin: nan\\u003cbr\\u003eerror: low free margin (order margin=30100.0, order profit=-630.0386395454439, free margin=8718.615143900144)\",\"order id: \\u003cbr\\u003ehold probability: 0.0000\\u003cbr\\u003ehold: False\\u003cbr\\u003evolume: 97.055818\\u003cbr\\u003emodified volume: 97.0600\\u003cbr\\u003efee: nan\\u003cbr\\u003emargin: nan\\u003cbr\\u003eerror: low free margin (order margin=97059.99999999999, order profit=-1825.4355159167726, free margin=8718.615143900144)\",\"order id: \\u003cbr\\u003ehold probability: 0.0000\\u003cbr\\u003ehold: False\\u003cbr\\u003evolume: -32.970361\\u003cbr\\u003emodified volume: 32.9700\\u003cbr\\u003efee: nan\\u003cbr\\u003emargin: nan\\u003cbr\\u003eerror: low free margin (order margin=32970.0, order profit=-763.3781665596365, free margin=7270.484885182672)\",\"order id: \\u003cbr\\u003ehold probability: 0.0000\\u003cbr\\u003ehold: False\\u003cbr\\u003evolume: -10.318299\\u003cbr\\u003emodified volume: 10.3200\\u003cbr\\u003efee: nan\\u003cbr\\u003emargin: nan\\u003cbr\\u003eerror: low free margin (order margin=10320.0, order profit=-146.60709489966226, free margin=7270.484885182672)\",\"order id: 7\\u003cbr\\u003ehold probability: 0.0024\\u003cbr\\u003ehold: False\\u003cbr\\u003evolume: -4.856513\\u003cbr\\u003emodified volume: 4.8600\\u003cbr\\u003efee: 0.024604\\u003cbr\\u003emargin: 4860.000000\\u003cbr\\u003eerror: \",\"order id: \\u003cbr\\u003ehold probability: 0.0000\\u003cbr\\u003ehold: False\\u003cbr\\u003evolume: 65.358478\\u003cbr\\u003emodified volume: 65.3600\\u003cbr\\u003efee: nan\\u003cbr\\u003emargin: nan\\u003cbr\\u003eerror: low free margin (order margin=65360.0, order profit=-1026.0932623619235, free margin=2586.9919483369367)\",\"order id: \\u003cbr\\u003ehold probability: 0.0000\\u003cbr\\u003ehold: False\\u003cbr\\u003evolume: -55.107951\\u003cbr\\u003emodified volume: 55.1100\\u003cbr\\u003efee: nan\\u003cbr\\u003emargin: nan\\u003cbr\\u003eerror: low free margin (order margin=55110.0, order profit=-915.0491955810827, free margin=6177.092050631586)\",\"order id: \\u003cbr\\u003ehold probability: 0.0000\\u003cbr\\u003ehold: False\\u003cbr\\u003evolume: 22.879653\\u003cbr\\u003emodified volume: 22.8800\\u003cbr\\u003efee: nan\\u003cbr\\u003emargin: nan\\u003cbr\\u003eerror: low free margin (order margin=22880.000000000004, order profit=-376.2821498584307, free margin=6177.092050631586)\",\"order id: \\u003cbr\\u003ehold probability: 0.0000\\u003cbr\\u003ehold: False\\u003cbr\\u003evolume: -9.473643\\u003cbr\\u003emodified volume: 9.4700\\u003cbr\\u003efee: nan\\u003cbr\\u003emargin: nan\\u003cbr\\u003eerror: low free margin (order margin=9470.0, order profit=-224.20348470731554, free margin=6177.092050631586)\",\"order id: \\u003cbr\\u003ehold probability: 0.0000\\u003cbr\\u003ehold: False\\u003cbr\\u003evolume: -74.493514\\u003cbr\\u003emodified volume: 74.4900\\u003cbr\\u003efee: nan\\u003cbr\\u003emargin: nan\\u003cbr\\u003eerror: low free margin (order margin=74489.99999999999, order profit=-1520.6989086500314, free margin=6177.092050631586)\",\"order id: \\u003cbr\\u003ehold probability: 0.0000\\u003cbr\\u003ehold: False\\u003cbr\\u003evolume: 57.773984\\u003cbr\\u003emodified volume: 57.7700\\u003cbr\\u003efee: nan\\u003cbr\\u003emargin: nan\\u003cbr\\u003eerror: low free margin (order margin=57770.0, order profit=-1160.2326949011385, free margin=6177.092050631586)\",\"order id: \\u003cbr\\u003ehold probability: 0.0000\\u003cbr\\u003ehold: False\\u003cbr\\u003evolume: 17.369271\\u003cbr\\u003emodified volume: 17.3700\\u003cbr\\u003efee: nan\\u003cbr\\u003emargin: nan\\u003cbr\\u003eerror: low free margin (order margin=17370.0, order profit=-311.2250939749236, free margin=6177.092050631586)\",\"order id: \\u003cbr\\u003ehold probability: 0.0000\\u003cbr\\u003ehold: False\\u003cbr\\u003evolume: 32.910656\\u003cbr\\u003emodified volume: 32.9100\\u003cbr\\u003efee: nan\\u003cbr\\u003emargin: nan\\u003cbr\\u003eerror: low free margin (order margin=32910.00000000001, order profit=-573.7785918660708, free margin=6177.092050631586)\",\"order id: \\u003cbr\\u003ehold probability: 0.0000\\u003cbr\\u003ehold: False\\u003cbr\\u003evolume: -49.939284\\u003cbr\\u003emodified volume: 49.9400\\u003cbr\\u003efee: nan\\u003cbr\\u003emargin: nan\\u003cbr\\u003eerror: low free margin (order margin=49940.0, order profit=-953.0984805297883, free margin=6177.092050631586)\",\"order id: \\u003cbr\\u003ehold probability: 0.0000\\u003cbr\\u003ehold: False\\u003cbr\\u003evolume: -60.160658\\u003cbr\\u003emodified volume: 60.1600\\u003cbr\\u003efee: nan\\u003cbr\\u003emargin: nan\\u003cbr\\u003eerror: low free margin (order margin=60160.0, order profit=-1004.1606725771597, free margin=6177.092050631586)\",\"order id: 8\\u003cbr\\u003ehold probability: 0.0035\\u003cbr\\u003ehold: False\\u003cbr\\u003evolume: -0.708085\\u003cbr\\u003emodified volume: 0.7100\\u003cbr\\u003efee: 0.018310\\u003cbr\\u003emargin: 710.000000\\u003cbr\\u003eerror: \"],\"legendgroup\":\"g3\",\"marker\":{\"color\":[\"gray\",\"gray\",\"gray\",\"gray\",\"gray\",\"gray\",\"gray\",\"gray\",\"gray\",\"gray\",\"gray\",\"gray\",\"gray\",\"gray\",\"gray\",\"red\",\"gray\",\"gray\",\"gray\",\"gray\",\"gray\",\"gray\",\"red\",\"gray\",\"gray\",\"gray\",\"gray\",\"gray\",\"gray\",\"gray\",\"gray\",\"gray\",\"gray\",\"red\"],\"size\":[29.34126424034681,29.496521826797057,13.7023893537655,10.481903417683235,23.89394092146386,10.275632624256477,11.84595221292469,22.700675471317673,13.105756628692408,22.667405988506903,12.930537352555701,11.284806936183083,24.10464764593205,14.893436838390967,20.629095674967235,8.002217965520718,29.993346103437844,29.944550861982055,14.67607621736062,29.527573344087106,15.312632321806635,10.288940417380784,9.077931243068857,22.496622643411634,20.223207984675874,13.07470511140236,10.10041334811977,24.521625163827,20.813186813186814,11.852606109486844,15.299324528682327,19.076519810464767,21.34328057263837,8.157475551970965],\"symbol\":[\"triangle-down\",\"triangle-down\",\"triangle-down\",\"triangle-down\",\"triangle-down\",\"triangle-down\",\"triangle-down\",\"triangle-down\",\"triangle-down\",\"triangle-down\",\"triangle-down\",\"triangle-down\",\"triangle-down\",\"triangle-down\",\"triangle-down\",\"triangle-down\",\"triangle-down\",\"triangle-down\",\"triangle-down\",\"triangle-down\",\"triangle-down\",\"triangle-down\",\"triangle-down\",\"triangle-down\",\"triangle-down\",\"triangle-down\",\"triangle-down\",\"triangle-down\",\"triangle-down\",\"triangle-down\",\"triangle-down\",\"triangle-down\",\"triangle-down\",\"triangle-down\"]},\"mode\":\"markers\",\"name\":\"USDJPY\",\"showlegend\":false,\"x\":[\"2021-05-19T00:00:00+00:00\",\"2021-05-21T00:00:00+00:00\",\"2021-05-24T00:00:00+00:00\",\"2021-05-25T00:00:00+00:00\",\"2021-06-02T00:00:00+00:00\",\"2021-06-10T00:00:00+00:00\",\"2021-06-11T00:00:00+00:00\",\"2021-06-16T00:00:00+00:00\",\"2021-06-18T00:00:00+00:00\",\"2021-06-21T00:00:00+00:00\",\"2021-06-23T00:00:00+00:00\",\"2021-06-28T00:00:00+00:00\",\"2021-06-30T00:00:00+00:00\",\"2021-07-01T00:00:00+00:00\",\"2021-07-06T00:00:00+00:00\",\"2021-07-12T00:00:00+00:00\",\"2021-07-13T00:00:00+00:00\",\"2021-07-14T00:00:00+00:00\",\"2021-07-19T00:00:00+00:00\",\"2021-07-21T00:00:00+00:00\",\"2021-07-26T00:00:00+00:00\",\"2021-07-27T00:00:00+00:00\",\"2021-08-03T00:00:00+00:00\",\"2021-08-04T00:00:00+00:00\",\"2021-08-05T00:00:00+00:00\",\"2021-08-12T00:00:00+00:00\",\"2021-08-17T00:00:00+00:00\",\"2021-08-24T00:00:00+00:00\",\"2021-08-25T00:00:00+00:00\",\"2021-08-26T00:00:00+00:00\",\"2021-08-30T00:00:00+00:00\",\"2021-08-31T00:00:00+00:00\",\"2021-09-01T00:00:00+00:00\",\"2021-09-02T00:00:00+00:00\"],\"y\":[109.227,108.945,108.74,108.747,109.547,109.319,109.682,110.708,110.211,110.314,110.949,110.614,111.101,111.521,110.61,110.349,110.627,109.95,109.447,110.286,110.381,109.774,109.042,109.473,109.761,110.386,109.595,109.679,110.023,110.081,109.913,110.007,110.025,109.937],\"yaxis\":\"y3\",\"type\":\"scatter\"},{\"hovertext\":[\"order id: 4\\u003cbr\\u003eorder type: Sell\\u003cbr\\u003eclose probability: 1.0000\\u003cbr\\u003emargin: 10.000000\\u003cbr\\u003eprofit: -2.693055\",\"order id: 7\\u003cbr\\u003eorder type: Sell\\u003cbr\\u003eclose probability: 1.0000\\u003cbr\\u003emargin: 4860.000000\\u003cbr\\u003eprofit: -3292.529509\"],\"legendgroup\":\"g3\",\"marker\":{\"color\":\"black\",\"line\":{\"width\":1.5},\"size\":7,\"symbol\":\"line-ns\"},\"mode\":\"markers\",\"name\":\"USDJPY\",\"showlegend\":false,\"x\":[\"2021-07-13T00:00:00+00:00\",\"2021-08-05T00:00:00+00:00\"],\"y\":[110.627,109.761],\"yaxis\":\"y3\",\"type\":\"scatter\"}],                        {\"template\":{\"data\":{\"histogram2dcontour\":[{\"type\":\"histogram2dcontour\",\"colorbar\":{\"outlinewidth\":0,\"ticks\":\"\"},\"colorscale\":[[0.0,\"#0d0887\"],[0.1111111111111111,\"#46039f\"],[0.2222222222222222,\"#7201a8\"],[0.3333333333333333,\"#9c179e\"],[0.4444444444444444,\"#bd3786\"],[0.5555555555555556,\"#d8576b\"],[0.6666666666666666,\"#ed7953\"],[0.7777777777777778,\"#fb9f3a\"],[0.8888888888888888,\"#fdca26\"],[1.0,\"#f0f921\"]]}],\"choropleth\":[{\"type\":\"choropleth\",\"colorbar\":{\"outlinewidth\":0,\"ticks\":\"\"}}],\"histogram2d\":[{\"type\":\"histogram2d\",\"colorbar\":{\"outlinewidth\":0,\"ticks\":\"\"},\"colorscale\":[[0.0,\"#0d0887\"],[0.1111111111111111,\"#46039f\"],[0.2222222222222222,\"#7201a8\"],[0.3333333333333333,\"#9c179e\"],[0.4444444444444444,\"#bd3786\"],[0.5555555555555556,\"#d8576b\"],[0.6666666666666666,\"#ed7953\"],[0.7777777777777778,\"#fb9f3a\"],[0.8888888888888888,\"#fdca26\"],[1.0,\"#f0f921\"]]}],\"heatmap\":[{\"type\":\"heatmap\",\"colorbar\":{\"outlinewidth\":0,\"ticks\":\"\"},\"colorscale\":[[0.0,\"#0d0887\"],[0.1111111111111111,\"#46039f\"],[0.2222222222222222,\"#7201a8\"],[0.3333333333333333,\"#9c179e\"],[0.4444444444444444,\"#bd3786\"],[0.5555555555555556,\"#d8576b\"],[0.6666666666666666,\"#ed7953\"],[0.7777777777777778,\"#fb9f3a\"],[0.8888888888888888,\"#fdca26\"],[1.0,\"#f0f921\"]]}],\"heatmapgl\":[{\"type\":\"heatmapgl\",\"colorbar\":{\"outlinewidth\":0,\"ticks\":\"\"},\"colorscale\":[[0.0,\"#0d0887\"],[0.1111111111111111,\"#46039f\"],[0.2222222222222222,\"#7201a8\"],[0.3333333333333333,\"#9c179e\"],[0.4444444444444444,\"#bd3786\"],[0.5555555555555556,\"#d8576b\"],[0.6666666666666666,\"#ed7953\"],[0.7777777777777778,\"#fb9f3a\"],[0.8888888888888888,\"#fdca26\"],[1.0,\"#f0f921\"]]}],\"contourcarpet\":[{\"type\":\"contourcarpet\",\"colorbar\":{\"outlinewidth\":0,\"ticks\":\"\"}}],\"contour\":[{\"type\":\"contour\",\"colorbar\":{\"outlinewidth\":0,\"ticks\":\"\"},\"colorscale\":[[0.0,\"#0d0887\"],[0.1111111111111111,\"#46039f\"],[0.2222222222222222,\"#7201a8\"],[0.3333333333333333,\"#9c179e\"],[0.4444444444444444,\"#bd3786\"],[0.5555555555555556,\"#d8576b\"],[0.6666666666666666,\"#ed7953\"],[0.7777777777777778,\"#fb9f3a\"],[0.8888888888888888,\"#fdca26\"],[1.0,\"#f0f921\"]]}],\"surface\":[{\"type\":\"surface\",\"colorbar\":{\"outlinewidth\":0,\"ticks\":\"\"},\"colorscale\":[[0.0,\"#0d0887\"],[0.1111111111111111,\"#46039f\"],[0.2222222222222222,\"#7201a8\"],[0.3333333333333333,\"#9c179e\"],[0.4444444444444444,\"#bd3786\"],[0.5555555555555556,\"#d8576b\"],[0.6666666666666666,\"#ed7953\"],[0.7777777777777778,\"#fb9f3a\"],[0.8888888888888888,\"#fdca26\"],[1.0,\"#f0f921\"]]}],\"mesh3d\":[{\"type\":\"mesh3d\",\"colorbar\":{\"outlinewidth\":0,\"ticks\":\"\"}}],\"scatter\":[{\"marker\":{\"line\":{\"color\":\"#283442\"}},\"type\":\"scatter\"}],\"parcoords\":[{\"type\":\"parcoords\",\"line\":{\"colorbar\":{\"outlinewidth\":0,\"ticks\":\"\"}}}],\"scatterpolargl\":[{\"type\":\"scatterpolargl\",\"marker\":{\"colorbar\":{\"outlinewidth\":0,\"ticks\":\"\"}}}],\"bar\":[{\"error_x\":{\"color\":\"#f2f5fa\"},\"error_y\":{\"color\":\"#f2f5fa\"},\"marker\":{\"line\":{\"color\":\"rgb(17,17,17)\",\"width\":0.5},\"pattern\":{\"fillmode\":\"overlay\",\"size\":10,\"solidity\":0.2}},\"type\":\"bar\"}],\"scattergeo\":[{\"type\":\"scattergeo\",\"marker\":{\"colorbar\":{\"outlinewidth\":0,\"ticks\":\"\"}}}],\"scatterpolar\":[{\"type\":\"scatterpolar\",\"marker\":{\"colorbar\":{\"outlinewidth\":0,\"ticks\":\"\"}}}],\"histogram\":[{\"marker\":{\"pattern\":{\"fillmode\":\"overlay\",\"size\":10,\"solidity\":0.2}},\"type\":\"histogram\"}],\"scattergl\":[{\"marker\":{\"line\":{\"color\":\"#283442\"}},\"type\":\"scattergl\"}],\"scatter3d\":[{\"type\":\"scatter3d\",\"line\":{\"colorbar\":{\"outlinewidth\":0,\"ticks\":\"\"}},\"marker\":{\"colorbar\":{\"outlinewidth\":0,\"ticks\":\"\"}}}],\"scattermapbox\":[{\"type\":\"scattermapbox\",\"marker\":{\"colorbar\":{\"outlinewidth\":0,\"ticks\":\"\"}}}],\"scatterternary\":[{\"type\":\"scatterternary\",\"marker\":{\"colorbar\":{\"outlinewidth\":0,\"ticks\":\"\"}}}],\"scattercarpet\":[{\"type\":\"scattercarpet\",\"marker\":{\"colorbar\":{\"outlinewidth\":0,\"ticks\":\"\"}}}],\"carpet\":[{\"aaxis\":{\"endlinecolor\":\"#A2B1C6\",\"gridcolor\":\"#506784\",\"linecolor\":\"#506784\",\"minorgridcolor\":\"#506784\",\"startlinecolor\":\"#A2B1C6\"},\"baxis\":{\"endlinecolor\":\"#A2B1C6\",\"gridcolor\":\"#506784\",\"linecolor\":\"#506784\",\"minorgridcolor\":\"#506784\",\"startlinecolor\":\"#A2B1C6\"},\"type\":\"carpet\"}],\"table\":[{\"cells\":{\"fill\":{\"color\":\"#506784\"},\"line\":{\"color\":\"rgb(17,17,17)\"}},\"header\":{\"fill\":{\"color\":\"#2a3f5f\"},\"line\":{\"color\":\"rgb(17,17,17)\"}},\"type\":\"table\"}],\"barpolar\":[{\"marker\":{\"line\":{\"color\":\"rgb(17,17,17)\",\"width\":0.5},\"pattern\":{\"fillmode\":\"overlay\",\"size\":10,\"solidity\":0.2}},\"type\":\"barpolar\"}],\"pie\":[{\"automargin\":true,\"type\":\"pie\"}]},\"layout\":{\"autotypenumbers\":\"strict\",\"colorway\":[\"#636efa\",\"#EF553B\",\"#00cc96\",\"#ab63fa\",\"#FFA15A\",\"#19d3f3\",\"#FF6692\",\"#B6E880\",\"#FF97FF\",\"#FECB52\"],\"font\":{\"color\":\"#f2f5fa\"},\"hovermode\":\"closest\",\"hoverlabel\":{\"align\":\"left\"},\"paper_bgcolor\":\"rgb(17,17,17)\",\"plot_bgcolor\":\"rgb(17,17,17)\",\"polar\":{\"bgcolor\":\"rgb(17,17,17)\",\"angularaxis\":{\"gridcolor\":\"#506784\",\"linecolor\":\"#506784\",\"ticks\":\"\"},\"radialaxis\":{\"gridcolor\":\"#506784\",\"linecolor\":\"#506784\",\"ticks\":\"\"}},\"ternary\":{\"bgcolor\":\"rgb(17,17,17)\",\"aaxis\":{\"gridcolor\":\"#506784\",\"linecolor\":\"#506784\",\"ticks\":\"\"},\"baxis\":{\"gridcolor\":\"#506784\",\"linecolor\":\"#506784\",\"ticks\":\"\"},\"caxis\":{\"gridcolor\":\"#506784\",\"linecolor\":\"#506784\",\"ticks\":\"\"}},\"coloraxis\":{\"colorbar\":{\"outlinewidth\":0,\"ticks\":\"\"}},\"colorscale\":{\"sequential\":[[0.0,\"#0d0887\"],[0.1111111111111111,\"#46039f\"],[0.2222222222222222,\"#7201a8\"],[0.3333333333333333,\"#9c179e\"],[0.4444444444444444,\"#bd3786\"],[0.5555555555555556,\"#d8576b\"],[0.6666666666666666,\"#ed7953\"],[0.7777777777777778,\"#fb9f3a\"],[0.8888888888888888,\"#fdca26\"],[1.0,\"#f0f921\"]],\"sequentialminus\":[[0.0,\"#0d0887\"],[0.1111111111111111,\"#46039f\"],[0.2222222222222222,\"#7201a8\"],[0.3333333333333333,\"#9c179e\"],[0.4444444444444444,\"#bd3786\"],[0.5555555555555556,\"#d8576b\"],[0.6666666666666666,\"#ed7953\"],[0.7777777777777778,\"#fb9f3a\"],[0.8888888888888888,\"#fdca26\"],[1.0,\"#f0f921\"]],\"diverging\":[[0,\"#8e0152\"],[0.1,\"#c51b7d\"],[0.2,\"#de77ae\"],[0.3,\"#f1b6da\"],[0.4,\"#fde0ef\"],[0.5,\"#f7f7f7\"],[0.6,\"#e6f5d0\"],[0.7,\"#b8e186\"],[0.8,\"#7fbc41\"],[0.9,\"#4d9221\"],[1,\"#276419\"]]},\"xaxis\":{\"gridcolor\":\"#283442\",\"linecolor\":\"#506784\",\"ticks\":\"\",\"title\":{\"standoff\":15},\"zerolinecolor\":\"#283442\",\"automargin\":true,\"zerolinewidth\":2},\"yaxis\":{\"gridcolor\":\"#283442\",\"linecolor\":\"#506784\",\"ticks\":\"\",\"title\":{\"standoff\":15},\"zerolinecolor\":\"#283442\",\"automargin\":true,\"zerolinewidth\":2},\"scene\":{\"xaxis\":{\"backgroundcolor\":\"rgb(17,17,17)\",\"gridcolor\":\"#506784\",\"linecolor\":\"#506784\",\"showbackground\":true,\"ticks\":\"\",\"zerolinecolor\":\"#C8D4E3\",\"gridwidth\":2},\"yaxis\":{\"backgroundcolor\":\"rgb(17,17,17)\",\"gridcolor\":\"#506784\",\"linecolor\":\"#506784\",\"showbackground\":true,\"ticks\":\"\",\"zerolinecolor\":\"#C8D4E3\",\"gridwidth\":2},\"zaxis\":{\"backgroundcolor\":\"rgb(17,17,17)\",\"gridcolor\":\"#506784\",\"linecolor\":\"#506784\",\"showbackground\":true,\"ticks\":\"\",\"zerolinecolor\":\"#C8D4E3\",\"gridwidth\":2}},\"shapedefaults\":{\"line\":{\"color\":\"#f2f5fa\"}},\"annotationdefaults\":{\"arrowcolor\":\"#f2f5fa\",\"arrowhead\":0,\"arrowwidth\":1},\"geo\":{\"bgcolor\":\"rgb(17,17,17)\",\"landcolor\":\"rgb(17,17,17)\",\"subunitcolor\":\"#506784\",\"showland\":true,\"showlakes\":true,\"lakecolor\":\"rgb(17,17,17)\"},\"title\":{\"x\":0.05},\"updatemenudefaults\":{\"bgcolor\":\"#506784\",\"borderwidth\":0},\"sliderdefaults\":{\"bgcolor\":\"#C8D4E3\",\"borderwidth\":1,\"bordercolor\":\"rgb(17,17,17)\",\"tickwidth\":0},\"mapbox\":{\"style\":\"dark\"}}},\"yaxis\":{\"tickfont\":{\"color\":\"rgba(0.12156862745098039, 0.4666666666666667, 0.7058823529411765, 0.8)\"}},\"yaxis2\":{\"tickfont\":{\"color\":\"rgba(0.5643983083429451, 0.36993464052287583, 0.5132641291810843, 0.8)\"},\"overlaying\":\"y\"},\"yaxis3\":{\"tickfont\":{\"color\":\"rgba(0.7372549019607844, 0.7411764705882353, 0.13333333333333333, 0.8)\"},\"overlaying\":\"y\"},\"xaxis\":{\"tickformat\":\"%Y-%m-%d\"},\"title\":{\"text\":\"Balance: 6177.092051 USD ~ Equity: 6310.851056 ~ Margin: 710.000000 ~ Free Margin: 5600.851056 ~ Margin Level: 8.888523\"},\"width\":1400,\"height\":600},                        {\"responsive\": true}                    ).then(function(){\n                            \nvar gd = document.getElementById('e718860f-05bb-40c2-895b-29eef67d9382');\nvar x = new MutationObserver(function (mutations, observer) {{\n        var display = window.getComputedStyle(gd).display;\n        if (!display || display === 'none') {{\n            console.log([gd, 'removed!']);\n            Plotly.purge(gd);\n            observer.disconnect();\n        }}\n}});\n\n// Listen for the removal of the full notebook cells\nvar notebookContainer = gd.closest('#notebook-container');\nif (notebookContainer) {{\n    x.observe(notebookContainer, {childList: true});\n}}\n\n// Listen for the clearing of the current output cell\nvar outputEl = gd.closest('.output');\nif (outputEl) {{\n    x.observe(outputEl, {childList: true});\n}}\n\n                        })                };                });            </script>        </div>"
     },
     "metadata": {},
     "output_type": "display_data"
    }
   ],
   "source": [
    "env.render('advanced_figure', time_format='%Y-%m-%d')"
   ],
   "metadata": {
    "collapsed": false,
    "ExecuteTime": {
     "end_time": "2024-01-16T12:34:04.159627Z",
     "start_time": "2024-01-16T12:34:04.019016Z"
    }
   },
   "id": "c64f72ee6e1cd942",
   "execution_count": 26
  }
 ],
 "metadata": {
  "kernelspec": {
   "display_name": "Python 3",
   "language": "python",
   "name": "python3"
  },
  "language_info": {
   "codemirror_mode": {
    "name": "ipython",
    "version": 2
   },
   "file_extension": ".py",
   "mimetype": "text/x-python",
   "name": "python",
   "nbconvert_exporter": "python",
   "pygments_lexer": "ipython2",
   "version": "2.7.6"
  }
 },
 "nbformat": 4,
 "nbformat_minor": 5
}
