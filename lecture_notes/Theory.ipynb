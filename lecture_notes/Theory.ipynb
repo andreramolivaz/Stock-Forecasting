{
 "cells": [
  {
   "cell_type": "markdown",
   "source": [
    "# Data And Web Mining Theory\n",
    "\n",
    "## Summary\n",
    "\n",
    "- Train e Test\n",
    "- Classificazione e Regressione\n",
    "- Supervised Learning\n",
    "- Knn\n",
    "    - Weight Knn\n",
    "-  Decision Trees\n",
    "    - Classificazione\n",
    "        - Binary Decision Trees\n",
    "        - Driving Factor, Leaf Node, Internal Node\n",
    "        - Gain and Gini\n",
    "        - Multiple classes\n",
    "        - Stop: Max Leaf, Max Depth\n",
    "        - Tuning\n",
    "    - Regression\n",
    "        - Leaf Node, Internal Node\n",
    "    - Model Overfitting\n",
    "    - Model Selection, Pruning\n",
    "- Linear Regression\n",
    "    - Large Polynomial Degree\n",
    "    - Feature Engeneering Choose\n",
    "- Logistic Regression\n",
    "- SVM\n",
    "    - Non Linearly Separable Problems\n",
    "    - Non-Linear Support Vector Classifier\n",
    "- Validation Set\n",
    "    - K-fold Cross Validation\n",
    "    - Stratified Sampling\n",
    "    - Automatic Parameter Tuning\n",
    "- Bias e Variance\n",
    "    - Bagging\n",
    "    - Boosting\n",
    "        - AdaBoost\n",
    "    - Underfitting e Overfitting\n",
    "- Random Forest\n",
    "    - Similarity Estimator\n",
    "    - Missing Values Imputation\n",
    "- Ensemble Methods\n",
    "- Feature Selection\n",
    "    - Recursive Elimination\n",
    "    - Map to 0-1\n",
    "    - One-Hot Encoding\n",
    "    - Missing Values\n",
    "    - Confusion Matrix\n",
    "    - Receiver Operating Characteristic (ROC)\n",
    "    \n",
    "    "
   ],
   "metadata": {
    "collapsed": false
   },
   "id": "62aefeb02cdae29d"
  },
  {
   "cell_type": "markdown",
   "source": [
    "## Train e Test\n",
    "\n"
   ],
   "metadata": {
    "collapsed": false
   },
   "id": "ed1461e15cb5a4a"
  },
  {
   "cell_type": "code",
   "execution_count": null,
   "outputs": [],
   "source": [],
   "metadata": {
    "collapsed": false
   },
   "id": "f19a4d418be459c0"
  }
 ],
 "metadata": {
  "kernelspec": {
   "display_name": "Python 3",
   "language": "python",
   "name": "python3"
  },
  "language_info": {
   "codemirror_mode": {
    "name": "ipython",
    "version": 2
   },
   "file_extension": ".py",
   "mimetype": "text/x-python",
   "name": "python",
   "nbconvert_exporter": "python",
   "pygments_lexer": "ipython2",
   "version": "2.7.6"
  }
 },
 "nbformat": 4,
 "nbformat_minor": 5
}
