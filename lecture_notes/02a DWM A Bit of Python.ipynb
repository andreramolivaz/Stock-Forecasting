{
 "cells": [
  {
   "cell_type": "markdown",
   "metadata": {
    "id": "F2Exjm0xj4eF"
   },
   "source": [
    "# Data & Web Mining\n",
    "## Python crash course\n",
    "\n",
    "#### Prof. Claudio Lucchese\n"
   ]
  },
  {
   "cell_type": "markdown",
   "metadata": {
    "id": "dIYGXJrkj4eI"
   },
   "source": [
    "## Books\n",
    "\n",
    " - Learning Python. O'Reilly. Mark Lutz.\n",
    "\n",
    " - advanced notes: https://github.com/satwikkansal/wtfpython\n",
    "\n",
    "## How can I run my Python code ?\n",
    "\n",
    "In this course we use **Jupyter notebooks** as provided by\n",
    " - **Anaconda for Python**\n",
    " - **Google Colab**\n",
    "\n",
    "Jupyter notebooks allow\n",
    " - to write slides like this.\n",
    " - to write complex documents interleaving text with programs\n",
    " - it is basically an interactive interpreter accessed via browser\n",
    "\n",
    "\n",
    "Additional tools:\n",
    " - PyCharm by JetBrains https://www.jetbrains.com/pycharm/\n",
    "\n",
    "## Your best friends in learning Python\n",
    "\n",
    "1. The Python website:\n",
    "    - plenty of links to books and tutorials!\n",
    "        - e.g., https://docs.python.org/3/tutorial/\n",
    "0. The official Python documentation:\n",
    "    - https://docs.python.org/3/library/index.html\n",
    "0. Google & StackOverflow:\n",
    "    - try googling for `TypeError: can't multiply sequence by non-int of type 'float'`\n",
    "0. Python Tutor\n",
    "    - visualizes the execution of python code\n",
    "    - http://pythontutor.com/\n",
    "\n",
    "## Who uses python\n",
    "\n",
    " - The popular *YouTube* video sharing service is largely written in Python\n",
    " - The *Dropbox* storage service codes both its server and desktop client software primarily in Python\n",
    " - The widespread *BitTorrent* peer-to-peer file sharing system began its life as a Python program\n",
    " - *Netflix* and *Yelp* have both documented the role of Python in their software infrastructures\n",
    " - *JPMorgan, Chase, UBS, Getco, and Citadel* apply Python to financial market forecasting\n",
    " - *NASA, Los Alamos, Fermilab, JPL*, and others use Python for scientific programming tasks\n",
    "\n",
    " - In \"The Anatomy of a Large-Scale Hypertextual Web Search Engine\" 1998, Google founders describe the Google architecture\n",
    "    - crawlers were written in python !"
   ]
  },
  {
   "cell_type": "markdown",
   "metadata": {
    "id": "F50OYmu0j4eJ"
   },
   "source": [
    "# Python types\n",
    "\n",
    "Python provides the following types:\n",
    "\n",
    "| Object type | Examples |\n",
    "|:-:|:-:|\n",
    "| Numbers | `1234`, `3.1415`, `3+4j`, ... |\n",
    "| Strings | `'spam'`, `\"Bob's\"`, ... |\n",
    "| Lists   | `[1, [2, 'three'], 4.5]`, `list(range(10))`, ... |\n",
    "| Dictionaries | `{'food': 'spam', 'taste': 'yum'}`, `dict(hours=10)`, ... |\n",
    "| Tuples |  `(1, 'spam', 4, 'U')`, `tuple('spam')`, ...|\n",
    "| Files |   `open('eggs.txt')`, `open(r'C:\\ham.bin', 'wb')`, ... |\n",
    "| Sets  | `set('abc')`, `{'a', 'b', 'c'}`, ... |\n",
    "| Other core types | `Booleans`, `None`, ... |\n",
    "\n",
    " - The type of a variable is inferred from the expression.\n",
    " - You can use the function `type` to ask Python which type is being used\n",
    " - The type determines the set of valid operators"
   ]
  },
  {
   "cell_type": "code",
   "execution_count": 7,
   "metadata": {
    "id": "H71me2Pcj4eJ",
    "ExecuteTime": {
     "end_time": "2023-09-21T10:34:38.581244Z",
     "start_time": "2023-09-21T10:34:38.087515Z"
    }
   },
   "outputs": [
    {
     "name": "stdout",
     "output_type": "stream",
     "text": [
      "<class 'float'>\n",
      "<class 'float'>\n",
      "<class 'str'>\n"
     ]
    }
   ],
   "source": [
    "a = 2.0\n",
    "print (type(a))\n",
    "a = 7.\n",
    "print (type(a))\n",
    "a = \"Hello!\"\n",
    "print (type(a))"
   ]
  },
  {
   "cell_type": "markdown",
   "metadata": {
    "id": "eQY3tn1Qj4eK"
   },
   "source": [
    "# Numbers\n",
    "\n",
    "Check integer vs. floating point division. Type of the results is determined by the operation."
   ]
  },
  {
   "cell_type": "code",
   "execution_count": 8,
   "metadata": {
    "id": "9UKZ-uQUj4eL",
    "ExecuteTime": {
     "end_time": "2023-09-21T10:34:39.103820Z",
     "start_time": "2023-09-21T10:34:38.110776Z"
    }
   },
   "outputs": [
    {
     "name": "stdout",
     "output_type": "stream",
     "text": [
      "What is the output of 11/2 ?    5.5\n",
      "What is the output of 11%2 ?    1\n",
      "What is the output of  2**10 ?  1024\n"
     ]
    }
   ],
   "source": [
    "print (\"What is the output of 11/2 ?   \", 11/2)\n",
    "print (\"What is the output of 11%2 ?   \", 11%2)\n",
    "print (\"What is the output of  2**10 ? \", 2**10)"
   ]
  },
  {
   "cell_type": "code",
   "execution_count": 9,
   "metadata": {
    "id": "NsPLiiAGj4eL",
    "ExecuteTime": {
     "end_time": "2023-09-21T10:34:39.168308Z",
     "start_time": "2023-09-21T10:34:38.118204Z"
    }
   },
   "outputs": [
    {
     "name": "stdout",
     "output_type": "stream",
     "text": [
      "What is the output of 11//2 ?  5\n"
     ]
    }
   ],
   "source": [
    "print (\"What is the output of 11//2 ? \", 11//2)"
   ]
  },
  {
   "cell_type": "markdown",
   "metadata": {
    "id": "X5jY5i5mj4eL"
   },
   "source": [
    "# Strings\n",
    "\n",
    "Check the `*` operation."
   ]
  },
  {
   "cell_type": "code",
   "execution_count": 10,
   "metadata": {
    "id": "jkn4Nt3qj4eM",
    "ExecuteTime": {
     "end_time": "2023-09-21T10:34:39.188641Z",
     "start_time": "2023-09-21T10:34:38.134979Z"
    }
   },
   "outputs": [
    {
     "name": "stdout",
     "output_type": "stream",
     "text": [
      "What is the output of 'a'+'b' ?   ab\n",
      "What is the output of 'a'=='b' ?  False\n",
      "What is the output of 'a'<='b' ?  True\n",
      "What is the output of 'a'<='A' ?  False\n"
     ]
    }
   ],
   "source": [
    "print (\"What is the output of 'a'+'b' ?  \", 'a'+'b'   )\n",
    "print (\"What is the output of 'a'=='b' ? \", 'a'=='b'  )\n",
    "print (\"What is the output of 'a'<='b' ? \", 'a'<='b'  )\n",
    "print (\"What is the output of 'a'<='A' ? \", 'a'=='A'  )"
   ]
  },
  {
   "cell_type": "code",
   "execution_count": 11,
   "metadata": {
    "id": "IFcOSfo6j4eM",
    "ExecuteTime": {
     "end_time": "2023-09-21T10:34:39.296652Z",
     "start_time": "2023-09-21T10:34:38.153983Z"
    }
   },
   "outputs": [
    {
     "name": "stdout",
     "output_type": "stream",
     "text": [
      "What is the output of 'a'*5 ?     aaaaa\n"
     ]
    },
    {
     "ename": "TypeError",
     "evalue": "unsupported operand type(s) for /: 'str' and 'int'",
     "output_type": "error",
     "traceback": [
      "\u001B[0;31m---------------------------------------------------------------------------\u001B[0m",
      "\u001B[0;31mTypeError\u001B[0m                                 Traceback (most recent call last)",
      "Cell \u001B[0;32mIn[11], line 2\u001B[0m\n\u001B[1;32m      1\u001B[0m \u001B[38;5;28mprint\u001B[39m (\u001B[38;5;124m\"\u001B[39m\u001B[38;5;124mWhat is the output of \u001B[39m\u001B[38;5;124m'\u001B[39m\u001B[38;5;124ma\u001B[39m\u001B[38;5;124m'\u001B[39m\u001B[38;5;124m*5 ?    \u001B[39m\u001B[38;5;124m\"\u001B[39m,    \u001B[38;5;124m'\u001B[39m\u001B[38;5;124ma\u001B[39m\u001B[38;5;124m'\u001B[39m\u001B[38;5;241m*\u001B[39m\u001B[38;5;241m5\u001B[39m )\n\u001B[0;32m----> 2\u001B[0m \u001B[38;5;28mprint\u001B[39m (\u001B[38;5;124m\"\u001B[39m\u001B[38;5;124mWhat is the output of \u001B[39m\u001B[38;5;124m'\u001B[39m\u001B[38;5;124maaaa\u001B[39m\u001B[38;5;124m'\u001B[39m\u001B[38;5;124m/5 ? \u001B[39m\u001B[38;5;124m\"\u001B[39m, \u001B[38;5;124;43m'\u001B[39;49m\u001B[38;5;124;43ma\u001B[39;49m\u001B[38;5;124;43m'\u001B[39;49m\u001B[38;5;241;43m/\u001B[39;49m\u001B[38;5;241;43m5\u001B[39;49m )\n",
      "\u001B[0;31mTypeError\u001B[0m: unsupported operand type(s) for /: 'str' and 'int'"
     ]
    }
   ],
   "source": [
    "print (\"What is the output of 'a'*5 ?    \",    'a'*5 )\n",
    "print (\"What is the output of 'aaaa'/5 ? \", 'a'/5 )"
   ]
  },
  {
   "cell_type": "code",
   "execution_count": null,
   "metadata": {
    "id": "HpKgEghij4eN",
    "ExecuteTime": {
     "start_time": "2023-09-21T10:34:38.174289Z"
    }
   },
   "outputs": [],
   "source": [
    "print    (      \"What is the output of int('10')/5 ? \", int('10')/5)"
   ]
  },
  {
   "cell_type": "code",
   "execution_count": null,
   "metadata": {
    "id": "_TFfSdl5j4eN",
    "ExecuteTime": {
     "start_time": "2023-09-21T10:34:38.180428Z"
    }
   },
   "outputs": [],
   "source": [
    "print ( str(9) *4)"
   ]
  },
  {
   "cell_type": "markdown",
   "metadata": {
    "id": "wkOd_77qj4eN"
   },
   "source": [
    "# Conditional Statements\n",
    "\n",
    "Tabbing is used to identify the body of `if`-`else` and other constructs such as `for`, `while`, `functions`.\n",
    "\n",
    "Check if a variable x is within the interval $[0,10]$."
   ]
  },
  {
   "cell_type": "code",
   "execution_count": null,
   "metadata": {
    "id": "6Fij4ThFj4eN",
    "ExecuteTime": {
     "start_time": "2023-09-21T10:34:38.186889Z"
    }
   },
   "outputs": [],
   "source": [
    "x = 33\n",
    "if x<=10 and x>=0 :\n",
    "    print (\"x is in the interval [0,10]\")\n",
    "    pass # pass does nothing\n",
    "    pass\n",
    "    print (\"I'm here !\")\n",
    "else :\n",
    "    print (\"x is not in the interval [0,10]\")\n",
    "    pass\n",
    "    pass\n"
   ]
  },
  {
   "cell_type": "code",
   "execution_count": null,
   "metadata": {
    "id": "77v7fCjDj4eO",
    "ExecuteTime": {
     "start_time": "2023-09-21T10:34:38.194711Z"
    }
   },
   "outputs": [],
   "source": [
    "x = 33\n",
    "# This is a special compact form\n",
    "if 0<=x<=10 :\n",
    "    print (\"x is in the interval [0,10]\")\n",
    "else :\n",
    "    print (\"x is not in the interval [0,10]\")"
   ]
  },
  {
   "cell_type": "code",
   "execution_count": null,
   "metadata": {
    "id": "XcRYqkVCj4eO",
    "ExecuteTime": {
     "start_time": "2023-09-21T10:34:38.201260Z"
    }
   },
   "outputs": [],
   "source": [
    "x = 33\n",
    "if 0<=x<=10 : print (\"x is in the interval [0,10]\")\n",
    "else : print (\"x is not in the interval [0,10]\")"
   ]
  },
  {
   "cell_type": "code",
   "execution_count": null,
   "metadata": {
    "id": "8MIgfLTTj4eO",
    "ExecuteTime": {
     "start_time": "2023-09-21T10:34:38.204809Z"
    }
   },
   "outputs": [],
   "source": [
    "if x>=0:\n",
    "    pass\n",
    "elif x<=10:\n",
    "    pass\n",
    "else:\n",
    "    pass\n",
    "\n"
   ]
  },
  {
   "cell_type": "markdown",
   "metadata": {
    "id": "pvkKSgtgj4eO"
   },
   "source": [
    "# While loops\n",
    "\n",
    "Nothing new: `while`, `break` `continue`\n"
   ]
  },
  {
   "cell_type": "code",
   "execution_count": null,
   "metadata": {
    "id": "cRXKAd6Jj4eP",
    "ExecuteTime": {
     "start_time": "2023-09-21T10:34:38.209299Z"
    }
   },
   "outputs": [],
   "source": [
    "i = 0\n",
    "while i<10:\n",
    "    pass\n",
    "    if i==8: break\n",
    "    pass\n",
    "    print (\"This is Iteration N.\", i)\n",
    "    pass\n",
    "    i += 1\n",
    "\n",
    "    if i==5: continue\n",
    "    pass\n",
    "    pass\n",
    "\n",
    "print (\"I'm out of the loop\")"
   ]
  },
  {
   "cell_type": "markdown",
   "metadata": {
    "id": "QnecXVALj4eP"
   },
   "source": [
    "# For Loops\n",
    "\n",
    "A `range` is a special tool to create sequences of numbers, given start, end, and step parameters."
   ]
  },
  {
   "cell_type": "code",
   "execution_count": 12,
   "metadata": {
    "id": "cl887whnj4eP",
    "ExecuteTime": {
     "end_time": "2023-09-21T10:34:39.387563Z",
     "start_time": "2023-09-21T10:34:38.213177Z"
    }
   },
   "outputs": [
    {
     "name": "stdout",
     "output_type": "stream",
     "text": [
      "This is Iteration N. 0\n",
      "This is Iteration N. 1\n",
      "This is Iteration N. 2\n",
      "This is Iteration N. 3\n",
      "This is Iteration N. 4\n"
     ]
    }
   ],
   "source": [
    "for i in range(5):\n",
    "    print (\"This is Iteration N.\", i)"
   ]
  },
  {
   "cell_type": "code",
   "execution_count": 13,
   "metadata": {
    "id": "Lgrf7JVVj4eP",
    "ExecuteTime": {
     "end_time": "2023-09-21T10:34:39.387785Z",
     "start_time": "2023-09-21T10:34:38.221038Z"
    }
   },
   "outputs": [
    {
     "name": "stdout",
     "output_type": "stream",
     "text": [
      "This is Iteration N. 0\n",
      "This is Iteration N. 2\n",
      "This is Iteration N. 4\n",
      "This is Iteration N. 6\n",
      "This is Iteration N. 8\n"
     ]
    }
   ],
   "source": [
    "for i in range(0,10,2):\n",
    "    print (\"This is Iteration N.\", i)"
   ]
  },
  {
   "cell_type": "code",
   "execution_count": 14,
   "metadata": {
    "id": "UtTazsrwj4eP",
    "ExecuteTime": {
     "end_time": "2023-09-21T10:34:39.588595Z",
     "start_time": "2023-09-21T10:34:38.231213Z"
    }
   },
   "outputs": [
    {
     "name": "stdout",
     "output_type": "stream",
     "text": [
      "This is Iteration N. 10\n",
      "This is Iteration N. 8\n",
      "This is Iteration N. 6\n",
      "This is Iteration N. 4\n",
      "This is Iteration N. 2\n"
     ]
    }
   ],
   "source": [
    "for i in range(10,0,-2):\n",
    "    print (\"This is Iteration N.\", i)"
   ]
  },
  {
   "cell_type": "code",
   "execution_count": 15,
   "metadata": {
    "id": "gPBjDl7kj4eQ",
    "ExecuteTime": {
     "end_time": "2023-09-21T10:34:39.728277Z",
     "start_time": "2023-09-21T10:34:38.241968Z"
    }
   },
   "outputs": [
    {
     "name": "stdout",
     "output_type": "stream",
     "text": [
      "range(0, 5)\n"
     ]
    }
   ],
   "source": [
    "print ( range(5) )"
   ]
  },
  {
   "cell_type": "markdown",
   "metadata": {
    "id": "tIpnbpQIj4eQ"
   },
   "source": [
    "This is called **iterable**! You can only iterate through it ..."
   ]
  },
  {
   "cell_type": "markdown",
   "metadata": {
    "id": "q88XEyqrj4eQ"
   },
   "source": [
    "# Lists\n",
    "\n",
    "Lists are used very frequently, and they can be dynamically modified."
   ]
  },
  {
   "cell_type": "code",
   "execution_count": 16,
   "metadata": {
    "id": "Vfw3E_8cj4eQ",
    "ExecuteTime": {
     "end_time": "2023-09-21T10:34:39.772791Z",
     "start_time": "2023-09-21T10:34:38.256115Z"
    }
   },
   "outputs": [
    {
     "name": "stdout",
     "output_type": "stream",
     "text": [
      "This is Iteration N. 0\n",
      "This is Iteration N. 1\n",
      "This is Iteration N. 2\n",
      "This is Iteration N. 3\n",
      "This is Iteration N. 4\n"
     ]
    }
   ],
   "source": [
    "for i in [0,1,2,3,4]:\n",
    "    print (\"This is Iteration N.\", i)"
   ]
  },
  {
   "cell_type": "code",
   "execution_count": 17,
   "metadata": {
    "id": "-CwuAFjij4eQ",
    "ExecuteTime": {
     "end_time": "2023-09-21T10:34:39.858784Z",
     "start_time": "2023-09-21T10:34:38.263556Z"
    }
   },
   "outputs": [
    {
     "name": "stdout",
     "output_type": "stream",
     "text": [
      "[1, 2, 3, 4, 5]\n"
     ]
    }
   ],
   "source": [
    "my_list = [1,2,3] + [4,5]\n",
    "print (my_list)"
   ]
  },
  {
   "cell_type": "code",
   "execution_count": 18,
   "metadata": {
    "id": "C1R8n4ikj4eQ",
    "ExecuteTime": {
     "end_time": "2023-09-21T10:34:39.924859Z",
     "start_time": "2023-09-21T10:34:38.278119Z"
    }
   },
   "outputs": [
    {
     "name": "stdout",
     "output_type": "stream",
     "text": [
      "[1, 2, 3, 4, 5]\n"
     ]
    }
   ],
   "source": [
    "my_list = [1,2,3]\n",
    "my_list += [4,5]\n",
    "print (my_list)"
   ]
  },
  {
   "cell_type": "code",
   "execution_count": 19,
   "metadata": {
    "id": "tRfYJqiXj4eQ",
    "ExecuteTime": {
     "end_time": "2023-09-21T10:34:39.925095Z",
     "start_time": "2023-09-21T10:34:38.286324Z"
    }
   },
   "outputs": [
    {
     "name": "stdout",
     "output_type": "stream",
     "text": [
      "[1, 2, 3, 'donald duck', 42.0]\n"
     ]
    }
   ],
   "source": [
    "my_list = [1,2,3] + [\"donald duck\", 42.0]\n",
    "print (my_list)"
   ]
  },
  {
   "cell_type": "code",
   "execution_count": 20,
   "metadata": {
    "id": "Sci-4gmJj4eQ",
    "ExecuteTime": {
     "end_time": "2023-09-21T10:34:39.985805Z",
     "start_time": "2023-09-21T10:34:38.297676Z"
    }
   },
   "outputs": [
    {
     "name": "stdout",
     "output_type": "stream",
     "text": [
      "[1, 2, 3, 'donald duck', ['this', 'is', 1, 'nested', 'list']]\n"
     ]
    }
   ],
   "source": [
    "my_list = [1,2,3] + \\\n",
    "          [\"donald duck\", [\"this\", \"is\", 1, \"nested\", \"list\"] ]\n",
    "print (my_list)"
   ]
  },
  {
   "cell_type": "code",
   "execution_count": 21,
   "metadata": {
    "id": "NnDOu_T0j4eR",
    "ExecuteTime": {
     "end_time": "2023-09-21T10:34:39.986458Z",
     "start_time": "2023-09-21T10:34:38.306103Z"
    }
   },
   "outputs": [
    {
     "name": "stdout",
     "output_type": "stream",
     "text": [
      "5\n"
     ]
    }
   ],
   "source": [
    "print ( len([1,2,3,4,5]) )"
   ]
  },
  {
   "cell_type": "code",
   "execution_count": 22,
   "metadata": {
    "id": "zG011rxdj4eR",
    "ExecuteTime": {
     "start_time": "2023-09-21T10:34:38.313646Z"
    }
   },
   "outputs": [
    {
     "name": "stdout",
     "output_type": "stream",
     "text": [
      "1\n",
      "5\n"
     ]
    },
    {
     "ename": "IndexError",
     "evalue": "list index out of range",
     "output_type": "error",
     "traceback": [
      "\u001B[0;31m---------------------------------------------------------------------------\u001B[0m",
      "\u001B[0;31mIndexError\u001B[0m                                Traceback (most recent call last)",
      "Cell \u001B[0;32mIn[22], line 4\u001B[0m\n\u001B[1;32m      2\u001B[0m \u001B[38;5;28mprint\u001B[39m ( my_list[\u001B[38;5;241m0\u001B[39m])\n\u001B[1;32m      3\u001B[0m \u001B[38;5;28mprint\u001B[39m ( my_list[\u001B[38;5;241m4\u001B[39m])\n\u001B[0;32m----> 4\u001B[0m \u001B[38;5;28mprint\u001B[39m ( \u001B[43mmy_list\u001B[49m\u001B[43m[\u001B[49m\u001B[38;5;241;43m5\u001B[39;49m\u001B[43m]\u001B[49m)\n",
      "\u001B[0;31mIndexError\u001B[0m: list index out of range"
     ]
    }
   ],
   "source": [
    "my_list = [1,2,3,4,5]\n",
    "print ( my_list[0])\n",
    "print ( my_list[4])\n",
    "print ( my_list[5])"
   ]
  },
  {
   "cell_type": "code",
   "execution_count": null,
   "metadata": {
    "id": "HxyFzMnPj4eR",
    "ExecuteTime": {
     "start_time": "2023-09-21T10:34:38.331825Z"
    }
   },
   "outputs": [],
   "source": [
    "my_list = [1,2,3,4,5]\n",
    "print ( my_list[-1])\n",
    "print ( my_list[-2])\n",
    "print ( my_list[-100])"
   ]
  },
  {
   "cell_type": "code",
   "execution_count": null,
   "metadata": {
    "id": "gWjrLAw8j4eR",
    "ExecuteTime": {
     "start_time": "2023-09-21T10:34:38.336685Z"
    }
   },
   "outputs": [],
   "source": [
    "my_list = [1,2,3,4,5,4,3,2,1]\n",
    "\n",
    "print ( 3 in my_list)\n",
    "\n",
    "print ( my_list.count(3))\n",
    "\n",
    "print ( my_list.index(1))\n",
    "# print ( my_list.index(33)) # this raises an error"
   ]
  },
  {
   "cell_type": "markdown",
   "metadata": {
    "id": "cC6TJqazj4eR"
   },
   "source": [
    "# Slicing\n",
    "\n",
    "Slicing allows to access a sublist"
   ]
  },
  {
   "cell_type": "code",
   "execution_count": null,
   "metadata": {
    "id": "_yQwWBAaj4eR",
    "ExecuteTime": {
     "start_time": "2023-09-21T10:34:38.341640Z"
    }
   },
   "outputs": [],
   "source": [
    "my_list = ['red', 'orange', 'yellow', 'green', 'blue', 'indigo',\n",
    "           'violet']\n",
    "\n",
    "print ( my_list[1:3] )"
   ]
  },
  {
   "cell_type": "code",
   "execution_count": null,
   "metadata": {
    "id": "dqbnPbuFj4eR",
    "ExecuteTime": {
     "start_time": "2023-09-21T10:34:38.355034Z"
    }
   },
   "outputs": [],
   "source": [
    "print ( my_list[3:-1] )"
   ]
  },
  {
   "cell_type": "code",
   "execution_count": null,
   "metadata": {
    "id": "P64B2Aqgj4eR",
    "ExecuteTime": {
     "start_time": "2023-09-21T10:34:38.360923Z"
    }
   },
   "outputs": [],
   "source": [
    "print ( my_list[3:] )"
   ]
  },
  {
   "cell_type": "code",
   "execution_count": null,
   "metadata": {
    "id": "DR9vwPNfj4eS",
    "ExecuteTime": {
     "start_time": "2023-09-21T10:34:38.368764Z"
    }
   },
   "outputs": [],
   "source": [
    "print ( my_list[0:7:2] )"
   ]
  },
  {
   "cell_type": "code",
   "execution_count": null,
   "metadata": {
    "id": "ZoVkyBIPj4eS",
    "ExecuteTime": {
     "start_time": "2023-09-21T10:34:38.373676Z"
    }
   },
   "outputs": [],
   "source": [
    "print ( my_list[0::2] )"
   ]
  },
  {
   "cell_type": "code",
   "execution_count": null,
   "metadata": {
    "id": "HvCXg672j4eS",
    "ExecuteTime": {
     "start_time": "2023-09-21T10:34:38.381826Z"
    }
   },
   "outputs": [],
   "source": [
    "print ( my_list[::2] )"
   ]
  },
  {
   "cell_type": "code",
   "execution_count": null,
   "metadata": {
    "id": "lfFW6XgYj4eS",
    "ExecuteTime": {
     "start_time": "2023-09-21T10:34:38.389792Z"
    }
   },
   "outputs": [],
   "source": [
    "print ( my_list[::-1] )"
   ]
  },
  {
   "cell_type": "markdown",
   "metadata": {
    "id": "-4ybQxs4j4eS"
   },
   "source": [
    "# Lists are mutable\n",
    "\n",
    "Elements of a list can be replaced. Sublists can be replaced with other sublists."
   ]
  },
  {
   "cell_type": "code",
   "execution_count": null,
   "metadata": {
    "id": "FELOdGeQj4eS",
    "ExecuteTime": {
     "start_time": "2023-09-21T10:34:38.394285Z"
    }
   },
   "outputs": [],
   "source": [
    "# original list\n",
    "my_list = ['red', 'orange', 'yellow', 'green', 'blue', 'indigo', 'violet']\n",
    "print (my_list)\n",
    "\n",
    "# modify one element\n",
    "my_list[-2] = 'ultramarine'\n",
    "\n",
    "# the new list\n",
    "print (my_list)"
   ]
  },
  {
   "cell_type": "code",
   "execution_count": null,
   "metadata": {
    "id": "Pc5CzrkNj4eS",
    "ExecuteTime": {
     "start_time": "2023-09-21T10:34:38.401135Z"
    }
   },
   "outputs": [],
   "source": [
    "my_list = ['red', 'orange', 'yellow', 'green', 'blue', 'indigo', 'violet']\n",
    "my_list[4] = ['light blue', 'blue', 'dark blue']\n",
    "print (my_list)"
   ]
  },
  {
   "cell_type": "code",
   "execution_count": null,
   "metadata": {
    "id": "P1dSjVIyj4eS",
    "ExecuteTime": {
     "start_time": "2023-09-21T10:34:38.410162Z"
    }
   },
   "outputs": [],
   "source": [
    "# here we replace one slice with another slice\n",
    "my_list = ['red', 'orange', 'yellow', 'green', 'blue', 'indigo', 'violet']\n",
    "my_list[4:5] = ['light blue', 'blue', 'dark blue']\n",
    "print (my_list)"
   ]
  },
  {
   "cell_type": "code",
   "execution_count": null,
   "metadata": {
    "id": "v4y2OdBhj4eS",
    "ExecuteTime": {
     "start_time": "2023-09-21T10:34:38.415715Z"
    }
   },
   "outputs": [],
   "source": [
    "# A special case of replacement when start and end index are the same\n",
    "my_list = ['red', 'orange', 'yellow', 'green', 'blue', 'indigo', 'violet']\n",
    "my_list[5:5] = ['dark blue', 'darker blue']\n",
    "print (my_list)"
   ]
  },
  {
   "cell_type": "code",
   "execution_count": null,
   "metadata": {
    "id": "YFtLF8Vzj4eS",
    "ExecuteTime": {
     "start_time": "2023-09-21T10:34:38.422275Z"
    }
   },
   "outputs": [],
   "source": [
    "my_list = ['red', 'orange', 'yellow', 'green', 'blue', 'indigo', 'violet']\n",
    "my_list[2] = []\n",
    "print (my_list)"
   ]
  },
  {
   "cell_type": "code",
   "execution_count": null,
   "metadata": {
    "id": "1XolcjrKj4eS",
    "ExecuteTime": {
     "start_time": "2023-09-21T10:34:38.428570Z"
    }
   },
   "outputs": [],
   "source": [
    "my_list = ['red', 'orange', 'yellow', 'green', 'blue', 'indigo', 'violet']\n",
    "my_list[2:3] = []\n",
    "print (my_list)"
   ]
  },
  {
   "cell_type": "code",
   "execution_count": null,
   "metadata": {
    "id": "gyiJJrGEj4eS",
    "ExecuteTime": {
     "start_time": "2023-09-21T10:34:38.432407Z"
    }
   },
   "outputs": [],
   "source": [
    "my_list = ['red', 'orange', 'yellow', 'green', 'blue', 'indigo', 'violet']\n",
    "\n",
    "print (\"Is orange in the rainbow?\", 'orange' in my_list )\n",
    "\n",
    "print (\"Is brown in the rainbow?\", 'brown' in my_list )\n",
    "\n",
    "print (\"Is it true that cobal is not in the rainbow?\", 'cobalt' not in my_list )"
   ]
  },
  {
   "cell_type": "markdown",
   "metadata": {
    "id": "0CdczQ38j4eT"
   },
   "source": [
    "# Tuple\n",
    "\n",
    "Like lists, but **immutable**."
   ]
  },
  {
   "cell_type": "code",
   "execution_count": null,
   "metadata": {
    "id": "7s0J0i8rj4eT",
    "ExecuteTime": {
     "start_time": "2023-09-21T10:34:38.437149Z"
    }
   },
   "outputs": [],
   "source": [
    "my_tuple = (1,2,3,4, \"five\")\n",
    "\n",
    "print (my_tuple)\n",
    "print (my_tuple[2])"
   ]
  },
  {
   "cell_type": "code",
   "execution_count": null,
   "metadata": {
    "id": "u5KOKP8Bj4eT",
    "ExecuteTime": {
     "start_time": "2023-09-21T10:34:38.442530Z"
    }
   },
   "outputs": [],
   "source": [
    "my_tuple = (1,2,3) + (4, \"five\")\n",
    "\n",
    "print (my_tuple)\n",
    "print (my_tuple[2])"
   ]
  },
  {
   "cell_type": "code",
   "execution_count": null,
   "metadata": {
    "id": "-A3oQcCvj4eT",
    "ExecuteTime": {
     "start_time": "2023-09-21T10:34:38.445988Z"
    }
   },
   "outputs": [],
   "source": [
    "my_tuple[2] = 3"
   ]
  },
  {
   "cell_type": "markdown",
   "metadata": {
    "id": "SJP3COrcj4eT"
   },
   "source": [
    "# Unpacking\n",
    "\n",
    "Multiple assignment, typical of function returning multiple values."
   ]
  },
  {
   "cell_type": "code",
   "execution_count": null,
   "metadata": {
    "id": "UM44q1QAj4eT",
    "ExecuteTime": {
     "start_time": "2023-09-21T10:34:38.450552Z"
    }
   },
   "outputs": [],
   "source": [
    "my_tuple = (1,2,3)\n",
    "a,b,c = my_tuple\n",
    "print (a,b,c)"
   ]
  },
  {
   "cell_type": "code",
   "execution_count": null,
   "metadata": {
    "id": "lVDCPGBtj4eT",
    "ExecuteTime": {
     "start_time": "2023-09-21T10:34:38.454287Z"
    }
   },
   "outputs": [],
   "source": [
    "my_list = [1,2,3]\n",
    "a,b,c = my_list\n",
    "print (a,b,c)"
   ]
  },
  {
   "cell_type": "markdown",
   "metadata": {
    "id": "FLWCmYggj4eT"
   },
   "source": [
    "# Sorting\n",
    "\n",
    "In-place vs. returning a new list."
   ]
  },
  {
   "cell_type": "code",
   "execution_count": null,
   "metadata": {
    "id": "MjxR_2lij4eT",
    "ExecuteTime": {
     "start_time": "2023-09-21T10:34:38.461371Z"
    }
   },
   "outputs": [],
   "source": [
    "my_list = [2,3,1]\n",
    "\n",
    "my_list.sort()\n",
    "\n",
    "print (my_list)"
   ]
  },
  {
   "cell_type": "code",
   "execution_count": null,
   "metadata": {
    "id": "lz8CkM9ij4eT",
    "ExecuteTime": {
     "start_time": "2023-09-21T10:34:38.465326Z"
    }
   },
   "outputs": [],
   "source": [
    "my_list = [2,3,1]\n",
    "\n",
    "new_list = sorted( my_list )\n",
    "\n",
    "print (my_list)\n",
    "print (new_list)"
   ]
  },
  {
   "cell_type": "markdown",
   "metadata": {
    "id": "_ozZ87YRj4eU"
   },
   "source": [
    "# Careful !\n",
    "\n",
    "**Check** in python tutor: http://pythontutor.com/  !"
   ]
  },
  {
   "cell_type": "code",
   "execution_count": 27,
   "metadata": {
    "id": "QmQC03GIj4eU",
    "ExecuteTime": {
     "end_time": "2023-09-21T10:35:12.924814Z",
     "start_time": "2023-09-21T10:35:12.885517Z"
    }
   },
   "outputs": [
    {
     "name": "stdout",
     "output_type": "stream",
     "text": [
      "22 11\n"
     ]
    }
   ],
   "source": [
    "a = 11\n",
    "b = a\n",
    "a = 22\n",
    "print (a,b)"
   ]
  },
  {
   "cell_type": "code",
   "execution_count": null,
   "metadata": {
    "id": "KGykYig5j4eU",
    "ExecuteTime": {
     "start_time": "2023-09-21T10:34:38.472604Z"
    }
   },
   "outputs": [],
   "source": [
    "a = [11]\n",
    "b = a\n",
    "a[0] = 22\n",
    "print (a,b)"
   ]
  },
  {
   "cell_type": "code",
   "execution_count": null,
   "metadata": {
    "id": "wHOZwdbOj4eU",
    "ExecuteTime": {
     "start_time": "2023-09-21T10:34:38.477852Z"
    }
   },
   "outputs": [],
   "source": [
    "my_list = [1,2,3]\n",
    "new_list = my_list\n",
    "new_list[1] = 77\n",
    "\n",
    "print ( new_list + my_list)"
   ]
  },
  {
   "cell_type": "code",
   "execution_count": null,
   "metadata": {
    "id": "Xib2TdMBj4eU",
    "ExecuteTime": {
     "start_time": "2023-09-21T10:34:38.481644Z"
    }
   },
   "outputs": [],
   "source": [
    "my_list = [1,2,3] *2\n",
    "print (my_list)"
   ]
  },
  {
   "cell_type": "code",
   "execution_count": null,
   "metadata": {
    "id": "UddSbNkZj4eU",
    "ExecuteTime": {
     "start_time": "2023-09-21T10:34:38.486188Z"
    }
   },
   "outputs": [],
   "source": [
    "my_list = [ [1,2,3] ]*2\n",
    "print (my_list)"
   ]
  },
  {
   "cell_type": "code",
   "execution_count": null,
   "metadata": {
    "id": "fo_p_Ie-j4eU",
    "ExecuteTime": {
     "start_time": "2023-09-21T10:34:38.492606Z"
    }
   },
   "outputs": [],
   "source": [
    "my_list[0]+= [4]\n",
    "print ( my_list )"
   ]
  },
  {
   "cell_type": "code",
   "execution_count": null,
   "metadata": {
    "id": "VTn19mQ9j4eU",
    "ExecuteTime": {
     "start_time": "2023-09-21T10:34:38.505856Z"
    }
   },
   "outputs": [],
   "source": [
    "my_tuple = (1,2,3)\n",
    "new_tuple = my_tuple\n",
    "my_tuple += tuple([77])\n",
    "\n",
    "print ( new_tuple + my_tuple)"
   ]
  },
  {
   "cell_type": "code",
   "execution_count": null,
   "metadata": {
    "id": "3nMbhrd5j4eU",
    "ExecuteTime": {
     "start_time": "2023-09-21T10:34:38.512964Z"
    }
   },
   "outputs": [],
   "source": [
    "# if you want to actually copy a list\n",
    "a = [11]\n",
    "b = a.copy()\n",
    "a[0] = 22\n",
    "print (a,b)"
   ]
  },
  {
   "cell_type": "code",
   "execution_count": null,
   "metadata": {
    "id": "DD6rAWn8j4eU",
    "ExecuteTime": {
     "start_time": "2023-09-21T10:34:38.521210Z"
    }
   },
   "outputs": [],
   "source": [
    "a = [11]\n",
    "b = list(a)\n",
    "a[0] = 22\n",
    "print (a,b)"
   ]
  },
  {
   "cell_type": "code",
   "execution_count": null,
   "metadata": {
    "id": "BX60aks_j4eU",
    "ExecuteTime": {
     "start_time": "2023-09-21T10:34:38.527337Z"
    }
   },
   "outputs": [],
   "source": [
    "a = [11]\n",
    "b = a[:]\n",
    "a[0] = 22\n",
    "print (a,b)"
   ]
  },
  {
   "cell_type": "markdown",
   "metadata": {
    "id": "Zmqr58Ufj4eV"
   },
   "source": [
    "# Iterating through lists\n",
    "\n",
    "Or through multiple lists."
   ]
  },
  {
   "cell_type": "code",
   "execution_count": null,
   "metadata": {
    "id": "0e-gbX_5j4eV",
    "ExecuteTime": {
     "start_time": "2023-09-21T10:34:38.531759Z"
    }
   },
   "outputs": [],
   "source": [
    "my_list = [2,3,1]\n",
    "for x in my_list:\n",
    "    print (x)"
   ]
  },
  {
   "cell_type": "code",
   "execution_count": null,
   "metadata": {
    "id": "mWO-iElOj4eV",
    "ExecuteTime": {
     "start_time": "2023-09-21T10:34:38.537204Z"
    }
   },
   "outputs": [],
   "source": [
    "my_list = [2,3,1]\n",
    "for i,x in enumerate(my_list):\n",
    "    print (i,x)"
   ]
  },
  {
   "cell_type": "code",
   "execution_count": null,
   "metadata": {
    "id": "1J-Y5LXfj4eV",
    "ExecuteTime": {
     "start_time": "2023-09-21T10:34:38.542556Z"
    }
   },
   "outputs": [],
   "source": [
    "my_list = [2,3,1]\n",
    "for z in enumerate(my_list):\n",
    "    print (z, type(z))"
   ]
  },
  {
   "cell_type": "code",
   "execution_count": null,
   "metadata": {
    "id": "TY1ILO9Fj4eV",
    "ExecuteTime": {
     "start_time": "2023-09-21T10:34:38.547458Z"
    }
   },
   "outputs": [],
   "source": [
    "A = [2,3,1]\n",
    "B = [\"two\", \"three\", \"one\"]\n",
    "for a,b in zip(A,B):\n",
    "    print (a,b)"
   ]
  },
  {
   "cell_type": "markdown",
   "metadata": {
    "id": "K7XlmoTXj4eV"
   },
   "source": [
    "# More about strings\n",
    "\n",
    "Strings are like lists of character, but they are immutable."
   ]
  },
  {
   "cell_type": "code",
   "execution_count": 23,
   "metadata": {
    "id": "SRrZxV-Wj4eV",
    "ExecuteTime": {
     "end_time": "2023-09-21T10:34:40.835146Z",
     "start_time": "2023-09-21T10:34:38.550429Z"
    }
   },
   "outputs": [],
   "source": [
    "msg = \"I like programming with python!\""
   ]
  },
  {
   "cell_type": "code",
   "execution_count": 24,
   "metadata": {
    "id": "C56IUXKDj4eV",
    "ExecuteTime": {
     "end_time": "2023-09-21T10:34:40.904480Z",
     "start_time": "2023-09-21T10:34:38.555759Z"
    }
   },
   "outputs": [
    {
     "name": "stdout",
     "output_type": "stream",
     "text": [
      "l\n"
     ]
    }
   ],
   "source": [
    "print (msg[2])"
   ]
  },
  {
   "cell_type": "code",
   "execution_count": 25,
   "metadata": {
    "id": "8WIpGdk9j4eV",
    "ExecuteTime": {
     "end_time": "2023-09-21T10:34:40.910160Z",
     "start_time": "2023-09-21T10:34:38.565525Z"
    }
   },
   "outputs": [
    {
     "name": "stdout",
     "output_type": "stream",
     "text": [
      "like\n"
     ]
    }
   ],
   "source": [
    "print (msg[2:6])"
   ]
  },
  {
   "cell_type": "code",
   "execution_count": 26,
   "metadata": {
    "id": "ztn496dEj4eV",
    "ExecuteTime": {
     "start_time": "2023-09-21T10:34:38.576268Z"
    }
   },
   "outputs": [
    {
     "ename": "TypeError",
     "evalue": "'str' object does not support item assignment",
     "output_type": "error",
     "traceback": [
      "\u001B[0;31m---------------------------------------------------------------------------\u001B[0m",
      "\u001B[0;31mTypeError\u001B[0m                                 Traceback (most recent call last)",
      "Cell \u001B[0;32mIn[26], line 1\u001B[0m\n\u001B[0;32m----> 1\u001B[0m \u001B[43mmsg\u001B[49m\u001B[43m[\u001B[49m\u001B[38;5;241;43m3\u001B[39;49m\u001B[43m]\u001B[49m \u001B[38;5;241m=\u001B[39m \u001B[38;5;124m\"\u001B[39m\u001B[38;5;124mx\u001B[39m\u001B[38;5;124m\"\u001B[39m\n",
      "\u001B[0;31mTypeError\u001B[0m: 'str' object does not support item assignment"
     ]
    }
   ],
   "source": [
    "msg[3] = \"x\""
   ]
  },
  {
   "cell_type": "code",
   "execution_count": null,
   "metadata": {
    "id": "ndeinC8Zj4eV",
    "ExecuteTime": {
     "start_time": "2023-09-21T10:34:38.586805Z"
    }
   },
   "outputs": [],
   "source": [
    "for c in msg:\n",
    "    print (c)"
   ]
  },
  {
   "cell_type": "code",
   "execution_count": null,
   "metadata": {
    "id": "QTVzIp0Nj4eV",
    "ExecuteTime": {
     "start_time": "2023-09-21T10:34:38.592400Z"
    }
   },
   "outputs": [],
   "source": [
    "print (msg.split())"
   ]
  },
  {
   "cell_type": "code",
   "execution_count": null,
   "metadata": {
    "id": "5bLnW-B3j4eW",
    "ExecuteTime": {
     "start_time": "2023-09-21T10:34:38.596291Z"
    }
   },
   "outputs": [],
   "source": [
    "print (msg.split(\"i\"))"
   ]
  },
  {
   "cell_type": "code",
   "execution_count": null,
   "metadata": {
    "id": "gNcOIIE9j4eW",
    "ExecuteTime": {
     "start_time": "2023-09-21T10:34:38.600034Z"
    }
   },
   "outputs": [],
   "source": [
    "#Remove leading and training whitespaces\n",
    "\n",
    "my_string = \"     A Bit of Python \\n\"\n",
    "\n",
    "print ( \"---\", my_string, \"---\", sep=\"\" )\n",
    "print ( \"---\", my_string.strip(), \"---\", sep=\"\" )"
   ]
  },
  {
   "cell_type": "code",
   "execution_count": null,
   "metadata": {
    "id": "18Nfqdt2j4eW",
    "ExecuteTime": {
     "start_time": "2023-09-21T10:34:38.603611Z"
    }
   },
   "outputs": [],
   "source": [
    "# Remove leading and training characters of choice\n",
    "\n",
    "my_string = \"###!#!#!##!#A Bit of Python?!!???##\"\n",
    "\n",
    "print ( \"---\", my_string.strip(\"#\"), \"---\", sep=\"\" )\n",
    "print ( \"---\", my_string.strip(\"#?\"), \"---\", sep=\"\" )\n",
    "print ( \"---\", my_string.strip(\"!?#\"), \"---\", sep=\"\" )"
   ]
  },
  {
   "cell_type": "markdown",
   "metadata": {
    "id": "WeoW89kmj4eW"
   },
   "source": [
    "# Sets\n",
    "\n",
    "The mathematical notion of set."
   ]
  },
  {
   "cell_type": "code",
   "execution_count": null,
   "metadata": {
    "id": "kYaKxyr0j4eW",
    "ExecuteTime": {
     "start_time": "2023-09-21T10:34:38.606779Z"
    }
   },
   "outputs": [],
   "source": [
    "my_set = set([1,2,3,4,5,4,3,2,1])\n",
    "\n",
    "print (my_set)"
   ]
  },
  {
   "cell_type": "code",
   "execution_count": null,
   "metadata": {
    "id": "LXmNaJpSj4eW",
    "ExecuteTime": {
     "start_time": "2023-09-21T10:34:38.609320Z"
    }
   },
   "outputs": [],
   "source": [
    "A = set([1,2,3])\n",
    "B = set([4,5])\n",
    "C = A | B\n",
    "\n",
    "print (C)"
   ]
  },
  {
   "cell_type": "code",
   "execution_count": null,
   "metadata": {
    "id": "6UTJfhzzj4eW",
    "ExecuteTime": {
     "start_time": "2023-09-21T10:34:38.612124Z"
    }
   },
   "outputs": [],
   "source": [
    "A = set([1,2,3])\n",
    "B = set([3,4,5])\n",
    "C = A & B\n",
    "\n",
    "print (C)"
   ]
  },
  {
   "cell_type": "code",
   "execution_count": null,
   "metadata": {
    "id": "n9CnrCYPj4eW",
    "ExecuteTime": {
     "start_time": "2023-09-21T10:34:38.615437Z"
    }
   },
   "outputs": [],
   "source": [
    "A = set([1,2,3])\n",
    "B = set([3,4,5])\n",
    "C = A - B\n",
    "\n",
    "print (C)"
   ]
  },
  {
   "cell_type": "code",
   "execution_count": null,
   "metadata": {
    "id": "PD-Zz-azj4eW",
    "ExecuteTime": {
     "start_time": "2023-09-21T10:34:38.618809Z"
    }
   },
   "outputs": [],
   "source": [
    "A = set([1,2,3])\n",
    "B = set([3,4,5])\n",
    "\n",
    "print (1 in A)\n",
    "print (7 not in A)"
   ]
  },
  {
   "cell_type": "markdown",
   "metadata": {
    "id": "yee9TlQcj4eW"
   },
   "source": [
    "# Dictionaries\n",
    "\n",
    "A dictionary is a map"
   ]
  },
  {
   "cell_type": "code",
   "execution_count": null,
   "metadata": {
    "id": "e7Gx0qCkj4eW",
    "ExecuteTime": {
     "start_time": "2023-09-21T10:34:38.622903Z"
    }
   },
   "outputs": [],
   "source": [
    "my_dict = {1:\"Jan\", 2:\"Feb\", 3:\"Mar\", 4:\"Apr\", 5:\"May\", 6:\"Jun\",\n",
    "           7:\"Jul\", 8:\"Aug\", 9:\"Sep\", 10:\"Oct\", 11:\"Nov\", 12:\"Dec\"}\n",
    "\n",
    "print (my_dict[0])"
   ]
  },
  {
   "cell_type": "code",
   "execution_count": null,
   "metadata": {
    "id": "krQhOMPTj4eX",
    "ExecuteTime": {
     "start_time": "2023-09-21T10:34:38.626292Z"
    }
   },
   "outputs": [],
   "source": [
    "my_dict = {1:\"Jan\", 2:\"Feb\", 3:\"Mar\", 4:\"Apr\", 5:\"May\", 6:\"Jun\",\n",
    "           7:\"Jul\", 8:\"Aug\", 9:\"Sep\", 10:\"Oct\", 11:\"Nov\", 12:\"Dec\"}\n",
    "\n",
    "print (my_dict[1])\n",
    "print (my_dict[12])"
   ]
  },
  {
   "cell_type": "code",
   "execution_count": null,
   "metadata": {
    "id": "BTd8zApnj4eX",
    "ExecuteTime": {
     "start_time": "2023-09-21T10:34:38.628982Z"
    }
   },
   "outputs": [],
   "source": [
    "my_dict = {1:\"Jan\", 2:\"Feb\", 3:\"Mar\", 4:\"Apr\", 5:\"May\", 6:\"Jun\",\n",
    "           7:\"Jul\", 8:\"Aug\", 9:\"Sep\", 10:\"Oct\", 11:\"Nov\", 12:\"Dec\"}\n",
    "\n",
    "my_dict[1] = 777\n",
    "del my_dict[12]\n",
    "print (my_dict)\n"
   ]
  },
  {
   "cell_type": "code",
   "execution_count": null,
   "metadata": {
    "id": "oD7MKeZnj4eX",
    "ExecuteTime": {
     "start_time": "2023-09-21T10:34:38.632115Z"
    }
   },
   "outputs": [],
   "source": [
    "my_dict[8474] = \"claudio\"\n",
    "print (my_dict)"
   ]
  },
  {
   "cell_type": "code",
   "execution_count": null,
   "metadata": {
    "id": "y24jcAJ6j4eX",
    "ExecuteTime": {
     "start_time": "2023-09-21T10:34:38.635264Z"
    }
   },
   "outputs": [],
   "source": [
    "print (my_dict.keys())"
   ]
  },
  {
   "cell_type": "code",
   "execution_count": null,
   "metadata": {
    "id": "CEU-ZaCOj4eX",
    "ExecuteTime": {
     "start_time": "2023-09-21T10:34:38.638103Z"
    }
   },
   "outputs": [],
   "source": [
    "print (my_dict.values())"
   ]
  },
  {
   "cell_type": "code",
   "execution_count": null,
   "metadata": {
    "id": "v7PnV32Lj4eX",
    "ExecuteTime": {
     "start_time": "2023-09-21T10:34:38.641570Z"
    }
   },
   "outputs": [],
   "source": [
    "my_dict = {1:\"Jan\", 2:\"Feb\", 3:\"Mar\", 4:\"Apr\", 5:\"May\", 6:\"Jun\",\n",
    "           7:\"Jul\", 8:\"Aug\", 9:\"Sep\", 10:\"Oct\", 11:\"Nov\", 12:\"Dec\"}\n",
    "\n",
    "for k in my_dict:\n",
    "    print (k)"
   ]
  },
  {
   "cell_type": "code",
   "execution_count": null,
   "metadata": {
    "id": "DdRP2_80j4eX",
    "ExecuteTime": {
     "start_time": "2023-09-21T10:34:38.644608Z"
    }
   },
   "outputs": [],
   "source": [
    "my_dict = {1:\"Jan\", 2:\"Feb\", 3:\"Mar\", 4:\"Apr\", 5:\"May\", 6:\"Jun\",\n",
    "           7:\"Jul\", 8:\"Aug\", 9:\"Sep\", 10:\"Oct\", 11:\"Nov\", 12:\"Dec\"}\n",
    "\n",
    "for k,v in my_dict.items():\n",
    "    print (k,v)"
   ]
  },
  {
   "cell_type": "markdown",
   "metadata": {
    "id": "mNFP641Hj4eX"
   },
   "source": [
    "# Comprehensions\n",
    "\n",
    "Creating lists by iterating through other lists."
   ]
  },
  {
   "cell_type": "code",
   "execution_count": null,
   "metadata": {
    "id": "8bK8Vlomj4eX",
    "ExecuteTime": {
     "start_time": "2023-09-21T10:34:38.647970Z"
    }
   },
   "outputs": [],
   "source": [
    "my_list = [x**2 for x in range(10)]\n",
    "print (my_list)"
   ]
  },
  {
   "cell_type": "code",
   "execution_count": null,
   "metadata": {
    "id": "R87mOjcIj4eX",
    "ExecuteTime": {
     "start_time": "2023-09-21T10:34:38.651375Z"
    }
   },
   "outputs": [],
   "source": [
    "my_list = [x**2 for x in range(10) if x%2==0]\n",
    "print (my_list)"
   ]
  },
  {
   "cell_type": "code",
   "execution_count": null,
   "metadata": {
    "id": "Ml-Fj6A8j4eX",
    "ExecuteTime": {
     "start_time": "2023-09-21T10:34:38.654499Z"
    }
   },
   "outputs": [],
   "source": [
    "my_dict = {x:x**2 for x in range(10) if x%2==0}\n",
    "print (my_dict)"
   ]
  },
  {
   "cell_type": "markdown",
   "metadata": {
    "id": "AxW9Hhzdj4eY"
   },
   "source": [
    "# Functions\n",
    "\n",
    "Do not write code outside functions!\n",
    "\n",
    "Careful when passing lists as parameters.\n",
    "\n",
    "You can return lists, tuples, sets, dictionaries.\n",
    "\n",
    "Get used to move *stable* functions in a separate `module.py`."
   ]
  },
  {
   "cell_type": "code",
   "execution_count": null,
   "metadata": {
    "id": "JgLLt5Ytj4eY",
    "ExecuteTime": {
     "start_time": "2023-09-21T10:34:38.657074Z"
    }
   },
   "outputs": [],
   "source": [
    "def square(x):\n",
    "    return x**2\n",
    "\n",
    "print ( square(3) )"
   ]
  },
  {
   "cell_type": "code",
   "execution_count": null,
   "metadata": {
    "id": "ptWevarqj4eY",
    "ExecuteTime": {
     "start_time": "2023-09-21T10:34:38.659216Z"
    }
   },
   "outputs": [],
   "source": [
    "def powers(x,n):\n",
    "    return [ x**i for i in range(n) ]\n",
    "\n",
    "print ( powers(2,5) )"
   ]
  },
  {
   "cell_type": "code",
   "execution_count": null,
   "metadata": {
    "id": "Ay__WrRBj4eY",
    "ExecuteTime": {
     "start_time": "2023-09-21T10:34:38.661890Z"
    }
   },
   "outputs": [],
   "source": [
    "copy_f = powers\n",
    "\n",
    "print ( copy_f(2,5) )"
   ]
  },
  {
   "cell_type": "code",
   "execution_count": null,
   "metadata": {
    "id": "rIrSNOYVj4eY",
    "ExecuteTime": {
     "start_time": "2023-09-21T10:34:38.665613Z"
    }
   },
   "outputs": [],
   "source": [
    "powers_3 = lambda x:powers(x,3)\n",
    "\n",
    "print (powers_3(5))"
   ]
  },
  {
   "cell_type": "code",
   "execution_count": null,
   "metadata": {
    "id": "daEKNIhIj4eY",
    "ExecuteTime": {
     "start_time": "2023-09-21T10:34:38.668566Z"
    }
   },
   "outputs": [],
   "source": [
    "a = [1,-2,3,-4,5,-6]\n",
    "\n",
    "print (sorted(a))\n",
    "\n",
    "print (sorted(a, key=lambda x:abs(x)))"
   ]
  },
  {
   "cell_type": "code",
   "execution_count": null,
   "metadata": {
    "id": "qXSFZApvj4eY",
    "ExecuteTime": {
     "start_time": "2023-09-21T10:34:38.671959Z"
    }
   },
   "outputs": [],
   "source": [
    "def add1(x):\n",
    "    x+=1\n",
    "    return x\n",
    "\n",
    "y = 10\n",
    "z = add1(y)\n",
    "print( y,z )"
   ]
  },
  {
   "cell_type": "code",
   "execution_count": null,
   "metadata": {
    "id": "kmWcrV5xj4eY",
    "ExecuteTime": {
     "start_time": "2023-09-21T10:34:38.674612Z"
    }
   },
   "outputs": [],
   "source": [
    "def add1(x):\n",
    "    for i in range(len(x)):\n",
    "        x[i] = x[i]+1\n",
    "    return x\n",
    "\n",
    "\n",
    "y = [1,2,3,4,5]\n",
    "z = add1(y)\n",
    "print( y,z )"
   ]
  },
  {
   "cell_type": "code",
   "execution_count": null,
   "metadata": {
    "id": "LZXKmyepj4eY",
    "ExecuteTime": {
     "start_time": "2023-09-21T10:34:38.677473Z"
    }
   },
   "outputs": [],
   "source": [
    "def myfun (a, b=3, c = 77):\n",
    "    print (a,b,c)\n",
    "\n",
    "myfun(10)\n",
    "myfun(10,20)\n",
    "myfun(10, c=99)"
   ]
  },
  {
   "cell_type": "markdown",
   "metadata": {
    "id": "6dVtpBjbj4eY"
   },
   "source": [
    "# JSON\n",
    "\n",
    "JavaScript Object Notation, very popular in Web APIs."
   ]
  },
  {
   "cell_type": "code",
   "execution_count": null,
   "metadata": {
    "id": "GizT0iAQj4eY",
    "ExecuteTime": {
     "start_time": "2023-09-21T10:34:38.680047Z"
    }
   },
   "outputs": [],
   "source": [
    "import json\n",
    "\n",
    "a  = {\"key\": 10}\n",
    "\n",
    "# to string\n",
    "s = json.dumps(a)\n",
    "\n",
    "print (type(s))\n",
    "print (s)\n"
   ]
  },
  {
   "cell_type": "code",
   "execution_count": null,
   "metadata": {
    "id": "JMsvVpPwj4eZ",
    "ExecuteTime": {
     "start_time": "2023-09-21T10:34:38.682491Z"
    }
   },
   "outputs": [],
   "source": [
    "a = json.loads('{\"key\": 10}')\n",
    "\n",
    "print (type(a))\n",
    "print (a['key'])"
   ]
  },
  {
   "cell_type": "markdown",
   "metadata": {
    "id": "trb1L2Aij4eZ"
   },
   "source": [
    "# Files\n",
    "\n",
    "Check how to iterate through a file, and how to run shell commands in Jupyter."
   ]
  },
  {
   "cell_type": "code",
   "execution_count": null,
   "metadata": {
    "id": "iKqISZ5Mj4eZ",
    "ExecuteTime": {
     "start_time": "2023-09-21T10:34:38.685369Z"
    }
   },
   "outputs": [],
   "source": [
    "out_file = open(\"test.txt\", \"w\")\n",
    "out_file.write(\"line 1\\n\")\n",
    "out_file.write(\"line 2\\n\")\n",
    "out_file.close()"
   ]
  },
  {
   "cell_type": "code",
   "execution_count": null,
   "metadata": {
    "id": "YTkZz5wZj4eZ",
    "ExecuteTime": {
     "start_time": "2023-09-21T10:34:38.688616Z"
    }
   },
   "outputs": [],
   "source": [
    "!head test.txt"
   ]
  },
  {
   "cell_type": "code",
   "execution_count": null,
   "metadata": {
    "id": "nU9Rs3Xsj4eZ",
    "ExecuteTime": {
     "start_time": "2023-09-21T10:34:38.691754Z"
    }
   },
   "outputs": [],
   "source": [
    "out_file = open(\"test.txt\", \"w\")\n",
    "print (\"line 11\", file=out_file)\n",
    "print (\"line 22\", file=out_file)\n",
    "out_file.close()"
   ]
  },
  {
   "cell_type": "code",
   "execution_count": null,
   "metadata": {
    "id": "UD0fFPTWj4eZ",
    "ExecuteTime": {
     "start_time": "2023-09-21T10:34:38.694853Z"
    }
   },
   "outputs": [],
   "source": [
    "in_file = open(\"test.txt\", \"r\")\n",
    "line = in_file.readline()\n",
    "print ( line )\n",
    "line = in_file.readline()\n",
    "print ( line )\n",
    "\n",
    "in_file.close()"
   ]
  },
  {
   "cell_type": "code",
   "execution_count": null,
   "metadata": {
    "id": "qZ4ob67-j4eZ",
    "ExecuteTime": {
     "start_time": "2023-09-21T10:34:38.698048Z"
    }
   },
   "outputs": [],
   "source": [
    "with open(\"test.txt\", \"r\") as in_file:\n",
    "    line = in_file.readline()\n",
    "    print ( line )"
   ]
  },
  {
   "cell_type": "code",
   "execution_count": null,
   "metadata": {
    "id": "T29khjIfj4eZ",
    "ExecuteTime": {
     "start_time": "2023-09-21T10:34:38.701435Z"
    }
   },
   "outputs": [],
   "source": [
    "with open(\"test.txt\", \"r\") as in_file:\n",
    "    for line in in_file:\n",
    "        print ( line )"
   ]
  },
  {
   "cell_type": "code",
   "execution_count": null,
   "metadata": {
    "id": "htjCCtNZj4eZ",
    "ExecuteTime": {
     "start_time": "2023-09-21T10:34:38.704004Z"
    }
   },
   "outputs": [],
   "source": [
    "with open(\"test.txt\", \"r\") as in_file:\n",
    "    for line in in_file:\n",
    "        print ( \"**\" + line + \"** \")"
   ]
  },
  {
   "cell_type": "code",
   "execution_count": null,
   "metadata": {
    "id": "WucIFD4ej4eZ",
    "ExecuteTime": {
     "start_time": "2023-09-21T10:34:38.706485Z"
    }
   },
   "outputs": [],
   "source": [
    "with open(\"test.txt\", \"r\") as in_file:\n",
    "    for line in in_file:\n",
    "        print (line, end=\"\")"
   ]
  },
  {
   "cell_type": "markdown",
   "metadata": {
    "id": "SLpDETzaj4eZ"
   },
   "source": [
    "# JSON"
   ]
  },
  {
   "cell_type": "code",
   "execution_count": null,
   "metadata": {
    "id": "GLV4Xe_-j4ea",
    "ExecuteTime": {
     "start_time": "2023-09-21T10:34:38.708646Z"
    }
   },
   "outputs": [],
   "source": [
    "import json\n",
    "\n",
    "a  = {\"key\": 10}\n",
    "\n",
    "# to string\n",
    "with open(\"test.txt\", \"w\") as out_file:\n",
    "    json.dump(a,out_file)\n",
    "\n",
    "!cat test.txt"
   ]
  },
  {
   "cell_type": "code",
   "execution_count": null,
   "metadata": {
    "id": "c-oZZMbhj4ea",
    "ExecuteTime": {
     "start_time": "2023-09-21T10:34:38.710715Z"
    }
   },
   "outputs": [],
   "source": [
    "with open(\"test.txt\", \"r\") as in_file:\n",
    "    b = json.load(in_file)\n",
    "    print (type(b))\n",
    "    print (b)"
   ]
  },
  {
   "cell_type": "code",
   "execution_count": null,
   "metadata": {
    "id": "izQqeL7Nj4ea",
    "ExecuteTime": {
     "start_time": "2023-09-21T10:34:38.714278Z"
    }
   },
   "outputs": [],
   "source": []
  }
 ],
 "metadata": {
  "colab": {
   "provenance": []
  },
  "kernelspec": {
   "display_name": "Python 3.8.5 ('base')",
   "language": "python",
   "name": "python3"
  },
  "language_info": {
   "codemirror_mode": {
    "name": "ipython",
    "version": 3
   },
   "file_extension": ".py",
   "mimetype": "text/x-python",
   "name": "python",
   "nbconvert_exporter": "python",
   "pygments_lexer": "ipython3",
   "version": "3.8.5"
  },
  "latex_envs": {
   "LaTeX_envs_menu_present": true,
   "autoclose": false,
   "autocomplete": true,
   "bibliofile": "biblio.bib",
   "cite_by": "apalike",
   "current_citInitial": 1,
   "eqLabelWithNumbers": true,
   "eqNumInitial": 1,
   "hotkeys": {
    "equation": "Ctrl-E",
    "itemize": "Ctrl-I"
   },
   "labels_anchors": false,
   "latex_user_defs": false,
   "report_style_numbering": false,
   "user_envs_cfg": false
  },
  "vscode": {
   "interpreter": {
    "hash": "e86f0528a1b45e531703c752e90d2c936b2dda6dac6764f4cd4f9141650544b5"
   }
  }
 },
 "nbformat": 4,
 "nbformat_minor": 0
}
